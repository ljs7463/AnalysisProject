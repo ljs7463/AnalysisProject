{
 "cells": [
  {
   "cell_type": "code",
   "execution_count": 1,
   "id": "ec9bdfd5",
   "metadata": {},
   "outputs": [
    {
     "data": {
      "text/plain": [
       "'/Users/jeongseok/Documents/GitHub/AnalysisProject/Public Data/서울시인구데이터'"
      ]
     },
     "execution_count": 1,
     "metadata": {},
     "output_type": "execute_result"
    }
   ],
   "source": [
    "import sys\n",
    "import os\n",
    "os.getcwd()"
   ]
  },
  {
   "cell_type": "code",
   "execution_count": 2,
   "id": "277c7b96",
   "metadata": {},
   "outputs": [],
   "source": [
    "# Load Data\n",
    "import pandas as pd\n",
    "from datetime import datetime\n",
    "\n",
    "# Path\n",
    "path ='/Users/jeongseok/Documents/데이터/서울시생활인구데이터'\n",
    "\n",
    "# Loading\n",
    "seoul = pd.read_csv(f'{path}/서울시 생활인구데이터.csv',index_col=0)\n",
    "mapping = pd.read_csv(f'{path}/행정동 코드 매핑 테이블.csv',index_col=0)"
   ]
  },
  {
   "cell_type": "code",
   "execution_count": 3,
   "id": "e862aa58",
   "metadata": {},
   "outputs": [],
   "source": [
    "# Make New Table and Save\n",
    "def Mapping(seoul, mapping):\n",
    "    \n",
    "    \"\"\"\n",
    "    서울시 생활인구 데이터와 행정동 코드 와 지명이 \n",
    "    \n",
    "    매핑된 테이블을 각각 가공하여 새로운 데이터프레임을 저장하는 함수\n",
    "    \n",
    "    \"\"\"\n",
    "    \n",
    "    \n",
    "    \n",
    "    # 컬럼 에러 처리\n",
    "    seoul = seoul.reset_index()\n",
    "    col_lst = list(seoul.columns)[1:]\n",
    "    col_lst.append('삭제')\n",
    "    seoul.columns = col_lst\n",
    "    new_lst = list(seoul.columns)[:-1]\n",
    "    seoul = seoul[new_lst]\n",
    "    \n",
    "    # 데이터 타입 수정\n",
    "    seoul[['기준일ID', '행정동코드']] = seoul[['기준일ID', '행정동코드']].astype(str)\n",
    "    seoul['기준일ID'] = seoul['기준일ID'].apply(lambda x: datetime.strptime(x,'%Y%m%d'))\n",
    "    \n",
    "    # 지명 풀네임 컬럼 만들기\n",
    "    mapping['sigunguName'] = mapping['sigunguName'].fillna('')\n",
    "    mapping['hdongName'] = mapping['hdongName'].fillna('')\n",
    "    mapping['totalName'] = mapping['sidoName'] +' '+ mapping['sigunguName'] + ' ' + mapping['hdongName']\n",
    "    \n",
    "    # 타입 변경\n",
    "    mapping[['hdongCode', 'sigunguCode']] = mapping[['hdongCode', 'sigunguCode']].astype(str)\n",
    "    \n",
    "    # 서울시 데이터와 행정동 코드 맞추기\n",
    "    mapping['hdongCode'] = mapping['hdongCode'].apply(lambda x: x[:-2])\n",
    "\n",
    "    # 서울시데이터 최근날짜로 데이터 줄이기\n",
    "    seoul = seoul[seoul['기준일ID']=='2022-03-31']\n",
    "    seoul = seoul.reset_index(drop =True)\n",
    "    \n",
    "    # 필요한 컬럼만 분리\n",
    "    mapping = mapping[['hdongCode','totalName']]\n",
    "    \n",
    "    # 데이터 합치기\n",
    "    data = pd.merge(seoul, mapping, left_on ='행정동코드', right_on = 'hdongCode', how ='left' )\n",
    "    \n",
    "    # 컬럼재배치\n",
    "    col1 = data.columns[0:2].to_list()\n",
    "    col2 = data.columns[-2:].to_list()\n",
    "    col3 = data.columns[3:-2].to_list()\n",
    "    new_cols = col1+col2+col3\n",
    "    data = data[new_cols]\n",
    "\n",
    "    # 컬럼명 변경\n",
    "    columns = {'hdongCode':'행정동코드', 'totalName':'지명'}\n",
    "    data = data.rename(columns = columns)\n",
    "    \n",
    "    # 새로만든 데이터 저장\n",
    "    data.to_csv(f'{path}/서울시 생활인구 매핑.csv')\n",
    "    \n",
    "\n",
    "Mapping(seoul, mapping)"
   ]
  }
 ],
 "metadata": {
  "kernelspec": {
   "display_name": "Python 3 (ipykernel)",
   "language": "python",
   "name": "python3"
  },
  "language_info": {
   "codemirror_mode": {
    "name": "ipython",
    "version": 3
   },
   "file_extension": ".py",
   "mimetype": "text/x-python",
   "name": "python",
   "nbconvert_exporter": "python",
   "pygments_lexer": "ipython3",
   "version": "3.8.2"
  }
 },
 "nbformat": 4,
 "nbformat_minor": 5
}
