{
 "cells": [
  {
   "cell_type": "code",
   "execution_count": 2,
   "id": "a1c31191",
   "metadata": {},
   "outputs": [],
   "source": [
    "# 경로설정\n",
    "import sys\n",
    "path = '/Users/jeongseok/Documents/GitHub/AnalysisProject/'\n",
    "sys.path.append(path)"
   ]
  },
  {
   "cell_type": "code",
   "execution_count": 3,
   "id": "18e273e7",
   "metadata": {},
   "outputs": [],
   "source": [
    "# 서울시 생활인구데이터 전처리 함수 적용\n",
    "from src.public import seoul_active_pop\n",
    "seoul_active_pop()"
   ]
  }
 ],
 "metadata": {
  "kernelspec": {
   "display_name": "Python 3 (ipykernel)",
   "language": "python",
   "name": "python3"
  },
  "language_info": {
   "codemirror_mode": {
    "name": "ipython",
    "version": 3
   },
   "file_extension": ".py",
   "mimetype": "text/x-python",
   "name": "python",
   "nbconvert_exporter": "python",
   "pygments_lexer": "ipython3",
   "version": "3.8.2"
  }
 },
 "nbformat": 4,
 "nbformat_minor": 5
}
