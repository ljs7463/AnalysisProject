{
  "nbformat": 4,
  "nbformat_minor": 0,
  "metadata": {
    "colab": {
      "name": "Telco Customer Churn.ipynb",
      "provenance": [],
      "include_colab_link": true
    },
    "kernelspec": {
      "name": "python3",
      "display_name": "Python 3"
    }
  },
  "cells": [
    {
      "cell_type": "markdown",
      "metadata": {
        "id": "view-in-github",
        "colab_type": "text"
      },
      "source": [
        "<a href=\"https://colab.research.google.com/github/ljs7463/AnalysisProject/blob/master/%EA%B0%9C%EC%9D%B8%ED%94%84%EB%A1%9C%EC%A0%9D%ED%8A%B8/1.%20Customer%20Churn/Telco_Customer_Churn.ipynb\" target=\"_parent\"><img src=\"https://colab.research.google.com/assets/colab-badge.svg\" alt=\"Open In Colab\"/></a>"
      ]
    },
    {
      "cell_type": "code",
      "metadata": {
        "id": "d1ZAbvEZRqiq"
      },
      "source": [
        "# !pip install matplotlib -U\n",
        "# import matplotlib as plt\n",
        "# plt.__version__"
      ],
      "execution_count": 1,
      "outputs": []
    },
    {
      "cell_type": "markdown",
      "metadata": {
        "id": "3AIiOHZU_LIP"
      },
      "source": [
        "# Telco Customer Churn 고객 유지를 위한 이탈 고객 분석및 해결방안 탐색(나아가 예측모델 만들기)\n",
        "(Telco Custome Churn EDA)"
      ]
    },
    {
      "cell_type": "markdown",
      "metadata": {
        "id": "_DW0G7Dynfry"
      },
      "source": [
        "데이터 선정이유 : 모든회사들은 고객을 가지고 있다. 또한 이런고객들을 새로 유입하는것도 중요하지만, 이미 들어온 고객들을 유지하고 함께 성장하는것또한 매우 중요하다. 이를위해 이탈하는 고객들의 특징을 분석하여, 어떻게 해결할 수 있을지 숨겨진 데이터를 찾으며, 분석해보고 해결해 보고자 한다."
      ]
    },
    {
      "cell_type": "markdown",
      "metadata": {
        "id": "oEzb_UxX8p4c"
      },
      "source": [
        "[ 컬 럼 소 개 ]\n",
        "\n",
        "---\n",
        "\n",
        "[고객정보]\n",
        "\n",
        "customerID : 고객 id\n",
        "\n",
        "gender : 성별\n",
        "\n",
        "SeniorCitizen : 고령자(yes:1, no:0)\n",
        "\n",
        "Partner : 파트너\n",
        "\n",
        "Dependents : 부양 가족\n",
        "\n",
        "tenure : 보유 개월 수(고객이 머물렀던 개월 수)\n",
        "\n",
        "---\n",
        "\n",
        "[서비스]\n",
        "\n",
        "PhoneService : 휴대폰 서비스\n",
        "\n",
        "MultipleLines : 여러회선 여부( 예, 아니오, 전화 서비스 없음)\n",
        "\n",
        "InternetService : 인터넷 서비스(인터넷 서비스 제공없체: DSL, 광섬유, 아니요)\n",
        "\n",
        "OnlineSecurity : 온라인 보안 여부(예, 아니오, 전화서비스 없음)\n",
        "\n",
        "OnlineBackup : 온라인 백업 여부(예, 아니오, 전화서비스 없음)\n",
        "\n",
        "DeviceProtection : 장치보호 여부(예, 아니요, 인터넷 서비스 없음)\n",
        "\n",
        "TechSupport : 기술지원 여부(예, 아니요, 인터넷 서비스 없음)\n",
        "\n",
        "StreamingTV : StreamingTV보유 여부(예, 아니요, 인터넷 서비스 없음)\n",
        "\n",
        "StreamingMovies : 스트리밍 영화 보유 여부(예, 아니요, 인터넷 서비스 없음)\n",
        "\n",
        "---\n",
        "[계약 및 요금]\n",
        "\n",
        "Contract : 계약(계약기간 월간, 1년, 2년)\n",
        "\n",
        "PaperlessBilling : 종이없는 결제(예, 아니요)\n",
        "\n",
        "PaymentMethod : 고객의 결제 수단 (전자 수표, 우편 수표, 은행 송금 (자동), 신용 카드 (자동))\n",
        "\n",
        "MonthlyCharges : 월간 요금\n",
        "\n",
        "TotalCharges : 총 요금\n",
        "\n",
        "---\n",
        "\n",
        "Churn : 지난달 퇴사한 고객"
      ]
    },
    {
      "cell_type": "code",
      "metadata": {
        "id": "6uevY6V2bgI6"
      },
      "source": [
        "# 필요한 라이브러리 불러오기\n",
        "import pandas as pd\n",
        "import matplotlib.pyplot as plt\n",
        "import seaborn as sns\n",
        "import numpy as np\n",
        "from sklearn.preprocessing import LabelEncoder\n",
        "from sklearn.preprocessing import MinMaxScaler\n"
      ],
      "execution_count": 2,
      "outputs": []
    },
    {
      "cell_type": "code",
      "metadata": {
        "id": "E3lfNNOrbuxl"
      },
      "source": [
        "# 데이터 불러오기 \n",
        "data = pd.read_csv('/content/Raw_data.csv')"
      ],
      "execution_count": 3,
      "outputs": []
    },
    {
      "cell_type": "markdown",
      "metadata": {
        "id": "2fCbPaOmG7Ln"
      },
      "source": [
        "# 데이터 확인 및 EDA"
      ]
    },
    {
      "cell_type": "code",
      "metadata": {
        "colab": {
          "base_uri": "https://localhost:8080/",
          "height": 592
        },
        "id": "cd4vIC3Gb2-Z",
        "outputId": "3213b38b-54c1-4b35-d46b-a8682ba07b9e"
      },
      "source": [
        "data"
      ],
      "execution_count": 4,
      "outputs": [
        {
          "output_type": "execute_result",
          "data": {
            "text/html": [
              "<div>\n",
              "<style scoped>\n",
              "    .dataframe tbody tr th:only-of-type {\n",
              "        vertical-align: middle;\n",
              "    }\n",
              "\n",
              "    .dataframe tbody tr th {\n",
              "        vertical-align: top;\n",
              "    }\n",
              "\n",
              "    .dataframe thead th {\n",
              "        text-align: right;\n",
              "    }\n",
              "</style>\n",
              "<table border=\"1\" class=\"dataframe\">\n",
              "  <thead>\n",
              "    <tr style=\"text-align: right;\">\n",
              "      <th></th>\n",
              "      <th>customerID</th>\n",
              "      <th>gender</th>\n",
              "      <th>SeniorCitizen</th>\n",
              "      <th>Partner</th>\n",
              "      <th>Dependents</th>\n",
              "      <th>tenure</th>\n",
              "      <th>PhoneService</th>\n",
              "      <th>MultipleLines</th>\n",
              "      <th>InternetService</th>\n",
              "      <th>OnlineSecurity</th>\n",
              "      <th>OnlineBackup</th>\n",
              "      <th>DeviceProtection</th>\n",
              "      <th>TechSupport</th>\n",
              "      <th>StreamingTV</th>\n",
              "      <th>StreamingMovies</th>\n",
              "      <th>Contract</th>\n",
              "      <th>PaperlessBilling</th>\n",
              "      <th>PaymentMethod</th>\n",
              "      <th>MonthlyCharges</th>\n",
              "      <th>TotalCharges</th>\n",
              "      <th>Churn</th>\n",
              "    </tr>\n",
              "  </thead>\n",
              "  <tbody>\n",
              "    <tr>\n",
              "      <th>0</th>\n",
              "      <td>7590-VHVEG</td>\n",
              "      <td>Female</td>\n",
              "      <td>0</td>\n",
              "      <td>Yes</td>\n",
              "      <td>No</td>\n",
              "      <td>1</td>\n",
              "      <td>No</td>\n",
              "      <td>No phone service</td>\n",
              "      <td>DSL</td>\n",
              "      <td>No</td>\n",
              "      <td>Yes</td>\n",
              "      <td>No</td>\n",
              "      <td>No</td>\n",
              "      <td>No</td>\n",
              "      <td>No</td>\n",
              "      <td>Month-to-month</td>\n",
              "      <td>Yes</td>\n",
              "      <td>Electronic check</td>\n",
              "      <td>29.85</td>\n",
              "      <td>29.85</td>\n",
              "      <td>No</td>\n",
              "    </tr>\n",
              "    <tr>\n",
              "      <th>1</th>\n",
              "      <td>5575-GNVDE</td>\n",
              "      <td>Male</td>\n",
              "      <td>0</td>\n",
              "      <td>No</td>\n",
              "      <td>No</td>\n",
              "      <td>34</td>\n",
              "      <td>Yes</td>\n",
              "      <td>No</td>\n",
              "      <td>DSL</td>\n",
              "      <td>Yes</td>\n",
              "      <td>No</td>\n",
              "      <td>Yes</td>\n",
              "      <td>No</td>\n",
              "      <td>No</td>\n",
              "      <td>No</td>\n",
              "      <td>One year</td>\n",
              "      <td>No</td>\n",
              "      <td>Mailed check</td>\n",
              "      <td>56.95</td>\n",
              "      <td>1889.5</td>\n",
              "      <td>No</td>\n",
              "    </tr>\n",
              "    <tr>\n",
              "      <th>2</th>\n",
              "      <td>3668-QPYBK</td>\n",
              "      <td>Male</td>\n",
              "      <td>0</td>\n",
              "      <td>No</td>\n",
              "      <td>No</td>\n",
              "      <td>2</td>\n",
              "      <td>Yes</td>\n",
              "      <td>No</td>\n",
              "      <td>DSL</td>\n",
              "      <td>Yes</td>\n",
              "      <td>Yes</td>\n",
              "      <td>No</td>\n",
              "      <td>No</td>\n",
              "      <td>No</td>\n",
              "      <td>No</td>\n",
              "      <td>Month-to-month</td>\n",
              "      <td>Yes</td>\n",
              "      <td>Mailed check</td>\n",
              "      <td>53.85</td>\n",
              "      <td>108.15</td>\n",
              "      <td>Yes</td>\n",
              "    </tr>\n",
              "    <tr>\n",
              "      <th>3</th>\n",
              "      <td>7795-CFOCW</td>\n",
              "      <td>Male</td>\n",
              "      <td>0</td>\n",
              "      <td>No</td>\n",
              "      <td>No</td>\n",
              "      <td>45</td>\n",
              "      <td>No</td>\n",
              "      <td>No phone service</td>\n",
              "      <td>DSL</td>\n",
              "      <td>Yes</td>\n",
              "      <td>No</td>\n",
              "      <td>Yes</td>\n",
              "      <td>Yes</td>\n",
              "      <td>No</td>\n",
              "      <td>No</td>\n",
              "      <td>One year</td>\n",
              "      <td>No</td>\n",
              "      <td>Bank transfer (automatic)</td>\n",
              "      <td>42.30</td>\n",
              "      <td>1840.75</td>\n",
              "      <td>No</td>\n",
              "    </tr>\n",
              "    <tr>\n",
              "      <th>4</th>\n",
              "      <td>9237-HQITU</td>\n",
              "      <td>Female</td>\n",
              "      <td>0</td>\n",
              "      <td>No</td>\n",
              "      <td>No</td>\n",
              "      <td>2</td>\n",
              "      <td>Yes</td>\n",
              "      <td>No</td>\n",
              "      <td>Fiber optic</td>\n",
              "      <td>No</td>\n",
              "      <td>No</td>\n",
              "      <td>No</td>\n",
              "      <td>No</td>\n",
              "      <td>No</td>\n",
              "      <td>No</td>\n",
              "      <td>Month-to-month</td>\n",
              "      <td>Yes</td>\n",
              "      <td>Electronic check</td>\n",
              "      <td>70.70</td>\n",
              "      <td>151.65</td>\n",
              "      <td>Yes</td>\n",
              "    </tr>\n",
              "    <tr>\n",
              "      <th>...</th>\n",
              "      <td>...</td>\n",
              "      <td>...</td>\n",
              "      <td>...</td>\n",
              "      <td>...</td>\n",
              "      <td>...</td>\n",
              "      <td>...</td>\n",
              "      <td>...</td>\n",
              "      <td>...</td>\n",
              "      <td>...</td>\n",
              "      <td>...</td>\n",
              "      <td>...</td>\n",
              "      <td>...</td>\n",
              "      <td>...</td>\n",
              "      <td>...</td>\n",
              "      <td>...</td>\n",
              "      <td>...</td>\n",
              "      <td>...</td>\n",
              "      <td>...</td>\n",
              "      <td>...</td>\n",
              "      <td>...</td>\n",
              "      <td>...</td>\n",
              "    </tr>\n",
              "    <tr>\n",
              "      <th>7038</th>\n",
              "      <td>6840-RESVB</td>\n",
              "      <td>Male</td>\n",
              "      <td>0</td>\n",
              "      <td>Yes</td>\n",
              "      <td>Yes</td>\n",
              "      <td>24</td>\n",
              "      <td>Yes</td>\n",
              "      <td>Yes</td>\n",
              "      <td>DSL</td>\n",
              "      <td>Yes</td>\n",
              "      <td>No</td>\n",
              "      <td>Yes</td>\n",
              "      <td>Yes</td>\n",
              "      <td>Yes</td>\n",
              "      <td>Yes</td>\n",
              "      <td>One year</td>\n",
              "      <td>Yes</td>\n",
              "      <td>Mailed check</td>\n",
              "      <td>84.80</td>\n",
              "      <td>1990.5</td>\n",
              "      <td>No</td>\n",
              "    </tr>\n",
              "    <tr>\n",
              "      <th>7039</th>\n",
              "      <td>2234-XADUH</td>\n",
              "      <td>Female</td>\n",
              "      <td>0</td>\n",
              "      <td>Yes</td>\n",
              "      <td>Yes</td>\n",
              "      <td>72</td>\n",
              "      <td>Yes</td>\n",
              "      <td>Yes</td>\n",
              "      <td>Fiber optic</td>\n",
              "      <td>No</td>\n",
              "      <td>Yes</td>\n",
              "      <td>Yes</td>\n",
              "      <td>No</td>\n",
              "      <td>Yes</td>\n",
              "      <td>Yes</td>\n",
              "      <td>One year</td>\n",
              "      <td>Yes</td>\n",
              "      <td>Credit card (automatic)</td>\n",
              "      <td>103.20</td>\n",
              "      <td>7362.9</td>\n",
              "      <td>No</td>\n",
              "    </tr>\n",
              "    <tr>\n",
              "      <th>7040</th>\n",
              "      <td>4801-JZAZL</td>\n",
              "      <td>Female</td>\n",
              "      <td>0</td>\n",
              "      <td>Yes</td>\n",
              "      <td>Yes</td>\n",
              "      <td>11</td>\n",
              "      <td>No</td>\n",
              "      <td>No phone service</td>\n",
              "      <td>DSL</td>\n",
              "      <td>Yes</td>\n",
              "      <td>No</td>\n",
              "      <td>No</td>\n",
              "      <td>No</td>\n",
              "      <td>No</td>\n",
              "      <td>No</td>\n",
              "      <td>Month-to-month</td>\n",
              "      <td>Yes</td>\n",
              "      <td>Electronic check</td>\n",
              "      <td>29.60</td>\n",
              "      <td>346.45</td>\n",
              "      <td>No</td>\n",
              "    </tr>\n",
              "    <tr>\n",
              "      <th>7041</th>\n",
              "      <td>8361-LTMKD</td>\n",
              "      <td>Male</td>\n",
              "      <td>1</td>\n",
              "      <td>Yes</td>\n",
              "      <td>No</td>\n",
              "      <td>4</td>\n",
              "      <td>Yes</td>\n",
              "      <td>Yes</td>\n",
              "      <td>Fiber optic</td>\n",
              "      <td>No</td>\n",
              "      <td>No</td>\n",
              "      <td>No</td>\n",
              "      <td>No</td>\n",
              "      <td>No</td>\n",
              "      <td>No</td>\n",
              "      <td>Month-to-month</td>\n",
              "      <td>Yes</td>\n",
              "      <td>Mailed check</td>\n",
              "      <td>74.40</td>\n",
              "      <td>306.6</td>\n",
              "      <td>Yes</td>\n",
              "    </tr>\n",
              "    <tr>\n",
              "      <th>7042</th>\n",
              "      <td>3186-AJIEK</td>\n",
              "      <td>Male</td>\n",
              "      <td>0</td>\n",
              "      <td>No</td>\n",
              "      <td>No</td>\n",
              "      <td>66</td>\n",
              "      <td>Yes</td>\n",
              "      <td>No</td>\n",
              "      <td>Fiber optic</td>\n",
              "      <td>Yes</td>\n",
              "      <td>No</td>\n",
              "      <td>Yes</td>\n",
              "      <td>Yes</td>\n",
              "      <td>Yes</td>\n",
              "      <td>Yes</td>\n",
              "      <td>Two year</td>\n",
              "      <td>Yes</td>\n",
              "      <td>Bank transfer (automatic)</td>\n",
              "      <td>105.65</td>\n",
              "      <td>6844.5</td>\n",
              "      <td>No</td>\n",
              "    </tr>\n",
              "  </tbody>\n",
              "</table>\n",
              "<p>7043 rows × 21 columns</p>\n",
              "</div>"
            ],
            "text/plain": [
              "      customerID  gender  SeniorCitizen  ... MonthlyCharges TotalCharges  Churn\n",
              "0     7590-VHVEG  Female              0  ...          29.85        29.85     No\n",
              "1     5575-GNVDE    Male              0  ...          56.95       1889.5     No\n",
              "2     3668-QPYBK    Male              0  ...          53.85       108.15    Yes\n",
              "3     7795-CFOCW    Male              0  ...          42.30      1840.75     No\n",
              "4     9237-HQITU  Female              0  ...          70.70       151.65    Yes\n",
              "...          ...     ...            ...  ...            ...          ...    ...\n",
              "7038  6840-RESVB    Male              0  ...          84.80       1990.5     No\n",
              "7039  2234-XADUH  Female              0  ...         103.20       7362.9     No\n",
              "7040  4801-JZAZL  Female              0  ...          29.60       346.45     No\n",
              "7041  8361-LTMKD    Male              1  ...          74.40        306.6    Yes\n",
              "7042  3186-AJIEK    Male              0  ...         105.65       6844.5     No\n",
              "\n",
              "[7043 rows x 21 columns]"
            ]
          },
          "metadata": {},
          "execution_count": 4
        }
      ]
    },
    {
      "cell_type": "code",
      "metadata": {
        "colab": {
          "base_uri": "https://localhost:8080/"
        },
        "id": "1l4o0kCRHGWz",
        "outputId": "6b1e58df-66f9-4dd6-9fe4-8a8a71fd4963"
      },
      "source": [
        "data.info()"
      ],
      "execution_count": 5,
      "outputs": [
        {
          "output_type": "stream",
          "name": "stdout",
          "text": [
            "<class 'pandas.core.frame.DataFrame'>\n",
            "RangeIndex: 7043 entries, 0 to 7042\n",
            "Data columns (total 21 columns):\n",
            " #   Column            Non-Null Count  Dtype  \n",
            "---  ------            --------------  -----  \n",
            " 0   customerID        7043 non-null   object \n",
            " 1   gender            7043 non-null   object \n",
            " 2   SeniorCitizen     7043 non-null   int64  \n",
            " 3   Partner           7043 non-null   object \n",
            " 4   Dependents        7043 non-null   object \n",
            " 5   tenure            7043 non-null   int64  \n",
            " 6   PhoneService      7043 non-null   object \n",
            " 7   MultipleLines     7043 non-null   object \n",
            " 8   InternetService   7043 non-null   object \n",
            " 9   OnlineSecurity    7043 non-null   object \n",
            " 10  OnlineBackup      7043 non-null   object \n",
            " 11  DeviceProtection  7043 non-null   object \n",
            " 12  TechSupport       7043 non-null   object \n",
            " 13  StreamingTV       7043 non-null   object \n",
            " 14  StreamingMovies   7043 non-null   object \n",
            " 15  Contract          7043 non-null   object \n",
            " 16  PaperlessBilling  7043 non-null   object \n",
            " 17  PaymentMethod     7043 non-null   object \n",
            " 18  MonthlyCharges    7043 non-null   float64\n",
            " 19  TotalCharges      7043 non-null   object \n",
            " 20  Churn             7043 non-null   object \n",
            "dtypes: float64(1), int64(2), object(18)\n",
            "memory usage: 1.1+ MB\n"
          ]
        }
      ]
    },
    {
      "cell_type": "code",
      "metadata": {
        "colab": {
          "base_uri": "https://localhost:8080/"
        },
        "id": "3C4RTfIQG_PD",
        "outputId": "8e67c086-7d6b-46c1-b759-799535c4450a"
      },
      "source": [
        "data.isnull().sum()"
      ],
      "execution_count": 6,
      "outputs": [
        {
          "output_type": "execute_result",
          "data": {
            "text/plain": [
              "customerID          0\n",
              "gender              0\n",
              "SeniorCitizen       0\n",
              "Partner             0\n",
              "Dependents          0\n",
              "tenure              0\n",
              "PhoneService        0\n",
              "MultipleLines       0\n",
              "InternetService     0\n",
              "OnlineSecurity      0\n",
              "OnlineBackup        0\n",
              "DeviceProtection    0\n",
              "TechSupport         0\n",
              "StreamingTV         0\n",
              "StreamingMovies     0\n",
              "Contract            0\n",
              "PaperlessBilling    0\n",
              "PaymentMethod       0\n",
              "MonthlyCharges      0\n",
              "TotalCharges        0\n",
              "Churn               0\n",
              "dtype: int64"
            ]
          },
          "metadata": {},
          "execution_count": 6
        }
      ]
    },
    {
      "cell_type": "markdown",
      "metadata": {
        "id": "b0amGITja1nA"
      },
      "source": [
        "결측값이 없고, 7043개의 데이터가 존재한다."
      ]
    },
    {
      "cell_type": "markdown",
      "metadata": {
        "id": "oFcX12CnU0Ji"
      },
      "source": [
        "데이터 타입 일부 변경(결측값은 나중에 다루기로 한다.)"
      ]
    },
    {
      "cell_type": "code",
      "metadata": {
        "colab": {
          "base_uri": "https://localhost:8080/"
        },
        "id": "2gO_orKuUwVe",
        "outputId": "381d8f6d-1285-4abb-f561-71e08a0ab452"
      },
      "source": [
        "# object타입을 numeric타입으로 변경\n",
        "data['TotalCharges'] = pd.to_numeric(data['TotalCharges'].replace(' ',''))\n",
        "data['TotalCharges']"
      ],
      "execution_count": 7,
      "outputs": [
        {
          "output_type": "execute_result",
          "data": {
            "text/plain": [
              "0         29.85\n",
              "1       1889.50\n",
              "2        108.15\n",
              "3       1840.75\n",
              "4        151.65\n",
              "         ...   \n",
              "7038    1990.50\n",
              "7039    7362.90\n",
              "7040     346.45\n",
              "7041     306.60\n",
              "7042    6844.50\n",
              "Name: TotalCharges, Length: 7043, dtype: float64"
            ]
          },
          "metadata": {},
          "execution_count": 7
        }
      ]
    },
    {
      "cell_type": "code",
      "metadata": {
        "colab": {
          "base_uri": "https://localhost:8080/",
          "height": 297
        },
        "id": "SwbQ43odHI77",
        "outputId": "b34bf53b-7e17-410d-bed5-9e6f6e435811"
      },
      "source": [
        "data.describe()"
      ],
      "execution_count": 8,
      "outputs": [
        {
          "output_type": "execute_result",
          "data": {
            "text/html": [
              "<div>\n",
              "<style scoped>\n",
              "    .dataframe tbody tr th:only-of-type {\n",
              "        vertical-align: middle;\n",
              "    }\n",
              "\n",
              "    .dataframe tbody tr th {\n",
              "        vertical-align: top;\n",
              "    }\n",
              "\n",
              "    .dataframe thead th {\n",
              "        text-align: right;\n",
              "    }\n",
              "</style>\n",
              "<table border=\"1\" class=\"dataframe\">\n",
              "  <thead>\n",
              "    <tr style=\"text-align: right;\">\n",
              "      <th></th>\n",
              "      <th>SeniorCitizen</th>\n",
              "      <th>tenure</th>\n",
              "      <th>MonthlyCharges</th>\n",
              "      <th>TotalCharges</th>\n",
              "    </tr>\n",
              "  </thead>\n",
              "  <tbody>\n",
              "    <tr>\n",
              "      <th>count</th>\n",
              "      <td>7043.000000</td>\n",
              "      <td>7043.000000</td>\n",
              "      <td>7043.000000</td>\n",
              "      <td>7032.000000</td>\n",
              "    </tr>\n",
              "    <tr>\n",
              "      <th>mean</th>\n",
              "      <td>0.162147</td>\n",
              "      <td>32.371149</td>\n",
              "      <td>64.761692</td>\n",
              "      <td>2283.300441</td>\n",
              "    </tr>\n",
              "    <tr>\n",
              "      <th>std</th>\n",
              "      <td>0.368612</td>\n",
              "      <td>24.559481</td>\n",
              "      <td>30.090047</td>\n",
              "      <td>2266.771362</td>\n",
              "    </tr>\n",
              "    <tr>\n",
              "      <th>min</th>\n",
              "      <td>0.000000</td>\n",
              "      <td>0.000000</td>\n",
              "      <td>18.250000</td>\n",
              "      <td>18.800000</td>\n",
              "    </tr>\n",
              "    <tr>\n",
              "      <th>25%</th>\n",
              "      <td>0.000000</td>\n",
              "      <td>9.000000</td>\n",
              "      <td>35.500000</td>\n",
              "      <td>401.450000</td>\n",
              "    </tr>\n",
              "    <tr>\n",
              "      <th>50%</th>\n",
              "      <td>0.000000</td>\n",
              "      <td>29.000000</td>\n",
              "      <td>70.350000</td>\n",
              "      <td>1397.475000</td>\n",
              "    </tr>\n",
              "    <tr>\n",
              "      <th>75%</th>\n",
              "      <td>0.000000</td>\n",
              "      <td>55.000000</td>\n",
              "      <td>89.850000</td>\n",
              "      <td>3794.737500</td>\n",
              "    </tr>\n",
              "    <tr>\n",
              "      <th>max</th>\n",
              "      <td>1.000000</td>\n",
              "      <td>72.000000</td>\n",
              "      <td>118.750000</td>\n",
              "      <td>8684.800000</td>\n",
              "    </tr>\n",
              "  </tbody>\n",
              "</table>\n",
              "</div>"
            ],
            "text/plain": [
              "       SeniorCitizen       tenure  MonthlyCharges  TotalCharges\n",
              "count    7043.000000  7043.000000     7043.000000   7032.000000\n",
              "mean        0.162147    32.371149       64.761692   2283.300441\n",
              "std         0.368612    24.559481       30.090047   2266.771362\n",
              "min         0.000000     0.000000       18.250000     18.800000\n",
              "25%         0.000000     9.000000       35.500000    401.450000\n",
              "50%         0.000000    29.000000       70.350000   1397.475000\n",
              "75%         0.000000    55.000000       89.850000   3794.737500\n",
              "max         1.000000    72.000000      118.750000   8684.800000"
            ]
          },
          "metadata": {},
          "execution_count": 8
        }
      ]
    },
    {
      "cell_type": "markdown",
      "metadata": {
        "id": "FQoxDRrhbbUl"
      },
      "source": [
        "고객아이디는 현재 분석에 있어 중요하지 않으므로 제거해 준다."
      ]
    },
    {
      "cell_type": "code",
      "metadata": {
        "id": "T5XxODQrZyDk",
        "colab": {
          "base_uri": "https://localhost:8080/",
          "height": 575
        },
        "outputId": "d69cdaab-d4cb-41a1-f70a-c169e7a1742d"
      },
      "source": [
        "data = data.iloc[:,1:]\n",
        "data"
      ],
      "execution_count": 9,
      "outputs": [
        {
          "output_type": "execute_result",
          "data": {
            "text/html": [
              "<div>\n",
              "<style scoped>\n",
              "    .dataframe tbody tr th:only-of-type {\n",
              "        vertical-align: middle;\n",
              "    }\n",
              "\n",
              "    .dataframe tbody tr th {\n",
              "        vertical-align: top;\n",
              "    }\n",
              "\n",
              "    .dataframe thead th {\n",
              "        text-align: right;\n",
              "    }\n",
              "</style>\n",
              "<table border=\"1\" class=\"dataframe\">\n",
              "  <thead>\n",
              "    <tr style=\"text-align: right;\">\n",
              "      <th></th>\n",
              "      <th>gender</th>\n",
              "      <th>SeniorCitizen</th>\n",
              "      <th>Partner</th>\n",
              "      <th>Dependents</th>\n",
              "      <th>tenure</th>\n",
              "      <th>PhoneService</th>\n",
              "      <th>MultipleLines</th>\n",
              "      <th>InternetService</th>\n",
              "      <th>OnlineSecurity</th>\n",
              "      <th>OnlineBackup</th>\n",
              "      <th>DeviceProtection</th>\n",
              "      <th>TechSupport</th>\n",
              "      <th>StreamingTV</th>\n",
              "      <th>StreamingMovies</th>\n",
              "      <th>Contract</th>\n",
              "      <th>PaperlessBilling</th>\n",
              "      <th>PaymentMethod</th>\n",
              "      <th>MonthlyCharges</th>\n",
              "      <th>TotalCharges</th>\n",
              "      <th>Churn</th>\n",
              "    </tr>\n",
              "  </thead>\n",
              "  <tbody>\n",
              "    <tr>\n",
              "      <th>0</th>\n",
              "      <td>Female</td>\n",
              "      <td>0</td>\n",
              "      <td>Yes</td>\n",
              "      <td>No</td>\n",
              "      <td>1</td>\n",
              "      <td>No</td>\n",
              "      <td>No phone service</td>\n",
              "      <td>DSL</td>\n",
              "      <td>No</td>\n",
              "      <td>Yes</td>\n",
              "      <td>No</td>\n",
              "      <td>No</td>\n",
              "      <td>No</td>\n",
              "      <td>No</td>\n",
              "      <td>Month-to-month</td>\n",
              "      <td>Yes</td>\n",
              "      <td>Electronic check</td>\n",
              "      <td>29.85</td>\n",
              "      <td>29.85</td>\n",
              "      <td>No</td>\n",
              "    </tr>\n",
              "    <tr>\n",
              "      <th>1</th>\n",
              "      <td>Male</td>\n",
              "      <td>0</td>\n",
              "      <td>No</td>\n",
              "      <td>No</td>\n",
              "      <td>34</td>\n",
              "      <td>Yes</td>\n",
              "      <td>No</td>\n",
              "      <td>DSL</td>\n",
              "      <td>Yes</td>\n",
              "      <td>No</td>\n",
              "      <td>Yes</td>\n",
              "      <td>No</td>\n",
              "      <td>No</td>\n",
              "      <td>No</td>\n",
              "      <td>One year</td>\n",
              "      <td>No</td>\n",
              "      <td>Mailed check</td>\n",
              "      <td>56.95</td>\n",
              "      <td>1889.50</td>\n",
              "      <td>No</td>\n",
              "    </tr>\n",
              "    <tr>\n",
              "      <th>2</th>\n",
              "      <td>Male</td>\n",
              "      <td>0</td>\n",
              "      <td>No</td>\n",
              "      <td>No</td>\n",
              "      <td>2</td>\n",
              "      <td>Yes</td>\n",
              "      <td>No</td>\n",
              "      <td>DSL</td>\n",
              "      <td>Yes</td>\n",
              "      <td>Yes</td>\n",
              "      <td>No</td>\n",
              "      <td>No</td>\n",
              "      <td>No</td>\n",
              "      <td>No</td>\n",
              "      <td>Month-to-month</td>\n",
              "      <td>Yes</td>\n",
              "      <td>Mailed check</td>\n",
              "      <td>53.85</td>\n",
              "      <td>108.15</td>\n",
              "      <td>Yes</td>\n",
              "    </tr>\n",
              "    <tr>\n",
              "      <th>3</th>\n",
              "      <td>Male</td>\n",
              "      <td>0</td>\n",
              "      <td>No</td>\n",
              "      <td>No</td>\n",
              "      <td>45</td>\n",
              "      <td>No</td>\n",
              "      <td>No phone service</td>\n",
              "      <td>DSL</td>\n",
              "      <td>Yes</td>\n",
              "      <td>No</td>\n",
              "      <td>Yes</td>\n",
              "      <td>Yes</td>\n",
              "      <td>No</td>\n",
              "      <td>No</td>\n",
              "      <td>One year</td>\n",
              "      <td>No</td>\n",
              "      <td>Bank transfer (automatic)</td>\n",
              "      <td>42.30</td>\n",
              "      <td>1840.75</td>\n",
              "      <td>No</td>\n",
              "    </tr>\n",
              "    <tr>\n",
              "      <th>4</th>\n",
              "      <td>Female</td>\n",
              "      <td>0</td>\n",
              "      <td>No</td>\n",
              "      <td>No</td>\n",
              "      <td>2</td>\n",
              "      <td>Yes</td>\n",
              "      <td>No</td>\n",
              "      <td>Fiber optic</td>\n",
              "      <td>No</td>\n",
              "      <td>No</td>\n",
              "      <td>No</td>\n",
              "      <td>No</td>\n",
              "      <td>No</td>\n",
              "      <td>No</td>\n",
              "      <td>Month-to-month</td>\n",
              "      <td>Yes</td>\n",
              "      <td>Electronic check</td>\n",
              "      <td>70.70</td>\n",
              "      <td>151.65</td>\n",
              "      <td>Yes</td>\n",
              "    </tr>\n",
              "    <tr>\n",
              "      <th>...</th>\n",
              "      <td>...</td>\n",
              "      <td>...</td>\n",
              "      <td>...</td>\n",
              "      <td>...</td>\n",
              "      <td>...</td>\n",
              "      <td>...</td>\n",
              "      <td>...</td>\n",
              "      <td>...</td>\n",
              "      <td>...</td>\n",
              "      <td>...</td>\n",
              "      <td>...</td>\n",
              "      <td>...</td>\n",
              "      <td>...</td>\n",
              "      <td>...</td>\n",
              "      <td>...</td>\n",
              "      <td>...</td>\n",
              "      <td>...</td>\n",
              "      <td>...</td>\n",
              "      <td>...</td>\n",
              "      <td>...</td>\n",
              "    </tr>\n",
              "    <tr>\n",
              "      <th>7038</th>\n",
              "      <td>Male</td>\n",
              "      <td>0</td>\n",
              "      <td>Yes</td>\n",
              "      <td>Yes</td>\n",
              "      <td>24</td>\n",
              "      <td>Yes</td>\n",
              "      <td>Yes</td>\n",
              "      <td>DSL</td>\n",
              "      <td>Yes</td>\n",
              "      <td>No</td>\n",
              "      <td>Yes</td>\n",
              "      <td>Yes</td>\n",
              "      <td>Yes</td>\n",
              "      <td>Yes</td>\n",
              "      <td>One year</td>\n",
              "      <td>Yes</td>\n",
              "      <td>Mailed check</td>\n",
              "      <td>84.80</td>\n",
              "      <td>1990.50</td>\n",
              "      <td>No</td>\n",
              "    </tr>\n",
              "    <tr>\n",
              "      <th>7039</th>\n",
              "      <td>Female</td>\n",
              "      <td>0</td>\n",
              "      <td>Yes</td>\n",
              "      <td>Yes</td>\n",
              "      <td>72</td>\n",
              "      <td>Yes</td>\n",
              "      <td>Yes</td>\n",
              "      <td>Fiber optic</td>\n",
              "      <td>No</td>\n",
              "      <td>Yes</td>\n",
              "      <td>Yes</td>\n",
              "      <td>No</td>\n",
              "      <td>Yes</td>\n",
              "      <td>Yes</td>\n",
              "      <td>One year</td>\n",
              "      <td>Yes</td>\n",
              "      <td>Credit card (automatic)</td>\n",
              "      <td>103.20</td>\n",
              "      <td>7362.90</td>\n",
              "      <td>No</td>\n",
              "    </tr>\n",
              "    <tr>\n",
              "      <th>7040</th>\n",
              "      <td>Female</td>\n",
              "      <td>0</td>\n",
              "      <td>Yes</td>\n",
              "      <td>Yes</td>\n",
              "      <td>11</td>\n",
              "      <td>No</td>\n",
              "      <td>No phone service</td>\n",
              "      <td>DSL</td>\n",
              "      <td>Yes</td>\n",
              "      <td>No</td>\n",
              "      <td>No</td>\n",
              "      <td>No</td>\n",
              "      <td>No</td>\n",
              "      <td>No</td>\n",
              "      <td>Month-to-month</td>\n",
              "      <td>Yes</td>\n",
              "      <td>Electronic check</td>\n",
              "      <td>29.60</td>\n",
              "      <td>346.45</td>\n",
              "      <td>No</td>\n",
              "    </tr>\n",
              "    <tr>\n",
              "      <th>7041</th>\n",
              "      <td>Male</td>\n",
              "      <td>1</td>\n",
              "      <td>Yes</td>\n",
              "      <td>No</td>\n",
              "      <td>4</td>\n",
              "      <td>Yes</td>\n",
              "      <td>Yes</td>\n",
              "      <td>Fiber optic</td>\n",
              "      <td>No</td>\n",
              "      <td>No</td>\n",
              "      <td>No</td>\n",
              "      <td>No</td>\n",
              "      <td>No</td>\n",
              "      <td>No</td>\n",
              "      <td>Month-to-month</td>\n",
              "      <td>Yes</td>\n",
              "      <td>Mailed check</td>\n",
              "      <td>74.40</td>\n",
              "      <td>306.60</td>\n",
              "      <td>Yes</td>\n",
              "    </tr>\n",
              "    <tr>\n",
              "      <th>7042</th>\n",
              "      <td>Male</td>\n",
              "      <td>0</td>\n",
              "      <td>No</td>\n",
              "      <td>No</td>\n",
              "      <td>66</td>\n",
              "      <td>Yes</td>\n",
              "      <td>No</td>\n",
              "      <td>Fiber optic</td>\n",
              "      <td>Yes</td>\n",
              "      <td>No</td>\n",
              "      <td>Yes</td>\n",
              "      <td>Yes</td>\n",
              "      <td>Yes</td>\n",
              "      <td>Yes</td>\n",
              "      <td>Two year</td>\n",
              "      <td>Yes</td>\n",
              "      <td>Bank transfer (automatic)</td>\n",
              "      <td>105.65</td>\n",
              "      <td>6844.50</td>\n",
              "      <td>No</td>\n",
              "    </tr>\n",
              "  </tbody>\n",
              "</table>\n",
              "<p>7043 rows × 20 columns</p>\n",
              "</div>"
            ],
            "text/plain": [
              "      gender  SeniorCitizen Partner  ... MonthlyCharges  TotalCharges Churn\n",
              "0     Female              0     Yes  ...          29.85         29.85    No\n",
              "1       Male              0      No  ...          56.95       1889.50    No\n",
              "2       Male              0      No  ...          53.85        108.15   Yes\n",
              "3       Male              0      No  ...          42.30       1840.75    No\n",
              "4     Female              0      No  ...          70.70        151.65   Yes\n",
              "...      ...            ...     ...  ...            ...           ...   ...\n",
              "7038    Male              0     Yes  ...          84.80       1990.50    No\n",
              "7039  Female              0     Yes  ...         103.20       7362.90    No\n",
              "7040  Female              0     Yes  ...          29.60        346.45    No\n",
              "7041    Male              1     Yes  ...          74.40        306.60   Yes\n",
              "7042    Male              0      No  ...         105.65       6844.50    No\n",
              "\n",
              "[7043 rows x 20 columns]"
            ]
          },
          "metadata": {},
          "execution_count": 9
        }
      ]
    },
    {
      "cell_type": "code",
      "metadata": {
        "id": "H-HXWe8wqF05"
      },
      "source": [
        "df = data.copy()"
      ],
      "execution_count": 10,
      "outputs": []
    },
    {
      "cell_type": "markdown",
      "metadata": {
        "id": "gefp-prkbg_O"
      },
      "source": [
        "## Numeric데이터를 활용한 이탈고객 특징 확인"
      ]
    },
    {
      "cell_type": "code",
      "metadata": {
        "colab": {
          "base_uri": "https://localhost:8080/",
          "height": 0
        },
        "id": "1w5TD-atTfq5",
        "outputId": "c4de08b7-cd51-4eb8-85bc-3d4501856bbd"
      },
      "source": [
        "# 현재 numerical데이터의 관계 보기\n",
        "sns.pairplot(data, hue = 'Churn', palette='husl', markers = ['*', \"<\"]);"
      ],
      "execution_count": 11,
      "outputs": [
        {
          "output_type": "display_data",
          "data": {
            "image/png": "[encoded data removed]",
            "text/plain": [
              "<Figure size 772x720 with 20 Axes>"
            ]
          },
          "metadata": {
            "needs_background": "light"
          }
        }
      ]
    },
    {
      "cell_type": "markdown",
      "metadata": {
        "id": "Q2PSfg25a2Xe"
      },
      "source": [
        "1. 고령인 고객일수록 이탈할 확률이 높다.\n",
        "2. 가입기간이 짧고 요금이 높은곳에 이탈고객들이 상대적으로 집중되어 있다.\n",
        "3. 가입기간이 짧고 총 요금이 높을 수록 상대적으로 이탈을 많이한다, \n",
        "4. 총 요금이 올라가는것 보다 매달 지불하는 비용이 높을수록 이탈 고객이 훨씬더 많다."
      ]
    },
    {
      "cell_type": "markdown",
      "metadata": {
        "id": "-q3wLxRvEv32"
      },
      "source": [
        "## **가설1)** 단기계약(약정)일수록 이탈할 가능성이 높지 않을까?"
      ]
    },
    {
      "cell_type": "code",
      "metadata": {
        "colab": {
          "base_uri": "https://localhost:8080/",
          "height": 0
        },
        "id": "D1URqhr9DARE",
        "outputId": "ff0579c6-a0f1-4fb1-f21e-8411193e6766"
      },
      "source": [
        "pd.crosstab(data['Contract'], data['Churn'])"
      ],
      "execution_count": 12,
      "outputs": [
        {
          "output_type": "execute_result",
          "data": {
            "text/html": [
              "<div>\n",
              "<style scoped>\n",
              "    .dataframe tbody tr th:only-of-type {\n",
              "        vertical-align: middle;\n",
              "    }\n",
              "\n",
              "    .dataframe tbody tr th {\n",
              "        vertical-align: top;\n",
              "    }\n",
              "\n",
              "    .dataframe thead th {\n",
              "        text-align: right;\n",
              "    }\n",
              "</style>\n",
              "<table border=\"1\" class=\"dataframe\">\n",
              "  <thead>\n",
              "    <tr style=\"text-align: right;\">\n",
              "      <th>Churn</th>\n",
              "      <th>No</th>\n",
              "      <th>Yes</th>\n",
              "    </tr>\n",
              "    <tr>\n",
              "      <th>Contract</th>\n",
              "      <th></th>\n",
              "      <th></th>\n",
              "    </tr>\n",
              "  </thead>\n",
              "  <tbody>\n",
              "    <tr>\n",
              "      <th>Month-to-month</th>\n",
              "      <td>2220</td>\n",
              "      <td>1655</td>\n",
              "    </tr>\n",
              "    <tr>\n",
              "      <th>One year</th>\n",
              "      <td>1307</td>\n",
              "      <td>166</td>\n",
              "    </tr>\n",
              "    <tr>\n",
              "      <th>Two year</th>\n",
              "      <td>1647</td>\n",
              "      <td>48</td>\n",
              "    </tr>\n",
              "  </tbody>\n",
              "</table>\n",
              "</div>"
            ],
            "text/plain": [
              "Churn             No   Yes\n",
              "Contract                  \n",
              "Month-to-month  2220  1655\n",
              "One year        1307   166\n",
              "Two year        1647    48"
            ]
          },
          "metadata": {},
          "execution_count": 12
        }
      ]
    },
    {
      "cell_type": "code",
      "metadata": {
        "id": "uzCDA0p3_SbY",
        "colab": {
          "base_uri": "https://localhost:8080/",
          "height": 0
        },
        "outputId": "671c96ac-bbbe-4045-ca18-a433f7f4c897"
      },
      "source": [
        "# 이탈한고객 테이블 확인해보기\n",
        "data_test1 = data[data['Churn']=='Yes']\n",
        "data_test1"
      ],
      "execution_count": 13,
      "outputs": [
        {
          "output_type": "execute_result",
          "data": {
            "text/html": [
              "<div>\n",
              "<style scoped>\n",
              "    .dataframe tbody tr th:only-of-type {\n",
              "        vertical-align: middle;\n",
              "    }\n",
              "\n",
              "    .dataframe tbody tr th {\n",
              "        vertical-align: top;\n",
              "    }\n",
              "\n",
              "    .dataframe thead th {\n",
              "        text-align: right;\n",
              "    }\n",
              "</style>\n",
              "<table border=\"1\" class=\"dataframe\">\n",
              "  <thead>\n",
              "    <tr style=\"text-align: right;\">\n",
              "      <th></th>\n",
              "      <th>gender</th>\n",
              "      <th>SeniorCitizen</th>\n",
              "      <th>Partner</th>\n",
              "      <th>Dependents</th>\n",
              "      <th>tenure</th>\n",
              "      <th>PhoneService</th>\n",
              "      <th>MultipleLines</th>\n",
              "      <th>InternetService</th>\n",
              "      <th>OnlineSecurity</th>\n",
              "      <th>OnlineBackup</th>\n",
              "      <th>DeviceProtection</th>\n",
              "      <th>TechSupport</th>\n",
              "      <th>StreamingTV</th>\n",
              "      <th>StreamingMovies</th>\n",
              "      <th>Contract</th>\n",
              "      <th>PaperlessBilling</th>\n",
              "      <th>PaymentMethod</th>\n",
              "      <th>MonthlyCharges</th>\n",
              "      <th>TotalCharges</th>\n",
              "      <th>Churn</th>\n",
              "    </tr>\n",
              "  </thead>\n",
              "  <tbody>\n",
              "    <tr>\n",
              "      <th>2</th>\n",
              "      <td>Male</td>\n",
              "      <td>0</td>\n",
              "      <td>No</td>\n",
              "      <td>No</td>\n",
              "      <td>2</td>\n",
              "      <td>Yes</td>\n",
              "      <td>No</td>\n",
              "      <td>DSL</td>\n",
              "      <td>Yes</td>\n",
              "      <td>Yes</td>\n",
              "      <td>No</td>\n",
              "      <td>No</td>\n",
              "      <td>No</td>\n",
              "      <td>No</td>\n",
              "      <td>Month-to-month</td>\n",
              "      <td>Yes</td>\n",
              "      <td>Mailed check</td>\n",
              "      <td>53.85</td>\n",
              "      <td>108.15</td>\n",
              "      <td>Yes</td>\n",
              "    </tr>\n",
              "    <tr>\n",
              "      <th>4</th>\n",
              "      <td>Female</td>\n",
              "      <td>0</td>\n",
              "      <td>No</td>\n",
              "      <td>No</td>\n",
              "      <td>2</td>\n",
              "      <td>Yes</td>\n",
              "      <td>No</td>\n",
              "      <td>Fiber optic</td>\n",
              "      <td>No</td>\n",
              "      <td>No</td>\n",
              "      <td>No</td>\n",
              "      <td>No</td>\n",
              "      <td>No</td>\n",
              "      <td>No</td>\n",
              "      <td>Month-to-month</td>\n",
              "      <td>Yes</td>\n",
              "      <td>Electronic check</td>\n",
              "      <td>70.70</td>\n",
              "      <td>151.65</td>\n",
              "      <td>Yes</td>\n",
              "    </tr>\n",
              "    <tr>\n",
              "      <th>5</th>\n",
              "      <td>Female</td>\n",
              "      <td>0</td>\n",
              "      <td>No</td>\n",
              "      <td>No</td>\n",
              "      <td>8</td>\n",
              "      <td>Yes</td>\n",
              "      <td>Yes</td>\n",
              "      <td>Fiber optic</td>\n",
              "      <td>No</td>\n",
              "      <td>No</td>\n",
              "      <td>Yes</td>\n",
              "      <td>No</td>\n",
              "      <td>Yes</td>\n",
              "      <td>Yes</td>\n",
              "      <td>Month-to-month</td>\n",
              "      <td>Yes</td>\n",
              "      <td>Electronic check</td>\n",
              "      <td>99.65</td>\n",
              "      <td>820.50</td>\n",
              "      <td>Yes</td>\n",
              "    </tr>\n",
              "    <tr>\n",
              "      <th>8</th>\n",
              "      <td>Female</td>\n",
              "      <td>0</td>\n",
              "      <td>Yes</td>\n",
              "      <td>No</td>\n",
              "      <td>28</td>\n",
              "      <td>Yes</td>\n",
              "      <td>Yes</td>\n",
              "      <td>Fiber optic</td>\n",
              "      <td>No</td>\n",
              "      <td>No</td>\n",
              "      <td>Yes</td>\n",
              "      <td>Yes</td>\n",
              "      <td>Yes</td>\n",
              "      <td>Yes</td>\n",
              "      <td>Month-to-month</td>\n",
              "      <td>Yes</td>\n",
              "      <td>Electronic check</td>\n",
              "      <td>104.80</td>\n",
              "      <td>3046.05</td>\n",
              "      <td>Yes</td>\n",
              "    </tr>\n",
              "    <tr>\n",
              "      <th>13</th>\n",
              "      <td>Male</td>\n",
              "      <td>0</td>\n",
              "      <td>No</td>\n",
              "      <td>No</td>\n",
              "      <td>49</td>\n",
              "      <td>Yes</td>\n",
              "      <td>Yes</td>\n",
              "      <td>Fiber optic</td>\n",
              "      <td>No</td>\n",
              "      <td>Yes</td>\n",
              "      <td>Yes</td>\n",
              "      <td>No</td>\n",
              "      <td>Yes</td>\n",
              "      <td>Yes</td>\n",
              "      <td>Month-to-month</td>\n",
              "      <td>Yes</td>\n",
              "      <td>Bank transfer (automatic)</td>\n",
              "      <td>103.70</td>\n",
              "      <td>5036.30</td>\n",
              "      <td>Yes</td>\n",
              "    </tr>\n",
              "    <tr>\n",
              "      <th>...</th>\n",
              "      <td>...</td>\n",
              "      <td>...</td>\n",
              "      <td>...</td>\n",
              "      <td>...</td>\n",
              "      <td>...</td>\n",
              "      <td>...</td>\n",
              "      <td>...</td>\n",
              "      <td>...</td>\n",
              "      <td>...</td>\n",
              "      <td>...</td>\n",
              "      <td>...</td>\n",
              "      <td>...</td>\n",
              "      <td>...</td>\n",
              "      <td>...</td>\n",
              "      <td>...</td>\n",
              "      <td>...</td>\n",
              "      <td>...</td>\n",
              "      <td>...</td>\n",
              "      <td>...</td>\n",
              "      <td>...</td>\n",
              "    </tr>\n",
              "    <tr>\n",
              "      <th>7021</th>\n",
              "      <td>Male</td>\n",
              "      <td>0</td>\n",
              "      <td>No</td>\n",
              "      <td>No</td>\n",
              "      <td>12</td>\n",
              "      <td>Yes</td>\n",
              "      <td>No</td>\n",
              "      <td>DSL</td>\n",
              "      <td>No</td>\n",
              "      <td>No</td>\n",
              "      <td>No</td>\n",
              "      <td>Yes</td>\n",
              "      <td>Yes</td>\n",
              "      <td>No</td>\n",
              "      <td>One year</td>\n",
              "      <td>Yes</td>\n",
              "      <td>Electronic check</td>\n",
              "      <td>59.80</td>\n",
              "      <td>727.80</td>\n",
              "      <td>Yes</td>\n",
              "    </tr>\n",
              "    <tr>\n",
              "      <th>7026</th>\n",
              "      <td>Female</td>\n",
              "      <td>0</td>\n",
              "      <td>No</td>\n",
              "      <td>No</td>\n",
              "      <td>9</td>\n",
              "      <td>Yes</td>\n",
              "      <td>No</td>\n",
              "      <td>DSL</td>\n",
              "      <td>No</td>\n",
              "      <td>No</td>\n",
              "      <td>No</td>\n",
              "      <td>No</td>\n",
              "      <td>No</td>\n",
              "      <td>No</td>\n",
              "      <td>Month-to-month</td>\n",
              "      <td>Yes</td>\n",
              "      <td>Bank transfer (automatic)</td>\n",
              "      <td>44.20</td>\n",
              "      <td>403.35</td>\n",
              "      <td>Yes</td>\n",
              "    </tr>\n",
              "    <tr>\n",
              "      <th>7032</th>\n",
              "      <td>Male</td>\n",
              "      <td>1</td>\n",
              "      <td>No</td>\n",
              "      <td>No</td>\n",
              "      <td>1</td>\n",
              "      <td>Yes</td>\n",
              "      <td>Yes</td>\n",
              "      <td>Fiber optic</td>\n",
              "      <td>No</td>\n",
              "      <td>No</td>\n",
              "      <td>No</td>\n",
              "      <td>No</td>\n",
              "      <td>No</td>\n",
              "      <td>No</td>\n",
              "      <td>Month-to-month</td>\n",
              "      <td>Yes</td>\n",
              "      <td>Electronic check</td>\n",
              "      <td>75.75</td>\n",
              "      <td>75.75</td>\n",
              "      <td>Yes</td>\n",
              "    </tr>\n",
              "    <tr>\n",
              "      <th>7034</th>\n",
              "      <td>Female</td>\n",
              "      <td>0</td>\n",
              "      <td>No</td>\n",
              "      <td>No</td>\n",
              "      <td>67</td>\n",
              "      <td>Yes</td>\n",
              "      <td>Yes</td>\n",
              "      <td>Fiber optic</td>\n",
              "      <td>Yes</td>\n",
              "      <td>Yes</td>\n",
              "      <td>Yes</td>\n",
              "      <td>No</td>\n",
              "      <td>Yes</td>\n",
              "      <td>No</td>\n",
              "      <td>Month-to-month</td>\n",
              "      <td>Yes</td>\n",
              "      <td>Credit card (automatic)</td>\n",
              "      <td>102.95</td>\n",
              "      <td>6886.25</td>\n",
              "      <td>Yes</td>\n",
              "    </tr>\n",
              "    <tr>\n",
              "      <th>7041</th>\n",
              "      <td>Male</td>\n",
              "      <td>1</td>\n",
              "      <td>Yes</td>\n",
              "      <td>No</td>\n",
              "      <td>4</td>\n",
              "      <td>Yes</td>\n",
              "      <td>Yes</td>\n",
              "      <td>Fiber optic</td>\n",
              "      <td>No</td>\n",
              "      <td>No</td>\n",
              "      <td>No</td>\n",
              "      <td>No</td>\n",
              "      <td>No</td>\n",
              "      <td>No</td>\n",
              "      <td>Month-to-month</td>\n",
              "      <td>Yes</td>\n",
              "      <td>Mailed check</td>\n",
              "      <td>74.40</td>\n",
              "      <td>306.60</td>\n",
              "      <td>Yes</td>\n",
              "    </tr>\n",
              "  </tbody>\n",
              "</table>\n",
              "<p>1869 rows × 20 columns</p>\n",
              "</div>"
            ],
            "text/plain": [
              "      gender  SeniorCitizen Partner  ... MonthlyCharges  TotalCharges Churn\n",
              "2       Male              0      No  ...          53.85        108.15   Yes\n",
              "4     Female              0      No  ...          70.70        151.65   Yes\n",
              "5     Female              0      No  ...          99.65        820.50   Yes\n",
              "8     Female              0     Yes  ...         104.80       3046.05   Yes\n",
              "13      Male              0      No  ...         103.70       5036.30   Yes\n",
              "...      ...            ...     ...  ...            ...           ...   ...\n",
              "7021    Male              0      No  ...          59.80        727.80   Yes\n",
              "7026  Female              0      No  ...          44.20        403.35   Yes\n",
              "7032    Male              1      No  ...          75.75         75.75   Yes\n",
              "7034  Female              0      No  ...         102.95       6886.25   Yes\n",
              "7041    Male              1     Yes  ...          74.40        306.60   Yes\n",
              "\n",
              "[1869 rows x 20 columns]"
            ]
          },
          "metadata": {},
          "execution_count": 13
        }
      ]
    },
    {
      "cell_type": "code",
      "metadata": {
        "id": "MRn-e3j5UDDJ",
        "colab": {
          "base_uri": "https://localhost:8080/",
          "height": 0
        },
        "outputId": "67bf6eec-98f4-45fe-dcdd-efb3e43413f3"
      },
      "source": [
        "# 시각화\n",
        "plt.figure(figsize= (12, 5))\n",
        "plt.style.use('seaborn-whitegrid') # setting \"테마\"(matplot으로)\n",
        "#sns.set_style('darkgrid') seaborn 으로 setting\n",
        "sns.set_context('notebook')\n",
        "\n",
        "\n",
        "# countplot 시각화\n",
        "sns.countplot(data['Contract'], hue = data['Churn'],palette='husl')"
      ],
      "execution_count": 14,
      "outputs": [
        {
          "output_type": "stream",
          "name": "stderr",
          "text": [
            "/usr/local/lib/python3.7/dist-packages/seaborn/_decorators.py:43: FutureWarning: Pass the following variable as a keyword arg: x. From version 0.12, the only valid positional argument will be `data`, and passing other arguments without an explicit keyword will result in an error or misinterpretation.\n",
            "  FutureWarning\n"
          ]
        },
        {
          "output_type": "execute_result",
          "data": {
            "text/plain": [
              "<matplotlib.axes._subplots.AxesSubplot at 0x7f67aecb4a10>"
            ]
          },
          "metadata": {},
          "execution_count": 14
        },
        {
          "output_type": "display_data",
          "data": {
            "image/png": "[encoded data removed]",
            "text/plain": [
              "<Figure size 864x360 with 1 Axes>"
            ]
          },
          "metadata": {
            "needs_background": "light"
          }
        }
      ]
    },
    {
      "cell_type": "code",
      "metadata": {
        "id": "0ZZfVh4B1jWq",
        "colab": {
          "base_uri": "https://localhost:8080/"
        },
        "outputId": "93e32ceb-832e-4463-bbd8-90847af89b57"
      },
      "source": [
        "# 인코딩 \n",
        "Contract_map = {'Month-to-month' : 0, 'One year' : 1, 'Two year' : 2}\n",
        "data['Contract'] = data['Contract'].map(Contract_map)\n",
        "data['Contract'].unique()"
      ],
      "execution_count": 15,
      "outputs": [
        {
          "output_type": "execute_result",
          "data": {
            "text/plain": [
              "array([0, 1, 2])"
            ]
          },
          "metadata": {},
          "execution_count": 15
        }
      ]
    },
    {
      "cell_type": "markdown",
      "metadata": {
        "id": "gYX0bqHTGhif"
      },
      "source": [
        "월별 계약일수록 이탈가능성이 높으며 장기계약인 2년계약시 가장 이탈율이 낮다\n",
        "\n",
        "- 인사이트 :  **통신사를 이동했을때 최소 1년, 가능하다면 2년약정을 하는것이 고객유지에 가장좋으며, 이탈을 방지할 수 있다.**"
      ]
    },
    {
      "cell_type": "markdown",
      "metadata": {
        "id": "fJJ4KPIdQpxD"
      },
      "source": [
        "## 가설2) 오래 유지한 고객일 수록 이탈이 적지 않을까?"
      ]
    },
    {
      "cell_type": "code",
      "metadata": {
        "id": "9eTbccF1Qfmw",
        "colab": {
          "base_uri": "https://localhost:8080/"
        },
        "outputId": "47b611ba-5ae2-4882-98ad-08354504d923"
      },
      "source": [
        "print(\" 가장 짧은 기간 :\", data['tenure'].min())\n",
        "print(\" 가장 오랜 기간 :\", data['tenure'].max())"
      ],
      "execution_count": 16,
      "outputs": [
        {
          "output_type": "stream",
          "name": "stdout",
          "text": [
            " 가장 짧은 기간 : 0\n",
            " 가장 오랜 기간 : 72\n"
          ]
        }
      ]
    },
    {
      "cell_type": "code",
      "metadata": {
        "colab": {
          "base_uri": "https://localhost:8080/",
          "height": 0
        },
        "id": "fZO5yFsOrAAE",
        "outputId": "1213c4d0-1f12-41a2-952c-e51c3f53564f"
      },
      "source": [
        "import matplotlib.patches as patches\n",
        "\n",
        "sns.set_context('notebook')\n",
        "fig, ax = plt.subplots(figsize =(20,6))\n",
        "ax = sns.countplot(data['tenure'], hue = data['Churn'],palette='husl')\n",
        "\n",
        "ax.add_patch(patches.Rectangle(\n",
        "        (0, 0),\n",
        "        6,\n",
        "        400,\n",
        "        #edgecolor = 'red',\n",
        "        facecolor = 'red',\n",
        "        #linewidth = 10,\n",
        "        fill=True,\n",
        "        alpha = 0.2\n",
        " )\n",
        ")\n",
        "ax.add_patch(patches.Rectangle(\n",
        "        (70, 0),\n",
        "        3,\n",
        "       400,\n",
        "        #edgecolor = 'blue',\n",
        "        facecolor = 'blue',\n",
        "        #linewidth = 10,\n",
        "        fill=True,\n",
        "        alpha = 0.2\n",
        " )\n",
        ")\n",
        "# 윤곽선이 필요없을때 \n",
        "#ax.axvspan(15, 20, facecolor='blue',alpha = 0.2)"
      ],
      "execution_count": 17,
      "outputs": [
        {
          "output_type": "stream",
          "name": "stderr",
          "text": [
            "/usr/local/lib/python3.7/dist-packages/seaborn/_decorators.py:43: FutureWarning: Pass the following variable as a keyword arg: x. From version 0.12, the only valid positional argument will be `data`, and passing other arguments without an explicit keyword will result in an error or misinterpretation.\n",
            "  FutureWarning\n"
          ]
        },
        {
          "output_type": "execute_result",
          "data": {
            "text/plain": [
              "<matplotlib.patches.Rectangle at 0x7f67a148e050>"
            ]
          },
          "metadata": {},
          "execution_count": 17
        },
        {
          "output_type": "display_data",
          "data": {
            "image/png": "[encoded data removed]",
            "text/plain": [
              "<Figure size 1440x432 with 1 Axes>"
            ]
          },
          "metadata": {}
        }
      ]
    },
    {
      "cell_type": "markdown",
      "metadata": {
        "id": "_jN-mlJnKFiM"
      },
      "source": [
        "한달 계약(약정)의 경우 이탈율이 매우 높은것을 알 수 있으며, 5개월 이하의 고객들 까지는 50명이상의 이탈을 보여주며 이탈하지 않은 고객보다 많거나 비슷하다."
      ]
    },
    {
      "cell_type": "code",
      "metadata": {
        "id": "a138GfhhFycy",
        "colab": {
          "base_uri": "https://localhost:8080/"
        },
        "outputId": "37a7c399-c8fd-4192-a561-5fd49cf83a69"
      },
      "source": [
        "print(\"5개월 보다 적게 머문 고객들중 이탈고객의 수: \",\\\n",
        "      data.loc[(data['tenure']<=5) & \\\n",
        "               (data['Churn']=='Yes')]['tenure'].value_counts().sum(),\"명\")\n",
        "\n",
        "print(\"5개월 부터 72개월까지 오래 머문 고객들중 이탈고객의 수: \",\\\n",
        "      data.loc[(data['tenure']>5) & \\\n",
        "               (data['Churn']=='Yes')]['tenure'].value_counts().sum(),\"명\")"
      ],
      "execution_count": 18,
      "outputs": [
        {
          "output_type": "stream",
          "name": "stdout",
          "text": [
            "5개월 보다 적게 머문 고객들중 이탈고객의 수:  744 명\n",
            "5개월 부터 72개월까지 오래 머문 고객들중 이탈고객의 수:  1125 명\n"
          ]
        }
      ]
    },
    {
      "cell_type": "code",
      "metadata": {
        "id": "B8FDBIf5F2aS",
        "colab": {
          "base_uri": "https://localhost:8080/",
          "height": 0
        },
        "outputId": "e5cd496a-7cfe-41dd-cdfc-23c8f221e8c2"
      },
      "source": [
        "# 시각화\n",
        "\n",
        "# 기본옵션 설정\n",
        "plt.figure(figsize= (12,5))\n",
        "sns.set_style('whitegrid')\n",
        "sns.set_context('notebook')\n",
        "\n",
        "\n",
        "# 파이차트 데이터 사이즈 \n",
        "size1 = data.loc[(data['tenure']<=5) & (data['Churn']=='Yes')]['tenure'].value_counts().sum()\n",
        "size2 = data.loc[(data['tenure']>5) & (data['Churn']=='Yes')]['tenure'].value_counts().sum()\n",
        "sizes = [size1, size2]\n",
        "\n",
        "# 라벨 설정\n",
        "labels = [\"5 or less\",\"More than 5\"]\n",
        "\n",
        "# 차트 그리기\n",
        "patches, texts, autotexts = plt.pie(sizes,\n",
        "                                   labels = labels,\n",
        "                                   autopct = \"%1.1f%%\",\n",
        "                                   shadow = True,\n",
        "                                   explode = (0,0.1),\n",
        "                                   startangle = 310)\n",
        "\n",
        "# text옵션 설정\n",
        "for t in texts:\n",
        "    t.set_fontsize(11)\n",
        "    t.set_color(\"black\")\n",
        "    \n",
        "# autotexts옵션 설정\n",
        "for at in autotexts:\n",
        "    at.set_fontsize(15)\n",
        "    at.set_color('white')\n",
        "    \n",
        "plt.show()"
      ],
      "execution_count": 19,
      "outputs": [
        {
          "output_type": "display_data",
          "data": {
            "image/png": "[encoded data removed]",
            "text/plain": [
              "<Figure size 864x360 with 1 Axes>"
            ]
          },
          "metadata": {}
        }
      ]
    },
    {
      "cell_type": "markdown",
      "metadata": {
        "id": "w1e8fZthu4QA"
      },
      "source": [
        "전체 이탈고객의 무려 약40%정도가 5개월이하의 계약에서 차지한다는것을 알게되었다. 즉, 파란색에 속한 고객들을 어떻게 장기계약으로 전환시킬지가 주요 쟁점이 된다."
      ]
    },
    {
      "cell_type": "code",
      "metadata": {
        "colab": {
          "base_uri": "https://localhost:8080/"
        },
        "id": "cMnhuOWWtV90",
        "outputId": "16621c00-36c3-4929-caca-e8ed399afd38"
      },
      "source": [
        "data.info()"
      ],
      "execution_count": 20,
      "outputs": [
        {
          "output_type": "stream",
          "name": "stdout",
          "text": [
            "<class 'pandas.core.frame.DataFrame'>\n",
            "RangeIndex: 7043 entries, 0 to 7042\n",
            "Data columns (total 20 columns):\n",
            " #   Column            Non-Null Count  Dtype  \n",
            "---  ------            --------------  -----  \n",
            " 0   gender            7043 non-null   object \n",
            " 1   SeniorCitizen     7043 non-null   int64  \n",
            " 2   Partner           7043 non-null   object \n",
            " 3   Dependents        7043 non-null   object \n",
            " 4   tenure            7043 non-null   int64  \n",
            " 5   PhoneService      7043 non-null   object \n",
            " 6   MultipleLines     7043 non-null   object \n",
            " 7   InternetService   7043 non-null   object \n",
            " 8   OnlineSecurity    7043 non-null   object \n",
            " 9   OnlineBackup      7043 non-null   object \n",
            " 10  DeviceProtection  7043 non-null   object \n",
            " 11  TechSupport       7043 non-null   object \n",
            " 12  StreamingTV       7043 non-null   object \n",
            " 13  StreamingMovies   7043 non-null   object \n",
            " 14  Contract          7043 non-null   int64  \n",
            " 15  PaperlessBilling  7043 non-null   object \n",
            " 16  PaymentMethod     7043 non-null   object \n",
            " 17  MonthlyCharges    7043 non-null   float64\n",
            " 18  TotalCharges      7032 non-null   float64\n",
            " 19  Churn             7043 non-null   object \n",
            "dtypes: float64(2), int64(3), object(15)\n",
            "memory usage: 1.1+ MB\n"
          ]
        }
      ]
    },
    {
      "cell_type": "markdown",
      "metadata": {
        "id": "i0ZW5hWDxE8n"
      },
      "source": [
        "고객 이탈여부를 나타내는 Churn컬럼 역시 미리 변환시켜준다."
      ]
    },
    {
      "cell_type": "code",
      "metadata": {
        "id": "sUCgsAx5tkIp"
      },
      "source": [
        "# 인코딩\n",
        "Churn_mapping = {'No' : 0, 'Yes' : 1}\n",
        "data['Churn'] = data['Churn'].map(Churn_mapping)"
      ],
      "execution_count": 21,
      "outputs": []
    },
    {
      "cell_type": "markdown",
      "metadata": {
        "id": "-RguZTElxJcW"
      },
      "source": [
        "너무 많은 데이터를 가지고 있어서 우서 5개의 카테고리로 묶어준다."
      ]
    },
    {
      "cell_type": "code",
      "metadata": {
        "id": "Qe_c4PmzQfdH",
        "colab": {
          "base_uri": "https://localhost:8080/"
        },
        "outputId": "2f254dd1-1da2-4c57-e22a-f6961be6d730"
      },
      "source": [
        "data['tenure'] = pd.cut(data['tenure'],5)\n",
        "data['tenure'].unique()"
      ],
      "execution_count": 22,
      "outputs": [
        {
          "output_type": "execute_result",
          "data": {
            "text/plain": [
              "[(-0.072, 14.4], (28.8, 43.2], (43.2, 57.6], (14.4, 28.8], (57.6, 72.0]]\n",
              "Categories (5, interval[float64]): [(-0.072, 14.4] < (14.4, 28.8] < (28.8, 43.2] < (43.2, 57.6] <\n",
              "                                    (57.6, 72.0]]"
            ]
          },
          "metadata": {},
          "execution_count": 22
        }
      ]
    },
    {
      "cell_type": "code",
      "metadata": {
        "id": "1-bWLqcWGe1D"
      },
      "source": [
        "from sklearn.preprocessing import LabelEncoder\n",
        "le = LabelEncoder()\n",
        "data['tenure'] = le.fit_transform(data['tenure'])"
      ],
      "execution_count": 23,
      "outputs": []
    },
    {
      "cell_type": "code",
      "metadata": {
        "id": "WlAFhnt2yz_A"
      },
      "source": [
        "## 5개월까지 한개의 카테고리로 묶고(데이터의 크기가 큰 범위), 나머지를 4개의 범위로 묶어주는방법 (이 방법과 위의 5개로 그냥 나누어준것중에 어떤것이 더 높을까?? 개인적인 생각으로는 전자다)\n",
        "#data.loc[data['tenure']<=5,'tenure'] = 0\n",
        "#data.loc[(data['tenure']>5) &  (data['tenure']<=22),'tenure'] = 1\n",
        "#data.loc[(data['tenure']>22) &  (data['tenure']<=39),'tenure'] = 2\n",
        "#data.loc[(data['tenure']>39) &  (data['tenure']<=56),'tenure'] = 3\n",
        "#data.loc[(data['tenure']>56) &  (data['tenure']<=72),'tenure'] = 4\n",
        "#data['tenure']"
      ],
      "execution_count": 24,
      "outputs": []
    },
    {
      "cell_type": "code",
      "metadata": {
        "id": "OamhEgSaSxy9",
        "colab": {
          "base_uri": "https://localhost:8080/",
          "height": 0
        },
        "outputId": "fdaf6f03-d10c-4aa0-a16e-564d2c88089a"
      },
      "source": [
        "pd.crosstab(data['tenure'], data['Churn'],margins=True)"
      ],
      "execution_count": 25,
      "outputs": [
        {
          "output_type": "execute_result",
          "data": {
            "text/html": [
              "<div>\n",
              "<style scoped>\n",
              "    .dataframe tbody tr th:only-of-type {\n",
              "        vertical-align: middle;\n",
              "    }\n",
              "\n",
              "    .dataframe tbody tr th {\n",
              "        vertical-align: top;\n",
              "    }\n",
              "\n",
              "    .dataframe thead th {\n",
              "        text-align: right;\n",
              "    }\n",
              "</style>\n",
              "<table border=\"1\" class=\"dataframe\">\n",
              "  <thead>\n",
              "    <tr style=\"text-align: right;\">\n",
              "      <th>Churn</th>\n",
              "      <th>0</th>\n",
              "      <th>1</th>\n",
              "      <th>All</th>\n",
              "    </tr>\n",
              "    <tr>\n",
              "      <th>tenure</th>\n",
              "      <th></th>\n",
              "      <th></th>\n",
              "      <th></th>\n",
              "    </tr>\n",
              "  </thead>\n",
              "  <tbody>\n",
              "    <tr>\n",
              "      <th>0</th>\n",
              "      <td>1272</td>\n",
              "      <td>1099</td>\n",
              "      <td>2371</td>\n",
              "    </tr>\n",
              "    <tr>\n",
              "      <th>1</th>\n",
              "      <td>831</td>\n",
              "      <td>295</td>\n",
              "      <td>1126</td>\n",
              "    </tr>\n",
              "    <tr>\n",
              "      <th>2</th>\n",
              "      <td>774</td>\n",
              "      <td>215</td>\n",
              "      <td>989</td>\n",
              "    </tr>\n",
              "    <tr>\n",
              "      <th>3</th>\n",
              "      <td>805</td>\n",
              "      <td>142</td>\n",
              "      <td>947</td>\n",
              "    </tr>\n",
              "    <tr>\n",
              "      <th>4</th>\n",
              "      <td>1492</td>\n",
              "      <td>118</td>\n",
              "      <td>1610</td>\n",
              "    </tr>\n",
              "    <tr>\n",
              "      <th>All</th>\n",
              "      <td>5174</td>\n",
              "      <td>1869</td>\n",
              "      <td>7043</td>\n",
              "    </tr>\n",
              "  </tbody>\n",
              "</table>\n",
              "</div>"
            ],
            "text/plain": [
              "Churn      0     1   All\n",
              "tenure                  \n",
              "0       1272  1099  2371\n",
              "1        831   295  1126\n",
              "2        774   215   989\n",
              "3        805   142   947\n",
              "4       1492   118  1610\n",
              "All     5174  1869  7043"
            ]
          },
          "metadata": {},
          "execution_count": 25
        }
      ]
    },
    {
      "cell_type": "code",
      "metadata": {
        "id": "8ro6pRmkT8ee",
        "colab": {
          "base_uri": "https://localhost:8080/",
          "height": 0
        },
        "outputId": "5edca4a5-b305-4814-f23f-ccd3b4a4f487"
      },
      "source": [
        "plt.figure(figsize = (12,5))\n",
        "sns.set_context('notebook')\n",
        "\n",
        "sns.countplot(data['tenure'], hue = data['Churn'],palette = 'husl')"
      ],
      "execution_count": 26,
      "outputs": [
        {
          "output_type": "stream",
          "name": "stderr",
          "text": [
            "/usr/local/lib/python3.7/dist-packages/seaborn/_decorators.py:43: FutureWarning: Pass the following variable as a keyword arg: x. From version 0.12, the only valid positional argument will be `data`, and passing other arguments without an explicit keyword will result in an error or misinterpretation.\n",
            "  FutureWarning\n"
          ]
        },
        {
          "output_type": "execute_result",
          "data": {
            "text/plain": [
              "<matplotlib.axes._subplots.AxesSubplot at 0x7f67a150b410>"
            ]
          },
          "metadata": {},
          "execution_count": 26
        },
        {
          "output_type": "display_data",
          "data": {
            "image/png": "[encoded data removed]",
            "text/plain": [
              "<Figure size 864x360 with 1 Axes>"
            ]
          },
          "metadata": {}
        }
      ]
    },
    {
      "cell_type": "markdown",
      "metadata": {
        "id": "2-6bUkEcUPwE"
      },
      "source": [
        "장기간 이용할 수록 이탈하는 고객들이 줄어든다\n",
        "- 인사이트 : **대략 5개월을 초과한 기간 만큼 고객을 유지시킨다면 이탈률을 크게 낮출 수 있으므로 초반 가입 고객들에게 오래유지할 수 있는 서비스를 기획하거나 5개월 넘게 이용한 고객의 특징을 살펴본후 대입해 본다.**\n",
        "\n",
        "- 현재 최 장기간 이용 고객들이 상당히 많이 있는것으로 보아 VIP고객을 잘 관리하고 있다는것을 알 수 있다. 하지만 좀 더 좋은 초반 서비스를 통해 초기 보유 고객의 니즈를 충족시켜 주어야할것 같다."
      ]
    },
    {
      "cell_type": "markdown",
      "metadata": {
        "id": "iEqnXRw-ZZ4s"
      },
      "source": [
        "## 성별에 따른 이탈차이도 있을까?\n"
      ]
    },
    {
      "cell_type": "code",
      "metadata": {
        "colab": {
          "base_uri": "https://localhost:8080/"
        },
        "id": "yJzNWtzOj4gM",
        "outputId": "f94e60f4-a787-4477-ab21-289fe2e43313"
      },
      "source": [
        "print(\"남자 고객수 :\", data.loc[data['gender']=='Male']['gender'].count())\n",
        "print(\"여자 고객수 :\",data.loc[data['gender']=='Female']['gender'].count())"
      ],
      "execution_count": 27,
      "outputs": [
        {
          "output_type": "stream",
          "name": "stdout",
          "text": [
            "남자 고객수 : 3555\n",
            "여자 고객수 : 3488\n"
          ]
        }
      ]
    },
    {
      "cell_type": "code",
      "metadata": {
        "colab": {
          "base_uri": "https://localhost:8080/",
          "height": 0
        },
        "id": "kWh5tpoqfzPb",
        "outputId": "83dbf3cf-5c09-4799-9505-5544e54d4938"
      },
      "source": [
        "# 남,여 성비 시각화\n",
        "plt.figure(figsize = (12, 5))\n",
        "\n",
        "patches, texts, autotexts = plt.pie([3555,3488],\n",
        "                                    labels = ['Female', 'Male'],\n",
        "                                    autopct='%1.1f%%',\n",
        "                                    shadow = True,\n",
        "                                    startangle = 90\n",
        "                                    )\n",
        "for t in texts:\n",
        "  t.set_fontsize(12)\n",
        "  t.set_color('black')\n",
        "\n",
        "for a in autotexts:\n",
        "  a.set_fontsize(18)\n",
        "  a.set_color('white')\n",
        "\n",
        "plt.show()"
      ],
      "execution_count": 28,
      "outputs": [
        {
          "output_type": "display_data",
          "data": {
            "image/png": "[encoded data removed]",
            "text/plain": [
              "<Figure size 864x360 with 1 Axes>"
            ]
          },
          "metadata": {}
        }
      ]
    },
    {
      "cell_type": "code",
      "metadata": {
        "id": "4f_tXljDT2LK",
        "colab": {
          "base_uri": "https://localhost:8080/",
          "height": 0
        },
        "outputId": "bc6e01b1-13d1-4ce4-bc64-1fec1a3f1c27"
      },
      "source": [
        "# 성별에 따른 이탈 시각화\n",
        "\n",
        "plt.figure(figsize = (12, 5))\n",
        "\n",
        "sns.countplot(data['gender'], hue = data.Churn, palette = 'husl')"
      ],
      "execution_count": 29,
      "outputs": [
        {
          "output_type": "stream",
          "name": "stderr",
          "text": [
            "/usr/local/lib/python3.7/dist-packages/seaborn/_decorators.py:43: FutureWarning: Pass the following variable as a keyword arg: x. From version 0.12, the only valid positional argument will be `data`, and passing other arguments without an explicit keyword will result in an error or misinterpretation.\n",
            "  FutureWarning\n"
          ]
        },
        {
          "output_type": "execute_result",
          "data": {
            "text/plain": [
              "<matplotlib.axes._subplots.AxesSubplot at 0x7f67a3226fd0>"
            ]
          },
          "metadata": {},
          "execution_count": 29
        },
        {
          "output_type": "display_data",
          "data": {
            "image/png": "[encoded data removed]",
            "text/plain": [
              "<Figure size 864x360 with 1 Axes>"
            ]
          },
          "metadata": {}
        }
      ]
    },
    {
      "cell_type": "markdown",
      "metadata": {
        "id": "n-2MU3I0Z6xN"
      },
      "source": [
        "성별에 따른 인사이트는 얻기 힘들어 보인다."
      ]
    },
    {
      "cell_type": "markdown",
      "metadata": {
        "id": "sXAMZA8waCdo"
      },
      "source": [
        "## 고령자와 이탈에는 어떤 관계가 있을까?"
      ]
    },
    {
      "cell_type": "code",
      "metadata": {
        "id": "Z1XxqQ31Z_EA",
        "colab": {
          "base_uri": "https://localhost:8080/",
          "height": 0
        },
        "outputId": "8b3b7ab1-bead-4645-f014-c6a6565f8961"
      },
      "source": [
        "# 첫번째 시각화\n",
        "plt.figure(figsize = (12, 5))\n",
        "sns.countplot(data[\"SeniorCitizen\"], hue = data[\"Churn\"], palette='husl')\n",
        "# 비고령자 = 0 , 고령자 = 1"
      ],
      "execution_count": 30,
      "outputs": [
        {
          "output_type": "stream",
          "name": "stderr",
          "text": [
            "/usr/local/lib/python3.7/dist-packages/seaborn/_decorators.py:43: FutureWarning: Pass the following variable as a keyword arg: x. From version 0.12, the only valid positional argument will be `data`, and passing other arguments without an explicit keyword will result in an error or misinterpretation.\n",
            "  FutureWarning\n"
          ]
        },
        {
          "output_type": "execute_result",
          "data": {
            "text/plain": [
              "<matplotlib.axes._subplots.AxesSubplot at 0x7f67a673d1d0>"
            ]
          },
          "metadata": {},
          "execution_count": 30
        },
        {
          "output_type": "display_data",
          "data": {
            "image/png": "[encoded data removed]",
            "text/plain": [
              "<Figure size 864x360 with 1 Axes>"
            ]
          },
          "metadata": {}
        }
      ]
    },
    {
      "cell_type": "markdown",
      "metadata": {
        "id": "QPw5EZAlyzOh"
      },
      "source": [
        "bar-chart로는 차지하는 비율이 다르기때문에 가시적이지 않다."
      ]
    },
    {
      "cell_type": "code",
      "metadata": {
        "id": "YPY51EqnOuO8",
        "colab": {
          "base_uri": "https://localhost:8080/",
          "height": 0
        },
        "outputId": "ddbb5458-cfe7-4e4e-b633-d405e4849226"
      },
      "source": [
        "# 두번째 시각화 \n",
        "\n",
        "# 기본 세팅\n",
        "fig, ax = plt.subplots(1,2,figsize = (10,4))\n",
        "sns.set_context('talk')\n",
        "\n",
        "\n",
        "# 젊은 고객\n",
        "labels = [\"No Churn\", \"Yes Churn\"]\n",
        "\n",
        "no_sizes = data.loc[(data['SeniorCitizen']==0) & (data['Churn']==0),\\\n",
        "                    'SeniorCitizen'].value_counts().sum()\n",
        "yes_sizes = data.loc[(data['SeniorCitizen']==0) & (data['Churn']==1),\\\n",
        "                     'SeniorCitizen'].value_counts().sum()\n",
        "sizes = [no_sizes, yes_sizes]\n",
        "\n",
        "\n",
        "patches, texts, autotexts = ax[0].pie(sizes,\n",
        "                                   labels = labels,\n",
        "                                   autopct = \"%1.1f%%\",\n",
        "                                   shadow = True,\n",
        "                                   explode = (0, 0.1))\n",
        "\n",
        "ax[0].set_title(\"No SeniorCitizen\")\n",
        "\n",
        "for t in autotexts:\n",
        "    t.set_fontsize(18)\n",
        "    t.set_color('white')\n",
        "    \n",
        "    \n",
        "# 고령 고객\n",
        "Senior_labels = [\"No Chrn\", \"Yes Chrn\"]\n",
        "\n",
        "Senior_y_sizes = data.loc[(data['SeniorCitizen']==1) & (data['Churn']==0),\\\n",
        "                          'SeniorCitizen'].value_counts().sum()\n",
        "\n",
        "Senior_n_sizes = data.loc[(data['SeniorCitizen']==1) & (data['Churn']==1),\\\n",
        "                          'SeniorCitizen'].value_counts().sum()\n",
        "\n",
        "Senior_sizes = [Senior_y_sizes, Senior_n_sizes]\n",
        "\n",
        "patches, texts, autotexts = ax[1].pie(Senior_sizes,\n",
        "                                     labels = Senior_labels,\n",
        "                                     autopct = \"%1.1f%%\",\n",
        "                                     shadow = True,\n",
        "                                     explode = (0, 0.1),\n",
        "                                     startangle = 80)\n",
        "\n",
        "\n",
        "ax[1].set_title(\"Yes SeniorCitizens\")\n",
        "    \n",
        "for t in autotexts:\n",
        "    t.set_fontsize(18)\n",
        "    t.set_color('white')\n",
        "\n",
        "\n",
        "\n",
        "plt.show();"
      ],
      "execution_count": 31,
      "outputs": [
        {
          "output_type": "display_data",
          "data": {
            "image/png": "[encoded data removed]",
            "text/plain": [
              "<Figure size 720x288 with 2 Axes>"
            ]
          },
          "metadata": {}
        }
      ]
    },
    {
      "cell_type": "markdown",
      "metadata": {
        "id": "sJUKOZPWbAnH"
      },
      "source": [
        "- 인사이트 : **고령자분들의 이탈이 무려 40%이상이며, 통계검증 결과도 둘의 평균은 같지않다. 이탈방지를 위해서는 싼가격으로 장기계약 이벤트등의 여러가지 기획이 필요하다.(세계적으로 점점 출산율이 줄어들기 때문에 향후에는 이것이 최 우선순위가 될 수 도 있을것 같다)**\n",
        "\n",
        "\n"
      ]
    },
    {
      "cell_type": "code",
      "metadata": {
        "id": "y0HF1qS-vfkT"
      },
      "source": [
        "# 인코딩\n",
        "sex_mapping = {'Female' : 0, 'Male' : 1}\n",
        "data['gender'] = data['gender'].map(sex_mapping)"
      ],
      "execution_count": 32,
      "outputs": []
    },
    {
      "cell_type": "markdown",
      "metadata": {
        "id": "QgtXQADZbqj3"
      },
      "source": [
        "## 파트너 혹은 부양가족에 따른 이탈률을 알아보자\n"
      ]
    },
    {
      "cell_type": "code",
      "metadata": {
        "id": "UO2nagnAZyas",
        "colab": {
          "base_uri": "https://localhost:8080/",
          "height": 0
        },
        "outputId": "9bb328c9-a3be-4ada-f438-26e0d67b6c6c"
      },
      "source": [
        "# 시각화\n",
        "fig, ax = plt.subplots(1, 2, figsize = (14,5))\n",
        "sns.set_style('whitegrid')\n",
        "sns.set_context('talk')\n",
        "\n",
        "\n",
        "sns.countplot(data['Partner'], hue = data['Churn'], palette = 'husl',ax = ax[0])\n",
        "ax[0].set_title('Partner and Churn correlation')\n",
        "\n",
        "sns.countplot(data['Dependents'], hue =data['Churn'], palette = 'husl',ax = ax[1])\n",
        "ax[1].set_title('Dependents and Churn correlation')"
      ],
      "execution_count": 33,
      "outputs": [
        {
          "output_type": "stream",
          "name": "stderr",
          "text": [
            "/usr/local/lib/python3.7/dist-packages/seaborn/_decorators.py:43: FutureWarning: Pass the following variable as a keyword arg: x. From version 0.12, the only valid positional argument will be `data`, and passing other arguments without an explicit keyword will result in an error or misinterpretation.\n",
            "  FutureWarning\n",
            "/usr/local/lib/python3.7/dist-packages/seaborn/_decorators.py:43: FutureWarning: Pass the following variable as a keyword arg: x. From version 0.12, the only valid positional argument will be `data`, and passing other arguments without an explicit keyword will result in an error or misinterpretation.\n",
            "  FutureWarning\n"
          ]
        },
        {
          "output_type": "execute_result",
          "data": {
            "text/plain": [
              "Text(0.5, 1.0, 'Dependents and Churn correlation')"
            ]
          },
          "metadata": {},
          "execution_count": 33
        },
        {
          "output_type": "display_data",
          "data": {
            "image/png": "[encoded data removed]",
            "text/plain": [
              "<Figure size 1008x360 with 2 Axes>"
            ]
          },
          "metadata": {}
        }
      ]
    },
    {
      "cell_type": "code",
      "metadata": {
        "id": "eNU6wl8g6j5U"
      },
      "source": [
        "answer_mapping = {'No' : 0, \"Yes\" : 1}\n",
        "data['Partner'] = data['Partner'].map(answer_mapping)\n",
        "data['Dependents'] = data['Dependents'].map(answer_mapping)"
      ],
      "execution_count": 34,
      "outputs": []
    },
    {
      "cell_type": "markdown",
      "metadata": {
        "id": "tdBcdMB0eW2d"
      },
      "source": [
        "파트너, 혹은 부양가족이 없을때 이탈율이 더 높은것으로 보아 결합상품으로 인한 혜택을 받지 못함일 가능성이 있다. 이를 검토해 보고 친구 결합상품등의 다양한 상품을 기획해 볼 수 있다."
      ]
    },
    {
      "cell_type": "markdown",
      "metadata": {
        "id": "7l9bFRKk4lsy"
      },
      "source": [
        "인터넷서비스/ 휴대폰서비스 구분하기\n",
        "- 온라인 보안 여부, 온라인 백업 여부, 장치보호 여부, 기술지원 여부, StreamingTV, StreamingMovies 의 수치를 확인하면 No internet service 에서 똑같은 수치를 확인할 수 있다 \n",
        "- 인사이트 : 인터넷 서비스에 (온라인 보안 여부, 온라인 백업 여부, 장치보호 여부, 기술지원 여부, StreamingTV, StreamingMovies) 이 포함된다/ 휴대폰서비스에 (Phoneservice,MultipleLines)이 포함된다.\n"
      ]
    },
    {
      "cell_type": "code",
      "metadata": {
        "id": "auiys57mZyWo",
        "colab": {
          "base_uri": "https://localhost:8080/",
          "height": 0
        },
        "outputId": "aed0e41f-0bf3-422e-ba9f-0fba5fe5eeab"
      },
      "source": [
        "pd.crosstab(data['Partner'], data['StreamingTV'], normalize= True)"
      ],
      "execution_count": 35,
      "outputs": [
        {
          "output_type": "execute_result",
          "data": {
            "text/html": [
              "<div>\n",
              "<style scoped>\n",
              "    .dataframe tbody tr th:only-of-type {\n",
              "        vertical-align: middle;\n",
              "    }\n",
              "\n",
              "    .dataframe tbody tr th {\n",
              "        vertical-align: top;\n",
              "    }\n",
              "\n",
              "    .dataframe thead th {\n",
              "        text-align: right;\n",
              "    }\n",
              "</style>\n",
              "<table border=\"1\" class=\"dataframe\">\n",
              "  <thead>\n",
              "    <tr style=\"text-align: right;\">\n",
              "      <th>StreamingTV</th>\n",
              "      <th>No</th>\n",
              "      <th>No internet service</th>\n",
              "      <th>Yes</th>\n",
              "    </tr>\n",
              "    <tr>\n",
              "      <th>Partner</th>\n",
              "      <th></th>\n",
              "      <th></th>\n",
              "      <th></th>\n",
              "    </tr>\n",
              "  </thead>\n",
              "  <tbody>\n",
              "    <tr>\n",
              "      <th>0</th>\n",
              "      <td>0.236689</td>\n",
              "      <td>0.111884</td>\n",
              "      <td>0.168394</td>\n",
              "    </tr>\n",
              "    <tr>\n",
              "      <th>1</th>\n",
              "      <td>0.162289</td>\n",
              "      <td>0.104785</td>\n",
              "      <td>0.215959</td>\n",
              "    </tr>\n",
              "  </tbody>\n",
              "</table>\n",
              "</div>"
            ],
            "text/plain": [
              "StreamingTV        No  No internet service       Yes\n",
              "Partner                                             \n",
              "0            0.236689             0.111884  0.168394\n",
              "1            0.162289             0.104785  0.215959"
            ]
          },
          "metadata": {},
          "execution_count": 35
        }
      ]
    },
    {
      "cell_type": "code",
      "metadata": {
        "id": "06Ae8RGpT2Ip",
        "colab": {
          "base_uri": "https://localhost:8080/",
          "height": 0
        },
        "outputId": "22b9d8fc-185c-4492-f381-3aa951a6b5de"
      },
      "source": [
        "pd.crosstab(data['Partner'], data['StreamingMovies'], normalize= True)"
      ],
      "execution_count": 36,
      "outputs": [
        {
          "output_type": "execute_result",
          "data": {
            "text/html": [
              "<div>\n",
              "<style scoped>\n",
              "    .dataframe tbody tr th:only-of-type {\n",
              "        vertical-align: middle;\n",
              "    }\n",
              "\n",
              "    .dataframe tbody tr th {\n",
              "        vertical-align: top;\n",
              "    }\n",
              "\n",
              "    .dataframe thead th {\n",
              "        text-align: right;\n",
              "    }\n",
              "</style>\n",
              "<table border=\"1\" class=\"dataframe\">\n",
              "  <thead>\n",
              "    <tr style=\"text-align: right;\">\n",
              "      <th>StreamingMovies</th>\n",
              "      <th>No</th>\n",
              "      <th>No internet service</th>\n",
              "      <th>Yes</th>\n",
              "    </tr>\n",
              "    <tr>\n",
              "      <th>Partner</th>\n",
              "      <th></th>\n",
              "      <th></th>\n",
              "      <th></th>\n",
              "    </tr>\n",
              "  </thead>\n",
              "  <tbody>\n",
              "    <tr>\n",
              "      <th>0</th>\n",
              "      <td>0.233139</td>\n",
              "      <td>0.111884</td>\n",
              "      <td>0.171944</td>\n",
              "    </tr>\n",
              "    <tr>\n",
              "      <th>1</th>\n",
              "      <td>0.162289</td>\n",
              "      <td>0.104785</td>\n",
              "      <td>0.215959</td>\n",
              "    </tr>\n",
              "  </tbody>\n",
              "</table>\n",
              "</div>"
            ],
            "text/plain": [
              "StreamingMovies        No  No internet service       Yes\n",
              "Partner                                                 \n",
              "0                0.233139             0.111884  0.171944\n",
              "1                0.162289             0.104785  0.215959"
            ]
          },
          "metadata": {},
          "execution_count": 36
        }
      ]
    },
    {
      "cell_type": "code",
      "metadata": {
        "id": "R3rbq5QJzByh",
        "colab": {
          "base_uri": "https://localhost:8080/",
          "height": 0
        },
        "outputId": "216051d5-f242-472d-a753-93ca8e0ed2b5"
      },
      "source": [
        "pd.crosstab(data['Partner'], data['OnlineBackup'], normalize= True)"
      ],
      "execution_count": 37,
      "outputs": [
        {
          "output_type": "execute_result",
          "data": {
            "text/html": [
              "<div>\n",
              "<style scoped>\n",
              "    .dataframe tbody tr th:only-of-type {\n",
              "        vertical-align: middle;\n",
              "    }\n",
              "\n",
              "    .dataframe tbody tr th {\n",
              "        vertical-align: top;\n",
              "    }\n",
              "\n",
              "    .dataframe thead th {\n",
              "        text-align: right;\n",
              "    }\n",
              "</style>\n",
              "<table border=\"1\" class=\"dataframe\">\n",
              "  <thead>\n",
              "    <tr style=\"text-align: right;\">\n",
              "      <th>OnlineBackup</th>\n",
              "      <th>No</th>\n",
              "      <th>No internet service</th>\n",
              "      <th>Yes</th>\n",
              "    </tr>\n",
              "    <tr>\n",
              "      <th>Partner</th>\n",
              "      <th></th>\n",
              "      <th></th>\n",
              "      <th></th>\n",
              "    </tr>\n",
              "  </thead>\n",
              "  <tbody>\n",
              "    <tr>\n",
              "      <th>0</th>\n",
              "      <td>0.260400</td>\n",
              "      <td>0.111884</td>\n",
              "      <td>0.144683</td>\n",
              "    </tr>\n",
              "    <tr>\n",
              "      <th>1</th>\n",
              "      <td>0.178049</td>\n",
              "      <td>0.104785</td>\n",
              "      <td>0.200199</td>\n",
              "    </tr>\n",
              "  </tbody>\n",
              "</table>\n",
              "</div>"
            ],
            "text/plain": [
              "OnlineBackup        No  No internet service       Yes\n",
              "Partner                                              \n",
              "0             0.260400             0.111884  0.144683\n",
              "1             0.178049             0.104785  0.200199"
            ]
          },
          "metadata": {},
          "execution_count": 37
        }
      ]
    },
    {
      "cell_type": "code",
      "metadata": {
        "id": "glgey5pnz4oN",
        "colab": {
          "base_uri": "https://localhost:8080/",
          "height": 0
        },
        "outputId": "ae096069-5ae2-40a1-a1ec-658e0798fb9f"
      },
      "source": [
        "pd.crosstab(data['Partner'], data['OnlineSecurity'], normalize= True)"
      ],
      "execution_count": 38,
      "outputs": [
        {
          "output_type": "execute_result",
          "data": {
            "text/html": [
              "<div>\n",
              "<style scoped>\n",
              "    .dataframe tbody tr th:only-of-type {\n",
              "        vertical-align: middle;\n",
              "    }\n",
              "\n",
              "    .dataframe tbody tr th {\n",
              "        vertical-align: top;\n",
              "    }\n",
              "\n",
              "    .dataframe thead th {\n",
              "        text-align: right;\n",
              "    }\n",
              "</style>\n",
              "<table border=\"1\" class=\"dataframe\">\n",
              "  <thead>\n",
              "    <tr style=\"text-align: right;\">\n",
              "      <th>OnlineSecurity</th>\n",
              "      <th>No</th>\n",
              "      <th>No internet service</th>\n",
              "      <th>Yes</th>\n",
              "    </tr>\n",
              "    <tr>\n",
              "      <th>Partner</th>\n",
              "      <th></th>\n",
              "      <th></th>\n",
              "      <th></th>\n",
              "    </tr>\n",
              "  </thead>\n",
              "  <tbody>\n",
              "    <tr>\n",
              "      <th>0</th>\n",
              "      <td>0.289223</td>\n",
              "      <td>0.111884</td>\n",
              "      <td>0.115860</td>\n",
              "    </tr>\n",
              "    <tr>\n",
              "      <th>1</th>\n",
              "      <td>0.207440</td>\n",
              "      <td>0.104785</td>\n",
              "      <td>0.170808</td>\n",
              "    </tr>\n",
              "  </tbody>\n",
              "</table>\n",
              "</div>"
            ],
            "text/plain": [
              "OnlineSecurity        No  No internet service       Yes\n",
              "Partner                                                \n",
              "0               0.289223             0.111884  0.115860\n",
              "1               0.207440             0.104785  0.170808"
            ]
          },
          "metadata": {},
          "execution_count": 38
        }
      ]
    },
    {
      "cell_type": "code",
      "metadata": {
        "id": "NIKWkvuKzrxD",
        "colab": {
          "base_uri": "https://localhost:8080/",
          "height": 0
        },
        "outputId": "b1b958df-de6c-4904-f788-0773ccd87210"
      },
      "source": [
        "pd.crosstab(data['Partner'], data['TechSupport'], normalize= True)"
      ],
      "execution_count": 39,
      "outputs": [
        {
          "output_type": "execute_result",
          "data": {
            "text/html": [
              "<div>\n",
              "<style scoped>\n",
              "    .dataframe tbody tr th:only-of-type {\n",
              "        vertical-align: middle;\n",
              "    }\n",
              "\n",
              "    .dataframe tbody tr th {\n",
              "        vertical-align: top;\n",
              "    }\n",
              "\n",
              "    .dataframe thead th {\n",
              "        text-align: right;\n",
              "    }\n",
              "</style>\n",
              "<table border=\"1\" class=\"dataframe\">\n",
              "  <thead>\n",
              "    <tr style=\"text-align: right;\">\n",
              "      <th>TechSupport</th>\n",
              "      <th>No</th>\n",
              "      <th>No internet service</th>\n",
              "      <th>Yes</th>\n",
              "    </tr>\n",
              "    <tr>\n",
              "      <th>Partner</th>\n",
              "      <th></th>\n",
              "      <th></th>\n",
              "      <th></th>\n",
              "    </tr>\n",
              "  </thead>\n",
              "  <tbody>\n",
              "    <tr>\n",
              "      <th>0</th>\n",
              "      <td>0.282266</td>\n",
              "      <td>0.111884</td>\n",
              "      <td>0.122817</td>\n",
              "    </tr>\n",
              "    <tr>\n",
              "      <th>1</th>\n",
              "      <td>0.210848</td>\n",
              "      <td>0.104785</td>\n",
              "      <td>0.167400</td>\n",
              "    </tr>\n",
              "  </tbody>\n",
              "</table>\n",
              "</div>"
            ],
            "text/plain": [
              "TechSupport        No  No internet service       Yes\n",
              "Partner                                             \n",
              "0            0.282266             0.111884  0.122817\n",
              "1            0.210848             0.104785  0.167400"
            ]
          },
          "metadata": {},
          "execution_count": 39
        }
      ]
    },
    {
      "cell_type": "code",
      "metadata": {
        "id": "ymj58aGmzrup",
        "colab": {
          "base_uri": "https://localhost:8080/",
          "height": 0
        },
        "outputId": "e07084ce-4a40-40eb-d77d-1ee3a5969d33"
      },
      "source": [
        "pd.crosstab(data['Partner'], data['DeviceProtection'], normalize= True)"
      ],
      "execution_count": 40,
      "outputs": [
        {
          "output_type": "execute_result",
          "data": {
            "text/html": [
              "<div>\n",
              "<style scoped>\n",
              "    .dataframe tbody tr th:only-of-type {\n",
              "        vertical-align: middle;\n",
              "    }\n",
              "\n",
              "    .dataframe tbody tr th {\n",
              "        vertical-align: top;\n",
              "    }\n",
              "\n",
              "    .dataframe thead th {\n",
              "        text-align: right;\n",
              "    }\n",
              "</style>\n",
              "<table border=\"1\" class=\"dataframe\">\n",
              "  <thead>\n",
              "    <tr style=\"text-align: right;\">\n",
              "      <th>DeviceProtection</th>\n",
              "      <th>No</th>\n",
              "      <th>No internet service</th>\n",
              "      <th>Yes</th>\n",
              "    </tr>\n",
              "    <tr>\n",
              "      <th>Partner</th>\n",
              "      <th></th>\n",
              "      <th></th>\n",
              "      <th></th>\n",
              "    </tr>\n",
              "  </thead>\n",
              "  <tbody>\n",
              "    <tr>\n",
              "      <th>0</th>\n",
              "      <td>0.263808</td>\n",
              "      <td>0.111884</td>\n",
              "      <td>0.141275</td>\n",
              "    </tr>\n",
              "    <tr>\n",
              "      <th>1</th>\n",
              "      <td>0.175635</td>\n",
              "      <td>0.104785</td>\n",
              "      <td>0.202613</td>\n",
              "    </tr>\n",
              "  </tbody>\n",
              "</table>\n",
              "</div>"
            ],
            "text/plain": [
              "DeviceProtection        No  No internet service       Yes\n",
              "Partner                                                  \n",
              "0                 0.263808             0.111884  0.141275\n",
              "1                 0.175635             0.104785  0.202613"
            ]
          },
          "metadata": {},
          "execution_count": 40
        }
      ]
    },
    {
      "cell_type": "code",
      "metadata": {
        "id": "l7RtNWyBz4lh",
        "colab": {
          "base_uri": "https://localhost:8080/",
          "height": 0
        },
        "outputId": "eeb7a474-b480-49f3-bdea-6a61a92b0807"
      },
      "source": [
        "pd.crosstab(data['Partner'], data['InternetService'], normalize= True)"
      ],
      "execution_count": 41,
      "outputs": [
        {
          "output_type": "execute_result",
          "data": {
            "text/html": [
              "<div>\n",
              "<style scoped>\n",
              "    .dataframe tbody tr th:only-of-type {\n",
              "        vertical-align: middle;\n",
              "    }\n",
              "\n",
              "    .dataframe tbody tr th {\n",
              "        vertical-align: top;\n",
              "    }\n",
              "\n",
              "    .dataframe thead th {\n",
              "        text-align: right;\n",
              "    }\n",
              "</style>\n",
              "<table border=\"1\" class=\"dataframe\">\n",
              "  <thead>\n",
              "    <tr style=\"text-align: right;\">\n",
              "      <th>InternetService</th>\n",
              "      <th>DSL</th>\n",
              "      <th>Fiber optic</th>\n",
              "      <th>No</th>\n",
              "    </tr>\n",
              "    <tr>\n",
              "      <th>Partner</th>\n",
              "      <th></th>\n",
              "      <th></th>\n",
              "      <th></th>\n",
              "    </tr>\n",
              "  </thead>\n",
              "  <tbody>\n",
              "    <tr>\n",
              "      <th>0</th>\n",
              "      <td>0.177907</td>\n",
              "      <td>0.227176</td>\n",
              "      <td>0.111884</td>\n",
              "    </tr>\n",
              "    <tr>\n",
              "      <th>1</th>\n",
              "      <td>0.165838</td>\n",
              "      <td>0.212409</td>\n",
              "      <td>0.104785</td>\n",
              "    </tr>\n",
              "  </tbody>\n",
              "</table>\n",
              "</div>"
            ],
            "text/plain": [
              "InternetService       DSL  Fiber optic        No\n",
              "Partner                                         \n",
              "0                0.177907     0.227176  0.111884\n",
              "1                0.165838     0.212409  0.104785"
            ]
          },
          "metadata": {},
          "execution_count": 41
        }
      ]
    },
    {
      "cell_type": "markdown",
      "metadata": {
        "id": "XtI1T40X4jvD"
      },
      "source": [
        "폰 서비스\n",
        "- 폰서비스에 MultipleLines 이 포함된다. "
      ]
    },
    {
      "cell_type": "code",
      "metadata": {
        "id": "4uIY5qGE4T07",
        "colab": {
          "base_uri": "https://localhost:8080/",
          "height": 0
        },
        "outputId": "c480dcc2-cfc6-4c8e-cf49-67ee61af3683"
      },
      "source": [
        "pd.crosstab(data['Partner'], data['PhoneService'], normalize= True)"
      ],
      "execution_count": 42,
      "outputs": [
        {
          "output_type": "execute_result",
          "data": {
            "text/html": [
              "<div>\n",
              "<style scoped>\n",
              "    .dataframe tbody tr th:only-of-type {\n",
              "        vertical-align: middle;\n",
              "    }\n",
              "\n",
              "    .dataframe tbody tr th {\n",
              "        vertical-align: top;\n",
              "    }\n",
              "\n",
              "    .dataframe thead th {\n",
              "        text-align: right;\n",
              "    }\n",
              "</style>\n",
              "<table border=\"1\" class=\"dataframe\">\n",
              "  <thead>\n",
              "    <tr style=\"text-align: right;\">\n",
              "      <th>PhoneService</th>\n",
              "      <th>No</th>\n",
              "      <th>Yes</th>\n",
              "    </tr>\n",
              "    <tr>\n",
              "      <th>Partner</th>\n",
              "      <th></th>\n",
              "      <th></th>\n",
              "    </tr>\n",
              "  </thead>\n",
              "  <tbody>\n",
              "    <tr>\n",
              "      <th>0</th>\n",
              "      <td>0.052676</td>\n",
              "      <td>0.464291</td>\n",
              "    </tr>\n",
              "    <tr>\n",
              "      <th>1</th>\n",
              "      <td>0.044157</td>\n",
              "      <td>0.438875</td>\n",
              "    </tr>\n",
              "  </tbody>\n",
              "</table>\n",
              "</div>"
            ],
            "text/plain": [
              "PhoneService        No       Yes\n",
              "Partner                         \n",
              "0             0.052676  0.464291\n",
              "1             0.044157  0.438875"
            ]
          },
          "metadata": {},
          "execution_count": 42
        }
      ]
    },
    {
      "cell_type": "code",
      "metadata": {
        "id": "1jzz09JLz4ir",
        "colab": {
          "base_uri": "https://localhost:8080/",
          "height": 0
        },
        "outputId": "6424c380-77fa-4b92-9a0f-e48f0d23ba79"
      },
      "source": [
        "pd.crosstab(data['Partner'], data['MultipleLines'], normalize= True)"
      ],
      "execution_count": 43,
      "outputs": [
        {
          "output_type": "execute_result",
          "data": {
            "text/html": [
              "<div>\n",
              "<style scoped>\n",
              "    .dataframe tbody tr th:only-of-type {\n",
              "        vertical-align: middle;\n",
              "    }\n",
              "\n",
              "    .dataframe tbody tr th {\n",
              "        vertical-align: top;\n",
              "    }\n",
              "\n",
              "    .dataframe thead th {\n",
              "        text-align: right;\n",
              "    }\n",
              "</style>\n",
              "<table border=\"1\" class=\"dataframe\">\n",
              "  <thead>\n",
              "    <tr style=\"text-align: right;\">\n",
              "      <th>MultipleLines</th>\n",
              "      <th>No</th>\n",
              "      <th>No phone service</th>\n",
              "      <th>Yes</th>\n",
              "    </tr>\n",
              "    <tr>\n",
              "      <th>Partner</th>\n",
              "      <th></th>\n",
              "      <th></th>\n",
              "      <th></th>\n",
              "    </tr>\n",
              "  </thead>\n",
              "  <tbody>\n",
              "    <tr>\n",
              "      <th>0</th>\n",
              "      <td>0.281272</td>\n",
              "      <td>0.052676</td>\n",
              "      <td>0.183019</td>\n",
              "    </tr>\n",
              "    <tr>\n",
              "      <th>1</th>\n",
              "      <td>0.200057</td>\n",
              "      <td>0.044157</td>\n",
              "      <td>0.238819</td>\n",
              "    </tr>\n",
              "  </tbody>\n",
              "</table>\n",
              "</div>"
            ],
            "text/plain": [
              "MultipleLines        No  No phone service       Yes\n",
              "Partner                                            \n",
              "0              0.281272          0.052676  0.183019\n",
              "1              0.200057          0.044157  0.238819"
            ]
          },
          "metadata": {},
          "execution_count": 43
        }
      ]
    },
    {
      "cell_type": "markdown",
      "metadata": {
        "id": "pKo0kA7j0sWS"
      },
      "source": [
        "인사이트 \n",
        "- 인터넷 서비스를 사용하지않으면 다음 서비스( 온라인 보안 여부, 온라인 백업 여부, 장치보호 여부, 기술지원 여부, StreamingTV, StreamingMovies)를 같이 이용하지 않음을 보아 인터넷 서비스에 포함되는 내용인것으로 추측해 볼 수 있다. \n",
        "- MultipleLines 즉, 여러회선 여부는 폰서비스에 해당한다."
      ]
    },
    {
      "cell_type": "markdown",
      "metadata": {
        "id": "_xy7ktLMQANb"
      },
      "source": [
        "## 지불방법과 월청구비용에따른 이탈 정도"
      ]
    },
    {
      "cell_type": "code",
      "metadata": {
        "colab": {
          "base_uri": "https://localhost:8080/",
          "height": 0
        },
        "id": "C3S5laGBJtke",
        "outputId": "67e0d539-a3a9-4c3b-9708-8a54a8645965"
      },
      "source": [
        "sns.set_context('notebook')\n",
        "plt.figure(figsize = (12,6))\n",
        "sns.boxplot(x = data['PaymentMethod'], y = data['MonthlyCharges'], hue = data['Churn'],palette = 'husl')\n",
        "ax = plt.gca()\n",
        "ax.legend(loc = 'upper left')"
      ],
      "execution_count": 44,
      "outputs": [
        {
          "output_type": "execute_result",
          "data": {
            "text/plain": [
              "<matplotlib.legend.Legend at 0x7f67a31c70d0>"
            ]
          },
          "metadata": {},
          "execution_count": 44
        },
        {
          "output_type": "display_data",
          "data": {
            "image/png": "[encoded data removed]",
            "text/plain": [
              "<Figure size 864x432 with 1 Axes>"
            ]
          },
          "metadata": {}
        }
      ]
    },
    {
      "cell_type": "markdown",
      "metadata": {
        "id": "jilx-gRSUOFS"
      },
      "source": [
        "- Mailed check 방법으로 청구방법을 사용하는 고객들의 월 청구금액이 가장낮다\n",
        "- Mailed check 방법으로 청구하는 사람들이 이탈자와 그렇지 않은사람들의 차이가 가장크다 -> 이탈자가 많다는 뜻이다.\n",
        "- 월청구금액이 가장 낮은것은 Mailed check이다. ->Mailed check은 이탈자가 많다. -> 월청구금액이 낮은 고객들의 이탈율이 큰가?"
      ]
    },
    {
      "cell_type": "code",
      "metadata": {
        "id": "lI7bZ6NTsqVC",
        "colab": {
          "base_uri": "https://localhost:8080/",
          "height": 0
        },
        "outputId": "bdf8d4db-50fb-4074-bae5-3244e80b94ff"
      },
      "source": [
        "ax = sns.boxplot(x = data['Churn'],  y = data['MonthlyCharges'])"
      ],
      "execution_count": 45,
      "outputs": [
        {
          "output_type": "display_data",
          "data": {
            "image/png": "[encoded data removed]",
            "text/plain": [
              "<Figure size 432x288 with 1 Axes>"
            ]
          },
          "metadata": {}
        }
      ]
    },
    {
      "cell_type": "markdown",
      "metadata": {
        "id": "vWO0G0PCuoCz"
      },
      "source": [
        "월청구금액이 낮은 사람들은 이탈하지 않는 사람들이 많다."
      ]
    },
    {
      "cell_type": "markdown",
      "metadata": {
        "id": "35WkwiHeaW_p"
      },
      "source": [
        "## 가입기간과 월간요금에 따른 이탈 확인"
      ]
    },
    {
      "cell_type": "code",
      "metadata": {
        "colab": {
          "base_uri": "https://localhost:8080/",
          "height": 0
        },
        "id": "soksSY3caVoR",
        "outputId": "f13bf1b6-a96f-41ca-88dc-076273e02ba7"
      },
      "source": [
        "sns.set_context('notebook')\n",
        "plt.figure(figsize = (12,6))\n",
        "sns.boxplot(x = data['tenure'], y = data['MonthlyCharges'], hue = data['Churn'],palette = 'husl')\n",
        "ax= plt.gca()\n",
        "ax.legend(loc = 'upper left')"
      ],
      "execution_count": 46,
      "outputs": [
        {
          "output_type": "execute_result",
          "data": {
            "text/plain": [
              "<matplotlib.legend.Legend at 0x7f67ae9d2550>"
            ]
          },
          "metadata": {},
          "execution_count": 46
        },
        {
          "output_type": "display_data",
          "data": {
            "image/png": "[encoded data removed]",
            "text/plain": [
              "<Figure size 864x432 with 1 Axes>"
            ]
          },
          "metadata": {}
        }
      ]
    },
    {
      "cell_type": "markdown",
      "metadata": {
        "id": "fMjKUf7jaw8y"
      },
      "source": [
        "- 기간이 짧은 구간에 계약을 해지하는사람이 많고, 해지하는사람들의 월 청구 비용은 기간과 상관없이 전반적으로 높은것을 알 수 있다.\n",
        "- 또한 가입기간이 오래 될 수록 월청구 비용의 분포가 올라가는것을 알 수 있다."
      ]
    },
    {
      "cell_type": "markdown",
      "metadata": {
        "id": "Z7dvwsI-q1BG"
      },
      "source": [
        "# 중간 인사이트 정리\n"
      ]
    },
    {
      "cell_type": "markdown",
      "metadata": {
        "id": "bQeFpSWTq4K4"
      },
      "source": [
        "- 단기계약일수록 이탈할 가능성이 높다 -> 최소 1년, 가능하다면 2년계약(약정)을 통해 장기간 약정으로 고객을 유치하는것이 가장 좋다.\n",
        "- 5개월 이하로 이용한 유저들이 전체 이탈율의 40%를 차지하므로 그 기간동안 계속해서 사용할 수 있도록 서비스를 제공하는 방법도 좋은접근이라고 생각한다.\n",
        "- 기간과 상관없이 비용이 높은사람들이 해지를 많이 하므로 일정 비용이상 지출에 근접한다면 알람 서비스를 만들어 조절할 수 있도록 개선한다.\n",
        "- 성별에 따른 고객의 이탈의 차이는 보여주지 않고있다.\n",
        "- 고령자 고객분들의 이탈률이 높으므로 고령자 분들을 위한 서비스를 기획해야할 필요가 있다(장기간 계약시 할인된 가격으로 이용 등), 향후 젊은 고객층이 고령자가 되었을시 이탈 방지를 위함\n",
        "- 파트너 혹은 부양가족이 없는 고객들의 이탈률이 더 높은 것으로 보아 결합상품의 혜택을 받지 못할 가능성이 있으므로 직장동료, 혹은 친구,지인들과의 결합상품을 추가적으로 기획 해보는것도 좋은 방법이라고 생각한다.\n"
      ]
    },
    {
      "cell_type": "markdown",
      "metadata": {
        "id": "5S9KRz4ir2Bz"
      },
      "source": [
        "# 전처리 완료하기"
      ]
    },
    {
      "cell_type": "markdown",
      "metadata": {
        "id": "U9Bm8vOF_XgW"
      },
      "source": [
        "## 배우자, 부양가족, 각종서비스"
      ]
    },
    {
      "cell_type": "markdown",
      "metadata": {
        "id": "T__pDYPH_RDq"
      },
      "source": [
        "중복되는 내용에 대해서 한번에 map함수를 사용하여 전처리 해준다."
      ]
    },
    {
      "cell_type": "markdown",
      "metadata": {
        "id": "RK2qDWNRSix5"
      },
      "source": [
        " - No  = 0\n",
        " - Yes = 1\n",
        " - No phone service = 2\n",
        " - No internet service = 3"
      ]
    },
    {
      "cell_type": "code",
      "metadata": {
        "id": "H4iKNDQRJYvt"
      },
      "source": [
        "# mapping dict생성\n",
        "mapping = {'No': 0, \n",
        "           'Yes': 1,\n",
        "           'No phone service': 2,\n",
        "           'No internet service' : 3}\n",
        "\n",
        "# 인코딩 컬럼 리스트 생성\n",
        "columns_list = ['PhoneService', 'MultipleLines', 'OnlineSecurity', 'OnlineBackup',\\\n",
        "                'DeviceProtection', 'TechSupport', 'StreamingTV', 'StreamingMovies', \\\n",
        "                'PaperlessBilling']\n",
        "\n",
        "# map함수 사용\n",
        "for i in columns_list:\n",
        "  data[i] = data[i].map(mapping)\n",
        "  data"
      ],
      "execution_count": 47,
      "outputs": []
    },
    {
      "cell_type": "code",
      "metadata": {
        "colab": {
          "base_uri": "https://localhost:8080/",
          "height": 0
        },
        "id": "OsFVT_sFV83w",
        "outputId": "5079c70a-04df-4388-e348-e5805b080945"
      },
      "source": [
        "data"
      ],
      "execution_count": 48,
      "outputs": [
        {
          "output_type": "execute_result",
          "data": {
            "text/html": [
              "<div>\n",
              "<style scoped>\n",
              "    .dataframe tbody tr th:only-of-type {\n",
              "        vertical-align: middle;\n",
              "    }\n",
              "\n",
              "    .dataframe tbody tr th {\n",
              "        vertical-align: top;\n",
              "    }\n",
              "\n",
              "    .dataframe thead th {\n",
              "        text-align: right;\n",
              "    }\n",
              "</style>\n",
              "<table border=\"1\" class=\"dataframe\">\n",
              "  <thead>\n",
              "    <tr style=\"text-align: right;\">\n",
              "      <th></th>\n",
              "      <th>gender</th>\n",
              "      <th>SeniorCitizen</th>\n",
              "      <th>Partner</th>\n",
              "      <th>Dependents</th>\n",
              "      <th>tenure</th>\n",
              "      <th>PhoneService</th>\n",
              "      <th>MultipleLines</th>\n",
              "      <th>InternetService</th>\n",
              "      <th>OnlineSecurity</th>\n",
              "      <th>OnlineBackup</th>\n",
              "      <th>DeviceProtection</th>\n",
              "      <th>TechSupport</th>\n",
              "      <th>StreamingTV</th>\n",
              "      <th>StreamingMovies</th>\n",
              "      <th>Contract</th>\n",
              "      <th>PaperlessBilling</th>\n",
              "      <th>PaymentMethod</th>\n",
              "      <th>MonthlyCharges</th>\n",
              "      <th>TotalCharges</th>\n",
              "      <th>Churn</th>\n",
              "    </tr>\n",
              "  </thead>\n",
              "  <tbody>\n",
              "    <tr>\n",
              "      <th>0</th>\n",
              "      <td>0</td>\n",
              "      <td>0</td>\n",
              "      <td>1</td>\n",
              "      <td>0</td>\n",
              "      <td>0</td>\n",
              "      <td>0</td>\n",
              "      <td>2</td>\n",
              "      <td>DSL</td>\n",
              "      <td>0</td>\n",
              "      <td>1</td>\n",
              "      <td>0</td>\n",
              "      <td>0</td>\n",
              "      <td>0</td>\n",
              "      <td>0</td>\n",
              "      <td>0</td>\n",
              "      <td>1</td>\n",
              "      <td>Electronic check</td>\n",
              "      <td>29.85</td>\n",
              "      <td>29.85</td>\n",
              "      <td>0</td>\n",
              "    </tr>\n",
              "    <tr>\n",
              "      <th>1</th>\n",
              "      <td>1</td>\n",
              "      <td>0</td>\n",
              "      <td>0</td>\n",
              "      <td>0</td>\n",
              "      <td>2</td>\n",
              "      <td>1</td>\n",
              "      <td>0</td>\n",
              "      <td>DSL</td>\n",
              "      <td>1</td>\n",
              "      <td>0</td>\n",
              "      <td>1</td>\n",
              "      <td>0</td>\n",
              "      <td>0</td>\n",
              "      <td>0</td>\n",
              "      <td>1</td>\n",
              "      <td>0</td>\n",
              "      <td>Mailed check</td>\n",
              "      <td>56.95</td>\n",
              "      <td>1889.50</td>\n",
              "      <td>0</td>\n",
              "    </tr>\n",
              "    <tr>\n",
              "      <th>2</th>\n",
              "      <td>1</td>\n",
              "      <td>0</td>\n",
              "      <td>0</td>\n",
              "      <td>0</td>\n",
              "      <td>0</td>\n",
              "      <td>1</td>\n",
              "      <td>0</td>\n",
              "      <td>DSL</td>\n",
              "      <td>1</td>\n",
              "      <td>1</td>\n",
              "      <td>0</td>\n",
              "      <td>0</td>\n",
              "      <td>0</td>\n",
              "      <td>0</td>\n",
              "      <td>0</td>\n",
              "      <td>1</td>\n",
              "      <td>Mailed check</td>\n",
              "      <td>53.85</td>\n",
              "      <td>108.15</td>\n",
              "      <td>1</td>\n",
              "    </tr>\n",
              "    <tr>\n",
              "      <th>3</th>\n",
              "      <td>1</td>\n",
              "      <td>0</td>\n",
              "      <td>0</td>\n",
              "      <td>0</td>\n",
              "      <td>3</td>\n",
              "      <td>0</td>\n",
              "      <td>2</td>\n",
              "      <td>DSL</td>\n",
              "      <td>1</td>\n",
              "      <td>0</td>\n",
              "      <td>1</td>\n",
              "      <td>1</td>\n",
              "      <td>0</td>\n",
              "      <td>0</td>\n",
              "      <td>1</td>\n",
              "      <td>0</td>\n",
              "      <td>Bank transfer (automatic)</td>\n",
              "      <td>42.30</td>\n",
              "      <td>1840.75</td>\n",
              "      <td>0</td>\n",
              "    </tr>\n",
              "    <tr>\n",
              "      <th>4</th>\n",
              "      <td>0</td>\n",
              "      <td>0</td>\n",
              "      <td>0</td>\n",
              "      <td>0</td>\n",
              "      <td>0</td>\n",
              "      <td>1</td>\n",
              "      <td>0</td>\n",
              "      <td>Fiber optic</td>\n",
              "      <td>0</td>\n",
              "      <td>0</td>\n",
              "      <td>0</td>\n",
              "      <td>0</td>\n",
              "      <td>0</td>\n",
              "      <td>0</td>\n",
              "      <td>0</td>\n",
              "      <td>1</td>\n",
              "      <td>Electronic check</td>\n",
              "      <td>70.70</td>\n",
              "      <td>151.65</td>\n",
              "      <td>1</td>\n",
              "    </tr>\n",
              "    <tr>\n",
              "      <th>...</th>\n",
              "      <td>...</td>\n",
              "      <td>...</td>\n",
              "      <td>...</td>\n",
              "      <td>...</td>\n",
              "      <td>...</td>\n",
              "      <td>...</td>\n",
              "      <td>...</td>\n",
              "      <td>...</td>\n",
              "      <td>...</td>\n",
              "      <td>...</td>\n",
              "      <td>...</td>\n",
              "      <td>...</td>\n",
              "      <td>...</td>\n",
              "      <td>...</td>\n",
              "      <td>...</td>\n",
              "      <td>...</td>\n",
              "      <td>...</td>\n",
              "      <td>...</td>\n",
              "      <td>...</td>\n",
              "      <td>...</td>\n",
              "    </tr>\n",
              "    <tr>\n",
              "      <th>7038</th>\n",
              "      <td>1</td>\n",
              "      <td>0</td>\n",
              "      <td>1</td>\n",
              "      <td>1</td>\n",
              "      <td>1</td>\n",
              "      <td>1</td>\n",
              "      <td>1</td>\n",
              "      <td>DSL</td>\n",
              "      <td>1</td>\n",
              "      <td>0</td>\n",
              "      <td>1</td>\n",
              "      <td>1</td>\n",
              "      <td>1</td>\n",
              "      <td>1</td>\n",
              "      <td>1</td>\n",
              "      <td>1</td>\n",
              "      <td>Mailed check</td>\n",
              "      <td>84.80</td>\n",
              "      <td>1990.50</td>\n",
              "      <td>0</td>\n",
              "    </tr>\n",
              "    <tr>\n",
              "      <th>7039</th>\n",
              "      <td>0</td>\n",
              "      <td>0</td>\n",
              "      <td>1</td>\n",
              "      <td>1</td>\n",
              "      <td>4</td>\n",
              "      <td>1</td>\n",
              "      <td>1</td>\n",
              "      <td>Fiber optic</td>\n",
              "      <td>0</td>\n",
              "      <td>1</td>\n",
              "      <td>1</td>\n",
              "      <td>0</td>\n",
              "      <td>1</td>\n",
              "      <td>1</td>\n",
              "      <td>1</td>\n",
              "      <td>1</td>\n",
              "      <td>Credit card (automatic)</td>\n",
              "      <td>103.20</td>\n",
              "      <td>7362.90</td>\n",
              "      <td>0</td>\n",
              "    </tr>\n",
              "    <tr>\n",
              "      <th>7040</th>\n",
              "      <td>0</td>\n",
              "      <td>0</td>\n",
              "      <td>1</td>\n",
              "      <td>1</td>\n",
              "      <td>0</td>\n",
              "      <td>0</td>\n",
              "      <td>2</td>\n",
              "      <td>DSL</td>\n",
              "      <td>1</td>\n",
              "      <td>0</td>\n",
              "      <td>0</td>\n",
              "      <td>0</td>\n",
              "      <td>0</td>\n",
              "      <td>0</td>\n",
              "      <td>0</td>\n",
              "      <td>1</td>\n",
              "      <td>Electronic check</td>\n",
              "      <td>29.60</td>\n",
              "      <td>346.45</td>\n",
              "      <td>0</td>\n",
              "    </tr>\n",
              "    <tr>\n",
              "      <th>7041</th>\n",
              "      <td>1</td>\n",
              "      <td>1</td>\n",
              "      <td>1</td>\n",
              "      <td>0</td>\n",
              "      <td>0</td>\n",
              "      <td>1</td>\n",
              "      <td>1</td>\n",
              "      <td>Fiber optic</td>\n",
              "      <td>0</td>\n",
              "      <td>0</td>\n",
              "      <td>0</td>\n",
              "      <td>0</td>\n",
              "      <td>0</td>\n",
              "      <td>0</td>\n",
              "      <td>0</td>\n",
              "      <td>1</td>\n",
              "      <td>Mailed check</td>\n",
              "      <td>74.40</td>\n",
              "      <td>306.60</td>\n",
              "      <td>1</td>\n",
              "    </tr>\n",
              "    <tr>\n",
              "      <th>7042</th>\n",
              "      <td>1</td>\n",
              "      <td>0</td>\n",
              "      <td>0</td>\n",
              "      <td>0</td>\n",
              "      <td>4</td>\n",
              "      <td>1</td>\n",
              "      <td>0</td>\n",
              "      <td>Fiber optic</td>\n",
              "      <td>1</td>\n",
              "      <td>0</td>\n",
              "      <td>1</td>\n",
              "      <td>1</td>\n",
              "      <td>1</td>\n",
              "      <td>1</td>\n",
              "      <td>2</td>\n",
              "      <td>1</td>\n",
              "      <td>Bank transfer (automatic)</td>\n",
              "      <td>105.65</td>\n",
              "      <td>6844.50</td>\n",
              "      <td>0</td>\n",
              "    </tr>\n",
              "  </tbody>\n",
              "</table>\n",
              "<p>7043 rows × 20 columns</p>\n",
              "</div>"
            ],
            "text/plain": [
              "      gender  SeniorCitizen  Partner  ...  MonthlyCharges  TotalCharges  Churn\n",
              "0          0              0        1  ...           29.85         29.85      0\n",
              "1          1              0        0  ...           56.95       1889.50      0\n",
              "2          1              0        0  ...           53.85        108.15      1\n",
              "3          1              0        0  ...           42.30       1840.75      0\n",
              "4          0              0        0  ...           70.70        151.65      1\n",
              "...      ...            ...      ...  ...             ...           ...    ...\n",
              "7038       1              0        1  ...           84.80       1990.50      0\n",
              "7039       0              0        1  ...          103.20       7362.90      0\n",
              "7040       0              0        1  ...           29.60        346.45      0\n",
              "7041       1              1        1  ...           74.40        306.60      1\n",
              "7042       1              0        0  ...          105.65       6844.50      0\n",
              "\n",
              "[7043 rows x 20 columns]"
            ]
          },
          "metadata": {},
          "execution_count": 48
        }
      ]
    },
    {
      "cell_type": "code",
      "metadata": {
        "id": "ERXg6tHHQ4Cw",
        "colab": {
          "base_uri": "https://localhost:8080/"
        },
        "outputId": "479f7afa-76bf-47d3-fc3b-785521f7159e"
      },
      "source": [
        "data.info()"
      ],
      "execution_count": 49,
      "outputs": [
        {
          "output_type": "stream",
          "name": "stdout",
          "text": [
            "<class 'pandas.core.frame.DataFrame'>\n",
            "RangeIndex: 7043 entries, 0 to 7042\n",
            "Data columns (total 20 columns):\n",
            " #   Column            Non-Null Count  Dtype  \n",
            "---  ------            --------------  -----  \n",
            " 0   gender            7043 non-null   int64  \n",
            " 1   SeniorCitizen     7043 non-null   int64  \n",
            " 2   Partner           7043 non-null   int64  \n",
            " 3   Dependents        7043 non-null   int64  \n",
            " 4   tenure            7043 non-null   int64  \n",
            " 5   PhoneService      7043 non-null   int64  \n",
            " 6   MultipleLines     7043 non-null   int64  \n",
            " 7   InternetService   7043 non-null   object \n",
            " 8   OnlineSecurity    7043 non-null   int64  \n",
            " 9   OnlineBackup      7043 non-null   int64  \n",
            " 10  DeviceProtection  7043 non-null   int64  \n",
            " 11  TechSupport       7043 non-null   int64  \n",
            " 12  StreamingTV       7043 non-null   int64  \n",
            " 13  StreamingMovies   7043 non-null   int64  \n",
            " 14  Contract          7043 non-null   int64  \n",
            " 15  PaperlessBilling  7043 non-null   int64  \n",
            " 16  PaymentMethod     7043 non-null   object \n",
            " 17  MonthlyCharges    7043 non-null   float64\n",
            " 18  TotalCharges      7032 non-null   float64\n",
            " 19  Churn             7043 non-null   int64  \n",
            "dtypes: float64(2), int64(16), object(2)\n",
            "memory usage: 1.1+ MB\n"
          ]
        }
      ]
    },
    {
      "cell_type": "markdown",
      "metadata": {
        "id": "y0QJgc_oALfl"
      },
      "source": [
        "## Tenure"
      ]
    },
    {
      "cell_type": "code",
      "metadata": {
        "id": "4s8OK8woj0k2",
        "colab": {
          "base_uri": "https://localhost:8080/",
          "height": 359
        },
        "outputId": "74742aa5-11ec-40bf-d037-a8178a23c8ad"
      },
      "source": [
        "# 이상치 확인\n",
        "sns.boxplot(data['tenure'])"
      ],
      "execution_count": 50,
      "outputs": [
        {
          "output_type": "stream",
          "name": "stderr",
          "text": [
            "/usr/local/lib/python3.7/dist-packages/seaborn/_decorators.py:43: FutureWarning: Pass the following variable as a keyword arg: x. From version 0.12, the only valid positional argument will be `data`, and passing other arguments without an explicit keyword will result in an error or misinterpretation.\n",
            "  FutureWarning\n"
          ]
        },
        {
          "output_type": "execute_result",
          "data": {
            "text/plain": [
              "<matplotlib.axes._subplots.AxesSubplot at 0x7f67a132f790>"
            ]
          },
          "metadata": {},
          "execution_count": 50
        },
        {
          "output_type": "display_data",
          "data": {
            "image/png": "[encoded data removed]",
            "text/plain": [
              "<Figure size 432x288 with 1 Axes>"
            ]
          },
          "metadata": {}
        }
      ]
    },
    {
      "cell_type": "code",
      "metadata": {
        "id": "i2S-rSiYAKDV",
        "colab": {
          "base_uri": "https://localhost:8080/"
        },
        "outputId": "89fa8bd8-ceaa-4aa1-9d7c-f81e6d798144"
      },
      "source": [
        "data['tenure']"
      ],
      "execution_count": 51,
      "outputs": [
        {
          "output_type": "execute_result",
          "data": {
            "text/plain": [
              "0       0\n",
              "1       2\n",
              "2       0\n",
              "3       3\n",
              "4       0\n",
              "       ..\n",
              "7038    1\n",
              "7039    4\n",
              "7040    0\n",
              "7041    0\n",
              "7042    4\n",
              "Name: tenure, Length: 7043, dtype: int64"
            ]
          },
          "metadata": {},
          "execution_count": 51
        }
      ]
    },
    {
      "cell_type": "code",
      "metadata": {
        "id": "Nh1DVsJUASkc",
        "colab": {
          "base_uri": "https://localhost:8080/"
        },
        "outputId": "23385732-2c0d-4d9a-c703-dafd39d19ab1"
      },
      "source": [
        "from sklearn.preprocessing import LabelEncoder\n",
        "le = LabelEncoder()\n",
        "le.fit(data['tenure'])\n",
        "data['tenure'] = le.transform(data['tenure'])\n",
        "data['tenure']"
      ],
      "execution_count": 52,
      "outputs": [
        {
          "output_type": "execute_result",
          "data": {
            "text/plain": [
              "0       0\n",
              "1       2\n",
              "2       0\n",
              "3       3\n",
              "4       0\n",
              "       ..\n",
              "7038    1\n",
              "7039    4\n",
              "7040    0\n",
              "7041    0\n",
              "7042    4\n",
              "Name: tenure, Length: 7043, dtype: int64"
            ]
          },
          "metadata": {},
          "execution_count": 52
        }
      ]
    },
    {
      "cell_type": "markdown",
      "metadata": {
        "id": "DGKK_z5zBBeB"
      },
      "source": [
        "## InternetService "
      ]
    },
    {
      "cell_type": "markdown",
      "metadata": {
        "id": "a7m2LLe4CKOk"
      },
      "source": [
        "InternetService : 인터넷 서비스(인터넷 서비스 제공없체: DSL, 광섬유, 아니요)"
      ]
    },
    {
      "cell_type": "code",
      "metadata": {
        "id": "9rPiOHa2CL-g",
        "colab": {
          "base_uri": "https://localhost:8080/"
        },
        "outputId": "1be24a0b-0e6a-4ae7-a224-d2314a36c775"
      },
      "source": [
        "IS_mapping = {'DSL' : 0,'Fiber optic' : 1, 'No' : 2 }\n",
        "data['InternetService']= data['InternetService'].map(IS_mapping)\n",
        "data['InternetService'].tail(50)"
      ],
      "execution_count": 53,
      "outputs": [
        {
          "output_type": "execute_result",
          "data": {
            "text/plain": [
              "6993    1\n",
              "6994    2\n",
              "6995    0\n",
              "6996    0\n",
              "6997    1\n",
              "6998    1\n",
              "6999    0\n",
              "7000    2\n",
              "7001    0\n",
              "7002    1\n",
              "7003    0\n",
              "7004    1\n",
              "7005    2\n",
              "7006    1\n",
              "7007    0\n",
              "7008    1\n",
              "7009    1\n",
              "7010    1\n",
              "7011    0\n",
              "7012    0\n",
              "7013    1\n",
              "7014    1\n",
              "7015    1\n",
              "7016    0\n",
              "7017    2\n",
              "7018    1\n",
              "7019    2\n",
              "7020    2\n",
              "7021    0\n",
              "7022    1\n",
              "7023    1\n",
              "7024    1\n",
              "7025    1\n",
              "7026    0\n",
              "7027    0\n",
              "7028    0\n",
              "7029    0\n",
              "7030    2\n",
              "7031    0\n",
              "7032    1\n",
              "7033    1\n",
              "7034    1\n",
              "7035    1\n",
              "7036    0\n",
              "7037    2\n",
              "7038    0\n",
              "7039    1\n",
              "7040    0\n",
              "7041    1\n",
              "7042    1\n",
              "Name: InternetService, dtype: int64"
            ]
          },
          "metadata": {},
          "execution_count": 53
        }
      ]
    },
    {
      "cell_type": "code",
      "metadata": {
        "id": "24n4qIvcj5zw",
        "colab": {
          "base_uri": "https://localhost:8080/",
          "height": 359
        },
        "outputId": "0d907f35-0dae-4f5e-b5c0-8c9e2c9b2b76"
      },
      "source": [
        "# 이상치 확인\n",
        "sns.boxplot(data['InternetService'])"
      ],
      "execution_count": 54,
      "outputs": [
        {
          "output_type": "stream",
          "name": "stderr",
          "text": [
            "/usr/local/lib/python3.7/dist-packages/seaborn/_decorators.py:43: FutureWarning: Pass the following variable as a keyword arg: x. From version 0.12, the only valid positional argument will be `data`, and passing other arguments without an explicit keyword will result in an error or misinterpretation.\n",
            "  FutureWarning\n"
          ]
        },
        {
          "output_type": "execute_result",
          "data": {
            "text/plain": [
              "<matplotlib.axes._subplots.AxesSubplot at 0x7f67a1246210>"
            ]
          },
          "metadata": {},
          "execution_count": 54
        },
        {
          "output_type": "display_data",
          "data": {
            "image/png": "[encoded data removed]",
            "text/plain": [
              "<Figure size 432x288 with 1 Axes>"
            ]
          },
          "metadata": {}
        }
      ]
    },
    {
      "cell_type": "code",
      "metadata": {
        "id": "h3Juc4pJCjwP",
        "colab": {
          "base_uri": "https://localhost:8080/"
        },
        "outputId": "5422acd4-10ee-4299-9dcd-026b81bc0d24"
      },
      "source": [
        "data.info()"
      ],
      "execution_count": 55,
      "outputs": [
        {
          "output_type": "stream",
          "name": "stdout",
          "text": [
            "<class 'pandas.core.frame.DataFrame'>\n",
            "RangeIndex: 7043 entries, 0 to 7042\n",
            "Data columns (total 20 columns):\n",
            " #   Column            Non-Null Count  Dtype  \n",
            "---  ------            --------------  -----  \n",
            " 0   gender            7043 non-null   int64  \n",
            " 1   SeniorCitizen     7043 non-null   int64  \n",
            " 2   Partner           7043 non-null   int64  \n",
            " 3   Dependents        7043 non-null   int64  \n",
            " 4   tenure            7043 non-null   int64  \n",
            " 5   PhoneService      7043 non-null   int64  \n",
            " 6   MultipleLines     7043 non-null   int64  \n",
            " 7   InternetService   7043 non-null   int64  \n",
            " 8   OnlineSecurity    7043 non-null   int64  \n",
            " 9   OnlineBackup      7043 non-null   int64  \n",
            " 10  DeviceProtection  7043 non-null   int64  \n",
            " 11  TechSupport       7043 non-null   int64  \n",
            " 12  StreamingTV       7043 non-null   int64  \n",
            " 13  StreamingMovies   7043 non-null   int64  \n",
            " 14  Contract          7043 non-null   int64  \n",
            " 15  PaperlessBilling  7043 non-null   int64  \n",
            " 16  PaymentMethod     7043 non-null   object \n",
            " 17  MonthlyCharges    7043 non-null   float64\n",
            " 18  TotalCharges      7032 non-null   float64\n",
            " 19  Churn             7043 non-null   int64  \n",
            "dtypes: float64(2), int64(17), object(1)\n",
            "memory usage: 1.1+ MB\n"
          ]
        }
      ]
    },
    {
      "cell_type": "markdown",
      "metadata": {
        "id": "HzKT9p7-3RLx"
      },
      "source": [
        "## PaymentMethod"
      ]
    },
    {
      "cell_type": "code",
      "metadata": {
        "id": "NtkztqeBDd-9",
        "colab": {
          "base_uri": "https://localhost:8080/"
        },
        "outputId": "7ed38328-2bf2-4c4c-eb13-9d9dc039eb40"
      },
      "source": [
        "data['PaymentMethod'].unique()"
      ],
      "execution_count": 56,
      "outputs": [
        {
          "output_type": "execute_result",
          "data": {
            "text/plain": [
              "array(['Electronic check', 'Mailed check', 'Bank transfer (automatic)',\n",
              "       'Credit card (automatic)'], dtype=object)"
            ]
          },
          "metadata": {},
          "execution_count": 56
        }
      ]
    },
    {
      "cell_type": "code",
      "metadata": {
        "id": "j5Uz5KmoDq4V",
        "colab": {
          "base_uri": "https://localhost:8080/"
        },
        "outputId": "77f6a753-34a1-4770-c1df-e8899fda8569"
      },
      "source": [
        "# mapping\n",
        "\n",
        "P_mapping = {'Electronic check' : 0, 'Mailed check' : 1,  'Bank transfer (automatic)' : 2,  'Credit card (automatic)' : 3}\n",
        "data['PaymentMethod'] =data['PaymentMethod'].map(P_mapping).astype(int)\n",
        "data['PaymentMethod']"
      ],
      "execution_count": 57,
      "outputs": [
        {
          "output_type": "execute_result",
          "data": {
            "text/plain": [
              "0       0\n",
              "1       1\n",
              "2       1\n",
              "3       2\n",
              "4       0\n",
              "       ..\n",
              "7038    1\n",
              "7039    3\n",
              "7040    0\n",
              "7041    1\n",
              "7042    2\n",
              "Name: PaymentMethod, Length: 7043, dtype: int64"
            ]
          },
          "metadata": {},
          "execution_count": 57
        }
      ]
    },
    {
      "cell_type": "code",
      "metadata": {
        "id": "ZbWy6NThkTqT",
        "colab": {
          "base_uri": "https://localhost:8080/",
          "height": 359
        },
        "outputId": "6dfcc307-f04a-4980-ff33-ec0e66b3e3ea"
      },
      "source": [
        "# 이상치 확인\n",
        "sns.boxplot(data['PaymentMethod'])"
      ],
      "execution_count": 58,
      "outputs": [
        {
          "output_type": "stream",
          "name": "stderr",
          "text": [
            "/usr/local/lib/python3.7/dist-packages/seaborn/_decorators.py:43: FutureWarning: Pass the following variable as a keyword arg: x. From version 0.12, the only valid positional argument will be `data`, and passing other arguments without an explicit keyword will result in an error or misinterpretation.\n",
            "  FutureWarning\n"
          ]
        },
        {
          "output_type": "execute_result",
          "data": {
            "text/plain": [
              "<matplotlib.axes._subplots.AxesSubplot at 0x7f67a1202b90>"
            ]
          },
          "metadata": {},
          "execution_count": 58
        },
        {
          "output_type": "display_data",
          "data": {
            "image/png": "[encoded data removed]",
            "text/plain": [
              "<Figure size 432x288 with 1 Axes>"
            ]
          },
          "metadata": {}
        }
      ]
    },
    {
      "cell_type": "markdown",
      "metadata": {
        "id": "_1N-94w1EKJE"
      },
      "source": [
        "## MonthlyCharges"
      ]
    },
    {
      "cell_type": "code",
      "metadata": {
        "id": "ALR3QjiSEIeM",
        "colab": {
          "base_uri": "https://localhost:8080/"
        },
        "outputId": "4f2e9d4e-55c0-42a7-b256-11dab1ecce2b"
      },
      "source": [
        "data['MonthlyCharges']"
      ],
      "execution_count": 59,
      "outputs": [
        {
          "output_type": "execute_result",
          "data": {
            "text/plain": [
              "0        29.85\n",
              "1        56.95\n",
              "2        53.85\n",
              "3        42.30\n",
              "4        70.70\n",
              "         ...  \n",
              "7038     84.80\n",
              "7039    103.20\n",
              "7040     29.60\n",
              "7041     74.40\n",
              "7042    105.65\n",
              "Name: MonthlyCharges, Length: 7043, dtype: float64"
            ]
          },
          "metadata": {},
          "execution_count": 59
        }
      ]
    },
    {
      "cell_type": "code",
      "metadata": {
        "id": "Dzwq4oBanMqg",
        "colab": {
          "base_uri": "https://localhost:8080/",
          "height": 359
        },
        "outputId": "27e451d4-8b5e-4d80-dcfc-5dfa8da06cd9"
      },
      "source": [
        "sns.boxplot(data['MonthlyCharges'])"
      ],
      "execution_count": 60,
      "outputs": [
        {
          "output_type": "stream",
          "name": "stderr",
          "text": [
            "/usr/local/lib/python3.7/dist-packages/seaborn/_decorators.py:43: FutureWarning: Pass the following variable as a keyword arg: x. From version 0.12, the only valid positional argument will be `data`, and passing other arguments without an explicit keyword will result in an error or misinterpretation.\n",
            "  FutureWarning\n"
          ]
        },
        {
          "output_type": "execute_result",
          "data": {
            "text/plain": [
              "<matplotlib.axes._subplots.AxesSubplot at 0x7f67a1133410>"
            ]
          },
          "metadata": {},
          "execution_count": 60
        },
        {
          "output_type": "display_data",
          "data": {
            "image/png": "[encoded data removed]",
            "text/plain": [
              "<Figure size 432x288 with 1 Axes>"
            ]
          },
          "metadata": {}
        }
      ]
    },
    {
      "cell_type": "code",
      "metadata": {
        "id": "I98ucsN3xmzW",
        "colab": {
          "base_uri": "https://localhost:8080/"
        },
        "outputId": "a22cf728-8eb6-4a98-d610-cb2d91403dca"
      },
      "source": [
        "data.info()"
      ],
      "execution_count": 61,
      "outputs": [
        {
          "output_type": "stream",
          "name": "stdout",
          "text": [
            "<class 'pandas.core.frame.DataFrame'>\n",
            "RangeIndex: 7043 entries, 0 to 7042\n",
            "Data columns (total 20 columns):\n",
            " #   Column            Non-Null Count  Dtype  \n",
            "---  ------            --------------  -----  \n",
            " 0   gender            7043 non-null   int64  \n",
            " 1   SeniorCitizen     7043 non-null   int64  \n",
            " 2   Partner           7043 non-null   int64  \n",
            " 3   Dependents        7043 non-null   int64  \n",
            " 4   tenure            7043 non-null   int64  \n",
            " 5   PhoneService      7043 non-null   int64  \n",
            " 6   MultipleLines     7043 non-null   int64  \n",
            " 7   InternetService   7043 non-null   int64  \n",
            " 8   OnlineSecurity    7043 non-null   int64  \n",
            " 9   OnlineBackup      7043 non-null   int64  \n",
            " 10  DeviceProtection  7043 non-null   int64  \n",
            " 11  TechSupport       7043 non-null   int64  \n",
            " 12  StreamingTV       7043 non-null   int64  \n",
            " 13  StreamingMovies   7043 non-null   int64  \n",
            " 14  Contract          7043 non-null   int64  \n",
            " 15  PaperlessBilling  7043 non-null   int64  \n",
            " 16  PaymentMethod     7043 non-null   int64  \n",
            " 17  MonthlyCharges    7043 non-null   float64\n",
            " 18  TotalCharges      7032 non-null   float64\n",
            " 19  Churn             7043 non-null   int64  \n",
            "dtypes: float64(2), int64(18)\n",
            "memory usage: 1.1 MB\n"
          ]
        }
      ]
    },
    {
      "cell_type": "markdown",
      "metadata": {
        "id": "DVceeFE5yEok"
      },
      "source": [
        "## TotalCharges"
      ]
    },
    {
      "cell_type": "code",
      "metadata": {
        "id": "2xDbtDA5yHl4",
        "colab": {
          "base_uri": "https://localhost:8080/"
        },
        "outputId": "84523afe-9c1f-496d-9ce4-12181a06e5c5"
      },
      "source": [
        "data['TotalCharges']"
      ],
      "execution_count": 62,
      "outputs": [
        {
          "output_type": "execute_result",
          "data": {
            "text/plain": [
              "0         29.85\n",
              "1       1889.50\n",
              "2        108.15\n",
              "3       1840.75\n",
              "4        151.65\n",
              "         ...   \n",
              "7038    1990.50\n",
              "7039    7362.90\n",
              "7040     346.45\n",
              "7041     306.60\n",
              "7042    6844.50\n",
              "Name: TotalCharges, Length: 7043, dtype: float64"
            ]
          },
          "metadata": {},
          "execution_count": 62
        }
      ]
    },
    {
      "cell_type": "code",
      "metadata": {
        "id": "QKrgEN4D0_w2",
        "colab": {
          "base_uri": "https://localhost:8080/"
        },
        "outputId": "a85d198f-2859-49aa-eac9-91d461d60d75"
      },
      "source": [
        "data.loc[data['TotalCharges']==' ','TotalCharges']"
      ],
      "execution_count": 63,
      "outputs": [
        {
          "output_type": "execute_result",
          "data": {
            "text/plain": [
              "Series([], Name: TotalCharges, dtype: float64)"
            ]
          },
          "metadata": {},
          "execution_count": 63
        }
      ]
    },
    {
      "cell_type": "code",
      "metadata": {
        "id": "3Hdm4BMv8FvV",
        "colab": {
          "base_uri": "https://localhost:8080/"
        },
        "outputId": "da6e0e57-2cf6-4d0a-c1ab-87bbb15621be"
      },
      "source": [
        "data['TotalCharges'] = pd.to_numeric(data['TotalCharges'].replace(' ',''))\n",
        "data['TotalCharges']"
      ],
      "execution_count": 64,
      "outputs": [
        {
          "output_type": "execute_result",
          "data": {
            "text/plain": [
              "0         29.85\n",
              "1       1889.50\n",
              "2        108.15\n",
              "3       1840.75\n",
              "4        151.65\n",
              "         ...   \n",
              "7038    1990.50\n",
              "7039    7362.90\n",
              "7040     346.45\n",
              "7041     306.60\n",
              "7042    6844.50\n",
              "Name: TotalCharges, Length: 7043, dtype: float64"
            ]
          },
          "metadata": {},
          "execution_count": 64
        }
      ]
    },
    {
      "cell_type": "code",
      "metadata": {
        "id": "5dy4kGlxnYBd",
        "colab": {
          "base_uri": "https://localhost:8080/"
        },
        "outputId": "695432ae-871a-4d4e-d0e1-91989c7879a7"
      },
      "source": [
        "# 결측값 제거\n",
        "data.isnull().sum()"
      ],
      "execution_count": 65,
      "outputs": [
        {
          "output_type": "execute_result",
          "data": {
            "text/plain": [
              "gender               0\n",
              "SeniorCitizen        0\n",
              "Partner              0\n",
              "Dependents           0\n",
              "tenure               0\n",
              "PhoneService         0\n",
              "MultipleLines        0\n",
              "InternetService      0\n",
              "OnlineSecurity       0\n",
              "OnlineBackup         0\n",
              "DeviceProtection     0\n",
              "TechSupport          0\n",
              "StreamingTV          0\n",
              "StreamingMovies      0\n",
              "Contract             0\n",
              "PaperlessBilling     0\n",
              "PaymentMethod        0\n",
              "MonthlyCharges       0\n",
              "TotalCharges        11\n",
              "Churn                0\n",
              "dtype: int64"
            ]
          },
          "metadata": {},
          "execution_count": 65
        }
      ]
    },
    {
      "cell_type": "code",
      "metadata": {
        "id": "2EqX4TPOn-Ku",
        "colab": {
          "base_uri": "https://localhost:8080/"
        },
        "outputId": "73fd9626-c301-44ee-83a4-59afdd15752f"
      },
      "source": [
        "data = data.dropna()\n",
        "data.info()"
      ],
      "execution_count": 66,
      "outputs": [
        {
          "output_type": "stream",
          "name": "stdout",
          "text": [
            "<class 'pandas.core.frame.DataFrame'>\n",
            "Int64Index: 7032 entries, 0 to 7042\n",
            "Data columns (total 20 columns):\n",
            " #   Column            Non-Null Count  Dtype  \n",
            "---  ------            --------------  -----  \n",
            " 0   gender            7032 non-null   int64  \n",
            " 1   SeniorCitizen     7032 non-null   int64  \n",
            " 2   Partner           7032 non-null   int64  \n",
            " 3   Dependents        7032 non-null   int64  \n",
            " 4   tenure            7032 non-null   int64  \n",
            " 5   PhoneService      7032 non-null   int64  \n",
            " 6   MultipleLines     7032 non-null   int64  \n",
            " 7   InternetService   7032 non-null   int64  \n",
            " 8   OnlineSecurity    7032 non-null   int64  \n",
            " 9   OnlineBackup      7032 non-null   int64  \n",
            " 10  DeviceProtection  7032 non-null   int64  \n",
            " 11  TechSupport       7032 non-null   int64  \n",
            " 12  StreamingTV       7032 non-null   int64  \n",
            " 13  StreamingMovies   7032 non-null   int64  \n",
            " 14  Contract          7032 non-null   int64  \n",
            " 15  PaperlessBilling  7032 non-null   int64  \n",
            " 16  PaymentMethod     7032 non-null   int64  \n",
            " 17  MonthlyCharges    7032 non-null   float64\n",
            " 18  TotalCharges      7032 non-null   float64\n",
            " 19  Churn             7032 non-null   int64  \n",
            "dtypes: float64(2), int64(18)\n",
            "memory usage: 1.1 MB\n"
          ]
        }
      ]
    },
    {
      "cell_type": "code",
      "metadata": {
        "id": "r318tWDc6eOF",
        "colab": {
          "base_uri": "https://localhost:8080/",
          "height": 303
        },
        "outputId": "b8d52c06-2162-4177-ea03-d58d079482cf"
      },
      "source": [
        "# 이상치 여부 확인\n",
        "sns.boxplot(x = data['TotalCharges']) "
      ],
      "execution_count": 67,
      "outputs": [
        {
          "output_type": "execute_result",
          "data": {
            "text/plain": [
              "<matplotlib.axes._subplots.AxesSubplot at 0x7f67a114add0>"
            ]
          },
          "metadata": {},
          "execution_count": 67
        },
        {
          "output_type": "display_data",
          "data": {
            "image/png": "[encoded data removed]",
            "text/plain": [
              "<Figure size 432x288 with 1 Axes>"
            ]
          },
          "metadata": {}
        }
      ]
    },
    {
      "cell_type": "markdown",
      "metadata": {
        "id": "E5FrP-eKp72g"
      },
      "source": [
        "## 정규화(Normalize)"
      ]
    },
    {
      "cell_type": "code",
      "metadata": {
        "id": "5ywlvqxJqMih",
        "colab": {
          "base_uri": "https://localhost:8080/",
          "height": 303
        },
        "outputId": "5d18e707-b5b2-46cf-cd69-96eb703ddce0"
      },
      "source": [
        "sns.histplot(data['MonthlyCharges'])"
      ],
      "execution_count": 68,
      "outputs": [
        {
          "output_type": "execute_result",
          "data": {
            "text/plain": [
              "<matplotlib.axes._subplots.AxesSubplot at 0x7f67a10cd890>"
            ]
          },
          "metadata": {},
          "execution_count": 68
        },
        {
          "output_type": "display_data",
          "data": {
            "image/png": "[encoded data removed]",
            "text/plain": [
              "<Figure size 432x288 with 1 Axes>"
            ]
          },
          "metadata": {}
        }
      ]
    },
    {
      "cell_type": "code",
      "metadata": {
        "id": "I1oNVbUq0GWa",
        "colab": {
          "base_uri": "https://localhost:8080/",
          "height": 411
        },
        "outputId": "f0262961-3b44-477a-ea44-539d7f7e6650"
      },
      "source": [
        "from scipy import stats\n",
        "data['MonthlyCharges'] = stats.zscore(data['MonthlyCharges'])\n",
        "sns.histplot(data['MonthlyCharges'])"
      ],
      "execution_count": 69,
      "outputs": [
        {
          "output_type": "stream",
          "name": "stderr",
          "text": [
            "/usr/local/lib/python3.7/dist-packages/ipykernel_launcher.py:2: SettingWithCopyWarning: \n",
            "A value is trying to be set on a copy of a slice from a DataFrame.\n",
            "Try using .loc[row_indexer,col_indexer] = value instead\n",
            "\n",
            "See the caveats in the documentation: https://pandas.pydata.org/pandas-docs/stable/user_guide/indexing.html#returning-a-view-versus-a-copy\n",
            "  \n"
          ]
        },
        {
          "output_type": "execute_result",
          "data": {
            "text/plain": [
              "<matplotlib.axes._subplots.AxesSubplot at 0x7f67a10efc10>"
            ]
          },
          "metadata": {},
          "execution_count": 69
        },
        {
          "output_type": "display_data",
          "data": {
            "image/png": "[encoded data removed]",
            "text/plain": [
              "<Figure size 432x288 with 1 Axes>"
            ]
          },
          "metadata": {}
        }
      ]
    },
    {
      "cell_type": "code",
      "metadata": {
        "id": "ocKIk4O_zN42",
        "colab": {
          "base_uri": "https://localhost:8080/",
          "height": 447
        },
        "outputId": "8f82bd39-08c4-4b4a-af55-5813e20797da"
      },
      "source": [
        "data['MonthlyCharges'] = np.log1p(data['MonthlyCharges'])\n",
        "sns.histplot(data['MonthlyCharges'])"
      ],
      "execution_count": 70,
      "outputs": [
        {
          "output_type": "stream",
          "name": "stderr",
          "text": [
            "/usr/local/lib/python3.7/dist-packages/pandas/core/series.py:726: RuntimeWarning: invalid value encountered in log1p\n",
            "  result = getattr(ufunc, method)(*inputs, **kwargs)\n",
            "/usr/local/lib/python3.7/dist-packages/ipykernel_launcher.py:1: SettingWithCopyWarning: \n",
            "A value is trying to be set on a copy of a slice from a DataFrame.\n",
            "Try using .loc[row_indexer,col_indexer] = value instead\n",
            "\n",
            "See the caveats in the documentation: https://pandas.pydata.org/pandas-docs/stable/user_guide/indexing.html#returning-a-view-versus-a-copy\n",
            "  \"\"\"Entry point for launching an IPython kernel.\n"
          ]
        },
        {
          "output_type": "execute_result",
          "data": {
            "text/plain": [
              "<matplotlib.axes._subplots.AxesSubplot at 0x7f67a0f16890>"
            ]
          },
          "metadata": {},
          "execution_count": 70
        },
        {
          "output_type": "display_data",
          "data": {
            "image/png": "[encoded data removed]",
            "text/plain": [
              "<Figure size 432x288 with 1 Axes>"
            ]
          },
          "metadata": {}
        }
      ]
    },
    {
      "cell_type": "markdown",
      "metadata": {
        "id": "DO8FE0rD0iRx"
      },
      "source": [
        "로그변환과 z-score모두 잘되지 않을때는 어떻게해야할까??"
      ]
    },
    {
      "cell_type": "code",
      "metadata": {
        "id": "aawsIfmIqSV4",
        "colab": {
          "base_uri": "https://localhost:8080/",
          "height": 303
        },
        "outputId": "b838e975-f1fc-475b-829f-16e7c51e9be8"
      },
      "source": [
        "sns.histplot(data['TotalCharges'])"
      ],
      "execution_count": 71,
      "outputs": [
        {
          "output_type": "execute_result",
          "data": {
            "text/plain": [
              "<matplotlib.axes._subplots.AxesSubplot at 0x7f67ae847610>"
            ]
          },
          "metadata": {},
          "execution_count": 71
        },
        {
          "output_type": "display_data",
          "data": {
            "image/png": "[encoded data removed]",
            "text/plain": [
              "<Figure size 432x288 with 1 Axes>"
            ]
          },
          "metadata": {}
        }
      ]
    },
    {
      "cell_type": "code",
      "metadata": {
        "id": "HnYAFMuTzEOn",
        "colab": {
          "base_uri": "https://localhost:8080/",
          "height": 411
        },
        "outputId": "b402c7ae-4bb3-495b-b49c-bba1409b5940"
      },
      "source": [
        "data['TotalCharges'] =  np.log1p(data['TotalCharges'])\n",
        "sns.histplot(data['TotalCharges'])"
      ],
      "execution_count": 72,
      "outputs": [
        {
          "output_type": "stream",
          "name": "stderr",
          "text": [
            "/usr/local/lib/python3.7/dist-packages/ipykernel_launcher.py:1: SettingWithCopyWarning: \n",
            "A value is trying to be set on a copy of a slice from a DataFrame.\n",
            "Try using .loc[row_indexer,col_indexer] = value instead\n",
            "\n",
            "See the caveats in the documentation: https://pandas.pydata.org/pandas-docs/stable/user_guide/indexing.html#returning-a-view-versus-a-copy\n",
            "  \"\"\"Entry point for launching an IPython kernel.\n"
          ]
        },
        {
          "output_type": "execute_result",
          "data": {
            "text/plain": [
              "<matplotlib.axes._subplots.AxesSubplot at 0x7f67ae97d890>"
            ]
          },
          "metadata": {},
          "execution_count": 72
        },
        {
          "output_type": "display_data",
          "data": {
            "image/png": "[encoded data removed]",
            "text/plain": [
              "<Figure size 432x288 with 1 Axes>"
            ]
          },
          "metadata": {}
        }
      ]
    },
    {
      "cell_type": "markdown",
      "metadata": {
        "id": "f4ENzcCO1yWb"
      },
      "source": [
        "해결해야할 과제 :MonthlyCharge와 TotalCharge의 분포를 어떻게 해결해야 연구중\n"
      ]
    },
    {
      "cell_type": "code",
      "metadata": {
        "id": "O5EgO4dIqtgG",
        "colab": {
          "base_uri": "https://localhost:8080/",
          "height": 439
        },
        "outputId": "a2cbd384-a71b-4a5e-e592-20050d8066fc"
      },
      "source": [
        "data"
      ],
      "execution_count": 73,
      "outputs": [
        {
          "output_type": "execute_result",
          "data": {
            "text/html": [
              "<div>\n",
              "<style scoped>\n",
              "    .dataframe tbody tr th:only-of-type {\n",
              "        vertical-align: middle;\n",
              "    }\n",
              "\n",
              "    .dataframe tbody tr th {\n",
              "        vertical-align: top;\n",
              "    }\n",
              "\n",
              "    .dataframe thead th {\n",
              "        text-align: right;\n",
              "    }\n",
              "</style>\n",
              "<table border=\"1\" class=\"dataframe\">\n",
              "  <thead>\n",
              "    <tr style=\"text-align: right;\">\n",
              "      <th></th>\n",
              "      <th>gender</th>\n",
              "      <th>SeniorCitizen</th>\n",
              "      <th>Partner</th>\n",
              "      <th>Dependents</th>\n",
              "      <th>tenure</th>\n",
              "      <th>PhoneService</th>\n",
              "      <th>MultipleLines</th>\n",
              "      <th>InternetService</th>\n",
              "      <th>OnlineSecurity</th>\n",
              "      <th>OnlineBackup</th>\n",
              "      <th>DeviceProtection</th>\n",
              "      <th>TechSupport</th>\n",
              "      <th>StreamingTV</th>\n",
              "      <th>StreamingMovies</th>\n",
              "      <th>Contract</th>\n",
              "      <th>PaperlessBilling</th>\n",
              "      <th>PaymentMethod</th>\n",
              "      <th>MonthlyCharges</th>\n",
              "      <th>TotalCharges</th>\n",
              "      <th>Churn</th>\n",
              "    </tr>\n",
              "  </thead>\n",
              "  <tbody>\n",
              "    <tr>\n",
              "      <th>0</th>\n",
              "      <td>0</td>\n",
              "      <td>0</td>\n",
              "      <td>1</td>\n",
              "      <td>0</td>\n",
              "      <td>0</td>\n",
              "      <td>0</td>\n",
              "      <td>2</td>\n",
              "      <td>0</td>\n",
              "      <td>0</td>\n",
              "      <td>1</td>\n",
              "      <td>0</td>\n",
              "      <td>0</td>\n",
              "      <td>0</td>\n",
              "      <td>0</td>\n",
              "      <td>0</td>\n",
              "      <td>1</td>\n",
              "      <td>0</td>\n",
              "      <td>NaN</td>\n",
              "      <td>3.429137</td>\n",
              "      <td>0</td>\n",
              "    </tr>\n",
              "    <tr>\n",
              "      <th>1</th>\n",
              "      <td>1</td>\n",
              "      <td>0</td>\n",
              "      <td>0</td>\n",
              "      <td>0</td>\n",
              "      <td>2</td>\n",
              "      <td>1</td>\n",
              "      <td>0</td>\n",
              "      <td>0</td>\n",
              "      <td>1</td>\n",
              "      <td>0</td>\n",
              "      <td>1</td>\n",
              "      <td>0</td>\n",
              "      <td>0</td>\n",
              "      <td>0</td>\n",
              "      <td>1</td>\n",
              "      <td>0</td>\n",
              "      <td>1</td>\n",
              "      <td>-0.302292</td>\n",
              "      <td>7.544597</td>\n",
              "      <td>0</td>\n",
              "    </tr>\n",
              "    <tr>\n",
              "      <th>2</th>\n",
              "      <td>1</td>\n",
              "      <td>0</td>\n",
              "      <td>0</td>\n",
              "      <td>0</td>\n",
              "      <td>0</td>\n",
              "      <td>1</td>\n",
              "      <td>0</td>\n",
              "      <td>0</td>\n",
              "      <td>1</td>\n",
              "      <td>1</td>\n",
              "      <td>0</td>\n",
              "      <td>0</td>\n",
              "      <td>0</td>\n",
              "      <td>0</td>\n",
              "      <td>0</td>\n",
              "      <td>1</td>\n",
              "      <td>1</td>\n",
              "      <td>-0.452436</td>\n",
              "      <td>4.692723</td>\n",
              "      <td>1</td>\n",
              "    </tr>\n",
              "    <tr>\n",
              "      <th>3</th>\n",
              "      <td>1</td>\n",
              "      <td>0</td>\n",
              "      <td>0</td>\n",
              "      <td>0</td>\n",
              "      <td>3</td>\n",
              "      <td>0</td>\n",
              "      <td>2</td>\n",
              "      <td>0</td>\n",
              "      <td>1</td>\n",
              "      <td>0</td>\n",
              "      <td>1</td>\n",
              "      <td>1</td>\n",
              "      <td>0</td>\n",
              "      <td>0</td>\n",
              "      <td>1</td>\n",
              "      <td>0</td>\n",
              "      <td>2</td>\n",
              "      <td>-1.377733</td>\n",
              "      <td>7.518471</td>\n",
              "      <td>0</td>\n",
              "    </tr>\n",
              "    <tr>\n",
              "      <th>4</th>\n",
              "      <td>0</td>\n",
              "      <td>0</td>\n",
              "      <td>0</td>\n",
              "      <td>0</td>\n",
              "      <td>0</td>\n",
              "      <td>1</td>\n",
              "      <td>0</td>\n",
              "      <td>1</td>\n",
              "      <td>0</td>\n",
              "      <td>0</td>\n",
              "      <td>0</td>\n",
              "      <td>0</td>\n",
              "      <td>0</td>\n",
              "      <td>0</td>\n",
              "      <td>0</td>\n",
              "      <td>1</td>\n",
              "      <td>0</td>\n",
              "      <td>0.179132</td>\n",
              "      <td>5.028148</td>\n",
              "      <td>1</td>\n",
              "    </tr>\n",
              "    <tr>\n",
              "      <th>...</th>\n",
              "      <td>...</td>\n",
              "      <td>...</td>\n",
              "      <td>...</td>\n",
              "      <td>...</td>\n",
              "      <td>...</td>\n",
              "      <td>...</td>\n",
              "      <td>...</td>\n",
              "      <td>...</td>\n",
              "      <td>...</td>\n",
              "      <td>...</td>\n",
              "      <td>...</td>\n",
              "      <td>...</td>\n",
              "      <td>...</td>\n",
              "      <td>...</td>\n",
              "      <td>...</td>\n",
              "      <td>...</td>\n",
              "      <td>...</td>\n",
              "      <td>...</td>\n",
              "      <td>...</td>\n",
              "      <td>...</td>\n",
              "    </tr>\n",
              "    <tr>\n",
              "      <th>7038</th>\n",
              "      <td>1</td>\n",
              "      <td>0</td>\n",
              "      <td>1</td>\n",
              "      <td>1</td>\n",
              "      <td>1</td>\n",
              "      <td>1</td>\n",
              "      <td>1</td>\n",
              "      <td>0</td>\n",
              "      <td>1</td>\n",
              "      <td>0</td>\n",
              "      <td>1</td>\n",
              "      <td>1</td>\n",
              "      <td>1</td>\n",
              "      <td>1</td>\n",
              "      <td>1</td>\n",
              "      <td>1</td>\n",
              "      <td>1</td>\n",
              "      <td>0.509746</td>\n",
              "      <td>7.596643</td>\n",
              "      <td>0</td>\n",
              "    </tr>\n",
              "    <tr>\n",
              "      <th>7039</th>\n",
              "      <td>0</td>\n",
              "      <td>0</td>\n",
              "      <td>1</td>\n",
              "      <td>1</td>\n",
              "      <td>4</td>\n",
              "      <td>1</td>\n",
              "      <td>1</td>\n",
              "      <td>1</td>\n",
              "      <td>0</td>\n",
              "      <td>1</td>\n",
              "      <td>1</td>\n",
              "      <td>0</td>\n",
              "      <td>1</td>\n",
              "      <td>1</td>\n",
              "      <td>1</td>\n",
              "      <td>1</td>\n",
              "      <td>3</td>\n",
              "      <td>0.822636</td>\n",
              "      <td>8.904345</td>\n",
              "      <td>0</td>\n",
              "    </tr>\n",
              "    <tr>\n",
              "      <th>7040</th>\n",
              "      <td>0</td>\n",
              "      <td>0</td>\n",
              "      <td>1</td>\n",
              "      <td>1</td>\n",
              "      <td>0</td>\n",
              "      <td>0</td>\n",
              "      <td>2</td>\n",
              "      <td>0</td>\n",
              "      <td>1</td>\n",
              "      <td>0</td>\n",
              "      <td>0</td>\n",
              "      <td>0</td>\n",
              "      <td>0</td>\n",
              "      <td>0</td>\n",
              "      <td>0</td>\n",
              "      <td>1</td>\n",
              "      <td>0</td>\n",
              "      <td>NaN</td>\n",
              "      <td>5.850621</td>\n",
              "      <td>0</td>\n",
              "    </tr>\n",
              "    <tr>\n",
              "      <th>7041</th>\n",
              "      <td>1</td>\n",
              "      <td>1</td>\n",
              "      <td>1</td>\n",
              "      <td>0</td>\n",
              "      <td>0</td>\n",
              "      <td>1</td>\n",
              "      <td>1</td>\n",
              "      <td>1</td>\n",
              "      <td>0</td>\n",
              "      <td>0</td>\n",
              "      <td>0</td>\n",
              "      <td>0</td>\n",
              "      <td>0</td>\n",
              "      <td>0</td>\n",
              "      <td>0</td>\n",
              "      <td>1</td>\n",
              "      <td>1</td>\n",
              "      <td>0.277001</td>\n",
              "      <td>5.728800</td>\n",
              "      <td>1</td>\n",
              "    </tr>\n",
              "    <tr>\n",
              "      <th>7042</th>\n",
              "      <td>1</td>\n",
              "      <td>0</td>\n",
              "      <td>0</td>\n",
              "      <td>0</td>\n",
              "      <td>4</td>\n",
              "      <td>1</td>\n",
              "      <td>0</td>\n",
              "      <td>1</td>\n",
              "      <td>1</td>\n",
              "      <td>0</td>\n",
              "      <td>1</td>\n",
              "      <td>1</td>\n",
              "      <td>1</td>\n",
              "      <td>1</td>\n",
              "      <td>2</td>\n",
              "      <td>1</td>\n",
              "      <td>2</td>\n",
              "      <td>0.857785</td>\n",
              "      <td>8.831347</td>\n",
              "      <td>0</td>\n",
              "    </tr>\n",
              "  </tbody>\n",
              "</table>\n",
              "<p>7032 rows × 20 columns</p>\n",
              "</div>"
            ],
            "text/plain": [
              "      gender  SeniorCitizen  Partner  ...  MonthlyCharges  TotalCharges  Churn\n",
              "0          0              0        1  ...             NaN      3.429137      0\n",
              "1          1              0        0  ...       -0.302292      7.544597      0\n",
              "2          1              0        0  ...       -0.452436      4.692723      1\n",
              "3          1              0        0  ...       -1.377733      7.518471      0\n",
              "4          0              0        0  ...        0.179132      5.028148      1\n",
              "...      ...            ...      ...  ...             ...           ...    ...\n",
              "7038       1              0        1  ...        0.509746      7.596643      0\n",
              "7039       0              0        1  ...        0.822636      8.904345      0\n",
              "7040       0              0        1  ...             NaN      5.850621      0\n",
              "7041       1              1        1  ...        0.277001      5.728800      1\n",
              "7042       1              0        0  ...        0.857785      8.831347      0\n",
              "\n",
              "[7032 rows x 20 columns]"
            ]
          },
          "metadata": {},
          "execution_count": 73
        }
      ]
    },
    {
      "cell_type": "code",
      "metadata": {
        "id": "_HwLyB1i494J",
        "colab": {
          "base_uri": "https://localhost:8080/",
          "height": 669
        },
        "outputId": "194ca9b1-fbc6-46cb-b627-750c752e3610"
      },
      "source": [
        "# 상관관계 정도가 강한 인자 순서 나열\n",
        "pd.DataFrame(abs(data.corr()['Churn']).sort_values(ascending = False))"
      ],
      "execution_count": 74,
      "outputs": [
        {
          "output_type": "execute_result",
          "data": {
            "text/html": [
              "<div>\n",
              "<style scoped>\n",
              "    .dataframe tbody tr th:only-of-type {\n",
              "        vertical-align: middle;\n",
              "    }\n",
              "\n",
              "    .dataframe tbody tr th {\n",
              "        vertical-align: top;\n",
              "    }\n",
              "\n",
              "    .dataframe thead th {\n",
              "        text-align: right;\n",
              "    }\n",
              "</style>\n",
              "<table border=\"1\" class=\"dataframe\">\n",
              "  <thead>\n",
              "    <tr style=\"text-align: right;\">\n",
              "      <th></th>\n",
              "      <th>Churn</th>\n",
              "    </tr>\n",
              "  </thead>\n",
              "  <tbody>\n",
              "    <tr>\n",
              "      <th>Churn</th>\n",
              "      <td>1.000000</td>\n",
              "    </tr>\n",
              "    <tr>\n",
              "      <th>Contract</th>\n",
              "      <td>0.396150</td>\n",
              "    </tr>\n",
              "    <tr>\n",
              "      <th>tenure</th>\n",
              "      <td>0.340024</td>\n",
              "    </tr>\n",
              "    <tr>\n",
              "      <th>OnlineSecurity</th>\n",
              "      <td>0.307644</td>\n",
              "    </tr>\n",
              "    <tr>\n",
              "      <th>TechSupport</th>\n",
              "      <td>0.305685</td>\n",
              "    </tr>\n",
              "    <tr>\n",
              "      <th>OnlineBackup</th>\n",
              "      <td>0.280405</td>\n",
              "    </tr>\n",
              "    <tr>\n",
              "      <th>DeviceProtection</th>\n",
              "      <td>0.273575</td>\n",
              "    </tr>\n",
              "    <tr>\n",
              "      <th>PaymentMethod</th>\n",
              "      <td>0.262918</td>\n",
              "    </tr>\n",
              "    <tr>\n",
              "      <th>TotalCharges</th>\n",
              "      <td>0.241908</td>\n",
              "    </tr>\n",
              "    <tr>\n",
              "      <th>StreamingMovies</th>\n",
              "      <td>0.224046</td>\n",
              "    </tr>\n",
              "    <tr>\n",
              "      <th>StreamingTV</th>\n",
              "      <td>0.222682</td>\n",
              "    </tr>\n",
              "    <tr>\n",
              "      <th>PaperlessBilling</th>\n",
              "      <td>0.191454</td>\n",
              "    </tr>\n",
              "    <tr>\n",
              "      <th>Dependents</th>\n",
              "      <td>0.163128</td>\n",
              "    </tr>\n",
              "    <tr>\n",
              "      <th>SeniorCitizen</th>\n",
              "      <td>0.150541</td>\n",
              "    </tr>\n",
              "    <tr>\n",
              "      <th>Partner</th>\n",
              "      <td>0.149982</td>\n",
              "    </tr>\n",
              "    <tr>\n",
              "      <th>MonthlyCharges</th>\n",
              "      <td>0.053482</td>\n",
              "    </tr>\n",
              "    <tr>\n",
              "      <th>InternetService</th>\n",
              "      <td>0.047097</td>\n",
              "    </tr>\n",
              "    <tr>\n",
              "      <th>MultipleLines</th>\n",
              "      <td>0.019609</td>\n",
              "    </tr>\n",
              "    <tr>\n",
              "      <th>PhoneService</th>\n",
              "      <td>0.011691</td>\n",
              "    </tr>\n",
              "    <tr>\n",
              "      <th>gender</th>\n",
              "      <td>0.008545</td>\n",
              "    </tr>\n",
              "  </tbody>\n",
              "</table>\n",
              "</div>"
            ],
            "text/plain": [
              "                     Churn\n",
              "Churn             1.000000\n",
              "Contract          0.396150\n",
              "tenure            0.340024\n",
              "OnlineSecurity    0.307644\n",
              "TechSupport       0.305685\n",
              "OnlineBackup      0.280405\n",
              "DeviceProtection  0.273575\n",
              "PaymentMethod     0.262918\n",
              "TotalCharges      0.241908\n",
              "StreamingMovies   0.224046\n",
              "StreamingTV       0.222682\n",
              "PaperlessBilling  0.191454\n",
              "Dependents        0.163128\n",
              "SeniorCitizen     0.150541\n",
              "Partner           0.149982\n",
              "MonthlyCharges    0.053482\n",
              "InternetService   0.047097\n",
              "MultipleLines     0.019609\n",
              "PhoneService      0.011691\n",
              "gender            0.008545"
            ]
          },
          "metadata": {},
          "execution_count": 74
        }
      ]
    },
    {
      "cell_type": "code",
      "metadata": {
        "id": "wZwJSRxVQOki",
        "colab": {
          "base_uri": "https://localhost:8080/",
          "height": 669
        },
        "outputId": "0b3717d6-619c-4c62-d1a5-7b88975b6ad2"
      },
      "source": [
        "# 양의 상관관계, 음의 상관관계 구별\n",
        "pd.DataFrame(data.corr()['Churn'].sort_values(ascending = False))"
      ],
      "execution_count": 75,
      "outputs": [
        {
          "output_type": "execute_result",
          "data": {
            "text/html": [
              "<div>\n",
              "<style scoped>\n",
              "    .dataframe tbody tr th:only-of-type {\n",
              "        vertical-align: middle;\n",
              "    }\n",
              "\n",
              "    .dataframe tbody tr th {\n",
              "        vertical-align: top;\n",
              "    }\n",
              "\n",
              "    .dataframe thead th {\n",
              "        text-align: right;\n",
              "    }\n",
              "</style>\n",
              "<table border=\"1\" class=\"dataframe\">\n",
              "  <thead>\n",
              "    <tr style=\"text-align: right;\">\n",
              "      <th></th>\n",
              "      <th>Churn</th>\n",
              "    </tr>\n",
              "  </thead>\n",
              "  <tbody>\n",
              "    <tr>\n",
              "      <th>Churn</th>\n",
              "      <td>1.000000</td>\n",
              "    </tr>\n",
              "    <tr>\n",
              "      <th>PaperlessBilling</th>\n",
              "      <td>0.191454</td>\n",
              "    </tr>\n",
              "    <tr>\n",
              "      <th>SeniorCitizen</th>\n",
              "      <td>0.150541</td>\n",
              "    </tr>\n",
              "    <tr>\n",
              "      <th>MonthlyCharges</th>\n",
              "      <td>0.053482</td>\n",
              "    </tr>\n",
              "    <tr>\n",
              "      <th>MultipleLines</th>\n",
              "      <td>0.019609</td>\n",
              "    </tr>\n",
              "    <tr>\n",
              "      <th>PhoneService</th>\n",
              "      <td>0.011691</td>\n",
              "    </tr>\n",
              "    <tr>\n",
              "      <th>gender</th>\n",
              "      <td>-0.008545</td>\n",
              "    </tr>\n",
              "    <tr>\n",
              "      <th>InternetService</th>\n",
              "      <td>-0.047097</td>\n",
              "    </tr>\n",
              "    <tr>\n",
              "      <th>Partner</th>\n",
              "      <td>-0.149982</td>\n",
              "    </tr>\n",
              "    <tr>\n",
              "      <th>Dependents</th>\n",
              "      <td>-0.163128</td>\n",
              "    </tr>\n",
              "    <tr>\n",
              "      <th>StreamingTV</th>\n",
              "      <td>-0.222682</td>\n",
              "    </tr>\n",
              "    <tr>\n",
              "      <th>StreamingMovies</th>\n",
              "      <td>-0.224046</td>\n",
              "    </tr>\n",
              "    <tr>\n",
              "      <th>TotalCharges</th>\n",
              "      <td>-0.241908</td>\n",
              "    </tr>\n",
              "    <tr>\n",
              "      <th>PaymentMethod</th>\n",
              "      <td>-0.262918</td>\n",
              "    </tr>\n",
              "    <tr>\n",
              "      <th>DeviceProtection</th>\n",
              "      <td>-0.273575</td>\n",
              "    </tr>\n",
              "    <tr>\n",
              "      <th>OnlineBackup</th>\n",
              "      <td>-0.280405</td>\n",
              "    </tr>\n",
              "    <tr>\n",
              "      <th>TechSupport</th>\n",
              "      <td>-0.305685</td>\n",
              "    </tr>\n",
              "    <tr>\n",
              "      <th>OnlineSecurity</th>\n",
              "      <td>-0.307644</td>\n",
              "    </tr>\n",
              "    <tr>\n",
              "      <th>tenure</th>\n",
              "      <td>-0.340024</td>\n",
              "    </tr>\n",
              "    <tr>\n",
              "      <th>Contract</th>\n",
              "      <td>-0.396150</td>\n",
              "    </tr>\n",
              "  </tbody>\n",
              "</table>\n",
              "</div>"
            ],
            "text/plain": [
              "                     Churn\n",
              "Churn             1.000000\n",
              "PaperlessBilling  0.191454\n",
              "SeniorCitizen     0.150541\n",
              "MonthlyCharges    0.053482\n",
              "MultipleLines     0.019609\n",
              "PhoneService      0.011691\n",
              "gender           -0.008545\n",
              "InternetService  -0.047097\n",
              "Partner          -0.149982\n",
              "Dependents       -0.163128\n",
              "StreamingTV      -0.222682\n",
              "StreamingMovies  -0.224046\n",
              "TotalCharges     -0.241908\n",
              "PaymentMethod    -0.262918\n",
              "DeviceProtection -0.273575\n",
              "OnlineBackup     -0.280405\n",
              "TechSupport      -0.305685\n",
              "OnlineSecurity   -0.307644\n",
              "tenure           -0.340024\n",
              "Contract         -0.396150"
            ]
          },
          "metadata": {},
          "execution_count": 75
        }
      ]
    },
    {
      "cell_type": "code",
      "metadata": {
        "id": "aUjndLYIl9Il",
        "colab": {
          "base_uri": "https://localhost:8080/",
          "height": 293
        },
        "outputId": "aebe88b1-2781-4f9d-d34c-66da552fcc23"
      },
      "source": [
        "# 상관관계 시각화\n",
        "pd.DataFrame(data.corr()['Churn'].sort_values(ascending = False)).plot(kind=\"bar\")\n",
        "plt.tight_layout()"
      ],
      "execution_count": 76,
      "outputs": [
        {
          "output_type": "display_data",
          "data": {
            "image/png": "[encoded data removed]",
            "text/plain": [
              "<Figure size 432x288 with 1 Axes>"
            ]
          },
          "metadata": {}
        }
      ]
    },
    {
      "cell_type": "markdown",
      "metadata": {
        "id": "GgrgaGHLovw9"
      },
      "source": [
        "# EDA결과"
      ]
    },
    {
      "cell_type": "markdown",
      "metadata": {
        "id": "rTG4c2qQvFzA"
      },
      "source": [
        "- 단기계약일수록 이탈할 가능성이 높다 -> 최소 1년, 가능하다면 2년계약(약정)을 통해 장기간 약정으로 고객을 유치하는것이 가장 좋다.\n",
        "- 5개월 이하로 이용한 유저들이 전체 이탈율의 40%를 차지하므로 그 기간동안 계속해서 사용할 수 있도록 서비스를 제공하는 방법도 좋은접근이라고 생각한다.\n",
        "- 기간과 상관없이 비용이 높은사람들이 해지를 많이 하므로 일정 비용이상 지출에 근접한다면 알람 서비스를 만들어 조절할 수 있도록 개선한다.\n",
        "- 성별에 따른 고객의 이탈의 차이는 보여주지 않고있다.\n",
        "- 고령자 고객분들의 이탈률이 높으므로 고령자 분들을 위한 서비스를 기획해야할 필요가 있다(장기간 계약시 할인된 가격으로 이용 등), 향후 젊은 고객층이 고령자가 되었을시 이탈 방지를 위함\n",
        "- 파트너 혹은 부양가족이 없는 고객들의 이탈률이 더 높은 것으로 보아 결합상품의 혜택을 받지 못할 가능성이 있으므로 직장동료, 혹은 친구,지인들과의 결합상품을 추가적으로 기획 해보는것도 좋은 방법이라고 생각한다.\n",
        "- 폰서비스로 인해 높은 요금이 나오는 사람들또한 이탈할 확률이 적지 않으므로 계속해서 높은 요금을 사용하는 고객들에게 매년 1번~2번의 요금 할인 서비스 등의 크지않은 이벤트가 있으면 좋을것 같다."
      ]
    },
    {
      "cell_type": "markdown",
      "metadata": {
        "id": "wGJ3l60dpFqu"
      },
      "source": [
        "# 군집화를 통한 고객 Segmentation (학습중..)"
      ]
    },
    {
      "cell_type": "code",
      "metadata": {
        "id": "KoMKw_3QJQO9"
      },
      "source": [
        "# 아래 군집분석 단계를 따를땐 해당 커널을 주석화시키고 처음부터 단계를 따를것\n",
        "df = df.dropna()\n",
        "df = pd.get_dummies(df,drop_first=True)"
      ],
      "execution_count": 80,
      "outputs": []
    },
    {
      "cell_type": "markdown",
      "metadata": {
        "id": "HlHuZN7EHfxI"
      },
      "source": [
        "군집분석 단계\n",
        "1. 알맞은 속성 선택\n",
        "2. 데이터 표준화\n",
        "3. 이상치 선별\n",
        "4. 거리의 계산\n",
        "5. 군집 알고리즘 선택\n",
        "6. 하나 이상의 군집분석 결과 얻음\n",
        "7. 군집의 갯수 결정\n",
        "8. 최종결과 획득\n",
        "9. 분석 결과의 시각화\n",
        "10. 군집분석 결과의 해석\n",
        "11. 결과의 확인"
      ]
    },
    {
      "cell_type": "markdown",
      "metadata": {
        "id": "fUqLfqsJnBOB"
      },
      "source": [
        "## 계층군집화 실험"
      ]
    },
    {
      "cell_type": "code",
      "metadata": {
        "id": "CG3vovheq1sJ",
        "colab": {
          "base_uri": "https://localhost:8080/"
        },
        "outputId": "9488f1ae-aa8b-4130-85c8-549cccd71338"
      },
      "source": [
        "from sklearn.metrics import silhouette_samples,silhouette_score\n",
        "from sklearn.cluster import AgglomerativeClustering\n",
        "k_range = range(2, 5)\n",
        "\n",
        "for k in k_range:\n",
        "  single_clustering = AgglomerativeClustering(n_clusters=k, affinity = 'euclidean', linkage = 'ward')\n",
        "  single_cluster = single_clustering.fit_predict(df)\n",
        "\n",
        "  score_sample = silhouette_samples(df, single_cluster)\n",
        "  score = silhouette_score(df, single_cluster)\n",
        "\n",
        "  print(k,':',score,score_sample)"
      ],
      "execution_count": null,
      "outputs": [
        {
          "output_type": "stream",
          "name": "stdout",
          "text": [
            "2 : 0.6338547614433893 [0.77101172 0.71687945 0.77826124 ... 0.7919757  0.79019935 0.84268375]\n",
            "3 : 0.6054224350208385 [0.8297055  0.08472502 0.84400658 ... 0.85748069 0.85721388 0.77916291]\n",
            "4 : 0.5952131725840726 [0.77439204 0.59444398 0.79152533 ... 0.80370918 0.80440933 0.67863315]\n"
          ]
        }
      ]
    },
    {
      "cell_type": "code",
      "metadata": {
        "id": "wW8JuFFooyCM"
      },
      "source": [
        ""
      ],
      "execution_count": null,
      "outputs": []
    },
    {
      "cell_type": "code",
      "metadata": {
        "id": "nXMZ__Siox_q"
      },
      "source": [
        ""
      ],
      "execution_count": null,
      "outputs": []
    },
    {
      "cell_type": "code",
      "metadata": {
        "colab": {
          "base_uri": "https://localhost:8080/",
          "height": 490
        },
        "id": "oDXIWJr6rf9N",
        "outputId": "a7f0eea0-1d63-4688-b95d-c0441ee64857"
      },
      "source": [
        "from sklearn.cluster import AgglomerativeClustering as AC\n",
        "clusters = AC(n_clusters = 3,\n",
        "              affinity = 'euclidean',\n",
        "              linkage = 'ward')\n",
        "\n",
        "clusters.fit(df)\n",
        "\n",
        "df['군집소속'] = clusters.labels_\n",
        "df"
      ],
      "execution_count": 82,
      "outputs": [
        {
          "output_type": "execute_result",
          "data": {
            "text/html": [
              "<div>\n",
              "<style scoped>\n",
              "    .dataframe tbody tr th:only-of-type {\n",
              "        vertical-align: middle;\n",
              "    }\n",
              "\n",
              "    .dataframe tbody tr th {\n",
              "        vertical-align: top;\n",
              "    }\n",
              "\n",
              "    .dataframe thead th {\n",
              "        text-align: right;\n",
              "    }\n",
              "</style>\n",
              "<table border=\"1\" class=\"dataframe\">\n",
              "  <thead>\n",
              "    <tr style=\"text-align: right;\">\n",
              "      <th></th>\n",
              "      <th>SeniorCitizen</th>\n",
              "      <th>tenure</th>\n",
              "      <th>MonthlyCharges</th>\n",
              "      <th>TotalCharges</th>\n",
              "      <th>gender_Male</th>\n",
              "      <th>Partner_Yes</th>\n",
              "      <th>Dependents_Yes</th>\n",
              "      <th>PhoneService_Yes</th>\n",
              "      <th>MultipleLines_No phone service</th>\n",
              "      <th>MultipleLines_Yes</th>\n",
              "      <th>InternetService_Fiber optic</th>\n",
              "      <th>InternetService_No</th>\n",
              "      <th>OnlineSecurity_No internet service</th>\n",
              "      <th>OnlineSecurity_Yes</th>\n",
              "      <th>OnlineBackup_No internet service</th>\n",
              "      <th>OnlineBackup_Yes</th>\n",
              "      <th>DeviceProtection_No internet service</th>\n",
              "      <th>DeviceProtection_Yes</th>\n",
              "      <th>TechSupport_No internet service</th>\n",
              "      <th>TechSupport_Yes</th>\n",
              "      <th>StreamingTV_No internet service</th>\n",
              "      <th>StreamingTV_Yes</th>\n",
              "      <th>StreamingMovies_No internet service</th>\n",
              "      <th>StreamingMovies_Yes</th>\n",
              "      <th>Contract_One year</th>\n",
              "      <th>Contract_Two year</th>\n",
              "      <th>PaperlessBilling_Yes</th>\n",
              "      <th>PaymentMethod_Credit card (automatic)</th>\n",
              "      <th>PaymentMethod_Electronic check</th>\n",
              "      <th>PaymentMethod_Mailed check</th>\n",
              "      <th>Churn_Yes</th>\n",
              "      <th>군집소속</th>\n",
              "    </tr>\n",
              "  </thead>\n",
              "  <tbody>\n",
              "    <tr>\n",
              "      <th>0</th>\n",
              "      <td>0</td>\n",
              "      <td>1</td>\n",
              "      <td>29.85</td>\n",
              "      <td>29.85</td>\n",
              "      <td>0</td>\n",
              "      <td>1</td>\n",
              "      <td>0</td>\n",
              "      <td>0</td>\n",
              "      <td>1</td>\n",
              "      <td>0</td>\n",
              "      <td>0</td>\n",
              "      <td>0</td>\n",
              "      <td>0</td>\n",
              "      <td>0</td>\n",
              "      <td>0</td>\n",
              "      <td>1</td>\n",
              "      <td>0</td>\n",
              "      <td>0</td>\n",
              "      <td>0</td>\n",
              "      <td>0</td>\n",
              "      <td>0</td>\n",
              "      <td>0</td>\n",
              "      <td>0</td>\n",
              "      <td>0</td>\n",
              "      <td>0</td>\n",
              "      <td>0</td>\n",
              "      <td>1</td>\n",
              "      <td>0</td>\n",
              "      <td>1</td>\n",
              "      <td>0</td>\n",
              "      <td>0</td>\n",
              "      <td>2</td>\n",
              "    </tr>\n",
              "    <tr>\n",
              "      <th>1</th>\n",
              "      <td>0</td>\n",
              "      <td>34</td>\n",
              "      <td>56.95</td>\n",
              "      <td>1889.50</td>\n",
              "      <td>1</td>\n",
              "      <td>0</td>\n",
              "      <td>0</td>\n",
              "      <td>1</td>\n",
              "      <td>0</td>\n",
              "      <td>0</td>\n",
              "      <td>0</td>\n",
              "      <td>0</td>\n",
              "      <td>0</td>\n",
              "      <td>1</td>\n",
              "      <td>0</td>\n",
              "      <td>0</td>\n",
              "      <td>0</td>\n",
              "      <td>1</td>\n",
              "      <td>0</td>\n",
              "      <td>0</td>\n",
              "      <td>0</td>\n",
              "      <td>0</td>\n",
              "      <td>0</td>\n",
              "      <td>0</td>\n",
              "      <td>1</td>\n",
              "      <td>0</td>\n",
              "      <td>0</td>\n",
              "      <td>0</td>\n",
              "      <td>0</td>\n",
              "      <td>1</td>\n",
              "      <td>0</td>\n",
              "      <td>0</td>\n",
              "    </tr>\n",
              "    <tr>\n",
              "      <th>2</th>\n",
              "      <td>0</td>\n",
              "      <td>2</td>\n",
              "      <td>53.85</td>\n",
              "      <td>108.15</td>\n",
              "      <td>1</td>\n",
              "      <td>0</td>\n",
              "      <td>0</td>\n",
              "      <td>1</td>\n",
              "      <td>0</td>\n",
              "      <td>0</td>\n",
              "      <td>0</td>\n",
              "      <td>0</td>\n",
              "      <td>0</td>\n",
              "      <td>1</td>\n",
              "      <td>0</td>\n",
              "      <td>1</td>\n",
              "      <td>0</td>\n",
              "      <td>0</td>\n",
              "      <td>0</td>\n",
              "      <td>0</td>\n",
              "      <td>0</td>\n",
              "      <td>0</td>\n",
              "      <td>0</td>\n",
              "      <td>0</td>\n",
              "      <td>0</td>\n",
              "      <td>0</td>\n",
              "      <td>1</td>\n",
              "      <td>0</td>\n",
              "      <td>0</td>\n",
              "      <td>1</td>\n",
              "      <td>1</td>\n",
              "      <td>2</td>\n",
              "    </tr>\n",
              "    <tr>\n",
              "      <th>3</th>\n",
              "      <td>0</td>\n",
              "      <td>45</td>\n",
              "      <td>42.30</td>\n",
              "      <td>1840.75</td>\n",
              "      <td>1</td>\n",
              "      <td>0</td>\n",
              "      <td>0</td>\n",
              "      <td>0</td>\n",
              "      <td>1</td>\n",
              "      <td>0</td>\n",
              "      <td>0</td>\n",
              "      <td>0</td>\n",
              "      <td>0</td>\n",
              "      <td>1</td>\n",
              "      <td>0</td>\n",
              "      <td>0</td>\n",
              "      <td>0</td>\n",
              "      <td>1</td>\n",
              "      <td>0</td>\n",
              "      <td>1</td>\n",
              "      <td>0</td>\n",
              "      <td>0</td>\n",
              "      <td>0</td>\n",
              "      <td>0</td>\n",
              "      <td>1</td>\n",
              "      <td>0</td>\n",
              "      <td>0</td>\n",
              "      <td>0</td>\n",
              "      <td>0</td>\n",
              "      <td>0</td>\n",
              "      <td>0</td>\n",
              "      <td>0</td>\n",
              "    </tr>\n",
              "    <tr>\n",
              "      <th>4</th>\n",
              "      <td>0</td>\n",
              "      <td>2</td>\n",
              "      <td>70.70</td>\n",
              "      <td>151.65</td>\n",
              "      <td>0</td>\n",
              "      <td>0</td>\n",
              "      <td>0</td>\n",
              "      <td>1</td>\n",
              "      <td>0</td>\n",
              "      <td>0</td>\n",
              "      <td>1</td>\n",
              "      <td>0</td>\n",
              "      <td>0</td>\n",
              "      <td>0</td>\n",
              "      <td>0</td>\n",
              "      <td>0</td>\n",
              "      <td>0</td>\n",
              "      <td>0</td>\n",
              "      <td>0</td>\n",
              "      <td>0</td>\n",
              "      <td>0</td>\n",
              "      <td>0</td>\n",
              "      <td>0</td>\n",
              "      <td>0</td>\n",
              "      <td>0</td>\n",
              "      <td>0</td>\n",
              "      <td>1</td>\n",
              "      <td>0</td>\n",
              "      <td>1</td>\n",
              "      <td>0</td>\n",
              "      <td>1</td>\n",
              "      <td>2</td>\n",
              "    </tr>\n",
              "    <tr>\n",
              "      <th>...</th>\n",
              "      <td>...</td>\n",
              "      <td>...</td>\n",
              "      <td>...</td>\n",
              "      <td>...</td>\n",
              "      <td>...</td>\n",
              "      <td>...</td>\n",
              "      <td>...</td>\n",
              "      <td>...</td>\n",
              "      <td>...</td>\n",
              "      <td>...</td>\n",
              "      <td>...</td>\n",
              "      <td>...</td>\n",
              "      <td>...</td>\n",
              "      <td>...</td>\n",
              "      <td>...</td>\n",
              "      <td>...</td>\n",
              "      <td>...</td>\n",
              "      <td>...</td>\n",
              "      <td>...</td>\n",
              "      <td>...</td>\n",
              "      <td>...</td>\n",
              "      <td>...</td>\n",
              "      <td>...</td>\n",
              "      <td>...</td>\n",
              "      <td>...</td>\n",
              "      <td>...</td>\n",
              "      <td>...</td>\n",
              "      <td>...</td>\n",
              "      <td>...</td>\n",
              "      <td>...</td>\n",
              "      <td>...</td>\n",
              "      <td>...</td>\n",
              "    </tr>\n",
              "    <tr>\n",
              "      <th>7038</th>\n",
              "      <td>0</td>\n",
              "      <td>24</td>\n",
              "      <td>84.80</td>\n",
              "      <td>1990.50</td>\n",
              "      <td>1</td>\n",
              "      <td>1</td>\n",
              "      <td>1</td>\n",
              "      <td>1</td>\n",
              "      <td>0</td>\n",
              "      <td>1</td>\n",
              "      <td>0</td>\n",
              "      <td>0</td>\n",
              "      <td>0</td>\n",
              "      <td>1</td>\n",
              "      <td>0</td>\n",
              "      <td>0</td>\n",
              "      <td>0</td>\n",
              "      <td>1</td>\n",
              "      <td>0</td>\n",
              "      <td>1</td>\n",
              "      <td>0</td>\n",
              "      <td>1</td>\n",
              "      <td>0</td>\n",
              "      <td>1</td>\n",
              "      <td>1</td>\n",
              "      <td>0</td>\n",
              "      <td>1</td>\n",
              "      <td>0</td>\n",
              "      <td>0</td>\n",
              "      <td>1</td>\n",
              "      <td>0</td>\n",
              "      <td>0</td>\n",
              "    </tr>\n",
              "    <tr>\n",
              "      <th>7039</th>\n",
              "      <td>0</td>\n",
              "      <td>72</td>\n",
              "      <td>103.20</td>\n",
              "      <td>7362.90</td>\n",
              "      <td>0</td>\n",
              "      <td>1</td>\n",
              "      <td>1</td>\n",
              "      <td>1</td>\n",
              "      <td>0</td>\n",
              "      <td>1</td>\n",
              "      <td>1</td>\n",
              "      <td>0</td>\n",
              "      <td>0</td>\n",
              "      <td>0</td>\n",
              "      <td>0</td>\n",
              "      <td>1</td>\n",
              "      <td>0</td>\n",
              "      <td>1</td>\n",
              "      <td>0</td>\n",
              "      <td>0</td>\n",
              "      <td>0</td>\n",
              "      <td>1</td>\n",
              "      <td>0</td>\n",
              "      <td>1</td>\n",
              "      <td>1</td>\n",
              "      <td>0</td>\n",
              "      <td>1</td>\n",
              "      <td>1</td>\n",
              "      <td>0</td>\n",
              "      <td>0</td>\n",
              "      <td>0</td>\n",
              "      <td>1</td>\n",
              "    </tr>\n",
              "    <tr>\n",
              "      <th>7040</th>\n",
              "      <td>0</td>\n",
              "      <td>11</td>\n",
              "      <td>29.60</td>\n",
              "      <td>346.45</td>\n",
              "      <td>0</td>\n",
              "      <td>1</td>\n",
              "      <td>1</td>\n",
              "      <td>0</td>\n",
              "      <td>1</td>\n",
              "      <td>0</td>\n",
              "      <td>0</td>\n",
              "      <td>0</td>\n",
              "      <td>0</td>\n",
              "      <td>1</td>\n",
              "      <td>0</td>\n",
              "      <td>0</td>\n",
              "      <td>0</td>\n",
              "      <td>0</td>\n",
              "      <td>0</td>\n",
              "      <td>0</td>\n",
              "      <td>0</td>\n",
              "      <td>0</td>\n",
              "      <td>0</td>\n",
              "      <td>0</td>\n",
              "      <td>0</td>\n",
              "      <td>0</td>\n",
              "      <td>1</td>\n",
              "      <td>0</td>\n",
              "      <td>1</td>\n",
              "      <td>0</td>\n",
              "      <td>0</td>\n",
              "      <td>2</td>\n",
              "    </tr>\n",
              "    <tr>\n",
              "      <th>7041</th>\n",
              "      <td>1</td>\n",
              "      <td>4</td>\n",
              "      <td>74.40</td>\n",
              "      <td>306.60</td>\n",
              "      <td>1</td>\n",
              "      <td>1</td>\n",
              "      <td>0</td>\n",
              "      <td>1</td>\n",
              "      <td>0</td>\n",
              "      <td>1</td>\n",
              "      <td>1</td>\n",
              "      <td>0</td>\n",
              "      <td>0</td>\n",
              "      <td>0</td>\n",
              "      <td>0</td>\n",
              "      <td>0</td>\n",
              "      <td>0</td>\n",
              "      <td>0</td>\n",
              "      <td>0</td>\n",
              "      <td>0</td>\n",
              "      <td>0</td>\n",
              "      <td>0</td>\n",
              "      <td>0</td>\n",
              "      <td>0</td>\n",
              "      <td>0</td>\n",
              "      <td>0</td>\n",
              "      <td>1</td>\n",
              "      <td>0</td>\n",
              "      <td>0</td>\n",
              "      <td>1</td>\n",
              "      <td>1</td>\n",
              "      <td>2</td>\n",
              "    </tr>\n",
              "    <tr>\n",
              "      <th>7042</th>\n",
              "      <td>0</td>\n",
              "      <td>66</td>\n",
              "      <td>105.65</td>\n",
              "      <td>6844.50</td>\n",
              "      <td>1</td>\n",
              "      <td>0</td>\n",
              "      <td>0</td>\n",
              "      <td>1</td>\n",
              "      <td>0</td>\n",
              "      <td>0</td>\n",
              "      <td>1</td>\n",
              "      <td>0</td>\n",
              "      <td>0</td>\n",
              "      <td>1</td>\n",
              "      <td>0</td>\n",
              "      <td>0</td>\n",
              "      <td>0</td>\n",
              "      <td>1</td>\n",
              "      <td>0</td>\n",
              "      <td>1</td>\n",
              "      <td>0</td>\n",
              "      <td>1</td>\n",
              "      <td>0</td>\n",
              "      <td>1</td>\n",
              "      <td>0</td>\n",
              "      <td>1</td>\n",
              "      <td>1</td>\n",
              "      <td>0</td>\n",
              "      <td>0</td>\n",
              "      <td>0</td>\n",
              "      <td>0</td>\n",
              "      <td>1</td>\n",
              "    </tr>\n",
              "  </tbody>\n",
              "</table>\n",
              "<p>7032 rows × 32 columns</p>\n",
              "</div>"
            ],
            "text/plain": [
              "      SeniorCitizen  tenure  ...  Churn_Yes  군집소속\n",
              "0                 0       1  ...          0     2\n",
              "1                 0      34  ...          0     0\n",
              "2                 0       2  ...          1     2\n",
              "3                 0      45  ...          0     0\n",
              "4                 0       2  ...          1     2\n",
              "...             ...     ...  ...        ...   ...\n",
              "7038              0      24  ...          0     0\n",
              "7039              0      72  ...          0     1\n",
              "7040              0      11  ...          0     2\n",
              "7041              1       4  ...          1     2\n",
              "7042              0      66  ...          0     1\n",
              "\n",
              "[7032 rows x 32 columns]"
            ]
          },
          "metadata": {},
          "execution_count": 82
        }
      ]
    },
    {
      "cell_type": "code",
      "metadata": {
        "id": "yceEhXjQyK5n",
        "colab": {
          "base_uri": "https://localhost:8080/"
        },
        "outputId": "580b560e-16ca-4b6f-9deb-38ef14b76823"
      },
      "source": [
        "clusters.labels_"
      ],
      "execution_count": null,
      "outputs": [
        {
          "output_type": "execute_result",
          "data": {
            "text/plain": [
              "array([2, 0, 2, ..., 2, 2, 1])"
            ]
          },
          "metadata": {},
          "execution_count": 84
        }
      ]
    },
    {
      "cell_type": "code",
      "metadata": {
        "id": "at_WBCdn0kP-",
        "colab": {
          "base_uri": "https://localhost:8080/"
        },
        "outputId": "6a7ea667-a7ca-4b4b-8589-a9abf1bec988"
      },
      "source": [
        "df['군집소속']"
      ],
      "execution_count": null,
      "outputs": [
        {
          "output_type": "execute_result",
          "data": {
            "text/plain": [
              "0       2\n",
              "1       0\n",
              "2       2\n",
              "3       0\n",
              "4       2\n",
              "       ..\n",
              "7038    0\n",
              "7039    1\n",
              "7040    2\n",
              "7041    2\n",
              "7042    1\n",
              "Name: 군집소속, Length: 7032, dtype: int64"
            ]
          },
          "metadata": {},
          "execution_count": 85
        }
      ]
    },
    {
      "cell_type": "code",
      "metadata": {
        "colab": {
          "base_uri": "https://localhost:8080/",
          "height": 206
        },
        "id": "hGeSCwRLtxJz",
        "outputId": "8dbc4210-e606-44c7-a5e8-21fb5cef047b"
      },
      "source": [
        "# 군집별 주요 컬럼확인\n",
        "df.groupby('군집소속')['SeniorCitizen','gender_Male','tenure','MonthlyCharges', 'TotalCharges'].mean().sort_values(by='tenure',ascending=False).style.background_gradient(cmap = 'Blues')"
      ],
      "execution_count": null,
      "outputs": [
        {
          "output_type": "stream",
          "name": "stderr",
          "text": [
            "/usr/local/lib/python3.7/dist-packages/ipykernel_launcher.py:2: FutureWarning: Indexing with multiple keys (implicitly converted to a tuple of keys) will be deprecated, use a list instead.\n",
            "  \n"
          ]
        },
        {
          "output_type": "execute_result",
          "data": {
            "text/html": [
              "<style  type=\"text/css\" >\n",
              "#T_e3729f80_37a0_11ec_bb3e_0242ac1c0002row0_col0,#T_e3729f80_37a0_11ec_bb3e_0242ac1c0002row0_col2,#T_e3729f80_37a0_11ec_bb3e_0242ac1c0002row0_col3,#T_e3729f80_37a0_11ec_bb3e_0242ac1c0002row0_col4,#T_e3729f80_37a0_11ec_bb3e_0242ac1c0002row2_col1{\n",
              "            background-color:  #08306b;\n",
              "            color:  #f1f1f1;\n",
              "        }#T_e3729f80_37a0_11ec_bb3e_0242ac1c0002row0_col1,#T_e3729f80_37a0_11ec_bb3e_0242ac1c0002row2_col0,#T_e3729f80_37a0_11ec_bb3e_0242ac1c0002row2_col2,#T_e3729f80_37a0_11ec_bb3e_0242ac1c0002row2_col3,#T_e3729f80_37a0_11ec_bb3e_0242ac1c0002row2_col4{\n",
              "            background-color:  #f7fbff;\n",
              "            color:  #000000;\n",
              "        }#T_e3729f80_37a0_11ec_bb3e_0242ac1c0002row1_col0{\n",
              "            background-color:  #2676b8;\n",
              "            color:  #000000;\n",
              "        }#T_e3729f80_37a0_11ec_bb3e_0242ac1c0002row1_col1{\n",
              "            background-color:  #083c7d;\n",
              "            color:  #f1f1f1;\n",
              "        }#T_e3729f80_37a0_11ec_bb3e_0242ac1c0002row1_col2{\n",
              "            background-color:  #56a0ce;\n",
              "            color:  #000000;\n",
              "        }#T_e3729f80_37a0_11ec_bb3e_0242ac1c0002row1_col3{\n",
              "            background-color:  #69add5;\n",
              "            color:  #000000;\n",
              "        }#T_e3729f80_37a0_11ec_bb3e_0242ac1c0002row1_col4{\n",
              "            background-color:  #8cc0dd;\n",
              "            color:  #000000;\n",
              "        }</style><table id=\"T_e3729f80_37a0_11ec_bb3e_0242ac1c0002\" class=\"dataframe\"><thead>    <tr>        <th class=\"blank level0\" ></th>        <th class=\"col_heading level0 col0\" >SeniorCitizen</th>        <th class=\"col_heading level0 col1\" >gender_Male</th>        <th class=\"col_heading level0 col2\" >tenure</th>        <th class=\"col_heading level0 col3\" >MonthlyCharges</th>        <th class=\"col_heading level0 col4\" >TotalCharges</th>    </tr>    <tr>        <th class=\"index_name level0\" >군집소속</th>        <th class=\"blank\" ></th>        <th class=\"blank\" ></th>        <th class=\"blank\" ></th>        <th class=\"blank\" ></th>        <th class=\"blank\" ></th>    </tr></thead><tbody>\n",
              "                <tr>\n",
              "                        <th id=\"T_e3729f80_37a0_11ec_bb3e_0242ac1c0002level0_row0\" class=\"row_heading level0 row0\" >1</th>\n",
              "                        <td id=\"T_e3729f80_37a0_11ec_bb3e_0242ac1c0002row0_col0\" class=\"data row0 col0\" >0.220386</td>\n",
              "                        <td id=\"T_e3729f80_37a0_11ec_bb3e_0242ac1c0002row0_col1\" class=\"data row0 col1\" >0.496786</td>\n",
              "                        <td id=\"T_e3729f80_37a0_11ec_bb3e_0242ac1c0002row0_col2\" class=\"data row0 col2\" >65.569330</td>\n",
              "                        <td id=\"T_e3729f80_37a0_11ec_bb3e_0242ac1c0002row0_col3\" class=\"data row0 col3\" >99.328696</td>\n",
              "                        <td id=\"T_e3729f80_37a0_11ec_bb3e_0242ac1c0002row0_col4\" class=\"data row0 col4\" >6505.493205</td>\n",
              "            </tr>\n",
              "            <tr>\n",
              "                        <th id=\"T_e3729f80_37a0_11ec_bb3e_0242ac1c0002level0_row1\" class=\"row_heading level0 row1\" >0</th>\n",
              "                        <td id=\"T_e3729f80_37a0_11ec_bb3e_0242ac1c0002row1_col0\" class=\"data row1 col0\" >0.194529</td>\n",
              "                        <td id=\"T_e3729f80_37a0_11ec_bb3e_0242ac1c0002row1_col1\" class=\"data row1 col1\" >0.505862</td>\n",
              "                        <td id=\"T_e3729f80_37a0_11ec_bb3e_0242ac1c0002row1_col2\" class=\"data row1 col2\" >43.733391</td>\n",
              "                        <td id=\"T_e3729f80_37a0_11ec_bb3e_0242ac1c0002row1_col3\" class=\"data row1 col3\" >74.256926</td>\n",
              "                        <td id=\"T_e3729f80_37a0_11ec_bb3e_0242ac1c0002row1_col4\" class=\"data row1 col4\" >3044.090165</td>\n",
              "            </tr>\n",
              "            <tr>\n",
              "                        <th id=\"T_e3729f80_37a0_11ec_bb3e_0242ac1c0002level0_row2\" class=\"row_heading level0 row2\" >2</th>\n",
              "                        <td id=\"T_e3729f80_37a0_11ec_bb3e_0242ac1c0002row2_col0\" class=\"data row2 col0\" >0.124725</td>\n",
              "                        <td id=\"T_e3729f80_37a0_11ec_bb3e_0242ac1c0002row2_col1\" class=\"data row2 col1\" >0.506319</td>\n",
              "                        <td id=\"T_e3729f80_37a0_11ec_bb3e_0242ac1c0002row2_col2\" class=\"data row2 col2\" >15.348077</td>\n",
              "                        <td id=\"T_e3729f80_37a0_11ec_bb3e_0242ac1c0002row2_col3\" class=\"data row2 col3\" >48.483063</td>\n",
              "                        <td id=\"T_e3729f80_37a0_11ec_bb3e_0242ac1c0002row2_col4\" class=\"data row2 col4\" >538.776635</td>\n",
              "            </tr>\n",
              "    </tbody></table>"
            ],
            "text/plain": [
              "<pandas.io.formats.style.Styler at 0x7f6499587210>"
            ]
          },
          "metadata": {},
          "execution_count": 158
        }
      ]
    },
    {
      "cell_type": "code",
      "metadata": {
        "id": "1V9aMMaaAQ1r",
        "colab": {
          "base_uri": "https://localhost:8080/"
        },
        "outputId": "07744e8c-36df-4a6c-bb1b-d10c841b3485"
      },
      "source": [
        "df['군집소속'].value_counts()"
      ],
      "execution_count": null,
      "outputs": [
        {
          "output_type": "execute_result",
          "data": {
            "text/plain": [
              "2    3640\n",
              "0    2303\n",
              "1    1089\n",
              "Name: 군집소속, dtype: int64"
            ]
          },
          "metadata": {},
          "execution_count": 159
        }
      ]
    },
    {
      "cell_type": "code",
      "metadata": {
        "colab": {
          "base_uri": "https://localhost:8080/"
        },
        "id": "5UR2ULw4xCLs",
        "outputId": "79e6b5dd-3db3-4583-f5e8-b0ffd1c69507"
      },
      "source": [
        "cluster_list = []\n",
        "for i in df['군집소속']:\n",
        "  if i ==1:\n",
        "    cluster_list.append('최우수 고객')\n",
        "  elif i == 0:\n",
        "    cluster_list.append('우수 고객')\n",
        "  elif i == 2:\n",
        "    cluster_list.append('일반고객')\n",
        "\n",
        "df['군집소속'] = cluster_list\n",
        "df['군집소속'].value_counts()"
      ],
      "execution_count": null,
      "outputs": [
        {
          "output_type": "execute_result",
          "data": {
            "text/plain": [
              "일반고객      3640\n",
              "우수 고객     2303\n",
              "최우수 고객    1089\n",
              "Name: 군집소속, dtype: int64"
            ]
          },
          "metadata": {},
          "execution_count": 161
        }
      ]
    },
    {
      "cell_type": "code",
      "metadata": {
        "id": "RVZgkI_8LMay",
        "colab": {
          "base_uri": "https://localhost:8080/",
          "height": 206
        },
        "outputId": "dc8c9809-0cad-4299-b04c-f9efa7914697"
      },
      "source": [
        "# 군집별 주요 컬럼확인\n",
        "df.groupby('군집소속')['SeniorCitizen','gender_Male','tenure','MonthlyCharges', 'TotalCharges'].mean().sort_values(by='tenure',ascending=False).style.background_gradient(cmap = 'Blues')"
      ],
      "execution_count": null,
      "outputs": [
        {
          "output_type": "stream",
          "name": "stderr",
          "text": [
            "/usr/local/lib/python3.7/dist-packages/ipykernel_launcher.py:2: FutureWarning: Indexing with multiple keys (implicitly converted to a tuple of keys) will be deprecated, use a list instead.\n",
            "  \n"
          ]
        },
        {
          "output_type": "execute_result",
          "data": {
            "text/html": [
              "<style  type=\"text/css\" >\n",
              "#T_644c476c_37a8_11ec_bb3e_0242ac1c0002row0_col0,#T_644c476c_37a8_11ec_bb3e_0242ac1c0002row0_col2,#T_644c476c_37a8_11ec_bb3e_0242ac1c0002row0_col3,#T_644c476c_37a8_11ec_bb3e_0242ac1c0002row0_col4,#T_644c476c_37a8_11ec_bb3e_0242ac1c0002row2_col1{\n",
              "            background-color:  #08306b;\n",
              "            color:  #f1f1f1;\n",
              "        }#T_644c476c_37a8_11ec_bb3e_0242ac1c0002row0_col1,#T_644c476c_37a8_11ec_bb3e_0242ac1c0002row2_col0,#T_644c476c_37a8_11ec_bb3e_0242ac1c0002row2_col2,#T_644c476c_37a8_11ec_bb3e_0242ac1c0002row2_col3,#T_644c476c_37a8_11ec_bb3e_0242ac1c0002row2_col4{\n",
              "            background-color:  #f7fbff;\n",
              "            color:  #000000;\n",
              "        }#T_644c476c_37a8_11ec_bb3e_0242ac1c0002row1_col0{\n",
              "            background-color:  #2676b8;\n",
              "            color:  #000000;\n",
              "        }#T_644c476c_37a8_11ec_bb3e_0242ac1c0002row1_col1{\n",
              "            background-color:  #083c7d;\n",
              "            color:  #f1f1f1;\n",
              "        }#T_644c476c_37a8_11ec_bb3e_0242ac1c0002row1_col2{\n",
              "            background-color:  #56a0ce;\n",
              "            color:  #000000;\n",
              "        }#T_644c476c_37a8_11ec_bb3e_0242ac1c0002row1_col3{\n",
              "            background-color:  #69add5;\n",
              "            color:  #000000;\n",
              "        }#T_644c476c_37a8_11ec_bb3e_0242ac1c0002row1_col4{\n",
              "            background-color:  #8cc0dd;\n",
              "            color:  #000000;\n",
              "        }</style><table id=\"T_644c476c_37a8_11ec_bb3e_0242ac1c0002\" class=\"dataframe\"><thead>    <tr>        <th class=\"blank level0\" ></th>        <th class=\"col_heading level0 col0\" >SeniorCitizen</th>        <th class=\"col_heading level0 col1\" >gender_Male</th>        <th class=\"col_heading level0 col2\" >tenure</th>        <th class=\"col_heading level0 col3\" >MonthlyCharges</th>        <th class=\"col_heading level0 col4\" >TotalCharges</th>    </tr>    <tr>        <th class=\"index_name level0\" >군집소속</th>        <th class=\"blank\" ></th>        <th class=\"blank\" ></th>        <th class=\"blank\" ></th>        <th class=\"blank\" ></th>        <th class=\"blank\" ></th>    </tr></thead><tbody>\n",
              "                <tr>\n",
              "                        <th id=\"T_644c476c_37a8_11ec_bb3e_0242ac1c0002level0_row0\" class=\"row_heading level0 row0\" >최우수 고객</th>\n",
              "                        <td id=\"T_644c476c_37a8_11ec_bb3e_0242ac1c0002row0_col0\" class=\"data row0 col0\" >0.220386</td>\n",
              "                        <td id=\"T_644c476c_37a8_11ec_bb3e_0242ac1c0002row0_col1\" class=\"data row0 col1\" >0.496786</td>\n",
              "                        <td id=\"T_644c476c_37a8_11ec_bb3e_0242ac1c0002row0_col2\" class=\"data row0 col2\" >65.569330</td>\n",
              "                        <td id=\"T_644c476c_37a8_11ec_bb3e_0242ac1c0002row0_col3\" class=\"data row0 col3\" >99.328696</td>\n",
              "                        <td id=\"T_644c476c_37a8_11ec_bb3e_0242ac1c0002row0_col4\" class=\"data row0 col4\" >6505.493205</td>\n",
              "            </tr>\n",
              "            <tr>\n",
              "                        <th id=\"T_644c476c_37a8_11ec_bb3e_0242ac1c0002level0_row1\" class=\"row_heading level0 row1\" >우수 고객</th>\n",
              "                        <td id=\"T_644c476c_37a8_11ec_bb3e_0242ac1c0002row1_col0\" class=\"data row1 col0\" >0.194529</td>\n",
              "                        <td id=\"T_644c476c_37a8_11ec_bb3e_0242ac1c0002row1_col1\" class=\"data row1 col1\" >0.505862</td>\n",
              "                        <td id=\"T_644c476c_37a8_11ec_bb3e_0242ac1c0002row1_col2\" class=\"data row1 col2\" >43.733391</td>\n",
              "                        <td id=\"T_644c476c_37a8_11ec_bb3e_0242ac1c0002row1_col3\" class=\"data row1 col3\" >74.256926</td>\n",
              "                        <td id=\"T_644c476c_37a8_11ec_bb3e_0242ac1c0002row1_col4\" class=\"data row1 col4\" >3044.090165</td>\n",
              "            </tr>\n",
              "            <tr>\n",
              "                        <th id=\"T_644c476c_37a8_11ec_bb3e_0242ac1c0002level0_row2\" class=\"row_heading level0 row2\" >일반고객</th>\n",
              "                        <td id=\"T_644c476c_37a8_11ec_bb3e_0242ac1c0002row2_col0\" class=\"data row2 col0\" >0.124725</td>\n",
              "                        <td id=\"T_644c476c_37a8_11ec_bb3e_0242ac1c0002row2_col1\" class=\"data row2 col1\" >0.506319</td>\n",
              "                        <td id=\"T_644c476c_37a8_11ec_bb3e_0242ac1c0002row2_col2\" class=\"data row2 col2\" >15.348077</td>\n",
              "                        <td id=\"T_644c476c_37a8_11ec_bb3e_0242ac1c0002row2_col3\" class=\"data row2 col3\" >48.483063</td>\n",
              "                        <td id=\"T_644c476c_37a8_11ec_bb3e_0242ac1c0002row2_col4\" class=\"data row2 col4\" >538.776635</td>\n",
              "            </tr>\n",
              "    </tbody></table>"
            ],
            "text/plain": [
              "<pandas.io.formats.style.Styler at 0x7f64992bcc50>"
            ]
          },
          "metadata": {},
          "execution_count": 163
        }
      ]
    },
    {
      "cell_type": "markdown",
      "metadata": {
        "id": "7Uk6XeoE08wh"
      },
      "source": [
        "< 고객의 분배 기준 >\n",
        "\n",
        "최우수 고객 : 가입기간과 자사에 많은 소비를 하는 고객\n",
        "\n",
        "우수 고객 : 가입기간이 최우수 고객 보다는 떨어지나 충분히 오랜기간 사용하며 소비또한 적지않게 하는 고객\n",
        "\n",
        "일반고객 : 가장 다양한 기간이 분포되어있으며, 대체로 가입기간이 길지않고 소비또한 많지않은 고객층"
      ]
    },
    {
      "cell_type": "code",
      "metadata": {
        "id": "-NgU_AvhRmux",
        "colab": {
          "base_uri": "https://localhost:8080/",
          "height": 441
        },
        "outputId": "8ab8b7fe-b76c-41e2-c94e-de02a78631ac"
      },
      "source": [
        "df.groupby('군집소속')[df.columns].mean().sort_values(by='tenure',ascending=False).style.background_gradient(cmap = 'Blues')"
      ],
      "execution_count": null,
      "outputs": [
        {
          "output_type": "execute_result",
          "data": {
            "text/html": [
              "<style  type=\"text/css\" >\n",
              "#T_52f61e76_37ac_11ec_bb3e_0242ac1c0002row0_col0,#T_52f61e76_37ac_11ec_bb3e_0242ac1c0002row0_col1,#T_52f61e76_37ac_11ec_bb3e_0242ac1c0002row0_col2,#T_52f61e76_37ac_11ec_bb3e_0242ac1c0002row0_col3,#T_52f61e76_37ac_11ec_bb3e_0242ac1c0002row0_col5,#T_52f61e76_37ac_11ec_bb3e_0242ac1c0002row0_col6,#T_52f61e76_37ac_11ec_bb3e_0242ac1c0002row0_col7,#T_52f61e76_37ac_11ec_bb3e_0242ac1c0002row0_col9,#T_52f61e76_37ac_11ec_bb3e_0242ac1c0002row0_col10,#T_52f61e76_37ac_11ec_bb3e_0242ac1c0002row0_col13,#T_52f61e76_37ac_11ec_bb3e_0242ac1c0002row0_col15,#T_52f61e76_37ac_11ec_bb3e_0242ac1c0002row0_col17,#T_52f61e76_37ac_11ec_bb3e_0242ac1c0002row0_col19,#T_52f61e76_37ac_11ec_bb3e_0242ac1c0002row0_col21,#T_52f61e76_37ac_11ec_bb3e_0242ac1c0002row0_col23,#T_52f61e76_37ac_11ec_bb3e_0242ac1c0002row0_col24,#T_52f61e76_37ac_11ec_bb3e_0242ac1c0002row0_col25,#T_52f61e76_37ac_11ec_bb3e_0242ac1c0002row0_col26,#T_52f61e76_37ac_11ec_bb3e_0242ac1c0002row0_col27,#T_52f61e76_37ac_11ec_bb3e_0242ac1c0002row1_col8,#T_52f61e76_37ac_11ec_bb3e_0242ac1c0002row2_col4,#T_52f61e76_37ac_11ec_bb3e_0242ac1c0002row2_col11,#T_52f61e76_37ac_11ec_bb3e_0242ac1c0002row2_col12,#T_52f61e76_37ac_11ec_bb3e_0242ac1c0002row2_col14,#T_52f61e76_37ac_11ec_bb3e_0242ac1c0002row2_col16,#T_52f61e76_37ac_11ec_bb3e_0242ac1c0002row2_col18,#T_52f61e76_37ac_11ec_bb3e_0242ac1c0002row2_col20,#T_52f61e76_37ac_11ec_bb3e_0242ac1c0002row2_col22,#T_52f61e76_37ac_11ec_bb3e_0242ac1c0002row2_col28,#T_52f61e76_37ac_11ec_bb3e_0242ac1c0002row2_col29,#T_52f61e76_37ac_11ec_bb3e_0242ac1c0002row2_col30{\n",
              "            background-color:  #08306b;\n",
              "            color:  #f1f1f1;\n",
              "        }#T_52f61e76_37ac_11ec_bb3e_0242ac1c0002row0_col4,#T_52f61e76_37ac_11ec_bb3e_0242ac1c0002row0_col8,#T_52f61e76_37ac_11ec_bb3e_0242ac1c0002row0_col11,#T_52f61e76_37ac_11ec_bb3e_0242ac1c0002row0_col12,#T_52f61e76_37ac_11ec_bb3e_0242ac1c0002row0_col14,#T_52f61e76_37ac_11ec_bb3e_0242ac1c0002row0_col16,#T_52f61e76_37ac_11ec_bb3e_0242ac1c0002row0_col18,#T_52f61e76_37ac_11ec_bb3e_0242ac1c0002row0_col20,#T_52f61e76_37ac_11ec_bb3e_0242ac1c0002row0_col22,#T_52f61e76_37ac_11ec_bb3e_0242ac1c0002row0_col28,#T_52f61e76_37ac_11ec_bb3e_0242ac1c0002row0_col29,#T_52f61e76_37ac_11ec_bb3e_0242ac1c0002row0_col30,#T_52f61e76_37ac_11ec_bb3e_0242ac1c0002row1_col7,#T_52f61e76_37ac_11ec_bb3e_0242ac1c0002row2_col0,#T_52f61e76_37ac_11ec_bb3e_0242ac1c0002row2_col1,#T_52f61e76_37ac_11ec_bb3e_0242ac1c0002row2_col2,#T_52f61e76_37ac_11ec_bb3e_0242ac1c0002row2_col3,#T_52f61e76_37ac_11ec_bb3e_0242ac1c0002row2_col5,#T_52f61e76_37ac_11ec_bb3e_0242ac1c0002row2_col6,#T_52f61e76_37ac_11ec_bb3e_0242ac1c0002row2_col9,#T_52f61e76_37ac_11ec_bb3e_0242ac1c0002row2_col10,#T_52f61e76_37ac_11ec_bb3e_0242ac1c0002row2_col13,#T_52f61e76_37ac_11ec_bb3e_0242ac1c0002row2_col15,#T_52f61e76_37ac_11ec_bb3e_0242ac1c0002row2_col17,#T_52f61e76_37ac_11ec_bb3e_0242ac1c0002row2_col19,#T_52f61e76_37ac_11ec_bb3e_0242ac1c0002row2_col21,#T_52f61e76_37ac_11ec_bb3e_0242ac1c0002row2_col23,#T_52f61e76_37ac_11ec_bb3e_0242ac1c0002row2_col24,#T_52f61e76_37ac_11ec_bb3e_0242ac1c0002row2_col25,#T_52f61e76_37ac_11ec_bb3e_0242ac1c0002row2_col26,#T_52f61e76_37ac_11ec_bb3e_0242ac1c0002row2_col27{\n",
              "            background-color:  #f7fbff;\n",
              "            color:  #000000;\n",
              "        }#T_52f61e76_37ac_11ec_bb3e_0242ac1c0002row1_col0{\n",
              "            background-color:  #2676b8;\n",
              "            color:  #000000;\n",
              "        }#T_52f61e76_37ac_11ec_bb3e_0242ac1c0002row1_col1{\n",
              "            background-color:  #56a0ce;\n",
              "            color:  #000000;\n",
              "        }#T_52f61e76_37ac_11ec_bb3e_0242ac1c0002row1_col2{\n",
              "            background-color:  #69add5;\n",
              "            color:  #000000;\n",
              "        }#T_52f61e76_37ac_11ec_bb3e_0242ac1c0002row1_col3{\n",
              "            background-color:  #8cc0dd;\n",
              "            color:  #000000;\n",
              "        }#T_52f61e76_37ac_11ec_bb3e_0242ac1c0002row1_col4{\n",
              "            background-color:  #083c7d;\n",
              "            color:  #f1f1f1;\n",
              "        }#T_52f61e76_37ac_11ec_bb3e_0242ac1c0002row1_col5{\n",
              "            background-color:  #63a8d3;\n",
              "            color:  #000000;\n",
              "        }#T_52f61e76_37ac_11ec_bb3e_0242ac1c0002row1_col6{\n",
              "            background-color:  #8dc1dd;\n",
              "            color:  #000000;\n",
              "        }#T_52f61e76_37ac_11ec_bb3e_0242ac1c0002row1_col9,#T_52f61e76_37ac_11ec_bb3e_0242ac1c0002row1_col23{\n",
              "            background-color:  #6fb0d7;\n",
              "            color:  #000000;\n",
              "        }#T_52f61e76_37ac_11ec_bb3e_0242ac1c0002row1_col10{\n",
              "            background-color:  #9dcae1;\n",
              "            color:  #000000;\n",
              "        }#T_52f61e76_37ac_11ec_bb3e_0242ac1c0002row1_col11,#T_52f61e76_37ac_11ec_bb3e_0242ac1c0002row1_col12,#T_52f61e76_37ac_11ec_bb3e_0242ac1c0002row1_col14,#T_52f61e76_37ac_11ec_bb3e_0242ac1c0002row1_col16,#T_52f61e76_37ac_11ec_bb3e_0242ac1c0002row1_col18,#T_52f61e76_37ac_11ec_bb3e_0242ac1c0002row1_col20,#T_52f61e76_37ac_11ec_bb3e_0242ac1c0002row1_col22{\n",
              "            background-color:  #d4e4f4;\n",
              "            color:  #000000;\n",
              "        }#T_52f61e76_37ac_11ec_bb3e_0242ac1c0002row1_col13{\n",
              "            background-color:  #4e9acb;\n",
              "            color:  #000000;\n",
              "        }#T_52f61e76_37ac_11ec_bb3e_0242ac1c0002row1_col15{\n",
              "            background-color:  #6dafd7;\n",
              "            color:  #000000;\n",
              "        }#T_52f61e76_37ac_11ec_bb3e_0242ac1c0002row1_col17{\n",
              "            background-color:  #61a7d2;\n",
              "            color:  #000000;\n",
              "        }#T_52f61e76_37ac_11ec_bb3e_0242ac1c0002row1_col19{\n",
              "            background-color:  #549fcd;\n",
              "            color:  #000000;\n",
              "        }#T_52f61e76_37ac_11ec_bb3e_0242ac1c0002row1_col21{\n",
              "            background-color:  #71b1d7;\n",
              "            color:  #000000;\n",
              "        }#T_52f61e76_37ac_11ec_bb3e_0242ac1c0002row1_col24{\n",
              "            background-color:  #084990;\n",
              "            color:  #f1f1f1;\n",
              "        }#T_52f61e76_37ac_11ec_bb3e_0242ac1c0002row1_col25{\n",
              "            background-color:  #c7dbef;\n",
              "            color:  #000000;\n",
              "        }#T_52f61e76_37ac_11ec_bb3e_0242ac1c0002row1_col26{\n",
              "            background-color:  #4292c6;\n",
              "            color:  #000000;\n",
              "        }#T_52f61e76_37ac_11ec_bb3e_0242ac1c0002row1_col27{\n",
              "            background-color:  #529dcc;\n",
              "            color:  #000000;\n",
              "        }#T_52f61e76_37ac_11ec_bb3e_0242ac1c0002row1_col28{\n",
              "            background-color:  #206fb4;\n",
              "            color:  #f1f1f1;\n",
              "        }#T_52f61e76_37ac_11ec_bb3e_0242ac1c0002row1_col29{\n",
              "            background-color:  #bdd7ec;\n",
              "            color:  #000000;\n",
              "        }#T_52f61e76_37ac_11ec_bb3e_0242ac1c0002row1_col30{\n",
              "            background-color:  #a3cce3;\n",
              "            color:  #000000;\n",
              "        }#T_52f61e76_37ac_11ec_bb3e_0242ac1c0002row2_col7{\n",
              "            background-color:  #d9e8f5;\n",
              "            color:  #000000;\n",
              "        }#T_52f61e76_37ac_11ec_bb3e_0242ac1c0002row2_col8{\n",
              "            background-color:  #0d57a1;\n",
              "            color:  #f1f1f1;\n",
              "        }</style><table id=\"T_52f61e76_37ac_11ec_bb3e_0242ac1c0002\" class=\"dataframe\"><thead>    <tr>        <th class=\"blank level0\" ></th>        <th class=\"col_heading level0 col0\" >SeniorCitizen</th>        <th class=\"col_heading level0 col1\" >tenure</th>        <th class=\"col_heading level0 col2\" >MonthlyCharges</th>        <th class=\"col_heading level0 col3\" >TotalCharges</th>        <th class=\"col_heading level0 col4\" >gender_Male</th>        <th class=\"col_heading level0 col5\" >Partner_Yes</th>        <th class=\"col_heading level0 col6\" >Dependents_Yes</th>        <th class=\"col_heading level0 col7\" >PhoneService_Yes</th>        <th class=\"col_heading level0 col8\" >MultipleLines_No phone service</th>        <th class=\"col_heading level0 col9\" >MultipleLines_Yes</th>        <th class=\"col_heading level0 col10\" >InternetService_Fiber optic</th>        <th class=\"col_heading level0 col11\" >InternetService_No</th>        <th class=\"col_heading level0 col12\" >OnlineSecurity_No internet service</th>        <th class=\"col_heading level0 col13\" >OnlineSecurity_Yes</th>        <th class=\"col_heading level0 col14\" >OnlineBackup_No internet service</th>        <th class=\"col_heading level0 col15\" >OnlineBackup_Yes</th>        <th class=\"col_heading level0 col16\" >DeviceProtection_No internet service</th>        <th class=\"col_heading level0 col17\" >DeviceProtection_Yes</th>        <th class=\"col_heading level0 col18\" >TechSupport_No internet service</th>        <th class=\"col_heading level0 col19\" >TechSupport_Yes</th>        <th class=\"col_heading level0 col20\" >StreamingTV_No internet service</th>        <th class=\"col_heading level0 col21\" >StreamingTV_Yes</th>        <th class=\"col_heading level0 col22\" >StreamingMovies_No internet service</th>        <th class=\"col_heading level0 col23\" >StreamingMovies_Yes</th>        <th class=\"col_heading level0 col24\" >Contract_One year</th>        <th class=\"col_heading level0 col25\" >Contract_Two year</th>        <th class=\"col_heading level0 col26\" >PaperlessBilling_Yes</th>        <th class=\"col_heading level0 col27\" >PaymentMethod_Credit card (automatic)</th>        <th class=\"col_heading level0 col28\" >PaymentMethod_Electronic check</th>        <th class=\"col_heading level0 col29\" >PaymentMethod_Mailed check</th>        <th class=\"col_heading level0 col30\" >Churn_Yes</th>    </tr>    <tr>        <th class=\"index_name level0\" >군집소속</th>        <th class=\"blank\" ></th>        <th class=\"blank\" ></th>        <th class=\"blank\" ></th>        <th class=\"blank\" ></th>        <th class=\"blank\" ></th>        <th class=\"blank\" ></th>        <th class=\"blank\" ></th>        <th class=\"blank\" ></th>        <th class=\"blank\" ></th>        <th class=\"blank\" ></th>        <th class=\"blank\" ></th>        <th class=\"blank\" ></th>        <th class=\"blank\" ></th>        <th class=\"blank\" ></th>        <th class=\"blank\" ></th>        <th class=\"blank\" ></th>        <th class=\"blank\" ></th>        <th class=\"blank\" ></th>        <th class=\"blank\" ></th>        <th class=\"blank\" ></th>        <th class=\"blank\" ></th>        <th class=\"blank\" ></th>        <th class=\"blank\" ></th>        <th class=\"blank\" ></th>        <th class=\"blank\" ></th>        <th class=\"blank\" ></th>        <th class=\"blank\" ></th>        <th class=\"blank\" ></th>        <th class=\"blank\" ></th>        <th class=\"blank\" ></th>        <th class=\"blank\" ></th>    </tr></thead><tbody>\n",
              "                <tr>\n",
              "                        <th id=\"T_52f61e76_37ac_11ec_bb3e_0242ac1c0002level0_row0\" class=\"row_heading level0 row0\" >최우수 고객</th>\n",
              "                        <td id=\"T_52f61e76_37ac_11ec_bb3e_0242ac1c0002row0_col0\" class=\"data row0 col0\" >0.220386</td>\n",
              "                        <td id=\"T_52f61e76_37ac_11ec_bb3e_0242ac1c0002row0_col1\" class=\"data row0 col1\" >65.569330</td>\n",
              "                        <td id=\"T_52f61e76_37ac_11ec_bb3e_0242ac1c0002row0_col2\" class=\"data row0 col2\" >99.328696</td>\n",
              "                        <td id=\"T_52f61e76_37ac_11ec_bb3e_0242ac1c0002row0_col3\" class=\"data row0 col3\" >6505.493205</td>\n",
              "                        <td id=\"T_52f61e76_37ac_11ec_bb3e_0242ac1c0002row0_col4\" class=\"data row0 col4\" >0.496786</td>\n",
              "                        <td id=\"T_52f61e76_37ac_11ec_bb3e_0242ac1c0002row0_col5\" class=\"data row0 col5\" >0.752984</td>\n",
              "                        <td id=\"T_52f61e76_37ac_11ec_bb3e_0242ac1c0002row0_col6\" class=\"data row0 col6\" >0.339761</td>\n",
              "                        <td id=\"T_52f61e76_37ac_11ec_bb3e_0242ac1c0002row0_col7\" class=\"data row0 col7\" >1.000000</td>\n",
              "                        <td id=\"T_52f61e76_37ac_11ec_bb3e_0242ac1c0002row0_col8\" class=\"data row0 col8\" >0.000000</td>\n",
              "                        <td id=\"T_52f61e76_37ac_11ec_bb3e_0242ac1c0002row0_col9\" class=\"data row0 col9\" >0.844812</td>\n",
              "                        <td id=\"T_52f61e76_37ac_11ec_bb3e_0242ac1c0002row0_col10\" class=\"data row0 col10\" >0.788797</td>\n",
              "                        <td id=\"T_52f61e76_37ac_11ec_bb3e_0242ac1c0002row0_col11\" class=\"data row0 col11\" >0.000000</td>\n",
              "                        <td id=\"T_52f61e76_37ac_11ec_bb3e_0242ac1c0002row0_col12\" class=\"data row0 col12\" >0.000000</td>\n",
              "                        <td id=\"T_52f61e76_37ac_11ec_bb3e_0242ac1c0002row0_col13\" class=\"data row0 col13\" >0.592287</td>\n",
              "                        <td id=\"T_52f61e76_37ac_11ec_bb3e_0242ac1c0002row0_col14\" class=\"data row0 col14\" >0.000000</td>\n",
              "                        <td id=\"T_52f61e76_37ac_11ec_bb3e_0242ac1c0002row0_col15\" class=\"data row0 col15\" >0.773186</td>\n",
              "                        <td id=\"T_52f61e76_37ac_11ec_bb3e_0242ac1c0002row0_col16\" class=\"data row0 col16\" >0.000000</td>\n",
              "                        <td id=\"T_52f61e76_37ac_11ec_bb3e_0242ac1c0002row0_col17\" class=\"data row0 col17\" >0.765840</td>\n",
              "                        <td id=\"T_52f61e76_37ac_11ec_bb3e_0242ac1c0002row0_col18\" class=\"data row0 col18\" >0.000000</td>\n",
              "                        <td id=\"T_52f61e76_37ac_11ec_bb3e_0242ac1c0002row0_col19\" class=\"data row0 col19\" >0.612489</td>\n",
              "                        <td id=\"T_52f61e76_37ac_11ec_bb3e_0242ac1c0002row0_col20\" class=\"data row0 col20\" >0.000000</td>\n",
              "                        <td id=\"T_52f61e76_37ac_11ec_bb3e_0242ac1c0002row0_col21\" class=\"data row0 col21\" >0.830119</td>\n",
              "                        <td id=\"T_52f61e76_37ac_11ec_bb3e_0242ac1c0002row0_col22\" class=\"data row0 col22\" >0.000000</td>\n",
              "                        <td id=\"T_52f61e76_37ac_11ec_bb3e_0242ac1c0002row0_col23\" class=\"data row0 col23\" >0.837466</td>\n",
              "                        <td id=\"T_52f61e76_37ac_11ec_bb3e_0242ac1c0002row0_col24\" class=\"data row0 col24\" >0.295684</td>\n",
              "                        <td id=\"T_52f61e76_37ac_11ec_bb3e_0242ac1c0002row0_col25\" class=\"data row0 col25\" >0.544536</td>\n",
              "                        <td id=\"T_52f61e76_37ac_11ec_bb3e_0242ac1c0002row0_col26\" class=\"data row0 col26\" >0.715335</td>\n",
              "                        <td id=\"T_52f61e76_37ac_11ec_bb3e_0242ac1c0002row0_col27\" class=\"data row0 col27\" >0.334252</td>\n",
              "                        <td id=\"T_52f61e76_37ac_11ec_bb3e_0242ac1c0002row0_col28\" class=\"data row0 col28\" >0.284665</td>\n",
              "                        <td id=\"T_52f61e76_37ac_11ec_bb3e_0242ac1c0002row0_col29\" class=\"data row0 col29\" >0.046832</td>\n",
              "                        <td id=\"T_52f61e76_37ac_11ec_bb3e_0242ac1c0002row0_col30\" class=\"data row0 col30\" >0.135904</td>\n",
              "            </tr>\n",
              "            <tr>\n",
              "                        <th id=\"T_52f61e76_37ac_11ec_bb3e_0242ac1c0002level0_row1\" class=\"row_heading level0 row1\" >우수 고객</th>\n",
              "                        <td id=\"T_52f61e76_37ac_11ec_bb3e_0242ac1c0002row1_col0\" class=\"data row1 col0\" >0.194529</td>\n",
              "                        <td id=\"T_52f61e76_37ac_11ec_bb3e_0242ac1c0002row1_col1\" class=\"data row1 col1\" >43.733391</td>\n",
              "                        <td id=\"T_52f61e76_37ac_11ec_bb3e_0242ac1c0002row1_col2\" class=\"data row1 col2\" >74.256926</td>\n",
              "                        <td id=\"T_52f61e76_37ac_11ec_bb3e_0242ac1c0002row1_col3\" class=\"data row1 col3\" >3044.090165</td>\n",
              "                        <td id=\"T_52f61e76_37ac_11ec_bb3e_0242ac1c0002row1_col4\" class=\"data row1 col4\" >0.505862</td>\n",
              "                        <td id=\"T_52f61e76_37ac_11ec_bb3e_0242ac1c0002row1_col5\" class=\"data row1 col5\" >0.562744</td>\n",
              "                        <td id=\"T_52f61e76_37ac_11ec_bb3e_0242ac1c0002row1_col6\" class=\"data row1 col6\" >0.305688</td>\n",
              "                        <td id=\"T_52f61e76_37ac_11ec_bb3e_0242ac1c0002row1_col7\" class=\"data row1 col7\" >0.874077</td>\n",
              "                        <td id=\"T_52f61e76_37ac_11ec_bb3e_0242ac1c0002row1_col8\" class=\"data row1 col8\" >0.125923</td>\n",
              "                        <td id=\"T_52f61e76_37ac_11ec_bb3e_0242ac1c0002row1_col9\" class=\"data row1 col9\" >0.530178</td>\n",
              "                        <td id=\"T_52f61e76_37ac_11ec_bb3e_0242ac1c0002row1_col10\" class=\"data row1 col10\" >0.488059</td>\n",
              "                        <td id=\"T_52f61e76_37ac_11ec_bb3e_0242ac1c0002row1_col11\" class=\"data row1 col11\" >0.067304</td>\n",
              "                        <td id=\"T_52f61e76_37ac_11ec_bb3e_0242ac1c0002row1_col12\" class=\"data row1 col12\" >0.067304</td>\n",
              "                        <td id=\"T_52f61e76_37ac_11ec_bb3e_0242ac1c0002row1_col13\" class=\"data row1 col13\" >0.399479</td>\n",
              "                        <td id=\"T_52f61e76_37ac_11ec_bb3e_0242ac1c0002row1_col14\" class=\"data row1 col14\" >0.067304</td>\n",
              "                        <td id=\"T_52f61e76_37ac_11ec_bb3e_0242ac1c0002row1_col15\" class=\"data row1 col15\" >0.456795</td>\n",
              "                        <td id=\"T_52f61e76_37ac_11ec_bb3e_0242ac1c0002row1_col16\" class=\"data row1 col16\" >0.067304</td>\n",
              "                        <td id=\"T_52f61e76_37ac_11ec_bb3e_0242ac1c0002row1_col17\" class=\"data row1 col17\" >0.469388</td>\n",
              "                        <td id=\"T_52f61e76_37ac_11ec_bb3e_0242ac1c0002row1_col18\" class=\"data row1 col18\" >0.067304</td>\n",
              "                        <td id=\"T_52f61e76_37ac_11ec_bb3e_0242ac1c0002row1_col19\" class=\"data row1 col19\" >0.401216</td>\n",
              "                        <td id=\"T_52f61e76_37ac_11ec_bb3e_0242ac1c0002row1_col20\" class=\"data row1 col20\" >0.067304</td>\n",
              "                        <td id=\"T_52f61e76_37ac_11ec_bb3e_0242ac1c0002row1_col21\" class=\"data row1 col21\" >0.497178</td>\n",
              "                        <td id=\"T_52f61e76_37ac_11ec_bb3e_0242ac1c0002row1_col22\" class=\"data row1 col22\" >0.067304</td>\n",
              "                        <td id=\"T_52f61e76_37ac_11ec_bb3e_0242ac1c0002row1_col23\" class=\"data row1 col23\" >0.502822</td>\n",
              "                        <td id=\"T_52f61e76_37ac_11ec_bb3e_0242ac1c0002row1_col24\" class=\"data row1 col24\" >0.280504</td>\n",
              "                        <td id=\"T_52f61e76_37ac_11ec_bb3e_0242ac1c0002row1_col25\" class=\"data row1 col25\" >0.244464</td>\n",
              "                        <td id=\"T_52f61e76_37ac_11ec_bb3e_0242ac1c0002row1_col26\" class=\"data row1 col26\" >0.643508</td>\n",
              "                        <td id=\"T_52f61e76_37ac_11ec_bb3e_0242ac1c0002row1_col27\" class=\"data row1 col27\" >0.258359</td>\n",
              "                        <td id=\"T_52f61e76_37ac_11ec_bb3e_0242ac1c0002row1_col28\" class=\"data row1 col28\" >0.335649</td>\n",
              "                        <td id=\"T_52f61e76_37ac_11ec_bb3e_0242ac1c0002row1_col29\" class=\"data row1 col29\" >0.129831</td>\n",
              "                        <td id=\"T_52f61e76_37ac_11ec_bb3e_0242ac1c0002row1_col30\" class=\"data row1 col30\" >0.209726</td>\n",
              "            </tr>\n",
              "            <tr>\n",
              "                        <th id=\"T_52f61e76_37ac_11ec_bb3e_0242ac1c0002level0_row2\" class=\"row_heading level0 row2\" >일반고객</th>\n",
              "                        <td id=\"T_52f61e76_37ac_11ec_bb3e_0242ac1c0002row2_col0\" class=\"data row2 col0\" >0.124725</td>\n",
              "                        <td id=\"T_52f61e76_37ac_11ec_bb3e_0242ac1c0002row2_col1\" class=\"data row2 col1\" >15.348077</td>\n",
              "                        <td id=\"T_52f61e76_37ac_11ec_bb3e_0242ac1c0002row2_col2\" class=\"data row2 col2\" >48.483063</td>\n",
              "                        <td id=\"T_52f61e76_37ac_11ec_bb3e_0242ac1c0002row2_col3\" class=\"data row2 col3\" >538.776635</td>\n",
              "                        <td id=\"T_52f61e76_37ac_11ec_bb3e_0242ac1c0002row2_col4\" class=\"data row2 col4\" >0.506319</td>\n",
              "                        <td id=\"T_52f61e76_37ac_11ec_bb3e_0242ac1c0002row2_col5\" class=\"data row2 col5\" >0.350824</td>\n",
              "                        <td id=\"T_52f61e76_37ac_11ec_bb3e_0242ac1c0002row2_col6\" class=\"data row2 col6\" >0.281593</td>\n",
              "                        <td id=\"T_52f61e76_37ac_11ec_bb3e_0242ac1c0002row2_col7\" class=\"data row2 col7\" >0.892857</td>\n",
              "                        <td id=\"T_52f61e76_37ac_11ec_bb3e_0242ac1c0002row2_col8\" class=\"data row2 col8\" >0.107143</td>\n",
              "                        <td id=\"T_52f61e76_37ac_11ec_bb3e_0242ac1c0002row2_col9\" class=\"data row2 col9\" >0.226923</td>\n",
              "                        <td id=\"T_52f61e76_37ac_11ec_bb3e_0242ac1c0002row2_col10\" class=\"data row2 col10\" >0.305769</td>\n",
              "                        <td id=\"T_52f61e76_37ac_11ec_bb3e_0242ac1c0002row2_col11\" class=\"data row2 col11\" >0.375000</td>\n",
              "                        <td id=\"T_52f61e76_37ac_11ec_bb3e_0242ac1c0002row2_col12\" class=\"data row2 col12\" >0.375000</td>\n",
              "                        <td id=\"T_52f61e76_37ac_11ec_bb3e_0242ac1c0002row2_col13\" class=\"data row2 col13\" >0.123626</td>\n",
              "                        <td id=\"T_52f61e76_37ac_11ec_bb3e_0242ac1c0002row2_col14\" class=\"data row2 col14\" >0.375000</td>\n",
              "                        <td id=\"T_52f61e76_37ac_11ec_bb3e_0242ac1c0002row2_col15\" class=\"data row2 col15\" >0.145879</td>\n",
              "                        <td id=\"T_52f61e76_37ac_11ec_bb3e_0242ac1c0002row2_col16\" class=\"data row2 col16\" >0.375000</td>\n",
              "                        <td id=\"T_52f61e76_37ac_11ec_bb3e_0242ac1c0002row2_col17\" class=\"data row2 col17\" >0.138187</td>\n",
              "                        <td id=\"T_52f61e76_37ac_11ec_bb3e_0242ac1c0002row2_col18\" class=\"data row2 col18\" >0.375000</td>\n",
              "                        <td id=\"T_52f61e76_37ac_11ec_bb3e_0242ac1c0002row2_col19\" class=\"data row2 col19\" >0.123352</td>\n",
              "                        <td id=\"T_52f61e76_37ac_11ec_bb3e_0242ac1c0002row2_col20\" class=\"data row2 col20\" >0.375000</td>\n",
              "                        <td id=\"T_52f61e76_37ac_11ec_bb3e_0242ac1c0002row2_col21\" class=\"data row2 col21\" >0.179670</td>\n",
              "                        <td id=\"T_52f61e76_37ac_11ec_bb3e_0242ac1c0002row2_col22\" class=\"data row2 col22\" >0.375000</td>\n",
              "                        <td id=\"T_52f61e76_37ac_11ec_bb3e_0242ac1c0002row2_col23\" class=\"data row2 col23\" >0.181593</td>\n",
              "                        <td id=\"T_52f61e76_37ac_11ec_bb3e_0242ac1c0002row2_col24\" class=\"data row2 col24\" >0.138462</td>\n",
              "                        <td id=\"T_52f61e76_37ac_11ec_bb3e_0242ac1c0002row2_col25\" class=\"data row2 col25\" >0.145330</td>\n",
              "                        <td id=\"T_52f61e76_37ac_11ec_bb3e_0242ac1c0002row2_col26\" class=\"data row2 col26\" >0.523901</td>\n",
              "                        <td id=\"T_52f61e76_37ac_11ec_bb3e_0242ac1c0002row2_col27\" class=\"data row2 col27\" >0.154396</td>\n",
              "                        <td id=\"T_52f61e76_37ac_11ec_bb3e_0242ac1c0002row2_col28\" class=\"data row2 col28\" >0.352198</td>\n",
              "                        <td id=\"T_52f61e76_37ac_11ec_bb3e_0242ac1c0002row2_col29\" class=\"data row2 col29\" >0.344505</td>\n",
              "                        <td id=\"T_52f61e76_37ac_11ec_bb3e_0242ac1c0002row2_col30\" class=\"data row2 col30\" >0.340110</td>\n",
              "            </tr>\n",
              "    </tbody></table>"
            ],
            "text/plain": [
              "<pandas.io.formats.style.Styler at 0x7f64a2c48450>"
            ]
          },
          "metadata": {},
          "execution_count": 166
        }
      ]
    },
    {
      "cell_type": "markdown",
      "metadata": {
        "id": "VF0xEZOW3-Jy"
      },
      "source": [
        "## K-means실험"
      ]
    },
    {
      "cell_type": "code",
      "metadata": {
        "id": "w5ciRp3f39wK",
        "colab": {
          "base_uri": "https://localhost:8080/"
        },
        "outputId": "eeec8128-0e41-403a-fa50-14bf768b8935"
      },
      "source": [
        "from sklearn.cluster import KMeans\n",
        "kmeans = KMeans(n_clusters =3, init = 'k-means++', max_iter =300, random_state = 42)\n",
        "kmeans.fit(df)\n",
        "df['군집소속'] = kmeans.labels_\n",
        "df['군집소속']"
      ],
      "execution_count": null,
      "outputs": [
        {
          "output_type": "execute_result",
          "data": {
            "text/plain": [
              "0       1\n",
              "1       1\n",
              "2       1\n",
              "3       1\n",
              "4       1\n",
              "       ..\n",
              "7038    0\n",
              "7039    2\n",
              "7040    1\n",
              "7041    1\n",
              "7042    2\n",
              "Name: 군집소속, Length: 7032, dtype: int32"
            ]
          },
          "metadata": {},
          "execution_count": 81
        }
      ]
    },
    {
      "cell_type": "code",
      "metadata": {
        "id": "G_rMV6Ot49_x",
        "colab": {
          "base_uri": "https://localhost:8080/",
          "height": 209
        },
        "outputId": "ed521c23-40b6-43f1-cd46-1f301fd9d845"
      },
      "source": [
        "df.groupby('군집소속')['SeniorCitizen','gender_Male','tenure','MonthlyCharges', 'TotalCharges'].mean().sort_values(by='tenure',ascending=False).style.background_gradient(cmap = 'Blues')"
      ],
      "execution_count": null,
      "outputs": [
        {
          "output_type": "stream",
          "name": "stderr",
          "text": [
            "/usr/local/lib/python3.7/dist-packages/ipykernel_launcher.py:1: FutureWarning: Indexing with multiple keys (implicitly converted to a tuple of keys) will be deprecated, use a list instead.\n",
            "  \"\"\"Entry point for launching an IPython kernel.\n"
          ]
        },
        {
          "output_type": "execute_result",
          "data": {
            "text/html": [
              "<style  type=\"text/css\" >\n",
              "#T_5b496ccc_3d5b_11ec_ae04_0242ac1c0002row0_col0,#T_5b496ccc_3d5b_11ec_ae04_0242ac1c0002row0_col2,#T_5b496ccc_3d5b_11ec_ae04_0242ac1c0002row0_col3,#T_5b496ccc_3d5b_11ec_ae04_0242ac1c0002row0_col4,#T_5b496ccc_3d5b_11ec_ae04_0242ac1c0002row1_col1{\n",
              "            background-color:  #08306b;\n",
              "            color:  #f1f1f1;\n",
              "        }#T_5b496ccc_3d5b_11ec_ae04_0242ac1c0002row0_col1,#T_5b496ccc_3d5b_11ec_ae04_0242ac1c0002row2_col0,#T_5b496ccc_3d5b_11ec_ae04_0242ac1c0002row2_col2,#T_5b496ccc_3d5b_11ec_ae04_0242ac1c0002row2_col3,#T_5b496ccc_3d5b_11ec_ae04_0242ac1c0002row2_col4{\n",
              "            background-color:  #f7fbff;\n",
              "            color:  #000000;\n",
              "        }#T_5b496ccc_3d5b_11ec_ae04_0242ac1c0002row1_col0{\n",
              "            background-color:  #084c95;\n",
              "            color:  #f1f1f1;\n",
              "        }#T_5b496ccc_3d5b_11ec_ae04_0242ac1c0002row1_col2{\n",
              "            background-color:  #57a0ce;\n",
              "            color:  #000000;\n",
              "        }#T_5b496ccc_3d5b_11ec_ae04_0242ac1c0002row1_col3{\n",
              "            background-color:  #519ccc;\n",
              "            color:  #000000;\n",
              "        }#T_5b496ccc_3d5b_11ec_ae04_0242ac1c0002row1_col4{\n",
              "            background-color:  #7ab6d9;\n",
              "            color:  #000000;\n",
              "        }#T_5b496ccc_3d5b_11ec_ae04_0242ac1c0002row2_col1{\n",
              "            background-color:  #e4eff9;\n",
              "            color:  #000000;\n",
              "        }</style><table id=\"T_5b496ccc_3d5b_11ec_ae04_0242ac1c0002\" class=\"dataframe\"><thead>    <tr>        <th class=\"blank level0\" ></th>        <th class=\"col_heading level0 col0\" >SeniorCitizen</th>        <th class=\"col_heading level0 col1\" >gender_Male</th>        <th class=\"col_heading level0 col2\" >tenure</th>        <th class=\"col_heading level0 col3\" >MonthlyCharges</th>        <th class=\"col_heading level0 col4\" >TotalCharges</th>    </tr>    <tr>        <th class=\"index_name level0\" >군집소속</th>        <th class=\"blank\" ></th>        <th class=\"blank\" ></th>        <th class=\"blank\" ></th>        <th class=\"blank\" ></th>        <th class=\"blank\" ></th>    </tr></thead><tbody>\n",
              "                <tr>\n",
              "                        <th id=\"T_5b496ccc_3d5b_11ec_ae04_0242ac1c0002level0_row0\" class=\"row_heading level0 row0\" >2</th>\n",
              "                        <td id=\"T_5b496ccc_3d5b_11ec_ae04_0242ac1c0002row0_col0\" class=\"data row0 col0\" >0.216733</td>\n",
              "                        <td id=\"T_5b496ccc_3d5b_11ec_ae04_0242ac1c0002row0_col1\" class=\"data row0 col1\" >0.499602</td>\n",
              "                        <td id=\"T_5b496ccc_3d5b_11ec_ae04_0242ac1c0002row0_col2\" class=\"data row0 col2\" >64.384861</td>\n",
              "                        <td id=\"T_5b496ccc_3d5b_11ec_ae04_0242ac1c0002row0_col3\" class=\"data row0 col3\" >97.979243</td>\n",
              "                        <td id=\"T_5b496ccc_3d5b_11ec_ae04_0242ac1c0002row0_col4\" class=\"data row0 col4\" >6297.778685</td>\n",
              "            </tr>\n",
              "            <tr>\n",
              "                        <th id=\"T_5b496ccc_3d5b_11ec_ae04_0242ac1c0002level0_row1\" class=\"row_heading level0 row1\" >0</th>\n",
              "                        <td id=\"T_5b496ccc_3d5b_11ec_ae04_0242ac1c0002row1_col0\" class=\"data row1 col0\" >0.207196</td>\n",
              "                        <td id=\"T_5b496ccc_3d5b_11ec_ae04_0242ac1c0002row1_col1\" class=\"data row1 col1\" >0.517370</td>\n",
              "                        <td id=\"T_5b496ccc_3d5b_11ec_ae04_0242ac1c0002row1_col2\" class=\"data row1 col2\" >44.123449</td>\n",
              "                        <td id=\"T_5b496ccc_3d5b_11ec_ae04_0242ac1c0002row1_col3\" class=\"data row1 col3\" >77.810701</td>\n",
              "                        <td id=\"T_5b496ccc_3d5b_11ec_ae04_0242ac1c0002row1_col4\" class=\"data row1 col4\" >3280.360205</td>\n",
              "            </tr>\n",
              "            <tr>\n",
              "                        <th id=\"T_5b496ccc_3d5b_11ec_ae04_0242ac1c0002level0_row2\" class=\"row_heading level0 row2\" >1</th>\n",
              "                        <td id=\"T_5b496ccc_3d5b_11ec_ae04_0242ac1c0002row2_col0\" class=\"data row2 col0\" >0.128691</td>\n",
              "                        <td id=\"T_5b496ccc_3d5b_11ec_ae04_0242ac1c0002row2_col1\" class=\"data row2 col1\" >0.501321</td>\n",
              "                        <td id=\"T_5b496ccc_3d5b_11ec_ae04_0242ac1c0002row2_col2\" class=\"data row2 col2\" >18.261705</td>\n",
              "                        <td id=\"T_5b496ccc_3d5b_11ec_ae04_0242ac1c0002row2_col3\" class=\"data row2 col3\" >49.763794</td>\n",
              "                        <td id=\"T_5b496ccc_3d5b_11ec_ae04_0242ac1c0002row2_col4\" class=\"data row2 col4\" >687.758896</td>\n",
              "            </tr>\n",
              "    </tbody></table>"
            ],
            "text/plain": [
              "<pandas.io.formats.style.Styler at 0x7f88804ce350>"
            ]
          },
          "metadata": {},
          "execution_count": 82
        }
      ]
    },
    {
      "cell_type": "markdown",
      "metadata": {
        "id": "aod7ma3LvRQS"
      },
      "source": [
        "# 이탈방지를 위한 예측 모델 만들기"
      ]
    },
    {
      "cell_type": "markdown",
      "metadata": {
        "id": "q0j1xelLvaQz"
      },
      "source": [
        "고객관리와 같은 이론적내용 및 이커머스 데이터분석에 필요한 기법들을 학습후 전처리 점검하고 모델 만들기"
      ]
    }
  ]
}