{
  "nbformat": 4,
  "nbformat_minor": 0,
  "metadata": {
    "colab": {
      "name": "shopping_model.ipynb",
      "provenance": [],
      "include_colab_link": true
    },
    "kernelspec": {
      "name": "python3",
      "display_name": "Python 3"
    },
    "language_info": {
      "name": "python"
    }
  },
  "cells": [
    {
      "cell_type": "markdown",
      "metadata": {
        "id": "view-in-github",
        "colab_type": "text"
      },
      "source": [
        "<a href=\"https://colab.research.google.com/github/ljs7463/AnalysisProject/blob/master/%EA%B0%9C%EC%9D%B8%ED%94%84%EB%A1%9C%EC%A0%9D%ED%8A%B8/2.%20Shoppingmall_analysis/shopping_model.ipynb\" target=\"_parent\"><img src=\"https://colab.research.google.com/assets/colab-badge.svg\" alt=\"Open In Colab\"/></a>"
      ]
    },
    {
      "cell_type": "code",
      "metadata": {
        "id": "U2A7oULB_z_G",
        "outputId": "1163c2f1-78be-412e-a129-9ecde5a70aa1",
        "colab": {
          "base_uri": "https://localhost:8080/"
        }
      },
      "source": [
        "pip install scikit_posthocs"
      ],
      "execution_count": 171,
      "outputs": [
        {
          "output_type": "stream",
          "name": "stdout",
          "text": [
            "Requirement already satisfied: scikit_posthocs in /usr/local/lib/python3.7/dist-packages (0.6.7)\n",
            "Requirement already satisfied: seaborn in /usr/local/lib/python3.7/dist-packages (from scikit_posthocs) (0.11.2)\n",
            "Requirement already satisfied: pandas>=0.20.0 in /usr/local/lib/python3.7/dist-packages (from scikit_posthocs) (1.1.5)\n",
            "Requirement already satisfied: matplotlib in /usr/local/lib/python3.7/dist-packages (from scikit_posthocs) (3.2.2)\n",
            "Requirement already satisfied: numpy in /usr/local/lib/python3.7/dist-packages (from scikit_posthocs) (1.19.5)\n",
            "Requirement already satisfied: scipy in /usr/local/lib/python3.7/dist-packages (from scikit_posthocs) (1.4.1)\n",
            "Requirement already satisfied: statsmodels in /usr/local/lib/python3.7/dist-packages (from scikit_posthocs) (0.10.2)\n",
            "Requirement already satisfied: python-dateutil>=2.7.3 in /usr/local/lib/python3.7/dist-packages (from pandas>=0.20.0->scikit_posthocs) (2.8.2)\n",
            "Requirement already satisfied: pytz>=2017.2 in /usr/local/lib/python3.7/dist-packages (from pandas>=0.20.0->scikit_posthocs) (2018.9)\n",
            "Requirement already satisfied: six>=1.5 in /usr/local/lib/python3.7/dist-packages (from python-dateutil>=2.7.3->pandas>=0.20.0->scikit_posthocs) (1.15.0)\n",
            "Requirement already satisfied: cycler>=0.10 in /usr/local/lib/python3.7/dist-packages (from matplotlib->scikit_posthocs) (0.10.0)\n",
            "Requirement already satisfied: kiwisolver>=1.0.1 in /usr/local/lib/python3.7/dist-packages (from matplotlib->scikit_posthocs) (1.3.2)\n",
            "Requirement already satisfied: pyparsing!=2.0.4,!=2.1.2,!=2.1.6,>=2.0.1 in /usr/local/lib/python3.7/dist-packages (from matplotlib->scikit_posthocs) (2.4.7)\n",
            "Requirement already satisfied: patsy>=0.4.0 in /usr/local/lib/python3.7/dist-packages (from statsmodels->scikit_posthocs) (0.5.2)\n"
          ]
        }
      ]
    },
    {
      "cell_type": "code",
      "metadata": {
        "id": "zv6hNk4PAMQm",
        "colab": {
          "base_uri": "https://localhost:8080/"
        },
        "outputId": "31f810d2-a2f8-44f3-c428-0058f509b362"
      },
      "source": [
        "pip install WordCloud"
      ],
      "execution_count": 172,
      "outputs": [
        {
          "output_type": "stream",
          "name": "stdout",
          "text": [
            "Requirement already satisfied: WordCloud in /usr/local/lib/python3.7/dist-packages (1.5.0)\n",
            "Requirement already satisfied: pillow in /usr/local/lib/python3.7/dist-packages (from WordCloud) (7.1.2)\n",
            "Requirement already satisfied: numpy>=1.6.1 in /usr/local/lib/python3.7/dist-packages (from WordCloud) (1.19.5)\n"
          ]
        }
      ]
    },
    {
      "cell_type": "markdown",
      "metadata": {
        "id": "ObXqkjdpmCqA"
      },
      "source": [
        "# 프로젝트 목적 "
      ]
    },
    {
      "cell_type": "markdown",
      "metadata": {
        "id": "Wu9wP4cl9XBk"
      },
      "source": [
        " 쇼핑몰 입점 고객을 위한 상품 판매 예측 모델을 만들고, 입점한 고객이 자신의 상품을 입력했을때 판매예측결과와 자동으로 상품을 분석하여 최적화를 위한 방법을 제공하여 고객의 성공적인 판매를 돕기"
      ]
    },
    {
      "cell_type": "markdown",
      "metadata": {
        "id": "oqLCcGJG7gDG"
      },
      "source": [
        "< 컬럼 해석 >\n",
        "\n",
        "|컬럼명|컬럼내용|\n",
        "|-|-|\n",
        "|tittle | 상품제목(유럽국가용으로 현지화된 제목)|\n",
        "|tittle_orig | 원래 영어로된 상품 제목|\n",
        "|Price |  제품가격|\n",
        "|retail_price | 소비자 가격(소매가격)|\n",
        "|currency_buyer | 가격의 통화|\n",
        "|units_sold | 판매량|\n",
        "|uses_ad_boosts | 판매자가 플랫폼내에서 광고나 상단고정과 같은 추가 비용 지불여부|\n",
        "|rating | 평균 제품 등급|\n",
        "|rating_count | 제품의 등급개수 총합|\n",
        "|rating_five_count | 별5개등급|\n",
        "|badges_count|배지 보유 개수|\n",
        "|badge_local_product | 현지에서 생산된 제품 배지|\n",
        "|badge_product_quality | 많은 구매자가 지속적으로 좋은 평가 했을때 수여되는 배지|\n",
        "|badge_fast_shipping | 제품의 주문이 지속적으로 빠르게 배송될때 수여되는 배지|\n",
        "|tags | 사용자가 설정한 태그 |\n",
        "|product_color | 제품의 주요 색상|\n",
        "|product_variation_size_id | 해당 제품의 변경 가능한 사이즈|\n",
        "|product_variation_inventory | 판매자의 최대 허용 수량|\n",
        "|shipping_option_name | 배송 옵션(표준배송 등등)|\n",
        "|shipping_option_price | 배송비|\n",
        "|shipping_is_express | 배송 급행 여부|\n",
        "|countries_shipped_to | 상품이 배송가능 한 국가 설정수|\n",
        "|inventory_total | 모든 제품 변형에 대한 총 재고(크기/ 색상 변형)|\n",
        "|has_urgency_banner | 긴급한 베너가 있었는지|\n",
        "|urgency_text | 검색 결과의 일부 제품 위에 나타나는 텍스트 베너|\n",
        "|origin_country | 원산지|\n",
        "|merchant_tittle | 판매자의 표시 이름(UI에 판매자 상품 이름으로 표시)|\n",
        "|merchant_name | 판매자 이름|\n",
        "|merchant_info_subtitle | 판매자 정보 섹션에 사용자에게 표시되는 자막텍스트|\n",
        "|merchant_rating_count | 이 판매자의 평가 수|\n",
        "|merchant_rating | 상인의 평가|\n",
        "|merchant_id | 판매자 고유 ID|\n",
        "|merchant_has_profile_picture | merchant_profile_picture의 URL여부|\n",
        "|merchant_profile_picture | 판매자의 프로필 사진 여부|\n",
        "|product_url | 제품 페이지에 대한 URL|\n",
        "|product_picture | 상품 사진 URL|\n",
        "|product_id | 상품 id|\n",
        "|theme | 웹사이트에서 상품검색시 사용하는 테마|\n",
        "|crawl_month | 크롤링한 날짜|\n"
      ]
    },
    {
      "cell_type": "markdown",
      "metadata": {
        "id": "6x8W9n9p_VA2"
      },
      "source": [
        "# 1차 전처리"
      ]
    },
    {
      "cell_type": "code",
      "metadata": {
        "id": "ARpjNaBPl6GG"
      },
      "source": [
        "# 라이브러리\n",
        "from sklearn.model_selection import train_test_split\n",
        "import pandas as pd\n",
        "import matplotlib.pyplot as plt\n",
        "import seaborn as sns\n",
        "import numpy as np"
      ],
      "execution_count": 173,
      "outputs": []
    },
    {
      "cell_type": "code",
      "metadata": {
        "colab": {
          "base_uri": "https://localhost:8080/",
          "height": 1000
        },
        "id": "zpDLdzZRlk-m",
        "outputId": "0807a6e8-a562-4efe-ff00-032646e4103a"
      },
      "source": [
        "# 데이터 불러오기\n",
        "df = pd.read_csv('/content/Raw_data.csv')\n",
        "print(df.shape)\n",
        "raw_df = df.copy()\n",
        "df "
      ],
      "execution_count": 174,
      "outputs": [
        {
          "output_type": "stream",
          "name": "stdout",
          "text": [
            "(1573, 43)\n"
          ]
        },
        {
          "output_type": "execute_result",
          "data": {
            "text/html": [
              "<div>\n",
              "<style scoped>\n",
              "    .dataframe tbody tr th:only-of-type {\n",
              "        vertical-align: middle;\n",
              "    }\n",
              "\n",
              "    .dataframe tbody tr th {\n",
              "        vertical-align: top;\n",
              "    }\n",
              "\n",
              "    .dataframe thead th {\n",
              "        text-align: right;\n",
              "    }\n",
              "</style>\n",
              "<table border=\"1\" class=\"dataframe\">\n",
              "  <thead>\n",
              "    <tr style=\"text-align: right;\">\n",
              "      <th></th>\n",
              "      <th>title</th>\n",
              "      <th>title_orig</th>\n",
              "      <th>price</th>\n",
              "      <th>retail_price</th>\n",
              "      <th>currency_buyer</th>\n",
              "      <th>units_sold</th>\n",
              "      <th>uses_ad_boosts</th>\n",
              "      <th>rating</th>\n",
              "      <th>rating_count</th>\n",
              "      <th>rating_five_count</th>\n",
              "      <th>rating_four_count</th>\n",
              "      <th>rating_three_count</th>\n",
              "      <th>rating_two_count</th>\n",
              "      <th>rating_one_count</th>\n",
              "      <th>badges_count</th>\n",
              "      <th>badge_local_product</th>\n",
              "      <th>badge_product_quality</th>\n",
              "      <th>badge_fast_shipping</th>\n",
              "      <th>tags</th>\n",
              "      <th>product_color</th>\n",
              "      <th>product_variation_size_id</th>\n",
              "      <th>product_variation_inventory</th>\n",
              "      <th>shipping_option_name</th>\n",
              "      <th>shipping_option_price</th>\n",
              "      <th>shipping_is_express</th>\n",
              "      <th>countries_shipped_to</th>\n",
              "      <th>inventory_total</th>\n",
              "      <th>has_urgency_banner</th>\n",
              "      <th>urgency_text</th>\n",
              "      <th>origin_country</th>\n",
              "      <th>merchant_title</th>\n",
              "      <th>merchant_name</th>\n",
              "      <th>merchant_info_subtitle</th>\n",
              "      <th>merchant_rating_count</th>\n",
              "      <th>merchant_rating</th>\n",
              "      <th>merchant_id</th>\n",
              "      <th>merchant_has_profile_picture</th>\n",
              "      <th>merchant_profile_picture</th>\n",
              "      <th>product_url</th>\n",
              "      <th>product_picture</th>\n",
              "      <th>product_id</th>\n",
              "      <th>theme</th>\n",
              "      <th>crawl_month</th>\n",
              "    </tr>\n",
              "  </thead>\n",
              "  <tbody>\n",
              "    <tr>\n",
              "      <th>0</th>\n",
              "      <td>2020 Summer Vintage Flamingo Print  Pajamas Se...</td>\n",
              "      <td>2020 Summer Vintage Flamingo Print  Pajamas Se...</td>\n",
              "      <td>16.00</td>\n",
              "      <td>14</td>\n",
              "      <td>EUR</td>\n",
              "      <td>100</td>\n",
              "      <td>0</td>\n",
              "      <td>3.76</td>\n",
              "      <td>54</td>\n",
              "      <td>26.0</td>\n",
              "      <td>8.0</td>\n",
              "      <td>10.0</td>\n",
              "      <td>1.0</td>\n",
              "      <td>9.0</td>\n",
              "      <td>0</td>\n",
              "      <td>0</td>\n",
              "      <td>0</td>\n",
              "      <td>0</td>\n",
              "      <td>Summer,Fashion,womenunderwearsuit,printedpajam...</td>\n",
              "      <td>white</td>\n",
              "      <td>M</td>\n",
              "      <td>50</td>\n",
              "      <td>Livraison standard</td>\n",
              "      <td>4</td>\n",
              "      <td>0</td>\n",
              "      <td>34</td>\n",
              "      <td>50</td>\n",
              "      <td>1.0</td>\n",
              "      <td>Quantité limitée !</td>\n",
              "      <td>CN</td>\n",
              "      <td>zgrdejia</td>\n",
              "      <td>zgrdejia</td>\n",
              "      <td>(568 notes)</td>\n",
              "      <td>568</td>\n",
              "      <td>4.128521</td>\n",
              "      <td>595097d6a26f6e070cb878d1</td>\n",
              "      <td>0</td>\n",
              "      <td>NaN</td>\n",
              "      <td>https://www.wish.com/c/5e9ae51d43d6a96e303acdb0</td>\n",
              "      <td>https://contestimg.wish.com/api/webimage/5e9ae...</td>\n",
              "      <td>5e9ae51d43d6a96e303acdb0</td>\n",
              "      <td>summer</td>\n",
              "      <td>2020-08</td>\n",
              "    </tr>\n",
              "    <tr>\n",
              "      <th>1</th>\n",
              "      <td>SSHOUSE Summer Casual Sleeveless Soirée Party ...</td>\n",
              "      <td>Women's Casual Summer Sleeveless Sexy Mini Dress</td>\n",
              "      <td>8.00</td>\n",
              "      <td>22</td>\n",
              "      <td>EUR</td>\n",
              "      <td>20000</td>\n",
              "      <td>1</td>\n",
              "      <td>3.45</td>\n",
              "      <td>6135</td>\n",
              "      <td>2269.0</td>\n",
              "      <td>1027.0</td>\n",
              "      <td>1118.0</td>\n",
              "      <td>644.0</td>\n",
              "      <td>1077.0</td>\n",
              "      <td>0</td>\n",
              "      <td>0</td>\n",
              "      <td>0</td>\n",
              "      <td>0</td>\n",
              "      <td>Mini,womens dresses,Summer,Patchwork,fashion d...</td>\n",
              "      <td>green</td>\n",
              "      <td>XS</td>\n",
              "      <td>50</td>\n",
              "      <td>Livraison standard</td>\n",
              "      <td>2</td>\n",
              "      <td>0</td>\n",
              "      <td>41</td>\n",
              "      <td>50</td>\n",
              "      <td>1.0</td>\n",
              "      <td>Quantité limitée !</td>\n",
              "      <td>CN</td>\n",
              "      <td>SaraHouse</td>\n",
              "      <td>sarahouse</td>\n",
              "      <td>83 % avis positifs (17,752 notes)</td>\n",
              "      <td>17752</td>\n",
              "      <td>3.899673</td>\n",
              "      <td>56458aa03a698c35c9050988</td>\n",
              "      <td>0</td>\n",
              "      <td>NaN</td>\n",
              "      <td>https://www.wish.com/c/58940d436a0d3d5da4e95a38</td>\n",
              "      <td>https://contestimg.wish.com/api/webimage/58940...</td>\n",
              "      <td>58940d436a0d3d5da4e95a38</td>\n",
              "      <td>summer</td>\n",
              "      <td>2020-08</td>\n",
              "    </tr>\n",
              "    <tr>\n",
              "      <th>2</th>\n",
              "      <td>2020 Nouvelle Arrivée Femmes Printemps et Été ...</td>\n",
              "      <td>2020 New Arrival Women Spring and Summer Beach...</td>\n",
              "      <td>8.00</td>\n",
              "      <td>43</td>\n",
              "      <td>EUR</td>\n",
              "      <td>100</td>\n",
              "      <td>0</td>\n",
              "      <td>3.57</td>\n",
              "      <td>14</td>\n",
              "      <td>5.0</td>\n",
              "      <td>4.0</td>\n",
              "      <td>2.0</td>\n",
              "      <td>0.0</td>\n",
              "      <td>3.0</td>\n",
              "      <td>0</td>\n",
              "      <td>0</td>\n",
              "      <td>0</td>\n",
              "      <td>0</td>\n",
              "      <td>Summer,cardigan,women beachwear,chiffon,Sexy w...</td>\n",
              "      <td>leopardprint</td>\n",
              "      <td>XS</td>\n",
              "      <td>1</td>\n",
              "      <td>Livraison standard</td>\n",
              "      <td>3</td>\n",
              "      <td>0</td>\n",
              "      <td>36</td>\n",
              "      <td>50</td>\n",
              "      <td>1.0</td>\n",
              "      <td>Quantité limitée !</td>\n",
              "      <td>CN</td>\n",
              "      <td>hxt520</td>\n",
              "      <td>hxt520</td>\n",
              "      <td>86 % avis positifs (295 notes)</td>\n",
              "      <td>295</td>\n",
              "      <td>3.989831</td>\n",
              "      <td>5d464a1ffdf7bc44ee933c65</td>\n",
              "      <td>0</td>\n",
              "      <td>NaN</td>\n",
              "      <td>https://www.wish.com/c/5ea10e2c617580260d55310a</td>\n",
              "      <td>https://contestimg.wish.com/api/webimage/5ea10...</td>\n",
              "      <td>5ea10e2c617580260d55310a</td>\n",
              "      <td>summer</td>\n",
              "      <td>2020-08</td>\n",
              "    </tr>\n",
              "    <tr>\n",
              "      <th>3</th>\n",
              "      <td>Hot Summer Cool T-shirt pour les femmes Mode T...</td>\n",
              "      <td>Hot Summer Cool T Shirt for Women Fashion Tops...</td>\n",
              "      <td>8.00</td>\n",
              "      <td>8</td>\n",
              "      <td>EUR</td>\n",
              "      <td>5000</td>\n",
              "      <td>1</td>\n",
              "      <td>4.03</td>\n",
              "      <td>579</td>\n",
              "      <td>295.0</td>\n",
              "      <td>119.0</td>\n",
              "      <td>87.0</td>\n",
              "      <td>42.0</td>\n",
              "      <td>36.0</td>\n",
              "      <td>0</td>\n",
              "      <td>0</td>\n",
              "      <td>0</td>\n",
              "      <td>0</td>\n",
              "      <td>Summer,Shorts,Cotton,Cotton T Shirt,Sleeve,pri...</td>\n",
              "      <td>black</td>\n",
              "      <td>M</td>\n",
              "      <td>50</td>\n",
              "      <td>Livraison standard</td>\n",
              "      <td>2</td>\n",
              "      <td>0</td>\n",
              "      <td>41</td>\n",
              "      <td>50</td>\n",
              "      <td>NaN</td>\n",
              "      <td>NaN</td>\n",
              "      <td>CN</td>\n",
              "      <td>allenfan</td>\n",
              "      <td>allenfan</td>\n",
              "      <td>(23,832 notes)</td>\n",
              "      <td>23832</td>\n",
              "      <td>4.020435</td>\n",
              "      <td>58cfdefdacb37b556efdff7c</td>\n",
              "      <td>0</td>\n",
              "      <td>NaN</td>\n",
              "      <td>https://www.wish.com/c/5cedf17ad1d44c52c59e4aca</td>\n",
              "      <td>https://contestimg.wish.com/api/webimage/5cedf...</td>\n",
              "      <td>5cedf17ad1d44c52c59e4aca</td>\n",
              "      <td>summer</td>\n",
              "      <td>2020-08</td>\n",
              "    </tr>\n",
              "    <tr>\n",
              "      <th>4</th>\n",
              "      <td>Femmes Shorts d'été à lacets taille élastique ...</td>\n",
              "      <td>Women Summer Shorts Lace Up Elastic Waistband ...</td>\n",
              "      <td>2.72</td>\n",
              "      <td>3</td>\n",
              "      <td>EUR</td>\n",
              "      <td>100</td>\n",
              "      <td>1</td>\n",
              "      <td>3.10</td>\n",
              "      <td>20</td>\n",
              "      <td>6.0</td>\n",
              "      <td>4.0</td>\n",
              "      <td>2.0</td>\n",
              "      <td>2.0</td>\n",
              "      <td>6.0</td>\n",
              "      <td>0</td>\n",
              "      <td>0</td>\n",
              "      <td>0</td>\n",
              "      <td>0</td>\n",
              "      <td>Summer,Plus Size,Lace,Casual pants,Bottom,pant...</td>\n",
              "      <td>yellow</td>\n",
              "      <td>S</td>\n",
              "      <td>1</td>\n",
              "      <td>Livraison standard</td>\n",
              "      <td>1</td>\n",
              "      <td>0</td>\n",
              "      <td>35</td>\n",
              "      <td>50</td>\n",
              "      <td>1.0</td>\n",
              "      <td>Quantité limitée !</td>\n",
              "      <td>CN</td>\n",
              "      <td>youngpeopleshop</td>\n",
              "      <td>happyhorses</td>\n",
              "      <td>85 % avis positifs (14,482 notes)</td>\n",
              "      <td>14482</td>\n",
              "      <td>4.001588</td>\n",
              "      <td>5ab3b592c3911a095ad5dadb</td>\n",
              "      <td>0</td>\n",
              "      <td>NaN</td>\n",
              "      <td>https://www.wish.com/c/5ebf5819ebac372b070b0e70</td>\n",
              "      <td>https://contestimg.wish.com/api/webimage/5ebf5...</td>\n",
              "      <td>5ebf5819ebac372b070b0e70</td>\n",
              "      <td>summer</td>\n",
              "      <td>2020-08</td>\n",
              "    </tr>\n",
              "    <tr>\n",
              "      <th>...</th>\n",
              "      <td>...</td>\n",
              "      <td>...</td>\n",
              "      <td>...</td>\n",
              "      <td>...</td>\n",
              "      <td>...</td>\n",
              "      <td>...</td>\n",
              "      <td>...</td>\n",
              "      <td>...</td>\n",
              "      <td>...</td>\n",
              "      <td>...</td>\n",
              "      <td>...</td>\n",
              "      <td>...</td>\n",
              "      <td>...</td>\n",
              "      <td>...</td>\n",
              "      <td>...</td>\n",
              "      <td>...</td>\n",
              "      <td>...</td>\n",
              "      <td>...</td>\n",
              "      <td>...</td>\n",
              "      <td>...</td>\n",
              "      <td>...</td>\n",
              "      <td>...</td>\n",
              "      <td>...</td>\n",
              "      <td>...</td>\n",
              "      <td>...</td>\n",
              "      <td>...</td>\n",
              "      <td>...</td>\n",
              "      <td>...</td>\n",
              "      <td>...</td>\n",
              "      <td>...</td>\n",
              "      <td>...</td>\n",
              "      <td>...</td>\n",
              "      <td>...</td>\n",
              "      <td>...</td>\n",
              "      <td>...</td>\n",
              "      <td>...</td>\n",
              "      <td>...</td>\n",
              "      <td>...</td>\n",
              "      <td>...</td>\n",
              "      <td>...</td>\n",
              "      <td>...</td>\n",
              "      <td>...</td>\n",
              "      <td>...</td>\n",
              "    </tr>\n",
              "    <tr>\n",
              "      <th>1568</th>\n",
              "      <td>Nouvelle Mode Femmes Bohême Pissenlit Imprimer...</td>\n",
              "      <td>New Fashion Women Bohemia Dandelion Print Tee ...</td>\n",
              "      <td>6.00</td>\n",
              "      <td>9</td>\n",
              "      <td>EUR</td>\n",
              "      <td>10000</td>\n",
              "      <td>1</td>\n",
              "      <td>4.08</td>\n",
              "      <td>1367</td>\n",
              "      <td>722.0</td>\n",
              "      <td>293.0</td>\n",
              "      <td>185.0</td>\n",
              "      <td>77.0</td>\n",
              "      <td>90.0</td>\n",
              "      <td>0</td>\n",
              "      <td>0</td>\n",
              "      <td>0</td>\n",
              "      <td>0</td>\n",
              "      <td>bohemia,Plus Size,dandelionfloralprinted,short...</td>\n",
              "      <td>navyblue</td>\n",
              "      <td>S</td>\n",
              "      <td>50</td>\n",
              "      <td>Livraison standard</td>\n",
              "      <td>2</td>\n",
              "      <td>0</td>\n",
              "      <td>41</td>\n",
              "      <td>50</td>\n",
              "      <td>NaN</td>\n",
              "      <td>NaN</td>\n",
              "      <td>CN</td>\n",
              "      <td>cxuelin99126</td>\n",
              "      <td>cxuelin99126</td>\n",
              "      <td>90 % avis positifs (5,316 notes)</td>\n",
              "      <td>5316</td>\n",
              "      <td>4.224605</td>\n",
              "      <td>5b507899ab577736508a0782</td>\n",
              "      <td>0</td>\n",
              "      <td>NaN</td>\n",
              "      <td>https://www.wish.com/c/5d5fadc99febd9356cbc52ee</td>\n",
              "      <td>https://contestimg.wish.com/api/webimage/5d5fa...</td>\n",
              "      <td>5d5fadc99febd9356cbc52ee</td>\n",
              "      <td>summer</td>\n",
              "      <td>2020-08</td>\n",
              "    </tr>\n",
              "    <tr>\n",
              "      <th>1569</th>\n",
              "      <td>10 couleurs femmes shorts d'été lacent ceintur...</td>\n",
              "      <td>10 Color Women Summer Shorts Lace Up Elastic W...</td>\n",
              "      <td>2.00</td>\n",
              "      <td>56</td>\n",
              "      <td>EUR</td>\n",
              "      <td>100</td>\n",
              "      <td>1</td>\n",
              "      <td>3.07</td>\n",
              "      <td>28</td>\n",
              "      <td>11.0</td>\n",
              "      <td>3.0</td>\n",
              "      <td>1.0</td>\n",
              "      <td>3.0</td>\n",
              "      <td>10.0</td>\n",
              "      <td>0</td>\n",
              "      <td>0</td>\n",
              "      <td>0</td>\n",
              "      <td>0</td>\n",
              "      <td>Summer,Panties,Elastic,Lace,Casual pants,casua...</td>\n",
              "      <td>lightblue</td>\n",
              "      <td>S</td>\n",
              "      <td>2</td>\n",
              "      <td>Livraison standard</td>\n",
              "      <td>1</td>\n",
              "      <td>0</td>\n",
              "      <td>26</td>\n",
              "      <td>50</td>\n",
              "      <td>1.0</td>\n",
              "      <td>Quantité limitée !</td>\n",
              "      <td>CN</td>\n",
              "      <td>sell best quality goods</td>\n",
              "      <td>sellbestqualitygoods</td>\n",
              "      <td>(4,435 notes)</td>\n",
              "      <td>4435</td>\n",
              "      <td>3.696054</td>\n",
              "      <td>54d83b6b6b8a771e478558de</td>\n",
              "      <td>0</td>\n",
              "      <td>NaN</td>\n",
              "      <td>https://www.wish.com/c/5eccd22b4497b86fd48f16b4</td>\n",
              "      <td>https://contestimg.wish.com/api/webimage/5eccd...</td>\n",
              "      <td>5eccd22b4497b86fd48f16b4</td>\n",
              "      <td>summer</td>\n",
              "      <td>2020-08</td>\n",
              "    </tr>\n",
              "    <tr>\n",
              "      <th>1570</th>\n",
              "      <td>Nouveautés Hommes Siwmwear Beach-Shorts Hommes...</td>\n",
              "      <td>New Men Siwmwear Beach-Shorts Men Summer Quick...</td>\n",
              "      <td>5.00</td>\n",
              "      <td>19</td>\n",
              "      <td>EUR</td>\n",
              "      <td>100</td>\n",
              "      <td>0</td>\n",
              "      <td>3.71</td>\n",
              "      <td>59</td>\n",
              "      <td>24.0</td>\n",
              "      <td>15.0</td>\n",
              "      <td>8.0</td>\n",
              "      <td>3.0</td>\n",
              "      <td>9.0</td>\n",
              "      <td>0</td>\n",
              "      <td>0</td>\n",
              "      <td>0</td>\n",
              "      <td>0</td>\n",
              "      <td>runningshort,Beach Shorts,beachpant,menbeachsh...</td>\n",
              "      <td>white</td>\n",
              "      <td>SIZE S</td>\n",
              "      <td>15</td>\n",
              "      <td>Livraison standard</td>\n",
              "      <td>2</td>\n",
              "      <td>0</td>\n",
              "      <td>11</td>\n",
              "      <td>50</td>\n",
              "      <td>NaN</td>\n",
              "      <td>NaN</td>\n",
              "      <td>CN</td>\n",
              "      <td>shixueying</td>\n",
              "      <td>shixueying</td>\n",
              "      <td>86 % avis positifs (210 notes)</td>\n",
              "      <td>210</td>\n",
              "      <td>3.961905</td>\n",
              "      <td>5b42da1bf64320209fc8da69</td>\n",
              "      <td>0</td>\n",
              "      <td>NaN</td>\n",
              "      <td>https://www.wish.com/c/5e74be96034d613d42b52dfe</td>\n",
              "      <td>https://contestimg.wish.com/api/webimage/5e74b...</td>\n",
              "      <td>5e74be96034d613d42b52dfe</td>\n",
              "      <td>summer</td>\n",
              "      <td>2020-08</td>\n",
              "    </tr>\n",
              "    <tr>\n",
              "      <th>1571</th>\n",
              "      <td>Mode femmes d'été sans manches robes col en V ...</td>\n",
              "      <td>Fashion Women Summer Sleeveless Dresses V Neck...</td>\n",
              "      <td>13.00</td>\n",
              "      <td>11</td>\n",
              "      <td>EUR</td>\n",
              "      <td>100</td>\n",
              "      <td>0</td>\n",
              "      <td>2.50</td>\n",
              "      <td>2</td>\n",
              "      <td>0.0</td>\n",
              "      <td>1.0</td>\n",
              "      <td>0.0</td>\n",
              "      <td>0.0</td>\n",
              "      <td>1.0</td>\n",
              "      <td>0</td>\n",
              "      <td>0</td>\n",
              "      <td>0</td>\n",
              "      <td>0</td>\n",
              "      <td>Summer,fashion women,Fashion,Lace,Dresses,Dres...</td>\n",
              "      <td>white</td>\n",
              "      <td>Size S.</td>\n",
              "      <td>36</td>\n",
              "      <td>Livraison standard</td>\n",
              "      <td>3</td>\n",
              "      <td>0</td>\n",
              "      <td>29</td>\n",
              "      <td>50</td>\n",
              "      <td>NaN</td>\n",
              "      <td>NaN</td>\n",
              "      <td>CN</td>\n",
              "      <td>modai</td>\n",
              "      <td>modai</td>\n",
              "      <td>77 % avis positifs (31 notes)</td>\n",
              "      <td>31</td>\n",
              "      <td>3.774194</td>\n",
              "      <td>5d56b32c40defd78043d5af9</td>\n",
              "      <td>0</td>\n",
              "      <td>NaN</td>\n",
              "      <td>https://www.wish.com/c/5eda07ab0e295c2097c36590</td>\n",
              "      <td>https://contestimg.wish.com/api/webimage/5eda0...</td>\n",
              "      <td>5eda07ab0e295c2097c36590</td>\n",
              "      <td>summer</td>\n",
              "      <td>2020-08</td>\n",
              "    </tr>\n",
              "    <tr>\n",
              "      <th>1572</th>\n",
              "      <td>Pantalon de yoga pour femmes à la mode Slim Fi...</td>\n",
              "      <td>Fashion Women Yoga Pants Slim Fit Fitness Runn...</td>\n",
              "      <td>7.00</td>\n",
              "      <td>6</td>\n",
              "      <td>EUR</td>\n",
              "      <td>100</td>\n",
              "      <td>1</td>\n",
              "      <td>4.07</td>\n",
              "      <td>14</td>\n",
              "      <td>8.0</td>\n",
              "      <td>3.0</td>\n",
              "      <td>1.0</td>\n",
              "      <td>0.0</td>\n",
              "      <td>2.0</td>\n",
              "      <td>0</td>\n",
              "      <td>0</td>\n",
              "      <td>0</td>\n",
              "      <td>0</td>\n",
              "      <td>Summer,Leggings,slim,Yoga,pants,Slim Fit,Women...</td>\n",
              "      <td>red</td>\n",
              "      <td>S</td>\n",
              "      <td>50</td>\n",
              "      <td>Livraison standard</td>\n",
              "      <td>2</td>\n",
              "      <td>0</td>\n",
              "      <td>41</td>\n",
              "      <td>50</td>\n",
              "      <td>NaN</td>\n",
              "      <td>NaN</td>\n",
              "      <td>CN</td>\n",
              "      <td>AISHOPPINGMALL</td>\n",
              "      <td>aishoppingmall</td>\n",
              "      <td>90 % avis positifs (7,023 notes)</td>\n",
              "      <td>7023</td>\n",
              "      <td>4.235939</td>\n",
              "      <td>5a409cf87b584e7951b2e25f</td>\n",
              "      <td>0</td>\n",
              "      <td>NaN</td>\n",
              "      <td>https://www.wish.com/c/5e857321f53c3d2d8f25e7ed</td>\n",
              "      <td>https://contestimg.wish.com/api/webimage/5e857...</td>\n",
              "      <td>5e857321f53c3d2d8f25e7ed</td>\n",
              "      <td>summer</td>\n",
              "      <td>2020-08</td>\n",
              "    </tr>\n",
              "  </tbody>\n",
              "</table>\n",
              "<p>1573 rows × 43 columns</p>\n",
              "</div>"
            ],
            "text/plain": [
              "                                                  title  ... crawl_month\n",
              "0     2020 Summer Vintage Flamingo Print  Pajamas Se...  ...     2020-08\n",
              "1     SSHOUSE Summer Casual Sleeveless Soirée Party ...  ...     2020-08\n",
              "2     2020 Nouvelle Arrivée Femmes Printemps et Été ...  ...     2020-08\n",
              "3     Hot Summer Cool T-shirt pour les femmes Mode T...  ...     2020-08\n",
              "4     Femmes Shorts d'été à lacets taille élastique ...  ...     2020-08\n",
              "...                                                 ...  ...         ...\n",
              "1568  Nouvelle Mode Femmes Bohême Pissenlit Imprimer...  ...     2020-08\n",
              "1569  10 couleurs femmes shorts d'été lacent ceintur...  ...     2020-08\n",
              "1570  Nouveautés Hommes Siwmwear Beach-Shorts Hommes...  ...     2020-08\n",
              "1571  Mode femmes d'été sans manches robes col en V ...  ...     2020-08\n",
              "1572  Pantalon de yoga pour femmes à la mode Slim Fi...  ...     2020-08\n",
              "\n",
              "[1573 rows x 43 columns]"
            ]
          },
          "metadata": {},
          "execution_count": 174
        }
      ]
    },
    {
      "cell_type": "code",
      "metadata": {
        "id": "i7XJlKjr6OQ7",
        "colab": {
          "base_uri": "https://localhost:8080/"
        },
        "outputId": "979673f5-cd17-4850-bb06-b7f31c451a33"
      },
      "source": [
        "df.info()"
      ],
      "execution_count": 175,
      "outputs": [
        {
          "output_type": "stream",
          "name": "stdout",
          "text": [
            "<class 'pandas.core.frame.DataFrame'>\n",
            "RangeIndex: 1573 entries, 0 to 1572\n",
            "Data columns (total 43 columns):\n",
            " #   Column                        Non-Null Count  Dtype  \n",
            "---  ------                        --------------  -----  \n",
            " 0   title                         1573 non-null   object \n",
            " 1   title_orig                    1573 non-null   object \n",
            " 2   price                         1573 non-null   float64\n",
            " 3   retail_price                  1573 non-null   int64  \n",
            " 4   currency_buyer                1573 non-null   object \n",
            " 5   units_sold                    1573 non-null   int64  \n",
            " 6   uses_ad_boosts                1573 non-null   int64  \n",
            " 7   rating                        1573 non-null   float64\n",
            " 8   rating_count                  1573 non-null   int64  \n",
            " 9   rating_five_count             1528 non-null   float64\n",
            " 10  rating_four_count             1528 non-null   float64\n",
            " 11  rating_three_count            1528 non-null   float64\n",
            " 12  rating_two_count              1528 non-null   float64\n",
            " 13  rating_one_count              1528 non-null   float64\n",
            " 14  badges_count                  1573 non-null   int64  \n",
            " 15  badge_local_product           1573 non-null   int64  \n",
            " 16  badge_product_quality         1573 non-null   int64  \n",
            " 17  badge_fast_shipping           1573 non-null   int64  \n",
            " 18  tags                          1573 non-null   object \n",
            " 19  product_color                 1532 non-null   object \n",
            " 20  product_variation_size_id     1559 non-null   object \n",
            " 21  product_variation_inventory   1573 non-null   int64  \n",
            " 22  shipping_option_name          1573 non-null   object \n",
            " 23  shipping_option_price         1573 non-null   int64  \n",
            " 24  shipping_is_express           1573 non-null   int64  \n",
            " 25  countries_shipped_to          1573 non-null   int64  \n",
            " 26  inventory_total               1573 non-null   int64  \n",
            " 27  has_urgency_banner            473 non-null    float64\n",
            " 28  urgency_text                  473 non-null    object \n",
            " 29  origin_country                1556 non-null   object \n",
            " 30  merchant_title                1573 non-null   object \n",
            " 31  merchant_name                 1569 non-null   object \n",
            " 32  merchant_info_subtitle        1572 non-null   object \n",
            " 33  merchant_rating_count         1573 non-null   int64  \n",
            " 34  merchant_rating               1573 non-null   float64\n",
            " 35  merchant_id                   1573 non-null   object \n",
            " 36  merchant_has_profile_picture  1573 non-null   int64  \n",
            " 37  merchant_profile_picture      226 non-null    object \n",
            " 38  product_url                   1573 non-null   object \n",
            " 39  product_picture               1573 non-null   object \n",
            " 40  product_id                    1573 non-null   object \n",
            " 41  theme                         1573 non-null   object \n",
            " 42  crawl_month                   1573 non-null   object \n",
            "dtypes: float64(9), int64(15), object(19)\n",
            "memory usage: 528.6+ KB\n"
          ]
        }
      ]
    },
    {
      "cell_type": "code",
      "metadata": {
        "id": "83-wKZlX6O0J",
        "colab": {
          "base_uri": "https://localhost:8080/"
        },
        "outputId": "c57e574a-5db9-415a-9d79-face038432f8"
      },
      "source": [
        "print(f'데이터의 총 개수는 : {len(df)}개')\n",
        "print('-'*50)\n",
        "round(df.isnull().mean().sort_values(ascending =False)*100)"
      ],
      "execution_count": 176,
      "outputs": [
        {
          "output_type": "stream",
          "name": "stdout",
          "text": [
            "데이터의 총 개수는 : 1573개\n",
            "--------------------------------------------------\n"
          ]
        },
        {
          "output_type": "execute_result",
          "data": {
            "text/plain": [
              "merchant_profile_picture        86.0\n",
              "has_urgency_banner              70.0\n",
              "urgency_text                    70.0\n",
              "rating_one_count                 3.0\n",
              "rating_two_count                 3.0\n",
              "rating_three_count               3.0\n",
              "rating_four_count                3.0\n",
              "rating_five_count                3.0\n",
              "product_color                    3.0\n",
              "origin_country                   1.0\n",
              "product_variation_size_id        1.0\n",
              "merchant_name                    0.0\n",
              "merchant_info_subtitle           0.0\n",
              "crawl_month                      0.0\n",
              "badges_count                     0.0\n",
              "rating_count                     0.0\n",
              "badge_product_quality            0.0\n",
              "rating                           0.0\n",
              "uses_ad_boosts                   0.0\n",
              "units_sold                       0.0\n",
              "currency_buyer                   0.0\n",
              "retail_price                     0.0\n",
              "price                            0.0\n",
              "title_orig                       0.0\n",
              "badge_local_product              0.0\n",
              "product_variation_inventory      0.0\n",
              "badge_fast_shipping              0.0\n",
              "merchant_rating_count            0.0\n",
              "product_id                       0.0\n",
              "product_picture                  0.0\n",
              "product_url                      0.0\n",
              "merchant_has_profile_picture     0.0\n",
              "merchant_id                      0.0\n",
              "merchant_rating                  0.0\n",
              "merchant_title                   0.0\n",
              "tags                             0.0\n",
              "inventory_total                  0.0\n",
              "countries_shipped_to             0.0\n",
              "shipping_is_express              0.0\n",
              "shipping_option_price            0.0\n",
              "shipping_option_name             0.0\n",
              "theme                            0.0\n",
              "title                            0.0\n",
              "dtype: float64"
            ]
          },
          "metadata": {},
          "execution_count": 176
        }
      ]
    },
    {
      "cell_type": "markdown",
      "metadata": {
        "id": "Nk66M-ati5mD"
      },
      "source": [
        "## 결측값 처리"
      ]
    },
    {
      "cell_type": "code",
      "metadata": {
        "colab": {
          "base_uri": "https://localhost:8080/"
        },
        "id": "nH9zDxVxU6ML",
        "outputId": "15846e7a-bfab-4bf0-a3c8-68b550c758b1"
      },
      "source": [
        "# 결측값 제거 \n",
        "\n",
        "# 결측비율 70% 이상 컬럼 삭제\n",
        "df = df.drop(columns = ['merchant_profile_picture', 'has_urgency_banner', 'urgency_text'])\n",
        "\n",
        "# rating_one_count ~ _five_count 는 분석에 사용할 컬럼이며, 결측값이  작아서 삭제\n",
        "list = []\n",
        "for i in df[df['rating_one_count'].isnull() == True].index:\n",
        "  list.append(i)\n",
        "df = df.drop(index = list)\n",
        "\n",
        "# origin_country의 대부분이 'CN'이므로 해당값으로 치환\n",
        "df['origin_country'] = df['origin_country'].fillna('CN')\n",
        "\n",
        "# 변경가능한 사이즈는 종류가 105개로 각기 다른기준으로 구분되어있어 컬럼을 삭제\n",
        "df = df.drop(columns = 'product_variation_size_id')\n",
        "\n",
        "\n",
        "\n",
        "print(f'결측값 제거후 남은 데이터의 수: {len(df)}')"
      ],
      "execution_count": 177,
      "outputs": [
        {
          "output_type": "stream",
          "name": "stdout",
          "text": [
            "결측값 제거후 남은 데이터의 수: 1528\n"
          ]
        }
      ]
    },
    {
      "cell_type": "code",
      "metadata": {
        "colab": {
          "base_uri": "https://localhost:8080/",
          "height": 1000
        },
        "id": "XVEhGYOr17kU",
        "outputId": "5dde85f0-b9f0-4b1e-bd97-b9148065bfc9"
      },
      "source": [
        "# 상품색상 결측값 데이터 확인\n",
        "\n",
        "# 앞선 결측값제거로 인한 인덱스 초기화\n",
        "df = df.reset_index().drop(columns = 'index')\n",
        "\n",
        "# 상품 색상 결측값 확인 \n",
        "print(len(df.loc[df['product_color'].isna() == True]))\n",
        "\n",
        "# 직접 url로 상품을 확인후 결측값을 채워준다.\n",
        "df.loc[df['product_color'].isna() == True][['product_color','product_url']]"
      ],
      "execution_count": 178,
      "outputs": [
        {
          "output_type": "stream",
          "name": "stdout",
          "text": [
            "38\n"
          ]
        },
        {
          "output_type": "execute_result",
          "data": {
            "text/html": [
              "<div>\n",
              "<style scoped>\n",
              "    .dataframe tbody tr th:only-of-type {\n",
              "        vertical-align: middle;\n",
              "    }\n",
              "\n",
              "    .dataframe tbody tr th {\n",
              "        vertical-align: top;\n",
              "    }\n",
              "\n",
              "    .dataframe thead th {\n",
              "        text-align: right;\n",
              "    }\n",
              "</style>\n",
              "<table border=\"1\" class=\"dataframe\">\n",
              "  <thead>\n",
              "    <tr style=\"text-align: right;\">\n",
              "      <th></th>\n",
              "      <th>product_color</th>\n",
              "      <th>product_url</th>\n",
              "    </tr>\n",
              "  </thead>\n",
              "  <tbody>\n",
              "    <tr>\n",
              "      <th>26</th>\n",
              "      <td>NaN</td>\n",
              "      <td>https://www.wish.com/c/5b5edbae1e222732845e655f</td>\n",
              "    </tr>\n",
              "    <tr>\n",
              "      <th>30</th>\n",
              "      <td>NaN</td>\n",
              "      <td>https://www.wish.com/c/5c9d920da94960780239d468</td>\n",
              "    </tr>\n",
              "    <tr>\n",
              "      <th>146</th>\n",
              "      <td>NaN</td>\n",
              "      <td>https://www.wish.com/c/58e0f38f9bf29f55183efd0d</td>\n",
              "    </tr>\n",
              "    <tr>\n",
              "      <th>278</th>\n",
              "      <td>NaN</td>\n",
              "      <td>https://www.wish.com/c/5c935aa8778e8274b0bdcead</td>\n",
              "    </tr>\n",
              "    <tr>\n",
              "      <th>448</th>\n",
              "      <td>NaN</td>\n",
              "      <td>https://www.wish.com/c/5e70ba09e3d51e1002f7cf8e</td>\n",
              "    </tr>\n",
              "    <tr>\n",
              "      <th>486</th>\n",
              "      <td>NaN</td>\n",
              "      <td>https://www.wish.com/c/569de6363e68eb0d85e0cded</td>\n",
              "    </tr>\n",
              "    <tr>\n",
              "      <th>533</th>\n",
              "      <td>NaN</td>\n",
              "      <td>https://www.wish.com/c/56f640b461d6cf68cb5c5d83</td>\n",
              "    </tr>\n",
              "    <tr>\n",
              "      <th>570</th>\n",
              "      <td>NaN</td>\n",
              "      <td>https://www.wish.com/c/59636dbdc657d57012e8b3f3</td>\n",
              "    </tr>\n",
              "    <tr>\n",
              "      <th>572</th>\n",
              "      <td>NaN</td>\n",
              "      <td>https://www.wish.com/c/5ac302716931da0d71398f53</td>\n",
              "    </tr>\n",
              "    <tr>\n",
              "      <th>618</th>\n",
              "      <td>NaN</td>\n",
              "      <td>https://www.wish.com/c/5e7e0c35e27371898f419f5d</td>\n",
              "    </tr>\n",
              "    <tr>\n",
              "      <th>623</th>\n",
              "      <td>NaN</td>\n",
              "      <td>https://www.wish.com/c/5ce69880afab7162455321fe</td>\n",
              "    </tr>\n",
              "    <tr>\n",
              "      <th>624</th>\n",
              "      <td>NaN</td>\n",
              "      <td>https://www.wish.com/c/5926a32e5b3cde33d7993689</td>\n",
              "    </tr>\n",
              "    <tr>\n",
              "      <th>645</th>\n",
              "      <td>NaN</td>\n",
              "      <td>https://www.wish.com/c/594b7307a6623669348a92d1</td>\n",
              "    </tr>\n",
              "    <tr>\n",
              "      <th>673</th>\n",
              "      <td>NaN</td>\n",
              "      <td>https://www.wish.com/c/55a3818f65bfcb406995a2a5</td>\n",
              "    </tr>\n",
              "    <tr>\n",
              "      <th>690</th>\n",
              "      <td>NaN</td>\n",
              "      <td>https://www.wish.com/c/5def361cdcbcd1028120322d</td>\n",
              "    </tr>\n",
              "    <tr>\n",
              "      <th>712</th>\n",
              "      <td>NaN</td>\n",
              "      <td>https://www.wish.com/c/55acbdf8ed44704872df93e2</td>\n",
              "    </tr>\n",
              "    <tr>\n",
              "      <th>818</th>\n",
              "      <td>NaN</td>\n",
              "      <td>https://www.wish.com/c/5957163634bd9170cd0f7502</td>\n",
              "    </tr>\n",
              "    <tr>\n",
              "      <th>830</th>\n",
              "      <td>NaN</td>\n",
              "      <td>https://www.wish.com/c/5c944cf5b82fb711ad500ec2</td>\n",
              "    </tr>\n",
              "    <tr>\n",
              "      <th>855</th>\n",
              "      <td>NaN</td>\n",
              "      <td>https://www.wish.com/c/5cdd1c445632da70960b4b9a</td>\n",
              "    </tr>\n",
              "    <tr>\n",
              "      <th>944</th>\n",
              "      <td>NaN</td>\n",
              "      <td>https://www.wish.com/c/5ee8d64229e09b123f9e9aa7</td>\n",
              "    </tr>\n",
              "    <tr>\n",
              "      <th>988</th>\n",
              "      <td>NaN</td>\n",
              "      <td>https://www.wish.com/c/5ea7cdb941b27544b4f4694c</td>\n",
              "    </tr>\n",
              "    <tr>\n",
              "      <th>990</th>\n",
              "      <td>NaN</td>\n",
              "      <td>https://www.wish.com/c/567cb0925ff12c4829f07dfb</td>\n",
              "    </tr>\n",
              "    <tr>\n",
              "      <th>997</th>\n",
              "      <td>NaN</td>\n",
              "      <td>https://www.wish.com/c/5ebb6a3db1e97c2d2d60101f</td>\n",
              "    </tr>\n",
              "    <tr>\n",
              "      <th>1004</th>\n",
              "      <td>NaN</td>\n",
              "      <td>https://www.wish.com/c/5ee8d64229e09b123f9e9aa7</td>\n",
              "    </tr>\n",
              "    <tr>\n",
              "      <th>1008</th>\n",
              "      <td>NaN</td>\n",
              "      <td>https://www.wish.com/c/58aae24ddd127b534be35ae8</td>\n",
              "    </tr>\n",
              "    <tr>\n",
              "      <th>1033</th>\n",
              "      <td>NaN</td>\n",
              "      <td>https://www.wish.com/c/588c54fb6661e84246a8aa71</td>\n",
              "    </tr>\n",
              "    <tr>\n",
              "      <th>1067</th>\n",
              "      <td>NaN</td>\n",
              "      <td>https://www.wish.com/c/5cf10d573818e44a8e42f255</td>\n",
              "    </tr>\n",
              "    <tr>\n",
              "      <th>1072</th>\n",
              "      <td>NaN</td>\n",
              "      <td>https://www.wish.com/c/5abc519e3c1dc61e44e0667f</td>\n",
              "    </tr>\n",
              "    <tr>\n",
              "      <th>1079</th>\n",
              "      <td>NaN</td>\n",
              "      <td>https://www.wish.com/c/5bce9924df97d42c05eef81e</td>\n",
              "    </tr>\n",
              "    <tr>\n",
              "      <th>1083</th>\n",
              "      <td>NaN</td>\n",
              "      <td>https://www.wish.com/c/5ef2c54482e1e6221ffc7de9</td>\n",
              "    </tr>\n",
              "    <tr>\n",
              "      <th>1085</th>\n",
              "      <td>NaN</td>\n",
              "      <td>https://www.wish.com/c/5cda71c65ea3126b96be1ab9</td>\n",
              "    </tr>\n",
              "    <tr>\n",
              "      <th>1152</th>\n",
              "      <td>NaN</td>\n",
              "      <td>https://www.wish.com/c/5aec5aa5e08184220e174919</td>\n",
              "    </tr>\n",
              "    <tr>\n",
              "      <th>1301</th>\n",
              "      <td>NaN</td>\n",
              "      <td>https://www.wish.com/c/5ebe5359c88200382515760f</td>\n",
              "    </tr>\n",
              "    <tr>\n",
              "      <th>1330</th>\n",
              "      <td>NaN</td>\n",
              "      <td>https://www.wish.com/c/5e663f65b12772eb50bcf938</td>\n",
              "    </tr>\n",
              "    <tr>\n",
              "      <th>1425</th>\n",
              "      <td>NaN</td>\n",
              "      <td>https://www.wish.com/c/58df3eb809730e54ddd932ca</td>\n",
              "    </tr>\n",
              "    <tr>\n",
              "      <th>1427</th>\n",
              "      <td>NaN</td>\n",
              "      <td>https://www.wish.com/c/5ed5f7ccdfed1b4b1ac785c7</td>\n",
              "    </tr>\n",
              "    <tr>\n",
              "      <th>1431</th>\n",
              "      <td>NaN</td>\n",
              "      <td>https://www.wish.com/c/5ed34320dd296c304cb25970</td>\n",
              "    </tr>\n",
              "    <tr>\n",
              "      <th>1463</th>\n",
              "      <td>NaN</td>\n",
              "      <td>https://www.wish.com/c/5d6a0d55976cd02993e43250</td>\n",
              "    </tr>\n",
              "  </tbody>\n",
              "</table>\n",
              "</div>"
            ],
            "text/plain": [
              "     product_color                                      product_url\n",
              "26             NaN  https://www.wish.com/c/5b5edbae1e222732845e655f\n",
              "30             NaN  https://www.wish.com/c/5c9d920da94960780239d468\n",
              "146            NaN  https://www.wish.com/c/58e0f38f9bf29f55183efd0d\n",
              "278            NaN  https://www.wish.com/c/5c935aa8778e8274b0bdcead\n",
              "448            NaN  https://www.wish.com/c/5e70ba09e3d51e1002f7cf8e\n",
              "486            NaN  https://www.wish.com/c/569de6363e68eb0d85e0cded\n",
              "533            NaN  https://www.wish.com/c/56f640b461d6cf68cb5c5d83\n",
              "570            NaN  https://www.wish.com/c/59636dbdc657d57012e8b3f3\n",
              "572            NaN  https://www.wish.com/c/5ac302716931da0d71398f53\n",
              "618            NaN  https://www.wish.com/c/5e7e0c35e27371898f419f5d\n",
              "623            NaN  https://www.wish.com/c/5ce69880afab7162455321fe\n",
              "624            NaN  https://www.wish.com/c/5926a32e5b3cde33d7993689\n",
              "645            NaN  https://www.wish.com/c/594b7307a6623669348a92d1\n",
              "673            NaN  https://www.wish.com/c/55a3818f65bfcb406995a2a5\n",
              "690            NaN  https://www.wish.com/c/5def361cdcbcd1028120322d\n",
              "712            NaN  https://www.wish.com/c/55acbdf8ed44704872df93e2\n",
              "818            NaN  https://www.wish.com/c/5957163634bd9170cd0f7502\n",
              "830            NaN  https://www.wish.com/c/5c944cf5b82fb711ad500ec2\n",
              "855            NaN  https://www.wish.com/c/5cdd1c445632da70960b4b9a\n",
              "944            NaN  https://www.wish.com/c/5ee8d64229e09b123f9e9aa7\n",
              "988            NaN  https://www.wish.com/c/5ea7cdb941b27544b4f4694c\n",
              "990            NaN  https://www.wish.com/c/567cb0925ff12c4829f07dfb\n",
              "997            NaN  https://www.wish.com/c/5ebb6a3db1e97c2d2d60101f\n",
              "1004           NaN  https://www.wish.com/c/5ee8d64229e09b123f9e9aa7\n",
              "1008           NaN  https://www.wish.com/c/58aae24ddd127b534be35ae8\n",
              "1033           NaN  https://www.wish.com/c/588c54fb6661e84246a8aa71\n",
              "1067           NaN  https://www.wish.com/c/5cf10d573818e44a8e42f255\n",
              "1072           NaN  https://www.wish.com/c/5abc519e3c1dc61e44e0667f\n",
              "1079           NaN  https://www.wish.com/c/5bce9924df97d42c05eef81e\n",
              "1083           NaN  https://www.wish.com/c/5ef2c54482e1e6221ffc7de9\n",
              "1085           NaN  https://www.wish.com/c/5cda71c65ea3126b96be1ab9\n",
              "1152           NaN  https://www.wish.com/c/5aec5aa5e08184220e174919\n",
              "1301           NaN  https://www.wish.com/c/5ebe5359c88200382515760f\n",
              "1330           NaN  https://www.wish.com/c/5e663f65b12772eb50bcf938\n",
              "1425           NaN  https://www.wish.com/c/58df3eb809730e54ddd932ca\n",
              "1427           NaN  https://www.wish.com/c/5ed5f7ccdfed1b4b1ac785c7\n",
              "1431           NaN  https://www.wish.com/c/5ed34320dd296c304cb25970\n",
              "1463           NaN  https://www.wish.com/c/5d6a0d55976cd02993e43250"
            ]
          },
          "metadata": {},
          "execution_count": 178
        }
      ]
    },
    {
      "cell_type": "markdown",
      "metadata": {
        "id": "jFl4FyQY_66y"
      },
      "source": [
        "직접 상품의 링크에 접속해서 색깔정보를 채워넣기"
      ]
    },
    {
      "cell_type": "code",
      "metadata": {
        "id": "u6lsu71-2RkF"
      },
      "source": [
        "# 상품색상 결측값 채우기\n",
        "df.iloc[26,19] = 'white'\n",
        "df.iloc[30,19]= 'black'\n",
        "df.iloc[146,19] = 'rainbow'\n",
        "df.iloc[278,19] = 'black'\n",
        "df.iloc[486,19] = 'black'\n",
        "df.iloc[533,19] = 'white'\n",
        "df.iloc[570,19] = 'mintgreen'\n",
        "df.iloc[572,19] = 'black'\n",
        "df.iloc[623,19] = 'black'\n",
        "df.iloc[624,19] = 'black'\n",
        "df.iloc[645,19] = 'black'\n",
        "df.iloc[673,19] = 'white'\n",
        "df.iloc[712,19] = 'white'\n",
        "df.iloc[818,19] = 'white'\n",
        "df.iloc[855,19] = 'rainbow'\n",
        "df.iloc[990,19] = 'mintgreen'\n",
        "df.iloc[1008,19] = 'blue'\n",
        "df.iloc[1033,19] = 'pink'\n",
        "df.iloc[1067,19] = 'rainbow'\n",
        "df.iloc[1072,19] = 'white & black'\n",
        "df.iloc[1079,19] = 'white'\n",
        "df.iloc[1085,19] = 'white'\n",
        "df.iloc[1425,19] = 'white'\n",
        "\n",
        "# 상품확인결과 기타 일반 물건에 의한 색상 구분이 어려워 삭제\n",
        "df = df.drop(index = [448, 618, 690, 830, 944, 988, 997, 1004, 1083, 1152, 1301, 1330, 1427, 1431, 1463])"
      ],
      "execution_count": 179,
      "outputs": []
    },
    {
      "cell_type": "code",
      "metadata": {
        "colab": {
          "base_uri": "https://localhost:8080/"
        },
        "id": "8uGpsDLtAawe",
        "outputId": "6e84e4f3-8730-4142-b948-0f7695d8b761"
      },
      "source": [
        "print(f'데이터의 총 개수는 : {len(df)}개')\n",
        "print('-'*50)\n",
        "round(df.isnull().mean().sort_values(ascending =False)*100)"
      ],
      "execution_count": 180,
      "outputs": [
        {
          "output_type": "stream",
          "name": "stdout",
          "text": [
            "데이터의 총 개수는 : 1513개\n",
            "--------------------------------------------------\n"
          ]
        },
        {
          "output_type": "execute_result",
          "data": {
            "text/plain": [
              "merchant_name                   0.0\n",
              "tags                            0.0\n",
              "badge_product_quality           0.0\n",
              "badge_local_product             0.0\n",
              "badges_count                    0.0\n",
              "rating_one_count                0.0\n",
              "rating_two_count                0.0\n",
              "rating_three_count              0.0\n",
              "rating_four_count               0.0\n",
              "rating_five_count               0.0\n",
              "crawl_month                     0.0\n",
              "rating_count                    0.0\n",
              "rating                          0.0\n",
              "uses_ad_boosts                  0.0\n",
              "units_sold                      0.0\n",
              "currency_buyer                  0.0\n",
              "retail_price                    0.0\n",
              "price                           0.0\n",
              "title_orig                      0.0\n",
              "badge_fast_shipping             0.0\n",
              "product_color                   0.0\n",
              "theme                           0.0\n",
              "product_variation_inventory     0.0\n",
              "product_id                      0.0\n",
              "product_picture                 0.0\n",
              "product_url                     0.0\n",
              "merchant_has_profile_picture    0.0\n",
              "merchant_id                     0.0\n",
              "merchant_rating                 0.0\n",
              "merchant_rating_count           0.0\n",
              "merchant_info_subtitle          0.0\n",
              "merchant_title                  0.0\n",
              "origin_country                  0.0\n",
              "inventory_total                 0.0\n",
              "countries_shipped_to            0.0\n",
              "shipping_is_express             0.0\n",
              "shipping_option_price           0.0\n",
              "shipping_option_name            0.0\n",
              "title                           0.0\n",
              "dtype: float64"
            ]
          },
          "metadata": {},
          "execution_count": 180
        }
      ]
    },
    {
      "cell_type": "code",
      "metadata": {
        "id": "siVHfkPUyAR5"
      },
      "source": [
        "# 판매자의 이름 결측값 처리\n",
        "df.loc[df['merchant_name'].isnull()==True] # 판매자 이름의 결측값은 모두 같은 사람이므로 임시로 하나의 이름으로 채워준다.\n",
        "df['merchant_name'] = df['merchant_name'].fillna('jeongseok') # 판매자 이름을 jeongseok으로 임시로 채워주었다."
      ],
      "execution_count": 181,
      "outputs": []
    },
    {
      "cell_type": "markdown",
      "metadata": {
        "id": "eAe902Yrlav_"
      },
      "source": [
        "## 사용하지 않는 컬럼 제거"
      ]
    },
    {
      "cell_type": "code",
      "metadata": {
        "colab": {
          "base_uri": "https://localhost:8080/"
        },
        "id": "ahHyCDcTFVNn",
        "outputId": "d66565fd-51ff-4c87-ea8a-5bb97f4273f2"
      },
      "source": [
        "# 유럽언어제목을 삭제한 후 영어제목을 title로 변경\n",
        "df = df.drop(columns = 'title')\n",
        "df.rename(columns={'title_orig':'title'},inplace=True)\n",
        "\n",
        "\n",
        "# 소매가격과 실제가격의 차이만으로 의미를 찾을 수없다고 판단(더 많은 변수들과 복합적이기 때문)\n",
        "df = df.drop(columns = ['retail_price'])\n",
        "\n",
        "# 통화는 모두 EUR사용하기 때문에 삭제\n",
        "df = df.drop(columns = ['currency_buyer'])\n",
        "\n",
        "\n",
        "\n",
        "\n",
        "# 테마는 모두 여름이고, 크롤링 날짜 또한 같은날 진행하였기 때문에 삭제\n",
        "df = df.drop(columns = ['theme', 'crawl_month'])\n",
        "\n",
        "# URL은 모델에 사용할 수 있는 컬럼이 아니고 인사이트도 없기 때문에 제거\n",
        "df = df.drop(columns = ['product_picture', 'product_url'])\n",
        "\n",
        "\n",
        "# 판매자 이름은 판매자 id와 겹치므로 제거\n",
        "df = df.drop(columns = ['merchant_name'])\n",
        "\n",
        "\n",
        "# 필요없는 컬럼 삭제(merchant_info_subtitle,merchant_title : 불필요한 텍스트/ inventory_total : 사용하지 않을 결측값)\n",
        "df = df.drop(columns = ['merchant_info_subtitle', 'inventory_total', 'merchant_title'])\n",
        "df.info()\n"
      ],
      "execution_count": 182,
      "outputs": [
        {
          "output_type": "stream",
          "name": "stdout",
          "text": [
            "<class 'pandas.core.frame.DataFrame'>\n",
            "Int64Index: 1513 entries, 0 to 1527\n",
            "Data columns (total 28 columns):\n",
            " #   Column                        Non-Null Count  Dtype  \n",
            "---  ------                        --------------  -----  \n",
            " 0   title                         1513 non-null   object \n",
            " 1   price                         1513 non-null   float64\n",
            " 2   units_sold                    1513 non-null   int64  \n",
            " 3   uses_ad_boosts                1513 non-null   int64  \n",
            " 4   rating                        1513 non-null   float64\n",
            " 5   rating_count                  1513 non-null   int64  \n",
            " 6   rating_five_count             1513 non-null   float64\n",
            " 7   rating_four_count             1513 non-null   float64\n",
            " 8   rating_three_count            1513 non-null   float64\n",
            " 9   rating_two_count              1513 non-null   float64\n",
            " 10  rating_one_count              1513 non-null   float64\n",
            " 11  badges_count                  1513 non-null   int64  \n",
            " 12  badge_local_product           1513 non-null   int64  \n",
            " 13  badge_product_quality         1513 non-null   int64  \n",
            " 14  badge_fast_shipping           1513 non-null   int64  \n",
            " 15  tags                          1513 non-null   object \n",
            " 16  product_color                 1513 non-null   object \n",
            " 17  product_variation_inventory   1513 non-null   int64  \n",
            " 18  shipping_option_name          1513 non-null   object \n",
            " 19  shipping_option_price         1513 non-null   int64  \n",
            " 20  shipping_is_express           1513 non-null   int64  \n",
            " 21  countries_shipped_to          1513 non-null   int64  \n",
            " 22  origin_country                1513 non-null   object \n",
            " 23  merchant_rating_count         1513 non-null   int64  \n",
            " 24  merchant_rating               1513 non-null   float64\n",
            " 25  merchant_id                   1513 non-null   object \n",
            " 26  merchant_has_profile_picture  1513 non-null   int64  \n",
            " 27  product_id                    1513 non-null   object \n",
            "dtypes: float64(8), int64(13), object(7)\n",
            "memory usage: 342.8+ KB\n"
          ]
        }
      ]
    },
    {
      "cell_type": "markdown",
      "metadata": {
        "id": "YApKTcjSa26R"
      },
      "source": [
        "## 중복값 처리"
      ]
    },
    {
      "cell_type": "code",
      "metadata": {
        "id": "vRCpQZt5a2o4",
        "colab": {
          "base_uri": "https://localhost:8080/",
          "height": 1000
        },
        "outputId": "395d16ff-c3de-4047-9b49-8fdf17ccc2b8"
      },
      "source": [
        "df = df.drop_duplicates(keep = 'first')\n",
        "df = df.reset_index()\n",
        "df = df.drop(columns = 'index')\n",
        "df"
      ],
      "execution_count": 183,
      "outputs": [
        {
          "output_type": "execute_result",
          "data": {
            "text/html": [
              "<div>\n",
              "<style scoped>\n",
              "    .dataframe tbody tr th:only-of-type {\n",
              "        vertical-align: middle;\n",
              "    }\n",
              "\n",
              "    .dataframe tbody tr th {\n",
              "        vertical-align: top;\n",
              "    }\n",
              "\n",
              "    .dataframe thead th {\n",
              "        text-align: right;\n",
              "    }\n",
              "</style>\n",
              "<table border=\"1\" class=\"dataframe\">\n",
              "  <thead>\n",
              "    <tr style=\"text-align: right;\">\n",
              "      <th></th>\n",
              "      <th>title</th>\n",
              "      <th>price</th>\n",
              "      <th>units_sold</th>\n",
              "      <th>uses_ad_boosts</th>\n",
              "      <th>rating</th>\n",
              "      <th>rating_count</th>\n",
              "      <th>rating_five_count</th>\n",
              "      <th>rating_four_count</th>\n",
              "      <th>rating_three_count</th>\n",
              "      <th>rating_two_count</th>\n",
              "      <th>rating_one_count</th>\n",
              "      <th>badges_count</th>\n",
              "      <th>badge_local_product</th>\n",
              "      <th>badge_product_quality</th>\n",
              "      <th>badge_fast_shipping</th>\n",
              "      <th>tags</th>\n",
              "      <th>product_color</th>\n",
              "      <th>product_variation_inventory</th>\n",
              "      <th>shipping_option_name</th>\n",
              "      <th>shipping_option_price</th>\n",
              "      <th>shipping_is_express</th>\n",
              "      <th>countries_shipped_to</th>\n",
              "      <th>origin_country</th>\n",
              "      <th>merchant_rating_count</th>\n",
              "      <th>merchant_rating</th>\n",
              "      <th>merchant_id</th>\n",
              "      <th>merchant_has_profile_picture</th>\n",
              "      <th>product_id</th>\n",
              "    </tr>\n",
              "  </thead>\n",
              "  <tbody>\n",
              "    <tr>\n",
              "      <th>0</th>\n",
              "      <td>2020 Summer Vintage Flamingo Print  Pajamas Se...</td>\n",
              "      <td>16.00</td>\n",
              "      <td>100</td>\n",
              "      <td>0</td>\n",
              "      <td>3.76</td>\n",
              "      <td>54</td>\n",
              "      <td>26.0</td>\n",
              "      <td>8.0</td>\n",
              "      <td>10.0</td>\n",
              "      <td>1.0</td>\n",
              "      <td>9.0</td>\n",
              "      <td>0</td>\n",
              "      <td>0</td>\n",
              "      <td>0</td>\n",
              "      <td>0</td>\n",
              "      <td>Summer,Fashion,womenunderwearsuit,printedpajam...</td>\n",
              "      <td>white</td>\n",
              "      <td>50</td>\n",
              "      <td>Livraison standard</td>\n",
              "      <td>4</td>\n",
              "      <td>0</td>\n",
              "      <td>34</td>\n",
              "      <td>CN</td>\n",
              "      <td>568</td>\n",
              "      <td>4.128521</td>\n",
              "      <td>595097d6a26f6e070cb878d1</td>\n",
              "      <td>0</td>\n",
              "      <td>5e9ae51d43d6a96e303acdb0</td>\n",
              "    </tr>\n",
              "    <tr>\n",
              "      <th>1</th>\n",
              "      <td>Women's Casual Summer Sleeveless Sexy Mini Dress</td>\n",
              "      <td>8.00</td>\n",
              "      <td>20000</td>\n",
              "      <td>1</td>\n",
              "      <td>3.45</td>\n",
              "      <td>6135</td>\n",
              "      <td>2269.0</td>\n",
              "      <td>1027.0</td>\n",
              "      <td>1118.0</td>\n",
              "      <td>644.0</td>\n",
              "      <td>1077.0</td>\n",
              "      <td>0</td>\n",
              "      <td>0</td>\n",
              "      <td>0</td>\n",
              "      <td>0</td>\n",
              "      <td>Mini,womens dresses,Summer,Patchwork,fashion d...</td>\n",
              "      <td>green</td>\n",
              "      <td>50</td>\n",
              "      <td>Livraison standard</td>\n",
              "      <td>2</td>\n",
              "      <td>0</td>\n",
              "      <td>41</td>\n",
              "      <td>CN</td>\n",
              "      <td>17752</td>\n",
              "      <td>3.899673</td>\n",
              "      <td>56458aa03a698c35c9050988</td>\n",
              "      <td>0</td>\n",
              "      <td>58940d436a0d3d5da4e95a38</td>\n",
              "    </tr>\n",
              "    <tr>\n",
              "      <th>2</th>\n",
              "      <td>2020 New Arrival Women Spring and Summer Beach...</td>\n",
              "      <td>8.00</td>\n",
              "      <td>100</td>\n",
              "      <td>0</td>\n",
              "      <td>3.57</td>\n",
              "      <td>14</td>\n",
              "      <td>5.0</td>\n",
              "      <td>4.0</td>\n",
              "      <td>2.0</td>\n",
              "      <td>0.0</td>\n",
              "      <td>3.0</td>\n",
              "      <td>0</td>\n",
              "      <td>0</td>\n",
              "      <td>0</td>\n",
              "      <td>0</td>\n",
              "      <td>Summer,cardigan,women beachwear,chiffon,Sexy w...</td>\n",
              "      <td>leopardprint</td>\n",
              "      <td>1</td>\n",
              "      <td>Livraison standard</td>\n",
              "      <td>3</td>\n",
              "      <td>0</td>\n",
              "      <td>36</td>\n",
              "      <td>CN</td>\n",
              "      <td>295</td>\n",
              "      <td>3.989831</td>\n",
              "      <td>5d464a1ffdf7bc44ee933c65</td>\n",
              "      <td>0</td>\n",
              "      <td>5ea10e2c617580260d55310a</td>\n",
              "    </tr>\n",
              "    <tr>\n",
              "      <th>3</th>\n",
              "      <td>Hot Summer Cool T Shirt for Women Fashion Tops...</td>\n",
              "      <td>8.00</td>\n",
              "      <td>5000</td>\n",
              "      <td>1</td>\n",
              "      <td>4.03</td>\n",
              "      <td>579</td>\n",
              "      <td>295.0</td>\n",
              "      <td>119.0</td>\n",
              "      <td>87.0</td>\n",
              "      <td>42.0</td>\n",
              "      <td>36.0</td>\n",
              "      <td>0</td>\n",
              "      <td>0</td>\n",
              "      <td>0</td>\n",
              "      <td>0</td>\n",
              "      <td>Summer,Shorts,Cotton,Cotton T Shirt,Sleeve,pri...</td>\n",
              "      <td>black</td>\n",
              "      <td>50</td>\n",
              "      <td>Livraison standard</td>\n",
              "      <td>2</td>\n",
              "      <td>0</td>\n",
              "      <td>41</td>\n",
              "      <td>CN</td>\n",
              "      <td>23832</td>\n",
              "      <td>4.020435</td>\n",
              "      <td>58cfdefdacb37b556efdff7c</td>\n",
              "      <td>0</td>\n",
              "      <td>5cedf17ad1d44c52c59e4aca</td>\n",
              "    </tr>\n",
              "    <tr>\n",
              "      <th>4</th>\n",
              "      <td>Women Summer Shorts Lace Up Elastic Waistband ...</td>\n",
              "      <td>2.72</td>\n",
              "      <td>100</td>\n",
              "      <td>1</td>\n",
              "      <td>3.10</td>\n",
              "      <td>20</td>\n",
              "      <td>6.0</td>\n",
              "      <td>4.0</td>\n",
              "      <td>2.0</td>\n",
              "      <td>2.0</td>\n",
              "      <td>6.0</td>\n",
              "      <td>0</td>\n",
              "      <td>0</td>\n",
              "      <td>0</td>\n",
              "      <td>0</td>\n",
              "      <td>Summer,Plus Size,Lace,Casual pants,Bottom,pant...</td>\n",
              "      <td>yellow</td>\n",
              "      <td>1</td>\n",
              "      <td>Livraison standard</td>\n",
              "      <td>1</td>\n",
              "      <td>0</td>\n",
              "      <td>35</td>\n",
              "      <td>CN</td>\n",
              "      <td>14482</td>\n",
              "      <td>4.001588</td>\n",
              "      <td>5ab3b592c3911a095ad5dadb</td>\n",
              "      <td>0</td>\n",
              "      <td>5ebf5819ebac372b070b0e70</td>\n",
              "    </tr>\n",
              "    <tr>\n",
              "      <th>...</th>\n",
              "      <td>...</td>\n",
              "      <td>...</td>\n",
              "      <td>...</td>\n",
              "      <td>...</td>\n",
              "      <td>...</td>\n",
              "      <td>...</td>\n",
              "      <td>...</td>\n",
              "      <td>...</td>\n",
              "      <td>...</td>\n",
              "      <td>...</td>\n",
              "      <td>...</td>\n",
              "      <td>...</td>\n",
              "      <td>...</td>\n",
              "      <td>...</td>\n",
              "      <td>...</td>\n",
              "      <td>...</td>\n",
              "      <td>...</td>\n",
              "      <td>...</td>\n",
              "      <td>...</td>\n",
              "      <td>...</td>\n",
              "      <td>...</td>\n",
              "      <td>...</td>\n",
              "      <td>...</td>\n",
              "      <td>...</td>\n",
              "      <td>...</td>\n",
              "      <td>...</td>\n",
              "      <td>...</td>\n",
              "      <td>...</td>\n",
              "    </tr>\n",
              "    <tr>\n",
              "      <th>1287</th>\n",
              "      <td>New Summer Fashion Trousers Women Leggings Rip...</td>\n",
              "      <td>3.00</td>\n",
              "      <td>100</td>\n",
              "      <td>1</td>\n",
              "      <td>3.79</td>\n",
              "      <td>57</td>\n",
              "      <td>25.0</td>\n",
              "      <td>10.0</td>\n",
              "      <td>13.0</td>\n",
              "      <td>3.0</td>\n",
              "      <td>6.0</td>\n",
              "      <td>0</td>\n",
              "      <td>0</td>\n",
              "      <td>0</td>\n",
              "      <td>0</td>\n",
              "      <td>Summer,Leggings,Fashion,high waist,pants,slim,...</td>\n",
              "      <td>skyblue</td>\n",
              "      <td>1</td>\n",
              "      <td>Livraison standard</td>\n",
              "      <td>1</td>\n",
              "      <td>0</td>\n",
              "      <td>41</td>\n",
              "      <td>CN</td>\n",
              "      <td>4080</td>\n",
              "      <td>3.987990</td>\n",
              "      <td>584a7a381591451e4e3af3df</td>\n",
              "      <td>0</td>\n",
              "      <td>5e8f0165e815903d022a3c7c</td>\n",
              "    </tr>\n",
              "    <tr>\n",
              "      <th>1288</th>\n",
              "      <td>Sleeveless Solid Color Women Jumpsuit Ladies S...</td>\n",
              "      <td>8.00</td>\n",
              "      <td>20000</td>\n",
              "      <td>1</td>\n",
              "      <td>4.25</td>\n",
              "      <td>3127</td>\n",
              "      <td>1919.0</td>\n",
              "      <td>580.0</td>\n",
              "      <td>304.0</td>\n",
              "      <td>128.0</td>\n",
              "      <td>196.0</td>\n",
              "      <td>1</td>\n",
              "      <td>0</td>\n",
              "      <td>1</td>\n",
              "      <td>0</td>\n",
              "      <td>bodycon jumpsuits,nightwear,Shorts,slim,Body S...</td>\n",
              "      <td>black</td>\n",
              "      <td>50</td>\n",
              "      <td>Livraison standard</td>\n",
              "      <td>2</td>\n",
              "      <td>0</td>\n",
              "      <td>44</td>\n",
              "      <td>CN</td>\n",
              "      <td>16803</td>\n",
              "      <td>4.155032</td>\n",
              "      <td>56455b13b15aab129db58cb7</td>\n",
              "      <td>0</td>\n",
              "      <td>5c91a7ae7cfe8e4e64c36d97</td>\n",
              "    </tr>\n",
              "    <tr>\n",
              "      <th>1289</th>\n",
              "      <td>New Fashion Women Bohemia Dandelion Print Tee ...</td>\n",
              "      <td>6.00</td>\n",
              "      <td>10000</td>\n",
              "      <td>1</td>\n",
              "      <td>4.08</td>\n",
              "      <td>1367</td>\n",
              "      <td>722.0</td>\n",
              "      <td>293.0</td>\n",
              "      <td>185.0</td>\n",
              "      <td>77.0</td>\n",
              "      <td>90.0</td>\n",
              "      <td>0</td>\n",
              "      <td>0</td>\n",
              "      <td>0</td>\n",
              "      <td>0</td>\n",
              "      <td>bohemia,Plus Size,dandelionfloralprinted,short...</td>\n",
              "      <td>navyblue</td>\n",
              "      <td>50</td>\n",
              "      <td>Livraison standard</td>\n",
              "      <td>2</td>\n",
              "      <td>0</td>\n",
              "      <td>41</td>\n",
              "      <td>CN</td>\n",
              "      <td>5316</td>\n",
              "      <td>4.224605</td>\n",
              "      <td>5b507899ab577736508a0782</td>\n",
              "      <td>0</td>\n",
              "      <td>5d5fadc99febd9356cbc52ee</td>\n",
              "    </tr>\n",
              "    <tr>\n",
              "      <th>1290</th>\n",
              "      <td>New Men Siwmwear Beach-Shorts Men Summer Quick...</td>\n",
              "      <td>5.00</td>\n",
              "      <td>100</td>\n",
              "      <td>0</td>\n",
              "      <td>3.71</td>\n",
              "      <td>59</td>\n",
              "      <td>24.0</td>\n",
              "      <td>15.0</td>\n",
              "      <td>8.0</td>\n",
              "      <td>3.0</td>\n",
              "      <td>9.0</td>\n",
              "      <td>0</td>\n",
              "      <td>0</td>\n",
              "      <td>0</td>\n",
              "      <td>0</td>\n",
              "      <td>runningshort,Beach Shorts,beachpant,menbeachsh...</td>\n",
              "      <td>white</td>\n",
              "      <td>15</td>\n",
              "      <td>Livraison standard</td>\n",
              "      <td>2</td>\n",
              "      <td>0</td>\n",
              "      <td>11</td>\n",
              "      <td>CN</td>\n",
              "      <td>210</td>\n",
              "      <td>3.961905</td>\n",
              "      <td>5b42da1bf64320209fc8da69</td>\n",
              "      <td>0</td>\n",
              "      <td>5e74be96034d613d42b52dfe</td>\n",
              "    </tr>\n",
              "    <tr>\n",
              "      <th>1291</th>\n",
              "      <td>Fashion Women Yoga Pants Slim Fit Fitness Runn...</td>\n",
              "      <td>7.00</td>\n",
              "      <td>100</td>\n",
              "      <td>1</td>\n",
              "      <td>4.07</td>\n",
              "      <td>14</td>\n",
              "      <td>8.0</td>\n",
              "      <td>3.0</td>\n",
              "      <td>1.0</td>\n",
              "      <td>0.0</td>\n",
              "      <td>2.0</td>\n",
              "      <td>0</td>\n",
              "      <td>0</td>\n",
              "      <td>0</td>\n",
              "      <td>0</td>\n",
              "      <td>Summer,Leggings,slim,Yoga,pants,Slim Fit,Women...</td>\n",
              "      <td>red</td>\n",
              "      <td>50</td>\n",
              "      <td>Livraison standard</td>\n",
              "      <td>2</td>\n",
              "      <td>0</td>\n",
              "      <td>41</td>\n",
              "      <td>CN</td>\n",
              "      <td>7023</td>\n",
              "      <td>4.235939</td>\n",
              "      <td>5a409cf87b584e7951b2e25f</td>\n",
              "      <td>0</td>\n",
              "      <td>5e857321f53c3d2d8f25e7ed</td>\n",
              "    </tr>\n",
              "  </tbody>\n",
              "</table>\n",
              "<p>1292 rows × 28 columns</p>\n",
              "</div>"
            ],
            "text/plain": [
              "                                                  title  ...                product_id\n",
              "0     2020 Summer Vintage Flamingo Print  Pajamas Se...  ...  5e9ae51d43d6a96e303acdb0\n",
              "1      Women's Casual Summer Sleeveless Sexy Mini Dress  ...  58940d436a0d3d5da4e95a38\n",
              "2     2020 New Arrival Women Spring and Summer Beach...  ...  5ea10e2c617580260d55310a\n",
              "3     Hot Summer Cool T Shirt for Women Fashion Tops...  ...  5cedf17ad1d44c52c59e4aca\n",
              "4     Women Summer Shorts Lace Up Elastic Waistband ...  ...  5ebf5819ebac372b070b0e70\n",
              "...                                                 ...  ...                       ...\n",
              "1287  New Summer Fashion Trousers Women Leggings Rip...  ...  5e8f0165e815903d022a3c7c\n",
              "1288  Sleeveless Solid Color Women Jumpsuit Ladies S...  ...  5c91a7ae7cfe8e4e64c36d97\n",
              "1289  New Fashion Women Bohemia Dandelion Print Tee ...  ...  5d5fadc99febd9356cbc52ee\n",
              "1290  New Men Siwmwear Beach-Shorts Men Summer Quick...  ...  5e74be96034d613d42b52dfe\n",
              "1291  Fashion Women Yoga Pants Slim Fit Fitness Runn...  ...  5e857321f53c3d2d8f25e7ed\n",
              "\n",
              "[1292 rows x 28 columns]"
            ]
          },
          "metadata": {},
          "execution_count": 183
        }
      ]
    },
    {
      "cell_type": "markdown",
      "metadata": {
        "id": "znQs2Kgg96_s"
      },
      "source": [
        "# 목적에 맞게 컬럼내용 수정"
      ]
    },
    {
      "cell_type": "markdown",
      "metadata": {
        "id": "nhwY1VR_EfDC"
      },
      "source": [
        "## 판매량(units_sold) 수정"
      ]
    },
    {
      "cell_type": "markdown",
      "metadata": {
        "id": "lPCGxVcoEoff"
      },
      "source": [
        "5000개 이상 판매 시 성공적인 판매(successful_sold)"
      ]
    },
    {
      "cell_type": "code",
      "metadata": {
        "colab": {
          "base_uri": "https://localhost:8080/"
        },
        "id": "3XofC8ijAbPk",
        "outputId": "522b64ac-a113-44fc-c275-26d67d00f9e0"
      },
      "source": [
        "# unites_sold 값 확인\n",
        "df['units_sold'].value_counts()"
      ],
      "execution_count": 184,
      "outputs": [
        {
          "output_type": "execute_result",
          "data": {
            "text/plain": [
              "100       383\n",
              "1000      357\n",
              "5000      199\n",
              "10000     163\n",
              "20000      99\n",
              "50         46\n",
              "10         21\n",
              "50000      16\n",
              "100000      6\n",
              "7           1\n",
              "2           1\n",
              "Name: units_sold, dtype: int64"
            ]
          },
          "metadata": {},
          "execution_count": 184
        }
      ]
    },
    {
      "cell_type": "code",
      "metadata": {
        "colab": {
          "base_uri": "https://localhost:8080/",
          "height": 419
        },
        "id": "2yPkO6YjBdXs",
        "outputId": "2ea3d660-8b7c-4358-ce07-af719e793af6"
      },
      "source": [
        "# successful_sold컬럼으로 변경\n",
        "sold_list = []\n",
        "for i in df['units_sold']:\n",
        "  if i >= 5000:\n",
        "    sold_list.append(1)\n",
        "  else:\n",
        "    sold_list.append(0)\n",
        "\n",
        "df['successful_sold'] = sold_list\n",
        "df[['units_sold', 'successful_sold']]"
      ],
      "execution_count": 185,
      "outputs": [
        {
          "output_type": "execute_result",
          "data": {
            "text/html": [
              "<div>\n",
              "<style scoped>\n",
              "    .dataframe tbody tr th:only-of-type {\n",
              "        vertical-align: middle;\n",
              "    }\n",
              "\n",
              "    .dataframe tbody tr th {\n",
              "        vertical-align: top;\n",
              "    }\n",
              "\n",
              "    .dataframe thead th {\n",
              "        text-align: right;\n",
              "    }\n",
              "</style>\n",
              "<table border=\"1\" class=\"dataframe\">\n",
              "  <thead>\n",
              "    <tr style=\"text-align: right;\">\n",
              "      <th></th>\n",
              "      <th>units_sold</th>\n",
              "      <th>successful_sold</th>\n",
              "    </tr>\n",
              "  </thead>\n",
              "  <tbody>\n",
              "    <tr>\n",
              "      <th>0</th>\n",
              "      <td>100</td>\n",
              "      <td>0</td>\n",
              "    </tr>\n",
              "    <tr>\n",
              "      <th>1</th>\n",
              "      <td>20000</td>\n",
              "      <td>1</td>\n",
              "    </tr>\n",
              "    <tr>\n",
              "      <th>2</th>\n",
              "      <td>100</td>\n",
              "      <td>0</td>\n",
              "    </tr>\n",
              "    <tr>\n",
              "      <th>3</th>\n",
              "      <td>5000</td>\n",
              "      <td>1</td>\n",
              "    </tr>\n",
              "    <tr>\n",
              "      <th>4</th>\n",
              "      <td>100</td>\n",
              "      <td>0</td>\n",
              "    </tr>\n",
              "    <tr>\n",
              "      <th>...</th>\n",
              "      <td>...</td>\n",
              "      <td>...</td>\n",
              "    </tr>\n",
              "    <tr>\n",
              "      <th>1287</th>\n",
              "      <td>100</td>\n",
              "      <td>0</td>\n",
              "    </tr>\n",
              "    <tr>\n",
              "      <th>1288</th>\n",
              "      <td>20000</td>\n",
              "      <td>1</td>\n",
              "    </tr>\n",
              "    <tr>\n",
              "      <th>1289</th>\n",
              "      <td>10000</td>\n",
              "      <td>1</td>\n",
              "    </tr>\n",
              "    <tr>\n",
              "      <th>1290</th>\n",
              "      <td>100</td>\n",
              "      <td>0</td>\n",
              "    </tr>\n",
              "    <tr>\n",
              "      <th>1291</th>\n",
              "      <td>100</td>\n",
              "      <td>0</td>\n",
              "    </tr>\n",
              "  </tbody>\n",
              "</table>\n",
              "<p>1292 rows × 2 columns</p>\n",
              "</div>"
            ],
            "text/plain": [
              "      units_sold  successful_sold\n",
              "0            100                0\n",
              "1          20000                1\n",
              "2            100                0\n",
              "3           5000                1\n",
              "4            100                0\n",
              "...          ...              ...\n",
              "1287         100                0\n",
              "1288       20000                1\n",
              "1289       10000                1\n",
              "1290         100                0\n",
              "1291         100                0\n",
              "\n",
              "[1292 rows x 2 columns]"
            ]
          },
          "metadata": {},
          "execution_count": 185
        }
      ]
    },
    {
      "cell_type": "code",
      "metadata": {
        "colab": {
          "base_uri": "https://localhost:8080/"
        },
        "id": "QOzweVnuEHBM",
        "outputId": "490f41c3-a5f0-4f8d-dc5c-2d43b7cfd71e"
      },
      "source": [
        "df = df.drop(columns = ['units_sold'])\n",
        "df.info()"
      ],
      "execution_count": 186,
      "outputs": [
        {
          "output_type": "stream",
          "name": "stdout",
          "text": [
            "<class 'pandas.core.frame.DataFrame'>\n",
            "RangeIndex: 1292 entries, 0 to 1291\n",
            "Data columns (total 28 columns):\n",
            " #   Column                        Non-Null Count  Dtype  \n",
            "---  ------                        --------------  -----  \n",
            " 0   title                         1292 non-null   object \n",
            " 1   price                         1292 non-null   float64\n",
            " 2   uses_ad_boosts                1292 non-null   int64  \n",
            " 3   rating                        1292 non-null   float64\n",
            " 4   rating_count                  1292 non-null   int64  \n",
            " 5   rating_five_count             1292 non-null   float64\n",
            " 6   rating_four_count             1292 non-null   float64\n",
            " 7   rating_three_count            1292 non-null   float64\n",
            " 8   rating_two_count              1292 non-null   float64\n",
            " 9   rating_one_count              1292 non-null   float64\n",
            " 10  badges_count                  1292 non-null   int64  \n",
            " 11  badge_local_product           1292 non-null   int64  \n",
            " 12  badge_product_quality         1292 non-null   int64  \n",
            " 13  badge_fast_shipping           1292 non-null   int64  \n",
            " 14  tags                          1292 non-null   object \n",
            " 15  product_color                 1292 non-null   object \n",
            " 16  product_variation_inventory   1292 non-null   int64  \n",
            " 17  shipping_option_name          1292 non-null   object \n",
            " 18  shipping_option_price         1292 non-null   int64  \n",
            " 19  shipping_is_express           1292 non-null   int64  \n",
            " 20  countries_shipped_to          1292 non-null   int64  \n",
            " 21  origin_country                1292 non-null   object \n",
            " 22  merchant_rating_count         1292 non-null   int64  \n",
            " 23  merchant_rating               1292 non-null   float64\n",
            " 24  merchant_id                   1292 non-null   object \n",
            " 25  merchant_has_profile_picture  1292 non-null   int64  \n",
            " 26  product_id                    1292 non-null   object \n",
            " 27  successful_sold               1292 non-null   int64  \n",
            "dtypes: float64(8), int64(13), object(7)\n",
            "memory usage: 282.8+ KB\n"
          ]
        }
      ]
    },
    {
      "cell_type": "markdown",
      "metadata": {
        "id": "A_nmRotCH_FI"
      },
      "source": [
        "## 배송방법(shipping_option_name)수정"
      ]
    },
    {
      "cell_type": "code",
      "metadata": {
        "colab": {
          "base_uri": "https://localhost:8080/"
        },
        "id": "hBjiqb5pFLal",
        "outputId": "e9e767c1-8f22-499b-f974-4bbe77dc878b"
      },
      "source": [
        "df['shipping_option_name'].value_counts()"
      ],
      "execution_count": 187,
      "outputs": [
        {
          "output_type": "execute_result",
          "data": {
            "text/plain": [
              "Livraison standard         1238\n",
              "Standard Shipping            18\n",
              "Envio Padrão                  7\n",
              "Envío normal                  4\n",
              "Expediere Standard            4\n",
              "Standardowa wysyłka           3\n",
              "الشحن القياسي                 3\n",
              "Standardversand               3\n",
              "Spedizione standard           2\n",
              "Standart Gönderi              2\n",
              "Стандартная доставка          2\n",
              "Livraison Express             2\n",
              "การส่งสินค้ามาตรฐาน           2\n",
              "Ekspresowa wysyłka            1\n",
              "ការដឹកជញ្ជូនតាមស្តង់ដារ       1\n",
              "Name: shipping_option_name, dtype: int64"
            ]
          },
          "metadata": {},
          "execution_count": 187
        }
      ]
    },
    {
      "cell_type": "markdown",
      "metadata": {
        "id": "Z-meZH1jHn9N"
      },
      "source": [
        "|배송방법|배송형태|\n",
        "|-|-|\n",
        "|Livraison Express | **특급배송**|\n",
        "|Ekspresowa wysyłka | **특급배송**|\n",
        "|Livraison standard | 표준배송|\n",
        "|Standard Shipping | 표준배송|\n",
        "|Envio Padrão | 표준배송|\n",
        "|Expediere Standard | 표준배송|\n",
        "|Envío normal | 표준배송|\n",
        "|الشحن القياسي | 표준배송|\n",
        "|Standardversand | 표준배송|\n",
        "|Standardowa wysyłka | 표준배송|\n",
        "|Стандартная доставка | 표준배송|\n",
        "|การส่งสินค้ามาตรฐาน | 표준배송|\n",
        "|Standart Gönderi | 표준배송|\n",
        "|Spedizione standard  | 표준배송|\n",
        "|ការដឹកជញ្ជូនតាមស្តង់ដារ | 표준배송|\n"
      ]
    },
    {
      "cell_type": "code",
      "metadata": {
        "colab": {
          "base_uri": "https://localhost:8080/"
        },
        "id": "fM8fdvQWFUZc",
        "outputId": "bb1063af-dc5b-4607-b759-2d3879b0b50a"
      },
      "source": [
        "# 배송방법에서 -> 특급배송여부로 컬럼의 속성을 변경\n",
        "\n",
        "shipping_list = []\n",
        "special = ['Livraison Express', 'Ekspresowa wysyłka']\n",
        "\n",
        "for i in df['shipping_option_name']:\n",
        "  if i in special:\n",
        "    shipping_list.append(1)\n",
        "  else:\n",
        "    shipping_list.append(0)\n",
        "\n",
        "df['shipping_option_name'] = shipping_list\n",
        "df['shipping_option_name'].value_counts()"
      ],
      "execution_count": 188,
      "outputs": [
        {
          "output_type": "execute_result",
          "data": {
            "text/plain": [
              "0    1289\n",
              "1       3\n",
              "Name: shipping_option_name, dtype: int64"
            ]
          },
          "metadata": {},
          "execution_count": 188
        }
      ]
    },
    {
      "cell_type": "code",
      "metadata": {
        "colab": {
          "base_uri": "https://localhost:8080/"
        },
        "id": "LxA2FmumJOWl",
        "outputId": "c2edf152-5749-4482-b020-b55163fc0f24"
      },
      "source": [
        "df.rename(columns = {'shipping_option_name':'quick_shipping'},inplace = True)\n",
        "df.info()"
      ],
      "execution_count": 189,
      "outputs": [
        {
          "output_type": "stream",
          "name": "stdout",
          "text": [
            "<class 'pandas.core.frame.DataFrame'>\n",
            "RangeIndex: 1292 entries, 0 to 1291\n",
            "Data columns (total 28 columns):\n",
            " #   Column                        Non-Null Count  Dtype  \n",
            "---  ------                        --------------  -----  \n",
            " 0   title                         1292 non-null   object \n",
            " 1   price                         1292 non-null   float64\n",
            " 2   uses_ad_boosts                1292 non-null   int64  \n",
            " 3   rating                        1292 non-null   float64\n",
            " 4   rating_count                  1292 non-null   int64  \n",
            " 5   rating_five_count             1292 non-null   float64\n",
            " 6   rating_four_count             1292 non-null   float64\n",
            " 7   rating_three_count            1292 non-null   float64\n",
            " 8   rating_two_count              1292 non-null   float64\n",
            " 9   rating_one_count              1292 non-null   float64\n",
            " 10  badges_count                  1292 non-null   int64  \n",
            " 11  badge_local_product           1292 non-null   int64  \n",
            " 12  badge_product_quality         1292 non-null   int64  \n",
            " 13  badge_fast_shipping           1292 non-null   int64  \n",
            " 14  tags                          1292 non-null   object \n",
            " 15  product_color                 1292 non-null   object \n",
            " 16  product_variation_inventory   1292 non-null   int64  \n",
            " 17  quick_shipping                1292 non-null   int64  \n",
            " 18  shipping_option_price         1292 non-null   int64  \n",
            " 19  shipping_is_express           1292 non-null   int64  \n",
            " 20  countries_shipped_to          1292 non-null   int64  \n",
            " 21  origin_country                1292 non-null   object \n",
            " 22  merchant_rating_count         1292 non-null   int64  \n",
            " 23  merchant_rating               1292 non-null   float64\n",
            " 24  merchant_id                   1292 non-null   object \n",
            " 25  merchant_has_profile_picture  1292 non-null   int64  \n",
            " 26  product_id                    1292 non-null   object \n",
            " 27  successful_sold               1292 non-null   int64  \n",
            "dtypes: float64(8), int64(14), object(6)\n",
            "memory usage: 282.8+ KB\n"
          ]
        }
      ]
    },
    {
      "cell_type": "markdown",
      "metadata": {
        "id": "T-Ujh3VxNFFZ"
      },
      "source": [
        "## 배송급행여부(shipping_is_express)수정"
      ]
    },
    {
      "cell_type": "code",
      "metadata": {
        "colab": {
          "base_uri": "https://localhost:8080/"
        },
        "id": "wN2cSagXM_5L",
        "outputId": "394616b4-9c5f-452d-852a-2a6181e1d9f2"
      },
      "source": [
        "df['shipping_is_express'].value_counts()"
      ],
      "execution_count": 190,
      "outputs": [
        {
          "output_type": "execute_result",
          "data": {
            "text/plain": [
              "0    1289\n",
              "1       3\n",
              "Name: shipping_is_express, dtype: int64"
            ]
          },
          "metadata": {},
          "execution_count": 190
        }
      ]
    },
    {
      "cell_type": "code",
      "metadata": {
        "colab": {
          "base_uri": "https://localhost:8080/",
          "height": 434
        },
        "id": "KIeHGh-tJR_s",
        "outputId": "83d95dcc-cbf4-4f4b-ab58-5f0d18ec109d"
      },
      "source": [
        "df.loc[df['quick_shipping']==1]"
      ],
      "execution_count": 191,
      "outputs": [
        {
          "output_type": "execute_result",
          "data": {
            "text/html": [
              "<div>\n",
              "<style scoped>\n",
              "    .dataframe tbody tr th:only-of-type {\n",
              "        vertical-align: middle;\n",
              "    }\n",
              "\n",
              "    .dataframe tbody tr th {\n",
              "        vertical-align: top;\n",
              "    }\n",
              "\n",
              "    .dataframe thead th {\n",
              "        text-align: right;\n",
              "    }\n",
              "</style>\n",
              "<table border=\"1\" class=\"dataframe\">\n",
              "  <thead>\n",
              "    <tr style=\"text-align: right;\">\n",
              "      <th></th>\n",
              "      <th>title</th>\n",
              "      <th>price</th>\n",
              "      <th>uses_ad_boosts</th>\n",
              "      <th>rating</th>\n",
              "      <th>rating_count</th>\n",
              "      <th>rating_five_count</th>\n",
              "      <th>rating_four_count</th>\n",
              "      <th>rating_three_count</th>\n",
              "      <th>rating_two_count</th>\n",
              "      <th>rating_one_count</th>\n",
              "      <th>badges_count</th>\n",
              "      <th>badge_local_product</th>\n",
              "      <th>badge_product_quality</th>\n",
              "      <th>badge_fast_shipping</th>\n",
              "      <th>tags</th>\n",
              "      <th>product_color</th>\n",
              "      <th>product_variation_inventory</th>\n",
              "      <th>quick_shipping</th>\n",
              "      <th>shipping_option_price</th>\n",
              "      <th>shipping_is_express</th>\n",
              "      <th>countries_shipped_to</th>\n",
              "      <th>origin_country</th>\n",
              "      <th>merchant_rating_count</th>\n",
              "      <th>merchant_rating</th>\n",
              "      <th>merchant_id</th>\n",
              "      <th>merchant_has_profile_picture</th>\n",
              "      <th>product_id</th>\n",
              "      <th>successful_sold</th>\n",
              "    </tr>\n",
              "  </thead>\n",
              "  <tbody>\n",
              "    <tr>\n",
              "      <th>600</th>\n",
              "      <td>New Sexy Women Strap Backless Pajamas Lingerie...</td>\n",
              "      <td>8.0</td>\n",
              "      <td>0</td>\n",
              "      <td>2.79</td>\n",
              "      <td>14</td>\n",
              "      <td>5.0</td>\n",
              "      <td>1.0</td>\n",
              "      <td>0.0</td>\n",
              "      <td>2.0</td>\n",
              "      <td>6.0</td>\n",
              "      <td>2</td>\n",
              "      <td>1</td>\n",
              "      <td>0</td>\n",
              "      <td>1</td>\n",
              "      <td>Mini,Dress,summer dress,Mini dress,silk dress,...</td>\n",
              "      <td>brown</td>\n",
              "      <td>50</td>\n",
              "      <td>1</td>\n",
              "      <td>7</td>\n",
              "      <td>1</td>\n",
              "      <td>41</td>\n",
              "      <td>CN</td>\n",
              "      <td>7012</td>\n",
              "      <td>4.336708</td>\n",
              "      <td>587dd9a883eee74e06b30974</td>\n",
              "      <td>0</td>\n",
              "      <td>5aabae5e7ddb066f389e4e7b</td>\n",
              "      <td>0</td>\n",
              "    </tr>\n",
              "    <tr>\n",
              "      <th>678</th>\n",
              "      <td>Summer Women's Fashion Sleeveless V-neck backl...</td>\n",
              "      <td>49.0</td>\n",
              "      <td>0</td>\n",
              "      <td>4.67</td>\n",
              "      <td>6</td>\n",
              "      <td>4.0</td>\n",
              "      <td>2.0</td>\n",
              "      <td>0.0</td>\n",
              "      <td>0.0</td>\n",
              "      <td>0.0</td>\n",
              "      <td>1</td>\n",
              "      <td>0</td>\n",
              "      <td>0</td>\n",
              "      <td>1</td>\n",
              "      <td>party,Goth,Plus Size,Summer,Dress,V-neck,bodyc...</td>\n",
              "      <td>Rose red</td>\n",
              "      <td>2</td>\n",
              "      <td>1</td>\n",
              "      <td>12</td>\n",
              "      <td>1</td>\n",
              "      <td>41</td>\n",
              "      <td>CN</td>\n",
              "      <td>29977</td>\n",
              "      <td>4.223138</td>\n",
              "      <td>5925555b2cd9447854443c41</td>\n",
              "      <td>0</td>\n",
              "      <td>5d09ecc2f5d4eb7721203368</td>\n",
              "      <td>0</td>\n",
              "    </tr>\n",
              "    <tr>\n",
              "      <th>925</th>\n",
              "      <td>Sexy Women Camouflage Print Bandage Push-up Sw...</td>\n",
              "      <td>6.0</td>\n",
              "      <td>0</td>\n",
              "      <td>4.29</td>\n",
              "      <td>2808</td>\n",
              "      <td>1789.0</td>\n",
              "      <td>459.0</td>\n",
              "      <td>300.0</td>\n",
              "      <td>110.0</td>\n",
              "      <td>150.0</td>\n",
              "      <td>3</td>\n",
              "      <td>1</td>\n",
              "      <td>1</td>\n",
              "      <td>1</td>\n",
              "      <td>bathing suit,Fashion,fashion swimsuit,bikini s...</td>\n",
              "      <td>pink</td>\n",
              "      <td>50</td>\n",
              "      <td>1</td>\n",
              "      <td>7</td>\n",
              "      <td>1</td>\n",
              "      <td>39</td>\n",
              "      <td>CN</td>\n",
              "      <td>33675</td>\n",
              "      <td>4.314150</td>\n",
              "      <td>5577b101429aa92940bc33e7</td>\n",
              "      <td>0</td>\n",
              "      <td>588c54fb6661e84246a8aa71</td>\n",
              "      <td>1</td>\n",
              "    </tr>\n",
              "  </tbody>\n",
              "</table>\n",
              "</div>"
            ],
            "text/plain": [
              "                                                 title  ...  successful_sold\n",
              "600  New Sexy Women Strap Backless Pajamas Lingerie...  ...                0\n",
              "678  Summer Women's Fashion Sleeveless V-neck backl...  ...                0\n",
              "925  Sexy Women Camouflage Print Bandage Push-up Sw...  ...                1\n",
              "\n",
              "[3 rows x 28 columns]"
            ]
          },
          "metadata": {},
          "execution_count": 191
        }
      ]
    },
    {
      "cell_type": "markdown",
      "metadata": {
        "id": "ExCvQaoYNJRU"
      },
      "source": [
        "배송급행여부는 배송방법의 특급배송과 같으므로 다중공선성문제가 생기기 때문에 삭제해준다."
      ]
    },
    {
      "cell_type": "code",
      "metadata": {
        "colab": {
          "base_uri": "https://localhost:8080/"
        },
        "id": "Cwt0mYiZKRnk",
        "outputId": "87b454d7-a6f0-4b13-84bb-8c50e2bc5df4"
      },
      "source": [
        "df.drop(columns=['shipping_is_express'],inplace=True)\n",
        "df.info()"
      ],
      "execution_count": 192,
      "outputs": [
        {
          "output_type": "stream",
          "name": "stdout",
          "text": [
            "<class 'pandas.core.frame.DataFrame'>\n",
            "RangeIndex: 1292 entries, 0 to 1291\n",
            "Data columns (total 27 columns):\n",
            " #   Column                        Non-Null Count  Dtype  \n",
            "---  ------                        --------------  -----  \n",
            " 0   title                         1292 non-null   object \n",
            " 1   price                         1292 non-null   float64\n",
            " 2   uses_ad_boosts                1292 non-null   int64  \n",
            " 3   rating                        1292 non-null   float64\n",
            " 4   rating_count                  1292 non-null   int64  \n",
            " 5   rating_five_count             1292 non-null   float64\n",
            " 6   rating_four_count             1292 non-null   float64\n",
            " 7   rating_three_count            1292 non-null   float64\n",
            " 8   rating_two_count              1292 non-null   float64\n",
            " 9   rating_one_count              1292 non-null   float64\n",
            " 10  badges_count                  1292 non-null   int64  \n",
            " 11  badge_local_product           1292 non-null   int64  \n",
            " 12  badge_product_quality         1292 non-null   int64  \n",
            " 13  badge_fast_shipping           1292 non-null   int64  \n",
            " 14  tags                          1292 non-null   object \n",
            " 15  product_color                 1292 non-null   object \n",
            " 16  product_variation_inventory   1292 non-null   int64  \n",
            " 17  quick_shipping                1292 non-null   int64  \n",
            " 18  shipping_option_price         1292 non-null   int64  \n",
            " 19  countries_shipped_to          1292 non-null   int64  \n",
            " 20  origin_country                1292 non-null   object \n",
            " 21  merchant_rating_count         1292 non-null   int64  \n",
            " 22  merchant_rating               1292 non-null   float64\n",
            " 23  merchant_id                   1292 non-null   object \n",
            " 24  merchant_has_profile_picture  1292 non-null   int64  \n",
            " 25  product_id                    1292 non-null   object \n",
            " 26  successful_sold               1292 non-null   int64  \n",
            "dtypes: float64(8), int64(13), object(6)\n",
            "memory usage: 272.7+ KB\n"
          ]
        }
      ]
    },
    {
      "cell_type": "markdown",
      "metadata": {
        "id": "mzlKOJG2PV5S"
      },
      "source": [
        "## 배송가능한 국가 수 (countries_shipped_to) 수정"
      ]
    },
    {
      "cell_type": "code",
      "metadata": {
        "colab": {
          "base_uri": "https://localhost:8080/"
        },
        "id": "eaMwqGSMNeWd",
        "outputId": "be3cd4c5-2091-4002-a01f-272d4a5419b8"
      },
      "source": [
        "np.sort(df['countries_shipped_to'].unique())"
      ],
      "execution_count": 193,
      "outputs": [
        {
          "output_type": "execute_result",
          "data": {
            "text/plain": [
              "array([  6,   8,   9,  10,  11,  12,  13,  14,  15,  16,  17,  18,  19,\n",
              "        20,  21,  22,  23,  24,  25,  26,  27,  28,  29,  30,  31,  32,\n",
              "        33,  34,  35,  36,  37,  38,  39,  40,  41,  42,  43,  44,  45,\n",
              "        46,  47,  48,  49,  50,  51,  52,  53,  54,  55,  56,  57,  58,\n",
              "        59,  60,  61,  62,  63,  64,  65,  66,  67,  68,  69,  70,  71,\n",
              "        72,  73,  74,  78,  79,  80,  81,  82,  83,  84,  90,  91,  93,\n",
              "        94, 104, 105, 107, 109, 111, 118, 124, 125, 127, 132, 135, 137,\n",
              "       138, 139, 140])"
            ]
          },
          "metadata": {},
          "execution_count": 193
        }
      ]
    },
    {
      "cell_type": "code",
      "metadata": {
        "colab": {
          "base_uri": "https://localhost:8080/",
          "height": 359
        },
        "id": "MM50MuM-Nvhk",
        "outputId": "648392e8-038b-4a97-c1bc-74225957e9da"
      },
      "source": [
        "sns.boxplot(df['countries_shipped_to'])"
      ],
      "execution_count": 194,
      "outputs": [
        {
          "output_type": "stream",
          "name": "stderr",
          "text": [
            "/usr/local/lib/python3.7/dist-packages/seaborn/_decorators.py:43: FutureWarning: Pass the following variable as a keyword arg: x. From version 0.12, the only valid positional argument will be `data`, and passing other arguments without an explicit keyword will result in an error or misinterpretation.\n",
            "  FutureWarning\n"
          ]
        },
        {
          "output_type": "execute_result",
          "data": {
            "text/plain": [
              "<matplotlib.axes._subplots.AxesSubplot at 0x7f89ebade710>"
            ]
          },
          "metadata": {},
          "execution_count": 194
        },
        {
          "output_type": "display_data",
          "data": {
            "image/png": "[encoded data removed]",
            "text/plain": [
              "<Figure size 432x288 with 1 Axes>"
            ]
          },
          "metadata": {
            "needs_background": "light"
          }
        }
      ]
    },
    {
      "cell_type": "code",
      "metadata": {
        "colab": {
          "base_uri": "https://localhost:8080/"
        },
        "id": "Po0Aus-ePC2d",
        "outputId": "1ddaff03-9e2e-4ce7-88c4-b76ec1ccdcd1"
      },
      "source": [
        "print(df['countries_shipped_to'].median())\n",
        "print(df['countries_shipped_to'].mean())"
      ],
      "execution_count": 195,
      "outputs": [
        {
          "output_type": "stream",
          "name": "stdout",
          "text": [
            "40.0\n",
            "40.52244582043344\n"
          ]
        }
      ]
    },
    {
      "cell_type": "markdown",
      "metadata": {
        "id": "RueWYNp7PeSf"
      },
      "source": [
        "중간값과 평균값이 비슷한 것으로 보아 극히 일부가 이상치로 포함되어 있으므로 중간값을 기준으로 해서 배송범위가 매우 넓음여부로 변경"
      ]
    },
    {
      "cell_type": "code",
      "metadata": {
        "colab": {
          "base_uri": "https://localhost:8080/"
        },
        "id": "HauYGXokPIDk",
        "outputId": "bee794ef-2636-4aae-e93d-486ec37ed007"
      },
      "source": [
        "country_list = []\n",
        "\n",
        "for i in df['countries_shipped_to']:\n",
        "  if i > 40:\n",
        "    country_list.append(1)\n",
        "  else:\n",
        "    country_list.append(0)\n",
        "\n",
        "df['countries_shipped_to'] = country_list\n",
        "df['countries_shipped_to'].value_counts()\n",
        "\n",
        "# 배송범위 매우넓음(40 초과): 1, 배송범위 매우넓지는 않음(40이하) : 0"
      ],
      "execution_count": 196,
      "outputs": [
        {
          "output_type": "execute_result",
          "data": {
            "text/plain": [
              "0    707\n",
              "1    585\n",
              "Name: countries_shipped_to, dtype: int64"
            ]
          },
          "metadata": {},
          "execution_count": 196
        }
      ]
    },
    {
      "cell_type": "code",
      "metadata": {
        "colab": {
          "base_uri": "https://localhost:8080/"
        },
        "id": "LAjOFTgFQszG",
        "outputId": "61df82a9-89aa-45e5-9bc5-4a66a620feee"
      },
      "source": [
        "df.rename(columns = {'countries_shipped_to':'shipped_range'}, inplace = True)\n",
        "df.info()"
      ],
      "execution_count": 197,
      "outputs": [
        {
          "output_type": "stream",
          "name": "stdout",
          "text": [
            "<class 'pandas.core.frame.DataFrame'>\n",
            "RangeIndex: 1292 entries, 0 to 1291\n",
            "Data columns (total 27 columns):\n",
            " #   Column                        Non-Null Count  Dtype  \n",
            "---  ------                        --------------  -----  \n",
            " 0   title                         1292 non-null   object \n",
            " 1   price                         1292 non-null   float64\n",
            " 2   uses_ad_boosts                1292 non-null   int64  \n",
            " 3   rating                        1292 non-null   float64\n",
            " 4   rating_count                  1292 non-null   int64  \n",
            " 5   rating_five_count             1292 non-null   float64\n",
            " 6   rating_four_count             1292 non-null   float64\n",
            " 7   rating_three_count            1292 non-null   float64\n",
            " 8   rating_two_count              1292 non-null   float64\n",
            " 9   rating_one_count              1292 non-null   float64\n",
            " 10  badges_count                  1292 non-null   int64  \n",
            " 11  badge_local_product           1292 non-null   int64  \n",
            " 12  badge_product_quality         1292 non-null   int64  \n",
            " 13  badge_fast_shipping           1292 non-null   int64  \n",
            " 14  tags                          1292 non-null   object \n",
            " 15  product_color                 1292 non-null   object \n",
            " 16  product_variation_inventory   1292 non-null   int64  \n",
            " 17  quick_shipping                1292 non-null   int64  \n",
            " 18  shipping_option_price         1292 non-null   int64  \n",
            " 19  shipped_range                 1292 non-null   int64  \n",
            " 20  origin_country                1292 non-null   object \n",
            " 21  merchant_rating_count         1292 non-null   int64  \n",
            " 22  merchant_rating               1292 non-null   float64\n",
            " 23  merchant_id                   1292 non-null   object \n",
            " 24  merchant_has_profile_picture  1292 non-null   int64  \n",
            " 25  product_id                    1292 non-null   object \n",
            " 26  successful_sold               1292 non-null   int64  \n",
            "dtypes: float64(8), int64(13), object(6)\n",
            "memory usage: 272.7+ KB\n"
          ]
        }
      ]
    },
    {
      "cell_type": "markdown",
      "metadata": {
        "id": "9EqW-sMMW2CL"
      },
      "source": [
        "## 원산지(origin_country) 수정"
      ]
    },
    {
      "cell_type": "code",
      "metadata": {
        "colab": {
          "base_uri": "https://localhost:8080/"
        },
        "id": "i3YvKdhvWih1",
        "outputId": "1e697c59-d9b1-4a87-9230-72667c4290ea"
      },
      "source": [
        "df['origin_country'].value_counts()"
      ],
      "execution_count": 198,
      "outputs": [
        {
          "output_type": "execute_result",
          "data": {
            "text/plain": [
              "CN    1259\n",
              "US      27\n",
              "VE       3\n",
              "SG       2\n",
              "GB       1\n",
              "Name: origin_country, dtype: int64"
            ]
          },
          "metadata": {},
          "execution_count": 198
        }
      ]
    },
    {
      "cell_type": "code",
      "metadata": {
        "colab": {
          "base_uri": "https://localhost:8080/"
        },
        "id": "4NmEFOShWthF",
        "outputId": "8f1fb3ba-34c0-404d-b875-826b3bb992f2"
      },
      "source": [
        "# 1513개의 데이터중 1474개가 중국이므로 중국과 아닌것으로 변환\n",
        "\n",
        "origin_list = []\n",
        "\n",
        "for i in df['origin_country']:\n",
        "  if i == 'CN':\n",
        "    origin_list.append(1)\n",
        "  else:\n",
        "    origin_list.append(0)\n",
        "\n",
        "df.rename(columns={'origin_country':'made_in_china'},inplace=True)\n",
        "df['made_in_china'] = origin_list\n",
        "df['made_in_china'].value_counts()"
      ],
      "execution_count": 199,
      "outputs": [
        {
          "output_type": "execute_result",
          "data": {
            "text/plain": [
              "1    1259\n",
              "0      33\n",
              "Name: made_in_china, dtype: int64"
            ]
          },
          "metadata": {},
          "execution_count": 199
        }
      ]
    },
    {
      "cell_type": "markdown",
      "metadata": {
        "id": "mLg6D0YVQ7Im"
      },
      "source": [
        "## 평가(rating)수정"
      ]
    },
    {
      "cell_type": "code",
      "metadata": {
        "id": "q2Y673cKQ9cu",
        "colab": {
          "base_uri": "https://localhost:8080/"
        },
        "outputId": "029e077a-5c42-4be9-8717-101ad93502ba"
      },
      "source": [
        "# rating이 너무 다양하게 있어서 소수점 첫째자리 까지 수정\n",
        "df['rating'] = round(df['rating'],1)\n",
        "df['rating'].unique()"
      ],
      "execution_count": 200,
      "outputs": [
        {
          "output_type": "execute_result",
          "data": {
            "text/plain": [
              "array([3.8, 3.4, 3.6, 4. , 3.1, 5. , 3.5, 3.3, 3.9, 3.7, 4.2, 4.3, 4.1,\n",
              "       4.4, 2.8, 1.5, 3. , 3.2, 2.7, 4.5, 2.6, 4.8, 4.6, 2.5, 2.9, 2. ,\n",
              "       1. , 4.7, 2.2, 2.3, 2.4])"
            ]
          },
          "metadata": {},
          "execution_count": 200
        }
      ]
    },
    {
      "cell_type": "markdown",
      "metadata": {
        "id": "-3PlJFyoY6z8"
      },
      "source": [
        "# 가설검정"
      ]
    },
    {
      "cell_type": "code",
      "metadata": {
        "id": "XbthZuXlY72Y",
        "colab": {
          "base_uri": "https://localhost:8080/"
        },
        "outputId": "b7838c5f-7d06-47aa-adc4-588287a935e2"
      },
      "source": [
        "df.info()"
      ],
      "execution_count": 201,
      "outputs": [
        {
          "output_type": "stream",
          "name": "stdout",
          "text": [
            "<class 'pandas.core.frame.DataFrame'>\n",
            "RangeIndex: 1292 entries, 0 to 1291\n",
            "Data columns (total 27 columns):\n",
            " #   Column                        Non-Null Count  Dtype  \n",
            "---  ------                        --------------  -----  \n",
            " 0   title                         1292 non-null   object \n",
            " 1   price                         1292 non-null   float64\n",
            " 2   uses_ad_boosts                1292 non-null   int64  \n",
            " 3   rating                        1292 non-null   float64\n",
            " 4   rating_count                  1292 non-null   int64  \n",
            " 5   rating_five_count             1292 non-null   float64\n",
            " 6   rating_four_count             1292 non-null   float64\n",
            " 7   rating_three_count            1292 non-null   float64\n",
            " 8   rating_two_count              1292 non-null   float64\n",
            " 9   rating_one_count              1292 non-null   float64\n",
            " 10  badges_count                  1292 non-null   int64  \n",
            " 11  badge_local_product           1292 non-null   int64  \n",
            " 12  badge_product_quality         1292 non-null   int64  \n",
            " 13  badge_fast_shipping           1292 non-null   int64  \n",
            " 14  tags                          1292 non-null   object \n",
            " 15  product_color                 1292 non-null   object \n",
            " 16  product_variation_inventory   1292 non-null   int64  \n",
            " 17  quick_shipping                1292 non-null   int64  \n",
            " 18  shipping_option_price         1292 non-null   int64  \n",
            " 19  shipped_range                 1292 non-null   int64  \n",
            " 20  made_in_china                 1292 non-null   int64  \n",
            " 21  merchant_rating_count         1292 non-null   int64  \n",
            " 22  merchant_rating               1292 non-null   float64\n",
            " 23  merchant_id                   1292 non-null   object \n",
            " 24  merchant_has_profile_picture  1292 non-null   int64  \n",
            " 25  product_id                    1292 non-null   object \n",
            " 26  successful_sold               1292 non-null   int64  \n",
            "dtypes: float64(8), int64(14), object(5)\n",
            "memory usage: 272.7+ KB\n"
          ]
        }
      ]
    },
    {
      "cell_type": "markdown",
      "metadata": {
        "id": "_52H8FTZGUli"
      },
      "source": [
        "## 가설1. 광고를 넣으면 판매가 더 잘될것이다."
      ]
    },
    {
      "cell_type": "code",
      "metadata": {
        "id": "2yLo-bK0KqTw",
        "outputId": "05e254b6-2ab6-4f2c-f6bc-a35bbc97c8df",
        "colab": {
          "base_uri": "https://localhost:8080/",
          "height": 357
        }
      },
      "source": [
        "plt.figure(figsize = (12,5))\n",
        "ax = sns.countplot(y = df['successful_sold'], hue = df['uses_ad_boosts'])\n",
        "for p in ax.patches:\n",
        "    x, y, width, height = p.get_bbox().bounds\n",
        "    ax.text(width*1, y+height/2, (width), va='center')\n",
        "\n",
        "plt.sca(ax)\n",
        "plt.box(False)\n",
        "\n",
        "print('\\t','성공판매 실패 시 광고 사용 여부에 따른 비율 :', round(366/443,2),'\\t','성공판매시 광고 사용 여부에 따른 비율 :', round(197/286,2))\n"
      ],
      "execution_count": 202,
      "outputs": [
        {
          "output_type": "stream",
          "name": "stdout",
          "text": [
            "\t 성공판매 실패 시 광고 사용 여부에 따른 비율 : 0.83 \t 성공판매시 광고 사용 여부에 따른 비율 : 0.69\n"
          ]
        },
        {
          "output_type": "display_data",
          "data": {
            "image/png": "[encoded data removed]",
            "text/plain": [
              "<Figure size 864x360 with 1 Axes>"
            ]
          },
          "metadata": {
            "needs_background": "light"
          }
        }
      ]
    },
    {
      "cell_type": "markdown",
      "metadata": {
        "id": "I9-TUsT2MjjW"
      },
      "source": [
        "광고를 넣었다고해서 성공적인 판매로 이어지는것은 아니다."
      ]
    },
    {
      "cell_type": "markdown",
      "metadata": {
        "id": "cXIeLZxHMoST"
      },
      "source": [
        "## 가설2. 평가수 가 많을수록 높은 판매량을 기록할 것이다."
      ]
    },
    {
      "cell_type": "code",
      "metadata": {
        "id": "p_XMkClBOVVV",
        "colab": {
          "base_uri": "https://localhost:8080/",
          "height": 450
        },
        "outputId": "25192539-b12c-47b3-e10e-d06225708e6e"
      },
      "source": [
        "plt.figure(figsize =(12, 6))\n",
        "sns.set_context('notebook')\n",
        "sns.countplot(df['rating_count'], hue = df['successful_sold'])\n",
        "\n",
        "ax =plt.gca()\n",
        "ax.legend(loc = 'upper right')\n",
        "plt.show()"
      ],
      "execution_count": 203,
      "outputs": [
        {
          "output_type": "stream",
          "name": "stderr",
          "text": [
            "/usr/local/lib/python3.7/dist-packages/seaborn/_decorators.py:43: FutureWarning: Pass the following variable as a keyword arg: x. From version 0.12, the only valid positional argument will be `data`, and passing other arguments without an explicit keyword will result in an error or misinterpretation.\n",
            "  FutureWarning\n"
          ]
        },
        {
          "output_type": "display_data",
          "data": {
            "image/png": "[encoded data removed]",
            "text/plain": [
              "<Figure size 864x432 with 1 Axes>"
            ]
          },
          "metadata": {
            "needs_background": "light"
          }
        }
      ]
    },
    {
      "cell_type": "code",
      "metadata": {
        "id": "eB5-rWP8RA2q",
        "outputId": "c92b2204-1fdc-41bb-f83a-5e401cb98da5",
        "colab": {
          "base_uri": "https://localhost:8080/",
          "height": 303
        }
      },
      "source": [
        "sns.scatterplot(x = df['rating_count'], y = df['successful_sold'], alpha = 0.3)"
      ],
      "execution_count": 204,
      "outputs": [
        {
          "output_type": "execute_result",
          "data": {
            "text/plain": [
              "<matplotlib.axes._subplots.AxesSubplot at 0x7f89dc80d910>"
            ]
          },
          "metadata": {},
          "execution_count": 204
        },
        {
          "output_type": "display_data",
          "data": {
            "image/png": "[encoded data removed]",
            "text/plain": [
              "<Figure size 432x288 with 1 Axes>"
            ]
          },
          "metadata": {
            "needs_background": "light"
          }
        }
      ]
    },
    {
      "cell_type": "code",
      "metadata": {
        "id": "7Qj8--k8XUHQ",
        "outputId": "36b1c7ea-d414-471f-dfc0-875f1a0f0050",
        "colab": {
          "base_uri": "https://localhost:8080/",
          "height": 419
        }
      },
      "source": [
        "rating = pd.DataFrame(df.groupby(df['rating_count'])['successful_sold'].sum())\n",
        "rating = rating.reset_index()\n",
        "rating"
      ],
      "execution_count": 205,
      "outputs": [
        {
          "output_type": "execute_result",
          "data": {
            "text/html": [
              "<div>\n",
              "<style scoped>\n",
              "    .dataframe tbody tr th:only-of-type {\n",
              "        vertical-align: middle;\n",
              "    }\n",
              "\n",
              "    .dataframe tbody tr th {\n",
              "        vertical-align: top;\n",
              "    }\n",
              "\n",
              "    .dataframe thead th {\n",
              "        text-align: right;\n",
              "    }\n",
              "</style>\n",
              "<table border=\"1\" class=\"dataframe\">\n",
              "  <thead>\n",
              "    <tr style=\"text-align: right;\">\n",
              "      <th></th>\n",
              "      <th>rating_count</th>\n",
              "      <th>successful_sold</th>\n",
              "    </tr>\n",
              "  </thead>\n",
              "  <tbody>\n",
              "    <tr>\n",
              "      <th>0</th>\n",
              "      <td>1</td>\n",
              "      <td>0</td>\n",
              "    </tr>\n",
              "    <tr>\n",
              "      <th>1</th>\n",
              "      <td>2</td>\n",
              "      <td>0</td>\n",
              "    </tr>\n",
              "    <tr>\n",
              "      <th>2</th>\n",
              "      <td>3</td>\n",
              "      <td>0</td>\n",
              "    </tr>\n",
              "    <tr>\n",
              "      <th>3</th>\n",
              "      <td>4</td>\n",
              "      <td>0</td>\n",
              "    </tr>\n",
              "    <tr>\n",
              "      <th>4</th>\n",
              "      <td>5</td>\n",
              "      <td>0</td>\n",
              "    </tr>\n",
              "    <tr>\n",
              "      <th>...</th>\n",
              "      <td>...</td>\n",
              "      <td>...</td>\n",
              "    </tr>\n",
              "    <tr>\n",
              "      <th>753</th>\n",
              "      <td>17444</td>\n",
              "      <td>1</td>\n",
              "    </tr>\n",
              "    <tr>\n",
              "      <th>754</th>\n",
              "      <td>17980</td>\n",
              "      <td>1</td>\n",
              "    </tr>\n",
              "    <tr>\n",
              "      <th>755</th>\n",
              "      <td>18393</td>\n",
              "      <td>1</td>\n",
              "    </tr>\n",
              "    <tr>\n",
              "      <th>756</th>\n",
              "      <td>18463</td>\n",
              "      <td>1</td>\n",
              "    </tr>\n",
              "    <tr>\n",
              "      <th>757</th>\n",
              "      <td>20744</td>\n",
              "      <td>1</td>\n",
              "    </tr>\n",
              "  </tbody>\n",
              "</table>\n",
              "<p>758 rows × 2 columns</p>\n",
              "</div>"
            ],
            "text/plain": [
              "     rating_count  successful_sold\n",
              "0               1                0\n",
              "1               2                0\n",
              "2               3                0\n",
              "3               4                0\n",
              "4               5                0\n",
              "..            ...              ...\n",
              "753         17444                1\n",
              "754         17980                1\n",
              "755         18393                1\n",
              "756         18463                1\n",
              "757         20744                1\n",
              "\n",
              "[758 rows x 2 columns]"
            ]
          },
          "metadata": {},
          "execution_count": 205
        }
      ]
    },
    {
      "cell_type": "code",
      "metadata": {
        "id": "RtLFS5PqX0A2",
        "outputId": "17d819a3-0be8-4168-f677-50fe3274d65e",
        "colab": {
          "base_uri": "https://localhost:8080/"
        }
      },
      "source": [
        "for i, j in enumerate(rating['successful_sold']):\n",
        "  if j == 1:\n",
        "    r_list = rating.iloc[i,0]\n",
        "    print(r_list)"
      ],
      "execution_count": 206,
      "outputs": [
        {
          "output_type": "stream",
          "name": "stdout",
          "text": [
            "32\n",
            "127\n",
            "219\n",
            "247\n",
            "249\n",
            "283\n",
            "296\n",
            "299\n",
            "309\n",
            "320\n",
            "337\n",
            "346\n",
            "355\n",
            "371\n",
            "377\n",
            "387\n",
            "392\n",
            "397\n",
            "402\n",
            "418\n",
            "425\n",
            "429\n",
            "434\n",
            "449\n",
            "478\n",
            "487\n",
            "494\n",
            "496\n",
            "501\n",
            "506\n",
            "518\n",
            "529\n",
            "531\n",
            "536\n",
            "538\n",
            "542\n",
            "548\n",
            "549\n",
            "550\n",
            "555\n",
            "556\n",
            "567\n",
            "569\n",
            "573\n",
            "574\n",
            "581\n",
            "585\n",
            "588\n",
            "593\n",
            "601\n",
            "609\n",
            "613\n",
            "615\n",
            "616\n",
            "632\n",
            "639\n",
            "643\n",
            "644\n",
            "647\n",
            "654\n",
            "661\n",
            "663\n",
            "666\n",
            "667\n",
            "669\n",
            "677\n",
            "686\n",
            "692\n",
            "697\n",
            "701\n",
            "728\n",
            "734\n",
            "740\n",
            "747\n",
            "756\n",
            "757\n",
            "761\n",
            "763\n",
            "770\n",
            "774\n",
            "777\n",
            "783\n",
            "784\n",
            "787\n",
            "788\n",
            "792\n",
            "793\n",
            "797\n",
            "798\n",
            "813\n",
            "817\n",
            "824\n",
            "825\n",
            "829\n",
            "830\n",
            "835\n",
            "840\n",
            "844\n",
            "846\n",
            "864\n",
            "869\n",
            "870\n",
            "878\n",
            "883\n",
            "887\n",
            "889\n",
            "893\n",
            "894\n",
            "904\n",
            "907\n",
            "908\n",
            "912\n",
            "917\n",
            "920\n",
            "922\n",
            "936\n",
            "939\n",
            "940\n",
            "951\n",
            "957\n",
            "958\n",
            "980\n",
            "983\n",
            "985\n",
            "996\n",
            "998\n",
            "999\n",
            "1002\n",
            "1004\n",
            "1008\n",
            "1010\n",
            "1013\n",
            "1017\n",
            "1020\n",
            "1022\n",
            "1038\n",
            "1042\n",
            "1046\n",
            "1052\n",
            "1057\n",
            "1058\n",
            "1072\n",
            "1080\n",
            "1087\n",
            "1095\n",
            "1103\n",
            "1116\n",
            "1120\n",
            "1124\n",
            "1136\n",
            "1153\n",
            "1161\n",
            "1163\n",
            "1165\n",
            "1166\n",
            "1167\n",
            "1169\n",
            "1179\n",
            "1183\n",
            "1184\n",
            "1185\n",
            "1212\n",
            "1224\n",
            "1229\n",
            "1231\n",
            "1232\n",
            "1238\n",
            "1244\n",
            "1248\n",
            "1254\n",
            "1257\n",
            "1269\n",
            "1273\n",
            "1276\n",
            "1285\n",
            "1316\n",
            "1322\n",
            "1329\n",
            "1331\n",
            "1336\n",
            "1338\n",
            "1352\n",
            "1355\n",
            "1366\n",
            "1367\n",
            "1401\n",
            "1404\n",
            "1412\n",
            "1416\n",
            "1426\n",
            "1433\n",
            "1444\n",
            "1458\n",
            "1467\n",
            "1473\n",
            "1479\n",
            "1496\n",
            "1512\n",
            "1514\n",
            "1520\n",
            "1524\n",
            "1530\n",
            "1546\n",
            "1554\n",
            "1556\n",
            "1559\n",
            "1561\n",
            "1571\n",
            "1586\n",
            "1589\n",
            "1594\n",
            "1600\n",
            "1631\n",
            "1642\n",
            "1649\n",
            "1650\n",
            "1669\n",
            "1670\n",
            "1694\n",
            "1711\n",
            "1715\n",
            "1717\n",
            "1721\n",
            "1741\n",
            "1742\n",
            "1754\n",
            "1773\n",
            "1780\n",
            "1783\n",
            "1786\n",
            "1792\n",
            "1797\n",
            "1799\n",
            "1838\n",
            "1858\n",
            "1860\n",
            "1863\n",
            "1892\n",
            "1897\n",
            "1903\n",
            "1910\n",
            "1926\n",
            "1933\n",
            "1938\n",
            "1941\n",
            "1958\n",
            "1978\n",
            "1982\n",
            "2006\n",
            "2010\n",
            "2015\n",
            "2019\n",
            "2050\n",
            "2055\n",
            "2066\n",
            "2068\n",
            "2069\n",
            "2072\n",
            "2082\n",
            "2090\n",
            "2092\n",
            "2102\n",
            "2107\n",
            "2148\n",
            "2150\n",
            "2151\n",
            "2159\n",
            "2160\n",
            "2182\n",
            "2187\n",
            "2189\n",
            "2191\n",
            "2211\n",
            "2253\n",
            "2294\n",
            "2328\n",
            "2360\n",
            "2366\n",
            "2396\n",
            "2404\n",
            "2407\n",
            "2409\n",
            "2422\n",
            "2427\n",
            "2440\n",
            "2441\n",
            "2457\n",
            "2464\n",
            "2477\n",
            "2483\n",
            "2504\n",
            "2514\n",
            "2519\n",
            "2520\n",
            "2521\n",
            "2526\n",
            "2543\n",
            "2557\n",
            "2564\n",
            "2587\n",
            "2592\n",
            "2604\n",
            "2633\n",
            "2682\n",
            "2694\n",
            "2706\n",
            "2729\n",
            "2731\n",
            "2737\n",
            "2747\n",
            "2748\n",
            "2749\n",
            "2753\n",
            "2789\n",
            "2808\n",
            "2826\n",
            "2841\n",
            "2859\n",
            "2877\n",
            "2878\n",
            "2892\n",
            "2901\n",
            "2927\n",
            "2942\n",
            "2946\n",
            "2996\n",
            "3024\n",
            "3040\n",
            "3070\n",
            "3075\n",
            "3078\n",
            "3080\n",
            "3090\n",
            "3101\n",
            "3127\n",
            "3135\n",
            "3208\n",
            "3216\n",
            "3229\n",
            "3279\n",
            "3344\n",
            "3345\n",
            "3397\n",
            "3421\n",
            "3443\n",
            "3552\n",
            "3560\n",
            "3572\n",
            "3574\n",
            "3648\n",
            "3679\n",
            "3700\n",
            "3761\n",
            "3787\n",
            "3820\n",
            "3845\n",
            "3929\n",
            "3975\n",
            "4082\n",
            "4137\n",
            "4215\n",
            "4266\n",
            "4304\n",
            "4345\n",
            "4367\n",
            "4378\n",
            "4421\n",
            "4657\n",
            "4874\n",
            "5232\n",
            "5254\n",
            "5351\n",
            "5359\n",
            "5479\n",
            "5641\n",
            "5685\n",
            "5719\n",
            "5756\n",
            "5759\n",
            "5781\n",
            "5882\n",
            "5891\n",
            "5929\n",
            "6135\n",
            "6360\n",
            "6450\n",
            "6509\n",
            "6510\n",
            "6689\n",
            "6735\n",
            "6742\n",
            "6860\n",
            "7022\n",
            "7242\n",
            "7596\n",
            "7753\n",
            "7773\n",
            "8029\n",
            "8164\n",
            "8412\n",
            "8609\n",
            "8904\n",
            "8960\n",
            "8971\n",
            "9075\n",
            "9207\n",
            "9330\n",
            "9337\n",
            "10122\n",
            "10150\n",
            "10927\n",
            "11062\n",
            "11408\n",
            "11913\n",
            "12041\n",
            "12880\n",
            "13198\n",
            "13488\n",
            "13789\n",
            "14568\n",
            "17444\n",
            "17980\n",
            "18393\n",
            "18463\n",
            "20744\n"
          ]
        }
      ]
    },
    {
      "cell_type": "markdown",
      "metadata": {
        "id": "z5C-CSIQcZgJ"
      },
      "source": [
        "평가수가 적을경우 성공적으로 판매가 이루어 지기 힘들고 평가수가 높을수록 성공적인 판매에 가까워진다. 또한 일정 평가 수(200) 이상을 기록하면 성공적인 판매로 이루어지는것이 빈번해지기 시작함을 알 수 있다."
      ]
    },
    {
      "cell_type": "markdown",
      "metadata": {
        "id": "VmcH4q70dyQU"
      },
      "source": [
        "## 가설3. 평가수가 많은 사람들은 뱃지를 가지고 있을것이다. < - > 뱃지를 가지고 있는사람은 평가수가 높을것이다."
      ]
    },
    {
      "cell_type": "code",
      "metadata": {
        "id": "AsAV5xEOiQnQ",
        "outputId": "56f758db-0a34-4f0d-8521-5055c637d3d7",
        "colab": {
          "base_uri": "https://localhost:8080/",
          "height": 303
        }
      },
      "source": [
        "sns.scatterplot(x = df['badges_count'], y = df['rating_count'], alpha = 0.3)"
      ],
      "execution_count": 207,
      "outputs": [
        {
          "output_type": "execute_result",
          "data": {
            "text/plain": [
              "<matplotlib.axes._subplots.AxesSubplot at 0x7f89ecd82d90>"
            ]
          },
          "metadata": {},
          "execution_count": 207
        },
        {
          "output_type": "display_data",
          "data": {
            "image/png": "[encoded data removed]",
            "text/plain": [
              "<Figure size 432x288 with 1 Axes>"
            ]
          },
          "metadata": {
            "needs_background": "light"
          }
        }
      ]
    },
    {
      "cell_type": "markdown",
      "metadata": {
        "id": "vxNaJKH8hVrI"
      },
      "source": [
        "평가수가 많다고 해서 뱃지를 가지고 있을것이라는것은 비례하지않다."
      ]
    },
    {
      "cell_type": "markdown",
      "metadata": {
        "id": "CmTuDRFH1Fk-"
      },
      "source": [
        "## 가설4. 평점이 높을수록 판매량이 높을 것이다."
      ]
    },
    {
      "cell_type": "code",
      "metadata": {
        "id": "2zDEm3Kmgm42",
        "colab": {
          "base_uri": "https://localhost:8080/",
          "height": 450
        },
        "outputId": "cd6283c9-7857-4bd3-a1df-64a91b165d2b"
      },
      "source": [
        "plt.figure(figsize = (12,6));\n",
        "sns.countplot(df['rating'], hue = df['successful_sold']);"
      ],
      "execution_count": 208,
      "outputs": [
        {
          "output_type": "stream",
          "name": "stderr",
          "text": [
            "/usr/local/lib/python3.7/dist-packages/seaborn/_decorators.py:43: FutureWarning: Pass the following variable as a keyword arg: x. From version 0.12, the only valid positional argument will be `data`, and passing other arguments without an explicit keyword will result in an error or misinterpretation.\n",
            "  FutureWarning\n"
          ]
        },
        {
          "output_type": "display_data",
          "data": {
            "image/png": "[encoded data removed]",
            "text/plain": [
              "<Figure size 864x432 with 1 Axes>"
            ]
          },
          "metadata": {
            "needs_background": "light"
          }
        }
      ]
    },
    {
      "cell_type": "markdown",
      "metadata": {
        "id": "p6QhmOVB2Gbv"
      },
      "source": [
        "평점이 무조건 높다고 성공적인 판매를 기록하는것은 아닌것 같다. 그 이유는 무엇일까??"
      ]
    },
    {
      "cell_type": "code",
      "metadata": {
        "id": "KNq2X8kA2GPr",
        "colab": {
          "base_uri": "https://localhost:8080/",
          "height": 1000
        },
        "outputId": "85f861e4-e889-46cd-f5c4-77112d76a611"
      },
      "source": [
        "df[df['rating']==5.0]"
      ],
      "execution_count": 209,
      "outputs": [
        {
          "output_type": "execute_result",
          "data": {
            "text/html": [
              "<div>\n",
              "<style scoped>\n",
              "    .dataframe tbody tr th:only-of-type {\n",
              "        vertical-align: middle;\n",
              "    }\n",
              "\n",
              "    .dataframe tbody tr th {\n",
              "        vertical-align: top;\n",
              "    }\n",
              "\n",
              "    .dataframe thead th {\n",
              "        text-align: right;\n",
              "    }\n",
              "</style>\n",
              "<table border=\"1\" class=\"dataframe\">\n",
              "  <thead>\n",
              "    <tr style=\"text-align: right;\">\n",
              "      <th></th>\n",
              "      <th>title</th>\n",
              "      <th>price</th>\n",
              "      <th>uses_ad_boosts</th>\n",
              "      <th>rating</th>\n",
              "      <th>rating_count</th>\n",
              "      <th>rating_five_count</th>\n",
              "      <th>rating_four_count</th>\n",
              "      <th>rating_three_count</th>\n",
              "      <th>rating_two_count</th>\n",
              "      <th>rating_one_count</th>\n",
              "      <th>badges_count</th>\n",
              "      <th>badge_local_product</th>\n",
              "      <th>badge_product_quality</th>\n",
              "      <th>badge_fast_shipping</th>\n",
              "      <th>tags</th>\n",
              "      <th>product_color</th>\n",
              "      <th>product_variation_inventory</th>\n",
              "      <th>quick_shipping</th>\n",
              "      <th>shipping_option_price</th>\n",
              "      <th>shipped_range</th>\n",
              "      <th>made_in_china</th>\n",
              "      <th>merchant_rating_count</th>\n",
              "      <th>merchant_rating</th>\n",
              "      <th>merchant_id</th>\n",
              "      <th>merchant_has_profile_picture</th>\n",
              "      <th>product_id</th>\n",
              "      <th>successful_sold</th>\n",
              "    </tr>\n",
              "  </thead>\n",
              "  <tbody>\n",
              "    <tr>\n",
              "      <th>5</th>\n",
              "      <td>Plus Size Summer Women Casual Sleeveless Rompe...</td>\n",
              "      <td>3.92</td>\n",
              "      <td>0</td>\n",
              "      <td>5.0</td>\n",
              "      <td>1</td>\n",
              "      <td>1.0</td>\n",
              "      <td>0.0</td>\n",
              "      <td>0.0</td>\n",
              "      <td>0.0</td>\n",
              "      <td>0.0</td>\n",
              "      <td>0</td>\n",
              "      <td>0</td>\n",
              "      <td>0</td>\n",
              "      <td>0</td>\n",
              "      <td>Deep V-Neck,Summer,Plus Size,Spaghetti Strap,O...</td>\n",
              "      <td>navyblue</td>\n",
              "      <td>1</td>\n",
              "      <td>0</td>\n",
              "      <td>1</td>\n",
              "      <td>0</td>\n",
              "      <td>1</td>\n",
              "      <td>65</td>\n",
              "      <td>3.507692</td>\n",
              "      <td>5e4b9c3801ba9d210036fc5a</td>\n",
              "      <td>0</td>\n",
              "      <td>5ec645bafd107a02279c8c54</td>\n",
              "      <td>0</td>\n",
              "    </tr>\n",
              "    <tr>\n",
              "      <th>61</th>\n",
              "      <td>Women s New Fashion Solid Color Pants Loose Ca...</td>\n",
              "      <td>5.00</td>\n",
              "      <td>1</td>\n",
              "      <td>5.0</td>\n",
              "      <td>2</td>\n",
              "      <td>2.0</td>\n",
              "      <td>0.0</td>\n",
              "      <td>0.0</td>\n",
              "      <td>0.0</td>\n",
              "      <td>0.0</td>\n",
              "      <td>0</td>\n",
              "      <td>0</td>\n",
              "      <td>0</td>\n",
              "      <td>0</td>\n",
              "      <td>Summer,Fashion,pants,widelegpant,Women's Fashi...</td>\n",
              "      <td>khaki</td>\n",
              "      <td>17</td>\n",
              "      <td>0</td>\n",
              "      <td>1</td>\n",
              "      <td>0</td>\n",
              "      <td>1</td>\n",
              "      <td>9</td>\n",
              "      <td>3.666667</td>\n",
              "      <td>5e4b6a0c57cc9b0b53e499a4</td>\n",
              "      <td>0</td>\n",
              "      <td>5eba6ecb9a9e129fb97b5dfd</td>\n",
              "      <td>0</td>\n",
              "    </tr>\n",
              "    <tr>\n",
              "      <th>116</th>\n",
              "      <td>Summer Casual Front Knot Cotton Sleeveless Irr...</td>\n",
              "      <td>7.00</td>\n",
              "      <td>0</td>\n",
              "      <td>5.0</td>\n",
              "      <td>2</td>\n",
              "      <td>2.0</td>\n",
              "      <td>0.0</td>\n",
              "      <td>0.0</td>\n",
              "      <td>0.0</td>\n",
              "      <td>0.0</td>\n",
              "      <td>0</td>\n",
              "      <td>0</td>\n",
              "      <td>0</td>\n",
              "      <td>0</td>\n",
              "      <td>Summer,Vest,Plus Size,Tank,Tops,V-neck,Fashion...</td>\n",
              "      <td>black</td>\n",
              "      <td>50</td>\n",
              "      <td>0</td>\n",
              "      <td>2</td>\n",
              "      <td>1</td>\n",
              "      <td>1</td>\n",
              "      <td>9703</td>\n",
              "      <td>3.970731</td>\n",
              "      <td>5a9e4f25e05388149703d9c8</td>\n",
              "      <td>0</td>\n",
              "      <td>5edf1267c771c4255ceee25d</td>\n",
              "      <td>0</td>\n",
              "    </tr>\n",
              "    <tr>\n",
              "      <th>123</th>\n",
              "      <td>Ladies Summer Tie Dye Print Short Sleeve Off S...</td>\n",
              "      <td>5.00</td>\n",
              "      <td>0</td>\n",
              "      <td>5.0</td>\n",
              "      <td>1</td>\n",
              "      <td>1.0</td>\n",
              "      <td>0.0</td>\n",
              "      <td>0.0</td>\n",
              "      <td>0.0</td>\n",
              "      <td>0.0</td>\n",
              "      <td>0</td>\n",
              "      <td>0</td>\n",
              "      <td>0</td>\n",
              "      <td>0</td>\n",
              "      <td>Summer,Plus Size,Tie Dye,tiedyeprint,Dyes,Dres...</td>\n",
              "      <td>yellow</td>\n",
              "      <td>5</td>\n",
              "      <td>0</td>\n",
              "      <td>2</td>\n",
              "      <td>1</td>\n",
              "      <td>1</td>\n",
              "      <td>4</td>\n",
              "      <td>3.750000</td>\n",
              "      <td>5e6771b33cce5a8dd4f6fd3c</td>\n",
              "      <td>0</td>\n",
              "      <td>5ed868776a5a342472182986</td>\n",
              "      <td>0</td>\n",
              "    </tr>\n",
              "    <tr>\n",
              "      <th>202</th>\n",
              "      <td>Short Sleeve Beach Dress Women Summer Print V ...</td>\n",
              "      <td>8.00</td>\n",
              "      <td>0</td>\n",
              "      <td>5.0</td>\n",
              "      <td>2</td>\n",
              "      <td>2.0</td>\n",
              "      <td>0.0</td>\n",
              "      <td>0.0</td>\n",
              "      <td>0.0</td>\n",
              "      <td>0.0</td>\n",
              "      <td>0</td>\n",
              "      <td>0</td>\n",
              "      <td>0</td>\n",
              "      <td>0</td>\n",
              "      <td>Summer,short sleeve dress,neck dress,Necks,Sle...</td>\n",
              "      <td>yellow</td>\n",
              "      <td>5</td>\n",
              "      <td>0</td>\n",
              "      <td>2</td>\n",
              "      <td>0</td>\n",
              "      <td>1</td>\n",
              "      <td>127</td>\n",
              "      <td>3.874016</td>\n",
              "      <td>5eb51ed929e7865dc268a561</td>\n",
              "      <td>0</td>\n",
              "      <td>5ec1e63f7abee20ab93c68f2</td>\n",
              "      <td>0</td>\n",
              "    </tr>\n",
              "    <tr>\n",
              "      <th>287</th>\n",
              "      <td>Fashion Crop Top for Women Spaghetti Strap V N...</td>\n",
              "      <td>5.00</td>\n",
              "      <td>0</td>\n",
              "      <td>5.0</td>\n",
              "      <td>2</td>\n",
              "      <td>2.0</td>\n",
              "      <td>0.0</td>\n",
              "      <td>0.0</td>\n",
              "      <td>0.0</td>\n",
              "      <td>0.0</td>\n",
              "      <td>0</td>\n",
              "      <td>0</td>\n",
              "      <td>0</td>\n",
              "      <td>0</td>\n",
              "      <td>Summer,Plus Size,crop top,clubwear,Tank,Tops,S...</td>\n",
              "      <td>black</td>\n",
              "      <td>13</td>\n",
              "      <td>0</td>\n",
              "      <td>2</td>\n",
              "      <td>1</td>\n",
              "      <td>1</td>\n",
              "      <td>5316</td>\n",
              "      <td>4.224605</td>\n",
              "      <td>5b507899ab577736508a0782</td>\n",
              "      <td>0</td>\n",
              "      <td>5ea27636bea0a409031ae82f</td>\n",
              "      <td>0</td>\n",
              "    </tr>\n",
              "    <tr>\n",
              "      <th>292</th>\n",
              "      <td>Summer New Europe and The United States Sexy R...</td>\n",
              "      <td>8.00</td>\n",
              "      <td>0</td>\n",
              "      <td>5.0</td>\n",
              "      <td>13</td>\n",
              "      <td>13.0</td>\n",
              "      <td>0.0</td>\n",
              "      <td>0.0</td>\n",
              "      <td>0.0</td>\n",
              "      <td>0.0</td>\n",
              "      <td>0</td>\n",
              "      <td>0</td>\n",
              "      <td>0</td>\n",
              "      <td>0</td>\n",
              "      <td>Summer,Flowers,Necks,printed,Pocket,fashion dr...</td>\n",
              "      <td>yellow</td>\n",
              "      <td>50</td>\n",
              "      <td>0</td>\n",
              "      <td>2</td>\n",
              "      <td>0</td>\n",
              "      <td>1</td>\n",
              "      <td>138</td>\n",
              "      <td>3.659420</td>\n",
              "      <td>5d50fb2b1d9a8e23e3334c81</td>\n",
              "      <td>0</td>\n",
              "      <td>5ef0ef11f30aba4e22166d4b</td>\n",
              "      <td>0</td>\n",
              "    </tr>\n",
              "    <tr>\n",
              "      <th>306</th>\n",
              "      <td>Anti-Fog Summer Swimming Full Face Mask Surfac...</td>\n",
              "      <td>14.00</td>\n",
              "      <td>0</td>\n",
              "      <td>5.0</td>\n",
              "      <td>1</td>\n",
              "      <td>1.0</td>\n",
              "      <td>0.0</td>\n",
              "      <td>0.0</td>\n",
              "      <td>0.0</td>\n",
              "      <td>0.0</td>\n",
              "      <td>0</td>\n",
              "      <td>0</td>\n",
              "      <td>0</td>\n",
              "      <td>0</td>\n",
              "      <td>divingsnorkel,divingmask,Summer,divingequipmen...</td>\n",
              "      <td>pink</td>\n",
              "      <td>5</td>\n",
              "      <td>0</td>\n",
              "      <td>3</td>\n",
              "      <td>1</td>\n",
              "      <td>1</td>\n",
              "      <td>9217</td>\n",
              "      <td>4.173050</td>\n",
              "      <td>569f3031b3d90139e3c5a407</td>\n",
              "      <td>0</td>\n",
              "      <td>5e90074a5dd4013b350b81e4</td>\n",
              "      <td>0</td>\n",
              "    </tr>\n",
              "    <tr>\n",
              "      <th>345</th>\n",
              "      <td>2020 New Upgrade 170/150/100/30CM Inflatable S...</td>\n",
              "      <td>11.00</td>\n",
              "      <td>0</td>\n",
              "      <td>5.0</td>\n",
              "      <td>3</td>\n",
              "      <td>3.0</td>\n",
              "      <td>0.0</td>\n",
              "      <td>0.0</td>\n",
              "      <td>0.0</td>\n",
              "      <td>0.0</td>\n",
              "      <td>0</td>\n",
              "      <td>0</td>\n",
              "      <td>0</td>\n",
              "      <td>0</td>\n",
              "      <td>Summer,children39stoy,Outdoor,summerswimming,s...</td>\n",
              "      <td>blue</td>\n",
              "      <td>3</td>\n",
              "      <td>0</td>\n",
              "      <td>2</td>\n",
              "      <td>1</td>\n",
              "      <td>1</td>\n",
              "      <td>299</td>\n",
              "      <td>4.247492</td>\n",
              "      <td>5d58d3b433f0b4349bbe941f</td>\n",
              "      <td>0</td>\n",
              "      <td>5ed3bc0f48c418059f206943</td>\n",
              "      <td>0</td>\n",
              "    </tr>\n",
              "    <tr>\n",
              "      <th>702</th>\n",
              "      <td>2020 Summer Men's Classic Shorts Multi-pocket ...</td>\n",
              "      <td>7.00</td>\n",
              "      <td>0</td>\n",
              "      <td>5.0</td>\n",
              "      <td>2</td>\n",
              "      <td>2.0</td>\n",
              "      <td>0.0</td>\n",
              "      <td>0.0</td>\n",
              "      <td>0.0</td>\n",
              "      <td>0.0</td>\n",
              "      <td>0</td>\n",
              "      <td>0</td>\n",
              "      <td>0</td>\n",
              "      <td>0</td>\n",
              "      <td>joggingpant,Shorts,Casual pants,pants,Summer,O...</td>\n",
              "      <td>grey</td>\n",
              "      <td>2</td>\n",
              "      <td>0</td>\n",
              "      <td>2</td>\n",
              "      <td>0</td>\n",
              "      <td>1</td>\n",
              "      <td>46</td>\n",
              "      <td>3.608696</td>\n",
              "      <td>5e2ecb9deed5087a7ba2f5f7</td>\n",
              "      <td>0</td>\n",
              "      <td>5eeef4c4066647a9388a8ac2</td>\n",
              "      <td>0</td>\n",
              "    </tr>\n",
              "    <tr>\n",
              "      <th>713</th>\n",
              "      <td>M-XXL Size Summer New Ladies Butterfly Printin...</td>\n",
              "      <td>8.00</td>\n",
              "      <td>0</td>\n",
              "      <td>5.0</td>\n",
              "      <td>1</td>\n",
              "      <td>1.0</td>\n",
              "      <td>0.0</td>\n",
              "      <td>0.0</td>\n",
              "      <td>0.0</td>\n",
              "      <td>0.0</td>\n",
              "      <td>0</td>\n",
              "      <td>0</td>\n",
              "      <td>0</td>\n",
              "      <td>0</td>\n",
              "      <td>butterfly,Summer,printeddre,halter dress,dress...</td>\n",
              "      <td>white</td>\n",
              "      <td>50</td>\n",
              "      <td>0</td>\n",
              "      <td>3</td>\n",
              "      <td>1</td>\n",
              "      <td>1</td>\n",
              "      <td>6348</td>\n",
              "      <td>4.248582</td>\n",
              "      <td>581c54c4dd99164b808ca531</td>\n",
              "      <td>0</td>\n",
              "      <td>5eec6643d6854068e20df558</td>\n",
              "      <td>0</td>\n",
              "    </tr>\n",
              "    <tr>\n",
              "      <th>834</th>\n",
              "      <td>Summer New Women Casual Sleeveless  Jumpsuits ...</td>\n",
              "      <td>6.00</td>\n",
              "      <td>1</td>\n",
              "      <td>5.0</td>\n",
              "      <td>2</td>\n",
              "      <td>2.0</td>\n",
              "      <td>0.0</td>\n",
              "      <td>0.0</td>\n",
              "      <td>0.0</td>\n",
              "      <td>0.0</td>\n",
              "      <td>0</td>\n",
              "      <td>0</td>\n",
              "      <td>0</td>\n",
              "      <td>0</td>\n",
              "      <td>Summer,casualjumpsuit,summerjumpsuit,cottonble...</td>\n",
              "      <td>black</td>\n",
              "      <td>1</td>\n",
              "      <td>0</td>\n",
              "      <td>2</td>\n",
              "      <td>0</td>\n",
              "      <td>1</td>\n",
              "      <td>28</td>\n",
              "      <td>4.035714</td>\n",
              "      <td>5e4f6a3a29e786346774bcce</td>\n",
              "      <td>0</td>\n",
              "      <td>5ed8b757c840df324c7796aa</td>\n",
              "      <td>0</td>\n",
              "    </tr>\n",
              "    <tr>\n",
              "      <th>949</th>\n",
              "      <td>NEW Summer Women s Fashion Loose Shorts Elasti...</td>\n",
              "      <td>3.71</td>\n",
              "      <td>0</td>\n",
              "      <td>5.0</td>\n",
              "      <td>1</td>\n",
              "      <td>1.0</td>\n",
              "      <td>0.0</td>\n",
              "      <td>0.0</td>\n",
              "      <td>0.0</td>\n",
              "      <td>0.0</td>\n",
              "      <td>0</td>\n",
              "      <td>0</td>\n",
              "      <td>0</td>\n",
              "      <td>0</td>\n",
              "      <td>Summer,baggyshort,Shorts,Waist,Elastic,beachpa...</td>\n",
              "      <td>black</td>\n",
              "      <td>15</td>\n",
              "      <td>0</td>\n",
              "      <td>1</td>\n",
              "      <td>1</td>\n",
              "      <td>1</td>\n",
              "      <td>60</td>\n",
              "      <td>4.200000</td>\n",
              "      <td>5d594543cf65033850311c11</td>\n",
              "      <td>0</td>\n",
              "      <td>5efc475047f98d45ef7fa1f2</td>\n",
              "      <td>0</td>\n",
              "    </tr>\n",
              "    <tr>\n",
              "      <th>967</th>\n",
              "      <td>Sexy Women's Summer Casual Sleeveless Evening ...</td>\n",
              "      <td>2.89</td>\n",
              "      <td>0</td>\n",
              "      <td>5.0</td>\n",
              "      <td>1</td>\n",
              "      <td>1.0</td>\n",
              "      <td>0.0</td>\n",
              "      <td>0.0</td>\n",
              "      <td>0.0</td>\n",
              "      <td>0.0</td>\n",
              "      <td>0</td>\n",
              "      <td>0</td>\n",
              "      <td>0</td>\n",
              "      <td>0</td>\n",
              "      <td>Mini,womens dresses,Summer,Patchwork,Dress,Min...</td>\n",
              "      <td>green</td>\n",
              "      <td>1</td>\n",
              "      <td>0</td>\n",
              "      <td>1</td>\n",
              "      <td>0</td>\n",
              "      <td>1</td>\n",
              "      <td>30</td>\n",
              "      <td>3.733333</td>\n",
              "      <td>5e535f1b397cba44cf1118d8</td>\n",
              "      <td>0</td>\n",
              "      <td>5eba5b1c29367c77b5c0eb35</td>\n",
              "      <td>0</td>\n",
              "    </tr>\n",
              "    <tr>\n",
              "      <th>1009</th>\n",
              "      <td>New Women Fashion Shorts Yoga Shorts Summer Be...</td>\n",
              "      <td>11.00</td>\n",
              "      <td>1</td>\n",
              "      <td>5.0</td>\n",
              "      <td>1</td>\n",
              "      <td>1.0</td>\n",
              "      <td>0.0</td>\n",
              "      <td>0.0</td>\n",
              "      <td>0.0</td>\n",
              "      <td>0.0</td>\n",
              "      <td>0</td>\n",
              "      <td>0</td>\n",
              "      <td>0</td>\n",
              "      <td>0</td>\n",
              "      <td>Summer,elastic waist,Yoga,pants,Shorts,Beach,b...</td>\n",
              "      <td>black</td>\n",
              "      <td>15</td>\n",
              "      <td>0</td>\n",
              "      <td>3</td>\n",
              "      <td>1</td>\n",
              "      <td>1</td>\n",
              "      <td>8685</td>\n",
              "      <td>4.140702</td>\n",
              "      <td>58b569edfc743d5072bcd4d9</td>\n",
              "      <td>0</td>\n",
              "      <td>5ef858a0d41d4c085fb829e6</td>\n",
              "      <td>0</td>\n",
              "    </tr>\n",
              "    <tr>\n",
              "      <th>1202</th>\n",
              "      <td>Summer Casual Front Knot Cotton Sleeveless Irr...</td>\n",
              "      <td>2.69</td>\n",
              "      <td>0</td>\n",
              "      <td>5.0</td>\n",
              "      <td>1</td>\n",
              "      <td>1.0</td>\n",
              "      <td>0.0</td>\n",
              "      <td>0.0</td>\n",
              "      <td>0.0</td>\n",
              "      <td>0.0</td>\n",
              "      <td>0</td>\n",
              "      <td>0</td>\n",
              "      <td>0</td>\n",
              "      <td>0</td>\n",
              "      <td>Summer,Vest,Plus Size,Tank,Tops,V-neck,Fashion...</td>\n",
              "      <td>purple</td>\n",
              "      <td>50</td>\n",
              "      <td>0</td>\n",
              "      <td>1</td>\n",
              "      <td>1</td>\n",
              "      <td>1</td>\n",
              "      <td>7218</td>\n",
              "      <td>4.247714</td>\n",
              "      <td>5c077d9e80508524a1cb3315</td>\n",
              "      <td>0</td>\n",
              "      <td>5edf1268a464d32423613a5e</td>\n",
              "      <td>0</td>\n",
              "    </tr>\n",
              "  </tbody>\n",
              "</table>\n",
              "</div>"
            ],
            "text/plain": [
              "                                                  title  ...  successful_sold\n",
              "5     Plus Size Summer Women Casual Sleeveless Rompe...  ...                0\n",
              "61    Women s New Fashion Solid Color Pants Loose Ca...  ...                0\n",
              "116   Summer Casual Front Knot Cotton Sleeveless Irr...  ...                0\n",
              "123   Ladies Summer Tie Dye Print Short Sleeve Off S...  ...                0\n",
              "202   Short Sleeve Beach Dress Women Summer Print V ...  ...                0\n",
              "287   Fashion Crop Top for Women Spaghetti Strap V N...  ...                0\n",
              "292   Summer New Europe and The United States Sexy R...  ...                0\n",
              "306   Anti-Fog Summer Swimming Full Face Mask Surfac...  ...                0\n",
              "345   2020 New Upgrade 170/150/100/30CM Inflatable S...  ...                0\n",
              "702   2020 Summer Men's Classic Shorts Multi-pocket ...  ...                0\n",
              "713   M-XXL Size Summer New Ladies Butterfly Printin...  ...                0\n",
              "834   Summer New Women Casual Sleeveless  Jumpsuits ...  ...                0\n",
              "949   NEW Summer Women s Fashion Loose Shorts Elasti...  ...                0\n",
              "967   Sexy Women's Summer Casual Sleeveless Evening ...  ...                0\n",
              "1009  New Women Fashion Shorts Yoga Shorts Summer Be...  ...                0\n",
              "1202  Summer Casual Front Knot Cotton Sleeveless Irr...  ...                0\n",
              "\n",
              "[16 rows x 27 columns]"
            ]
          },
          "metadata": {},
          "execution_count": 209
        }
      ]
    },
    {
      "cell_type": "code",
      "metadata": {
        "id": "ONC7K2U01aa3",
        "colab": {
          "base_uri": "https://localhost:8080/",
          "height": 359
        },
        "outputId": "c31e1a1a-9344-4684-ee34-5b1dd43670f0"
      },
      "source": [
        "sns.scatterplot(df['rating'], df['rating_count'], alpha =0.5)"
      ],
      "execution_count": 210,
      "outputs": [
        {
          "output_type": "stream",
          "name": "stderr",
          "text": [
            "/usr/local/lib/python3.7/dist-packages/seaborn/_decorators.py:43: FutureWarning: Pass the following variables as keyword args: x, y. From version 0.12, the only valid positional argument will be `data`, and passing other arguments without an explicit keyword will result in an error or misinterpretation.\n",
            "  FutureWarning\n"
          ]
        },
        {
          "output_type": "execute_result",
          "data": {
            "text/plain": [
              "<matplotlib.axes._subplots.AxesSubplot at 0x7f89ec8e9f50>"
            ]
          },
          "metadata": {},
          "execution_count": 210
        },
        {
          "output_type": "display_data",
          "data": {
            "image/png": "[encoded data removed]",
            "text/plain": [
              "<Figure size 432x288 with 1 Axes>"
            ]
          },
          "metadata": {
            "needs_background": "light"
          }
        }
      ]
    },
    {
      "cell_type": "markdown",
      "metadata": {
        "id": "mIdxt-GfBBKq"
      },
      "source": [
        "평점이 5점인 것의 총 평가 수를 보면 극히 일부의 고객이 5점을 평가한것으로 정말 소수가 5점을 주어서 평균 평점이 5점으로 나온것으로 확인이 된다. 따라서 평점이 무조건 높다고 판매가 잘되는것은 아니고, 오히려 가설2에서 언급한것 처럼 평가 수 가 많은것이 성공적인 판매에 더 가깝고 상관관계가 높다."
      ]
    },
    {
      "cell_type": "markdown",
      "metadata": {
        "id": "lM1jXUwX5o4M"
      },
      "source": [
        "## 가설5. 뱃지가 많을 수록 판매량이 높을 것이다."
      ]
    },
    {
      "cell_type": "code",
      "metadata": {
        "id": "tmj5VvnL4_JM",
        "colab": {
          "base_uri": "https://localhost:8080/",
          "height": 359
        },
        "outputId": "a72b2057-ac3e-40f2-839a-9eb91df08d76"
      },
      "source": [
        "sns.barplot(df['badges_count'], df['successful_sold'])"
      ],
      "execution_count": 211,
      "outputs": [
        {
          "output_type": "stream",
          "name": "stderr",
          "text": [
            "/usr/local/lib/python3.7/dist-packages/seaborn/_decorators.py:43: FutureWarning: Pass the following variables as keyword args: x, y. From version 0.12, the only valid positional argument will be `data`, and passing other arguments without an explicit keyword will result in an error or misinterpretation.\n",
            "  FutureWarning\n"
          ]
        },
        {
          "output_type": "execute_result",
          "data": {
            "text/plain": [
              "<matplotlib.axes._subplots.AxesSubplot at 0x7f89ecf054d0>"
            ]
          },
          "metadata": {},
          "execution_count": 211
        },
        {
          "output_type": "display_data",
          "data": {
            "image/png": "[encoded data removed]",
            "text/plain": [
              "<Figure size 432x288 with 1 Axes>"
            ]
          },
          "metadata": {
            "needs_background": "light"
          }
        }
      ]
    },
    {
      "cell_type": "code",
      "metadata": {
        "id": "JF6hoP8U-jWl",
        "colab": {
          "base_uri": "https://localhost:8080/"
        },
        "outputId": "0bfbe78a-3920-45bd-d309-3706a2a6d00a"
      },
      "source": [
        "print('뱃지0개',len(df[df['badges_count']==0]))\n",
        "print('뱃지1개',len(df[df['badges_count']==1]))\n",
        "print('뱃지2개',len(df[df['badges_count']==2]))\n",
        "print('뱃지3개',len(df[df['badges_count']==3]))"
      ],
      "execution_count": 212,
      "outputs": [
        {
          "output_type": "stream",
          "name": "stdout",
          "text": [
            "뱃지0개 1160\n",
            "뱃지1개 121\n",
            "뱃지2개 10\n",
            "뱃지3개 1\n"
          ]
        }
      ]
    },
    {
      "cell_type": "code",
      "metadata": {
        "id": "lboHdcDfBfAY",
        "colab": {
          "base_uri": "https://localhost:8080/",
          "height": 204
        },
        "outputId": "d4602875-ada0-4470-9213-03b19ddf7568"
      },
      "source": [
        "pd.DataFrame(df.groupby('badges_count')['successful_sold'].sum())"
      ],
      "execution_count": 213,
      "outputs": [
        {
          "output_type": "execute_result",
          "data": {
            "text/html": [
              "<div>\n",
              "<style scoped>\n",
              "    .dataframe tbody tr th:only-of-type {\n",
              "        vertical-align: middle;\n",
              "    }\n",
              "\n",
              "    .dataframe tbody tr th {\n",
              "        vertical-align: top;\n",
              "    }\n",
              "\n",
              "    .dataframe thead th {\n",
              "        text-align: right;\n",
              "    }\n",
              "</style>\n",
              "<table border=\"1\" class=\"dataframe\">\n",
              "  <thead>\n",
              "    <tr style=\"text-align: right;\">\n",
              "      <th></th>\n",
              "      <th>successful_sold</th>\n",
              "    </tr>\n",
              "    <tr>\n",
              "      <th>badges_count</th>\n",
              "      <th></th>\n",
              "    </tr>\n",
              "  </thead>\n",
              "  <tbody>\n",
              "    <tr>\n",
              "      <th>0</th>\n",
              "      <td>419</td>\n",
              "    </tr>\n",
              "    <tr>\n",
              "      <th>1</th>\n",
              "      <td>62</td>\n",
              "    </tr>\n",
              "    <tr>\n",
              "      <th>2</th>\n",
              "      <td>1</td>\n",
              "    </tr>\n",
              "    <tr>\n",
              "      <th>3</th>\n",
              "      <td>1</td>\n",
              "    </tr>\n",
              "  </tbody>\n",
              "</table>\n",
              "</div>"
            ],
            "text/plain": [
              "              successful_sold\n",
              "badges_count                 \n",
              "0                         419\n",
              "1                          62\n",
              "2                           1\n",
              "3                           1"
            ]
          },
          "metadata": {},
          "execution_count": 213
        }
      ]
    },
    {
      "cell_type": "code",
      "metadata": {
        "id": "TLQs014PP2Uh",
        "colab": {
          "base_uri": "https://localhost:8080/"
        },
        "outputId": "3f94696c-4a29-40bc-ad5e-35858f82cbd5"
      },
      "source": [
        "# 정규성 검정\n",
        "from scipy import stats\n",
        "\n",
        "x = df.loc[df['badges_count']==0]['successful_sold']\n",
        "y = df.loc[df['badges_count']==1]['successful_sold']\n",
        "z = df.loc[df['badges_count']==2]['successful_sold']\n",
        "\n",
        "print(stats.ks_2samp(x, y), stats.ks_2samp(x,z), stats.ks_2samp(y, z), sep = '\\n')"
      ],
      "execution_count": 214,
      "outputs": [
        {
          "output_type": "stream",
          "name": "stdout",
          "text": [
            "Ks_2sampResult(statistic=0.15118979766315188, pvalue=0.011808591312832517)\n",
            "Ks_2sampResult(statistic=0.26120689655172413, pvalue=0.43586613034650057)\n",
            "Ks_2sampResult(statistic=0.412396694214876, pvalue=0.06101064185235505)\n"
          ]
        }
      ]
    },
    {
      "cell_type": "code",
      "metadata": {
        "id": "0BFjW-y6P2SH",
        "colab": {
          "base_uri": "https://localhost:8080/"
        },
        "outputId": "2dd128ca-38be-4af2-89c3-1521d227fd8a"
      },
      "source": [
        "stats.kruskal(x, y, z)"
      ],
      "execution_count": 215,
      "outputs": [
        {
          "output_type": "execute_result",
          "data": {
            "text/plain": [
              "KruskalResult(statistic=13.91318002014446, pvalue=0.0009523385086404081)"
            ]
          },
          "metadata": {},
          "execution_count": 215
        }
      ]
    },
    {
      "cell_type": "code",
      "metadata": {
        "id": "d_j2r4l1P2PV",
        "colab": {
          "base_uri": "https://localhost:8080/",
          "height": 173
        },
        "outputId": "f12db0e7-6dca-4015-828d-b2fb02e7ab6f"
      },
      "source": [
        "import scikit_posthocs as sp\n",
        "sp.posthoc_conover(df,\n",
        "                   val_col = 'successful_sold',\n",
        "                   group_col = 'badges_count',\n",
        "                   p_adjust = 'holm')"
      ],
      "execution_count": 216,
      "outputs": [
        {
          "output_type": "execute_result",
          "data": {
            "text/html": [
              "<div>\n",
              "<style scoped>\n",
              "    .dataframe tbody tr th:only-of-type {\n",
              "        vertical-align: middle;\n",
              "    }\n",
              "\n",
              "    .dataframe tbody tr th {\n",
              "        vertical-align: top;\n",
              "    }\n",
              "\n",
              "    .dataframe thead th {\n",
              "        text-align: right;\n",
              "    }\n",
              "</style>\n",
              "<table border=\"1\" class=\"dataframe\">\n",
              "  <thead>\n",
              "    <tr style=\"text-align: right;\">\n",
              "      <th></th>\n",
              "      <th>0</th>\n",
              "      <th>1</th>\n",
              "      <th>2</th>\n",
              "      <th>3</th>\n",
              "    </tr>\n",
              "  </thead>\n",
              "  <tbody>\n",
              "    <tr>\n",
              "      <th>0</th>\n",
              "      <td>1.000000</td>\n",
              "      <td>0.006265</td>\n",
              "      <td>0.300163</td>\n",
              "      <td>0.370336</td>\n",
              "    </tr>\n",
              "    <tr>\n",
              "      <th>1</th>\n",
              "      <td>0.006265</td>\n",
              "      <td>1.000000</td>\n",
              "      <td>0.046838</td>\n",
              "      <td>0.370336</td>\n",
              "    </tr>\n",
              "    <tr>\n",
              "      <th>2</th>\n",
              "      <td>0.300163</td>\n",
              "      <td>0.046838</td>\n",
              "      <td>1.000000</td>\n",
              "      <td>0.300163</td>\n",
              "    </tr>\n",
              "    <tr>\n",
              "      <th>3</th>\n",
              "      <td>0.370336</td>\n",
              "      <td>0.370336</td>\n",
              "      <td>0.300163</td>\n",
              "      <td>1.000000</td>\n",
              "    </tr>\n",
              "  </tbody>\n",
              "</table>\n",
              "</div>"
            ],
            "text/plain": [
              "          0         1         2         3\n",
              "0  1.000000  0.006265  0.300163  0.370336\n",
              "1  0.006265  1.000000  0.046838  0.370336\n",
              "2  0.300163  0.046838  1.000000  0.300163\n",
              "3  0.370336  0.370336  0.300163  1.000000"
            ]
          },
          "metadata": {},
          "execution_count": 216
        }
      ]
    },
    {
      "cell_type": "markdown",
      "metadata": {
        "id": "U9dJbJXip3kj"
      },
      "source": [
        "귀무가설 기각 -> 뱃지들의 평균의 차이가 없을 가능성은 적다. 따라서 뱃지들의 평균의 차이가 난다고 가정했을때 뱃지의 개수가 늘어날수록 성공판매비율이 선형적으로 상승하지 않기 때문에 뱃지가 많다고 성공판매확률이 올라가지는 않는다."
      ]
    },
    {
      "cell_type": "code",
      "metadata": {
        "id": "ha90m3oLZ-y1"
      },
      "source": [
        "# from scipy import stats\n",
        "# from scipy.stats import shapiro\n",
        "\n",
        "# w = df.loc[df['badges_count']==0]['successful_sold']\n",
        "# x = df.loc[df['badges_count']==1]['successful_sold']\n",
        "# y = df.loc[df['badges_count']==2]['successful_sold']\n",
        "# z = df.loc[df['badges_count']==3]['successful_sold']\n",
        "\n",
        "# print('뱃지0', stats.shapiro(w))\n",
        "# print('뱃지1', stats.shapiro(x))\n",
        "# print('뱃지2', stats.shapiro(y))\n",
        "# print('뱃지3', stats.shapiro(z))"
      ],
      "execution_count": 217,
      "outputs": []
    },
    {
      "cell_type": "code",
      "metadata": {
        "id": "6EsHkXCyZ-j0"
      },
      "source": [
        "#stats.kruskal(w, x, y,z)"
      ],
      "execution_count": 218,
      "outputs": []
    },
    {
      "cell_type": "code",
      "metadata": {
        "id": "GNnxV74fZ-g1"
      },
      "source": [
        "# import scikit_posthocs as sp\n",
        "# sp.posthoc_conover(df,\n",
        "#                    val_col = 'successful_sold',\n",
        "#                    group_col = 'badges_count',\n",
        "#                    p_adjust = 'holm')"
      ],
      "execution_count": 219,
      "outputs": []
    },
    {
      "cell_type": "code",
      "metadata": {
        "id": "lsX3DRJ64_Gq"
      },
      "source": [
        "#sns.barplot(df['badge_local_product'], df['successful_sold'])"
      ],
      "execution_count": 220,
      "outputs": []
    },
    {
      "cell_type": "code",
      "metadata": {
        "id": "NtxoqHr-3rgh"
      },
      "source": [
        "#sns.barplot(df['badge_product_quality'], df['successful_sold'])"
      ],
      "execution_count": 221,
      "outputs": []
    },
    {
      "cell_type": "code",
      "metadata": {
        "id": "V-dlSC_n80AF"
      },
      "source": [
        "#sns.barplot(df['badge_fast_shipping'], df['successful_sold'])"
      ],
      "execution_count": 222,
      "outputs": []
    },
    {
      "cell_type": "markdown",
      "metadata": {
        "id": "WMLzvPqSIeAm"
      },
      "source": [
        "## 가설6. 인기있는 태그 와 태그분석\n",
        "\n"
      ]
    },
    {
      "cell_type": "code",
      "metadata": {
        "id": "BPHZp4Aw84uU",
        "colab": {
          "base_uri": "https://localhost:8080/"
        },
        "outputId": "1bb72f69-f994-49b6-b443-35a5273f9ef9"
      },
      "source": [
        "# 각각의 태그 추출\n",
        "tag_list = []\n",
        "for tag_dummies in df['tags']:\n",
        "  tags = str(tag_dummies).split(',')\n",
        "  for tag in tags:\n",
        "    tag_list.append(tag)\n",
        "\n",
        "tag_list"
      ],
      "execution_count": 223,
      "outputs": [
        {
          "output_type": "execute_result",
          "data": {
            "text/plain": [
              "['Summer',\n",
              " 'Fashion',\n",
              " 'womenunderwearsuit',\n",
              " 'printedpajamasset',\n",
              " 'womencasualshort',\n",
              " \"Women's Fashion\",\n",
              " 'flamingo',\n",
              " 'loungewearset',\n",
              " 'Casual',\n",
              " 'Shirt',\n",
              " 'casualsleepwear',\n",
              " 'Shorts',\n",
              " 'flamingotshirt',\n",
              " 'Elastic',\n",
              " 'Vintage',\n",
              " 'Tops',\n",
              " 'tshirtandshortsset',\n",
              " 'Women',\n",
              " 'Sleepwear',\n",
              " 'Print',\n",
              " 'womenpajamasset',\n",
              " 'womennightwear',\n",
              " 'Pajamas',\n",
              " 'womensleepwearset',\n",
              " 'Mini',\n",
              " 'womens dresses',\n",
              " 'Summer',\n",
              " 'Patchwork',\n",
              " 'fashion dress',\n",
              " 'Dress',\n",
              " 'Mini dress',\n",
              " \"Women's Fashion\",\n",
              " 'Women S Clothing',\n",
              " 'backless',\n",
              " 'party',\n",
              " 'summer dresses',\n",
              " 'sleeveless',\n",
              " 'sexy',\n",
              " 'Casual',\n",
              " 'Summer',\n",
              " 'cardigan',\n",
              " 'women beachwear',\n",
              " 'chiffon',\n",
              " 'Sexy women',\n",
              " 'Coat',\n",
              " 'summercardigan',\n",
              " 'openfront',\n",
              " 'short sleeves',\n",
              " 'Swimsuit',\n",
              " \"Women's Fashion\",\n",
              " 'leaf',\n",
              " 'Green',\n",
              " 'printed',\n",
              " 'Spring',\n",
              " 'longcardigan',\n",
              " 'Women',\n",
              " 'Beach',\n",
              " 'kimono',\n",
              " 'Summer',\n",
              " 'Shorts',\n",
              " 'Cotton',\n",
              " 'Cotton T Shirt',\n",
              " 'Sleeve',\n",
              " 'printedletterstop',\n",
              " 'Clothing',\n",
              " 'Tops',\n",
              " 'Necks',\n",
              " 'short sleeves',\n",
              " \"Women's Fashion\",\n",
              " 'Women Clothing',\n",
              " 'printed',\n",
              " 'Women',\n",
              " 'tshirtforwomen',\n",
              " 'Fashion',\n",
              " 'T Shirts',\n",
              " 'Shirt',\n",
              " 'Summer',\n",
              " 'Plus Size',\n",
              " 'Lace',\n",
              " 'Casual pants',\n",
              " 'Bottom',\n",
              " 'pants',\n",
              " 'Loose',\n",
              " \"Women's Fashion\",\n",
              " 'Shorts',\n",
              " 'Lace Up',\n",
              " 'Elastic',\n",
              " 'Casual',\n",
              " 'Women',\n",
              " 'Deep V-Neck',\n",
              " 'Summer',\n",
              " 'Plus Size',\n",
              " 'Spaghetti Strap',\n",
              " 'Overalls',\n",
              " \"Women's Fashion\",\n",
              " 'sleeveless',\n",
              " 'Women',\n",
              " 'Casual',\n",
              " 'jumpsuit',\n",
              " 'blouse',\n",
              " 'Women',\n",
              " 'lace t shirt',\n",
              " 'summer t-shirts',\n",
              " 'Lace',\n",
              " 'Sleeve',\n",
              " 'Women Blouse',\n",
              " 'loose shirt',\n",
              " 'Short Sleeve Blouses',\n",
              " 'Pure Color',\n",
              " 'Womens Blouse',\n",
              " 'Bat',\n",
              " 'lace shirts',\n",
              " 'Necks',\n",
              " \"Women's Fashion\",\n",
              " 'Plus Size',\n",
              " 'loose t-shirt',\n",
              " 'Short Sleeve T-Shirt',\n",
              " 'Fashion',\n",
              " 'Tops',\n",
              " 'Shirt',\n",
              " 'Jeans',\n",
              " 'Fashion',\n",
              " 'tunic',\n",
              " 'Shirt',\n",
              " 'Summer',\n",
              " 'Dress',\n",
              " 'Denim',\n",
              " 'summer dress',\n",
              " 'denimjeansdres',\n",
              " 'short sleeves',\n",
              " 'casual dresses',\n",
              " \"Women's Fashion\",\n",
              " 'Tunic dress',\n",
              " 'minishirtdres',\n",
              " 'Lines',\n",
              " 'mididre',\n",
              " 'slim dress',\n",
              " 'summer dress',\n",
              " 'womenshortsleevedre',\n",
              " 'Sleeve',\n",
              " 'Summer',\n",
              " 'Dress',\n",
              " 'slim',\n",
              " 'short sleeves',\n",
              " \"Women's Fashion\",\n",
              " 'Shorts',\n",
              " 'boho dress',\n",
              " 'slimfitdre',\n",
              " 'Fashion',\n",
              " 'Casual',\n",
              " 'blouse',\n",
              " 'Summer',\n",
              " 'Plus Size',\n",
              " 'Floral print',\n",
              " 'Necks',\n",
              " 'Sleeve',\n",
              " 'summer shirt',\n",
              " 'Loose',\n",
              " 'short sleeves',\n",
              " 'Casual',\n",
              " 'T Shirts',\n",
              " 'Shorts',\n",
              " 'Fashion',\n",
              " 'Floral',\n",
              " 'Women',\n",
              " \"Women's Fashion\",\n",
              " 'Tops',\n",
              " 'printed',\n",
              " 'Summer',\n",
              " 'Plus Size',\n",
              " 'long dress',\n",
              " 'plus size dress',\n",
              " 'Dress',\n",
              " \"Women's Fashion\",\n",
              " 'maxi dress',\n",
              " 'Casual',\n",
              " 'beach dress',\n",
              " 'Sleeveless dress',\n",
              " 'summer dresses',\n",
              " 'women dress',\n",
              " 'Fashion',\n",
              " 'loose dress',\n",
              " 'sleeveless',\n",
              " 'Summer',\n",
              " 'Plus Size',\n",
              " 'Cotton T Shirt',\n",
              " 'womens shirt',\n",
              " 'summer t-shirts',\n",
              " 'short sleeves',\n",
              " 'V-neck',\n",
              " 'T Shirts',\n",
              " 'Fashion',\n",
              " 'sexy',\n",
              " 'Casual',\n",
              " 'Women',\n",
              " 'blouse',\n",
              " 'Shorts',\n",
              " 'Sleeve',\n",
              " 'Pure Color',\n",
              " \"Women's Fashion\",\n",
              " 'Pullovers',\n",
              " 'Tops',\n",
              " 'Summer',\n",
              " 'Women',\n",
              " 'Shorts',\n",
              " 'pants',\n",
              " 'Loose',\n",
              " 'Short pants',\n",
              " 'drawstring',\n",
              " 'Causal',\n",
              " 'Summer',\n",
              " 'Vest',\n",
              " 'summer t-shirts',\n",
              " 'looseblouse',\n",
              " 'Cross',\n",
              " 'tank top',\n",
              " 'Spaghetti Strap',\n",
              " 'Sleeveless Shirt',\n",
              " 'Plus Size',\n",
              " 'topandblouse',\n",
              " 'deepneck',\n",
              " 'Spaghetti',\n",
              " 'Casual',\n",
              " 'Women Fashion',\n",
              " 'Women',\n",
              " 'blouse',\n",
              " 'Tank',\n",
              " 'Necks',\n",
              " 'Beach',\n",
              " 'Tops',\n",
              " 'beachvest',\n",
              " \"Women's Fashion\",\n",
              " 'T Shirts',\n",
              " 'Fashion',\n",
              " 'sleeveless',\n",
              " 'Summer',\n",
              " 'Fashion',\n",
              " 'Mini',\n",
              " 'Dress',\n",
              " 'Loose',\n",
              " 'Polkas',\n",
              " 'V-neck',\n",
              " 'Tops',\n",
              " \"Women's Fashion\",\n",
              " 'black',\n",
              " 'polka dot',\n",
              " 'sleeveless',\n",
              " 'backless',\n",
              " 'Casual',\n",
              " 'Women Fashion',\n",
              " 'Summer',\n",
              " 'Plus Size',\n",
              " 'Shirt',\n",
              " 'Sleeve',\n",
              " 'cute',\n",
              " 'Long Sleeve',\n",
              " 'flare',\n",
              " 'Tops',\n",
              " 'topsamptshirt',\n",
              " \"Women's Fashion\",\n",
              " 'Clothes for women',\n",
              " 'cuteshirt',\n",
              " 'Fashion',\n",
              " 'long sleeve t shirt',\n",
              " 'solidcolorshirt',\n",
              " 'Summer Fashion',\n",
              " 'loose t-shirt',\n",
              " 'T Shirts',\n",
              " 'Summer',\n",
              " 'fashion women',\n",
              " 'Fashion',\n",
              " 'Mini',\n",
              " 'Dresses',\n",
              " 'Tops',\n",
              " 'Polkas',\n",
              " 'V-neck',\n",
              " 'Mini dress',\n",
              " \"Women's Fashion\",\n",
              " 'Party Dress',\n",
              " 'backless',\n",
              " 'party',\n",
              " 'Sexy Dress',\n",
              " 'Dress',\n",
              " 'sleeveless',\n",
              " 'polka dot',\n",
              " 'Casual',\n",
              " 'casual dress',\n",
              " 'blouse',\n",
              " 'Plus Size',\n",
              " 'Lace',\n",
              " 'lace top',\n",
              " 'Tops',\n",
              " 'Fashion',\n",
              " 'strappy',\n",
              " 'sexy',\n",
              " 'sleeveless',\n",
              " 'summer tops',\n",
              " 'Women Fashion',\n",
              " 'Summer',\n",
              " 'Fashion',\n",
              " 'tunic',\n",
              " 'Women Vest',\n",
              " 'Tank',\n",
              " 'Tops',\n",
              " 'topsamptshirt',\n",
              " 'tank top',\n",
              " 'doublelayer',\n",
              " \"Women's Fashion\",\n",
              " 'backless',\n",
              " 'sexy',\n",
              " 'Ladies',\n",
              " 'sleeveless',\n",
              " 'Casual',\n",
              " 'Women',\n",
              " 'blouse',\n",
              " 'Summer',\n",
              " 'Vest',\n",
              " 'Plus Size',\n",
              " 'Tank',\n",
              " 'zippers',\n",
              " 'Tops',\n",
              " 'Slim Fit',\n",
              " 'tank top',\n",
              " \"Women's Fashion\",\n",
              " 'V-neck',\n",
              " 'topsampblouse',\n",
              " 'sleeveless',\n",
              " 'women top',\n",
              " 'slim',\n",
              " 'Casual',\n",
              " 'Fashion',\n",
              " 'Floral print',\n",
              " 'Tops',\n",
              " 'sexy bikini',\n",
              " 'Swimwear',\n",
              " 'Swimsuit',\n",
              " 'padded',\n",
              " 'Bikini',\n",
              " 'sexy',\n",
              " 'Women',\n",
              " \"Women's Fashion\",\n",
              " 'Swimming',\n",
              " 'Summer',\n",
              " 'Vest',\n",
              " 'Fashion',\n",
              " 'Tank',\n",
              " 'Lace',\n",
              " 'Tops',\n",
              " 'slim',\n",
              " \"Women's Fashion\",\n",
              " 'tank top',\n",
              " 'T Shirts',\n",
              " 'Lace Up',\n",
              " 'topsamptee',\n",
              " 'sexy',\n",
              " 'sleeveless',\n",
              " 'Women',\n",
              " 'Women Fashion',\n",
              " 'Cotton',\n",
              " 'Women Vest',\n",
              " 'Vest',\n",
              " 'Fashion',\n",
              " 'buttontop',\n",
              " 'camisole',\n",
              " 'Summer',\n",
              " 'Spaghetti Strap',\n",
              " 'tank top',\n",
              " \"Women's Fashion\",\n",
              " 'Plus Size',\n",
              " 'Design',\n",
              " 'V-neck',\n",
              " 'sleeveless',\n",
              " 'sexy',\n",
              " 'Spaghetti',\n",
              " 'summer tops',\n",
              " 'Cotton',\n",
              " 'Tank',\n",
              " 'Tops',\n",
              " 'Casual',\n",
              " 'Cotton Vest',\n",
              " 'Women',\n",
              " 'sleevelesstshirt',\n",
              " 'Casual Tops',\n",
              " 'Holiday',\n",
              " 'Beach',\n",
              " 'button',\n",
              " 'blouse',\n",
              " 'Summer',\n",
              " 'Shorts',\n",
              " 'Sleeve',\n",
              " 'fashiontee',\n",
              " 'Tops',\n",
              " 'slim',\n",
              " 'short sleeves',\n",
              " 'Pullovers',\n",
              " \"Women's Fashion\",\n",
              " 'Plus Size',\n",
              " 'Summer Fashion',\n",
              " 'Cotton',\n",
              " 'Fashion',\n",
              " 'Casual',\n",
              " 'T Shirts',\n",
              " 'Women',\n",
              " 'Summer',\n",
              " 'Vest',\n",
              " 'Fashion',\n",
              " 'Tank',\n",
              " 'Shirt',\n",
              " 'backless top',\n",
              " 'summer shirt',\n",
              " 'topsamptshirt',\n",
              " 'tank top',\n",
              " 'Ladies',\n",
              " 'Sleeveless Shirt',\n",
              " 'backless',\n",
              " 'V-neck',\n",
              " 'solid color',\n",
              " 'sexy',\n",
              " 'summervest',\n",
              " 'Tops',\n",
              " 'Women Fashion',\n",
              " 'Ladies Fashion',\n",
              " 'Summer',\n",
              " 'Vest',\n",
              " 'Fashion',\n",
              " 'Tank',\n",
              " 'Slim T-shirt',\n",
              " 'camouflage',\n",
              " 'Tops',\n",
              " 'camouflagevest',\n",
              " 'tank top',\n",
              " 'Cool T-Shirts',\n",
              " \"Women's Fashion\",\n",
              " 'sleeveless tops',\n",
              " 'Women',\n",
              " 'Casual T-Shirt',\n",
              " 'Casual Tops',\n",
              " 'Military',\n",
              " 'Casual',\n",
              " 'sleeveless',\n",
              " 't',\n",
              " 'Summer',\n",
              " 'midsleevebeachblouse',\n",
              " 'summerswimsuit',\n",
              " 'womensummerswimwear',\n",
              " 'crochet',\n",
              " 'Cover',\n",
              " 'womenbeachblouse',\n",
              " 'Swimsuit',\n",
              " 'Bikini',\n",
              " 'beachblouse',\n",
              " 'Swimwear',\n",
              " 'bikinibeachcoverup',\n",
              " 'Women',\n",
              " 'women fashion dress',\n",
              " 'women bathing suit',\n",
              " 'budsilkblouse',\n",
              " 'Suits',\n",
              " \"Women's Fashion\",\n",
              " 'Lace',\n",
              " 'Women Vest',\n",
              " 'Vest',\n",
              " 'Fashion',\n",
              " 'yoga top',\n",
              " 'low cut',\n",
              " \"Women's Fashion\",\n",
              " 'off shoulder',\n",
              " 'sportwear',\n",
              " 'sleeveless',\n",
              " 'sexy',\n",
              " 'Casual',\n",
              " 'sexyvest',\n",
              " 'knitted',\n",
              " 'Tank',\n",
              " 'Shirt',\n",
              " 'Tops',\n",
              " 'Slim Fit',\n",
              " 'beach wear',\n",
              " 'soildcolor',\n",
              " 'Women',\n",
              " 'Print',\n",
              " 'Lace Up',\n",
              " 'Cotton',\n",
              " 'tank top',\n",
              " 'pink',\n",
              " 'Vest',\n",
              " 'Fashion',\n",
              " 'Lace',\n",
              " 'Summer',\n",
              " 'outweartop',\n",
              " 'slim',\n",
              " 'tank top',\n",
              " \"Women's Fashion\",\n",
              " 'sleeveless tops',\n",
              " 'summerwomentop',\n",
              " 'Women',\n",
              " 'Deep V-Neck',\n",
              " 'Tank',\n",
              " 'Necks',\n",
              " 'Women Fashion',\n",
              " 'lace top',\n",
              " 'Tops',\n",
              " 'lace vest',\n",
              " 'black',\n",
              " 'blackwhitepink',\n",
              " 'scallopedtrimtop',\n",
              " 'sleeveless',\n",
              " 'white',\n",
              " 'Summer',\n",
              " 'strapless',\n",
              " 'Plus Size',\n",
              " 'tunic',\n",
              " 'tunic top',\n",
              " 'Tops',\n",
              " 'Shorts',\n",
              " 'slim fit shirt',\n",
              " \"Women's Fashion\",\n",
              " 'Fashion',\n",
              " 'topsamptee',\n",
              " 'women tank top',\n",
              " 'solid color',\n",
              " 'sleeveless',\n",
              " 'Pullovers',\n",
              " 'Casual',\n",
              " 'Cotton',\n",
              " 'Summer',\n",
              " 'Plus Size',\n",
              " 'Love',\n",
              " 'plus size dress',\n",
              " 'Dress',\n",
              " 'short sleeves',\n",
              " \"Women's Fashion\",\n",
              " 'Party Dress',\n",
              " 'Graffiti',\n",
              " 'uniquedres',\n",
              " 'Clothing',\n",
              " 'Bodycon Dress',\n",
              " 'casual dress',\n",
              " 'Shorts',\n",
              " 'Sleeve',\n",
              " 'summer dress',\n",
              " 'Cotton Dress',\n",
              " 'Women Clothing',\n",
              " 'print dress',\n",
              " 'Print',\n",
              " 'party',\n",
              " 'Short Sleeved',\n",
              " 'Women',\n",
              " 'Fashion',\n",
              " 'tank top women',\n",
              " 'Vest',\n",
              " 'Beading',\n",
              " 'Cotton Shirt',\n",
              " 'camisole',\n",
              " 'Women Vest',\n",
              " 'Sweets',\n",
              " 'Tops',\n",
              " 'Spaghetti Strap',\n",
              " \"Women's Fashion\",\n",
              " 'Spaghetti',\n",
              " 'Cami',\n",
              " 'Summer',\n",
              " 'Bandages',\n",
              " 'Tank',\n",
              " 'Women',\n",
              " 'Cool Tees',\n",
              " 'Shirt',\n",
              " 'Summer',\n",
              " 'camisole',\n",
              " 'chiffon',\n",
              " 'Dress',\n",
              " 'slim',\n",
              " 'beach dress',\n",
              " 'Ladies',\n",
              " \"Women's Fashion\",\n",
              " 'backless',\n",
              " 'printed',\n",
              " 'Floral',\n",
              " 'Robes',\n",
              " 'Beach',\n",
              " 'Casual',\n",
              " 'Women',\n",
              " 'Vest',\n",
              " 'Fashion',\n",
              " 'Yoga',\n",
              " 'SEXY CROP TOP',\n",
              " 'girl bra',\n",
              " 'Tops',\n",
              " 'strapless',\n",
              " 'topbra',\n",
              " 'Tee',\n",
              " \"Women's Fashion\",\n",
              " 'straplesstanktop',\n",
              " 'T Shirts',\n",
              " 'Casual',\n",
              " 'Bras',\n",
              " 'Women',\n",
              " 'Summer',\n",
              " 'Vest',\n",
              " 'Plus Size',\n",
              " 'Tank',\n",
              " 'Lace',\n",
              " 'Tops',\n",
              " 'Loose',\n",
              " 'beach wear',\n",
              " \"Women's Fashion\",\n",
              " 'Pure Color',\n",
              " 'sleeveless',\n",
              " 'Fashion',\n",
              " 'Casual',\n",
              " 'Women Fashion',\n",
              " 'Women',\n",
              " 'blouse',\n",
              " 'Summer',\n",
              " 'Plus Size',\n",
              " 'Floral print',\n",
              " 'ruffled',\n",
              " 'Sleeve',\n",
              " 'Tops',\n",
              " 'sexyblouse',\n",
              " 'short sleeves',\n",
              " 'Floral',\n",
              " \"Women's Fashion\",\n",
              " 'Shorts',\n",
              " 'Print',\n",
              " 'sexy',\n",
              " 'Fashion',\n",
              " 'butterflyprint',\n",
              " 'Vest',\n",
              " 'Plus Size',\n",
              " 'Necks',\n",
              " 'Tops',\n",
              " 'Spaghetti Strap',\n",
              " 'tank top',\n",
              " 'Casual',\n",
              " 'Round neck',\n",
              " 'Fashion',\n",
              " 'sleeveless tops',\n",
              " 'Casual Tops',\n",
              " 'summervest',\n",
              " 'womens vest',\n",
              " 'Women Pants',\n",
              " 'womens jeans',\n",
              " 'Shorts',\n",
              " 'Ladies Fashion',\n",
              " 'Hot pants',\n",
              " 'pants',\n",
              " 'Short pants',\n",
              " \"Women's Fashion\",\n",
              " 'skinnyshort',\n",
              " 'summerpant',\n",
              " 'Fashion',\n",
              " 'Summer',\n",
              " 'Denim Shorts',\n",
              " 'solid color',\n",
              " 'sexy',\n",
              " 'Jeans',\n",
              " 'Ladies',\n",
              " 'Women Fashion',\n",
              " 'Women',\n",
              " 'Summer',\n",
              " 'Fashion',\n",
              " 'Shirt',\n",
              " 'Necks',\n",
              " 'Loose',\n",
              " 'Round neck',\n",
              " 'Womens T Shirts',\n",
              " 'T Shirts',\n",
              " 'Print',\n",
              " 'sleeveless',\n",
              " 'Sweatshirts',\n",
              " 'Cotton',\n",
              " 'graphicprint',\n",
              " 'Summer',\n",
              " 'Plus Size',\n",
              " 'Lace',\n",
              " 'Mini',\n",
              " 'Dress',\n",
              " 'slim',\n",
              " 'camouflage',\n",
              " 'Mini dress',\n",
              " 'Pocket',\n",
              " 'high waist',\n",
              " \"Women's Fashion\",\n",
              " 'Fashion',\n",
              " 'Lace Up',\n",
              " 't',\n",
              " 'print dress',\n",
              " 'Print',\n",
              " 'sleeveless',\n",
              " 'bodycon',\n",
              " 'Casual',\n",
              " 'Women Fashion',\n",
              " 'Waist',\n",
              " 'blouse',\n",
              " 'Mini',\n",
              " 'Fashion',\n",
              " 'longtop',\n",
              " 'Shirt',\n",
              " 'kaftandresse',\n",
              " 'stripetee',\n",
              " 'Tops',\n",
              " 'short sleeves',\n",
              " 'Mini dress',\n",
              " 'T Shirts',\n",
              " 'Sexy Dress',\n",
              " 'Dress',\n",
              " 'Tops & Blouses',\n",
              " 'Beach',\n",
              " \"Women's Fashion\",\n",
              " 'Casual',\n",
              " 'Women',\n",
              " 'Mini',\n",
              " 'spaghettistrapdresse',\n",
              " 'Floral print',\n",
              " 'Summer',\n",
              " 'womensfahsion',\n",
              " 'Spaghetti',\n",
              " 'Dress',\n",
              " 'summer dress',\n",
              " 'Print',\n",
              " 'minidressforwomen',\n",
              " 'Mini dress',\n",
              " 'spaghettishoulderstrapdre',\n",
              " \"Women's Fashion\",\n",
              " 'floralprinteddre',\n",
              " 'Sexy Dress',\n",
              " 'Floral',\n",
              " 'sexy',\n",
              " 'Fashion',\n",
              " 'Summer',\n",
              " 'Shorts',\n",
              " 'pants',\n",
              " 'Fitness',\n",
              " 'Short pants',\n",
              " 'runningpant',\n",
              " \"Men's Fashion\",\n",
              " 'Casual',\n",
              " 'Red',\n",
              " 'Cotton',\n",
              " 'Summer',\n",
              " 'Shorts',\n",
              " 'Cotton',\n",
              " 'Cotton T Shirt',\n",
              " 'letter print',\n",
              " 'cute',\n",
              " 'teeshirthomme',\n",
              " 'short sleeves',\n",
              " 'Casual',\n",
              " 'Round neck',\n",
              " \"Women's Fashion\",\n",
              " 'Fashion',\n",
              " 'printed',\n",
              " 'beetshirt',\n",
              " 'Women',\n",
              " 'Sleeve',\n",
              " 'T Shirts',\n",
              " 'Necks',\n",
              " 'Fashion',\n",
              " 'Tops & Blouses',\n",
              " 'Coat',\n",
              " 'Tops',\n",
              " 'tank top',\n",
              " 'Hollow',\n",
              " 'Jacket',\n",
              " \"Women's Fashion\",\n",
              " 'kimono',\n",
              " 'crochet',\n",
              " 'Ladies',\n",
              " 'Women',\n",
              " 'Women Clothing',\n",
              " 'Summer',\n",
              " 'off shoulder top',\n",
              " 'Fashion',\n",
              " 'crop top',\n",
              " 'Spring',\n",
              " 'Vest',\n",
              " 'yoga top',\n",
              " \"Women's Fashion\",\n",
              " 'tank top',\n",
              " 'sexy',\n",
              " 'Sport',\n",
              " 'summer tops',\n",
              " 'Women',\n",
              " 'fashion women',\n",
              " 'Fashion tank top',\n",
              " 'Tank',\n",
              " 'summer tank top',\n",
              " 'Tops',\n",
              " 'sexy tank top',\n",
              " 'Casual',\n",
              " 'Ladies',\n",
              " 'sleeveless',\n",
              " 'women top',\n",
              " 'Summer',\n",
              " 'Shorts',\n",
              " \"women's jogging suits\",\n",
              " 'Sleeve',\n",
              " 'shortsleeveset',\n",
              " 'Short pants',\n",
              " 'summersuitset',\n",
              " 'short sleeves',\n",
              " 'Sport',\n",
              " 'summerpant',\n",
              " 'mensjoggingsuit',\n",
              " 'Suits',\n",
              " 'Sport Suits',\n",
              " 'short sleeve shirt',\n",
              " 'Outfits',\n",
              " \"men's suits\",\n",
              " 'Casual',\n",
              " 'bohemia',\n",
              " 'sleeveless',\n",
              " 'printeddre',\n",
              " 'Rose',\n",
              " 'long dress',\n",
              " 'Vintage',\n",
              " 'Dress',\n",
              " \"Women's Fashion\",\n",
              " 'Beach',\n",
              " 'boho',\n",
              " 'Shorts',\n",
              " 'midcalfdre',\n",
              " 'vestido',\n",
              " 'jumpsuit',\n",
              " 'maxi dress',\n",
              " 'printed',\n",
              " 'Vintage dress',\n",
              " 'Fashion',\n",
              " 'Women',\n",
              " 'Summer',\n",
              " 'Plus Size',\n",
              " 'Floral print',\n",
              " 'Lace',\n",
              " 'Sleeve',\n",
              " 'Long Sleeve',\n",
              " 'Dress',\n",
              " 'Loose',\n",
              " 'V-neck',\n",
              " 'Floral',\n",
              " \"Women's Fashion\",\n",
              " 'Fashion',\n",
              " 'Floral dress',\n",
              " 'summer dress',\n",
              " 'Print',\n",
              " 'Casual',\n",
              " 'Necks',\n",
              " 'Summer',\n",
              " 'Plus Size',\n",
              " 'Love',\n",
              " 'Graphic T-Shirt',\n",
              " 'Funny',\n",
              " 'summer t-shirts',\n",
              " 'short sleeves',\n",
              " 'T Shirts',\n",
              " 'Funny T Shirt',\n",
              " \"Women's Fashion\",\n",
              " 'Fashion',\n",
              " 'Women',\n",
              " 'Summer',\n",
              " 'Vest',\n",
              " 'Plus Size',\n",
              " 'Tank',\n",
              " 'Necks',\n",
              " 'Tops',\n",
              " 'Loose',\n",
              " \"Women's Fashion\",\n",
              " 'tank top',\n",
              " 'T Shirts',\n",
              " 'Fashion',\n",
              " 'V-neck',\n",
              " 'solid color',\n",
              " 'sleeveless',\n",
              " 'women top',\n",
              " 'Casual',\n",
              " 'Women',\n",
              " 'Summer',\n",
              " 'sexy bathing suit',\n",
              " 'Bikinis Set',\n",
              " 'splitbikiniset',\n",
              " 'Swimwear',\n",
              " 'Swimsuit',\n",
              " 'Bikini',\n",
              " 'Fashion',\n",
              " 'Two Pieces',\n",
              " 'printed',\n",
              " \"Women's Fashion\",\n",
              " 'Women',\n",
              " 'Beach',\n",
              " 'splits',\n",
              " 'Summer',\n",
              " 'Vest',\n",
              " 'Fashion',\n",
              " 'slim',\n",
              " 'gothicshirt',\n",
              " 'tank top',\n",
              " 'punkshirt',\n",
              " 'T Shirts',\n",
              " 'Plus Size',\n",
              " 'gothic',\n",
              " 'skullshirt',\n",
              " 'Goth',\n",
              " 'summer tops',\n",
              " 'Cotton',\n",
              " 'Tank',\n",
              " 'Shirt',\n",
              " 'skull',\n",
              " 'graphic tee',\n",
              " 'Tops',\n",
              " 'Slim Fit',\n",
              " \"Women's Fashion\",\n",
              " 'Tops & T-Shirts',\n",
              " 'Print',\n",
              " 'sleeveless',\n",
              " 'Summer',\n",
              " 'Plus Size',\n",
              " 'Necks',\n",
              " 'long dress',\n",
              " 'Dress',\n",
              " 'summer dress',\n",
              " 'V-neck',\n",
              " \"Women's Fashion\",\n",
              " 'printed',\n",
              " 'wavepoint',\n",
              " 'Women',\n",
              " 'Loose',\n",
              " 'Casual',\n",
              " 'casual dress',\n",
              " 'Summer',\n",
              " 'Spaghetti Strap',\n",
              " 'short dress',\n",
              " 'Mini',\n",
              " 'Shorts',\n",
              " 'Dress',\n",
              " 'summer dress',\n",
              " 'Party Dress',\n",
              " 'Floral dress',\n",
              " 'Mini dress',\n",
              " \"Women's Fashion\",\n",
              " 'Sleeveless dress',\n",
              " 'backless',\n",
              " 'Plus Size',\n",
              " 'sleeveless',\n",
              " 'Floral',\n",
              " 'party',\n",
              " 'Spaghetti',\n",
              " 'Casual',\n",
              " 'casual dress',\n",
              " 'Mini',\n",
              " 'Summer',\n",
              " 'pleated dress',\n",
              " 'Lace',\n",
              " 'women dresses',\n",
              " 'Dress',\n",
              " 'V-neck',\n",
              " 'Mini dress',\n",
              " 'backless',\n",
              " 'Sexy Dress',\n",
              " 'sexy lace',\n",
              " 'sleeveless',\n",
              " 'sexy',\n",
              " 'Beach',\n",
              " 'Women',\n",
              " 'Summer',\n",
              " 'Fashion',\n",
              " 'Necks',\n",
              " 'Beach',\n",
              " 'Dress',\n",
              " 'Loose',\n",
              " 'beach dress',\n",
              " 'Round neck',\n",
              " \"Women's Fashion\",\n",
              " 'sleeveless',\n",
              " 'Skirts',\n",
              " 'Casual',\n",
              " 'Women',\n",
              " 'Summer',\n",
              " 'Plus Size',\n",
              " 'ruffle',\n",
              " 'ruffled',\n",
              " 'chiffon',\n",
              " 'Tank',\n",
              " 'Pure Color',\n",
              " 'Cami',\n",
              " 'tank top',\n",
              " \"Women's Fashion\",\n",
              " 'Fashion',\n",
              " 'V-neck',\n",
              " 'blousesampshirt',\n",
              " 'sexy',\n",
              " 'Tops',\n",
              " 'Women',\n",
              " 'Summer',\n",
              " 'Sling',\n",
              " 'Dresses',\n",
              " 'Dress',\n",
              " 'V-neck',\n",
              " 'Casual',\n",
              " 'Pocket',\n",
              " \"Women's Fashion\",\n",
              " ...]"
            ]
          },
          "metadata": {},
          "execution_count": 223
        }
      ]
    },
    {
      "cell_type": "code",
      "metadata": {
        "id": "LnW5pii4jCtc",
        "colab": {
          "base_uri": "https://localhost:8080/"
        },
        "outputId": "97e41f70-05e3-48ce-a085-101450fb0f17"
      },
      "source": [
        "# 태그 빈도수 집계\n",
        "from collections import Counter\n",
        "tag_counts = Counter(tag_list)\n",
        "\n",
        "# 빈도수 기준 50개 추출\n",
        "tag_counts.most_common(50)"
      ],
      "execution_count": 224,
      "outputs": [
        {
          "output_type": "execute_result",
          "data": {
            "text/plain": [
              "[(\"Women's Fashion\", 1090),\n",
              " ('Summer', 1063),\n",
              " ('Fashion', 901),\n",
              " ('Women', 802),\n",
              " ('Casual', 738),\n",
              " ('Plus Size', 524),\n",
              " ('sleeveless', 471),\n",
              " ('Dress', 446),\n",
              " ('Shorts', 445),\n",
              " ('Tops', 426),\n",
              " ('sexy', 279),\n",
              " ('Beach', 270),\n",
              " ('Sleeve', 244),\n",
              " ('short sleeves', 241),\n",
              " ('Shirt', 238),\n",
              " ('Print', 238),\n",
              " ('Tank', 220),\n",
              " ('T Shirts', 203),\n",
              " ('V-neck', 198),\n",
              " ('printed', 197),\n",
              " ('Necks', 196),\n",
              " ('tank top', 189),\n",
              " ('Cotton', 186),\n",
              " ('summer dress', 175),\n",
              " ('Ladies', 173),\n",
              " ('blouse', 166),\n",
              " ('pants', 157),\n",
              " ('Vest', 154),\n",
              " ('Loose', 152),\n",
              " ('Floral', 148),\n",
              " ('beach dress', 147),\n",
              " ('Lace', 144),\n",
              " ('women dress', 140),\n",
              " ('Mini dress', 138),\n",
              " ('slim', 135),\n",
              " ('Mini', 128),\n",
              " ('Sleeveless dress', 127),\n",
              " ('Women Fashion', 122),\n",
              " ('party', 118),\n",
              " ('casual dress', 113),\n",
              " ('Waist', 110),\n",
              " ('Party Dress', 109),\n",
              " ('long dress', 106),\n",
              " ('Round neck', 106),\n",
              " ('Spaghetti', 95),\n",
              " ('Floral print', 91),\n",
              " ('backless', 88),\n",
              " ('Slim Fit', 88),\n",
              " ('Sport', 85),\n",
              " ('jumpsuit', 82)]"
            ]
          },
          "metadata": {},
          "execution_count": 224
        }
      ]
    },
    {
      "cell_type": "code",
      "metadata": {
        "id": "gGuSNwkekKMM",
        "colab": {
          "base_uri": "https://localhost:8080/",
          "height": 520
        },
        "outputId": "bde2c9ba-f1a1-4ec4-86ed-f09734c6714d"
      },
      "source": [
        "# visualization\n",
        "tag_counts_df = pd.DataFrame(tag_counts.most_common(30))\n",
        "tag_counts_df.columns = ['tags', 'counts']\n",
        "\n",
        "plt.figure(figsize = (12,8))\n",
        "sns.barplot(x = 'counts', y = 'tags', data = tag_counts_df)"
      ],
      "execution_count": 225,
      "outputs": [
        {
          "output_type": "execute_result",
          "data": {
            "text/plain": [
              "<matplotlib.axes._subplots.AxesSubplot at 0x7f89dc8f0490>"
            ]
          },
          "metadata": {},
          "execution_count": 225
        },
        {
          "output_type": "display_data",
          "data": {
            "image/png": "[encoded data removed]",
            "text/plain": [
              "<Figure size 864x576 with 1 Axes>"
            ]
          },
          "metadata": {
            "needs_background": "light"
          }
        }
      ]
    },
    {
      "cell_type": "code",
      "metadata": {
        "id": "mVnfJvp14AL1",
        "colab": {
          "base_uri": "https://localhost:8080/",
          "height": 467
        },
        "outputId": "9e5b8bc8-b21f-4455-b8c6-f376d74e899b"
      },
      "source": [
        "from wordcloud import WordCloud\n",
        "import platform\n",
        "\n",
        "wordcloud = WordCloud(background_color = 'white',\n",
        "                       max_words = 100,\n",
        "                       relative_scaling =0.3,\n",
        "                       width = 800,\n",
        "                       height = 400).generate_from_frequencies(tag_counts)\n",
        "\n",
        "plt.figure(figsize=(15,10))\n",
        "plt.imshow(wordcloud)\n",
        "plt.axis('off')"
      ],
      "execution_count": 226,
      "outputs": [
        {
          "output_type": "execute_result",
          "data": {
            "text/plain": [
              "(-0.5, 799.5, 399.5, -0.5)"
            ]
          },
          "metadata": {},
          "execution_count": 226
        },
        {
          "output_type": "display_data",
          "data": {
            "image/png": "[encoded data removed]",
            "text/plain": [
              "<Figure size 1080x720 with 1 Axes>"
            ]
          },
          "metadata": {
            "needs_background": "light"
          }
        }
      ]
    },
    {
      "cell_type": "markdown",
      "metadata": {
        "id": "VECZ-iiHAPXo"
      },
      "source": [
        "Wonmen's Fashion과 Summer가 가장많이 사용되는 태그이며, 가장 빈번하게 나오는 태그인 이 두개(Women's Fashion, Summer)는 삭제한다. 그 이유는 필요한 상품을 태그 검색을 통하여 더욱 쉽게 찾고, 무분별한 태그의 사용으로 인한 최적화방해를 제거하기 위함."
      ]
    },
    {
      "cell_type": "markdown",
      "metadata": {
        "id": "7jzlaIfQA6tm"
      },
      "source": [
        "## 가설7. 시즌이 여름이기 때문에 밝은 색의 상품이 판매량이 높을 것이다."
      ]
    },
    {
      "cell_type": "code",
      "metadata": {
        "id": "BbIctf5j6tXg",
        "colab": {
          "base_uri": "https://localhost:8080/"
        },
        "outputId": "114c2689-3460-4940-d75f-382a13ed6535"
      },
      "source": [
        "df.groupby('product_color')['successful_sold'].mean().sort_values(ascending = False).head(60)"
      ],
      "execution_count": 227,
      "outputs": [
        {
          "output_type": "execute_result",
          "data": {
            "text/plain": [
              "product_color\n",
              "black & stripe      1.000000\n",
              "Blue                1.000000\n",
              "navyblue & white    1.000000\n",
              "navy blue           1.000000\n",
              "army green          1.000000\n",
              "lightkhaki          1.000000\n",
              "blue & pink         1.000000\n",
              "light green         1.000000\n",
              "rosegold            1.000000\n",
              "burgundy            1.000000\n",
              "denimblue           1.000000\n",
              "star                1.000000\n",
              "nude                1.000000\n",
              "watermelonred       1.000000\n",
              "gold                1.000000\n",
              "jasper              1.000000\n",
              "ivory               1.000000\n",
              "white & red         1.000000\n",
              "wine red            1.000000\n",
              "whitestripe         1.000000\n",
              "floral              0.800000\n",
              "black & white       0.666667\n",
              "lightpink           0.666667\n",
              "White               0.666667\n",
              "white & black       0.666667\n",
              "camouflage          0.666667\n",
              "khaki               0.500000\n",
              "black & yellow      0.500000\n",
              "coolblack           0.500000\n",
              "lightyellow         0.500000\n",
              "multicolor          0.500000\n",
              "dustypink           0.500000\n",
              "skyblue             0.500000\n",
              "black & blue        0.500000\n",
              "Pink                0.500000\n",
              "whitefloral         0.500000\n",
              "pink & grey         0.500000\n",
              "purple              0.458333\n",
              "navyblue            0.440000\n",
              "grey                0.437500\n",
              "rosered             0.428571\n",
              "white               0.417476\n",
              "black               0.416667\n",
              "orange              0.363636\n",
              "blue                0.349398\n",
              "rose                0.333333\n",
              "gray                0.333333\n",
              "leopard             0.333333\n",
              "Black               0.333333\n",
              "black & green       0.333333\n",
              "brown               0.333333\n",
              "red                 0.333333\n",
              "lightgreen          0.333333\n",
              "navy                0.333333\n",
              "orange-red          0.333333\n",
              "green               0.320000\n",
              "pink                0.317647\n",
              "winered             0.304348\n",
              "rainbow             0.250000\n",
              "mintgreen           0.250000\n",
              "Name: successful_sold, dtype: float64"
            ]
          },
          "metadata": {},
          "execution_count": 227
        }
      ]
    },
    {
      "cell_type": "markdown",
      "metadata": {
        "id": "smEk1fn1EHDp"
      },
      "source": [
        "위의 자료는 색상에 해당하는 상품의 갯수에 영향을 받으므로 충분한 지표가 되지 못한다."
      ]
    },
    {
      "cell_type": "code",
      "metadata": {
        "id": "iqLPaztjBGCf",
        "colab": {
          "base_uri": "https://localhost:8080/"
        },
        "outputId": "913f2282-5097-40fb-ee27-9c2a7b7b7d7c"
      },
      "source": [
        "# 색상별 집계\n",
        "color = Counter(df['product_color'])\n",
        "color"
      ],
      "execution_count": 228,
      "outputs": [
        {
          "output_type": "execute_result",
          "data": {
            "text/plain": [
              "Counter({'Army green': 1,\n",
              "         'Black': 3,\n",
              "         'Blue': 1,\n",
              "         'Pink': 2,\n",
              "         'RED': 1,\n",
              "         'Rose red': 1,\n",
              "         'White': 3,\n",
              "         'applegreen': 1,\n",
              "         'apricot': 2,\n",
              "         'army': 1,\n",
              "         'army green': 1,\n",
              "         'armygreen': 23,\n",
              "         'beige': 14,\n",
              "         'black': 264,\n",
              "         'black & blue': 2,\n",
              "         'black & green': 3,\n",
              "         'black & stripe': 1,\n",
              "         'black & white': 3,\n",
              "         'black & yellow': 2,\n",
              "         'blackwhite': 1,\n",
              "         'blue': 83,\n",
              "         'blue & pink': 1,\n",
              "         'brown': 6,\n",
              "         'brown & yellow': 1,\n",
              "         'burgundy': 2,\n",
              "         'camel': 1,\n",
              "         'camouflage': 3,\n",
              "         'claret': 1,\n",
              "         'coffee': 5,\n",
              "         'coolblack': 2,\n",
              "         'coralred': 1,\n",
              "         'darkblue': 5,\n",
              "         'denimblue': 1,\n",
              "         'dustypink': 2,\n",
              "         'floral': 5,\n",
              "         'fluorescentgreen': 2,\n",
              "         'gold': 1,\n",
              "         'gray': 9,\n",
              "         'gray & white': 1,\n",
              "         'green': 75,\n",
              "         'grey': 64,\n",
              "         'greysnakeskinprint': 1,\n",
              "         'ivory': 1,\n",
              "         'jasper': 1,\n",
              "         'khaki': 10,\n",
              "         'lakeblue': 1,\n",
              "         'leopard': 3,\n",
              "         'leopardprint': 1,\n",
              "         'light green': 1,\n",
              "         'lightblue': 8,\n",
              "         'lightgray': 1,\n",
              "         'lightgreen': 3,\n",
              "         'lightgrey': 1,\n",
              "         'lightkhaki': 1,\n",
              "         'lightpink': 3,\n",
              "         'lightpurple': 1,\n",
              "         'lightred': 1,\n",
              "         'lightyellow': 2,\n",
              "         'mintgreen': 4,\n",
              "         'multicolor': 18,\n",
              "         'navy': 3,\n",
              "         'navy blue': 2,\n",
              "         'navyblue': 25,\n",
              "         'navyblue & white': 1,\n",
              "         'nude': 1,\n",
              "         'offblack': 1,\n",
              "         'offwhite': 1,\n",
              "         'orange': 22,\n",
              "         'orange & camouflage': 1,\n",
              "         'orange-red': 3,\n",
              "         'pink': 85,\n",
              "         'pink & black': 2,\n",
              "         'pink & blue': 1,\n",
              "         'pink & grey': 2,\n",
              "         'pink & white': 1,\n",
              "         'prussianblue': 1,\n",
              "         'purple': 48,\n",
              "         'rainbow': 4,\n",
              "         'red': 78,\n",
              "         'red & blue': 1,\n",
              "         'rose': 3,\n",
              "         'rosegold': 1,\n",
              "         'rosered': 7,\n",
              "         'silver': 2,\n",
              "         'skyblue': 6,\n",
              "         'star': 1,\n",
              "         'violet': 1,\n",
              "         'watermelonred': 1,\n",
              "         'white': 206,\n",
              "         'white & black': 3,\n",
              "         'white & green': 7,\n",
              "         'white & red': 1,\n",
              "         'whitefloral': 2,\n",
              "         'whitestripe': 1,\n",
              "         'wine': 2,\n",
              "         'wine red': 1,\n",
              "         'winered': 23,\n",
              "         'winered & yellow': 1,\n",
              "         'yellow': 77})"
            ]
          },
          "metadata": {},
          "execution_count": 228
        }
      ]
    },
    {
      "cell_type": "code",
      "metadata": {
        "id": "p0ZVBvenCSJh",
        "colab": {
          "base_uri": "https://localhost:8080/",
          "height": 520
        },
        "outputId": "6172fe38-4dff-40a1-aa4c-cfcf25aebc47"
      },
      "source": [
        "# 가장 많이 가지고 있는 제품의 색상 20가지 시각화\n",
        "\n",
        "tag_counts_df = pd.DataFrame(color.most_common(20))\n",
        "tag_counts_df.columns = ['color_name', 'counts']\n",
        "\n",
        "sns.set_context('notebook')\n",
        "plt.figure(figsize = (22,8))\n",
        "sns.barplot(x = 'color_name', y = 'counts', data = tag_counts_df)"
      ],
      "execution_count": 229,
      "outputs": [
        {
          "output_type": "execute_result",
          "data": {
            "text/plain": [
              "<matplotlib.axes._subplots.AxesSubplot at 0x7f89dbf5ef90>"
            ]
          },
          "metadata": {},
          "execution_count": 229
        },
        {
          "output_type": "display_data",
          "data": {
            "image/png": "[encoded data removed]",
            "text/plain": [
              "<Figure size 1584x576 with 1 Axes>"
            ]
          },
          "metadata": {
            "needs_background": "light"
          }
        }
      ]
    },
    {
      "cell_type": "markdown",
      "metadata": {
        "id": "0gxNWd4uJKYE"
      },
      "source": [
        "가장 많은 색상 20가지를 뽑은 이유는 정말 적은 수량의 상품을 판매했을경우 수치적으로 해석의 오류를 저지르기 때문이다. 하지만 top20에서도 소량이 많기 때문에 50개 이상만 선별하고자 한다."
      ]
    },
    {
      "cell_type": "code",
      "metadata": {
        "id": "Dxt0fGMhFYa6",
        "colab": {
          "base_uri": "https://localhost:8080/"
        },
        "outputId": "365e8ebd-5407-4959-82e3-2c77f1b55d9c"
      },
      "source": [
        "# 가장많은 색상별 판매비율\n",
        "top_color = ['black', 'white', 'pink', 'blue', 'red', 'yellow','green', 'grey', 'purple']\n",
        "for i in top_color:\n",
        "  print(i,':',int(round(df[df['product_color']==i]['successful_sold'].mean(),2)*100),'%')"
      ],
      "execution_count": 230,
      "outputs": [
        {
          "output_type": "stream",
          "name": "stdout",
          "text": [
            "black : 42 %\n",
            "white : 42 %\n",
            "pink : 32 %\n",
            "blue : 35 %\n",
            "red : 33 %\n",
            "yellow : 19 %\n",
            "green : 32 %\n",
            "grey : 44 %\n",
            "purple : 46 %\n"
          ]
        }
      ]
    },
    {
      "cell_type": "markdown",
      "metadata": {
        "id": "3OVT_s7HJ9jI"
      },
      "source": [
        "purlple -> grey -> white, black -> blue -> red-> pink-> green->yellow순서이다. 무조건 밝은 상품이라고 무조건 잘 팔리는것은 아니지만 밝은 색상이 상위권에 많이 분포되어 있다고는 볼 수 있다."
      ]
    },
    {
      "cell_type": "markdown",
      "metadata": {
        "id": "ltXEJTJ7LYk3"
      },
      "source": [
        "## 가설8. 배송비가 판매량에 영향을 미칠 것이다."
      ]
    },
    {
      "cell_type": "code",
      "metadata": {
        "id": "c0tWOO3aLT9K",
        "colab": {
          "base_uri": "https://localhost:8080/"
        },
        "outputId": "4a4ab39d-1ec5-490c-ac77-012283db9a44"
      },
      "source": [
        "df['shipping_option_price'].value_counts()"
      ],
      "execution_count": 231,
      "outputs": [
        {
          "output_type": "execute_result",
          "data": {
            "text/plain": [
              "2     507\n",
              "3     442\n",
              "1     232\n",
              "4      67\n",
              "5      28\n",
              "6      10\n",
              "7       5\n",
              "12      1\n",
              "Name: shipping_option_price, dtype: int64"
            ]
          },
          "metadata": {},
          "execution_count": 231
        }
      ]
    },
    {
      "cell_type": "code",
      "metadata": {
        "id": "QFww3DMLL0m0",
        "colab": {
          "base_uri": "https://localhost:8080/"
        },
        "outputId": "3c77a93a-a337-40a3-c8ea-39aba21d47f4"
      },
      "source": [
        "df.groupby('shipping_option_price')['successful_sold'].mean().sort_values(ascending = False)"
      ],
      "execution_count": 232,
      "outputs": [
        {
          "output_type": "execute_result",
          "data": {
            "text/plain": [
              "shipping_option_price\n",
              "2     0.404339\n",
              "3     0.400452\n",
              "1     0.306034\n",
              "6     0.300000\n",
              "5     0.285714\n",
              "4     0.268657\n",
              "7     0.200000\n",
              "12    0.000000\n",
              "Name: successful_sold, dtype: float64"
            ]
          },
          "metadata": {},
          "execution_count": 232
        }
      ]
    },
    {
      "cell_type": "code",
      "metadata": {
        "id": "MbtJyZcsODp7",
        "colab": {
          "base_uri": "https://localhost:8080/"
        },
        "outputId": "317a7ea3-9c58-40ad-e527-4317aefd626f"
      },
      "source": [
        "df[df['shipping_option_price']==3]['successful_sold']"
      ],
      "execution_count": 233,
      "outputs": [
        {
          "output_type": "execute_result",
          "data": {
            "text/plain": [
              "2       0\n",
              "7       0\n",
              "15      0\n",
              "18      1\n",
              "20      1\n",
              "       ..\n",
              "1275    0\n",
              "1278    1\n",
              "1279    0\n",
              "1281    1\n",
              "1282    1\n",
              "Name: successful_sold, Length: 442, dtype: int64"
            ]
          },
          "metadata": {},
          "execution_count": 233
        }
      ]
    },
    {
      "cell_type": "code",
      "metadata": {
        "colab": {
          "base_uri": "https://localhost:8080/"
        },
        "id": "k_-0rVulbWre",
        "outputId": "fb7c615c-6180-4fc9-b4d4-559aa52103ac"
      },
      "source": [
        "# 정규성 검정\n",
        "from scipy import stats\n",
        "\n",
        "a = df[df['shipping_option_price']==1]['successful_sold']\n",
        "b = df[df['shipping_option_price']==2]['successful_sold']\n",
        "c = df[df['shipping_option_price']==3]['successful_sold']\n",
        "d = df[df['shipping_option_price']==4]['successful_sold']\n",
        "e = df[df['shipping_option_price']==5]['successful_sold']\n",
        "f = df[df['shipping_option_price']==6]['successful_sold']\n",
        "g = df[df['shipping_option_price']==7]['successful_sold']\n",
        "h = df[df['shipping_option_price']==12]['successful_sold']\n",
        "\n",
        "\n",
        "print(stats.ks_2samp(a, b)[1], stats.ks_2samp(a, c)[1], stats.ks_2samp(a, d)[1], stats.ks_2samp(a, e)[1],stats.ks_2samp(a, f)[1],\n",
        "      stats.ks_2samp(a, g)[1], stats.ks_2samp(a, h)[1],stats.ks_2samp(a, h)[1],stats.ks_2samp(b, c)[1],stats.ks_2samp(b, d)[1],\n",
        "      stats.ks_2samp(b, e)[1],stats.ks_2samp(b, f)[1],stats.ks_2samp(b, g)[1],stats.ks_2samp(b, h)[1],stats.ks_2samp(c, d)[1],stats.ks_2samp(c, e)[1],\n",
        "      stats.ks_2samp(c, f)[1],stats.ks_2samp(c, g)[1],stats.ks_2samp(c, h)[1],stats.ks_2samp(d, e)[1],stats.ks_2samp(d, f)[1],\n",
        "      stats.ks_2samp(d, g)[1],stats.ks_2samp(d, h)[1],stats.ks_2samp(e, f)[1],stats.ks_2samp(e, g)[1],stats.ks_2samp(e, h)[1],\n",
        "      stats.ks_2samp(f, g)[1],stats.ks_2samp(f, h)[1],stats.ks_2samp(g, h)[1],sep = '\\n')"
      ],
      "execution_count": 234,
      "outputs": [
        {
          "output_type": "stream",
          "name": "stdout",
          "text": [
            "0.08487578498979498\n",
            "0.12246331538754207\n",
            "0.9999949806319294\n",
            "1.0\n",
            "1\n",
            "0.9999999819155622\n",
            "1\n",
            "1\n",
            "1.0\n",
            "0.20455522562876893\n",
            "0.8050330465370333\n",
            "0.9993311169553041\n",
            "0.9561324150218331\n",
            "1\n",
            "0.24033077640701705\n",
            "0.8380954474097909\n",
            "0.999664657797618\n",
            "0.9624571255467042\n",
            "1\n",
            "1\n",
            "1\n",
            "1\n",
            "1\n",
            "1\n",
            "1\n",
            "1\n",
            "1\n",
            "1\n",
            "1\n"
          ]
        }
      ]
    },
    {
      "cell_type": "code",
      "metadata": {
        "id": "3iFClEThekJk",
        "colab": {
          "base_uri": "https://localhost:8080/"
        },
        "outputId": "244d8e28-66ee-4fb0-eb96-349e4b1a70b5"
      },
      "source": [
        "# 등분산검정\n",
        "stats.levene(a, b, c, d, e, f, g, h)"
      ],
      "execution_count": 235,
      "outputs": [
        {
          "output_type": "execute_result",
          "data": {
            "text/plain": [
              "LeveneResult(statistic=1.9339277430523083, pvalue=0.06097351002511399)"
            ]
          },
          "metadata": {},
          "execution_count": 235
        }
      ]
    },
    {
      "cell_type": "code",
      "metadata": {
        "id": "9ZLPQnWweuTX",
        "colab": {
          "base_uri": "https://localhost:8080/"
        },
        "outputId": "013809c4-2c0c-4515-d926-fa2ae7191830"
      },
      "source": [
        "stats.f_oneway(a, b, c, d, e, f, g, h)"
      ],
      "execution_count": 236,
      "outputs": [
        {
          "output_type": "execute_result",
          "data": {
            "text/plain": [
              "F_onewayResult(statistic=1.9339277430523072, pvalue=0.06097351002511399)"
            ]
          },
          "metadata": {},
          "execution_count": 236
        }
      ]
    },
    {
      "cell_type": "code",
      "metadata": {
        "id": "OP0OVcRcfO-x",
        "colab": {
          "base_uri": "https://localhost:8080/"
        },
        "outputId": "fce23f52-dd87-4d52-ffa4-bd50360d2f5b"
      },
      "source": [
        "from statsmodels.stats.multicomp import MultiComparison\n",
        "mc = MultiComparison(data = df['successful_sold'],\n",
        "                     groups = df['shipping_option_price'] )\n",
        "print(mc.tukeyhsd())"
      ],
      "execution_count": 237,
      "outputs": [
        {
          "output_type": "stream",
          "name": "stdout",
          "text": [
            "Multiple Comparison of Means - Tukey HSD, FWER=0.05\n",
            "===================================================\n",
            "group1 group2 meandiff p-adj   lower  upper  reject\n",
            "---------------------------------------------------\n",
            "     1      2   0.0983 0.1685 -0.0179 0.2145  False\n",
            "     1      3   0.0944 0.2361 -0.0244 0.2132  False\n",
            "     1      4  -0.0374    0.9 -0.2407 0.1659  False\n",
            "     1      5  -0.0203    0.9 -0.3135 0.2729  False\n",
            "     1      6   -0.006    0.9 -0.4794 0.4673  False\n",
            "     1      7   -0.106    0.9 -0.7685 0.5565  False\n",
            "     1     12   -0.306    0.9 -1.7749 1.1628  False\n",
            "     2      3  -0.0039    0.9 -0.0993 0.0915  False\n",
            "     2      4  -0.1357 0.3773 -0.3262 0.0548  False\n",
            "     2      5  -0.1186    0.9 -0.4032 0.1659  False\n",
            "     2      6  -0.1043    0.9 -0.5724 0.3637  False\n",
            "     2      7  -0.2043    0.9  -0.863 0.4544  False\n",
            "     2     12  -0.4043    0.9 -1.8715 1.0628  False\n",
            "     3      4  -0.1318 0.4297  -0.324 0.0604  False\n",
            "     3      5  -0.1147    0.9 -0.4004 0.1709  False\n",
            "     3      6  -0.1005    0.9 -0.5692 0.3683  False\n",
            "     3      7  -0.2005    0.9 -0.8596 0.4587  False\n",
            "     3     12  -0.4005    0.9 -1.8678 1.0669  False\n",
            "     4      5   0.0171    0.9 -0.3128 0.3469  False\n",
            "     4      6   0.0313    0.9 -0.4655 0.5282  False\n",
            "     4      7  -0.0687    0.9 -0.7482 0.6108  False\n",
            "     4     12  -0.2687    0.9 -1.7452 1.2079  False\n",
            "     5      6   0.0143    0.9 -0.5257 0.5542  False\n",
            "     5      7  -0.0857    0.9 -0.7973 0.6259  False\n",
            "     5     12  -0.2857    0.9 -1.7773 1.2059  False\n",
            "     6      7     -0.1    0.9 -0.9028 0.7028  False\n",
            "     6     12     -0.3    0.9 -1.8372 1.2372  False\n",
            "     7     12     -0.2    0.9 -1.8056 1.4056  False\n",
            "---------------------------------------------------\n"
          ]
        }
      ]
    },
    {
      "cell_type": "markdown",
      "metadata": {
        "id": "iiJ-13mPhGGO"
      },
      "source": [
        "meandiff = group2 - group1\n",
        "\n",
        "p-adj = P-value\n",
        "\n",
        "reject = 귀무가설기각 : True, 채택 : False"
      ]
    },
    {
      "cell_type": "markdown",
      "metadata": {
        "id": "eFCUZkuHhOHg"
      },
      "source": [
        "귀무가설 채택(기각되지 않을 가능성이 높다) : 평균의 차이는 같을 가능성이 높다 따라서 배달비용에 따른 판매량의 차이는 없을 가능성이 높다"
      ]
    },
    {
      "cell_type": "markdown",
      "metadata": {
        "id": "68Vg3QgUgiRO"
      },
      "source": [
        "배송비는 판매량에 영향을 미치지 않는다."
      ]
    },
    {
      "cell_type": "markdown",
      "metadata": {
        "id": "pJeYsE78grDq"
      },
      "source": [
        "## 가설9.\t빠른 배송 상품이 판매량에 영향을 미칠것이다."
      ]
    },
    {
      "cell_type": "code",
      "metadata": {
        "id": "-shCO3vjgmSR",
        "colab": {
          "base_uri": "https://localhost:8080/"
        },
        "outputId": "8f2e5041-e972-47fe-f245-a8247ae7d8c8"
      },
      "source": [
        "df['badge_fast_shipping'].value_counts()       "
      ],
      "execution_count": 238,
      "outputs": [
        {
          "output_type": "execute_result",
          "data": {
            "text/plain": [
              "0    1274\n",
              "1      18\n",
              "Name: badge_fast_shipping, dtype: int64"
            ]
          },
          "metadata": {},
          "execution_count": 238
        }
      ]
    },
    {
      "cell_type": "code",
      "metadata": {
        "id": "xd_RkWHkoL5J",
        "colab": {
          "base_uri": "https://localhost:8080/"
        },
        "outputId": "7d83ac98-f964-4c27-d185-4749661fcb2d"
      },
      "source": [
        "df[df['badge_fast_shipping']==1]['successful_sold'].value_counts()"
      ],
      "execution_count": 239,
      "outputs": [
        {
          "output_type": "execute_result",
          "data": {
            "text/plain": [
              "0    15\n",
              "1     3\n",
              "Name: successful_sold, dtype: int64"
            ]
          },
          "metadata": {},
          "execution_count": 239
        }
      ]
    },
    {
      "cell_type": "code",
      "metadata": {
        "id": "AHInGxC-oL1p",
        "colab": {
          "base_uri": "https://localhost:8080/"
        },
        "outputId": "276fba88-4554-467e-fe96-f08632e187a7"
      },
      "source": [
        "df[df['badge_fast_shipping']==0]['successful_sold'].value_counts()"
      ],
      "execution_count": 240,
      "outputs": [
        {
          "output_type": "execute_result",
          "data": {
            "text/plain": [
              "0    794\n",
              "1    480\n",
              "Name: successful_sold, dtype: int64"
            ]
          },
          "metadata": {},
          "execution_count": 240
        }
      ]
    },
    {
      "cell_type": "markdown",
      "metadata": {
        "id": "4iq24xdSpZep"
      },
      "source": [
        "빠른배송에 대한 뱃지가 있다고 해서 성공적인 판매랑 바로 직결되는것은 해당데이터로는 그렇다 라고 판단할 수 없을것 같다.\n"
      ]
    },
    {
      "cell_type": "markdown",
      "metadata": {
        "id": "1QdWj2kNpgcf"
      },
      "source": [
        "## 가설10. 판매자의 평가가 좋을수록 판매량이 높을 것이다."
      ]
    },
    {
      "cell_type": "code",
      "metadata": {
        "id": "TkDuqNKXopWk",
        "colab": {
          "base_uri": "https://localhost:8080/"
        },
        "outputId": "76981f96-81dc-417a-9974-a5c3583ee2cb"
      },
      "source": [
        "df['merchant_rating'] = round(df['merchant_rating'],1)\n",
        "df['merchant_rating']"
      ],
      "execution_count": 241,
      "outputs": [
        {
          "output_type": "execute_result",
          "data": {
            "text/plain": [
              "0       4.1\n",
              "1       3.9\n",
              "2       4.0\n",
              "3       4.0\n",
              "4       4.0\n",
              "       ... \n",
              "1287    4.0\n",
              "1288    4.2\n",
              "1289    4.2\n",
              "1290    4.0\n",
              "1291    4.2\n",
              "Name: merchant_rating, Length: 1292, dtype: float64"
            ]
          },
          "metadata": {},
          "execution_count": 241
        }
      ]
    },
    {
      "cell_type": "code",
      "metadata": {
        "id": "7xNkblv4p7Ds",
        "colab": {
          "base_uri": "https://localhost:8080/"
        },
        "outputId": "53106f68-7cda-4ee3-d2c3-458f8e18b95c"
      },
      "source": [
        "df['merchant_rating'].unique()"
      ],
      "execution_count": 242,
      "outputs": [
        {
          "output_type": "execute_result",
          "data": {
            "text/plain": [
              "array([4.1, 3.9, 4. , 3.5, 3.7, 3.8, 4.3, 4.2, 4.4, 3.3, 4.5, 3.2, 3.6,\n",
              "       3.4, 3. , 2.9, 4.6])"
            ]
          },
          "metadata": {},
          "execution_count": 242
        }
      ]
    },
    {
      "cell_type": "code",
      "metadata": {
        "id": "KC6HNgsSqx1E",
        "colab": {
          "base_uri": "https://localhost:8080/"
        },
        "outputId": "f37d12d0-fc35-4dbc-d5b4-48b92d6ade05"
      },
      "source": [
        "list = []\n",
        "for i in df['merchant_rating']:\n",
        "  if i not in list:\n",
        "    list.append(i)\n",
        "\n",
        "list"
      ],
      "execution_count": 243,
      "outputs": [
        {
          "output_type": "execute_result",
          "data": {
            "text/plain": [
              "[4.1,\n",
              " 3.9,\n",
              " 4.0,\n",
              " 3.5,\n",
              " 3.7,\n",
              " 3.8,\n",
              " 4.3,\n",
              " 4.2,\n",
              " 4.4,\n",
              " 3.3,\n",
              " 4.5,\n",
              " 3.2,\n",
              " 3.6,\n",
              " 3.4,\n",
              " 3.0,\n",
              " 2.9,\n",
              " 4.6]"
            ]
          },
          "metadata": {},
          "execution_count": 243
        }
      ]
    },
    {
      "cell_type": "code",
      "metadata": {
        "id": "bqRoq7V_s0Gd",
        "colab": {
          "base_uri": "https://localhost:8080/"
        },
        "outputId": "a58fb144-8d5a-4c46-c6c6-ce8b5dfad83d"
      },
      "source": [
        "list = sorted(list)\n",
        "for i in list:\n",
        "  print(i,':',round(df[df['merchant_rating']==i]['successful_sold'].mean(),2))"
      ],
      "execution_count": 244,
      "outputs": [
        {
          "output_type": "stream",
          "name": "stdout",
          "text": [
            "2.9 : 0.0\n",
            "3.0 : 0.0\n",
            "3.2 : 0.0\n",
            "3.3 : 0.0\n",
            "3.4 : 0.0\n",
            "3.5 : 0.0\n",
            "3.6 : 0.0\n",
            "3.7 : 0.17\n",
            "3.8 : 0.27\n",
            "3.9 : 0.3\n",
            "4.0 : 0.35\n",
            "4.1 : 0.5\n",
            "4.2 : 0.4\n",
            "4.3 : 0.51\n",
            "4.4 : 0.33\n",
            "4.5 : 0.3\n",
            "4.6 : 0.0\n"
          ]
        }
      ]
    },
    {
      "cell_type": "markdown",
      "metadata": {
        "id": "AZhHWtsbuAul"
      },
      "source": [
        "판매자의 평가가 좋다고 무조건 잘팔리는것은 아니지만 높으면 잘팔릴 확률이 올라가는것 같다.\n"
      ]
    },
    {
      "cell_type": "markdown",
      "metadata": {
        "id": "5MFxNhw3uaKf"
      },
      "source": [
        "## 가설 11.\t판매자의 프로필사진이 판매량을 높이는 한 요소일 것이다."
      ]
    },
    {
      "cell_type": "code",
      "metadata": {
        "id": "AA19Hcd7tT-M",
        "colab": {
          "base_uri": "https://localhost:8080/"
        },
        "outputId": "5034bbba-a9a7-46c9-d334-261a5930ad73"
      },
      "source": [
        "df.info()"
      ],
      "execution_count": 245,
      "outputs": [
        {
          "output_type": "stream",
          "name": "stdout",
          "text": [
            "<class 'pandas.core.frame.DataFrame'>\n",
            "RangeIndex: 1292 entries, 0 to 1291\n",
            "Data columns (total 27 columns):\n",
            " #   Column                        Non-Null Count  Dtype  \n",
            "---  ------                        --------------  -----  \n",
            " 0   title                         1292 non-null   object \n",
            " 1   price                         1292 non-null   float64\n",
            " 2   uses_ad_boosts                1292 non-null   int64  \n",
            " 3   rating                        1292 non-null   float64\n",
            " 4   rating_count                  1292 non-null   int64  \n",
            " 5   rating_five_count             1292 non-null   float64\n",
            " 6   rating_four_count             1292 non-null   float64\n",
            " 7   rating_three_count            1292 non-null   float64\n",
            " 8   rating_two_count              1292 non-null   float64\n",
            " 9   rating_one_count              1292 non-null   float64\n",
            " 10  badges_count                  1292 non-null   int64  \n",
            " 11  badge_local_product           1292 non-null   int64  \n",
            " 12  badge_product_quality         1292 non-null   int64  \n",
            " 13  badge_fast_shipping           1292 non-null   int64  \n",
            " 14  tags                          1292 non-null   object \n",
            " 15  product_color                 1292 non-null   object \n",
            " 16  product_variation_inventory   1292 non-null   int64  \n",
            " 17  quick_shipping                1292 non-null   int64  \n",
            " 18  shipping_option_price         1292 non-null   int64  \n",
            " 19  shipped_range                 1292 non-null   int64  \n",
            " 20  made_in_china                 1292 non-null   int64  \n",
            " 21  merchant_rating_count         1292 non-null   int64  \n",
            " 22  merchant_rating               1292 non-null   float64\n",
            " 23  merchant_id                   1292 non-null   object \n",
            " 24  merchant_has_profile_picture  1292 non-null   int64  \n",
            " 25  product_id                    1292 non-null   object \n",
            " 26  successful_sold               1292 non-null   int64  \n",
            "dtypes: float64(8), int64(14), object(5)\n",
            "memory usage: 272.7+ KB\n"
          ]
        }
      ]
    },
    {
      "cell_type": "code",
      "metadata": {
        "id": "lVhSEdRCv5ZZ",
        "colab": {
          "base_uri": "https://localhost:8080/"
        },
        "outputId": "5be17da4-3f5d-4b54-f845-190193b0a95c"
      },
      "source": [
        "df['merchant_has_profile_picture'].value_counts()"
      ],
      "execution_count": 246,
      "outputs": [
        {
          "output_type": "execute_result",
          "data": {
            "text/plain": [
              "0    1091\n",
              "1     201\n",
              "Name: merchant_has_profile_picture, dtype: int64"
            ]
          },
          "metadata": {},
          "execution_count": 246
        }
      ]
    },
    {
      "cell_type": "code",
      "metadata": {
        "id": "Dhkyq1jOwx6E",
        "colab": {
          "base_uri": "https://localhost:8080/"
        },
        "outputId": "4299a387-2621-4414-f132-afd56b07a830"
      },
      "source": [
        "print('프로필 없을때 성공판매비율',':',df[df['merchant_has_profile_picture']==0]['successful_sold'].mean())\n",
        "print('프로필 있을때 성공판매비율',':',df[df['merchant_has_profile_picture']==1]['successful_sold'].mean())"
      ],
      "execution_count": 247,
      "outputs": [
        {
          "output_type": "stream",
          "name": "stdout",
          "text": [
            "프로필 없을때 성공판매비율 : 0.3565536205316224\n",
            "프로필 있을때 성공판매비율 : 0.46766169154228854\n"
          ]
        }
      ]
    },
    {
      "cell_type": "code",
      "metadata": {
        "id": "M_GCwLYRF7hb",
        "outputId": "076a2db4-bc24-497d-d864-5f902e2040eb",
        "colab": {
          "base_uri": "https://localhost:8080/"
        }
      },
      "source": [
        "# 정규성검정\n",
        "from scipy.stats import ks_2samp\n",
        "x = df[df['merchant_has_profile_picture']==0]['successful_sold']\n",
        "y = df[df['merchant_has_profile_picture']==1]['successful_sold']\n",
        "\n",
        "print(\"x와 y:\",ks_2samp(x, y))\n"
      ],
      "execution_count": 249,
      "outputs": [
        {
          "output_type": "stream",
          "name": "stdout",
          "text": [
            "x와 y: Ks_2sampResult(statistic=0.11110807101066619, pvalue=0.02766592740619911)\n"
          ]
        }
      ]
    },
    {
      "cell_type": "code",
      "metadata": {
        "id": "3QTd2dzOGSsI",
        "outputId": "d3716ae6-f346-48bd-ab98-598be2c1d3ce",
        "colab": {
          "base_uri": "https://localhost:8080/"
        }
      },
      "source": [
        "# 윌콕슨의 순위합 검정\n",
        "stats.ranksums(x, y)"
      ],
      "execution_count": 250,
      "outputs": [
        {
          "output_type": "execute_result",
          "data": {
            "text/plain": [
              "RanksumsResult(statistic=-2.5062095274141285, pvalue=0.012203328050592347)"
            ]
          },
          "metadata": {},
          "execution_count": 250
        }
      ]
    },
    {
      "cell_type": "markdown",
      "metadata": {
        "id": "94LIWPB4y24w"
      },
      "source": [
        "귀무가설 기각 = 둘의 평균은 같지않음\n",
        "\n",
        "프로필이 있을때 성공적으로 판매할 확률이 높다."
      ]
    },
    {
      "cell_type": "markdown",
      "metadata": {
        "id": "N20_fvnozTvs"
      },
      "source": [
        "## 가설 12. 상품에 판매자의 이름이 적혀 있으면 인기있는 판매자의 경우 판매율을 높이는 요인일 것이다."
      ]
    },
    {
      "cell_type": "code",
      "metadata": {
        "id": "5C5ejw15yxxG"
      },
      "source": [
        ""
      ],
      "execution_count": null,
      "outputs": []
    }
  ]
}