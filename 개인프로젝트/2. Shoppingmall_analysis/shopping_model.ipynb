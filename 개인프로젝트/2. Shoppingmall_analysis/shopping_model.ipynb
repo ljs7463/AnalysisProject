{
  "nbformat": 4,
  "nbformat_minor": 0,
  "metadata": {
    "colab": {
      "name": "shopping_model.ipynb",
      "provenance": [],
      "toc_visible": true,
      "include_colab_link": true
    },
    "kernelspec": {
      "name": "python3",
      "display_name": "Python 3"
    },
    "language_info": {
      "name": "python"
    }
  },
  "cells": [
    {
      "cell_type": "markdown",
      "metadata": {
        "id": "view-in-github",
        "colab_type": "text"
      },
      "source": [
        "<a href=\"https://colab.research.google.com/github/ljs7463/AnalysisProject/blob/master/%EA%B0%9C%EC%9D%B8%ED%94%84%EB%A1%9C%EC%A0%9D%ED%8A%B8/2.%20Shoppingmall_analysis/shopping_model.ipynb\" target=\"_parent\"><img src=\"https://colab.research.google.com/assets/colab-badge.svg\" alt=\"Open In Colab\"/></a>"
      ]
    },
    {
      "cell_type": "markdown",
      "metadata": {
        "id": "ObXqkjdpmCqA"
      },
      "source": [
        "# 프로젝트 목적 "
      ]
    },
    {
      "cell_type": "markdown",
      "metadata": {
        "id": "Wu9wP4cl9XBk"
      },
      "source": [
        " 쇼핑몰 입점 고객을 위한 상품 판매 예측 모델을 만들고, 입점한 고객이 자신의 상품을 입력했을때 판매예측결과와 자동으로 상품을 분석하여 최적화를 위한 방법을 제공하여 고객의 성공적인 판매를 돕기"
      ]
    },
    {
      "cell_type": "markdown",
      "metadata": {
        "id": "oqLCcGJG7gDG"
      },
      "source": [
        "< 컬럼 해석 >\n",
        "\n",
        "|컬럼명|컬럼내용|\n",
        "|-|-|\n",
        "|tittle | 상품제목(유럽국가용으로 현지화된 제목)|\n",
        "|tittle_orig | 원래 영어로된 상품 제목|\n",
        "|Price |  제품가격|\n",
        "|retail_price | 소비자 가격(소매가격)|\n",
        "|currency_buyer | 가격의 통화|\n",
        "|units_sold | 판매량|\n",
        "|uses_ad_boosts | 판매자가 플랫폼내에서 광고나 상단고정과 같은 추가 비용 지불여부|\n",
        "|rating | 평균 제품 등급|\n",
        "|rating_count | 제품의 등급개수 총합|\n",
        "|rating_five_count | 별5개등급|\n",
        "|badges_count|배지 보유 개수|\n",
        "|badge_local_product | 현지에서 생산된 제품 배지|\n",
        "|badge_product_quality | 많은 구매자가 지속적으로 좋은 평가 했을때 수여되는 배지|\n",
        "|badge_fast_shipping | 제품의 주문이 지속적으로 빠르게 배송될때 수여되는 배지|\n",
        "|tags | 사용자가 설정한 태그 |\n",
        "|product_color | 제품의 주요 색상|\n",
        "|product_variation_size_id | 해당 제품의 변경 가능한 사이즈|\n",
        "|product_variation_inventory | 판매자의 최대 허용 수량|\n",
        "|shipping_option_name | 배송 옵션(표준배송 등등)|\n",
        "|shipping_option_price | 배송비|\n",
        "|shipping_is_express | 배송 급행 여부|\n",
        "|countries_shipped_to | 상품이 배송가능 한 국가 설정수|\n",
        "|inventory_total | 모든 제품 변형에 대한 총 재고(크기/ 색상 변형)|\n",
        "|has_urgency_banner | 긴급한 베너가 있었는지|\n",
        "|urgency_text | 검색 결과의 일부 제품 위에 나타나는 텍스트 베너|\n",
        "|origin_country | 원산지|\n",
        "|merchant_tittle | 판매자의 표시 이름(UI에 판매자 상품 이름으로 표시)|\n",
        "|merchant_name | 판매자 이름|\n",
        "|merchant_info_subtitle | 판매자 정보 섹션에 사용자에게 표시되는 자막텍스트|\n",
        "|merchant_rating_count | 이 판매자의 평가 수|\n",
        "|merchant_rating | 상인의 평가|\n",
        "|merchant_id | 판매자 고유 ID|\n",
        "|merchant_has_profile_picture | merchant_profile_picture의 URL여부|\n",
        "|merchant_profile_picture | 판매자의 프로필 사진 여부|\n",
        "|product_url | 제품 페이지에 대한 URL|\n",
        "|product_picture | 상품 사진 URL|\n",
        "|product_id | 상품 id|\n",
        "|theme | 웹사이트에서 상품검색시 사용하는 테마|\n",
        "|crawl_month | 크롤링한 날짜|\n"
      ]
    },
    {
      "cell_type": "markdown",
      "metadata": {
        "id": "6x8W9n9p_VA2"
      },
      "source": [
        "# 1차 전처리"
      ]
    },
    {
      "cell_type": "code",
      "metadata": {
        "id": "ARpjNaBPl6GG"
      },
      "source": [
        "# 라이브러리\n",
        "from sklearn.model_selection import train_test_split\n",
        "import pandas as pd\n",
        "import matplotlib.pyplot as plt\n",
        "import seaborn as sns\n",
        "import numpy as np"
      ],
      "execution_count": 1,
      "outputs": []
    },
    {
      "cell_type": "code",
      "metadata": {
        "colab": {
          "base_uri": "https://localhost:8080/",
          "height": 1000
        },
        "id": "zpDLdzZRlk-m",
        "outputId": "76bcfd38-d163-4c3f-99d7-2502267abb30"
      },
      "source": [
        "# 데이터 불러오기\n",
        "df = pd.read_csv('/content/Raw_data.csv')\n",
        "print(df.shape)\n",
        "raw_df = df.copy()\n",
        "df "
      ],
      "execution_count": 2,
      "outputs": [
        {
          "output_type": "stream",
          "name": "stdout",
          "text": [
            "(1573, 43)\n"
          ]
        },
        {
          "output_type": "execute_result",
          "data": {
            "text/html": [
              "<div>\n",
              "<style scoped>\n",
              "    .dataframe tbody tr th:only-of-type {\n",
              "        vertical-align: middle;\n",
              "    }\n",
              "\n",
              "    .dataframe tbody tr th {\n",
              "        vertical-align: top;\n",
              "    }\n",
              "\n",
              "    .dataframe thead th {\n",
              "        text-align: right;\n",
              "    }\n",
              "</style>\n",
              "<table border=\"1\" class=\"dataframe\">\n",
              "  <thead>\n",
              "    <tr style=\"text-align: right;\">\n",
              "      <th></th>\n",
              "      <th>title</th>\n",
              "      <th>title_orig</th>\n",
              "      <th>price</th>\n",
              "      <th>retail_price</th>\n",
              "      <th>currency_buyer</th>\n",
              "      <th>units_sold</th>\n",
              "      <th>uses_ad_boosts</th>\n",
              "      <th>rating</th>\n",
              "      <th>rating_count</th>\n",
              "      <th>rating_five_count</th>\n",
              "      <th>rating_four_count</th>\n",
              "      <th>rating_three_count</th>\n",
              "      <th>rating_two_count</th>\n",
              "      <th>rating_one_count</th>\n",
              "      <th>badges_count</th>\n",
              "      <th>badge_local_product</th>\n",
              "      <th>badge_product_quality</th>\n",
              "      <th>badge_fast_shipping</th>\n",
              "      <th>tags</th>\n",
              "      <th>product_color</th>\n",
              "      <th>product_variation_size_id</th>\n",
              "      <th>product_variation_inventory</th>\n",
              "      <th>shipping_option_name</th>\n",
              "      <th>shipping_option_price</th>\n",
              "      <th>shipping_is_express</th>\n",
              "      <th>countries_shipped_to</th>\n",
              "      <th>inventory_total</th>\n",
              "      <th>has_urgency_banner</th>\n",
              "      <th>urgency_text</th>\n",
              "      <th>origin_country</th>\n",
              "      <th>merchant_title</th>\n",
              "      <th>merchant_name</th>\n",
              "      <th>merchant_info_subtitle</th>\n",
              "      <th>merchant_rating_count</th>\n",
              "      <th>merchant_rating</th>\n",
              "      <th>merchant_id</th>\n",
              "      <th>merchant_has_profile_picture</th>\n",
              "      <th>merchant_profile_picture</th>\n",
              "      <th>product_url</th>\n",
              "      <th>product_picture</th>\n",
              "      <th>product_id</th>\n",
              "      <th>theme</th>\n",
              "      <th>crawl_month</th>\n",
              "    </tr>\n",
              "  </thead>\n",
              "  <tbody>\n",
              "    <tr>\n",
              "      <th>0</th>\n",
              "      <td>2020 Summer Vintage Flamingo Print  Pajamas Se...</td>\n",
              "      <td>2020 Summer Vintage Flamingo Print  Pajamas Se...</td>\n",
              "      <td>16.00</td>\n",
              "      <td>14</td>\n",
              "      <td>EUR</td>\n",
              "      <td>100</td>\n",
              "      <td>0</td>\n",
              "      <td>3.76</td>\n",
              "      <td>54</td>\n",
              "      <td>26.0</td>\n",
              "      <td>8.0</td>\n",
              "      <td>10.0</td>\n",
              "      <td>1.0</td>\n",
              "      <td>9.0</td>\n",
              "      <td>0</td>\n",
              "      <td>0</td>\n",
              "      <td>0</td>\n",
              "      <td>0</td>\n",
              "      <td>Summer,Fashion,womenunderwearsuit,printedpajam...</td>\n",
              "      <td>white</td>\n",
              "      <td>M</td>\n",
              "      <td>50</td>\n",
              "      <td>Livraison standard</td>\n",
              "      <td>4</td>\n",
              "      <td>0</td>\n",
              "      <td>34</td>\n",
              "      <td>50</td>\n",
              "      <td>1.0</td>\n",
              "      <td>Quantité limitée !</td>\n",
              "      <td>CN</td>\n",
              "      <td>zgrdejia</td>\n",
              "      <td>zgrdejia</td>\n",
              "      <td>(568 notes)</td>\n",
              "      <td>568</td>\n",
              "      <td>4.128521</td>\n",
              "      <td>595097d6a26f6e070cb878d1</td>\n",
              "      <td>0</td>\n",
              "      <td>NaN</td>\n",
              "      <td>https://www.wish.com/c/5e9ae51d43d6a96e303acdb0</td>\n",
              "      <td>https://contestimg.wish.com/api/webimage/5e9ae...</td>\n",
              "      <td>5e9ae51d43d6a96e303acdb0</td>\n",
              "      <td>summer</td>\n",
              "      <td>2020-08</td>\n",
              "    </tr>\n",
              "    <tr>\n",
              "      <th>1</th>\n",
              "      <td>SSHOUSE Summer Casual Sleeveless Soirée Party ...</td>\n",
              "      <td>Women's Casual Summer Sleeveless Sexy Mini Dress</td>\n",
              "      <td>8.00</td>\n",
              "      <td>22</td>\n",
              "      <td>EUR</td>\n",
              "      <td>20000</td>\n",
              "      <td>1</td>\n",
              "      <td>3.45</td>\n",
              "      <td>6135</td>\n",
              "      <td>2269.0</td>\n",
              "      <td>1027.0</td>\n",
              "      <td>1118.0</td>\n",
              "      <td>644.0</td>\n",
              "      <td>1077.0</td>\n",
              "      <td>0</td>\n",
              "      <td>0</td>\n",
              "      <td>0</td>\n",
              "      <td>0</td>\n",
              "      <td>Mini,womens dresses,Summer,Patchwork,fashion d...</td>\n",
              "      <td>green</td>\n",
              "      <td>XS</td>\n",
              "      <td>50</td>\n",
              "      <td>Livraison standard</td>\n",
              "      <td>2</td>\n",
              "      <td>0</td>\n",
              "      <td>41</td>\n",
              "      <td>50</td>\n",
              "      <td>1.0</td>\n",
              "      <td>Quantité limitée !</td>\n",
              "      <td>CN</td>\n",
              "      <td>SaraHouse</td>\n",
              "      <td>sarahouse</td>\n",
              "      <td>83 % avis positifs (17,752 notes)</td>\n",
              "      <td>17752</td>\n",
              "      <td>3.899673</td>\n",
              "      <td>56458aa03a698c35c9050988</td>\n",
              "      <td>0</td>\n",
              "      <td>NaN</td>\n",
              "      <td>https://www.wish.com/c/58940d436a0d3d5da4e95a38</td>\n",
              "      <td>https://contestimg.wish.com/api/webimage/58940...</td>\n",
              "      <td>58940d436a0d3d5da4e95a38</td>\n",
              "      <td>summer</td>\n",
              "      <td>2020-08</td>\n",
              "    </tr>\n",
              "    <tr>\n",
              "      <th>2</th>\n",
              "      <td>2020 Nouvelle Arrivée Femmes Printemps et Été ...</td>\n",
              "      <td>2020 New Arrival Women Spring and Summer Beach...</td>\n",
              "      <td>8.00</td>\n",
              "      <td>43</td>\n",
              "      <td>EUR</td>\n",
              "      <td>100</td>\n",
              "      <td>0</td>\n",
              "      <td>3.57</td>\n",
              "      <td>14</td>\n",
              "      <td>5.0</td>\n",
              "      <td>4.0</td>\n",
              "      <td>2.0</td>\n",
              "      <td>0.0</td>\n",
              "      <td>3.0</td>\n",
              "      <td>0</td>\n",
              "      <td>0</td>\n",
              "      <td>0</td>\n",
              "      <td>0</td>\n",
              "      <td>Summer,cardigan,women beachwear,chiffon,Sexy w...</td>\n",
              "      <td>leopardprint</td>\n",
              "      <td>XS</td>\n",
              "      <td>1</td>\n",
              "      <td>Livraison standard</td>\n",
              "      <td>3</td>\n",
              "      <td>0</td>\n",
              "      <td>36</td>\n",
              "      <td>50</td>\n",
              "      <td>1.0</td>\n",
              "      <td>Quantité limitée !</td>\n",
              "      <td>CN</td>\n",
              "      <td>hxt520</td>\n",
              "      <td>hxt520</td>\n",
              "      <td>86 % avis positifs (295 notes)</td>\n",
              "      <td>295</td>\n",
              "      <td>3.989831</td>\n",
              "      <td>5d464a1ffdf7bc44ee933c65</td>\n",
              "      <td>0</td>\n",
              "      <td>NaN</td>\n",
              "      <td>https://www.wish.com/c/5ea10e2c617580260d55310a</td>\n",
              "      <td>https://contestimg.wish.com/api/webimage/5ea10...</td>\n",
              "      <td>5ea10e2c617580260d55310a</td>\n",
              "      <td>summer</td>\n",
              "      <td>2020-08</td>\n",
              "    </tr>\n",
              "    <tr>\n",
              "      <th>3</th>\n",
              "      <td>Hot Summer Cool T-shirt pour les femmes Mode T...</td>\n",
              "      <td>Hot Summer Cool T Shirt for Women Fashion Tops...</td>\n",
              "      <td>8.00</td>\n",
              "      <td>8</td>\n",
              "      <td>EUR</td>\n",
              "      <td>5000</td>\n",
              "      <td>1</td>\n",
              "      <td>4.03</td>\n",
              "      <td>579</td>\n",
              "      <td>295.0</td>\n",
              "      <td>119.0</td>\n",
              "      <td>87.0</td>\n",
              "      <td>42.0</td>\n",
              "      <td>36.0</td>\n",
              "      <td>0</td>\n",
              "      <td>0</td>\n",
              "      <td>0</td>\n",
              "      <td>0</td>\n",
              "      <td>Summer,Shorts,Cotton,Cotton T Shirt,Sleeve,pri...</td>\n",
              "      <td>black</td>\n",
              "      <td>M</td>\n",
              "      <td>50</td>\n",
              "      <td>Livraison standard</td>\n",
              "      <td>2</td>\n",
              "      <td>0</td>\n",
              "      <td>41</td>\n",
              "      <td>50</td>\n",
              "      <td>NaN</td>\n",
              "      <td>NaN</td>\n",
              "      <td>CN</td>\n",
              "      <td>allenfan</td>\n",
              "      <td>allenfan</td>\n",
              "      <td>(23,832 notes)</td>\n",
              "      <td>23832</td>\n",
              "      <td>4.020435</td>\n",
              "      <td>58cfdefdacb37b556efdff7c</td>\n",
              "      <td>0</td>\n",
              "      <td>NaN</td>\n",
              "      <td>https://www.wish.com/c/5cedf17ad1d44c52c59e4aca</td>\n",
              "      <td>https://contestimg.wish.com/api/webimage/5cedf...</td>\n",
              "      <td>5cedf17ad1d44c52c59e4aca</td>\n",
              "      <td>summer</td>\n",
              "      <td>2020-08</td>\n",
              "    </tr>\n",
              "    <tr>\n",
              "      <th>4</th>\n",
              "      <td>Femmes Shorts d'été à lacets taille élastique ...</td>\n",
              "      <td>Women Summer Shorts Lace Up Elastic Waistband ...</td>\n",
              "      <td>2.72</td>\n",
              "      <td>3</td>\n",
              "      <td>EUR</td>\n",
              "      <td>100</td>\n",
              "      <td>1</td>\n",
              "      <td>3.10</td>\n",
              "      <td>20</td>\n",
              "      <td>6.0</td>\n",
              "      <td>4.0</td>\n",
              "      <td>2.0</td>\n",
              "      <td>2.0</td>\n",
              "      <td>6.0</td>\n",
              "      <td>0</td>\n",
              "      <td>0</td>\n",
              "      <td>0</td>\n",
              "      <td>0</td>\n",
              "      <td>Summer,Plus Size,Lace,Casual pants,Bottom,pant...</td>\n",
              "      <td>yellow</td>\n",
              "      <td>S</td>\n",
              "      <td>1</td>\n",
              "      <td>Livraison standard</td>\n",
              "      <td>1</td>\n",
              "      <td>0</td>\n",
              "      <td>35</td>\n",
              "      <td>50</td>\n",
              "      <td>1.0</td>\n",
              "      <td>Quantité limitée !</td>\n",
              "      <td>CN</td>\n",
              "      <td>youngpeopleshop</td>\n",
              "      <td>happyhorses</td>\n",
              "      <td>85 % avis positifs (14,482 notes)</td>\n",
              "      <td>14482</td>\n",
              "      <td>4.001588</td>\n",
              "      <td>5ab3b592c3911a095ad5dadb</td>\n",
              "      <td>0</td>\n",
              "      <td>NaN</td>\n",
              "      <td>https://www.wish.com/c/5ebf5819ebac372b070b0e70</td>\n",
              "      <td>https://contestimg.wish.com/api/webimage/5ebf5...</td>\n",
              "      <td>5ebf5819ebac372b070b0e70</td>\n",
              "      <td>summer</td>\n",
              "      <td>2020-08</td>\n",
              "    </tr>\n",
              "    <tr>\n",
              "      <th>...</th>\n",
              "      <td>...</td>\n",
              "      <td>...</td>\n",
              "      <td>...</td>\n",
              "      <td>...</td>\n",
              "      <td>...</td>\n",
              "      <td>...</td>\n",
              "      <td>...</td>\n",
              "      <td>...</td>\n",
              "      <td>...</td>\n",
              "      <td>...</td>\n",
              "      <td>...</td>\n",
              "      <td>...</td>\n",
              "      <td>...</td>\n",
              "      <td>...</td>\n",
              "      <td>...</td>\n",
              "      <td>...</td>\n",
              "      <td>...</td>\n",
              "      <td>...</td>\n",
              "      <td>...</td>\n",
              "      <td>...</td>\n",
              "      <td>...</td>\n",
              "      <td>...</td>\n",
              "      <td>...</td>\n",
              "      <td>...</td>\n",
              "      <td>...</td>\n",
              "      <td>...</td>\n",
              "      <td>...</td>\n",
              "      <td>...</td>\n",
              "      <td>...</td>\n",
              "      <td>...</td>\n",
              "      <td>...</td>\n",
              "      <td>...</td>\n",
              "      <td>...</td>\n",
              "      <td>...</td>\n",
              "      <td>...</td>\n",
              "      <td>...</td>\n",
              "      <td>...</td>\n",
              "      <td>...</td>\n",
              "      <td>...</td>\n",
              "      <td>...</td>\n",
              "      <td>...</td>\n",
              "      <td>...</td>\n",
              "      <td>...</td>\n",
              "    </tr>\n",
              "    <tr>\n",
              "      <th>1568</th>\n",
              "      <td>Nouvelle Mode Femmes Bohême Pissenlit Imprimer...</td>\n",
              "      <td>New Fashion Women Bohemia Dandelion Print Tee ...</td>\n",
              "      <td>6.00</td>\n",
              "      <td>9</td>\n",
              "      <td>EUR</td>\n",
              "      <td>10000</td>\n",
              "      <td>1</td>\n",
              "      <td>4.08</td>\n",
              "      <td>1367</td>\n",
              "      <td>722.0</td>\n",
              "      <td>293.0</td>\n",
              "      <td>185.0</td>\n",
              "      <td>77.0</td>\n",
              "      <td>90.0</td>\n",
              "      <td>0</td>\n",
              "      <td>0</td>\n",
              "      <td>0</td>\n",
              "      <td>0</td>\n",
              "      <td>bohemia,Plus Size,dandelionfloralprinted,short...</td>\n",
              "      <td>navyblue</td>\n",
              "      <td>S</td>\n",
              "      <td>50</td>\n",
              "      <td>Livraison standard</td>\n",
              "      <td>2</td>\n",
              "      <td>0</td>\n",
              "      <td>41</td>\n",
              "      <td>50</td>\n",
              "      <td>NaN</td>\n",
              "      <td>NaN</td>\n",
              "      <td>CN</td>\n",
              "      <td>cxuelin99126</td>\n",
              "      <td>cxuelin99126</td>\n",
              "      <td>90 % avis positifs (5,316 notes)</td>\n",
              "      <td>5316</td>\n",
              "      <td>4.224605</td>\n",
              "      <td>5b507899ab577736508a0782</td>\n",
              "      <td>0</td>\n",
              "      <td>NaN</td>\n",
              "      <td>https://www.wish.com/c/5d5fadc99febd9356cbc52ee</td>\n",
              "      <td>https://contestimg.wish.com/api/webimage/5d5fa...</td>\n",
              "      <td>5d5fadc99febd9356cbc52ee</td>\n",
              "      <td>summer</td>\n",
              "      <td>2020-08</td>\n",
              "    </tr>\n",
              "    <tr>\n",
              "      <th>1569</th>\n",
              "      <td>10 couleurs femmes shorts d'été lacent ceintur...</td>\n",
              "      <td>10 Color Women Summer Shorts Lace Up Elastic W...</td>\n",
              "      <td>2.00</td>\n",
              "      <td>56</td>\n",
              "      <td>EUR</td>\n",
              "      <td>100</td>\n",
              "      <td>1</td>\n",
              "      <td>3.07</td>\n",
              "      <td>28</td>\n",
              "      <td>11.0</td>\n",
              "      <td>3.0</td>\n",
              "      <td>1.0</td>\n",
              "      <td>3.0</td>\n",
              "      <td>10.0</td>\n",
              "      <td>0</td>\n",
              "      <td>0</td>\n",
              "      <td>0</td>\n",
              "      <td>0</td>\n",
              "      <td>Summer,Panties,Elastic,Lace,Casual pants,casua...</td>\n",
              "      <td>lightblue</td>\n",
              "      <td>S</td>\n",
              "      <td>2</td>\n",
              "      <td>Livraison standard</td>\n",
              "      <td>1</td>\n",
              "      <td>0</td>\n",
              "      <td>26</td>\n",
              "      <td>50</td>\n",
              "      <td>1.0</td>\n",
              "      <td>Quantité limitée !</td>\n",
              "      <td>CN</td>\n",
              "      <td>sell best quality goods</td>\n",
              "      <td>sellbestqualitygoods</td>\n",
              "      <td>(4,435 notes)</td>\n",
              "      <td>4435</td>\n",
              "      <td>3.696054</td>\n",
              "      <td>54d83b6b6b8a771e478558de</td>\n",
              "      <td>0</td>\n",
              "      <td>NaN</td>\n",
              "      <td>https://www.wish.com/c/5eccd22b4497b86fd48f16b4</td>\n",
              "      <td>https://contestimg.wish.com/api/webimage/5eccd...</td>\n",
              "      <td>5eccd22b4497b86fd48f16b4</td>\n",
              "      <td>summer</td>\n",
              "      <td>2020-08</td>\n",
              "    </tr>\n",
              "    <tr>\n",
              "      <th>1570</th>\n",
              "      <td>Nouveautés Hommes Siwmwear Beach-Shorts Hommes...</td>\n",
              "      <td>New Men Siwmwear Beach-Shorts Men Summer Quick...</td>\n",
              "      <td>5.00</td>\n",
              "      <td>19</td>\n",
              "      <td>EUR</td>\n",
              "      <td>100</td>\n",
              "      <td>0</td>\n",
              "      <td>3.71</td>\n",
              "      <td>59</td>\n",
              "      <td>24.0</td>\n",
              "      <td>15.0</td>\n",
              "      <td>8.0</td>\n",
              "      <td>3.0</td>\n",
              "      <td>9.0</td>\n",
              "      <td>0</td>\n",
              "      <td>0</td>\n",
              "      <td>0</td>\n",
              "      <td>0</td>\n",
              "      <td>runningshort,Beach Shorts,beachpant,menbeachsh...</td>\n",
              "      <td>white</td>\n",
              "      <td>SIZE S</td>\n",
              "      <td>15</td>\n",
              "      <td>Livraison standard</td>\n",
              "      <td>2</td>\n",
              "      <td>0</td>\n",
              "      <td>11</td>\n",
              "      <td>50</td>\n",
              "      <td>NaN</td>\n",
              "      <td>NaN</td>\n",
              "      <td>CN</td>\n",
              "      <td>shixueying</td>\n",
              "      <td>shixueying</td>\n",
              "      <td>86 % avis positifs (210 notes)</td>\n",
              "      <td>210</td>\n",
              "      <td>3.961905</td>\n",
              "      <td>5b42da1bf64320209fc8da69</td>\n",
              "      <td>0</td>\n",
              "      <td>NaN</td>\n",
              "      <td>https://www.wish.com/c/5e74be96034d613d42b52dfe</td>\n",
              "      <td>https://contestimg.wish.com/api/webimage/5e74b...</td>\n",
              "      <td>5e74be96034d613d42b52dfe</td>\n",
              "      <td>summer</td>\n",
              "      <td>2020-08</td>\n",
              "    </tr>\n",
              "    <tr>\n",
              "      <th>1571</th>\n",
              "      <td>Mode femmes d'été sans manches robes col en V ...</td>\n",
              "      <td>Fashion Women Summer Sleeveless Dresses V Neck...</td>\n",
              "      <td>13.00</td>\n",
              "      <td>11</td>\n",
              "      <td>EUR</td>\n",
              "      <td>100</td>\n",
              "      <td>0</td>\n",
              "      <td>2.50</td>\n",
              "      <td>2</td>\n",
              "      <td>0.0</td>\n",
              "      <td>1.0</td>\n",
              "      <td>0.0</td>\n",
              "      <td>0.0</td>\n",
              "      <td>1.0</td>\n",
              "      <td>0</td>\n",
              "      <td>0</td>\n",
              "      <td>0</td>\n",
              "      <td>0</td>\n",
              "      <td>Summer,fashion women,Fashion,Lace,Dresses,Dres...</td>\n",
              "      <td>white</td>\n",
              "      <td>Size S.</td>\n",
              "      <td>36</td>\n",
              "      <td>Livraison standard</td>\n",
              "      <td>3</td>\n",
              "      <td>0</td>\n",
              "      <td>29</td>\n",
              "      <td>50</td>\n",
              "      <td>NaN</td>\n",
              "      <td>NaN</td>\n",
              "      <td>CN</td>\n",
              "      <td>modai</td>\n",
              "      <td>modai</td>\n",
              "      <td>77 % avis positifs (31 notes)</td>\n",
              "      <td>31</td>\n",
              "      <td>3.774194</td>\n",
              "      <td>5d56b32c40defd78043d5af9</td>\n",
              "      <td>0</td>\n",
              "      <td>NaN</td>\n",
              "      <td>https://www.wish.com/c/5eda07ab0e295c2097c36590</td>\n",
              "      <td>https://contestimg.wish.com/api/webimage/5eda0...</td>\n",
              "      <td>5eda07ab0e295c2097c36590</td>\n",
              "      <td>summer</td>\n",
              "      <td>2020-08</td>\n",
              "    </tr>\n",
              "    <tr>\n",
              "      <th>1572</th>\n",
              "      <td>Pantalon de yoga pour femmes à la mode Slim Fi...</td>\n",
              "      <td>Fashion Women Yoga Pants Slim Fit Fitness Runn...</td>\n",
              "      <td>7.00</td>\n",
              "      <td>6</td>\n",
              "      <td>EUR</td>\n",
              "      <td>100</td>\n",
              "      <td>1</td>\n",
              "      <td>4.07</td>\n",
              "      <td>14</td>\n",
              "      <td>8.0</td>\n",
              "      <td>3.0</td>\n",
              "      <td>1.0</td>\n",
              "      <td>0.0</td>\n",
              "      <td>2.0</td>\n",
              "      <td>0</td>\n",
              "      <td>0</td>\n",
              "      <td>0</td>\n",
              "      <td>0</td>\n",
              "      <td>Summer,Leggings,slim,Yoga,pants,Slim Fit,Women...</td>\n",
              "      <td>red</td>\n",
              "      <td>S</td>\n",
              "      <td>50</td>\n",
              "      <td>Livraison standard</td>\n",
              "      <td>2</td>\n",
              "      <td>0</td>\n",
              "      <td>41</td>\n",
              "      <td>50</td>\n",
              "      <td>NaN</td>\n",
              "      <td>NaN</td>\n",
              "      <td>CN</td>\n",
              "      <td>AISHOPPINGMALL</td>\n",
              "      <td>aishoppingmall</td>\n",
              "      <td>90 % avis positifs (7,023 notes)</td>\n",
              "      <td>7023</td>\n",
              "      <td>4.235939</td>\n",
              "      <td>5a409cf87b584e7951b2e25f</td>\n",
              "      <td>0</td>\n",
              "      <td>NaN</td>\n",
              "      <td>https://www.wish.com/c/5e857321f53c3d2d8f25e7ed</td>\n",
              "      <td>https://contestimg.wish.com/api/webimage/5e857...</td>\n",
              "      <td>5e857321f53c3d2d8f25e7ed</td>\n",
              "      <td>summer</td>\n",
              "      <td>2020-08</td>\n",
              "    </tr>\n",
              "  </tbody>\n",
              "</table>\n",
              "<p>1573 rows × 43 columns</p>\n",
              "</div>"
            ],
            "text/plain": [
              "                                                  title  ... crawl_month\n",
              "0     2020 Summer Vintage Flamingo Print  Pajamas Se...  ...     2020-08\n",
              "1     SSHOUSE Summer Casual Sleeveless Soirée Party ...  ...     2020-08\n",
              "2     2020 Nouvelle Arrivée Femmes Printemps et Été ...  ...     2020-08\n",
              "3     Hot Summer Cool T-shirt pour les femmes Mode T...  ...     2020-08\n",
              "4     Femmes Shorts d'été à lacets taille élastique ...  ...     2020-08\n",
              "...                                                 ...  ...         ...\n",
              "1568  Nouvelle Mode Femmes Bohême Pissenlit Imprimer...  ...     2020-08\n",
              "1569  10 couleurs femmes shorts d'été lacent ceintur...  ...     2020-08\n",
              "1570  Nouveautés Hommes Siwmwear Beach-Shorts Hommes...  ...     2020-08\n",
              "1571  Mode femmes d'été sans manches robes col en V ...  ...     2020-08\n",
              "1572  Pantalon de yoga pour femmes à la mode Slim Fi...  ...     2020-08\n",
              "\n",
              "[1573 rows x 43 columns]"
            ]
          },
          "metadata": {},
          "execution_count": 2
        }
      ]
    },
    {
      "cell_type": "code",
      "metadata": {
        "id": "i7XJlKjr6OQ7",
        "colab": {
          "base_uri": "https://localhost:8080/"
        },
        "outputId": "5767e3af-0029-4943-c85c-eb0d267e2153"
      },
      "source": [
        "df.info()"
      ],
      "execution_count": 3,
      "outputs": [
        {
          "output_type": "stream",
          "name": "stdout",
          "text": [
            "<class 'pandas.core.frame.DataFrame'>\n",
            "RangeIndex: 1573 entries, 0 to 1572\n",
            "Data columns (total 43 columns):\n",
            " #   Column                        Non-Null Count  Dtype  \n",
            "---  ------                        --------------  -----  \n",
            " 0   title                         1573 non-null   object \n",
            " 1   title_orig                    1573 non-null   object \n",
            " 2   price                         1573 non-null   float64\n",
            " 3   retail_price                  1573 non-null   int64  \n",
            " 4   currency_buyer                1573 non-null   object \n",
            " 5   units_sold                    1573 non-null   int64  \n",
            " 6   uses_ad_boosts                1573 non-null   int64  \n",
            " 7   rating                        1573 non-null   float64\n",
            " 8   rating_count                  1573 non-null   int64  \n",
            " 9   rating_five_count             1528 non-null   float64\n",
            " 10  rating_four_count             1528 non-null   float64\n",
            " 11  rating_three_count            1528 non-null   float64\n",
            " 12  rating_two_count              1528 non-null   float64\n",
            " 13  rating_one_count              1528 non-null   float64\n",
            " 14  badges_count                  1573 non-null   int64  \n",
            " 15  badge_local_product           1573 non-null   int64  \n",
            " 16  badge_product_quality         1573 non-null   int64  \n",
            " 17  badge_fast_shipping           1573 non-null   int64  \n",
            " 18  tags                          1573 non-null   object \n",
            " 19  product_color                 1532 non-null   object \n",
            " 20  product_variation_size_id     1559 non-null   object \n",
            " 21  product_variation_inventory   1573 non-null   int64  \n",
            " 22  shipping_option_name          1573 non-null   object \n",
            " 23  shipping_option_price         1573 non-null   int64  \n",
            " 24  shipping_is_express           1573 non-null   int64  \n",
            " 25  countries_shipped_to          1573 non-null   int64  \n",
            " 26  inventory_total               1573 non-null   int64  \n",
            " 27  has_urgency_banner            473 non-null    float64\n",
            " 28  urgency_text                  473 non-null    object \n",
            " 29  origin_country                1556 non-null   object \n",
            " 30  merchant_title                1573 non-null   object \n",
            " 31  merchant_name                 1569 non-null   object \n",
            " 32  merchant_info_subtitle        1572 non-null   object \n",
            " 33  merchant_rating_count         1573 non-null   int64  \n",
            " 34  merchant_rating               1573 non-null   float64\n",
            " 35  merchant_id                   1573 non-null   object \n",
            " 36  merchant_has_profile_picture  1573 non-null   int64  \n",
            " 37  merchant_profile_picture      226 non-null    object \n",
            " 38  product_url                   1573 non-null   object \n",
            " 39  product_picture               1573 non-null   object \n",
            " 40  product_id                    1573 non-null   object \n",
            " 41  theme                         1573 non-null   object \n",
            " 42  crawl_month                   1573 non-null   object \n",
            "dtypes: float64(9), int64(15), object(19)\n",
            "memory usage: 528.6+ KB\n"
          ]
        }
      ]
    },
    {
      "cell_type": "code",
      "metadata": {
        "id": "83-wKZlX6O0J",
        "colab": {
          "base_uri": "https://localhost:8080/"
        },
        "outputId": "4edf76ea-e0ce-4e9e-b429-e411e7f3a150"
      },
      "source": [
        "print(f'데이터의 총 개수는 : {len(df)}개')\n",
        "print('-'*50)\n",
        "round(df.isnull().mean().sort_values(ascending =False)*100)"
      ],
      "execution_count": 4,
      "outputs": [
        {
          "output_type": "stream",
          "name": "stdout",
          "text": [
            "데이터의 총 개수는 : 1573개\n",
            "--------------------------------------------------\n"
          ]
        },
        {
          "output_type": "execute_result",
          "data": {
            "text/plain": [
              "merchant_profile_picture        86.0\n",
              "has_urgency_banner              70.0\n",
              "urgency_text                    70.0\n",
              "rating_one_count                 3.0\n",
              "rating_two_count                 3.0\n",
              "rating_three_count               3.0\n",
              "rating_four_count                3.0\n",
              "rating_five_count                3.0\n",
              "product_color                    3.0\n",
              "origin_country                   1.0\n",
              "product_variation_size_id        1.0\n",
              "merchant_name                    0.0\n",
              "merchant_info_subtitle           0.0\n",
              "crawl_month                      0.0\n",
              "badges_count                     0.0\n",
              "rating_count                     0.0\n",
              "badge_product_quality            0.0\n",
              "rating                           0.0\n",
              "uses_ad_boosts                   0.0\n",
              "units_sold                       0.0\n",
              "currency_buyer                   0.0\n",
              "retail_price                     0.0\n",
              "price                            0.0\n",
              "title_orig                       0.0\n",
              "badge_local_product              0.0\n",
              "product_variation_inventory      0.0\n",
              "badge_fast_shipping              0.0\n",
              "merchant_rating_count            0.0\n",
              "product_id                       0.0\n",
              "product_picture                  0.0\n",
              "product_url                      0.0\n",
              "merchant_has_profile_picture     0.0\n",
              "merchant_id                      0.0\n",
              "merchant_rating                  0.0\n",
              "merchant_title                   0.0\n",
              "tags                             0.0\n",
              "inventory_total                  0.0\n",
              "countries_shipped_to             0.0\n",
              "shipping_is_express              0.0\n",
              "shipping_option_price            0.0\n",
              "shipping_option_name             0.0\n",
              "theme                            0.0\n",
              "title                            0.0\n",
              "dtype: float64"
            ]
          },
          "metadata": {},
          "execution_count": 4
        }
      ]
    },
    {
      "cell_type": "markdown",
      "metadata": {
        "id": "Nk66M-ati5mD"
      },
      "source": [
        "## 결측값 처리"
      ]
    },
    {
      "cell_type": "code",
      "metadata": {
        "colab": {
          "base_uri": "https://localhost:8080/"
        },
        "id": "nH9zDxVxU6ML",
        "outputId": "0bc4ea19-22fc-4aec-8578-0200f499cbd8"
      },
      "source": [
        "# 결측값 제거 \n",
        "\n",
        "# 결측비율 70% 이상 컬럼 삭제\n",
        "df = df.drop(columns = ['merchant_profile_picture', 'has_urgency_banner', 'urgency_text'])\n",
        "\n",
        "# rating_one_count ~ _five_count 는 분석에 사용할 컬럼이며, 결측값이  작아서 삭제\n",
        "list = []\n",
        "for i in df[df['rating_one_count'].isnull() == True].index:\n",
        "  list.append(i)\n",
        "df = df.drop(index = list)\n",
        "\n",
        "# origin_country의 대부분이 'CN'이므로 해당값으로 치환\n",
        "df['origin_country'] = df['origin_country'].fillna('CN')\n",
        "\n",
        "# 변경가능한 사이즈는 종류가 105개로 각기 다른기준으로 구분되어있어 컬럼을 삭제\n",
        "df = df.drop(columns = 'product_variation_size_id')\n",
        "\n",
        "\n",
        "\n",
        "print(f'결측값 제거후 남은 데이터의 수: {len(df)}')"
      ],
      "execution_count": 5,
      "outputs": [
        {
          "output_type": "stream",
          "name": "stdout",
          "text": [
            "결측값 제거후 남은 데이터의 수: 1528\n"
          ]
        }
      ]
    },
    {
      "cell_type": "code",
      "metadata": {
        "colab": {
          "base_uri": "https://localhost:8080/",
          "height": 1000
        },
        "id": "XVEhGYOr17kU",
        "outputId": "4665051c-ebcd-4ded-b1ba-6b278f847121"
      },
      "source": [
        "# 상품색상 결측값 데이터 확인\n",
        "\n",
        "# 앞선 결측값제거로 인한 인덱스 초기화\n",
        "df = df.reset_index().drop(columns = 'index')\n",
        "\n",
        "# 상품 색상 결측값 확인 \n",
        "print(len(df.loc[df['product_color'].isna() == True]))\n",
        "\n",
        "# 직접 url로 상품을 확인후 결측값을 채워준다.\n",
        "df.loc[df['product_color'].isna() == True][['product_color','product_url']]"
      ],
      "execution_count": 6,
      "outputs": [
        {
          "output_type": "stream",
          "name": "stdout",
          "text": [
            "38\n"
          ]
        },
        {
          "output_type": "execute_result",
          "data": {
            "text/html": [
              "<div>\n",
              "<style scoped>\n",
              "    .dataframe tbody tr th:only-of-type {\n",
              "        vertical-align: middle;\n",
              "    }\n",
              "\n",
              "    .dataframe tbody tr th {\n",
              "        vertical-align: top;\n",
              "    }\n",
              "\n",
              "    .dataframe thead th {\n",
              "        text-align: right;\n",
              "    }\n",
              "</style>\n",
              "<table border=\"1\" class=\"dataframe\">\n",
              "  <thead>\n",
              "    <tr style=\"text-align: right;\">\n",
              "      <th></th>\n",
              "      <th>product_color</th>\n",
              "      <th>product_url</th>\n",
              "    </tr>\n",
              "  </thead>\n",
              "  <tbody>\n",
              "    <tr>\n",
              "      <th>26</th>\n",
              "      <td>NaN</td>\n",
              "      <td>https://www.wish.com/c/5b5edbae1e222732845e655f</td>\n",
              "    </tr>\n",
              "    <tr>\n",
              "      <th>30</th>\n",
              "      <td>NaN</td>\n",
              "      <td>https://www.wish.com/c/5c9d920da94960780239d468</td>\n",
              "    </tr>\n",
              "    <tr>\n",
              "      <th>146</th>\n",
              "      <td>NaN</td>\n",
              "      <td>https://www.wish.com/c/58e0f38f9bf29f55183efd0d</td>\n",
              "    </tr>\n",
              "    <tr>\n",
              "      <th>278</th>\n",
              "      <td>NaN</td>\n",
              "      <td>https://www.wish.com/c/5c935aa8778e8274b0bdcead</td>\n",
              "    </tr>\n",
              "    <tr>\n",
              "      <th>448</th>\n",
              "      <td>NaN</td>\n",
              "      <td>https://www.wish.com/c/5e70ba09e3d51e1002f7cf8e</td>\n",
              "    </tr>\n",
              "    <tr>\n",
              "      <th>486</th>\n",
              "      <td>NaN</td>\n",
              "      <td>https://www.wish.com/c/569de6363e68eb0d85e0cded</td>\n",
              "    </tr>\n",
              "    <tr>\n",
              "      <th>533</th>\n",
              "      <td>NaN</td>\n",
              "      <td>https://www.wish.com/c/56f640b461d6cf68cb5c5d83</td>\n",
              "    </tr>\n",
              "    <tr>\n",
              "      <th>570</th>\n",
              "      <td>NaN</td>\n",
              "      <td>https://www.wish.com/c/59636dbdc657d57012e8b3f3</td>\n",
              "    </tr>\n",
              "    <tr>\n",
              "      <th>572</th>\n",
              "      <td>NaN</td>\n",
              "      <td>https://www.wish.com/c/5ac302716931da0d71398f53</td>\n",
              "    </tr>\n",
              "    <tr>\n",
              "      <th>618</th>\n",
              "      <td>NaN</td>\n",
              "      <td>https://www.wish.com/c/5e7e0c35e27371898f419f5d</td>\n",
              "    </tr>\n",
              "    <tr>\n",
              "      <th>623</th>\n",
              "      <td>NaN</td>\n",
              "      <td>https://www.wish.com/c/5ce69880afab7162455321fe</td>\n",
              "    </tr>\n",
              "    <tr>\n",
              "      <th>624</th>\n",
              "      <td>NaN</td>\n",
              "      <td>https://www.wish.com/c/5926a32e5b3cde33d7993689</td>\n",
              "    </tr>\n",
              "    <tr>\n",
              "      <th>645</th>\n",
              "      <td>NaN</td>\n",
              "      <td>https://www.wish.com/c/594b7307a6623669348a92d1</td>\n",
              "    </tr>\n",
              "    <tr>\n",
              "      <th>673</th>\n",
              "      <td>NaN</td>\n",
              "      <td>https://www.wish.com/c/55a3818f65bfcb406995a2a5</td>\n",
              "    </tr>\n",
              "    <tr>\n",
              "      <th>690</th>\n",
              "      <td>NaN</td>\n",
              "      <td>https://www.wish.com/c/5def361cdcbcd1028120322d</td>\n",
              "    </tr>\n",
              "    <tr>\n",
              "      <th>712</th>\n",
              "      <td>NaN</td>\n",
              "      <td>https://www.wish.com/c/55acbdf8ed44704872df93e2</td>\n",
              "    </tr>\n",
              "    <tr>\n",
              "      <th>818</th>\n",
              "      <td>NaN</td>\n",
              "      <td>https://www.wish.com/c/5957163634bd9170cd0f7502</td>\n",
              "    </tr>\n",
              "    <tr>\n",
              "      <th>830</th>\n",
              "      <td>NaN</td>\n",
              "      <td>https://www.wish.com/c/5c944cf5b82fb711ad500ec2</td>\n",
              "    </tr>\n",
              "    <tr>\n",
              "      <th>855</th>\n",
              "      <td>NaN</td>\n",
              "      <td>https://www.wish.com/c/5cdd1c445632da70960b4b9a</td>\n",
              "    </tr>\n",
              "    <tr>\n",
              "      <th>944</th>\n",
              "      <td>NaN</td>\n",
              "      <td>https://www.wish.com/c/5ee8d64229e09b123f9e9aa7</td>\n",
              "    </tr>\n",
              "    <tr>\n",
              "      <th>988</th>\n",
              "      <td>NaN</td>\n",
              "      <td>https://www.wish.com/c/5ea7cdb941b27544b4f4694c</td>\n",
              "    </tr>\n",
              "    <tr>\n",
              "      <th>990</th>\n",
              "      <td>NaN</td>\n",
              "      <td>https://www.wish.com/c/567cb0925ff12c4829f07dfb</td>\n",
              "    </tr>\n",
              "    <tr>\n",
              "      <th>997</th>\n",
              "      <td>NaN</td>\n",
              "      <td>https://www.wish.com/c/5ebb6a3db1e97c2d2d60101f</td>\n",
              "    </tr>\n",
              "    <tr>\n",
              "      <th>1004</th>\n",
              "      <td>NaN</td>\n",
              "      <td>https://www.wish.com/c/5ee8d64229e09b123f9e9aa7</td>\n",
              "    </tr>\n",
              "    <tr>\n",
              "      <th>1008</th>\n",
              "      <td>NaN</td>\n",
              "      <td>https://www.wish.com/c/58aae24ddd127b534be35ae8</td>\n",
              "    </tr>\n",
              "    <tr>\n",
              "      <th>1033</th>\n",
              "      <td>NaN</td>\n",
              "      <td>https://www.wish.com/c/588c54fb6661e84246a8aa71</td>\n",
              "    </tr>\n",
              "    <tr>\n",
              "      <th>1067</th>\n",
              "      <td>NaN</td>\n",
              "      <td>https://www.wish.com/c/5cf10d573818e44a8e42f255</td>\n",
              "    </tr>\n",
              "    <tr>\n",
              "      <th>1072</th>\n",
              "      <td>NaN</td>\n",
              "      <td>https://www.wish.com/c/5abc519e3c1dc61e44e0667f</td>\n",
              "    </tr>\n",
              "    <tr>\n",
              "      <th>1079</th>\n",
              "      <td>NaN</td>\n",
              "      <td>https://www.wish.com/c/5bce9924df97d42c05eef81e</td>\n",
              "    </tr>\n",
              "    <tr>\n",
              "      <th>1083</th>\n",
              "      <td>NaN</td>\n",
              "      <td>https://www.wish.com/c/5ef2c54482e1e6221ffc7de9</td>\n",
              "    </tr>\n",
              "    <tr>\n",
              "      <th>1085</th>\n",
              "      <td>NaN</td>\n",
              "      <td>https://www.wish.com/c/5cda71c65ea3126b96be1ab9</td>\n",
              "    </tr>\n",
              "    <tr>\n",
              "      <th>1152</th>\n",
              "      <td>NaN</td>\n",
              "      <td>https://www.wish.com/c/5aec5aa5e08184220e174919</td>\n",
              "    </tr>\n",
              "    <tr>\n",
              "      <th>1301</th>\n",
              "      <td>NaN</td>\n",
              "      <td>https://www.wish.com/c/5ebe5359c88200382515760f</td>\n",
              "    </tr>\n",
              "    <tr>\n",
              "      <th>1330</th>\n",
              "      <td>NaN</td>\n",
              "      <td>https://www.wish.com/c/5e663f65b12772eb50bcf938</td>\n",
              "    </tr>\n",
              "    <tr>\n",
              "      <th>1425</th>\n",
              "      <td>NaN</td>\n",
              "      <td>https://www.wish.com/c/58df3eb809730e54ddd932ca</td>\n",
              "    </tr>\n",
              "    <tr>\n",
              "      <th>1427</th>\n",
              "      <td>NaN</td>\n",
              "      <td>https://www.wish.com/c/5ed5f7ccdfed1b4b1ac785c7</td>\n",
              "    </tr>\n",
              "    <tr>\n",
              "      <th>1431</th>\n",
              "      <td>NaN</td>\n",
              "      <td>https://www.wish.com/c/5ed34320dd296c304cb25970</td>\n",
              "    </tr>\n",
              "    <tr>\n",
              "      <th>1463</th>\n",
              "      <td>NaN</td>\n",
              "      <td>https://www.wish.com/c/5d6a0d55976cd02993e43250</td>\n",
              "    </tr>\n",
              "  </tbody>\n",
              "</table>\n",
              "</div>"
            ],
            "text/plain": [
              "     product_color                                      product_url\n",
              "26             NaN  https://www.wish.com/c/5b5edbae1e222732845e655f\n",
              "30             NaN  https://www.wish.com/c/5c9d920da94960780239d468\n",
              "146            NaN  https://www.wish.com/c/58e0f38f9bf29f55183efd0d\n",
              "278            NaN  https://www.wish.com/c/5c935aa8778e8274b0bdcead\n",
              "448            NaN  https://www.wish.com/c/5e70ba09e3d51e1002f7cf8e\n",
              "486            NaN  https://www.wish.com/c/569de6363e68eb0d85e0cded\n",
              "533            NaN  https://www.wish.com/c/56f640b461d6cf68cb5c5d83\n",
              "570            NaN  https://www.wish.com/c/59636dbdc657d57012e8b3f3\n",
              "572            NaN  https://www.wish.com/c/5ac302716931da0d71398f53\n",
              "618            NaN  https://www.wish.com/c/5e7e0c35e27371898f419f5d\n",
              "623            NaN  https://www.wish.com/c/5ce69880afab7162455321fe\n",
              "624            NaN  https://www.wish.com/c/5926a32e5b3cde33d7993689\n",
              "645            NaN  https://www.wish.com/c/594b7307a6623669348a92d1\n",
              "673            NaN  https://www.wish.com/c/55a3818f65bfcb406995a2a5\n",
              "690            NaN  https://www.wish.com/c/5def361cdcbcd1028120322d\n",
              "712            NaN  https://www.wish.com/c/55acbdf8ed44704872df93e2\n",
              "818            NaN  https://www.wish.com/c/5957163634bd9170cd0f7502\n",
              "830            NaN  https://www.wish.com/c/5c944cf5b82fb711ad500ec2\n",
              "855            NaN  https://www.wish.com/c/5cdd1c445632da70960b4b9a\n",
              "944            NaN  https://www.wish.com/c/5ee8d64229e09b123f9e9aa7\n",
              "988            NaN  https://www.wish.com/c/5ea7cdb941b27544b4f4694c\n",
              "990            NaN  https://www.wish.com/c/567cb0925ff12c4829f07dfb\n",
              "997            NaN  https://www.wish.com/c/5ebb6a3db1e97c2d2d60101f\n",
              "1004           NaN  https://www.wish.com/c/5ee8d64229e09b123f9e9aa7\n",
              "1008           NaN  https://www.wish.com/c/58aae24ddd127b534be35ae8\n",
              "1033           NaN  https://www.wish.com/c/588c54fb6661e84246a8aa71\n",
              "1067           NaN  https://www.wish.com/c/5cf10d573818e44a8e42f255\n",
              "1072           NaN  https://www.wish.com/c/5abc519e3c1dc61e44e0667f\n",
              "1079           NaN  https://www.wish.com/c/5bce9924df97d42c05eef81e\n",
              "1083           NaN  https://www.wish.com/c/5ef2c54482e1e6221ffc7de9\n",
              "1085           NaN  https://www.wish.com/c/5cda71c65ea3126b96be1ab9\n",
              "1152           NaN  https://www.wish.com/c/5aec5aa5e08184220e174919\n",
              "1301           NaN  https://www.wish.com/c/5ebe5359c88200382515760f\n",
              "1330           NaN  https://www.wish.com/c/5e663f65b12772eb50bcf938\n",
              "1425           NaN  https://www.wish.com/c/58df3eb809730e54ddd932ca\n",
              "1427           NaN  https://www.wish.com/c/5ed5f7ccdfed1b4b1ac785c7\n",
              "1431           NaN  https://www.wish.com/c/5ed34320dd296c304cb25970\n",
              "1463           NaN  https://www.wish.com/c/5d6a0d55976cd02993e43250"
            ]
          },
          "metadata": {},
          "execution_count": 6
        }
      ]
    },
    {
      "cell_type": "markdown",
      "metadata": {
        "id": "jFl4FyQY_66y"
      },
      "source": [
        "직접 상품의 링크에 접속해서 색깔정보를 채워넣기"
      ]
    },
    {
      "cell_type": "code",
      "metadata": {
        "id": "u6lsu71-2RkF"
      },
      "source": [
        "# 상품색상 결측값 채우기\n",
        "df.iloc[26,19] = 'white'\n",
        "df.iloc[30,19]= 'black'\n",
        "df.iloc[146,19] = 'rainbow'\n",
        "df.iloc[278,19] = 'black'\n",
        "df.iloc[486,19] = 'black'\n",
        "df.iloc[533,19] = 'white'\n",
        "df.iloc[570,19] = 'mintgreen'\n",
        "df.iloc[572,19] = 'black'\n",
        "df.iloc[623,19] = 'black'\n",
        "df.iloc[624,19] = 'black'\n",
        "df.iloc[645,19] = 'black'\n",
        "df.iloc[673,19] = 'white'\n",
        "df.iloc[712,19] = 'white'\n",
        "df.iloc[818,19] = 'white'\n",
        "df.iloc[855,19] = 'rainbow'\n",
        "df.iloc[990,19] = 'mintgreen'\n",
        "df.iloc[1008,19] = 'blue'\n",
        "df.iloc[1033,19] = 'pink'\n",
        "df.iloc[1067,19] = 'rainbow'\n",
        "df.iloc[1072,19] = 'white & black'\n",
        "df.iloc[1079,19] = 'white'\n",
        "df.iloc[1085,19] = 'white'\n",
        "df.iloc[1425,19] = 'white'\n",
        "\n",
        "# 상품확인결과 기타 일반 물건에 의한 색상 구분이 어려워 삭제\n",
        "df = df.drop(index = [448, 618, 690, 830, 944, 988, 997, 1004, 1083, 1152, 1301, 1330, 1427, 1431, 1463])"
      ],
      "execution_count": 7,
      "outputs": []
    },
    {
      "cell_type": "code",
      "metadata": {
        "colab": {
          "base_uri": "https://localhost:8080/"
        },
        "id": "8uGpsDLtAawe",
        "outputId": "6c9188ea-fdae-472e-e9f8-2f5a3091f370"
      },
      "source": [
        "print(f'데이터의 총 개수는 : {len(df)}개')\n",
        "print('-'*50)\n",
        "round(df.isnull().mean().sort_values(ascending =False)*100)"
      ],
      "execution_count": 8,
      "outputs": [
        {
          "output_type": "stream",
          "name": "stdout",
          "text": [
            "데이터의 총 개수는 : 1513개\n",
            "--------------------------------------------------\n"
          ]
        },
        {
          "output_type": "execute_result",
          "data": {
            "text/plain": [
              "merchant_name                   0.0\n",
              "tags                            0.0\n",
              "badge_product_quality           0.0\n",
              "badge_local_product             0.0\n",
              "badges_count                    0.0\n",
              "rating_one_count                0.0\n",
              "rating_two_count                0.0\n",
              "rating_three_count              0.0\n",
              "rating_four_count               0.0\n",
              "rating_five_count               0.0\n",
              "crawl_month                     0.0\n",
              "rating_count                    0.0\n",
              "rating                          0.0\n",
              "uses_ad_boosts                  0.0\n",
              "units_sold                      0.0\n",
              "currency_buyer                  0.0\n",
              "retail_price                    0.0\n",
              "price                           0.0\n",
              "title_orig                      0.0\n",
              "badge_fast_shipping             0.0\n",
              "product_color                   0.0\n",
              "theme                           0.0\n",
              "product_variation_inventory     0.0\n",
              "product_id                      0.0\n",
              "product_picture                 0.0\n",
              "product_url                     0.0\n",
              "merchant_has_profile_picture    0.0\n",
              "merchant_id                     0.0\n",
              "merchant_rating                 0.0\n",
              "merchant_rating_count           0.0\n",
              "merchant_info_subtitle          0.0\n",
              "merchant_title                  0.0\n",
              "origin_country                  0.0\n",
              "inventory_total                 0.0\n",
              "countries_shipped_to            0.0\n",
              "shipping_is_express             0.0\n",
              "shipping_option_price           0.0\n",
              "shipping_option_name            0.0\n",
              "title                           0.0\n",
              "dtype: float64"
            ]
          },
          "metadata": {},
          "execution_count": 8
        }
      ]
    },
    {
      "cell_type": "code",
      "metadata": {
        "id": "siVHfkPUyAR5"
      },
      "source": [
        "# 판매자의 이름 결측값 처리\n",
        "df.loc[df['merchant_name'].isnull()==True] # 판매자 이름의 결측값은 모두 같은 사람이므로 임시로 하나의 이름으로 채워준다.\n",
        "df['merchant_name'] = df['merchant_name'].fillna('jeongseok') # 판매자 이름을 jeongseok으로 임시로 채워주었다."
      ],
      "execution_count": 9,
      "outputs": []
    },
    {
      "cell_type": "markdown",
      "metadata": {
        "id": "eAe902Yrlav_"
      },
      "source": [
        "## 사용하지 않는 컬럼 제거"
      ]
    },
    {
      "cell_type": "code",
      "metadata": {
        "colab": {
          "base_uri": "https://localhost:8080/"
        },
        "id": "ahHyCDcTFVNn",
        "outputId": "e0ef2183-1e78-46ac-c6bd-f0a89e04e4fe"
      },
      "source": [
        "# 유럽언어제목을 삭제한 후 영어제목을 title로 변경\n",
        "df = df.drop(columns = 'title')\n",
        "df.rename(columns={'title_orig':'title'},inplace=True)\n",
        "\n",
        "\n",
        "# 소매가격과 실제가격의 차이만으로 의미를 찾을 수없다고 판단(더 많은 변수들과 복합적이기 때문)\n",
        "df = df.drop(columns = ['retail_price'])\n",
        "\n",
        "# 통화는 모두 EUR사용하기 때문에 삭제\n",
        "df = df.drop(columns = ['currency_buyer'])\n",
        "\n",
        "\n",
        "# 판매자의 프로필만 확인하지 url을 통한 사진을 따로 확인하지 않으므로 삭제\n",
        "df = df.drop(columns = ['merchant_has_profile_picture'])\n",
        "\n",
        "\n",
        "# 테마는 모두 여름이고, 크롤링 날짜 또한 같은날 진행하였기 때문에 삭제\n",
        "df = df.drop(columns = ['theme', 'crawl_month'])\n",
        "\n",
        "# URL은 모델에 사용할 수 있는 컬럼이 아니고 인사이트도 없기 때문에 제거\n",
        "df = df.drop(columns = ['product_picture', 'product_url'])\n",
        "\n",
        "\n",
        "# 판매자 이름은 판매자 id와 겹치므로 제거\n",
        "df = df.drop(columns = ['merchant_name'])\n",
        "\n",
        "\n",
        "# 필요없는 컬럼 삭제(merchant_info_subtitle,merchant_title : 불필요한 텍스트/ inventory_total : 사용하지 않을 결측값)\n",
        "df = df.drop(columns = ['merchant_info_subtitle', 'inventory_total', 'merchant_title'])\n",
        "df.info()\n"
      ],
      "execution_count": 10,
      "outputs": [
        {
          "output_type": "stream",
          "name": "stdout",
          "text": [
            "<class 'pandas.core.frame.DataFrame'>\n",
            "Int64Index: 1513 entries, 0 to 1527\n",
            "Data columns (total 27 columns):\n",
            " #   Column                       Non-Null Count  Dtype  \n",
            "---  ------                       --------------  -----  \n",
            " 0   title                        1513 non-null   object \n",
            " 1   price                        1513 non-null   float64\n",
            " 2   units_sold                   1513 non-null   int64  \n",
            " 3   uses_ad_boosts               1513 non-null   int64  \n",
            " 4   rating                       1513 non-null   float64\n",
            " 5   rating_count                 1513 non-null   int64  \n",
            " 6   rating_five_count            1513 non-null   float64\n",
            " 7   rating_four_count            1513 non-null   float64\n",
            " 8   rating_three_count           1513 non-null   float64\n",
            " 9   rating_two_count             1513 non-null   float64\n",
            " 10  rating_one_count             1513 non-null   float64\n",
            " 11  badges_count                 1513 non-null   int64  \n",
            " 12  badge_local_product          1513 non-null   int64  \n",
            " 13  badge_product_quality        1513 non-null   int64  \n",
            " 14  badge_fast_shipping          1513 non-null   int64  \n",
            " 15  tags                         1513 non-null   object \n",
            " 16  product_color                1513 non-null   object \n",
            " 17  product_variation_inventory  1513 non-null   int64  \n",
            " 18  shipping_option_name         1513 non-null   object \n",
            " 19  shipping_option_price        1513 non-null   int64  \n",
            " 20  shipping_is_express          1513 non-null   int64  \n",
            " 21  countries_shipped_to         1513 non-null   int64  \n",
            " 22  origin_country               1513 non-null   object \n",
            " 23  merchant_rating_count        1513 non-null   int64  \n",
            " 24  merchant_rating              1513 non-null   float64\n",
            " 25  merchant_id                  1513 non-null   object \n",
            " 26  product_id                   1513 non-null   object \n",
            "dtypes: float64(8), int64(12), object(7)\n",
            "memory usage: 331.0+ KB\n"
          ]
        }
      ]
    },
    {
      "cell_type": "markdown",
      "metadata": {
        "id": "znQs2Kgg96_s"
      },
      "source": [
        "# 목적에 맞게 컬럼내용 수정"
      ]
    },
    {
      "cell_type": "markdown",
      "metadata": {
        "id": "nhwY1VR_EfDC"
      },
      "source": [
        "## 판매량(units_sold) 수정"
      ]
    },
    {
      "cell_type": "markdown",
      "metadata": {
        "id": "lPCGxVcoEoff"
      },
      "source": [
        "5000개 이상 판매 시 성공적인 판매(successful_sold)"
      ]
    },
    {
      "cell_type": "code",
      "metadata": {
        "colab": {
          "base_uri": "https://localhost:8080/"
        },
        "id": "3XofC8ijAbPk",
        "outputId": "bd327104-d9fd-410b-9a1d-bfcb7448c0ad"
      },
      "source": [
        "# unites_sold 값 확인\n",
        "df['units_sold'].value_counts()"
      ],
      "execution_count": 11,
      "outputs": [
        {
          "output_type": "execute_result",
          "data": {
            "text/plain": [
              "100       493\n",
              "1000      399\n",
              "5000      216\n",
              "10000     177\n",
              "20000     103\n",
              "50         72\n",
              "10         29\n",
              "50000      16\n",
              "100000      6\n",
              "7           1\n",
              "2           1\n",
              "Name: units_sold, dtype: int64"
            ]
          },
          "metadata": {},
          "execution_count": 11
        }
      ]
    },
    {
      "cell_type": "code",
      "metadata": {
        "colab": {
          "base_uri": "https://localhost:8080/",
          "height": 424
        },
        "id": "2yPkO6YjBdXs",
        "outputId": "d8d6cdcf-17dc-4752-c140-8647a7b5b148"
      },
      "source": [
        "# successful_sold컬럼으로 변경\n",
        "sold_list = []\n",
        "for i in df['units_sold']:\n",
        "  if i >= 5000:\n",
        "    sold_list.append(1)\n",
        "  else:\n",
        "    sold_list.append(0)\n",
        "\n",
        "df['successful_sold'] = sold_list\n",
        "df[['units_sold', 'successful_sold']]"
      ],
      "execution_count": 12,
      "outputs": [
        {
          "output_type": "execute_result",
          "data": {
            "text/html": [
              "<div>\n",
              "<style scoped>\n",
              "    .dataframe tbody tr th:only-of-type {\n",
              "        vertical-align: middle;\n",
              "    }\n",
              "\n",
              "    .dataframe tbody tr th {\n",
              "        vertical-align: top;\n",
              "    }\n",
              "\n",
              "    .dataframe thead th {\n",
              "        text-align: right;\n",
              "    }\n",
              "</style>\n",
              "<table border=\"1\" class=\"dataframe\">\n",
              "  <thead>\n",
              "    <tr style=\"text-align: right;\">\n",
              "      <th></th>\n",
              "      <th>units_sold</th>\n",
              "      <th>successful_sold</th>\n",
              "    </tr>\n",
              "  </thead>\n",
              "  <tbody>\n",
              "    <tr>\n",
              "      <th>0</th>\n",
              "      <td>100</td>\n",
              "      <td>0</td>\n",
              "    </tr>\n",
              "    <tr>\n",
              "      <th>1</th>\n",
              "      <td>20000</td>\n",
              "      <td>1</td>\n",
              "    </tr>\n",
              "    <tr>\n",
              "      <th>2</th>\n",
              "      <td>100</td>\n",
              "      <td>0</td>\n",
              "    </tr>\n",
              "    <tr>\n",
              "      <th>3</th>\n",
              "      <td>5000</td>\n",
              "      <td>1</td>\n",
              "    </tr>\n",
              "    <tr>\n",
              "      <th>4</th>\n",
              "      <td>100</td>\n",
              "      <td>0</td>\n",
              "    </tr>\n",
              "    <tr>\n",
              "      <th>...</th>\n",
              "      <td>...</td>\n",
              "      <td>...</td>\n",
              "    </tr>\n",
              "    <tr>\n",
              "      <th>1523</th>\n",
              "      <td>10000</td>\n",
              "      <td>1</td>\n",
              "    </tr>\n",
              "    <tr>\n",
              "      <th>1524</th>\n",
              "      <td>100</td>\n",
              "      <td>0</td>\n",
              "    </tr>\n",
              "    <tr>\n",
              "      <th>1525</th>\n",
              "      <td>100</td>\n",
              "      <td>0</td>\n",
              "    </tr>\n",
              "    <tr>\n",
              "      <th>1526</th>\n",
              "      <td>100</td>\n",
              "      <td>0</td>\n",
              "    </tr>\n",
              "    <tr>\n",
              "      <th>1527</th>\n",
              "      <td>100</td>\n",
              "      <td>0</td>\n",
              "    </tr>\n",
              "  </tbody>\n",
              "</table>\n",
              "<p>1513 rows × 2 columns</p>\n",
              "</div>"
            ],
            "text/plain": [
              "      units_sold  successful_sold\n",
              "0            100                0\n",
              "1          20000                1\n",
              "2            100                0\n",
              "3           5000                1\n",
              "4            100                0\n",
              "...          ...              ...\n",
              "1523       10000                1\n",
              "1524         100                0\n",
              "1525         100                0\n",
              "1526         100                0\n",
              "1527         100                0\n",
              "\n",
              "[1513 rows x 2 columns]"
            ]
          },
          "metadata": {},
          "execution_count": 12
        }
      ]
    },
    {
      "cell_type": "code",
      "metadata": {
        "colab": {
          "base_uri": "https://localhost:8080/"
        },
        "id": "QOzweVnuEHBM",
        "outputId": "31c8756e-3a8b-4866-d06c-05d6ddf28b93"
      },
      "source": [
        "df = df.drop(columns = ['units_sold'])\n",
        "df.info()"
      ],
      "execution_count": 13,
      "outputs": [
        {
          "output_type": "stream",
          "name": "stdout",
          "text": [
            "<class 'pandas.core.frame.DataFrame'>\n",
            "Int64Index: 1513 entries, 0 to 1527\n",
            "Data columns (total 27 columns):\n",
            " #   Column                       Non-Null Count  Dtype  \n",
            "---  ------                       --------------  -----  \n",
            " 0   title                        1513 non-null   object \n",
            " 1   price                        1513 non-null   float64\n",
            " 2   uses_ad_boosts               1513 non-null   int64  \n",
            " 3   rating                       1513 non-null   float64\n",
            " 4   rating_count                 1513 non-null   int64  \n",
            " 5   rating_five_count            1513 non-null   float64\n",
            " 6   rating_four_count            1513 non-null   float64\n",
            " 7   rating_three_count           1513 non-null   float64\n",
            " 8   rating_two_count             1513 non-null   float64\n",
            " 9   rating_one_count             1513 non-null   float64\n",
            " 10  badges_count                 1513 non-null   int64  \n",
            " 11  badge_local_product          1513 non-null   int64  \n",
            " 12  badge_product_quality        1513 non-null   int64  \n",
            " 13  badge_fast_shipping          1513 non-null   int64  \n",
            " 14  tags                         1513 non-null   object \n",
            " 15  product_color                1513 non-null   object \n",
            " 16  product_variation_inventory  1513 non-null   int64  \n",
            " 17  shipping_option_name         1513 non-null   object \n",
            " 18  shipping_option_price        1513 non-null   int64  \n",
            " 19  shipping_is_express          1513 non-null   int64  \n",
            " 20  countries_shipped_to         1513 non-null   int64  \n",
            " 21  origin_country               1513 non-null   object \n",
            " 22  merchant_rating_count        1513 non-null   int64  \n",
            " 23  merchant_rating              1513 non-null   float64\n",
            " 24  merchant_id                  1513 non-null   object \n",
            " 25  product_id                   1513 non-null   object \n",
            " 26  successful_sold              1513 non-null   int64  \n",
            "dtypes: float64(8), int64(12), object(7)\n",
            "memory usage: 331.0+ KB\n"
          ]
        }
      ]
    },
    {
      "cell_type": "markdown",
      "metadata": {
        "id": "A_nmRotCH_FI"
      },
      "source": [
        "## 배송방법(shipping_option_name)수정"
      ]
    },
    {
      "cell_type": "code",
      "metadata": {
        "colab": {
          "base_uri": "https://localhost:8080/"
        },
        "id": "hBjiqb5pFLal",
        "outputId": "1f1b3a95-070f-400c-a3a3-1e018823215c"
      },
      "source": [
        "df['shipping_option_name'].value_counts()"
      ],
      "execution_count": 14,
      "outputs": [
        {
          "output_type": "execute_result",
          "data": {
            "text/plain": [
              "Livraison standard         1451\n",
              "Standard Shipping            21\n",
              "Envio Padrão                  7\n",
              "Expediere Standard            6\n",
              "Envío normal                  5\n",
              "الشحن القياسي                 4\n",
              "Standardversand               3\n",
              "Standardowa wysyłka           3\n",
              "Стандартная доставка          3\n",
              "การส่งสินค้ามาตรฐาน           2\n",
              "Livraison Express             2\n",
              "Standart Gönderi              2\n",
              "Spedizione standard           2\n",
              "ការដឹកជញ្ជូនតាមស្តង់ដារ       1\n",
              "Ekspresowa wysyłka            1\n",
              "Name: shipping_option_name, dtype: int64"
            ]
          },
          "metadata": {},
          "execution_count": 14
        }
      ]
    },
    {
      "cell_type": "markdown",
      "metadata": {
        "id": "Z-meZH1jHn9N"
      },
      "source": [
        "|배송방법|배송형태|\n",
        "|-|-|\n",
        "|Livraison Express | **특급배송**|\n",
        "|Ekspresowa wysyłka | **특급배송**|\n",
        "|Livraison standard | 표준배송|\n",
        "|Standard Shipping | 표준배송|\n",
        "|Envio Padrão | 표준배송|\n",
        "|Expediere Standard | 표준배송|\n",
        "|Envío normal | 표준배송|\n",
        "|الشحن القياسي | 표준배송|\n",
        "|Standardversand | 표준배송|\n",
        "|Standardowa wysyłka | 표준배송|\n",
        "|Стандартная доставка | 표준배송|\n",
        "|การส่งสินค้ามาตรฐาน | 표준배송|\n",
        "|Standart Gönderi | 표준배송|\n",
        "|Spedizione standard  | 표준배송|\n",
        "|ការដឹកជញ្ជូនតាមស្តង់ដារ | 표준배송|\n"
      ]
    },
    {
      "cell_type": "code",
      "metadata": {
        "colab": {
          "base_uri": "https://localhost:8080/"
        },
        "id": "fM8fdvQWFUZc",
        "outputId": "6080a86d-d7a5-4649-c0dd-8178f4dcb398"
      },
      "source": [
        "# 배송방법에서 -> 특급배송여부로 컬럼의 속성을 변경\n",
        "\n",
        "shipping_list = []\n",
        "special = ['Livraison Express', 'Ekspresowa wysyłka']\n",
        "\n",
        "for i in df['shipping_option_name']:\n",
        "  if i in special:\n",
        "    shipping_list.append(1)\n",
        "  else:\n",
        "    shipping_list.append(0)\n",
        "\n",
        "df['shipping_option_name'] = shipping_list\n",
        "df['shipping_option_name'].value_counts()"
      ],
      "execution_count": 15,
      "outputs": [
        {
          "output_type": "execute_result",
          "data": {
            "text/plain": [
              "0    1510\n",
              "1       3\n",
              "Name: shipping_option_name, dtype: int64"
            ]
          },
          "metadata": {},
          "execution_count": 15
        }
      ]
    },
    {
      "cell_type": "code",
      "metadata": {
        "colab": {
          "base_uri": "https://localhost:8080/"
        },
        "id": "LxA2FmumJOWl",
        "outputId": "461e29dd-8cb5-4dec-b216-3ff483f19cdd"
      },
      "source": [
        "df.rename(columns = {'shipping_option_name':'quick_shipping'},inplace = True)\n",
        "df.info()"
      ],
      "execution_count": 16,
      "outputs": [
        {
          "output_type": "stream",
          "name": "stdout",
          "text": [
            "<class 'pandas.core.frame.DataFrame'>\n",
            "Int64Index: 1513 entries, 0 to 1527\n",
            "Data columns (total 27 columns):\n",
            " #   Column                       Non-Null Count  Dtype  \n",
            "---  ------                       --------------  -----  \n",
            " 0   title                        1513 non-null   object \n",
            " 1   price                        1513 non-null   float64\n",
            " 2   uses_ad_boosts               1513 non-null   int64  \n",
            " 3   rating                       1513 non-null   float64\n",
            " 4   rating_count                 1513 non-null   int64  \n",
            " 5   rating_five_count            1513 non-null   float64\n",
            " 6   rating_four_count            1513 non-null   float64\n",
            " 7   rating_three_count           1513 non-null   float64\n",
            " 8   rating_two_count             1513 non-null   float64\n",
            " 9   rating_one_count             1513 non-null   float64\n",
            " 10  badges_count                 1513 non-null   int64  \n",
            " 11  badge_local_product          1513 non-null   int64  \n",
            " 12  badge_product_quality        1513 non-null   int64  \n",
            " 13  badge_fast_shipping          1513 non-null   int64  \n",
            " 14  tags                         1513 non-null   object \n",
            " 15  product_color                1513 non-null   object \n",
            " 16  product_variation_inventory  1513 non-null   int64  \n",
            " 17  quick_shipping               1513 non-null   int64  \n",
            " 18  shipping_option_price        1513 non-null   int64  \n",
            " 19  shipping_is_express          1513 non-null   int64  \n",
            " 20  countries_shipped_to         1513 non-null   int64  \n",
            " 21  origin_country               1513 non-null   object \n",
            " 22  merchant_rating_count        1513 non-null   int64  \n",
            " 23  merchant_rating              1513 non-null   float64\n",
            " 24  merchant_id                  1513 non-null   object \n",
            " 25  product_id                   1513 non-null   object \n",
            " 26  successful_sold              1513 non-null   int64  \n",
            "dtypes: float64(8), int64(13), object(6)\n",
            "memory usage: 331.0+ KB\n"
          ]
        }
      ]
    },
    {
      "cell_type": "markdown",
      "metadata": {
        "id": "T-Ujh3VxNFFZ"
      },
      "source": [
        "## 배송급행여부(shipping_is_express)수정"
      ]
    },
    {
      "cell_type": "code",
      "metadata": {
        "colab": {
          "base_uri": "https://localhost:8080/"
        },
        "id": "wN2cSagXM_5L",
        "outputId": "06e6d88a-e95d-4c02-9459-6d63b6457129"
      },
      "source": [
        "df['shipping_is_express'].value_counts()"
      ],
      "execution_count": 17,
      "outputs": [
        {
          "output_type": "execute_result",
          "data": {
            "text/plain": [
              "0    1510\n",
              "1       3\n",
              "Name: shipping_is_express, dtype: int64"
            ]
          },
          "metadata": {},
          "execution_count": 17
        }
      ]
    },
    {
      "cell_type": "code",
      "metadata": {
        "colab": {
          "base_uri": "https://localhost:8080/",
          "height": 441
        },
        "id": "KIeHGh-tJR_s",
        "outputId": "b3b07399-4442-4b1e-e5de-6870244482f1"
      },
      "source": [
        "df.loc[df['quick_shipping']==1]"
      ],
      "execution_count": 18,
      "outputs": [
        {
          "output_type": "execute_result",
          "data": {
            "text/html": [
              "<div>\n",
              "<style scoped>\n",
              "    .dataframe tbody tr th:only-of-type {\n",
              "        vertical-align: middle;\n",
              "    }\n",
              "\n",
              "    .dataframe tbody tr th {\n",
              "        vertical-align: top;\n",
              "    }\n",
              "\n",
              "    .dataframe thead th {\n",
              "        text-align: right;\n",
              "    }\n",
              "</style>\n",
              "<table border=\"1\" class=\"dataframe\">\n",
              "  <thead>\n",
              "    <tr style=\"text-align: right;\">\n",
              "      <th></th>\n",
              "      <th>title</th>\n",
              "      <th>price</th>\n",
              "      <th>uses_ad_boosts</th>\n",
              "      <th>rating</th>\n",
              "      <th>rating_count</th>\n",
              "      <th>rating_five_count</th>\n",
              "      <th>rating_four_count</th>\n",
              "      <th>rating_three_count</th>\n",
              "      <th>rating_two_count</th>\n",
              "      <th>rating_one_count</th>\n",
              "      <th>badges_count</th>\n",
              "      <th>badge_local_product</th>\n",
              "      <th>badge_product_quality</th>\n",
              "      <th>badge_fast_shipping</th>\n",
              "      <th>tags</th>\n",
              "      <th>product_color</th>\n",
              "      <th>product_variation_inventory</th>\n",
              "      <th>quick_shipping</th>\n",
              "      <th>shipping_option_price</th>\n",
              "      <th>shipping_is_express</th>\n",
              "      <th>countries_shipped_to</th>\n",
              "      <th>origin_country</th>\n",
              "      <th>merchant_rating_count</th>\n",
              "      <th>merchant_rating</th>\n",
              "      <th>merchant_id</th>\n",
              "      <th>product_id</th>\n",
              "      <th>successful_sold</th>\n",
              "    </tr>\n",
              "  </thead>\n",
              "  <tbody>\n",
              "    <tr>\n",
              "      <th>643</th>\n",
              "      <td>New Sexy Women Strap Backless Pajamas Lingerie...</td>\n",
              "      <td>8.0</td>\n",
              "      <td>0</td>\n",
              "      <td>2.79</td>\n",
              "      <td>14</td>\n",
              "      <td>5.0</td>\n",
              "      <td>1.0</td>\n",
              "      <td>0.0</td>\n",
              "      <td>2.0</td>\n",
              "      <td>6.0</td>\n",
              "      <td>2</td>\n",
              "      <td>1</td>\n",
              "      <td>0</td>\n",
              "      <td>1</td>\n",
              "      <td>Mini,Dress,summer dress,Mini dress,silk dress,...</td>\n",
              "      <td>brown</td>\n",
              "      <td>50</td>\n",
              "      <td>1</td>\n",
              "      <td>7</td>\n",
              "      <td>1</td>\n",
              "      <td>41</td>\n",
              "      <td>CN</td>\n",
              "      <td>7012</td>\n",
              "      <td>4.336708</td>\n",
              "      <td>587dd9a883eee74e06b30974</td>\n",
              "      <td>5aabae5e7ddb066f389e4e7b</td>\n",
              "      <td>0</td>\n",
              "    </tr>\n",
              "    <tr>\n",
              "      <th>737</th>\n",
              "      <td>Summer Women's Fashion Sleeveless V-neck backl...</td>\n",
              "      <td>49.0</td>\n",
              "      <td>0</td>\n",
              "      <td>4.67</td>\n",
              "      <td>6</td>\n",
              "      <td>4.0</td>\n",
              "      <td>2.0</td>\n",
              "      <td>0.0</td>\n",
              "      <td>0.0</td>\n",
              "      <td>0.0</td>\n",
              "      <td>1</td>\n",
              "      <td>0</td>\n",
              "      <td>0</td>\n",
              "      <td>1</td>\n",
              "      <td>party,Goth,Plus Size,Summer,Dress,V-neck,bodyc...</td>\n",
              "      <td>Rose red</td>\n",
              "      <td>2</td>\n",
              "      <td>1</td>\n",
              "      <td>12</td>\n",
              "      <td>1</td>\n",
              "      <td>41</td>\n",
              "      <td>CN</td>\n",
              "      <td>29977</td>\n",
              "      <td>4.223138</td>\n",
              "      <td>5925555b2cd9447854443c41</td>\n",
              "      <td>5d09ecc2f5d4eb7721203368</td>\n",
              "      <td>0</td>\n",
              "    </tr>\n",
              "    <tr>\n",
              "      <th>1033</th>\n",
              "      <td>Sexy Women Camouflage Print Bandage Push-up Sw...</td>\n",
              "      <td>6.0</td>\n",
              "      <td>0</td>\n",
              "      <td>4.29</td>\n",
              "      <td>2808</td>\n",
              "      <td>1789.0</td>\n",
              "      <td>459.0</td>\n",
              "      <td>300.0</td>\n",
              "      <td>110.0</td>\n",
              "      <td>150.0</td>\n",
              "      <td>3</td>\n",
              "      <td>1</td>\n",
              "      <td>1</td>\n",
              "      <td>1</td>\n",
              "      <td>bathing suit,Fashion,fashion swimsuit,bikini s...</td>\n",
              "      <td>pink</td>\n",
              "      <td>50</td>\n",
              "      <td>1</td>\n",
              "      <td>7</td>\n",
              "      <td>1</td>\n",
              "      <td>39</td>\n",
              "      <td>CN</td>\n",
              "      <td>33675</td>\n",
              "      <td>4.314150</td>\n",
              "      <td>5577b101429aa92940bc33e7</td>\n",
              "      <td>588c54fb6661e84246a8aa71</td>\n",
              "      <td>1</td>\n",
              "    </tr>\n",
              "  </tbody>\n",
              "</table>\n",
              "</div>"
            ],
            "text/plain": [
              "                                                  title  ...  successful_sold\n",
              "643   New Sexy Women Strap Backless Pajamas Lingerie...  ...                0\n",
              "737   Summer Women's Fashion Sleeveless V-neck backl...  ...                0\n",
              "1033  Sexy Women Camouflage Print Bandage Push-up Sw...  ...                1\n",
              "\n",
              "[3 rows x 27 columns]"
            ]
          },
          "metadata": {},
          "execution_count": 18
        }
      ]
    },
    {
      "cell_type": "markdown",
      "metadata": {
        "id": "ExCvQaoYNJRU"
      },
      "source": [
        "배송급행여부는 배송방법의 특급배송과 같으므로 다중공선성문제가 생기기 때문에 삭제해준다."
      ]
    },
    {
      "cell_type": "code",
      "metadata": {
        "colab": {
          "base_uri": "https://localhost:8080/"
        },
        "id": "Cwt0mYiZKRnk",
        "outputId": "138e55f2-37ba-496a-8694-60f2d3ce953b"
      },
      "source": [
        "df.drop(columns=['shipping_is_express'],inplace=True)\n",
        "df.info()"
      ],
      "execution_count": 19,
      "outputs": [
        {
          "output_type": "stream",
          "name": "stdout",
          "text": [
            "<class 'pandas.core.frame.DataFrame'>\n",
            "Int64Index: 1513 entries, 0 to 1527\n",
            "Data columns (total 26 columns):\n",
            " #   Column                       Non-Null Count  Dtype  \n",
            "---  ------                       --------------  -----  \n",
            " 0   title                        1513 non-null   object \n",
            " 1   price                        1513 non-null   float64\n",
            " 2   uses_ad_boosts               1513 non-null   int64  \n",
            " 3   rating                       1513 non-null   float64\n",
            " 4   rating_count                 1513 non-null   int64  \n",
            " 5   rating_five_count            1513 non-null   float64\n",
            " 6   rating_four_count            1513 non-null   float64\n",
            " 7   rating_three_count           1513 non-null   float64\n",
            " 8   rating_two_count             1513 non-null   float64\n",
            " 9   rating_one_count             1513 non-null   float64\n",
            " 10  badges_count                 1513 non-null   int64  \n",
            " 11  badge_local_product          1513 non-null   int64  \n",
            " 12  badge_product_quality        1513 non-null   int64  \n",
            " 13  badge_fast_shipping          1513 non-null   int64  \n",
            " 14  tags                         1513 non-null   object \n",
            " 15  product_color                1513 non-null   object \n",
            " 16  product_variation_inventory  1513 non-null   int64  \n",
            " 17  quick_shipping               1513 non-null   int64  \n",
            " 18  shipping_option_price        1513 non-null   int64  \n",
            " 19  countries_shipped_to         1513 non-null   int64  \n",
            " 20  origin_country               1513 non-null   object \n",
            " 21  merchant_rating_count        1513 non-null   int64  \n",
            " 22  merchant_rating              1513 non-null   float64\n",
            " 23  merchant_id                  1513 non-null   object \n",
            " 24  product_id                   1513 non-null   object \n",
            " 25  successful_sold              1513 non-null   int64  \n",
            "dtypes: float64(8), int64(12), object(6)\n",
            "memory usage: 319.1+ KB\n"
          ]
        }
      ]
    },
    {
      "cell_type": "markdown",
      "metadata": {
        "id": "mzlKOJG2PV5S"
      },
      "source": [
        "## 배송가능한 국가 수 (countries_shipped_to) 수정"
      ]
    },
    {
      "cell_type": "code",
      "metadata": {
        "colab": {
          "base_uri": "https://localhost:8080/"
        },
        "id": "eaMwqGSMNeWd",
        "outputId": "7b903f8c-09a5-49a0-e075-190195b2a687"
      },
      "source": [
        "np.sort(df['countries_shipped_to'].unique())"
      ],
      "execution_count": 20,
      "outputs": [
        {
          "output_type": "execute_result",
          "data": {
            "text/plain": [
              "array([  6,   8,   9,  10,  11,  12,  13,  14,  15,  16,  17,  18,  19,\n",
              "        20,  21,  22,  23,  24,  25,  26,  27,  28,  29,  30,  31,  32,\n",
              "        33,  34,  35,  36,  37,  38,  39,  40,  41,  42,  43,  44,  45,\n",
              "        46,  47,  48,  49,  50,  51,  52,  53,  54,  55,  56,  57,  58,\n",
              "        59,  60,  61,  62,  63,  64,  65,  66,  67,  68,  69,  70,  71,\n",
              "        72,  73,  74,  78,  79,  80,  81,  82,  83,  84,  90,  91,  93,\n",
              "        94, 104, 105, 107, 109, 111, 118, 124, 125, 127, 132, 135, 137,\n",
              "       138, 139, 140])"
            ]
          },
          "metadata": {},
          "execution_count": 20
        }
      ]
    },
    {
      "cell_type": "code",
      "metadata": {
        "colab": {
          "base_uri": "https://localhost:8080/",
          "height": 355
        },
        "id": "MM50MuM-Nvhk",
        "outputId": "74336b68-066c-43f9-bdda-80115b1a9432"
      },
      "source": [
        "sns.boxplot(df['countries_shipped_to'])"
      ],
      "execution_count": 21,
      "outputs": [
        {
          "output_type": "stream",
          "name": "stderr",
          "text": [
            "/usr/local/lib/python3.7/dist-packages/seaborn/_decorators.py:43: FutureWarning: Pass the following variable as a keyword arg: x. From version 0.12, the only valid positional argument will be `data`, and passing other arguments without an explicit keyword will result in an error or misinterpretation.\n",
            "  FutureWarning\n"
          ]
        },
        {
          "output_type": "execute_result",
          "data": {
            "text/plain": [
              "<matplotlib.axes._subplots.AxesSubplot at 0x7fd7dd6bfb10>"
            ]
          },
          "metadata": {},
          "execution_count": 21
        },
        {
          "output_type": "display_data",
          "data": {
            "image/png": "[encoded data removed]",
            "text/plain": [
              "<Figure size 432x288 with 1 Axes>"
            ]
          },
          "metadata": {
            "needs_background": "light"
          }
        }
      ]
    },
    {
      "cell_type": "code",
      "metadata": {
        "colab": {
          "base_uri": "https://localhost:8080/"
        },
        "id": "Po0Aus-ePC2d",
        "outputId": "b8914a07-50ac-491f-8d64-c54b7dc0ad48"
      },
      "source": [
        "print(df['countries_shipped_to'].median())\n",
        "print(df['countries_shipped_to'].mean())"
      ],
      "execution_count": 22,
      "outputs": [
        {
          "output_type": "stream",
          "name": "stdout",
          "text": [
            "40.0\n",
            "40.374752148050234\n"
          ]
        }
      ]
    },
    {
      "cell_type": "markdown",
      "metadata": {
        "id": "RueWYNp7PeSf"
      },
      "source": [
        "중간값과 평균값이 비슷한 것으로 보아 극히 일부가 이상치로 포함되어 있으므로 중간값을 기준으로 해서 배송범위가 매우 넓음여부로 변경"
      ]
    },
    {
      "cell_type": "code",
      "metadata": {
        "colab": {
          "base_uri": "https://localhost:8080/"
        },
        "id": "HauYGXokPIDk",
        "outputId": "0c94d98c-7975-45a2-d956-07a080f02e8f"
      },
      "source": [
        "country_list = []\n",
        "\n",
        "for i in df['countries_shipped_to']:\n",
        "  if i > 40:\n",
        "    country_list.append(1)\n",
        "  else:\n",
        "    country_list.append(0)\n",
        "\n",
        "df['countries_shipped_to'] = country_list\n",
        "df['countries_shipped_to'].value_counts()\n",
        "\n",
        "# 배송범위 매우넓음(40 초과): 1, 배송범위 매우넓지는 않음(40이하) : 0"
      ],
      "execution_count": 23,
      "outputs": [
        {
          "output_type": "execute_result",
          "data": {
            "text/plain": [
              "0    842\n",
              "1    671\n",
              "Name: countries_shipped_to, dtype: int64"
            ]
          },
          "metadata": {},
          "execution_count": 23
        }
      ]
    },
    {
      "cell_type": "code",
      "metadata": {
        "colab": {
          "base_uri": "https://localhost:8080/"
        },
        "id": "LAjOFTgFQszG",
        "outputId": "24b9bc35-520f-444f-9dd3-16127c398a99"
      },
      "source": [
        "df.rename(columns = {'countries_shipped_to':'shipped_range'}, inplace = True)\n",
        "df.info()"
      ],
      "execution_count": 24,
      "outputs": [
        {
          "output_type": "stream",
          "name": "stdout",
          "text": [
            "<class 'pandas.core.frame.DataFrame'>\n",
            "Int64Index: 1513 entries, 0 to 1527\n",
            "Data columns (total 26 columns):\n",
            " #   Column                       Non-Null Count  Dtype  \n",
            "---  ------                       --------------  -----  \n",
            " 0   title                        1513 non-null   object \n",
            " 1   price                        1513 non-null   float64\n",
            " 2   uses_ad_boosts               1513 non-null   int64  \n",
            " 3   rating                       1513 non-null   float64\n",
            " 4   rating_count                 1513 non-null   int64  \n",
            " 5   rating_five_count            1513 non-null   float64\n",
            " 6   rating_four_count            1513 non-null   float64\n",
            " 7   rating_three_count           1513 non-null   float64\n",
            " 8   rating_two_count             1513 non-null   float64\n",
            " 9   rating_one_count             1513 non-null   float64\n",
            " 10  badges_count                 1513 non-null   int64  \n",
            " 11  badge_local_product          1513 non-null   int64  \n",
            " 12  badge_product_quality        1513 non-null   int64  \n",
            " 13  badge_fast_shipping          1513 non-null   int64  \n",
            " 14  tags                         1513 non-null   object \n",
            " 15  product_color                1513 non-null   object \n",
            " 16  product_variation_inventory  1513 non-null   int64  \n",
            " 17  quick_shipping               1513 non-null   int64  \n",
            " 18  shipping_option_price        1513 non-null   int64  \n",
            " 19  shipped_range                1513 non-null   int64  \n",
            " 20  origin_country               1513 non-null   object \n",
            " 21  merchant_rating_count        1513 non-null   int64  \n",
            " 22  merchant_rating              1513 non-null   float64\n",
            " 23  merchant_id                  1513 non-null   object \n",
            " 24  product_id                   1513 non-null   object \n",
            " 25  successful_sold              1513 non-null   int64  \n",
            "dtypes: float64(8), int64(12), object(6)\n",
            "memory usage: 319.1+ KB\n"
          ]
        }
      ]
    },
    {
      "cell_type": "markdown",
      "metadata": {
        "id": "9EqW-sMMW2CL"
      },
      "source": [
        "## 원산지(origin_country) 수정"
      ]
    },
    {
      "cell_type": "code",
      "metadata": {
        "colab": {
          "base_uri": "https://localhost:8080/"
        },
        "id": "i3YvKdhvWih1",
        "outputId": "05501897-2e2c-4360-bc4a-9077464466dc"
      },
      "source": [
        "df['origin_country'].value_counts()"
      ],
      "execution_count": 25,
      "outputs": [
        {
          "output_type": "execute_result",
          "data": {
            "text/plain": [
              "CN    1474\n",
              "US      31\n",
              "VE       5\n",
              "SG       2\n",
              "GB       1\n",
              "Name: origin_country, dtype: int64"
            ]
          },
          "metadata": {},
          "execution_count": 25
        }
      ]
    },
    {
      "cell_type": "code",
      "metadata": {
        "colab": {
          "base_uri": "https://localhost:8080/"
        },
        "id": "4NmEFOShWthF",
        "outputId": "52363b0a-1c20-4768-de61-9be96ac5044d"
      },
      "source": [
        "# 1513개의 데이터중 1474개가 중국이므로 중국과 아닌것으로 변환\n",
        "\n",
        "origin_list = []\n",
        "\n",
        "for i in df['origin_country']:\n",
        "  if i == 'CN':\n",
        "    origin_list.append(1)\n",
        "  else:\n",
        "    origin_list.append(0)\n",
        "\n",
        "df.rename(columns={'origin_country':'made_in_china'},inplace=True)\n",
        "df['made_in_china'] = origin_list\n",
        "df['made_in_china'].value_counts()"
      ],
      "execution_count": 26,
      "outputs": [
        {
          "output_type": "execute_result",
          "data": {
            "text/plain": [
              "1    1474\n",
              "0      39\n",
              "Name: made_in_china, dtype: int64"
            ]
          },
          "metadata": {},
          "execution_count": 26
        }
      ]
    },
    {
      "cell_type": "markdown",
      "metadata": {
        "id": "mLg6D0YVQ7Im"
      },
      "source": [
        "## 평가(rating)수정"
      ]
    },
    {
      "cell_type": "code",
      "metadata": {
        "id": "q2Y673cKQ9cu",
        "outputId": "fb7afafd-141b-4a2e-ca46-b535d946a7de",
        "colab": {
          "base_uri": "https://localhost:8080/"
        }
      },
      "source": [
        "# rating이 너무 다양하게 있어서 소수점 첫째자리 까지 수정\n",
        "df['rating'] = round(df['rating'],1)\n",
        "df['rating'].unique()"
      ],
      "execution_count": 56,
      "outputs": [
        {
          "output_type": "execute_result",
          "data": {
            "text/plain": [
              "array([3.8, 3.4, 3.6, 4. , 3.1, 5. , 3.5, 3.3, 3.9, 3.7, 4.2, 4.3, 4.1,\n",
              "       4.4, 2.8, 1.5, 3. , 3.2, 2.7, 4.5, 2.6, 4.8, 4.6, 2.5, 2.9, 2. ,\n",
              "       1. , 4.7, 2.2, 2.3, 2.4])"
            ]
          },
          "metadata": {},
          "execution_count": 56
        }
      ]
    },
    {
      "cell_type": "markdown",
      "metadata": {
        "id": "-3PlJFyoY6z8"
      },
      "source": [
        "# 가설검정"
      ]
    },
    {
      "cell_type": "code",
      "metadata": {
        "id": "XbthZuXlY72Y",
        "colab": {
          "base_uri": "https://localhost:8080/"
        },
        "outputId": "e11b605f-0f91-471b-a7e9-92b6a2e52659"
      },
      "source": [
        "df.info()"
      ],
      "execution_count": 27,
      "outputs": [
        {
          "output_type": "stream",
          "name": "stdout",
          "text": [
            "<class 'pandas.core.frame.DataFrame'>\n",
            "Int64Index: 1513 entries, 0 to 1527\n",
            "Data columns (total 26 columns):\n",
            " #   Column                       Non-Null Count  Dtype  \n",
            "---  ------                       --------------  -----  \n",
            " 0   title                        1513 non-null   object \n",
            " 1   price                        1513 non-null   float64\n",
            " 2   uses_ad_boosts               1513 non-null   int64  \n",
            " 3   rating                       1513 non-null   float64\n",
            " 4   rating_count                 1513 non-null   int64  \n",
            " 5   rating_five_count            1513 non-null   float64\n",
            " 6   rating_four_count            1513 non-null   float64\n",
            " 7   rating_three_count           1513 non-null   float64\n",
            " 8   rating_two_count             1513 non-null   float64\n",
            " 9   rating_one_count             1513 non-null   float64\n",
            " 10  badges_count                 1513 non-null   int64  \n",
            " 11  badge_local_product          1513 non-null   int64  \n",
            " 12  badge_product_quality        1513 non-null   int64  \n",
            " 13  badge_fast_shipping          1513 non-null   int64  \n",
            " 14  tags                         1513 non-null   object \n",
            " 15  product_color                1513 non-null   object \n",
            " 16  product_variation_inventory  1513 non-null   int64  \n",
            " 17  quick_shipping               1513 non-null   int64  \n",
            " 18  shipping_option_price        1513 non-null   int64  \n",
            " 19  shipped_range                1513 non-null   int64  \n",
            " 20  made_in_china                1513 non-null   int64  \n",
            " 21  merchant_rating_count        1513 non-null   int64  \n",
            " 22  merchant_rating              1513 non-null   float64\n",
            " 23  merchant_id                  1513 non-null   object \n",
            " 24  product_id                   1513 non-null   object \n",
            " 25  successful_sold              1513 non-null   int64  \n",
            "dtypes: float64(8), int64(13), object(5)\n",
            "memory usage: 319.1+ KB\n"
          ]
        }
      ]
    },
    {
      "cell_type": "markdown",
      "metadata": {
        "id": "_52H8FTZGUli"
      },
      "source": [
        "## 가설1. 광고를 넣으면 판매가 더 잘될것이다."
      ]
    },
    {
      "cell_type": "code",
      "metadata": {
        "id": "qX2Wn8RoIodG",
        "outputId": "f62121e8-d1a6-4d78-b83c-0b2162aa63e8",
        "colab": {
          "base_uri": "https://localhost:8080/",
          "height": 355
        }
      },
      "source": [
        "sns.countplot(df['successful_sold'], hue = df['uses_ad_boosts'])"
      ],
      "execution_count": 45,
      "outputs": [
        {
          "output_type": "stream",
          "name": "stderr",
          "text": [
            "/usr/local/lib/python3.7/dist-packages/seaborn/_decorators.py:43: FutureWarning: Pass the following variable as a keyword arg: x. From version 0.12, the only valid positional argument will be `data`, and passing other arguments without an explicit keyword will result in an error or misinterpretation.\n",
            "  FutureWarning\n"
          ]
        },
        {
          "output_type": "execute_result",
          "data": {
            "text/plain": [
              "<matplotlib.axes._subplots.AxesSubplot at 0x7fd7d7e88250>"
            ]
          },
          "metadata": {},
          "execution_count": 45
        },
        {
          "output_type": "display_data",
          "data": {
            "image/png": "[encoded data removed]",
            "text/plain": [
              "<Figure size 432x288 with 1 Axes>"
            ]
          },
          "metadata": {
            "needs_background": "light"
          }
        }
      ]
    },
    {
      "cell_type": "markdown",
      "metadata": {
        "id": "I9-TUsT2MjjW"
      },
      "source": [
        "광고를 넣었다고해서 성공적인 판매로 이어지는것은 아니다."
      ]
    },
    {
      "cell_type": "markdown",
      "metadata": {
        "id": "cXIeLZxHMoST"
      },
      "source": [
        "## 가설2. 평가수 가 많을수록 높은 판매량을 기록할 것이다."
      ]
    },
    {
      "cell_type": "code",
      "metadata": {
        "id": "p_XMkClBOVVV",
        "outputId": "92a45e00-64ed-4311-af73-fd446c68e3c8",
        "colab": {
          "base_uri": "https://localhost:8080/",
          "height": 451
        }
      },
      "source": [
        "plt.figure(figsize =(12, 6))\n",
        "sns.set_context('notebook')\n",
        "sns.countplot(df['rating_count'], hue = df['successful_sold'])\n",
        "\n",
        "ax =plt.gca()\n",
        "ax.legend(loc = 'upper right')\n",
        "plt.show()"
      ],
      "execution_count": 81,
      "outputs": [
        {
          "output_type": "stream",
          "name": "stderr",
          "text": [
            "/usr/local/lib/python3.7/dist-packages/seaborn/_decorators.py:43: FutureWarning: Pass the following variable as a keyword arg: x. From version 0.12, the only valid positional argument will be `data`, and passing other arguments without an explicit keyword will result in an error or misinterpretation.\n",
            "  FutureWarning\n"
          ]
        },
        {
          "output_type": "display_data",
          "data": {
            "image/png": "[encoded data removed]",
            "text/plain": [
              "<Figure size 864x432 with 1 Axes>"
            ]
          },
          "metadata": {
            "needs_background": "light"
          }
        }
      ]
    },
    {
      "cell_type": "markdown",
      "metadata": {
        "id": "z5C-CSIQcZgJ"
      },
      "source": [
        "평가수가 적을경우 성공적으로 판매가 이루어 지기 힘들고 평가수가 높을수록 성공적인 판매에 가까워진다. 또한 일정 평가 수 이상을 기록하면 성공적인 판매로 이루어지는것을 볼 수 있다."
      ]
    },
    {
      "cell_type": "markdown",
      "metadata": {
        "id": "VmcH4q70dyQU"
      },
      "source": [
        "## 가설3. 평가수가 많은 사람들은 뱃지를 가지고 있을것이다. < - > 뱃지를 가지고 있는사람은 평가수가 높을것이다."
      ]
    },
    {
      "cell_type": "code",
      "metadata": {
        "id": "PHhkp7bvXBdq",
        "outputId": "57a1a02b-4d5a-435c-c947-057f31cea75c",
        "colab": {
          "base_uri": "https://localhost:8080/",
          "height": 360
        }
      },
      "source": [
        "sns.lineplot(df['rating_count'],df['badges_count'])"
      ],
      "execution_count": 90,
      "outputs": [
        {
          "output_type": "stream",
          "name": "stderr",
          "text": [
            "/usr/local/lib/python3.7/dist-packages/seaborn/_decorators.py:43: FutureWarning: Pass the following variables as keyword args: x, y. From version 0.12, the only valid positional argument will be `data`, and passing other arguments without an explicit keyword will result in an error or misinterpretation.\n",
            "  FutureWarning\n"
          ]
        },
        {
          "output_type": "execute_result",
          "data": {
            "text/plain": [
              "<matplotlib.axes._subplots.AxesSubplot at 0x7fd7c57e9c50>"
            ]
          },
          "metadata": {},
          "execution_count": 90
        },
        {
          "output_type": "display_data",
          "data": {
            "image/png": "[encoded data removed]",
            "text/plain": [
              "<Figure size 432x288 with 1 Axes>"
            ]
          },
          "metadata": {
            "needs_background": "light"
          }
        }
      ]
    },
    {
      "cell_type": "markdown",
      "metadata": {
        "id": "vxNaJKH8hVrI"
      },
      "source": [
        "평가수와 뱃지가 비례하는것은 아니다."
      ]
    },
    {
      "cell_type": "code",
      "metadata": {
        "id": "2zDEm3Kmgm42"
      },
      "source": [
        ""
      ],
      "execution_count": null,
      "outputs": []
    }
  ]
}