{
  "nbformat": 4,
  "nbformat_minor": 0,
  "metadata": {
    "colab": {
      "name": "Main.ipynb",
      "provenance": []
    },
    "kernelspec": {
      "name": "python3",
      "display_name": "Python 3"
    },
    "language_info": {
      "name": "python"
    }
  },
  "cells": [
    {
      "cell_type": "code",
      "metadata": {
        "colab": {
          "base_uri": "https://localhost:8080/",
          "height": 414
        },
        "id": "WLxy1GrsBdBV",
        "outputId": "40987bd6-e3cf-4b70-a6b9-1a4437fd471c"
      },
      "source": [
        "import pandas as pd\n",
        "import numpy as np\n",
        "\n",
        "df = pd.read_csv('/content/DisneylandReviews.csv',encoding='latin1')\n",
        "df"
      ],
      "execution_count": 10,
      "outputs": [
        {
          "output_type": "execute_result",
          "data": {
            "text/html": [
              "<div>\n",
              "<style scoped>\n",
              "    .dataframe tbody tr th:only-of-type {\n",
              "        vertical-align: middle;\n",
              "    }\n",
              "\n",
              "    .dataframe tbody tr th {\n",
              "        vertical-align: top;\n",
              "    }\n",
              "\n",
              "    .dataframe thead th {\n",
              "        text-align: right;\n",
              "    }\n",
              "</style>\n",
              "<table border=\"1\" class=\"dataframe\">\n",
              "  <thead>\n",
              "    <tr style=\"text-align: right;\">\n",
              "      <th></th>\n",
              "      <th>Review_ID</th>\n",
              "      <th>Rating</th>\n",
              "      <th>Year_Month</th>\n",
              "      <th>Reviewer_Location</th>\n",
              "      <th>Review_Text</th>\n",
              "      <th>Branch</th>\n",
              "    </tr>\n",
              "  </thead>\n",
              "  <tbody>\n",
              "    <tr>\n",
              "      <th>0</th>\n",
              "      <td>670772142</td>\n",
              "      <td>4</td>\n",
              "      <td>2019-4</td>\n",
              "      <td>Australia</td>\n",
              "      <td>If you've ever been to Disneyland anywhere you...</td>\n",
              "      <td>Disneyland_HongKong</td>\n",
              "    </tr>\n",
              "    <tr>\n",
              "      <th>1</th>\n",
              "      <td>670682799</td>\n",
              "      <td>4</td>\n",
              "      <td>2019-5</td>\n",
              "      <td>Philippines</td>\n",
              "      <td>Its been a while since d last time we visit HK...</td>\n",
              "      <td>Disneyland_HongKong</td>\n",
              "    </tr>\n",
              "    <tr>\n",
              "      <th>2</th>\n",
              "      <td>670623270</td>\n",
              "      <td>4</td>\n",
              "      <td>2019-4</td>\n",
              "      <td>United Arab Emirates</td>\n",
              "      <td>Thanks God it wasn   t too hot or too humid wh...</td>\n",
              "      <td>Disneyland_HongKong</td>\n",
              "    </tr>\n",
              "    <tr>\n",
              "      <th>3</th>\n",
              "      <td>670607911</td>\n",
              "      <td>4</td>\n",
              "      <td>2019-4</td>\n",
              "      <td>Australia</td>\n",
              "      <td>HK Disneyland is a great compact park. Unfortu...</td>\n",
              "      <td>Disneyland_HongKong</td>\n",
              "    </tr>\n",
              "    <tr>\n",
              "      <th>4</th>\n",
              "      <td>670607296</td>\n",
              "      <td>4</td>\n",
              "      <td>2019-4</td>\n",
              "      <td>United Kingdom</td>\n",
              "      <td>the location is not in the city, took around 1...</td>\n",
              "      <td>Disneyland_HongKong</td>\n",
              "    </tr>\n",
              "    <tr>\n",
              "      <th>...</th>\n",
              "      <td>...</td>\n",
              "      <td>...</td>\n",
              "      <td>...</td>\n",
              "      <td>...</td>\n",
              "      <td>...</td>\n",
              "      <td>...</td>\n",
              "    </tr>\n",
              "    <tr>\n",
              "      <th>42651</th>\n",
              "      <td>1765031</td>\n",
              "      <td>5</td>\n",
              "      <td>missing</td>\n",
              "      <td>United Kingdom</td>\n",
              "      <td>i went to disneyland paris in july 03 and thou...</td>\n",
              "      <td>Disneyland_Paris</td>\n",
              "    </tr>\n",
              "    <tr>\n",
              "      <th>42652</th>\n",
              "      <td>1659553</td>\n",
              "      <td>5</td>\n",
              "      <td>missing</td>\n",
              "      <td>Canada</td>\n",
              "      <td>2 adults and 1 child of 11 visited Disneyland ...</td>\n",
              "      <td>Disneyland_Paris</td>\n",
              "    </tr>\n",
              "    <tr>\n",
              "      <th>42653</th>\n",
              "      <td>1645894</td>\n",
              "      <td>5</td>\n",
              "      <td>missing</td>\n",
              "      <td>South Africa</td>\n",
              "      <td>My eleven year old daughter and myself went to...</td>\n",
              "      <td>Disneyland_Paris</td>\n",
              "    </tr>\n",
              "    <tr>\n",
              "      <th>42654</th>\n",
              "      <td>1618637</td>\n",
              "      <td>4</td>\n",
              "      <td>missing</td>\n",
              "      <td>United States</td>\n",
              "      <td>This hotel, part of the Disneyland Paris compl...</td>\n",
              "      <td>Disneyland_Paris</td>\n",
              "    </tr>\n",
              "    <tr>\n",
              "      <th>42655</th>\n",
              "      <td>1536786</td>\n",
              "      <td>4</td>\n",
              "      <td>missing</td>\n",
              "      <td>United Kingdom</td>\n",
              "      <td>I went to the Disneyparis resort, in 1996, wit...</td>\n",
              "      <td>Disneyland_Paris</td>\n",
              "    </tr>\n",
              "  </tbody>\n",
              "</table>\n",
              "<p>42656 rows × 6 columns</p>\n",
              "</div>"
            ],
            "text/plain": [
              "       Review_ID  ...               Branch\n",
              "0      670772142  ...  Disneyland_HongKong\n",
              "1      670682799  ...  Disneyland_HongKong\n",
              "2      670623270  ...  Disneyland_HongKong\n",
              "3      670607911  ...  Disneyland_HongKong\n",
              "4      670607296  ...  Disneyland_HongKong\n",
              "...          ...  ...                  ...\n",
              "42651    1765031  ...     Disneyland_Paris\n",
              "42652    1659553  ...     Disneyland_Paris\n",
              "42653    1645894  ...     Disneyland_Paris\n",
              "42654    1618637  ...     Disneyland_Paris\n",
              "42655    1536786  ...     Disneyland_Paris\n",
              "\n",
              "[42656 rows x 6 columns]"
            ]
          },
          "metadata": {},
          "execution_count": 10
        }
      ]
    },
    {
      "cell_type": "code",
      "metadata": {
        "colab": {
          "base_uri": "https://localhost:8080/"
        },
        "id": "LcdG7q8hFv3D",
        "outputId": "915085ed-2dc0-436d-86c1-62f2291920bf"
      },
      "source": [
        "df.info()"
      ],
      "execution_count": 11,
      "outputs": [
        {
          "output_type": "stream",
          "text": [
            "<class 'pandas.core.frame.DataFrame'>\n",
            "RangeIndex: 42656 entries, 0 to 42655\n",
            "Data columns (total 6 columns):\n",
            " #   Column             Non-Null Count  Dtype \n",
            "---  ------             --------------  ----- \n",
            " 0   Review_ID          42656 non-null  int64 \n",
            " 1   Rating             42656 non-null  int64 \n",
            " 2   Year_Month         42656 non-null  object\n",
            " 3   Reviewer_Location  42656 non-null  object\n",
            " 4   Review_Text        42656 non-null  object\n",
            " 5   Branch             42656 non-null  object\n",
            "dtypes: int64(2), object(4)\n",
            "memory usage: 2.0+ MB\n"
          ],
          "name": "stdout"
        }
      ]
    },
    {
      "cell_type": "code",
      "metadata": {
        "colab": {
          "base_uri": "https://localhost:8080/"
        },
        "id": "3Z4COomqGFoM",
        "outputId": "07d9bdfc-ec67-46cb-f52d-5ad28633472f"
      },
      "source": [
        "df.isnull().sum()"
      ],
      "execution_count": 12,
      "outputs": [
        {
          "output_type": "execute_result",
          "data": {
            "text/plain": [
              "Review_ID            0\n",
              "Rating               0\n",
              "Year_Month           0\n",
              "Reviewer_Location    0\n",
              "Review_Text          0\n",
              "Branch               0\n",
              "dtype: int64"
            ]
          },
          "metadata": {},
          "execution_count": 12
        }
      ]
    },
    {
      "cell_type": "code",
      "metadata": {
        "colab": {
          "base_uri": "https://localhost:8080/",
          "height": 414
        },
        "id": "8v1J23zRGQw8",
        "outputId": "6e3b2cde-fff5-4767-9c0c-a20f55de4adf"
      },
      "source": [
        "df = df.drop(columns = ['Review_ID', 'Year_Month'])\n",
        "df"
      ],
      "execution_count": 15,
      "outputs": [
        {
          "output_type": "execute_result",
          "data": {
            "text/html": [
              "<div>\n",
              "<style scoped>\n",
              "    .dataframe tbody tr th:only-of-type {\n",
              "        vertical-align: middle;\n",
              "    }\n",
              "\n",
              "    .dataframe tbody tr th {\n",
              "        vertical-align: top;\n",
              "    }\n",
              "\n",
              "    .dataframe thead th {\n",
              "        text-align: right;\n",
              "    }\n",
              "</style>\n",
              "<table border=\"1\" class=\"dataframe\">\n",
              "  <thead>\n",
              "    <tr style=\"text-align: right;\">\n",
              "      <th></th>\n",
              "      <th>Rating</th>\n",
              "      <th>Reviewer_Location</th>\n",
              "      <th>Review_Text</th>\n",
              "      <th>Branch</th>\n",
              "    </tr>\n",
              "  </thead>\n",
              "  <tbody>\n",
              "    <tr>\n",
              "      <th>0</th>\n",
              "      <td>4</td>\n",
              "      <td>Australia</td>\n",
              "      <td>If you've ever been to Disneyland anywhere you...</td>\n",
              "      <td>Disneyland_HongKong</td>\n",
              "    </tr>\n",
              "    <tr>\n",
              "      <th>1</th>\n",
              "      <td>4</td>\n",
              "      <td>Philippines</td>\n",
              "      <td>Its been a while since d last time we visit HK...</td>\n",
              "      <td>Disneyland_HongKong</td>\n",
              "    </tr>\n",
              "    <tr>\n",
              "      <th>2</th>\n",
              "      <td>4</td>\n",
              "      <td>United Arab Emirates</td>\n",
              "      <td>Thanks God it wasn   t too hot or too humid wh...</td>\n",
              "      <td>Disneyland_HongKong</td>\n",
              "    </tr>\n",
              "    <tr>\n",
              "      <th>3</th>\n",
              "      <td>4</td>\n",
              "      <td>Australia</td>\n",
              "      <td>HK Disneyland is a great compact park. Unfortu...</td>\n",
              "      <td>Disneyland_HongKong</td>\n",
              "    </tr>\n",
              "    <tr>\n",
              "      <th>4</th>\n",
              "      <td>4</td>\n",
              "      <td>United Kingdom</td>\n",
              "      <td>the location is not in the city, took around 1...</td>\n",
              "      <td>Disneyland_HongKong</td>\n",
              "    </tr>\n",
              "    <tr>\n",
              "      <th>...</th>\n",
              "      <td>...</td>\n",
              "      <td>...</td>\n",
              "      <td>...</td>\n",
              "      <td>...</td>\n",
              "    </tr>\n",
              "    <tr>\n",
              "      <th>42651</th>\n",
              "      <td>5</td>\n",
              "      <td>United Kingdom</td>\n",
              "      <td>i went to disneyland paris in july 03 and thou...</td>\n",
              "      <td>Disneyland_Paris</td>\n",
              "    </tr>\n",
              "    <tr>\n",
              "      <th>42652</th>\n",
              "      <td>5</td>\n",
              "      <td>Canada</td>\n",
              "      <td>2 adults and 1 child of 11 visited Disneyland ...</td>\n",
              "      <td>Disneyland_Paris</td>\n",
              "    </tr>\n",
              "    <tr>\n",
              "      <th>42653</th>\n",
              "      <td>5</td>\n",
              "      <td>South Africa</td>\n",
              "      <td>My eleven year old daughter and myself went to...</td>\n",
              "      <td>Disneyland_Paris</td>\n",
              "    </tr>\n",
              "    <tr>\n",
              "      <th>42654</th>\n",
              "      <td>4</td>\n",
              "      <td>United States</td>\n",
              "      <td>This hotel, part of the Disneyland Paris compl...</td>\n",
              "      <td>Disneyland_Paris</td>\n",
              "    </tr>\n",
              "    <tr>\n",
              "      <th>42655</th>\n",
              "      <td>4</td>\n",
              "      <td>United Kingdom</td>\n",
              "      <td>I went to the Disneyparis resort, in 1996, wit...</td>\n",
              "      <td>Disneyland_Paris</td>\n",
              "    </tr>\n",
              "  </tbody>\n",
              "</table>\n",
              "<p>42656 rows × 4 columns</p>\n",
              "</div>"
            ],
            "text/plain": [
              "       Rating  ...               Branch\n",
              "0           4  ...  Disneyland_HongKong\n",
              "1           4  ...  Disneyland_HongKong\n",
              "2           4  ...  Disneyland_HongKong\n",
              "3           4  ...  Disneyland_HongKong\n",
              "4           4  ...  Disneyland_HongKong\n",
              "...       ...  ...                  ...\n",
              "42651       5  ...     Disneyland_Paris\n",
              "42652       5  ...     Disneyland_Paris\n",
              "42653       5  ...     Disneyland_Paris\n",
              "42654       4  ...     Disneyland_Paris\n",
              "42655       4  ...     Disneyland_Paris\n",
              "\n",
              "[42656 rows x 4 columns]"
            ]
          },
          "metadata": {},
          "execution_count": 15
        }
      ]
    },
    {
      "cell_type": "code",
      "metadata": {
        "colab": {
          "base_uri": "https://localhost:8080/"
        },
        "id": "v76WNNreH_cd",
        "outputId": "b8f4f659-d451-4fb6-9c5d-8ee6292a22e6"
      },
      "source": [
        "df['Reviewer_Location'].unique()"
      ],
      "execution_count": 18,
      "outputs": [
        {
          "output_type": "execute_result",
          "data": {
            "text/plain": [
              "array(['Australia', 'Philippines', 'United Arab Emirates',\n",
              "       'United Kingdom', 'Singapore', 'India', 'Malaysia',\n",
              "       'United States', 'Canada', 'Myanmar (Burma)', 'Hong Kong', 'China',\n",
              "       'Indonesia', 'Qatar', 'New Zealand', 'Sri Lanka', 'Uganda',\n",
              "       'Thailand', 'Austria', 'South Africa', 'Saudi Arabia', 'Japan',\n",
              "       'Israel', 'South Korea', 'Turkey', 'Macau', 'Egypt', 'Mexico',\n",
              "       'Mauritius', 'Sweden', 'Brazil', 'Kenya', 'Vietnam', 'Portugal',\n",
              "       'Cambodia', 'Zambia', 'Croatia', 'France', 'Taiwan', 'Oman',\n",
              "       'Colombia', 'Norway', 'Kuwait', 'Netherlands', 'Barbados',\n",
              "       'Finland', 'Bosnia and Herzegovina', 'Brunei', 'Bahrain',\n",
              "       'Maldives', 'Ireland', 'Russia', 'Romania',\n",
              "       'Northern Mariana Islands', 'Germany', 'Chile', 'Isle of Man',\n",
              "       'Pakistan', 'Ukraine', 'Greece', 'Switzerland', 'Spain', 'Estonia',\n",
              "       \"Côte d'Ivoire\", 'Guam', 'Bangladesh', 'Belgium', 'Italy',\n",
              "       'Botswana', 'Denmark', 'Argentina', 'Peru', 'Lithuania', 'Iran',\n",
              "       'Mali', 'Uruguay', 'Mongolia', 'Zimbabwe', 'Seychelles',\n",
              "       'Puerto Rico', 'Hungary', 'Fiji', 'Nepal', 'Jordan', 'Cyprus',\n",
              "       'Venezuela', 'Dominican Republic', 'Czechia', 'Bulgaria', 'Ghana',\n",
              "       'Ethiopia', 'The Bahamas', 'Serbia', 'Montenegro', 'Guatemala',\n",
              "       'Kazakhstan', 'Poland', 'Vanuatu', 'Laos', 'Curaçao',\n",
              "       'Falkland Islands (Islas Malvinas)', 'Andorra', 'Haiti',\n",
              "       'Costa Rica', 'Nigeria', 'Jersey', 'Solomon Islands', 'Mozambique',\n",
              "       'Cook Islands', 'South Sudan', 'Gibraltar', 'Trinidad and Tobago',\n",
              "       'Afghanistan', 'Timor-Leste', 'Luxembourg', 'Rwanda', 'Tanzania',\n",
              "       'Lebanon', 'Ecuador', 'Turks and Caicos Islands', 'Malta',\n",
              "       'U.S. Virgin Islands', 'Slovakia', 'Iceland', 'Aruba',\n",
              "       'French Polynesia', 'Tunisia', 'Armenia', 'Panama', 'Namibia',\n",
              "       'Cuba', 'Honduras', 'Nicaragua', 'Bolivia', 'Papua New Guinea',\n",
              "       'Iraq', 'Caribbean Netherlands', 'Morocco', 'Jamaica',\n",
              "       'Cayman Islands', 'North Macedonia', 'Albania',\n",
              "       'Antigua and Barbuda', 'Uzbekistan', 'Azerbaijan', 'Latvia',\n",
              "       'Suriname', 'Algeria', 'Grenada', 'Malawi', 'Monaco', 'Guernsey',\n",
              "       'Georgia', 'Moldova', 'Senegal', 'Libya', 'Madagascar',\n",
              "       'Democratic Republic of the Congo', 'El Salvador', 'Slovenia',\n",
              "       'Sudan', 'Åland Islands'], dtype=object)"
            ]
          },
          "metadata": {},
          "execution_count": 18
        }
      ]
    },
    {
      "cell_type": "code",
      "metadata": {
        "colab": {
          "base_uri": "https://localhost:8080/"
        },
        "id": "E0JI5VkdH6YD",
        "outputId": "f7d96a43-ac34-4048-c031-1636a140cda9"
      },
      "source": [
        "df['Branch'].unique()"
      ],
      "execution_count": 17,
      "outputs": [
        {
          "output_type": "execute_result",
          "data": {
            "text/plain": [
              "array(['Disneyland_HongKong', 'Disneyland_California', 'Disneyland_Paris'],\n",
              "      dtype=object)"
            ]
          },
          "metadata": {},
          "execution_count": 17
        }
      ]
    },
    {
      "cell_type": "code",
      "metadata": {
        "id": "OLLe2FzoH-ZD"
      },
      "source": [
        ""
      ],
      "execution_count": null,
      "outputs": []
    }
  ]
}