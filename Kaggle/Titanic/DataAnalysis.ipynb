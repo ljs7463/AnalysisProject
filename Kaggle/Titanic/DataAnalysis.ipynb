{
  "nbformat": 4,
  "nbformat_minor": 0,
  "metadata": {
    "colab": {
      "name": "DataAnalysis.ipynb",
      "provenance": [],
      "toc_visible": true,
      "authorship_tag": "ABX9TyP046Jt95LXoUEsyAFfr+yB",
      "include_colab_link": true
    },
    "kernelspec": {
      "name": "python3",
      "display_name": "Python 3"
    }
  },
  "cells": [
    {
      "cell_type": "markdown",
      "metadata": {
        "id": "view-in-github",
        "colab_type": "text"
      },
      "source": [
        "<a href=\"https://colab.research.google.com/github/ljs7463/study-repository/blob/master/Data%20analysis%20practice/%ED%83%80%EC%9D%B4%ED%83%80%EB%8B%89%20%EB%8D%B0%EC%9D%B4%ED%84%B0%20%EB%B6%84%EC%84%9D/DataAnalysis.ipynb\" target=\"_parent\"><img src=\"https://colab.research.google.com/assets/colab-badge.svg\" alt=\"Open In Colab\"/></a>"
      ]
    },
    {
      "cell_type": "markdown",
      "metadata": {
        "id": "MROfha2-Zy65"
      },
      "source": [
        "#데이터의 종류(형태) 파악하기 \r\n",
        "\r\n",
        "\r\n",
        "먼저, 각 feature의 데이터 형태를 파악해야 어떠한 그래프(plot)로 시각화 할 지 선택가능합니다\r\n",
        "\r\n",
        "**Numerical (수치형) 또는 Quantitative (양적) 데이터**\r\n",
        "\r\n",
        "- Discrete (이산형, 불연속형) 데이터\r\n",
        "\r\n",
        " 숫자로 셀 수 있는 것, 특정 값, 정수형태 (*1개, 2명 등)\r\n",
        "\r\n",
        "- Continuous (연속형) 데이터\r\n",
        "\r\n",
        " 측정해야 하는 것, 연속 범위 내 실수값 (*온도(21.3℃), 무게(72.5kg), 길이(183m), 비율(57%) 등)\r\n",
        "\r\n",
        "**Categorical (범주형) 또는 Qualitative (질적) 데이터**\r\n",
        "\r\n",
        "- Nominal (명목형) 데이터\r\n",
        "\r\n",
        " 순서가 없는 것 (*성별, 동물의 종류 등)\r\n",
        "- Ordinal (순서형) 데이터\r\n",
        "\r\n",
        " 순서가 있는 것 (수능 등급, 좌석 등급, 순위 등)"
      ]
    },
    {
      "cell_type": "markdown",
      "metadata": {
        "id": "N1yHtnLzspKd"
      },
      "source": [
        "# 인코딩 방법"
      ]
    },
    {
      "cell_type": "markdown",
      "metadata": {
        "id": "2IrAUCorsucs"
      },
      "source": [
        "Norminal 데이터 : 원핫 인코딩(get_dummies), map()\r\n",
        "\r\n",
        "Ordinal 데이터 : LabelEncoder()"
      ]
    },
    {
      "cell_type": "markdown",
      "metadata": {
        "id": "HHzXnyTKtLg9"
      },
      "source": [
        "# Seaborn 사용 간단 정리"
      ]
    },
    {
      "cell_type": "markdown",
      "metadata": {
        "id": "yhq4uNcUbumF"
      },
      "source": [
        "1차원 시각화\r\n",
        "\r\n",
        "1차원, 즉 변수(feature) 한 개의 분포를 알아보기 위한 시각화입니다.\r\n",
        "\r\n",
        "distplot : sns.distplot() (numerical)\r\n",
        "```\r\n",
        "sns.displot(iris['sepal_width'), bins = 30)\r\n",
        "```\r\n",
        "\r\n",
        "countplot : sns.countplot() (categorical)\r\n",
        "```\r\n",
        "sns.countplot(data = titanic, x = 'species')\r\n",
        "```"
      ]
    },
    {
      "cell_type": "markdown",
      "metadata": {
        "id": "9NTx8l3cei6_"
      },
      "source": [
        "2차원\r\n",
        "\r\n",
        "수치형 변수 간의 관계를 보여주는 scatter plot (산점도)\r\n",
        "만약 시각화하고자 하는 값이 모두 numerical data 라면, scatter plot 을 이용해서 시각화 할 수 있습니다.\r\n",
        "\r\n",
        "🤩 아래의 relplot 함수를 사용하여 'total_bill' 과 'tip' feature의 관계를 살펴 볼 수 있습니다.\r\n",
        "\r\n",
        "sns.relplot(x=\"X값\", y= \"Y값\", data = 데이터셋)"
      ]
    },
    {
      "cell_type": "markdown",
      "metadata": {
        "id": "Hl205Cl-fxeX"
      },
      "source": [
        "🤩 pairplot 함수를 사용하면, 데이터셋의 모든 numerical feature들 간의 2차원 scatterplot 을 그려주게 됩니다.\r\n",
        "\r\n",
        "sns.pairplot(데이터셋)"
      ]
    },
    {
      "cell_type": "markdown",
      "metadata": {
        "id": "IFoYh2sKfxte"
      },
      "source": [
        "hue 값을 이용한 3개 feature 시각화\r\n",
        "🤩 만약 categorical data가 섞여 있는 경우, hue 인수에 카테고리 변수 이름을 지정하면\r\n",
        "카테고리 값에 따라 색상을 다르게 하여 시각화할 수 있습니다."
      ]
    },
    {
      "cell_type": "markdown",
      "metadata": {
        "id": "NVy77-ibhBEc"
      },
      "source": [
        "🤩 x 축, y 축, 색... 😱 그리고 마지막으로 점의 📐크기를 사용하여 4개의 기준으로 data 를 시각화 할 수 있습니다.\r\n",
        "\r\n",
        "size = \" \""
      ]
    },
    {
      "cell_type": "markdown",
      "metadata": {
        "id": "AwE0WBFyhIxT"
      },
      "source": [
        "Categorical data 시각화\r\n",
        "🤩 catplot 을 이용하면 좀 더 간단히 categorical data 를 시각화 할 수 있습니다.\r\n",
        "\r\n",
        "sns.catplot(x = \"x축\", y = \"y축\", data= 데이터셋)"
      ]
    },
    {
      "cell_type": "markdown",
      "metadata": {
        "id": "DQ91Sot1hvPB"
      },
      "source": [
        "catplot 도 relplot 과 마찬가지로 hue 값을 줄 수 있습니다"
      ]
    },
    {
      "cell_type": "markdown",
      "metadata": {
        "id": "zZvAK4csh4Z7"
      },
      "source": [
        "🥇🥈🥉 위의 X (Thur, Fri, Sat, Sun)는 판다스 데이터프레임에 들어가 있는 순서대로 보여지게 됩니다.\r\n",
        "\r\n",
        "👉 이때 X 순서를 임의로 변경하고 싶다면 order 를 사용해주어야합니다.\r\n",
        "\r\n",
        "order = []"
      ]
    },
    {
      "cell_type": "markdown",
      "metadata": {
        "id": "7Np2vHKfdJwh"
      },
      "source": [
        "`describe(include=['O'])` 를 이용하면 categorical data 도 분석해줍니다."
      ]
    },
    {
      "cell_type": "markdown",
      "metadata": {
        "id": "oZMFXls6diFB"
      },
      "source": [
        "데이터의 형태와 분포를 살펴보는 것이 처음이시라면 쉽지 않게 느껴지실 수 있는데요.\r\n",
        "이렇게 가설을 세우기 전, 데이터를 분석해봐야 유의미한 가설을 세우고 검증을 할 수 있어집니다.\r\n",
        "그리고 다양한 데이터를 분석해보며 연습한다면 훌륭한 데이터 사이언티스트가 되실 수 있을 것입니다!!"
      ]
    },
    {
      "cell_type": "markdown",
      "metadata": {
        "id": "03JRPmh4oMWv"
      },
      "source": [
        "FacetGrid 를 사용하면 여러 개의 그래프를 손쉽게 만들 수 있습니다 (위 그래프와 같음)"
      ]
    },
    {
      "cell_type": "code",
      "metadata": {
        "id": "yNt1_EiRoOoI"
      },
      "source": [
        "grid = sns.FacetGrid(titanic, col='sex')\r\n",
        "grid.map(sns.distplot, 'age', kde=False)"
      ],
      "execution_count": null,
      "outputs": []
    },
    {
      "cell_type": "markdown",
      "metadata": {
        "id": "z4xZxcnxurWU"
      },
      "source": [
        "평균 = 데이터의 중앙에 있을 확률이 높은 값\r\n",
        "분산 = 각 값이 평균에서 얼마만큼 분산되어있는지의 척도"
      ]
    },
    {
      "cell_type": "markdown",
      "metadata": {
        "id": "a3BeV4DptZEC"
      },
      "source": [
        "# Groupby"
      ]
    },
    {
      "cell_type": "markdown",
      "metadata": {
        "id": "1Jrpxhnttdbq"
      },
      "source": [
        "* groupby() 연산자를 사용하여 집단, 그룹별로 데이터를 요약할 수 있다.\r\n",
        "\r\n",
        "* groupby() 는 다양한 변수를 가진 데이터 셋을 분석하는데 있어 그룹별로 데이터를 보유하는 분석은 일상적으로 사용할 만큼 사용 빈도가 높다.\r\n",
        "\r\n",
        "* 같은 값을 하나로 묶어 통계 또는 집계 결과를 얻기 위해 사용하는 것이 groupby이다.\r\n"
      ]
    },
    {
      "cell_type": "code",
      "metadata": {
        "id": "-_xmmBra8DaV",
        "outputId": "cdaca52c-1c69-43d5-8a17-0c025f522531",
        "colab": {
          "base_uri": "https://localhost:8080/",
          "height": 225
        }
      },
      "source": [
        "# 샘플 데이터 생성\r\n",
        "import pandas as pd\r\n",
        "\r\n",
        "df = pd.DataFrame({\r\n",
        "    'city' : ['부산', '부산', '부산', '서울', '서울', '서울'],\r\n",
        "    'fruits' : ['apple', 'orange', 'banana', 'banana', 'apple', 'apple' ],\r\n",
        "    'price' : [100, 200, 250, 300, 150, 200],\r\n",
        "    'quantity' : [1, 2, 3, 4, 5, 6]\r\n",
        "})\r\n",
        "df"
      ],
      "execution_count": 5,
      "outputs": [
        {
          "output_type": "execute_result",
          "data": {
            "text/html": [
              "<div>\n",
              "<style scoped>\n",
              "    .dataframe tbody tr th:only-of-type {\n",
              "        vertical-align: middle;\n",
              "    }\n",
              "\n",
              "    .dataframe tbody tr th {\n",
              "        vertical-align: top;\n",
              "    }\n",
              "\n",
              "    .dataframe thead th {\n",
              "        text-align: right;\n",
              "    }\n",
              "</style>\n",
              "<table border=\"1\" class=\"dataframe\">\n",
              "  <thead>\n",
              "    <tr style=\"text-align: right;\">\n",
              "      <th></th>\n",
              "      <th>city</th>\n",
              "      <th>fruits</th>\n",
              "      <th>price</th>\n",
              "      <th>quantity</th>\n",
              "    </tr>\n",
              "  </thead>\n",
              "  <tbody>\n",
              "    <tr>\n",
              "      <th>0</th>\n",
              "      <td>부산</td>\n",
              "      <td>apple</td>\n",
              "      <td>100</td>\n",
              "      <td>1</td>\n",
              "    </tr>\n",
              "    <tr>\n",
              "      <th>1</th>\n",
              "      <td>부산</td>\n",
              "      <td>orange</td>\n",
              "      <td>200</td>\n",
              "      <td>2</td>\n",
              "    </tr>\n",
              "    <tr>\n",
              "      <th>2</th>\n",
              "      <td>부산</td>\n",
              "      <td>banana</td>\n",
              "      <td>250</td>\n",
              "      <td>3</td>\n",
              "    </tr>\n",
              "    <tr>\n",
              "      <th>3</th>\n",
              "      <td>서울</td>\n",
              "      <td>banana</td>\n",
              "      <td>300</td>\n",
              "      <td>4</td>\n",
              "    </tr>\n",
              "    <tr>\n",
              "      <th>4</th>\n",
              "      <td>서울</td>\n",
              "      <td>apple</td>\n",
              "      <td>150</td>\n",
              "      <td>5</td>\n",
              "    </tr>\n",
              "    <tr>\n",
              "      <th>5</th>\n",
              "      <td>서울</td>\n",
              "      <td>apple</td>\n",
              "      <td>200</td>\n",
              "      <td>6</td>\n",
              "    </tr>\n",
              "  </tbody>\n",
              "</table>\n",
              "</div>"
            ],
            "text/plain": [
              "  city  fruits  price  quantity\n",
              "0   부산   apple    100         1\n",
              "1   부산  orange    200         2\n",
              "2   부산  banana    250         3\n",
              "3   서울  banana    300         4\n",
              "4   서울   apple    150         5\n",
              "5   서울   apple    200         6"
            ]
          },
          "metadata": {
            "tags": []
          },
          "execution_count": 5
        }
      ]
    },
    {
      "cell_type": "code",
      "metadata": {
        "id": "EynRNmn7A_kU",
        "outputId": "9923ce50-e947-4f21-d798-7342a3773193",
        "colab": {
          "base_uri": "https://localhost:8080/",
          "height": 136
        }
      },
      "source": [
        "df.groupby('city').mean()"
      ],
      "execution_count": 10,
      "outputs": [
        {
          "output_type": "execute_result",
          "data": {
            "text/html": [
              "<div>\n",
              "<style scoped>\n",
              "    .dataframe tbody tr th:only-of-type {\n",
              "        vertical-align: middle;\n",
              "    }\n",
              "\n",
              "    .dataframe tbody tr th {\n",
              "        vertical-align: top;\n",
              "    }\n",
              "\n",
              "    .dataframe thead th {\n",
              "        text-align: right;\n",
              "    }\n",
              "</style>\n",
              "<table border=\"1\" class=\"dataframe\">\n",
              "  <thead>\n",
              "    <tr style=\"text-align: right;\">\n",
              "      <th></th>\n",
              "      <th>price</th>\n",
              "      <th>quantity</th>\n",
              "    </tr>\n",
              "    <tr>\n",
              "      <th>city</th>\n",
              "      <th></th>\n",
              "      <th></th>\n",
              "    </tr>\n",
              "  </thead>\n",
              "  <tbody>\n",
              "    <tr>\n",
              "      <th>부산</th>\n",
              "      <td>183.333333</td>\n",
              "      <td>2.0</td>\n",
              "    </tr>\n",
              "    <tr>\n",
              "      <th>서울</th>\n",
              "      <td>216.666667</td>\n",
              "      <td>5.0</td>\n",
              "    </tr>\n",
              "  </tbody>\n",
              "</table>\n",
              "</div>"
            ],
            "text/plain": [
              "           price  quantity\n",
              "city                      \n",
              "부산    183.333333       2.0\n",
              "서울    216.666667       5.0"
            ]
          },
          "metadata": {
            "tags": []
          },
          "execution_count": 10
        }
      ]
    },
    {
      "cell_type": "code",
      "metadata": {
        "id": "_I_Y9eKj8DXs",
        "outputId": "d783f4fc-960e-4c5c-8c83-31251140c30e",
        "colab": {
          "base_uri": "https://localhost:8080/",
          "height": 225
        }
      },
      "source": [
        "df.groupby(['city','fruits']).mean()"
      ],
      "execution_count": 8,
      "outputs": [
        {
          "output_type": "execute_result",
          "data": {
            "text/html": [
              "<div>\n",
              "<style scoped>\n",
              "    .dataframe tbody tr th:only-of-type {\n",
              "        vertical-align: middle;\n",
              "    }\n",
              "\n",
              "    .dataframe tbody tr th {\n",
              "        vertical-align: top;\n",
              "    }\n",
              "\n",
              "    .dataframe thead th {\n",
              "        text-align: right;\n",
              "    }\n",
              "</style>\n",
              "<table border=\"1\" class=\"dataframe\">\n",
              "  <thead>\n",
              "    <tr style=\"text-align: right;\">\n",
              "      <th></th>\n",
              "      <th></th>\n",
              "      <th>price</th>\n",
              "      <th>quantity</th>\n",
              "    </tr>\n",
              "    <tr>\n",
              "      <th>city</th>\n",
              "      <th>fruits</th>\n",
              "      <th></th>\n",
              "      <th></th>\n",
              "    </tr>\n",
              "  </thead>\n",
              "  <tbody>\n",
              "    <tr>\n",
              "      <th rowspan=\"3\" valign=\"top\">부산</th>\n",
              "      <th>apple</th>\n",
              "      <td>100.0</td>\n",
              "      <td>1.0</td>\n",
              "    </tr>\n",
              "    <tr>\n",
              "      <th>banana</th>\n",
              "      <td>250.0</td>\n",
              "      <td>3.0</td>\n",
              "    </tr>\n",
              "    <tr>\n",
              "      <th>orange</th>\n",
              "      <td>200.0</td>\n",
              "      <td>2.0</td>\n",
              "    </tr>\n",
              "    <tr>\n",
              "      <th rowspan=\"2\" valign=\"top\">서울</th>\n",
              "      <th>apple</th>\n",
              "      <td>175.0</td>\n",
              "      <td>5.5</td>\n",
              "    </tr>\n",
              "    <tr>\n",
              "      <th>banana</th>\n",
              "      <td>300.0</td>\n",
              "      <td>4.0</td>\n",
              "    </tr>\n",
              "  </tbody>\n",
              "</table>\n",
              "</div>"
            ],
            "text/plain": [
              "             price  quantity\n",
              "city fruits                 \n",
              "부산   apple   100.0       1.0\n",
              "     banana  250.0       3.0\n",
              "     orange  200.0       2.0\n",
              "서울   apple   175.0       5.5\n",
              "     banana  300.0       4.0"
            ]
          },
          "metadata": {
            "tags": []
          },
          "execution_count": 8
        }
      ]
    },
    {
      "cell_type": "code",
      "metadata": {
        "id": "3ZyZ7Fax8DUu",
        "outputId": "ef084128-2032-44e7-db15-b443874169fa",
        "colab": {
          "base_uri": "https://localhost:8080/",
          "height": 195
        }
      },
      "source": [
        "df.groupby(['city','fruits'],as_index=False).mean()"
      ],
      "execution_count": 13,
      "outputs": [
        {
          "output_type": "execute_result",
          "data": {
            "text/html": [
              "<div>\n",
              "<style scoped>\n",
              "    .dataframe tbody tr th:only-of-type {\n",
              "        vertical-align: middle;\n",
              "    }\n",
              "\n",
              "    .dataframe tbody tr th {\n",
              "        vertical-align: top;\n",
              "    }\n",
              "\n",
              "    .dataframe thead th {\n",
              "        text-align: right;\n",
              "    }\n",
              "</style>\n",
              "<table border=\"1\" class=\"dataframe\">\n",
              "  <thead>\n",
              "    <tr style=\"text-align: right;\">\n",
              "      <th></th>\n",
              "      <th>city</th>\n",
              "      <th>fruits</th>\n",
              "      <th>price</th>\n",
              "      <th>quantity</th>\n",
              "    </tr>\n",
              "  </thead>\n",
              "  <tbody>\n",
              "    <tr>\n",
              "      <th>0</th>\n",
              "      <td>부산</td>\n",
              "      <td>apple</td>\n",
              "      <td>100.0</td>\n",
              "      <td>1.0</td>\n",
              "    </tr>\n",
              "    <tr>\n",
              "      <th>1</th>\n",
              "      <td>부산</td>\n",
              "      <td>banana</td>\n",
              "      <td>250.0</td>\n",
              "      <td>3.0</td>\n",
              "    </tr>\n",
              "    <tr>\n",
              "      <th>2</th>\n",
              "      <td>부산</td>\n",
              "      <td>orange</td>\n",
              "      <td>200.0</td>\n",
              "      <td>2.0</td>\n",
              "    </tr>\n",
              "    <tr>\n",
              "      <th>3</th>\n",
              "      <td>서울</td>\n",
              "      <td>apple</td>\n",
              "      <td>175.0</td>\n",
              "      <td>5.5</td>\n",
              "    </tr>\n",
              "    <tr>\n",
              "      <th>4</th>\n",
              "      <td>서울</td>\n",
              "      <td>banana</td>\n",
              "      <td>300.0</td>\n",
              "      <td>4.0</td>\n",
              "    </tr>\n",
              "  </tbody>\n",
              "</table>\n",
              "</div>"
            ],
            "text/plain": [
              "  city  fruits  price  quantity\n",
              "0   부산   apple  100.0       1.0\n",
              "1   부산  banana  250.0       3.0\n",
              "2   부산  orange  200.0       2.0\n",
              "3   서울   apple  175.0       5.5\n",
              "4   서울  banana  300.0       4.0"
            ]
          },
          "metadata": {
            "tags": []
          },
          "execution_count": 13
        }
      ]
    },
    {
      "cell_type": "code",
      "metadata": {
        "id": "c9hKfpYz8DR6",
        "outputId": "488d9f0b-9d8f-44e0-99a9-0fec6886c174",
        "colab": {
          "base_uri": "https://localhost:8080/",
          "height": 136
        }
      },
      "source": [
        "# get_group() : 그룹 안에 데이터를 확인하고 싶은 경우\r\n",
        "df.groupby('city').get_group('서울')"
      ],
      "execution_count": 15,
      "outputs": [
        {
          "output_type": "execute_result",
          "data": {
            "text/html": [
              "<div>\n",
              "<style scoped>\n",
              "    .dataframe tbody tr th:only-of-type {\n",
              "        vertical-align: middle;\n",
              "    }\n",
              "\n",
              "    .dataframe tbody tr th {\n",
              "        vertical-align: top;\n",
              "    }\n",
              "\n",
              "    .dataframe thead th {\n",
              "        text-align: right;\n",
              "    }\n",
              "</style>\n",
              "<table border=\"1\" class=\"dataframe\">\n",
              "  <thead>\n",
              "    <tr style=\"text-align: right;\">\n",
              "      <th></th>\n",
              "      <th>city</th>\n",
              "      <th>fruits</th>\n",
              "      <th>price</th>\n",
              "      <th>quantity</th>\n",
              "    </tr>\n",
              "  </thead>\n",
              "  <tbody>\n",
              "    <tr>\n",
              "      <th>3</th>\n",
              "      <td>서울</td>\n",
              "      <td>banana</td>\n",
              "      <td>300</td>\n",
              "      <td>4</td>\n",
              "    </tr>\n",
              "    <tr>\n",
              "      <th>4</th>\n",
              "      <td>서울</td>\n",
              "      <td>apple</td>\n",
              "      <td>150</td>\n",
              "      <td>5</td>\n",
              "    </tr>\n",
              "    <tr>\n",
              "      <th>5</th>\n",
              "      <td>서울</td>\n",
              "      <td>apple</td>\n",
              "      <td>200</td>\n",
              "      <td>6</td>\n",
              "    </tr>\n",
              "  </tbody>\n",
              "</table>\n",
              "</div>"
            ],
            "text/plain": [
              "  city  fruits  price  quantity\n",
              "3   서울  banana    300         4\n",
              "4   서울   apple    150         5\n",
              "5   서울   apple    200         6"
            ]
          },
          "metadata": {
            "tags": []
          },
          "execution_count": 15
        }
      ]
    },
    {
      "cell_type": "code",
      "metadata": {
        "id": "XeM4mDwi8DPH",
        "outputId": "97307a32-3755-4648-9996-e8fd0e240afb",
        "colab": {
          "base_uri": "https://localhost:8080/"
        }
      },
      "source": [
        "# size() : 각 그룹의 사이즈를 취득할 수 있습니다.\r\n",
        "df.groupby('city').size()"
      ],
      "execution_count": 16,
      "outputs": [
        {
          "output_type": "execute_result",
          "data": {
            "text/plain": [
              "city\n",
              "부산    3\n",
              "서울    3\n",
              "dtype: int64"
            ]
          },
          "metadata": {
            "tags": []
          },
          "execution_count": 16
        }
      ]
    },
    {
      "cell_type": "code",
      "metadata": {
        "id": "yN25ATUG8DMj",
        "outputId": "799a4bd3-f685-4f5d-e846-9b04ae5218fb",
        "colab": {
          "base_uri": "https://localhost:8080/"
        }
      },
      "source": [
        "df.groupby('city').size()['부산']"
      ],
      "execution_count": 17,
      "outputs": [
        {
          "output_type": "execute_result",
          "data": {
            "text/plain": [
              "3"
            ]
          },
          "metadata": {
            "tags": []
          },
          "execution_count": 17
        }
      ]
    },
    {
      "cell_type": "code",
      "metadata": {
        "id": "COEY75Y48DJ2",
        "outputId": "27b0e4e6-10d0-4fbb-d8eb-afe8cf92ae13",
        "colab": {
          "base_uri": "https://localhost:8080/",
          "height": 136
        }
      },
      "source": [
        "import numpy as np\r\n",
        "df.groupby('city').agg(np.mean)"
      ],
      "execution_count": 19,
      "outputs": [
        {
          "output_type": "execute_result",
          "data": {
            "text/html": [
              "<div>\n",
              "<style scoped>\n",
              "    .dataframe tbody tr th:only-of-type {\n",
              "        vertical-align: middle;\n",
              "    }\n",
              "\n",
              "    .dataframe tbody tr th {\n",
              "        vertical-align: top;\n",
              "    }\n",
              "\n",
              "    .dataframe thead th {\n",
              "        text-align: right;\n",
              "    }\n",
              "</style>\n",
              "<table border=\"1\" class=\"dataframe\">\n",
              "  <thead>\n",
              "    <tr style=\"text-align: right;\">\n",
              "      <th></th>\n",
              "      <th>price</th>\n",
              "      <th>quantity</th>\n",
              "    </tr>\n",
              "    <tr>\n",
              "      <th>city</th>\n",
              "      <th></th>\n",
              "      <th></th>\n",
              "    </tr>\n",
              "  </thead>\n",
              "  <tbody>\n",
              "    <tr>\n",
              "      <th>부산</th>\n",
              "      <td>183.333333</td>\n",
              "      <td>2.0</td>\n",
              "    </tr>\n",
              "    <tr>\n",
              "      <th>서울</th>\n",
              "      <td>216.666667</td>\n",
              "      <td>5.0</td>\n",
              "    </tr>\n",
              "  </tbody>\n",
              "</table>\n",
              "</div>"
            ],
            "text/plain": [
              "           price  quantity\n",
              "city                      \n",
              "부산    183.333333       2.0\n",
              "서울    216.666667       5.0"
            ]
          },
          "metadata": {
            "tags": []
          },
          "execution_count": 19
        }
      ]
    },
    {
      "cell_type": "code",
      "metadata": {
        "id": "ec0IGIvU8DG9",
        "outputId": "1990657b-cf2c-4f34-c4b5-4f27385e46e2",
        "colab": {
          "base_uri": "https://localhost:8080/",
          "height": 106
        }
      },
      "source": [
        "# 타이타닉 예제 에서 사용한 코드\r\n",
        "df[['city', 'price']].groupby(['city'], as_index = False).mean().sort_values(by = 'price',ascending = False)\r\n",
        "\r\n",
        "#데이터 프레임(df)에서 'city' 와 'price' 만 선택후 city를 groupby 해준뒤 as_index = False 를 통해 인덱스를 생성시킨후 \r\n",
        "#평균값을 내고, 뒤에 sort_values 즉 벨류를 오름차순으로 나열하는데 'price' 기준으로 한다\r\n",
        "#하지만 ascending = False 이므로 내림차순으로 변경"
      ],
      "execution_count": 26,
      "outputs": [
        {
          "output_type": "execute_result",
          "data": {
            "text/html": [
              "<div>\n",
              "<style scoped>\n",
              "    .dataframe tbody tr th:only-of-type {\n",
              "        vertical-align: middle;\n",
              "    }\n",
              "\n",
              "    .dataframe tbody tr th {\n",
              "        vertical-align: top;\n",
              "    }\n",
              "\n",
              "    .dataframe thead th {\n",
              "        text-align: right;\n",
              "    }\n",
              "</style>\n",
              "<table border=\"1\" class=\"dataframe\">\n",
              "  <thead>\n",
              "    <tr style=\"text-align: right;\">\n",
              "      <th></th>\n",
              "      <th>city</th>\n",
              "      <th>price</th>\n",
              "    </tr>\n",
              "  </thead>\n",
              "  <tbody>\n",
              "    <tr>\n",
              "      <th>1</th>\n",
              "      <td>서울</td>\n",
              "      <td>216.666667</td>\n",
              "    </tr>\n",
              "    <tr>\n",
              "      <th>0</th>\n",
              "      <td>부산</td>\n",
              "      <td>183.333333</td>\n",
              "    </tr>\n",
              "  </tbody>\n",
              "</table>\n",
              "</div>"
            ],
            "text/plain": [
              "  city       price\n",
              "1   서울  216.666667\n",
              "0   부산  183.333333"
            ]
          },
          "metadata": {
            "tags": []
          },
          "execution_count": 26
        }
      ]
    },
    {
      "cell_type": "markdown",
      "metadata": {
        "id": "VIMGcBuitnQn"
      },
      "source": [
        "# FacetGrid\r\n",
        "\r\n",
        "FacetGrid를 사용하면 여러개의 그래프를 손쉽게 만들 수 있다"
      ]
    },
    {
      "cell_type": "code",
      "metadata": {
        "id": "ok0Lp7Y18DEM",
        "outputId": "c901dca1-5587-42a8-a2df-6e20546b0186",
        "colab": {
          "base_uri": "https://localhost:8080/",
          "height": 514
        }
      },
      "source": [
        "import seaborn as sns\r\n",
        "import matplotlib.pyplot as plt\r\n",
        "\r\n",
        "titanic = sns.load_dataset('titanic')\r\n",
        "\r\n",
        "grid = sns.FacetGrid(titanic, col = 'sex', row = 'survived')\r\n",
        "grid.map(sns.distplot,'age', kde = False)"
      ],
      "execution_count": 35,
      "outputs": [
        {
          "output_type": "stream",
          "text": [
            "/usr/local/lib/python3.6/dist-packages/seaborn/distributions.py:2557: FutureWarning: `distplot` is a deprecated function and will be removed in a future version. Please adapt your code to use either `displot` (a figure-level function with similar flexibility) or `histplot` (an axes-level function for histograms).\n",
            "  warnings.warn(msg, FutureWarning)\n"
          ],
          "name": "stderr"
        },
        {
          "output_type": "execute_result",
          "data": {
            "text/plain": [
              "<seaborn.axisgrid.FacetGrid at 0x7fd1f5098b38>"
            ]
          },
          "metadata": {
            "tags": []
          },
          "execution_count": 35
        },
        {
          "output_type": "display_data",
          "data": {
            "image/png": "[encoded data removed]",
            "text/plain": [
              "<Figure size 432x432 with 4 Axes>"
            ]
          },
          "metadata": {
            "tags": [],
            "needs_background": "light"
          }
        }
      ]
    },
    {
      "cell_type": "code",
      "metadata": {
        "id": "Q1QyUS3l8DBu"
      },
      "source": [
        ""
      ],
      "execution_count": null,
      "outputs": []
    },
    {
      "cell_type": "code",
      "metadata": {
        "id": "LuUpfZVy8C-6"
      },
      "source": [
        ""
      ],
      "execution_count": null,
      "outputs": []
    },
    {
      "cell_type": "code",
      "metadata": {
        "id": "vvbH7h4o8C8g"
      },
      "source": [
        ""
      ],
      "execution_count": null,
      "outputs": []
    },
    {
      "cell_type": "markdown",
      "metadata": {
        "id": "q4mi_w8PgCES"
      },
      "source": [
        "scikit-learn을 이용한 인코딩(규칙이 있는것은 pd.get_dummies(데이터셋[타겟열], perfix = '타겟열')를 이용할것)"
      ]
    },
    {
      "cell_type": "markdown",
      "metadata": {
        "id": "Wu3u5sMvgsXa"
      },
      "source": [
        "` import seaborn as sns`\r\n",
        "\r\n",
        "`from sklearn import preprocessing`\r\n",
        "\r\n",
        "`titanic = sns.load_dataset('iris')`\r\n",
        "\r\n",
        "`le = preprocessing.LabelEncoder()`\r\n",
        "\r\n",
        "`le.fit(titanic['sex'])`\r\n",
        "\r\n",
        "`titanic['sex'] = le.transform(titanic['sex']) `"
      ]
    },
    {
      "cell_type": "markdown",
      "metadata": {
        "id": "gzcKx15Lg-tB"
      },
      "source": [
        "반대로도 할 수 있다.\r\n",
        "\r\n",
        "`titanic['sex'] = le.inverse_transform(titanic['sex'])`"
      ]
    },
    {
      "cell_type": "markdown",
      "metadata": {
        "id": "uvLRmY0_jimM"
      },
      "source": [
        " Step3. Test / Train data split\r\n",
        "Train과 Test 데이터셋 분리에 대한 개념을 이해하기 위해 대학 수능 시험 공부를 예시로 들어보겠습니다.\r\n",
        "\r\n",
        "수험생들은 당해 수능에 대비하기 위해 그 전년도까지의 수능 기출문제를 공부합니다 📝📝\r\n",
        "\r\n",
        "만약 '19년도 기출문제만 반복해서 공부한 후 똑같은 문제를 풀었더니 100점이 나왔다고 해서, 그게 정말 내 '수능 성적'일까요?\r\n",
        "진짜 실력이라기 보다는 단순히 답이 기억나서 점수가 높게 나온 것이겠죠? ❌🚫⛔❗\r\n",
        "\r\n",
        "정확한 내 실력을 평가하기 위해서는,\r\n",
        "한 번도 보지못한 기출문제로 평가를 해야할 것입니다.\r\n",
        "\r\n",
        "🧐기계학습도 마찬가지로! 모델 성능을 정확한 평가하려면,\r\n",
        "공부(Train)에는 사용되지 않고 오로지 평가에만 사용되는 TEST 데이터가 필요합니다.\r\n",
        "\r\n",
        "학습에 사용된 데이터로 평가를 하게 된다면,\r\n",
        "기계학습 모델이 수능문제를 푸는 지식과 요령을 제대로 학습한 것인지,\r\n",
        "아니면 단순히 문제의 답을 외워서 점수가 높은 것인지 분간이 되지 않기 때문입니다."
      ]
    },
    {
      "cell_type": "markdown",
      "metadata": {
        "id": "nvGRvIA_jqEy"
      },
      "source": [
        "#### scikit-learn 패키지를 사용하여 Train / Test 셋 분리하기\r\n",
        "- `train_test_split(arrays, test_size, train_size, random_state, shuffle, stratify)`의 매개변수(parameter)\r\n",
        "```\r\n",
        "arrays : 분할시킬 데이터를 입력 (Python list, Numpy array, Pandas dataframe 등..)\r\n",
        "test_size : 테스트 데이터셋의 비율(float)이나 갯수(int) (default = 0.25)\r\n",
        "train_size : 학습 데이터셋의 비율(float)이나 갯수(int) (default = test_size의 나머지)\r\n",
        "random_state : 데이터 분할시 셔플이 이루어지는데 이를 기억하기 위한 임의의 시드값 (int나 RandomState로 입력)\r\n",
        "shuffle : 셔플여부설정 (default = True)\r\n",
        "stratify : 지정한 Data의 비율을 유지한다. 예를 들어, Label Set인 Y가 25%의 0과 75%의 1로 이루어진 Binary Set일 때,\r\n",
        "            stratify=Y로 설정하면 나누어진 데이터셋들도 0과 1을 각각 25%, 75%로 유지한 채 분할된다.\r\n",
        "```\r\n",
        "\r\n",
        "- 예제\r\n",
        "\r\n",
        "```\r\n",
        "import numpy as np\r\n",
        "from sklearn.model_selection import train_test_split \r\n",
        "\r\n",
        "X = [[0,1],[2,3],[4,5],[6,7],[8,9]]\r\n",
        "Y = [0,1,2,3,4]\r\n",
        "\r\n",
        "# 데이터(X)만 넣었을 경우\r\n",
        "X_train, X_test = train_test_split(X, test_size=0.2, random_state=123)\r\n",
        "# X_train : [[0,1],[6,7],[8,9],[2,3]]\r\n",
        "# X_test : [[4,5]]\r\n",
        "\r\n",
        "# 데이터(X)와 레이블(Y)을 넣었을 경우\r\n",
        "X_train, X_test, Y_train, Y_test = train_test_split(X, Y, test_size=0.33, random_state=321)\r\n",
        "# X_train : [[4,5],[0,1],[6,7]]\r\n",
        "# Y_train : [2,0,3]\r\n",
        "# X_test : [[2,3],[8,9]]\r\n",
        "# Y_test : [1,4]\r\n",
        "```\r\n",
        "\r\n",
        "⭐괄호() 안에 들어가는 인자 중 x,y 변수의 순서에 주의하세요⭐"
      ]
    },
    {
      "cell_type": "markdown",
      "metadata": {
        "id": "nURyFrbVlHcM"
      },
      "source": [
        "실제로 cross validation을 사용해서 머신러닝을 해보도록 하겠습니다!!\r\n",
        "> - `cross_val_score(모델,x,y,cv=k개)`"
      ]
    },
    {
      "cell_type": "code",
      "metadata": {
        "id": "5rkv0RKOgsKD"
      },
      "source": [
        "from sklearn.linear_model import LogisticRegression\r\n",
        "from sklearn.model_selection import cross_val_score\r\n",
        "\r\n",
        "model = LogisticRegression(max_iter=1000)      \r\n",
        "scores = cross_val_score(model, x, y, cv=10)     # cv 는 cross validation의 약자입니다\r\n",
        "\r\n",
        "print(scores)\r\n",
        "print(scores.mean())                    "
      ],
      "execution_count": null,
      "outputs": []
    },
    {
      "cell_type": "code",
      "metadata": {
        "id": "18XL36ITusgy"
      },
      "source": [
        ""
      ],
      "execution_count": null,
      "outputs": []
    }
  ]
}