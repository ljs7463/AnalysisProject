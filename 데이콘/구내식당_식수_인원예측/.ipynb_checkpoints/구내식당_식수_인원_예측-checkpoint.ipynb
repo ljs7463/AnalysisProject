{
 "cells": [
  {
   "cell_type": "markdown",
   "metadata": {
    "id": "j85zPsTW4_RZ"
   },
   "source": [
    "주제 : 구내식당의 요일별 점심, 저녁식사를 먹는 인원을 예측"
   ]
  },
  {
   "cell_type": "code",
   "execution_count": 2,
   "metadata": {},
   "outputs": [
    {
     "name": "stdout",
     "output_type": "stream",
     "text": [
      "Requirement already satisfied: scikit-learn in c:\\python37\\lib\\site-packages (0.24.2)\n",
      "Requirement already satisfied: numpy>=1.13.3 in c:\\python37\\lib\\site-packages (from scikit-learn) (1.19.3)\n",
      "Requirement already satisfied: scipy>=0.19.1 in c:\\python37\\lib\\site-packages (from scikit-learn) (1.6.1)\n",
      "Requirement already satisfied: joblib>=0.11 in c:\\python37\\lib\\site-packages (from scikit-learn) (1.0.1)\n",
      "Requirement already satisfied: threadpoolctl>=2.0.0 in c:\\python37\\lib\\site-packages (from scikit-learn) (2.1.0)\n"
     ]
    },
    {
     "name": "stderr",
     "output_type": "stream",
     "text": [
      "WARNING: You are using pip version 20.3.3; however, version 21.1.2 is available.\n",
      "You should consider upgrading via the 'c:\\python37\\python.exe -m pip install --upgrade pip' command.\n"
     ]
    }
   ],
   "source": [
    "!pip install --upgrade scikit-learn"
   ]
  },
  {
   "cell_type": "code",
   "execution_count": 3,
   "metadata": {},
   "outputs": [
    {
     "name": "stdout",
     "output_type": "stream",
     "text": [
      "Collecting category_encoders\n",
      "  Downloading category_encoders-2.2.2-py2.py3-none-any.whl (80 kB)\n",
      "Requirement already satisfied: numpy>=1.14.0 in c:\\python37\\lib\\site-packages (from category_encoders) (1.19.3)\n",
      "Requirement already satisfied: pandas>=0.21.1 in c:\\python37\\lib\\site-packages (from category_encoders) (1.2.0)\n",
      "Requirement already satisfied: scikit-learn>=0.20.0 in c:\\python37\\lib\\site-packages (from category_encoders) (0.24.2)\n",
      "Requirement already satisfied: scipy>=1.0.0 in c:\\python37\\lib\\site-packages (from category_encoders) (1.6.1)\n",
      "Requirement already satisfied: python-dateutil>=2.7.3 in c:\\python37\\lib\\site-packages (from pandas>=0.21.1->category_encoders) (2.8.1)\n",
      "Requirement already satisfied: pytz>=2017.3 in c:\\python37\\lib\\site-packages (from pandas>=0.21.1->category_encoders) (2020.5)\n",
      "Collecting patsy>=0.5.1\n",
      "  Downloading patsy-0.5.1-py2.py3-none-any.whl (231 kB)\n",
      "Requirement already satisfied: six in c:\\python37\\lib\\site-packages (from patsy>=0.5.1->category_encoders) (1.15.0)\n",
      "Requirement already satisfied: threadpoolctl>=2.0.0 in c:\\python37\\lib\\site-packages (from scikit-learn>=0.20.0->category_encoders) (2.1.0)\n",
      "Requirement already satisfied: joblib>=0.11 in c:\\python37\\lib\\site-packages (from scikit-learn>=0.20.0->category_encoders) (1.0.1)\n",
      "Collecting statsmodels>=0.9.0\n",
      "  Downloading statsmodels-0.12.2-cp37-none-win_amd64.whl (9.3 MB)\n",
      "Installing collected packages: patsy, statsmodels, category-encoders\n",
      "Successfully installed category-encoders-2.2.2 patsy-0.5.1 statsmodels-0.12.2\n"
     ]
    },
    {
     "name": "stderr",
     "output_type": "stream",
     "text": [
      "WARNING: You are using pip version 20.3.3; however, version 21.1.2 is available.\n",
      "You should consider upgrading via the 'c:\\python37\\python.exe -m pip install --upgrade pip' command.\n"
     ]
    }
   ],
   "source": [
    "!pip install --upgrade category_encoders"
   ]
  },
  {
   "cell_type": "code",
   "execution_count": 4,
   "metadata": {},
   "outputs": [
    {
     "name": "stdout",
     "output_type": "stream",
     "text": [
      "Collecting pandas-profiling\n",
      "  Downloading pandas_profiling-3.0.0-py2.py3-none-any.whl (248 kB)\n",
      "Requirement already satisfied: joblib in c:\\python37\\lib\\site-packages (from pandas-profiling) (1.0.1)\n",
      "Requirement already satisfied: requests>=2.24.0 in c:\\python37\\lib\\site-packages (from pandas-profiling) (2.25.1)\n",
      "Requirement already satisfied: numpy>=1.16.0 in c:\\python37\\lib\\site-packages (from pandas-profiling) (1.19.3)\n",
      "Requirement already satisfied: pandas!=1.0.0,!=1.0.1,!=1.0.2,!=1.1.0,>=0.25.3 in c:\\python37\\lib\\site-packages (from pandas-profiling) (1.2.0)\n",
      "Requirement already satisfied: matplotlib>=3.2.0 in c:\\python37\\lib\\site-packages (from pandas-profiling) (3.4.2)\n",
      "Requirement already satisfied: seaborn>=0.10.1 in c:\\python37\\lib\\site-packages (from pandas-profiling) (0.11.1)\n",
      "Requirement already satisfied: jinja2>=2.11.1 in c:\\python37\\lib\\site-packages (from pandas-profiling) (2.11.2)\n",
      "Requirement already satisfied: scipy>=1.4.1 in c:\\python37\\lib\\site-packages (from pandas-profiling) (1.6.1)\n",
      "Collecting tangled-up-in-unicode==0.1.0\n",
      "  Downloading tangled_up_in_unicode-0.1.0-py3-none-any.whl (3.1 MB)\n",
      "Collecting visions[type_image_path]==0.7.1\n",
      "  Downloading visions-0.7.1-py3-none-any.whl (102 kB)\n",
      "Requirement already satisfied: attrs>=19.3.0 in c:\\python37\\lib\\site-packages (from visions[type_image_path]==0.7.1->pandas-profiling) (20.3.0)\n",
      "Requirement already satisfied: Pillow in c:\\python37\\lib\\site-packages (from visions[type_image_path]==0.7.1->pandas-profiling) (8.1.0)\n",
      "Collecting multimethod==1.4\n",
      "  Downloading multimethod-1.4-py2.py3-none-any.whl (7.3 kB)\n",
      "Collecting htmlmin>=0.1.12\n",
      "  Downloading htmlmin-0.1.12.tar.gz (19 kB)\n",
      "Requirement already satisfied: MarkupSafe>=0.23 in c:\\python37\\lib\\site-packages (from jinja2>=2.11.1->pandas-profiling) (1.1.1)\n",
      "Requirement already satisfied: python-dateutil>=2.7 in c:\\python37\\lib\\site-packages (from matplotlib>=3.2.0->pandas-profiling) (2.8.1)\n",
      "Requirement already satisfied: pyparsing>=2.2.1 in c:\\python37\\lib\\site-packages (from matplotlib>=3.2.0->pandas-profiling) (2.4.7)\n",
      "Requirement already satisfied: cycler>=0.10 in c:\\python37\\lib\\site-packages (from matplotlib>=3.2.0->pandas-profiling) (0.10.0)\n",
      "Requirement already satisfied: kiwisolver>=1.0.1 in c:\\python37\\lib\\site-packages (from matplotlib>=3.2.0->pandas-profiling) (1.3.1)\n",
      "Requirement already satisfied: six in c:\\python37\\lib\\site-packages (from cycler>=0.10->matplotlib>=3.2.0->pandas-profiling) (1.15.0)\n",
      "Collecting missingno>=0.4.2\n",
      "  Downloading missingno-0.4.2-py3-none-any.whl (9.7 kB)\n",
      "Collecting networkx>=2.4\n",
      "  Downloading networkx-2.5.1-py3-none-any.whl (1.6 MB)\n",
      "Requirement already satisfied: decorator<5,>=4.3 in c:\\python37\\lib\\site-packages (from networkx>=2.4->visions[type_image_path]==0.7.1->pandas-profiling) (4.4.2)\n",
      "Requirement already satisfied: pytz>=2017.3 in c:\\python37\\lib\\site-packages (from pandas!=1.0.0,!=1.0.1,!=1.0.2,!=1.1.0,>=0.25.3->pandas-profiling) (2020.5)\n",
      "Collecting phik>=0.11.1\n",
      "  Downloading phik-0.11.2.tar.gz (1.1 MB)\n",
      "Collecting pydantic>=1.8.1\n",
      "  Downloading pydantic-1.8.2-cp37-cp37m-win_amd64.whl (1.9 MB)\n",
      "Requirement already satisfied: typing-extensions>=3.7.4.3 in c:\\python37\\lib\\site-packages (from pydantic>=1.8.1->pandas-profiling) (3.7.4.3)\n",
      "Collecting PyYAML>=5.0.0\n",
      "  Downloading PyYAML-5.4.1-cp37-cp37m-win_amd64.whl (210 kB)\n",
      "Requirement already satisfied: chardet<5,>=3.0.2 in c:\\python37\\lib\\site-packages (from requests>=2.24.0->pandas-profiling) (4.0.0)\n",
      "Requirement already satisfied: idna<3,>=2.5 in c:\\python37\\lib\\site-packages (from requests>=2.24.0->pandas-profiling) (2.10)\n",
      "Requirement already satisfied: urllib3<1.27,>=1.21.1 in c:\\python37\\lib\\site-packages (from requests>=2.24.0->pandas-profiling) (1.26.2)\n",
      "Requirement already satisfied: certifi>=2017.4.17 in c:\\python37\\lib\\site-packages (from requests>=2.24.0->pandas-profiling) (2020.12.5)\n",
      "Collecting tqdm>=4.48.2\n",
      "  Downloading tqdm-4.61.1-py2.py3-none-any.whl (75 kB)\n",
      "Collecting bottleneck\n",
      "  Downloading Bottleneck-1.3.2.tar.gz (88 kB)\n",
      "  Installing build dependencies: started\n",
      "  Installing build dependencies: finished with status 'done'\n",
      "  Getting requirements to build wheel: started\n",
      "  Getting requirements to build wheel: finished with status 'done'\n",
      "    Preparing wheel metadata: started\n",
      "    Preparing wheel metadata: finished with status 'done'\n",
      "Collecting imagehash\n",
      "  Downloading ImageHash-4.2.0-py2.py3-none-any.whl (295 kB)\n",
      "Collecting PyWavelets\n",
      "  Downloading PyWavelets-1.1.1-cp37-cp37m-win_amd64.whl (4.2 MB)\n",
      "Using legacy 'setup.py install' for htmlmin, since package 'wheel' is not installed.\n",
      "Using legacy 'setup.py install' for phik, since package 'wheel' is not installed.\n",
      "Building wheels for collected packages: bottleneck\n",
      "  Building wheel for bottleneck (PEP 517): started\n",
      "  Building wheel for bottleneck (PEP 517): finished with status 'error'\n",
      "Failed to build bottleneck\n"
     ]
    },
    {
     "name": "stderr",
     "output_type": "stream",
     "text": [
      "  ERROR: Command errored out with exit status 1:\n",
      "   command: 'c:\\python37\\python.exe' 'c:\\python37\\lib\\site-packages\\pip\\_vendor\\pep517\\_in_process.py' build_wheel 'C:\\Users\\user\\AppData\\Local\\Temp\\tmphu95pjo0'\n",
      "       cwd: C:\\Users\\user\\AppData\\Local\\Temp\\pip-install-gslm2bzj\\bottleneck_f78cc77af82646b88bcad05008345e55\n",
      "  Complete output (51 lines):\n",
      "  running bdist_wheel\n",
      "  running build\n",
      "  running build_py\n",
      "  creating build\n",
      "  creating build\\lib.win-amd64-3.7\n",
      "  creating build\\lib.win-amd64-3.7\\bottleneck\n",
      "  copying bottleneck\\_pytesttester.py -> build\\lib.win-amd64-3.7\\bottleneck\n",
      "  copying bottleneck\\_version.py -> build\\lib.win-amd64-3.7\\bottleneck\n",
      "  copying bottleneck\\__init__.py -> build\\lib.win-amd64-3.7\\bottleneck\n",
      "  creating build\\lib.win-amd64-3.7\\bottleneck\\benchmark\n",
      "  copying bottleneck\\benchmark\\autotimeit.py -> build\\lib.win-amd64-3.7\\bottleneck\\benchmark\n",
      "  copying bottleneck\\benchmark\\bench.py -> build\\lib.win-amd64-3.7\\bottleneck\\benchmark\n",
      "  copying bottleneck\\benchmark\\bench_detailed.py -> build\\lib.win-amd64-3.7\\bottleneck\\benchmark\n",
      "  copying bottleneck\\benchmark\\__init__.py -> build\\lib.win-amd64-3.7\\bottleneck\\benchmark\n",
      "  creating build\\lib.win-amd64-3.7\\bottleneck\\slow\n",
      "  copying bottleneck\\slow\\move.py -> build\\lib.win-amd64-3.7\\bottleneck\\slow\n",
      "  copying bottleneck\\slow\\nonreduce.py -> build\\lib.win-amd64-3.7\\bottleneck\\slow\n",
      "  copying bottleneck\\slow\\nonreduce_axis.py -> build\\lib.win-amd64-3.7\\bottleneck\\slow\n",
      "  copying bottleneck\\slow\\reduce.py -> build\\lib.win-amd64-3.7\\bottleneck\\slow\n",
      "  copying bottleneck\\slow\\__init__.py -> build\\lib.win-amd64-3.7\\bottleneck\\slow\n",
      "  creating build\\lib.win-amd64-3.7\\bottleneck\\src\n",
      "  copying bottleneck\\src\\bn_config.py -> build\\lib.win-amd64-3.7\\bottleneck\\src\n",
      "  copying bottleneck\\src\\bn_template.py -> build\\lib.win-amd64-3.7\\bottleneck\\src\n",
      "  copying bottleneck\\src\\__init__.py -> build\\lib.win-amd64-3.7\\bottleneck\\src\n",
      "  creating build\\lib.win-amd64-3.7\\bottleneck\\tests\n",
      "  copying bottleneck\\tests\\input_modification_test.py -> build\\lib.win-amd64-3.7\\bottleneck\\tests\n",
      "  copying bottleneck\\tests\\list_input_test.py -> build\\lib.win-amd64-3.7\\bottleneck\\tests\n",
      "  copying bottleneck\\tests\\memory_test.py -> build\\lib.win-amd64-3.7\\bottleneck\\tests\n",
      "  copying bottleneck\\tests\\move_test.py -> build\\lib.win-amd64-3.7\\bottleneck\\tests\n",
      "  copying bottleneck\\tests\\nonreduce_axis_test.py -> build\\lib.win-amd64-3.7\\bottleneck\\tests\n",
      "  copying bottleneck\\tests\\nonreduce_test.py -> build\\lib.win-amd64-3.7\\bottleneck\\tests\n",
      "  copying bottleneck\\tests\\reduce_test.py -> build\\lib.win-amd64-3.7\\bottleneck\\tests\n",
      "  copying bottleneck\\tests\\scalar_input_test.py -> build\\lib.win-amd64-3.7\\bottleneck\\tests\n",
      "  copying bottleneck\\tests\\util.py -> build\\lib.win-amd64-3.7\\bottleneck\\tests\n",
      "  copying bottleneck\\tests\\__init__.py -> build\\lib.win-amd64-3.7\\bottleneck\\tests\n",
      "  UPDATING build\\lib.win-amd64-3.7\\bottleneck/_version.py\n",
      "  set build\\lib.win-amd64-3.7\\bottleneck/_version.py to '1.3.2'\n",
      "  running build_ext\n",
      "  running config\n",
      "  compiling '_configtest.c':\n",
      "  \n",
      "  \n",
      "  \n",
      "  int __attribute__((optimize(\"O3\"))) have_attribute_optimize_opt_3(void*);\n",
      "  \n",
      "  int main(void)\n",
      "  {\n",
      "      return 0;\n",
      "  }\n",
      "  \n",
      "  error: Microsoft Visual C++ 14.0 or greater is required. Get it with \"Microsoft C++ Build Tools\": https://visualstudio.microsoft.com/visual-cpp-build-tools/\n",
      "  ----------------------------------------\n",
      "  ERROR: Failed building wheel for bottleneck\n",
      "ERROR: Could not build wheels for bottleneck which use PEP 517 and cannot be installed directly\n",
      "WARNING: You are using pip version 20.3.3; however, version 21.1.2 is available.\n",
      "You should consider upgrading via the 'c:\\python37\\python.exe -m pip install --upgrade pip' command.\n"
     ]
    }
   ],
   "source": [
    "!pip install -U pandas-profiling"
   ]
  },
  {
   "cell_type": "code",
   "execution_count": 5,
   "metadata": {},
   "outputs": [
    {
     "name": "stdout",
     "output_type": "stream",
     "text": [
      "Collecting delayed\n",
      "  Downloading delayed-0.11.0b1-py2.py3-none-any.whl (19 kB)\n",
      "Collecting hiredis\n",
      "  Downloading hiredis-2.0.0-cp37-cp37m-win_amd64.whl (18 kB)\n",
      "Collecting redis\n",
      "  Downloading redis-3.5.3-py2.py3-none-any.whl (72 kB)\n",
      "Installing collected packages: redis, hiredis, delayed\n",
      "Successfully installed delayed-0.11.0b1 hiredis-2.0.0 redis-3.5.3\n"
     ]
    },
    {
     "name": "stderr",
     "output_type": "stream",
     "text": [
      "WARNING: You are using pip version 20.3.3; however, version 21.1.2 is available.\n",
      "You should consider upgrading via the 'c:\\python37\\python.exe -m pip install --upgrade pip' command.\n"
     ]
    }
   ],
   "source": [
    "!pip install delayed"
   ]
  },
  {
   "cell_type": "code",
   "execution_count": null,
   "metadata": {},
   "outputs": [],
   "source": []
  },
  {
   "cell_type": "code",
   "execution_count": null,
   "metadata": {},
   "outputs": [],
   "source": []
  },
  {
   "cell_type": "code",
   "execution_count": 2,
   "metadata": {
    "id": "2OXADgxK4jPU"
   },
   "outputs": [],
   "source": [
    "import pandas as pd\n",
    "import pandas as pd\n",
    "import numpy as np\n",
    "from sklearn.ensemble import RandomForestRegressor\n"
   ]
  },
  {
   "cell_type": "code",
   "execution_count": 3,
   "metadata": {
    "id": "CG83941WPysB"
   },
   "outputs": [],
   "source": [
    "train = pd.read_csv('/content/train.csv')\n",
    "test = pd.read_csv('/content/test.csv')\n",
    "submission = pd.read_csv('/content/sample_submission.csv')"
   ]
  },
  {
   "cell_type": "code",
   "execution_count": 4,
   "metadata": {
    "colab": {
     "base_uri": "https://localhost:8080/",
     "height": 1000
    },
    "id": "TEswCWlF5OYM",
    "outputId": "7e8355e6-e9a1-4cca-8fbb-9610044bd315"
   },
   "outputs": [
    {
     "data": {
      "text/html": [
       "<div>\n",
       "<style scoped>\n",
       "    .dataframe tbody tr th:only-of-type {\n",
       "        vertical-align: middle;\n",
       "    }\n",
       "\n",
       "    .dataframe tbody tr th {\n",
       "        vertical-align: top;\n",
       "    }\n",
       "\n",
       "    .dataframe thead th {\n",
       "        text-align: right;\n",
       "    }\n",
       "</style>\n",
       "<table border=\"1\" class=\"dataframe\">\n",
       "  <thead>\n",
       "    <tr style=\"text-align: right;\">\n",
       "      <th></th>\n",
       "      <th>일자</th>\n",
       "      <th>요일</th>\n",
       "      <th>본사정원수</th>\n",
       "      <th>본사휴가자수</th>\n",
       "      <th>본사출장자수</th>\n",
       "      <th>본사시간외근무명령서승인건수</th>\n",
       "      <th>현본사소속재택근무자수</th>\n",
       "      <th>조식메뉴</th>\n",
       "      <th>중식메뉴</th>\n",
       "      <th>석식메뉴</th>\n",
       "      <th>중식계</th>\n",
       "      <th>석식계</th>\n",
       "    </tr>\n",
       "  </thead>\n",
       "  <tbody>\n",
       "    <tr>\n",
       "      <th>0</th>\n",
       "      <td>2016-02-01</td>\n",
       "      <td>월</td>\n",
       "      <td>2601</td>\n",
       "      <td>50</td>\n",
       "      <td>150</td>\n",
       "      <td>238</td>\n",
       "      <td>0.0</td>\n",
       "      <td>모닝롤/찐빵  우유/두유/주스 계란후라이  호두죽/쌀밥 (쌀:국내산) 된장찌개  쥐...</td>\n",
       "      <td>쌀밥/잡곡밥 (쌀,현미흑미:국내산) 오징어찌개  쇠불고기 (쇠고기:호주산) 계란찜 ...</td>\n",
       "      <td>쌀밥/잡곡밥 (쌀,현미흑미:국내산) 육개장  자반고등어구이  두부조림  건파래무침 ...</td>\n",
       "      <td>1039.0</td>\n",
       "      <td>331.0</td>\n",
       "    </tr>\n",
       "    <tr>\n",
       "      <th>1</th>\n",
       "      <td>2016-02-02</td>\n",
       "      <td>화</td>\n",
       "      <td>2601</td>\n",
       "      <td>50</td>\n",
       "      <td>173</td>\n",
       "      <td>319</td>\n",
       "      <td>0.0</td>\n",
       "      <td>모닝롤/단호박샌드  우유/두유/주스 계란후라이  팥죽/쌀밥 (쌀:국내산) 호박젓국찌...</td>\n",
       "      <td>쌀밥/잡곡밥 (쌀,현미흑미:국내산) 김치찌개  가자미튀김  모둠소세지구이  마늘쫑무...</td>\n",
       "      <td>콩나물밥*양념장 (쌀,현미흑미:국내산) 어묵국  유산슬 (쇠고기:호주산) 아삭고추무...</td>\n",
       "      <td>867.0</td>\n",
       "      <td>560.0</td>\n",
       "    </tr>\n",
       "    <tr>\n",
       "      <th>2</th>\n",
       "      <td>2016-02-03</td>\n",
       "      <td>수</td>\n",
       "      <td>2601</td>\n",
       "      <td>56</td>\n",
       "      <td>180</td>\n",
       "      <td>111</td>\n",
       "      <td>0.0</td>\n",
       "      <td>모닝롤/베이글  우유/두유/주스 계란후라이  표고버섯죽/쌀밥 (쌀:국내산) 콩나물국...</td>\n",
       "      <td>카레덮밥 (쌀,현미흑미:국내산) 팽이장국  치킨핑거 (닭고기:국내산) 쫄면야채무침 ...</td>\n",
       "      <td>쌀밥/잡곡밥 (쌀,현미흑미:국내산) 청국장찌개  황태양념구이 (황태:러시아산) 고기...</td>\n",
       "      <td>1017.0</td>\n",
       "      <td>573.0</td>\n",
       "    </tr>\n",
       "    <tr>\n",
       "      <th>3</th>\n",
       "      <td>2016-02-04</td>\n",
       "      <td>목</td>\n",
       "      <td>2601</td>\n",
       "      <td>104</td>\n",
       "      <td>220</td>\n",
       "      <td>355</td>\n",
       "      <td>0.0</td>\n",
       "      <td>모닝롤/토마토샌드  우유/두유/주스 계란후라이  닭죽/쌀밥 (쌀,닭:국내산) 근대국...</td>\n",
       "      <td>쌀밥/잡곡밥 (쌀,현미흑미:국내산) 쇠고기무국  주꾸미볶음  부추전  시금치나물  ...</td>\n",
       "      <td>미니김밥*겨자장 (쌀,현미흑미:국내산) 우동  멕시칸샐러드  군고구마  무피클  포...</td>\n",
       "      <td>978.0</td>\n",
       "      <td>525.0</td>\n",
       "    </tr>\n",
       "    <tr>\n",
       "      <th>4</th>\n",
       "      <td>2016-02-05</td>\n",
       "      <td>금</td>\n",
       "      <td>2601</td>\n",
       "      <td>278</td>\n",
       "      <td>181</td>\n",
       "      <td>34</td>\n",
       "      <td>0.0</td>\n",
       "      <td>모닝롤/와플  우유/두유/주스 계란후라이  쇠고기죽/쌀밥 (쌀:국내산) 재첩국  방...</td>\n",
       "      <td>쌀밥/잡곡밥 (쌀,현미흑미:국내산) 떡국  돈육씨앗강정 (돼지고기:국내산) 우엉잡채...</td>\n",
       "      <td>쌀밥/잡곡밥 (쌀,현미흑미:국내산) 차돌박이찌개 (쇠고기:호주산) 닭갈비 (닭고기:...</td>\n",
       "      <td>925.0</td>\n",
       "      <td>330.0</td>\n",
       "    </tr>\n",
       "  </tbody>\n",
       "</table>\n",
       "</div>"
      ],
      "text/plain": [
       "           일자 요일  ...     중식계    석식계\n",
       "0  2016-02-01  월  ...  1039.0  331.0\n",
       "1  2016-02-02  화  ...   867.0  560.0\n",
       "2  2016-02-03  수  ...  1017.0  573.0\n",
       "3  2016-02-04  목  ...   978.0  525.0\n",
       "4  2016-02-05  금  ...   925.0  330.0\n",
       "\n",
       "[5 rows x 12 columns]"
      ]
     },
     "execution_count": 4,
     "metadata": {
      "tags": []
     },
     "output_type": "execute_result"
    }
   ],
   "source": [
    "train.head()"
   ]
  },
  {
   "cell_type": "code",
   "execution_count": 5,
   "metadata": {
    "colab": {
     "base_uri": "https://localhost:8080/",
     "height": 968
    },
    "id": "tegvH5M05PuW",
    "outputId": "560fa966-0c40-4751-f0d5-5aadc7246486"
   },
   "outputs": [
    {
     "data": {
      "text/html": [
       "<div>\n",
       "<style scoped>\n",
       "    .dataframe tbody tr th:only-of-type {\n",
       "        vertical-align: middle;\n",
       "    }\n",
       "\n",
       "    .dataframe tbody tr th {\n",
       "        vertical-align: top;\n",
       "    }\n",
       "\n",
       "    .dataframe thead th {\n",
       "        text-align: right;\n",
       "    }\n",
       "</style>\n",
       "<table border=\"1\" class=\"dataframe\">\n",
       "  <thead>\n",
       "    <tr style=\"text-align: right;\">\n",
       "      <th></th>\n",
       "      <th>일자</th>\n",
       "      <th>요일</th>\n",
       "      <th>본사정원수</th>\n",
       "      <th>본사휴가자수</th>\n",
       "      <th>본사출장자수</th>\n",
       "      <th>본사시간외근무명령서승인건수</th>\n",
       "      <th>현본사소속재택근무자수</th>\n",
       "      <th>조식메뉴</th>\n",
       "      <th>중식메뉴</th>\n",
       "      <th>석식메뉴</th>\n",
       "    </tr>\n",
       "  </thead>\n",
       "  <tbody>\n",
       "    <tr>\n",
       "      <th>0</th>\n",
       "      <td>2021-01-27</td>\n",
       "      <td>수</td>\n",
       "      <td>2983</td>\n",
       "      <td>88</td>\n",
       "      <td>182</td>\n",
       "      <td>5</td>\n",
       "      <td>358.0</td>\n",
       "      <td>모닝롤/연유버터베이글 우유/주스 계란후라이/찐계란 단호박죽/흑미밥 우거지국 고기완자...</td>\n",
       "      <td>쌀밥/흑미밥/찰현미밥 대구지리 매운돈갈비찜 오꼬노미계란말이 상추무침 포기김치 양상추...</td>\n",
       "      <td>흑미밥 얼큰순두부찌개 쇠고기우엉볶음 버섯햄볶음 (New)아삭이고추무절임 포기김치</td>\n",
       "    </tr>\n",
       "    <tr>\n",
       "      <th>1</th>\n",
       "      <td>2021-01-28</td>\n",
       "      <td>목</td>\n",
       "      <td>2983</td>\n",
       "      <td>104</td>\n",
       "      <td>212</td>\n",
       "      <td>409</td>\n",
       "      <td>348.0</td>\n",
       "      <td>모닝롤/대만샌드위치 우유/주스 계란후라이/찐계란 누룽지탕/흑미밥 황태국 시래기지짐 ...</td>\n",
       "      <td>쌀밥/보리밥/찰현미밥 우렁된장찌개 오리주물럭 청양부추전 수제삼색무쌈 겉절이김치 양상...</td>\n",
       "      <td>충무김밥 우동국물 오징어무침 꽃맛살샐러드 얼갈이쌈장무침 석박지</td>\n",
       "    </tr>\n",
       "    <tr>\n",
       "      <th>2</th>\n",
       "      <td>2021-01-29</td>\n",
       "      <td>금</td>\n",
       "      <td>2983</td>\n",
       "      <td>270</td>\n",
       "      <td>249</td>\n",
       "      <td>0</td>\n",
       "      <td>294.0</td>\n",
       "      <td>모닝롤/핫케익 우유/주스 계란후라이/찐계란 오곡죽/흑미밥 매생이굴국 고구마순볶음 양...</td>\n",
       "      <td>쌀밥/흑미밥/찰현미밥 팽이장국 수제돈까스*소스 가자미조림 동초나물무침 포기김치 양상...</td>\n",
       "      <td>흑미밥 물만둣국 카레찜닭 숯불양념꼬지어묵 꼬시래기무침 포기김치</td>\n",
       "    </tr>\n",
       "    <tr>\n",
       "      <th>3</th>\n",
       "      <td>2021-02-01</td>\n",
       "      <td>월</td>\n",
       "      <td>2924</td>\n",
       "      <td>108</td>\n",
       "      <td>154</td>\n",
       "      <td>538</td>\n",
       "      <td>322.0</td>\n",
       "      <td>모닝롤/촉촉한치즈케익 우유/주스 계란후라이/찐계란 누룽지탕/흑미밥 두부김칫국 새우완...</td>\n",
       "      <td>쌀밥/흑미밥/찰현미밥 배추들깨국 오리대패불고기 시금치프리타타 부추고추장무침 포기김치...</td>\n",
       "      <td>흑미밥 동태탕 돈육꽈리고추장조림 당면채소무침 모자반무침 포기김치</td>\n",
       "    </tr>\n",
       "    <tr>\n",
       "      <th>4</th>\n",
       "      <td>2021-02-02</td>\n",
       "      <td>화</td>\n",
       "      <td>2924</td>\n",
       "      <td>62</td>\n",
       "      <td>186</td>\n",
       "      <td>455</td>\n",
       "      <td>314.0</td>\n",
       "      <td>모닝롤/토마토샌드 우유/주스 계란후라이/찐계란 채소죽/흑미밥 호박맑은국 오이생채 양...</td>\n",
       "      <td>쌀밥/팥밥/찰현미밥 부대찌개 닭살데리야끼조림 버섯탕수 세발나물무침 알타리김치/사과푸...</td>\n",
       "      <td>흑미밥 바지락살국 쇠고기청경채볶음 두부구이*볶은김치 머위된장무침 백김치</td>\n",
       "    </tr>\n",
       "  </tbody>\n",
       "</table>\n",
       "</div>"
      ],
      "text/plain": [
       "           일자  ...                                           석식메뉴\n",
       "0  2021-01-27  ...  흑미밥 얼큰순두부찌개 쇠고기우엉볶음 버섯햄볶음 (New)아삭이고추무절임 포기김치 \n",
       "1  2021-01-28  ...            충무김밥 우동국물 오징어무침 꽃맛살샐러드 얼갈이쌈장무침 석박지 \n",
       "2  2021-01-29  ...            흑미밥 물만둣국 카레찜닭 숯불양념꼬지어묵 꼬시래기무침 포기김치 \n",
       "3  2021-02-01  ...           흑미밥 동태탕 돈육꽈리고추장조림 당면채소무침 모자반무침 포기김치 \n",
       "4  2021-02-02  ...       흑미밥 바지락살국 쇠고기청경채볶음 두부구이*볶은김치 머위된장무침 백김치 \n",
       "\n",
       "[5 rows x 10 columns]"
      ]
     },
     "execution_count": 5,
     "metadata": {
      "tags": []
     },
     "output_type": "execute_result"
    }
   ],
   "source": [
    "test.head()"
   ]
  },
  {
   "cell_type": "code",
   "execution_count": 6,
   "metadata": {
    "colab": {
     "base_uri": "https://localhost:8080/",
     "height": 202
    },
    "id": "mfAjteQKQKCn",
    "outputId": "66e6ee06-8030-41b3-ce6c-63731c79968a"
   },
   "outputs": [
    {
     "data": {
      "text/html": [
       "<div>\n",
       "<style scoped>\n",
       "    .dataframe tbody tr th:only-of-type {\n",
       "        vertical-align: middle;\n",
       "    }\n",
       "\n",
       "    .dataframe tbody tr th {\n",
       "        vertical-align: top;\n",
       "    }\n",
       "\n",
       "    .dataframe thead th {\n",
       "        text-align: right;\n",
       "    }\n",
       "</style>\n",
       "<table border=\"1\" class=\"dataframe\">\n",
       "  <thead>\n",
       "    <tr style=\"text-align: right;\">\n",
       "      <th></th>\n",
       "      <th>일자</th>\n",
       "      <th>중식계</th>\n",
       "      <th>석식계</th>\n",
       "    </tr>\n",
       "  </thead>\n",
       "  <tbody>\n",
       "    <tr>\n",
       "      <th>0</th>\n",
       "      <td>2021-01-27</td>\n",
       "      <td>0</td>\n",
       "      <td>0</td>\n",
       "    </tr>\n",
       "    <tr>\n",
       "      <th>1</th>\n",
       "      <td>2021-01-28</td>\n",
       "      <td>0</td>\n",
       "      <td>0</td>\n",
       "    </tr>\n",
       "    <tr>\n",
       "      <th>2</th>\n",
       "      <td>2021-01-29</td>\n",
       "      <td>0</td>\n",
       "      <td>0</td>\n",
       "    </tr>\n",
       "    <tr>\n",
       "      <th>3</th>\n",
       "      <td>2021-02-01</td>\n",
       "      <td>0</td>\n",
       "      <td>0</td>\n",
       "    </tr>\n",
       "    <tr>\n",
       "      <th>4</th>\n",
       "      <td>2021-02-02</td>\n",
       "      <td>0</td>\n",
       "      <td>0</td>\n",
       "    </tr>\n",
       "  </tbody>\n",
       "</table>\n",
       "</div>"
      ],
      "text/plain": [
       "           일자  중식계  석식계\n",
       "0  2021-01-27    0    0\n",
       "1  2021-01-28    0    0\n",
       "2  2021-01-29    0    0\n",
       "3  2021-02-01    0    0\n",
       "4  2021-02-02    0    0"
      ]
     },
     "execution_count": 6,
     "metadata": {
      "tags": []
     },
     "output_type": "execute_result"
    }
   ],
   "source": [
    "submission.head()"
   ]
  },
  {
   "cell_type": "markdown",
   "metadata": {
    "id": "uf_QjSqcQOvC"
   },
   "source": [
    "요일을 숫자로 매핑"
   ]
  },
  {
   "cell_type": "code",
   "execution_count": 7,
   "metadata": {
    "id": "gjLRP2V5QK0T"
   },
   "outputs": [],
   "source": [
    "train['요일'] = train['요일'].map({'월':0, '화':1, '수':2, '목':3, '금':4})\n",
    "test['요일'] = test['요일'].map({'월':0, '화':1, '수':2, '목':3, '금':4})"
   ]
  },
  {
   "cell_type": "markdown",
   "metadata": {
    "id": "mfxwk1cZQSDi"
   },
   "source": [
    "수치 데이터만 피쳐로 선택"
   ]
  },
  {
   "cell_type": "code",
   "execution_count": 8,
   "metadata": {
    "id": "fOfbpF0QQRRn"
   },
   "outputs": [],
   "source": [
    "x_train = train[['요일', '본사정원수', '본사출장자수', '본사시간외근무명령서승인건수', '현본사소속재택근무자수']]\n",
    "y1_train = train['중식계']\n",
    "y2_train = train['석식계']\n",
    "\n",
    "x_test = test[['요일', '본사정원수', '본사출장자수', '본사시간외근무명령서승인건수', '현본사소속재택근무자수']]"
   ]
  },
  {
   "cell_type": "markdown",
   "metadata": {
    "id": "AoXj69fRQVHU"
   },
   "source": [
    "점심과 저녁을 식수 인원을 예측할 2개 모델 생성"
   ]
  },
  {
   "cell_type": "code",
   "execution_count": 9,
   "metadata": {
    "id": "8xHa_OaBQUJv"
   },
   "outputs": [],
   "source": [
    "model1 = RandomForestRegressor(n_jobs=-1, random_state=42)\n",
    "model2 = RandomForestRegressor(n_jobs=-1, random_state=42)"
   ]
  },
  {
   "cell_type": "markdown",
   "metadata": {
    "id": "IpbbLBpkQWdr"
   },
   "source": [
    "학습"
   ]
  },
  {
   "cell_type": "code",
   "execution_count": 10,
   "metadata": {
    "colab": {
     "base_uri": "https://localhost:8080/"
    },
    "id": "FANLwCK9QWKm",
    "outputId": "cd81c800-b202-4182-b7a4-18e4d2b1b510"
   },
   "outputs": [
    {
     "data": {
      "text/plain": [
       "RandomForestRegressor(bootstrap=True, ccp_alpha=0.0, criterion='mse',\n",
       "                      max_depth=None, max_features='auto', max_leaf_nodes=None,\n",
       "                      max_samples=None, min_impurity_decrease=0.0,\n",
       "                      min_impurity_split=None, min_samples_leaf=1,\n",
       "                      min_samples_split=2, min_weight_fraction_leaf=0.0,\n",
       "                      n_estimators=100, n_jobs=-1, oob_score=False,\n",
       "                      random_state=42, verbose=0, warm_start=False)"
      ]
     },
     "execution_count": 10,
     "metadata": {
      "tags": []
     },
     "output_type": "execute_result"
    }
   ],
   "source": [
    "model1.fit(x_train, y1_train)\n",
    "model2.fit(x_train, y2_train)"
   ]
  },
  {
   "cell_type": "markdown",
   "metadata": {
    "id": "w1q2YKpVQZ8U"
   },
   "source": [
    "추론"
   ]
  },
  {
   "cell_type": "code",
   "execution_count": 11,
   "metadata": {
    "id": "S0VSem19QYPe"
   },
   "outputs": [],
   "source": [
    "pred1 = model1.predict(x_test)\n",
    "pred2 = model2.predict(x_test)"
   ]
  },
  {
   "cell_type": "code",
   "execution_count": 12,
   "metadata": {
    "id": "Y_ROvE5IQape"
   },
   "outputs": [],
   "source": [
    "submission['중식계'] = pred1\n",
    "submission['석식계'] = pred2"
   ]
  },
  {
   "cell_type": "code",
   "execution_count": 13,
   "metadata": {
    "id": "boec7gZ_QcV2"
   },
   "outputs": [],
   "source": [
    "submission.to_csv('baseline.csv', index=False)"
   ]
  }
 ],
 "metadata": {
  "colab": {
   "name": "구내식당 식수 인원 예측.ipynb",
   "provenance": []
  },
  "kernelspec": {
   "display_name": "Python 3",
   "language": "python",
   "name": "python3"
  },
  "language_info": {
   "codemirror_mode": {
    "name": "ipython",
    "version": 3
   },
   "file_extension": ".py",
   "mimetype": "text/x-python",
   "name": "python",
   "nbconvert_exporter": "python",
   "pygments_lexer": "ipython3",
   "version": "3.7.6"
  }
 },
 "nbformat": 4,
 "nbformat_minor": 1
}
