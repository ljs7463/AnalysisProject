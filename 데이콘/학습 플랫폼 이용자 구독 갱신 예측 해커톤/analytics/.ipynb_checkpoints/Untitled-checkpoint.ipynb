{
 "cells": [
  {
   "cell_type": "markdown",
   "id": "bbdf4d40",
   "metadata": {},
   "source": [
    "# import lib & data & func"
   ]
  },
  {
   "cell_type": "code",
   "execution_count": 1,
   "id": "d2fa1123",
   "metadata": {},
   "outputs": [],
   "source": [
    "import pandas as pd\n",
    "import numpy as np\n",
    "\n",
    "import matplotlib.pyplot as plt\n",
    "import seaborn as sns\n",
    "import warnings \n",
    "import os\n",
    "\n",
    "# 시각화 폰트 설정\n",
    "if os.name =='posix':\n",
    "    plt.rc(\"font\", family = \"AppleGothic\")\n",
    "\n",
    "else:\n",
    "    plt.rc(\"font\", family = \"Malgun Gothic\")\n",
    "\n",
    "# 경고문자 무시\n",
    "warnings.filterwarnings(action='ignore')"
   ]
  },
  {
   "cell_type": "code",
   "execution_count": 2,
   "id": "74628b2b",
   "metadata": {},
   "outputs": [],
   "source": [
    "train_path = '../data/open/train.csv'\n",
    "test_path = '../data/open/test.csv'\n",
    "info_path = '../data/open/data_info.csv'\n",
    "sub_path = '../data/open/sample_submission.csv'\n",
    "df_train = pd.read_csv(train_path)\n",
    "df_test = pd.read_csv(test_path)\n",
    "df_info = pd.read_csv(info_path)\n",
    "df_sub = pd.read_csv(sub_path)"
   ]
  },
  {
   "cell_type": "markdown",
   "id": "483c1e37",
   "metadata": {},
   "source": [
    "user_id:\t사용자의 고유 식별자\n",
    "\n",
    "subscription_duration:\t사용자가 서비스에 가입한 기간 (월)\n",
    "\n",
    "recent_login_time:\t사용자가 마지막으로 로그인한 시간 (일)\n",
    "\n",
    "average_login_time: \t사용자의 일반적인 로그인 시간\n",
    "\n",
    "average_time_per_learning_session:\t각 학습 세션에 소요된 평균 시간 (분)\n",
    "\n",
    "monthly_active_learning_days:\t월간 활동적인 학습 일수\n",
    "\n",
    "total_completed_courses:\t완료한 총 코스 수\n",
    "\n",
    "recent_learning_achievement: \t최근 학습 성취도\n",
    "\n",
    "abandoned_learning_sessions:\t중단된 학습 세션 수\n",
    "\n",
    "community_engagement_level:\t커뮤니티 참여도\n",
    "\n",
    "preferred_difficulty_level:\t선호하는 난이도\n",
    "\n",
    "subscription_type:\t구독 유형\n",
    "\n",
    "customer_inquiry_history:\t고객 문의 이력\n",
    "\n",
    "payment_pattern\t\n",
    "  사용자의 지난 3개월 간의 결제 패턴을 10진수로 표현한 값.\n",
    "  - 7: 3개월 모두 결제함\n",
    "  - 6: 첫 2개월은 결제했으나 마지막 달에는 결제하지 않음\n",
    "  - 5: 첫 달과 마지막 달에 결제함\n",
    "  - 4: 첫 달에만 결제함\n",
    "  - 3: 마지막 2개월에 결제함\n",
    "  - 2: 가운데 달에만 결제함\n",
    "  - 1: 마지막 달에만 결제함\n",
    "  - 0: 3개월 동안 결제하지 않음\n",
    "\n",
    "target:\t사용자가 다음 달에도 구독을 계속할지 (1) 또는 취소할지 (0)를 나타냄\n"
   ]
  },
  {
   "cell_type": "code",
   "execution_count": 3,
   "id": "66af2714",
   "metadata": {},
   "outputs": [],
   "source": [
    "#  최근 학습 성취도 범주화\n",
    "def ach(x):\n",
    "    if x>=80:\n",
    "        x = 1\n",
    "    elif x >=60 and x <80:\n",
    "        x = 2\n",
    "    elif x >=40 and x <60:\n",
    "        x = 3\n",
    "    elif x >=20 and x <40:\n",
    "        x = 4\n",
    "    elif x < 20:\n",
    "        x = 5\n",
    "    return x"
   ]
  },
  {
   "cell_type": "markdown",
   "id": "8a61cef1",
   "metadata": {},
   "source": [
    "# Feature Engineering"
   ]
  },
  {
   "cell_type": "markdown",
   "id": "d155a097",
   "metadata": {},
   "source": [
    "## 구독 유형&난이도 스케일링"
   ]
  },
  {
   "cell_type": "code",
   "execution_count": null,
   "id": "a4f485a9",
   "metadata": {},
   "outputs": [],
   "source": [
    "## Label Encoding\n",
    "df_train['preferred_difficulty_level'] = pd.factorize(df_train['preferred_difficulty_level'])[0]\n",
    "df_train['subscription_type'] = pd.factorize(df_train['subscription_type'])[0]"
   ]
  },
  {
   "cell_type": "code",
   "execution_count": 5,
   "id": "a4528e26",
   "metadata": {},
   "outputs": [],
   "source": [
    "df_train['recent_learning_achievement'] = df_train['recent_learning_achievement'].apply(lambda x: ach(x))    "
   ]
  },
  {
   "cell_type": "markdown",
   "id": "d12dde84",
   "metadata": {},
   "source": [
    "## 아웃라이어 있는컬럼 모두 스케일링"
   ]
  },
  {
   "cell_type": "code",
   "execution_count": 4,
   "id": "db5fd86c",
   "metadata": {},
   "outputs": [],
   "source": [
    "from sklearn.preprocessing import StandardScaler\n",
    "scaler = StandardScaler()\n",
    "for col in ['subscription_duration','recent_login_time','average_login_time','average_time_per_learning_session','monthly_active_learning_days','total_completed_courses','recent_learning_achievement']:\n",
    "    df_train[col] = scaler.fit_transform(df_train[[col]])\n",
    "\n",
    "## Label Encoding\n",
    "df_train['preferred_difficulty_level'] = pd.factorize(df_train['preferred_difficulty_level'])[0]\n",
    "df_train['subscription_type'] = pd.factorize(df_train['subscription_type'])[0]"
   ]
  },
  {
   "cell_type": "markdown",
   "id": "c9542b02",
   "metadata": {},
   "source": [
    "# Before Modeling"
   ]
  },
  {
   "cell_type": "code",
   "execution_count": 5,
   "id": "314efb66",
   "metadata": {},
   "outputs": [],
   "source": [
    "# Delete user_id\n",
    "df_train = df_train.drop(columns = 'user_id')\n",
    "\n",
    "# split target\n",
    "x = df_train[list(df_train.columns[:-1])]\n",
    "y = df_train['target']"
   ]
  },
  {
   "cell_type": "markdown",
   "id": "4ebfa30f",
   "metadata": {},
   "source": [
    "# Modeling"
   ]
  },
  {
   "cell_type": "markdown",
   "id": "98d75255",
   "metadata": {},
   "source": [
    "- average_time_per_learning_session : 카테고리화 혹은 아웃라이어 제거후 진행도 해보기 \n",
    "- 선호하는 난이도와 구독유형만 카테고리화"
   ]
  },
  {
   "cell_type": "markdown",
   "id": "c6dfd3fa",
   "metadata": {},
   "source": [
    "첫 번째 실험\n",
    "- 선호하는 난이도와 구독유형만 카테고리화\n",
    "- catboost & gridsearch cv : 0.50548"
   ]
  },
  {
   "cell_type": "markdown",
   "id": "0f42acfb",
   "metadata": {},
   "source": [
    "## catBoost"
   ]
  },
  {
   "cell_type": "markdown",
   "id": "a877f72b",
   "metadata": {},
   "source": [
    "### gridSearchCV  포함"
   ]
  },
  {
   "cell_type": "code",
   "execution_count": 6,
   "id": "953a91df",
   "metadata": {},
   "outputs": [
    {
     "name": "stdout",
     "output_type": "stream",
     "text": [
      "최적의 파라미터: {'depth': 5, 'iterations': 200, 'learning_rate': 0.1}\n",
      "최고 평균 Macro F1 점수: 0.4180639281423656\n"
     ]
    }
   ],
   "source": [
    "from catboost import CatBoostClassifier\n",
    "from sklearn.model_selection import GridSearchCV, StratifiedKFold\n",
    "from sklearn.metrics import make_scorer, f1_score\n",
    "import pandas as pd\n",
    "\n",
    "\n",
    "# CatBoost 모델 설정\n",
    "model = CatBoostClassifier(verbose=False)\n",
    "\n",
    "# 탐색할 하이퍼파라미터 그리드 정의\n",
    "param_grid = {\n",
    "    'iterations': [100, 200],\n",
    "    'learning_rate': [0.01, 0.1],\n",
    "    'depth': [3, 4, 5]\n",
    "}\n",
    "\n",
    "# Macro F1 스코어를 사용하기 위한 스코어러 생성\n",
    "macro_f1_scorer = make_scorer(f1_score, average='macro')\n",
    "\n",
    "# GridSearchCV 설정\n",
    "grid_search = GridSearchCV(model, param_grid, cv=StratifiedKFold(5), scoring=macro_f1_scorer, n_jobs=-1)\n",
    "\n",
    "# GridSearchCV 실행\n",
    "grid_search.fit(x, y)\n",
    "\n",
    "# 결과 출력\n",
    "print(\"최적의 파라미터:\", grid_search.best_params_)\n",
    "print(\"최고 평균 Macro F1 점수:\", grid_search.best_score_)"
   ]
  },
  {
   "cell_type": "code",
   "execution_count": 6,
   "id": "371fdfbe",
   "metadata": {},
   "outputs": [
    {
     "ename": "KeyboardInterrupt",
     "evalue": "",
     "output_type": "error",
     "traceback": [
      "\u001b[1;31m---------------------------------------------------------------------------\u001b[0m",
      "\u001b[1;31mKeyboardInterrupt\u001b[0m                         Traceback (most recent call last)",
      "Input \u001b[1;32mIn [6]\u001b[0m, in \u001b[0;36m<cell line: 24>\u001b[1;34m()\u001b[0m\n\u001b[0;32m     21\u001b[0m grid_search \u001b[38;5;241m=\u001b[39m GridSearchCV(model, param_grid, cv\u001b[38;5;241m=\u001b[39mStratifiedKFold(\u001b[38;5;241m5\u001b[39m), scoring\u001b[38;5;241m=\u001b[39mmacro_f1_scorer, n_jobs\u001b[38;5;241m=\u001b[39m\u001b[38;5;241m-\u001b[39m\u001b[38;5;241m1\u001b[39m)\n\u001b[0;32m     23\u001b[0m \u001b[38;5;66;03m# GridSearchCV 실행\u001b[39;00m\n\u001b[1;32m---> 24\u001b[0m \u001b[43mgrid_search\u001b[49m\u001b[38;5;241;43m.\u001b[39;49m\u001b[43mfit\u001b[49m\u001b[43m(\u001b[49m\u001b[43mx\u001b[49m\u001b[43m,\u001b[49m\u001b[43m \u001b[49m\u001b[43my\u001b[49m\u001b[43m)\u001b[49m\n\u001b[0;32m     26\u001b[0m \u001b[38;5;66;03m# 결과 출력\u001b[39;00m\n\u001b[0;32m     27\u001b[0m \u001b[38;5;28mprint\u001b[39m(\u001b[38;5;124m\"\u001b[39m\u001b[38;5;124m최적의 파라미터:\u001b[39m\u001b[38;5;124m\"\u001b[39m, grid_search\u001b[38;5;241m.\u001b[39mbest_params_)\n",
      "File \u001b[1;32m~\\anaconda3\\envs\\jupyter\\lib\\site-packages\\sklearn\\model_selection\\_search.py:875\u001b[0m, in \u001b[0;36mBaseSearchCV.fit\u001b[1;34m(self, X, y, groups, **fit_params)\u001b[0m\n\u001b[0;32m    869\u001b[0m     results \u001b[38;5;241m=\u001b[39m \u001b[38;5;28mself\u001b[39m\u001b[38;5;241m.\u001b[39m_format_results(\n\u001b[0;32m    870\u001b[0m         all_candidate_params, n_splits, all_out, all_more_results\n\u001b[0;32m    871\u001b[0m     )\n\u001b[0;32m    873\u001b[0m     \u001b[38;5;28;01mreturn\u001b[39;00m results\n\u001b[1;32m--> 875\u001b[0m \u001b[38;5;28;43mself\u001b[39;49m\u001b[38;5;241;43m.\u001b[39;49m\u001b[43m_run_search\u001b[49m\u001b[43m(\u001b[49m\u001b[43mevaluate_candidates\u001b[49m\u001b[43m)\u001b[49m\n\u001b[0;32m    877\u001b[0m \u001b[38;5;66;03m# multimetric is determined here because in the case of a callable\u001b[39;00m\n\u001b[0;32m    878\u001b[0m \u001b[38;5;66;03m# self.scoring the return type is only known after calling\u001b[39;00m\n\u001b[0;32m    879\u001b[0m first_test_score \u001b[38;5;241m=\u001b[39m all_out[\u001b[38;5;241m0\u001b[39m][\u001b[38;5;124m\"\u001b[39m\u001b[38;5;124mtest_scores\u001b[39m\u001b[38;5;124m\"\u001b[39m]\n",
      "File \u001b[1;32m~\\anaconda3\\envs\\jupyter\\lib\\site-packages\\sklearn\\model_selection\\_search.py:1375\u001b[0m, in \u001b[0;36mGridSearchCV._run_search\u001b[1;34m(self, evaluate_candidates)\u001b[0m\n\u001b[0;32m   1373\u001b[0m \u001b[38;5;28;01mdef\u001b[39;00m \u001b[38;5;21m_run_search\u001b[39m(\u001b[38;5;28mself\u001b[39m, evaluate_candidates):\n\u001b[0;32m   1374\u001b[0m \u001b[38;5;250m    \u001b[39m\u001b[38;5;124;03m\"\"\"Search all candidates in param_grid\"\"\"\u001b[39;00m\n\u001b[1;32m-> 1375\u001b[0m     \u001b[43mevaluate_candidates\u001b[49m\u001b[43m(\u001b[49m\u001b[43mParameterGrid\u001b[49m\u001b[43m(\u001b[49m\u001b[38;5;28;43mself\u001b[39;49m\u001b[38;5;241;43m.\u001b[39;49m\u001b[43mparam_grid\u001b[49m\u001b[43m)\u001b[49m\u001b[43m)\u001b[49m\n",
      "File \u001b[1;32m~\\anaconda3\\envs\\jupyter\\lib\\site-packages\\sklearn\\model_selection\\_search.py:822\u001b[0m, in \u001b[0;36mBaseSearchCV.fit.<locals>.evaluate_candidates\u001b[1;34m(candidate_params, cv, more_results)\u001b[0m\n\u001b[0;32m    814\u001b[0m \u001b[38;5;28;01mif\u001b[39;00m \u001b[38;5;28mself\u001b[39m\u001b[38;5;241m.\u001b[39mverbose \u001b[38;5;241m>\u001b[39m \u001b[38;5;241m0\u001b[39m:\n\u001b[0;32m    815\u001b[0m     \u001b[38;5;28mprint\u001b[39m(\n\u001b[0;32m    816\u001b[0m         \u001b[38;5;124m\"\u001b[39m\u001b[38;5;124mFitting \u001b[39m\u001b[38;5;132;01m{0}\u001b[39;00m\u001b[38;5;124m folds for each of \u001b[39m\u001b[38;5;132;01m{1}\u001b[39;00m\u001b[38;5;124m candidates,\u001b[39m\u001b[38;5;124m\"\u001b[39m\n\u001b[0;32m    817\u001b[0m         \u001b[38;5;124m\"\u001b[39m\u001b[38;5;124m totalling \u001b[39m\u001b[38;5;132;01m{2}\u001b[39;00m\u001b[38;5;124m fits\u001b[39m\u001b[38;5;124m\"\u001b[39m\u001b[38;5;241m.\u001b[39mformat(\n\u001b[0;32m    818\u001b[0m             n_splits, n_candidates, n_candidates \u001b[38;5;241m*\u001b[39m n_splits\n\u001b[0;32m    819\u001b[0m         )\n\u001b[0;32m    820\u001b[0m     )\n\u001b[1;32m--> 822\u001b[0m out \u001b[38;5;241m=\u001b[39m \u001b[43mparallel\u001b[49m\u001b[43m(\u001b[49m\n\u001b[0;32m    823\u001b[0m \u001b[43m    \u001b[49m\u001b[43mdelayed\u001b[49m\u001b[43m(\u001b[49m\u001b[43m_fit_and_score\u001b[49m\u001b[43m)\u001b[49m\u001b[43m(\u001b[49m\n\u001b[0;32m    824\u001b[0m \u001b[43m        \u001b[49m\u001b[43mclone\u001b[49m\u001b[43m(\u001b[49m\u001b[43mbase_estimator\u001b[49m\u001b[43m)\u001b[49m\u001b[43m,\u001b[49m\n\u001b[0;32m    825\u001b[0m \u001b[43m        \u001b[49m\u001b[43mX\u001b[49m\u001b[43m,\u001b[49m\n\u001b[0;32m    826\u001b[0m \u001b[43m        \u001b[49m\u001b[43my\u001b[49m\u001b[43m,\u001b[49m\n\u001b[0;32m    827\u001b[0m \u001b[43m        \u001b[49m\u001b[43mtrain\u001b[49m\u001b[38;5;241;43m=\u001b[39;49m\u001b[43mtrain\u001b[49m\u001b[43m,\u001b[49m\n\u001b[0;32m    828\u001b[0m \u001b[43m        \u001b[49m\u001b[43mtest\u001b[49m\u001b[38;5;241;43m=\u001b[39;49m\u001b[43mtest\u001b[49m\u001b[43m,\u001b[49m\n\u001b[0;32m    829\u001b[0m \u001b[43m        \u001b[49m\u001b[43mparameters\u001b[49m\u001b[38;5;241;43m=\u001b[39;49m\u001b[43mparameters\u001b[49m\u001b[43m,\u001b[49m\n\u001b[0;32m    830\u001b[0m \u001b[43m        \u001b[49m\u001b[43msplit_progress\u001b[49m\u001b[38;5;241;43m=\u001b[39;49m\u001b[43m(\u001b[49m\u001b[43msplit_idx\u001b[49m\u001b[43m,\u001b[49m\u001b[43m \u001b[49m\u001b[43mn_splits\u001b[49m\u001b[43m)\u001b[49m\u001b[43m,\u001b[49m\n\u001b[0;32m    831\u001b[0m \u001b[43m        \u001b[49m\u001b[43mcandidate_progress\u001b[49m\u001b[38;5;241;43m=\u001b[39;49m\u001b[43m(\u001b[49m\u001b[43mcand_idx\u001b[49m\u001b[43m,\u001b[49m\u001b[43m \u001b[49m\u001b[43mn_candidates\u001b[49m\u001b[43m)\u001b[49m\u001b[43m,\u001b[49m\n\u001b[0;32m    832\u001b[0m \u001b[43m        \u001b[49m\u001b[38;5;241;43m*\u001b[39;49m\u001b[38;5;241;43m*\u001b[39;49m\u001b[43mfit_and_score_kwargs\u001b[49m\u001b[43m,\u001b[49m\n\u001b[0;32m    833\u001b[0m \u001b[43m    \u001b[49m\u001b[43m)\u001b[49m\n\u001b[0;32m    834\u001b[0m \u001b[43m    \u001b[49m\u001b[38;5;28;43;01mfor\u001b[39;49;00m\u001b[43m \u001b[49m\u001b[43m(\u001b[49m\u001b[43mcand_idx\u001b[49m\u001b[43m,\u001b[49m\u001b[43m \u001b[49m\u001b[43mparameters\u001b[49m\u001b[43m)\u001b[49m\u001b[43m,\u001b[49m\u001b[43m \u001b[49m\u001b[43m(\u001b[49m\u001b[43msplit_idx\u001b[49m\u001b[43m,\u001b[49m\u001b[43m \u001b[49m\u001b[43m(\u001b[49m\u001b[43mtrain\u001b[49m\u001b[43m,\u001b[49m\u001b[43m \u001b[49m\u001b[43mtest\u001b[49m\u001b[43m)\u001b[49m\u001b[43m)\u001b[49m\u001b[43m \u001b[49m\u001b[38;5;129;43;01min\u001b[39;49;00m\u001b[43m \u001b[49m\u001b[43mproduct\u001b[49m\u001b[43m(\u001b[49m\n\u001b[0;32m    835\u001b[0m \u001b[43m        \u001b[49m\u001b[38;5;28;43menumerate\u001b[39;49m\u001b[43m(\u001b[49m\u001b[43mcandidate_params\u001b[49m\u001b[43m)\u001b[49m\u001b[43m,\u001b[49m\u001b[43m \u001b[49m\u001b[38;5;28;43menumerate\u001b[39;49m\u001b[43m(\u001b[49m\u001b[43mcv\u001b[49m\u001b[38;5;241;43m.\u001b[39;49m\u001b[43msplit\u001b[49m\u001b[43m(\u001b[49m\u001b[43mX\u001b[49m\u001b[43m,\u001b[49m\u001b[43m \u001b[49m\u001b[43my\u001b[49m\u001b[43m,\u001b[49m\u001b[43m \u001b[49m\u001b[43mgroups\u001b[49m\u001b[43m)\u001b[49m\u001b[43m)\u001b[49m\n\u001b[0;32m    836\u001b[0m \u001b[43m    \u001b[49m\u001b[43m)\u001b[49m\n\u001b[0;32m    837\u001b[0m \u001b[43m\u001b[49m\u001b[43m)\u001b[49m\n\u001b[0;32m    839\u001b[0m \u001b[38;5;28;01mif\u001b[39;00m \u001b[38;5;28mlen\u001b[39m(out) \u001b[38;5;241m<\u001b[39m \u001b[38;5;241m1\u001b[39m:\n\u001b[0;32m    840\u001b[0m     \u001b[38;5;28;01mraise\u001b[39;00m \u001b[38;5;167;01mValueError\u001b[39;00m(\n\u001b[0;32m    841\u001b[0m         \u001b[38;5;124m\"\u001b[39m\u001b[38;5;124mNo fits were performed. \u001b[39m\u001b[38;5;124m\"\u001b[39m\n\u001b[0;32m    842\u001b[0m         \u001b[38;5;124m\"\u001b[39m\u001b[38;5;124mWas the CV iterator empty? \u001b[39m\u001b[38;5;124m\"\u001b[39m\n\u001b[0;32m    843\u001b[0m         \u001b[38;5;124m\"\u001b[39m\u001b[38;5;124mWere there no candidates?\u001b[39m\u001b[38;5;124m\"\u001b[39m\n\u001b[0;32m    844\u001b[0m     )\n",
      "File \u001b[1;32m~\\anaconda3\\envs\\jupyter\\lib\\site-packages\\joblib\\parallel.py:1056\u001b[0m, in \u001b[0;36mParallel.__call__\u001b[1;34m(self, iterable)\u001b[0m\n\u001b[0;32m   1053\u001b[0m     \u001b[38;5;28mself\u001b[39m\u001b[38;5;241m.\u001b[39m_iterating \u001b[38;5;241m=\u001b[39m \u001b[38;5;28;01mFalse\u001b[39;00m\n\u001b[0;32m   1055\u001b[0m \u001b[38;5;28;01mwith\u001b[39;00m \u001b[38;5;28mself\u001b[39m\u001b[38;5;241m.\u001b[39m_backend\u001b[38;5;241m.\u001b[39mretrieval_context():\n\u001b[1;32m-> 1056\u001b[0m     \u001b[38;5;28;43mself\u001b[39;49m\u001b[38;5;241;43m.\u001b[39;49m\u001b[43mretrieve\u001b[49m\u001b[43m(\u001b[49m\u001b[43m)\u001b[49m\n\u001b[0;32m   1057\u001b[0m \u001b[38;5;66;03m# Make sure that we get a last message telling us we are done\u001b[39;00m\n\u001b[0;32m   1058\u001b[0m elapsed_time \u001b[38;5;241m=\u001b[39m time\u001b[38;5;241m.\u001b[39mtime() \u001b[38;5;241m-\u001b[39m \u001b[38;5;28mself\u001b[39m\u001b[38;5;241m.\u001b[39m_start_time\n",
      "File \u001b[1;32m~\\anaconda3\\envs\\jupyter\\lib\\site-packages\\joblib\\parallel.py:935\u001b[0m, in \u001b[0;36mParallel.retrieve\u001b[1;34m(self)\u001b[0m\n\u001b[0;32m    933\u001b[0m \u001b[38;5;28;01mtry\u001b[39;00m:\n\u001b[0;32m    934\u001b[0m     \u001b[38;5;28;01mif\u001b[39;00m \u001b[38;5;28mgetattr\u001b[39m(\u001b[38;5;28mself\u001b[39m\u001b[38;5;241m.\u001b[39m_backend, \u001b[38;5;124m'\u001b[39m\u001b[38;5;124msupports_timeout\u001b[39m\u001b[38;5;124m'\u001b[39m, \u001b[38;5;28;01mFalse\u001b[39;00m):\n\u001b[1;32m--> 935\u001b[0m         \u001b[38;5;28mself\u001b[39m\u001b[38;5;241m.\u001b[39m_output\u001b[38;5;241m.\u001b[39mextend(\u001b[43mjob\u001b[49m\u001b[38;5;241;43m.\u001b[39;49m\u001b[43mget\u001b[49m\u001b[43m(\u001b[49m\u001b[43mtimeout\u001b[49m\u001b[38;5;241;43m=\u001b[39;49m\u001b[38;5;28;43mself\u001b[39;49m\u001b[38;5;241;43m.\u001b[39;49m\u001b[43mtimeout\u001b[49m\u001b[43m)\u001b[49m)\n\u001b[0;32m    936\u001b[0m     \u001b[38;5;28;01melse\u001b[39;00m:\n\u001b[0;32m    937\u001b[0m         \u001b[38;5;28mself\u001b[39m\u001b[38;5;241m.\u001b[39m_output\u001b[38;5;241m.\u001b[39mextend(job\u001b[38;5;241m.\u001b[39mget())\n",
      "File \u001b[1;32m~\\anaconda3\\envs\\jupyter\\lib\\site-packages\\joblib\\_parallel_backends.py:542\u001b[0m, in \u001b[0;36mLokyBackend.wrap_future_result\u001b[1;34m(future, timeout)\u001b[0m\n\u001b[0;32m    539\u001b[0m \u001b[38;5;250m\u001b[39m\u001b[38;5;124;03m\"\"\"Wrapper for Future.result to implement the same behaviour as\u001b[39;00m\n\u001b[0;32m    540\u001b[0m \u001b[38;5;124;03mAsyncResults.get from multiprocessing.\"\"\"\u001b[39;00m\n\u001b[0;32m    541\u001b[0m \u001b[38;5;28;01mtry\u001b[39;00m:\n\u001b[1;32m--> 542\u001b[0m     \u001b[38;5;28;01mreturn\u001b[39;00m \u001b[43mfuture\u001b[49m\u001b[38;5;241;43m.\u001b[39;49m\u001b[43mresult\u001b[49m\u001b[43m(\u001b[49m\u001b[43mtimeout\u001b[49m\u001b[38;5;241;43m=\u001b[39;49m\u001b[43mtimeout\u001b[49m\u001b[43m)\u001b[49m\n\u001b[0;32m    543\u001b[0m \u001b[38;5;28;01mexcept\u001b[39;00m CfTimeoutError \u001b[38;5;28;01mas\u001b[39;00m e:\n\u001b[0;32m    544\u001b[0m     \u001b[38;5;28;01mraise\u001b[39;00m \u001b[38;5;167;01mTimeoutError\u001b[39;00m \u001b[38;5;28;01mfrom\u001b[39;00m \u001b[38;5;21;01me\u001b[39;00m\n",
      "File \u001b[1;32m~\\anaconda3\\envs\\jupyter\\lib\\concurrent\\futures\\_base.py:441\u001b[0m, in \u001b[0;36mFuture.result\u001b[1;34m(self, timeout)\u001b[0m\n\u001b[0;32m    438\u001b[0m \u001b[38;5;28;01melif\u001b[39;00m \u001b[38;5;28mself\u001b[39m\u001b[38;5;241m.\u001b[39m_state \u001b[38;5;241m==\u001b[39m FINISHED:\n\u001b[0;32m    439\u001b[0m     \u001b[38;5;28;01mreturn\u001b[39;00m \u001b[38;5;28mself\u001b[39m\u001b[38;5;241m.\u001b[39m__get_result()\n\u001b[1;32m--> 441\u001b[0m \u001b[38;5;28;43mself\u001b[39;49m\u001b[38;5;241;43m.\u001b[39;49m\u001b[43m_condition\u001b[49m\u001b[38;5;241;43m.\u001b[39;49m\u001b[43mwait\u001b[49m\u001b[43m(\u001b[49m\u001b[43mtimeout\u001b[49m\u001b[43m)\u001b[49m\n\u001b[0;32m    443\u001b[0m \u001b[38;5;28;01mif\u001b[39;00m \u001b[38;5;28mself\u001b[39m\u001b[38;5;241m.\u001b[39m_state \u001b[38;5;129;01min\u001b[39;00m [CANCELLED, CANCELLED_AND_NOTIFIED]:\n\u001b[0;32m    444\u001b[0m     \u001b[38;5;28;01mraise\u001b[39;00m CancelledError()\n",
      "File \u001b[1;32m~\\anaconda3\\envs\\jupyter\\lib\\threading.py:320\u001b[0m, in \u001b[0;36mCondition.wait\u001b[1;34m(self, timeout)\u001b[0m\n\u001b[0;32m    318\u001b[0m \u001b[38;5;28;01mtry\u001b[39;00m:    \u001b[38;5;66;03m# restore state no matter what (e.g., KeyboardInterrupt)\u001b[39;00m\n\u001b[0;32m    319\u001b[0m     \u001b[38;5;28;01mif\u001b[39;00m timeout \u001b[38;5;129;01mis\u001b[39;00m \u001b[38;5;28;01mNone\u001b[39;00m:\n\u001b[1;32m--> 320\u001b[0m         \u001b[43mwaiter\u001b[49m\u001b[38;5;241;43m.\u001b[39;49m\u001b[43macquire\u001b[49m\u001b[43m(\u001b[49m\u001b[43m)\u001b[49m\n\u001b[0;32m    321\u001b[0m         gotit \u001b[38;5;241m=\u001b[39m \u001b[38;5;28;01mTrue\u001b[39;00m\n\u001b[0;32m    322\u001b[0m     \u001b[38;5;28;01melse\u001b[39;00m:\n",
      "\u001b[1;31mKeyboardInterrupt\u001b[0m: "
     ]
    }
   ],
   "source": [
    "from catboost import CatBoostClassifier\n",
    "from sklearn.model_selection import GridSearchCV, StratifiedKFold\n",
    "from sklearn.metrics import make_scorer, f1_score\n",
    "import pandas as pd\n",
    "\n",
    "\n",
    "# CatBoost 모델 설정\n",
    "model = CatBoostClassifier(verbose=False)\n",
    "\n",
    "param_grid = {\n",
    "    'iterations': [700,800,900,1000],\n",
    "    'learning_rate': [ 0.05, 0.1, 0.15],\n",
    "    'depth': [8,9,10,11],\n",
    "\n",
    "}\n",
    "\n",
    "# Macro F1 스코어를 사용하기 위한 스코어러 생성\n",
    "macro_f1_scorer = make_scorer(f1_score, average='macro')\n",
    "\n",
    "# GridSearchCV 설정\n",
    "grid_search = GridSearchCV(model, param_grid, cv=StratifiedKFold(5), scoring=macro_f1_scorer, n_jobs=-1)\n",
    "\n",
    "# GridSearchCV 실행\n",
    "grid_search.fit(x, y)\n",
    "\n",
    "# 결과 출력\n",
    "print(\"최적의 파라미터:\", grid_search.best_params_)\n",
    "print(\"최고 평균 Macro F1 점수:\", grid_search.best_score_)"
   ]
  },
  {
   "cell_type": "code",
   "execution_count": 23,
   "id": "37cfe5f0",
   "metadata": {},
   "outputs": [],
   "source": [
    "# Label Encoding\n",
    "df_test['preferred_difficulty_level'] = pd.factorize(df_test['preferred_difficulty_level'])[0]\n",
    "df_test['subscription_type'] = pd.factorize(df_test['subscription_type'])[0]\n",
    "df_test['recent_learning_achievement'] = df_test['recent_learning_achievement'].apply(lambda x: ach(x))   \n",
    "\n",
    "df_test = df_test.drop(columns = 'user_id')\n",
    "# 최적의 모델 가져오기\n",
    "best_model = grid_search.best_estimator_\n",
    "new_x = df_test[list(df_test)]\n",
    "# 새로운 데이터에 대한 예측 수행\n",
    "# 최적의 모델 가져오기\n",
    "best_model = grid_search.best_estimator_\n",
    "predictions = best_model.predict(new_x)\n",
    "\n",
    "\n",
    "# 예측값 저장\n",
    "df_sub['target'] = predictions\n",
    "df_sub.set_index('user_id').to_csv('csv.csv', encoding=\"cp949\")"
   ]
  },
  {
   "cell_type": "markdown",
   "id": "41e92802",
   "metadata": {},
   "source": [
    "## xgBoost"
   ]
  },
  {
   "cell_type": "code",
   "execution_count": 9,
   "id": "091c3ffc",
   "metadata": {},
   "outputs": [
    {
     "name": "stdout",
     "output_type": "stream",
     "text": [
      "Collecting xgboost\n",
      "  Downloading xgboost-2.0.2-py3-none-win_amd64.whl (99.8 MB)\n",
      "     --------------------------------------- 99.8/99.8 MB 18.2 MB/s eta 0:00:00\n",
      "Requirement already satisfied: numpy in c:\\users\\jeongseoklim\\anaconda3\\envs\\jupyter\\lib\\site-packages (from xgboost) (1.22.3)\n",
      "Requirement already satisfied: scipy in c:\\users\\jeongseoklim\\anaconda3\\envs\\jupyter\\lib\\site-packages (from xgboost) (1.7.3)\n",
      "Installing collected packages: xgboost\n",
      "Successfully installed xgboost-2.0.2\n",
      "Note: you may need to restart the kernel to use updated packages.\n"
     ]
    },
    {
     "name": "stderr",
     "output_type": "stream",
     "text": [
      "\n",
      "[notice] A new release of pip is available: 23.1.2 -> 23.3.1\n",
      "[notice] To update, run: python.exe -m pip install --upgrade pip\n"
     ]
    }
   ],
   "source": [
    "pip install xgboost"
   ]
  },
  {
   "cell_type": "code",
   "execution_count": 14,
   "id": "36d57a93",
   "metadata": {},
   "outputs": [
    {
     "name": "stdout",
     "output_type": "stream",
     "text": [
      "Fitting 3 folds for each of 144 candidates, totalling 432 fits\n",
      "최적의 파라미터: {'colsample_bytree': 0.7, 'learning_rate': 0.1, 'max_depth': 9, 'n_estimators': 400}\n",
      "최고 평균 정확도: 0.5016507789540671\n"
     ]
    }
   ],
   "source": [
    "import xgboost as xgb\n",
    "from sklearn.model_selection import GridSearchCV, train_test_split\n",
    "from sklearn.metrics import make_scorer, f1_score\n",
    "from sklearn.datasets import load_iris\n",
    "import pandas as pd\n",
    "\n",
    "# 데이터 분할\n",
    "x_train, x_test, y_train, y_test = train_test_split(x, y, test_size=0.2, random_state=42)\n",
    "\n",
    "param_grid = {\n",
    "    'max_depth': [5,7 ,9, 11],\n",
    "    'learning_rate': [0.1, 0.01, 0.05],\n",
    "    'n_estimators': [ 200, 300, 400, 500],\n",
    "    'colsample_bytree': [0.3, 0.7, 0.9]\n",
    "}\n",
    "\n",
    "# XGBoost 분류기 초기화\n",
    "xgb_classifier = xgb.XGBClassifier(use_label_encoder=False, eval_metric='mlogloss')\n",
    "\n",
    "# Macro F1 스코어를 사용하기 위한 스코어러 생성\n",
    "macro_f1_scorer = make_scorer(f1_score, average='macro')\n",
    "\n",
    "# GridSearchCV 설정\n",
    "grid_search = GridSearchCV(estimator=xgb_classifier, param_grid=param_grid, cv=3, scoring = macro_f1_scorer, n_jobs=-1, verbose=1)\n",
    "\n",
    "# GridSearchCV 실행\n",
    "grid_search.fit(x_train, y_train)\n",
    "\n",
    "# 결과 출력\n",
    "print(\"최적의 파라미터:\", grid_search.best_params_)\n",
    "print(\"최고 평균 정확도:\", grid_search.best_score_)"
   ]
  },
  {
   "cell_type": "code",
   "execution_count": 15,
   "id": "67b44203",
   "metadata": {},
   "outputs": [
    {
     "name": "stdout",
     "output_type": "stream",
     "text": [
      "Test Set Accuracy: 0.549\n"
     ]
    }
   ],
   "source": [
    "# 최적의 모델 가져오기\n",
    "best_model = grid_search.best_estimator_\n",
    "\n",
    "# 예측\n",
    "y_pred = best_model.predict(x_test)\n",
    "# 정확도 평가\n",
    "accuracy = accuracy_score(y_test, y_pred)\n",
    "print(f\"Test Set Accuracy: {accuracy}\")"
   ]
  },
  {
   "cell_type": "code",
   "execution_count": 16,
   "id": "b1bfc824",
   "metadata": {},
   "outputs": [],
   "source": [
    "# Label Encoding\n",
    "df_test['preferred_difficulty_level'] = pd.factorize(df_test['preferred_difficulty_level'])[0]\n",
    "df_test['subscription_type'] = pd.factorize(df_test['subscription_type'])[0]\n",
    "df_test['recent_learning_achievement'] = df_test['recent_learning_achievement'].apply(lambda x: ach(x))   \n",
    "\n",
    "df_test = df_test.drop(columns = 'user_id')\n",
    "# 최적의 모델 가져오기\n",
    "best_model = grid_search.best_estimator_\n",
    "new_x = df_test[list(df_test)]\n",
    "# 최적의 모델 가져오기\n",
    "best_model = grid_search.best_estimator_\n",
    "prediction = best_model.predict(new_x)\n"
   ]
  },
  {
   "cell_type": "code",
   "execution_count": 19,
   "id": "6e2430a5",
   "metadata": {},
   "outputs": [],
   "source": [
    "# 예측값 저장\n",
    "df_sub['target'] = prediction\n",
    "df_sub.set_index('user_id').to_csv('csv.csv', encoding=\"cp949\")"
   ]
  },
  {
   "cell_type": "markdown",
   "id": "97dc27be",
   "metadata": {},
   "source": [
    "# Light GBM"
   ]
  },
  {
   "cell_type": "code",
   "execution_count": 14,
   "id": "78e0b96c",
   "metadata": {},
   "outputs": [],
   "source": [
    "import lightgbm as lgb\n",
    "from sklearn.model_selection import GridSearchCV, train_test_split\n",
    "from sklearn.metrics import make_scorer, f1_score\n",
    "from sklearn.datasets import load_iris\n",
    "import pandas as pd\n"
   ]
  },
  {
   "cell_type": "code",
   "execution_count": 15,
   "id": "61b0a17f",
   "metadata": {},
   "outputs": [
    {
     "name": "stdout",
     "output_type": "stream",
     "text": [
      "Fitting 3 folds for each of 432 candidates, totalling 1296 fits\n",
      "최적의 파라미터: {'colsample_bytree': 0.3, 'learning_rate': 0.1, 'max_depth': 7, 'n_estimators': 400, 'num_leaves': 50}\n",
      "최고 평균 Macro F1 점수: 0.5097357422748049\n"
     ]
    }
   ],
   "source": [
    "# 데이터 분할\n",
    "x_train, x_test, y_train, y_test = train_test_split(x, y, test_size=0.2, random_state=42)\n",
    "param_grid = {\n",
    "    'max_depth': [5,7 ,9, 11],\n",
    "    'learning_rate': [0.1, 0.01, 0.05],\n",
    "    'n_estimators': [ 200, 300, 400, 500],\n",
    "    'colsample_bytree': [0.3, 0.7, 0.9],\n",
    "    'num_leaves': [31, 50, 70],\n",
    "}\n",
    "# LightGBM 분류기 초기화\n",
    "lgb_classifier = lgb.LGBMClassifier()\n",
    "\n",
    "# Macro F1 스코어를 사용하기 위한 스코어러 생성\n",
    "macro_f1_scorer = make_scorer(f1_score, average='macro')\n",
    "\n",
    "# GridSearchCV 설정s\n",
    "grid_search = GridSearchCV(estimator=lgb_classifier, param_grid=param_grid, cv=3, scoring=macro_f1_scorer, n_jobs=-1, verbose=1)\n",
    "\n",
    "# GridSearchCV 실행\n",
    "grid_search.fit(x_train, y_train)\n",
    "\n",
    "# 결과 출력\n",
    "print(\"최적의 파라미터:\", grid_search.best_params_)\n",
    "print(\"최고 평균 Macro F1 점수:\", grid_search.best_score_)"
   ]
  },
  {
   "cell_type": "code",
   "execution_count": null,
   "id": "5b371197",
   "metadata": {},
   "outputs": [],
   "source": [
    "# 최적의 모델 가져오기\n",
    "best_model = grid_search.best_estimator_\n",
    "\n",
    "# 예측\n",
    "y_pred = best_model.predict(x_test)\n",
    "\n",
    "# Macro F1 점수 평가\n",
    "macro_f1 = f1_score(y_test, y_pred, average='macro')\n",
    "print(f\"Test Set Macro F1 Score: {macro_f1}\")"
   ]
  },
  {
   "cell_type": "markdown",
   "id": "5708559b",
   "metadata": {},
   "source": [
    "# scalling model"
   ]
  }
 ],
 "metadata": {
  "kernelspec": {
   "display_name": "jupyter",
   "language": "python",
   "name": "jupyter"
  },
  "language_info": {
   "codemirror_mode": {
    "name": "ipython",
    "version": 3
   },
   "file_extension": ".py",
   "mimetype": "text/x-python",
   "name": "python",
   "nbconvert_exporter": "python",
   "pygments_lexer": "ipython3",
   "version": "3.10.4"
  },
  "toc": {
   "base_numbering": 1,
   "nav_menu": {},
   "number_sections": true,
   "sideBar": true,
   "skip_h1_title": false,
   "title_cell": "Table of Contents",
   "title_sidebar": "Contents",
   "toc_cell": false,
   "toc_position": {
    "height": "calc(100% - 180px)",
    "left": "10px",
    "top": "150px",
    "width": "307.2px"
   },
   "toc_section_display": true,
   "toc_window_display": true
  }
 },
 "nbformat": 4,
 "nbformat_minor": 5
}
