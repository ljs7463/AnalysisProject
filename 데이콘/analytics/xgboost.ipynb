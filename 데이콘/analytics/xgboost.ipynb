{
  "nbformat": 4,
  "nbformat_minor": 0,
  "metadata": {
    "colab": {
      "provenance": [],
      "authorship_tag": "ABX9TyMku202gwxSh12s2Xjjl6To",
      "include_colab_link": true
    },
    "kernelspec": {
      "name": "python3",
      "display_name": "Python 3"
    },
    "language_info": {
      "name": "python"
    }
  },
  "cells": [
    {
      "cell_type": "markdown",
      "metadata": {
        "id": "view-in-github",
        "colab_type": "text"
      },
      "source": [
        "<a href=\"https://colab.research.google.com/github/ljs7463/AnalysisProject/blob/master/%EB%8D%B0%EC%9D%B4%EC%BD%98/analytics/xgboost.ipynb\" target=\"_parent\"><img src=\"https://colab.research.google.com/assets/colab-badge.svg\" alt=\"Open In Colab\"/></a>"
      ]
    },
    {
      "cell_type": "code",
      "execution_count": 1,
      "metadata": {
        "id": "ft3UzueEpYgJ"
      },
      "outputs": [],
      "source": [
        "import pandas as pd\n",
        "import numpy as np\n",
        "\n",
        "import matplotlib.pyplot as plt\n",
        "import seaborn as sns\n",
        "import warnings\n",
        "import os\n",
        "\n",
        "# 시각화 폰트 설정\n",
        "if os.name =='posix':\n",
        "    plt.rc(\"font\", family = \"AppleGothic\")\n",
        "\n",
        "else:\n",
        "    plt.rc(\"font\", family = \"Malgun Gothic\")\n",
        "\n",
        "# 경고문자 무시\n",
        "warnings.filterwarnings(action='ignore')"
      ]
    },
    {
      "cell_type": "code",
      "source": [
        "# 코랩 실행시\n",
        "df_train = pd.read_csv('train.csv')\n",
        "df_test = pd.read_csv('test.csv')\n",
        "df_sub = pd.read_csv('sample_submission.csv')\n",
        "df_info = pd.read_csv('data_info.csv')"
      ],
      "metadata": {
        "id": "Ha5I4PUZpcMz"
      },
      "execution_count": 3,
      "outputs": []
    },
    {
      "cell_type": "code",
      "source": [
        "## Label Encoding\n",
        "\n",
        "## train데이터\n",
        "df_train['preferred_difficulty_level'] = pd.factorize(df_train['preferred_difficulty_level'])[0]\n",
        "df_train['subscription_type'] = pd.factorize(df_train['subscription_type'])[0]\n",
        "\n",
        "## test데이터\n",
        "df_test['preferred_difficulty_level'] = pd.factorize(df_test['preferred_difficulty_level'])[0]\n",
        "df_test['subscription_type'] = pd.factorize(df_test['subscription_type'])[0]"
      ],
      "metadata": {
        "id": "tB6yPW4ypeRU"
      },
      "execution_count": 4,
      "outputs": []
    },
    {
      "cell_type": "code",
      "source": [
        "from sklearn.preprocessing import StandardScaler\n",
        "scaler = StandardScaler()\n",
        "for i in [['subscription_duration','recent_login_time','average_time_per_learning_session','monthly_active_learning_days','total_completed_courses','recent_learning_achievement','abandoned_learning_sessions','community_engagement_level','customer_inquiry_history','payment_pattern']]:\n",
        "  df_train[i] = scaler.fit_transform(df_train[i])\n",
        "scaler = StandardScaler()\n",
        "for i in [['subscription_duration','recent_login_time','average_time_per_learning_session','monthly_active_learning_days','total_completed_courses','recent_learning_achievement','abandoned_learning_sessions','community_engagement_level','customer_inquiry_history','payment_pattern']]:\n",
        "  df_test[i] = scaler.transfrom(df_test[i])"
      ],
      "metadata": {
        "colab": {
          "base_uri": "https://localhost:8080/",
          "height": 259
        },
        "id": "UDgUjWhjp2jM",
        "outputId": "2a3f0243-a09d-423f-8143-7d57fdd175ee"
      },
      "execution_count": 5,
      "outputs": [
        {
          "output_type": "error",
          "ename": "AttributeError",
          "evalue": "ignored",
          "traceback": [
            "\u001b[0;31m---------------------------------------------------------------------------\u001b[0m",
            "\u001b[0;31mAttributeError\u001b[0m                            Traceback (most recent call last)",
            "\u001b[0;32m<ipython-input-5-fd471d763642>\u001b[0m in \u001b[0;36m<cell line: 6>\u001b[0;34m()\u001b[0m\n\u001b[1;32m      5\u001b[0m \u001b[0mscaler\u001b[0m \u001b[0;34m=\u001b[0m \u001b[0mStandardScaler\u001b[0m\u001b[0;34m(\u001b[0m\u001b[0;34m)\u001b[0m\u001b[0;34m\u001b[0m\u001b[0;34m\u001b[0m\u001b[0m\n\u001b[1;32m      6\u001b[0m \u001b[0;32mfor\u001b[0m \u001b[0mi\u001b[0m \u001b[0;32min\u001b[0m \u001b[0;34m[\u001b[0m\u001b[0;34m[\u001b[0m\u001b[0;34m'subscription_duration'\u001b[0m\u001b[0;34m,\u001b[0m\u001b[0;34m'recent_login_time'\u001b[0m\u001b[0;34m,\u001b[0m\u001b[0;34m'average_time_per_learning_session'\u001b[0m\u001b[0;34m,\u001b[0m\u001b[0;34m'monthly_active_learning_days'\u001b[0m\u001b[0;34m,\u001b[0m\u001b[0;34m'total_completed_courses'\u001b[0m\u001b[0;34m,\u001b[0m\u001b[0;34m'recent_learning_achievement'\u001b[0m\u001b[0;34m,\u001b[0m\u001b[0;34m'abandoned_learning_sessions'\u001b[0m\u001b[0;34m,\u001b[0m\u001b[0;34m'community_engagement_level'\u001b[0m\u001b[0;34m,\u001b[0m\u001b[0;34m'customer_inquiry_history'\u001b[0m\u001b[0;34m,\u001b[0m\u001b[0;34m'payment_pattern'\u001b[0m\u001b[0;34m]\u001b[0m\u001b[0;34m]\u001b[0m\u001b[0;34m:\u001b[0m\u001b[0;34m\u001b[0m\u001b[0;34m\u001b[0m\u001b[0m\n\u001b[0;32m----> 7\u001b[0;31m   \u001b[0mdf_test\u001b[0m\u001b[0;34m[\u001b[0m\u001b[0mi\u001b[0m\u001b[0;34m]\u001b[0m \u001b[0;34m=\u001b[0m \u001b[0mscaler\u001b[0m\u001b[0;34m.\u001b[0m\u001b[0mtransfrom\u001b[0m\u001b[0;34m(\u001b[0m\u001b[0mdf_test\u001b[0m\u001b[0;34m[\u001b[0m\u001b[0mi\u001b[0m\u001b[0;34m]\u001b[0m\u001b[0;34m)\u001b[0m\u001b[0;34m\u001b[0m\u001b[0;34m\u001b[0m\u001b[0m\n\u001b[0m",
            "\u001b[0;31mAttributeError\u001b[0m: 'StandardScaler' object has no attribute 'transfrom'"
          ]
        }
      ]
    },
    {
      "cell_type": "code",
      "source": [
        "# Delete user_id\n",
        "df_train = df_train.drop(columns = 'user_id')\n",
        "\n",
        "# split target\n",
        "x = df_train[list(df_train.columns[:-1])]\n",
        "y = df_train['target']"
      ],
      "metadata": {
        "id": "4TSh1Cinp8mm"
      },
      "execution_count": 6,
      "outputs": []
    },
    {
      "cell_type": "code",
      "source": [
        "# Delete user_id\n",
        "df_test = df_test.drop(columns = 'user_id')\n",
        "\n",
        "# split target\n",
        "new_x = df_test\n"
      ],
      "metadata": {
        "id": "L7tPDuEyp8-o"
      },
      "execution_count": 7,
      "outputs": []
    },
    {
      "cell_type": "code",
      "source": [
        "from xgboost import XGBClassifier\n",
        "from sklearn.model_selection import GridSearchCV, train_test_split\n",
        "from sklearn.metrics import make_scorer, f1_score\n",
        "from sklearn.datasets import load_iris\n",
        "import pandas as pd\n",
        "\n",
        "# 데이터 분할\n",
        "x_train, x_test, y_train, y_test = train_test_split(x, y, test_size=0.2, random_state=42)\n",
        "\n",
        "# param_grid = {\n",
        "#     'max_depth': [3,4,5,6],\n",
        "#     'learning_rate': [0.1, 0.01, 0.05],\n",
        "#     'n_estimators': [100,200,300,400,500, 600],\n",
        "#     'colsample_bytree': [0.3, 0.7, 0.9]\n",
        "# }\n",
        "\n",
        "# XGBoost 분류기 초기화\n",
        "xgb = XGBClassifier()\n",
        "\n",
        "# parameter grid\n",
        "xgb_param_grid={\n",
        "    'objective':['binary:logistic'],\n",
        "    'n_estimators' : [600,700],\n",
        "    'learning_rate' : [0.01,0.05,0.1],\n",
        "    'max_depth' : [3,5,7,10],\n",
        "    'gamma' : [0,1,2,3],\n",
        "    'colsample_bytree' : [0.3,0.6,0.9],\n",
        "\n",
        "}\n",
        "\n",
        "\n",
        "# GridSearchCV 설정\n",
        "grid_search = GridSearchCV( xgb ,\n",
        "                            param_grid =xgb_param_grid,\n",
        "                            cv=5,\n",
        "                            scoring = \"f1_macro\",\n",
        "                            n_jobs=-1,\n",
        "                            verbose=1\n",
        "                            )\n",
        "\n",
        "# GridSearchCV 실행\n",
        "grid_search.fit(x_train, y_train)\n",
        "\n",
        "# 결과 출력\n",
        "print(\"최적의 파라미터:\", grid_search.best_params_)\n",
        "print(\"최고 평균 정확도:\", grid_search.best_score_)"
      ],
      "metadata": {
        "colab": {
          "base_uri": "https://localhost:8080/"
        },
        "id": "Vng4OTp1p-de",
        "outputId": "0e12abfe-5094-4b76-e610-d415c98c3085"
      },
      "execution_count": 13,
      "outputs": [
        {
          "output_type": "stream",
          "name": "stdout",
          "text": [
            "Fitting 5 folds for each of 288 candidates, totalling 1440 fits\n",
            "최적의 파라미터: {'colsample_bytree': 0.9, 'gamma': 0, 'learning_rate': 0.05, 'max_depth': 10, 'n_estimators': 700, 'objective': 'binary:logistic'}\n",
            "최고 평균 정확도: 0.5002396984693697\n"
          ]
        }
      ]
    },
    {
      "cell_type": "code",
      "source": [
        "# Save the best Model\n",
        "best_model = grid_search.best_estimator_\n",
        "\n",
        "# predictions\n",
        "y_pred = best_model.predict(x_test)\n",
        "\n",
        "# Estimate Macro F1 Scores\n",
        "macro_f1 = f1_score(y_test, y_pred, average = 'macro')\n",
        "print(f\"Test SEt Macro F1 Score: {macro_f1}\")"
      ],
      "metadata": {
        "colab": {
          "base_uri": "https://localhost:8080/"
        },
        "id": "W2YRdeDEr7zp",
        "outputId": "3b9cda8b-0fd3-42d2-d9d4-b6b9d329b15e"
      },
      "execution_count": 14,
      "outputs": [
        {
          "output_type": "stream",
          "name": "stdout",
          "text": [
            "Test SEt Macro F1 Score: 0.47879552663393316\n"
          ]
        }
      ]
    },
    {
      "cell_type": "code",
      "source": [
        "predictions = best_model.predict(new_x)"
      ],
      "metadata": {
        "id": "nGjczXQUwIjU"
      },
      "execution_count": 16,
      "outputs": []
    },
    {
      "cell_type": "code",
      "source": [
        "df_sub['target'] = predictions\n",
        "df_sub.set_index('user_id').to_csv('xgboost.csv',encoding = 'cp949')"
      ],
      "metadata": {
        "id": "nS883TCvwM6z"
      },
      "execution_count": 22,
      "outputs": []
    }
  ]
}