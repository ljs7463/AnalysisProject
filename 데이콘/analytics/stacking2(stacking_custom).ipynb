{
  "nbformat": 4,
  "nbformat_minor": 0,
  "metadata": {
    "colab": {
      "provenance": [],
      "authorship_tag": "ABX9TyN6GjQxYg/GNd1IrawY+SjZ",
      "include_colab_link": true
    },
    "kernelspec": {
      "name": "python3",
      "display_name": "Python 3"
    },
    "language_info": {
      "name": "python"
    }
  },
  "cells": [
    {
      "cell_type": "markdown",
      "metadata": {
        "id": "view-in-github",
        "colab_type": "text"
      },
      "source": [
        "<a href=\"https://colab.research.google.com/github/ljs7463/AnalysisProject/blob/master/%EB%8D%B0%EC%9D%B4%EC%BD%98/analytics/stacking2(stacking_custom).ipynb\" target=\"_parent\"><img src=\"https://colab.research.google.com/assets/colab-badge.svg\" alt=\"Open In Colab\"/></a>"
      ]
    },
    {
      "cell_type": "code",
      "source": [
        "!pip install catboost\n",
        "!pip install optuna"
      ],
      "metadata": {
        "colab": {
          "base_uri": "https://localhost:8080/"
        },
        "id": "8gBaqNVQTSi2",
        "outputId": "5977d5f3-2146-4b6c-b33f-859b166c4063"
      },
      "execution_count": 3,
      "outputs": [
        {
          "output_type": "stream",
          "name": "stdout",
          "text": [
            "Collecting catboost\n",
            "  Downloading catboost-1.2.2-cp310-cp310-manylinux2014_x86_64.whl (98.7 MB)\n",
            "\u001b[2K     \u001b[90m━━━━━━━━━━━━━━━━━━━━━━━━━━━━━━━━━━━━━━━━\u001b[0m \u001b[32m98.7/98.7 MB\u001b[0m \u001b[31m8.4 MB/s\u001b[0m eta \u001b[36m0:00:00\u001b[0m\n",
            "\u001b[?25hRequirement already satisfied: graphviz in /usr/local/lib/python3.10/dist-packages (from catboost) (0.20.1)\n",
            "Requirement already satisfied: matplotlib in /usr/local/lib/python3.10/dist-packages (from catboost) (3.7.1)\n",
            "Requirement already satisfied: numpy>=1.16.0 in /usr/local/lib/python3.10/dist-packages (from catboost) (1.23.5)\n",
            "Requirement already satisfied: pandas>=0.24 in /usr/local/lib/python3.10/dist-packages (from catboost) (1.5.3)\n",
            "Requirement already satisfied: scipy in /usr/local/lib/python3.10/dist-packages (from catboost) (1.11.4)\n",
            "Requirement already satisfied: plotly in /usr/local/lib/python3.10/dist-packages (from catboost) (5.15.0)\n",
            "Requirement already satisfied: six in /usr/local/lib/python3.10/dist-packages (from catboost) (1.16.0)\n",
            "Requirement already satisfied: python-dateutil>=2.8.1 in /usr/local/lib/python3.10/dist-packages (from pandas>=0.24->catboost) (2.8.2)\n",
            "Requirement already satisfied: pytz>=2020.1 in /usr/local/lib/python3.10/dist-packages (from pandas>=0.24->catboost) (2023.3.post1)\n",
            "Requirement already satisfied: contourpy>=1.0.1 in /usr/local/lib/python3.10/dist-packages (from matplotlib->catboost) (1.2.0)\n",
            "Requirement already satisfied: cycler>=0.10 in /usr/local/lib/python3.10/dist-packages (from matplotlib->catboost) (0.12.1)\n",
            "Requirement already satisfied: fonttools>=4.22.0 in /usr/local/lib/python3.10/dist-packages (from matplotlib->catboost) (4.45.1)\n",
            "Requirement already satisfied: kiwisolver>=1.0.1 in /usr/local/lib/python3.10/dist-packages (from matplotlib->catboost) (1.4.5)\n",
            "Requirement already satisfied: packaging>=20.0 in /usr/local/lib/python3.10/dist-packages (from matplotlib->catboost) (23.2)\n",
            "Requirement already satisfied: pillow>=6.2.0 in /usr/local/lib/python3.10/dist-packages (from matplotlib->catboost) (9.4.0)\n",
            "Requirement already satisfied: pyparsing>=2.3.1 in /usr/local/lib/python3.10/dist-packages (from matplotlib->catboost) (3.1.1)\n",
            "Requirement already satisfied: tenacity>=6.2.0 in /usr/local/lib/python3.10/dist-packages (from plotly->catboost) (8.2.3)\n",
            "Installing collected packages: catboost\n",
            "Successfully installed catboost-1.2.2\n",
            "Collecting optuna\n",
            "  Downloading optuna-3.4.0-py3-none-any.whl (409 kB)\n",
            "\u001b[2K     \u001b[90m━━━━━━━━━━━━━━━━━━━━━━━━━━━━━━━━━━━━━━━━\u001b[0m \u001b[32m409.6/409.6 kB\u001b[0m \u001b[31m6.4 MB/s\u001b[0m eta \u001b[36m0:00:00\u001b[0m\n",
            "\u001b[?25hCollecting alembic>=1.5.0 (from optuna)\n",
            "  Downloading alembic-1.13.0-py3-none-any.whl (230 kB)\n",
            "\u001b[2K     \u001b[90m━━━━━━━━━━━━━━━━━━━━━━━━━━━━━━━━━━━━━━━━\u001b[0m \u001b[32m230.6/230.6 kB\u001b[0m \u001b[31m8.9 MB/s\u001b[0m eta \u001b[36m0:00:00\u001b[0m\n",
            "\u001b[?25hCollecting colorlog (from optuna)\n",
            "  Downloading colorlog-6.8.0-py3-none-any.whl (11 kB)\n",
            "Requirement already satisfied: numpy in /usr/local/lib/python3.10/dist-packages (from optuna) (1.23.5)\n",
            "Requirement already satisfied: packaging>=20.0 in /usr/local/lib/python3.10/dist-packages (from optuna) (23.2)\n",
            "Requirement already satisfied: sqlalchemy>=1.3.0 in /usr/local/lib/python3.10/dist-packages (from optuna) (2.0.23)\n",
            "Requirement already satisfied: tqdm in /usr/local/lib/python3.10/dist-packages (from optuna) (4.66.1)\n",
            "Requirement already satisfied: PyYAML in /usr/local/lib/python3.10/dist-packages (from optuna) (6.0.1)\n",
            "Collecting Mako (from alembic>=1.5.0->optuna)\n",
            "  Downloading Mako-1.3.0-py3-none-any.whl (78 kB)\n",
            "\u001b[2K     \u001b[90m━━━━━━━━━━━━━━━━━━━━━━━━━━━━━━━━━━━━━━━━\u001b[0m \u001b[32m78.6/78.6 kB\u001b[0m \u001b[31m10.3 MB/s\u001b[0m eta \u001b[36m0:00:00\u001b[0m\n",
            "\u001b[?25hRequirement already satisfied: typing-extensions>=4 in /usr/local/lib/python3.10/dist-packages (from alembic>=1.5.0->optuna) (4.5.0)\n",
            "Requirement already satisfied: greenlet!=0.4.17 in /usr/local/lib/python3.10/dist-packages (from sqlalchemy>=1.3.0->optuna) (3.0.1)\n",
            "Requirement already satisfied: MarkupSafe>=0.9.2 in /usr/local/lib/python3.10/dist-packages (from Mako->alembic>=1.5.0->optuna) (2.1.3)\n",
            "Installing collected packages: Mako, colorlog, alembic, optuna\n",
            "Successfully installed Mako-1.3.0 alembic-1.13.0 colorlog-6.8.0 optuna-3.4.0\n"
          ]
        }
      ]
    },
    {
      "cell_type": "markdown",
      "source": [
        "# Import lib & load dataset"
      ],
      "metadata": {
        "id": "MIlCnXYGTKA5"
      }
    },
    {
      "cell_type": "code",
      "execution_count": 61,
      "metadata": {
        "id": "zMHy8BL-TAqU"
      },
      "outputs": [],
      "source": [
        "import pandas as pd\n",
        "import numpy as np\n",
        "\n",
        "import matplotlib.pyplot as plt\n",
        "import seaborn as sns\n",
        "import warnings\n",
        "import os\n",
        "\n",
        "# 시각화 폰트 설정\n",
        "if os.name =='posix':\n",
        "    plt.rc(\"font\", family = \"AppleGothic\")\n",
        "\n",
        "else:\n",
        "    plt.rc(\"font\", family = \"Malgun Gothic\")\n",
        "\n",
        "# 경고문자 무시\n",
        "warnings.filterwarnings(action='ignore')\n",
        "\n",
        "\n",
        "# 데이터 로드\n",
        "df_train = pd.read_csv('train.csv')\n",
        "df_test = pd.read_csv('test.csv')\n",
        "df_sub = pd.read_csv('sample_submission.csv')\n",
        "df_info = pd.read_csv('data_info.csv')"
      ]
    },
    {
      "cell_type": "markdown",
      "source": [
        "# preprocessing & split dataset"
      ],
      "metadata": {
        "id": "jpN_CGI9TO76"
      }
    },
    {
      "cell_type": "code",
      "source": [
        "## Label Encoding\n",
        "\n",
        "## train데이터\n",
        "df_train['preferred_difficulty_level'] = pd.factorize(df_train['preferred_difficulty_level'])[0]\n",
        "df_train['subscription_type'] = pd.factorize(df_train['subscription_type'])[0]\n",
        "\n",
        "## test데이터\n",
        "df_test['preferred_difficulty_level'] = pd.factorize(df_test['preferred_difficulty_level'])[0]\n",
        "df_test['subscription_type'] = pd.factorize(df_test['subscription_type'])[0]\n",
        "\n",
        "# scaler\n",
        "from sklearn.preprocessing import StandardScaler\n",
        "scaler = StandardScaler()\n",
        "for i in [['subscription_duration','recent_login_time','average_time_per_learning_session','monthly_active_learning_days','total_completed_courses','recent_learning_achievement','abandoned_learning_sessions','community_engagement_level','customer_inquiry_history','payment_pattern']]:\n",
        "  df_train[i] = scaler.fit_transform(df_train[i])\n",
        "for i in [['subscription_duration','recent_login_time','average_time_per_learning_session','monthly_active_learning_days','total_completed_courses','recent_learning_achievement','abandoned_learning_sessions','community_engagement_level','customer_inquiry_history','payment_pattern']]:\n",
        "  df_test[i] = scaler.transform(df_test[i])\n",
        "\n",
        "# Delete user_id\n",
        "df_train = df_train.drop(columns = 'user_id')\n",
        "\n",
        "# split target\n",
        "x = df_train[list(df_train.columns[:-1])]\n",
        "y = df_train['target']\n",
        "\n",
        "# Delete user_id\n",
        "df_test = df_test.drop(columns = 'user_id')\n",
        "# split target\n",
        "new_x = df_test\n"
      ],
      "metadata": {
        "id": "t6UxgOMOTOGJ"
      },
      "execution_count": 62,
      "outputs": []
    },
    {
      "cell_type": "markdown",
      "source": [
        "## demension reduction"
      ],
      "metadata": {
        "id": "Xz5ehDlEWXkI"
      }
    },
    {
      "cell_type": "code",
      "source": [
        "# from sklearn.discriminant_analysis import LinearDiscriminantAnalysis\n",
        "# lda = LinearDiscriminantAnalysis()\n",
        "# x  = lda.fit_transform(x, y)\n",
        "# new_x = lda.transform(new_x)"
      ],
      "metadata": {
        "id": "yPlaU3-UWZD4"
      },
      "execution_count": 63,
      "outputs": []
    },
    {
      "cell_type": "markdown",
      "source": [
        "# Modeling"
      ],
      "metadata": {
        "id": "tu1d0Vd8TUet"
      }
    },
    {
      "cell_type": "code",
      "source": [
        "import optuna\n",
        "from lightgbm import LGBMClassifier,early_stopping\n",
        "from catboost import CatBoostClassifier\n",
        "from sklearn.model_selection import KFold\n",
        "from sklearn.model_selection import GridSearchCV, train_test_split\n",
        "from sklearn.metrics import make_scorer, f1_score\n",
        "from sklearn.linear_model import LogisticRegression\n",
        "import optuna\n",
        "import numpy as np\n",
        "from catboost import CatBoostClassifier\n",
        "from sklearn.model_selection import KFold\n",
        "from sklearn.metrics import f1_score\n",
        "from xgboost import XGBClassifier\n",
        "from sklearn.linear_model import LogisticRegression\n",
        "from sklearn.model_selection import cross_val_score\n",
        "from sklearn.neighbors import KNeighborsClassifier\n",
        "from sklearn.svm import SVC\n",
        "\n",
        "x_train, x_test, y_train, y_test = train_test_split(x, y, test_size = 0.2, random_state = 42)"
      ],
      "metadata": {
        "id": "teBy7MOPTRM0"
      },
      "execution_count": 64,
      "outputs": []
    },
    {
      "cell_type": "code",
      "source": [
        "from sklearn.feature_selection import SelectFromModel\n",
        "model =LGBMClassifier()\n",
        "model.fit(x_train, y_train)\n",
        "sfm = SelectFromModel(model,  threshold = 'median')\n",
        "x_train_trasformed = sfm.fit_transform(x_train, y_train)\n",
        "x_test_transformed = sfm.transform(x_test)\n",
        "model.fit(x_train_trasformed, y_train)\n",
        "model.score(x_test_transformed, y_test)\n"
      ],
      "metadata": {
        "colab": {
          "base_uri": "https://localhost:8080/"
        },
        "id": "_NTR3AfncjAk",
        "outputId": "9a7e06c6-55a0-4d24-e9fb-16711b29c4f7"
      },
      "execution_count": 66,
      "outputs": [
        {
          "output_type": "stream",
          "name": "stdout",
          "text": [
            "[LightGBM] [Info] Number of positive: 4957, number of negative: 3043\n",
            "[LightGBM] [Info] Auto-choosing row-wise multi-threading, the overhead of testing was 0.000639 seconds.\n",
            "You can set `force_row_wise=true` to remove the overhead.\n",
            "And if memory is not enough, you can set `force_col_wise=true`.\n",
            "[LightGBM] [Info] Total Bins 916\n",
            "[LightGBM] [Info] Number of data points in the train set: 8000, number of used features: 13\n",
            "[LightGBM] [Info] [binary:BoostFromScore]: pavg=0.619625 -> initscore=0.487957\n",
            "[LightGBM] [Info] Start training from score 0.487957\n",
            "[LightGBM] [Info] Number of positive: 4957, number of negative: 3043\n",
            "[LightGBM] [Info] Auto-choosing row-wise multi-threading, the overhead of testing was 0.000604 seconds.\n",
            "You can set `force_row_wise=true` to remove the overhead.\n",
            "And if memory is not enough, you can set `force_col_wise=true`.\n",
            "[LightGBM] [Info] Total Bins 916\n",
            "[LightGBM] [Info] Number of data points in the train set: 8000, number of used features: 13\n",
            "[LightGBM] [Info] [binary:BoostFromScore]: pavg=0.619625 -> initscore=0.487957\n",
            "[LightGBM] [Info] Start training from score 0.487957\n",
            "[LightGBM] [Info] Number of positive: 4957, number of negative: 3043\n",
            "[LightGBM] [Info] Auto-choosing col-wise multi-threading, the overhead of testing was 0.001131 seconds.\n",
            "You can set `force_col_wise=true` to remove the overhead.\n",
            "[LightGBM] [Info] Total Bins 871\n",
            "[LightGBM] [Info] Number of data points in the train set: 8000, number of used features: 7\n",
            "[LightGBM] [Info] [binary:BoostFromScore]: pavg=0.619625 -> initscore=0.487957\n",
            "[LightGBM] [Info] Start training from score 0.487957\n"
          ]
        },
        {
          "output_type": "execute_result",
          "data": {
            "text/plain": [
              "0.59"
            ]
          },
          "metadata": {},
          "execution_count": 66
        }
      ]
    },
    {
      "cell_type": "code",
      "source": [
        "pd.DataFrame(x_test_transformed)"
      ],
      "metadata": {
        "colab": {
          "base_uri": "https://localhost:8080/",
          "height": 423
        },
        "id": "BrWsJitVdecC",
        "outputId": "242f995a-6686-47a4-f34d-0fd4081ed1d4"
      },
      "execution_count": 68,
      "outputs": [
        {
          "output_type": "execute_result",
          "data": {
            "text/plain": [
              "             0         1          2         3         4         5         6\n",
              "0    -0.287460  0.357181  15.733048 -0.708374  0.354102  1.038128  0.897074\n",
              "1     0.470051  0.237594  13.884052 -0.753365 -1.521287 -1.988886 -0.614831\n",
              "2    -1.044971 -0.479924  14.225555 -0.497869 -0.222941  2.138861  1.393854\n",
              "3    -1.347975  0.955113  19.504501 -0.146588 -1.521287 -0.062604  1.287897\n",
              "4    -1.347975  0.715940  18.613273  0.287060 -0.367201  1.313312  0.673894\n",
              "...        ...       ...        ...       ...       ...       ...       ...\n",
              "1995 -0.590465 -0.001579  16.641179 -0.802494 -1.088505 -1.438520 -1.675391\n",
              "1996 -1.347975  1.553045  14.658474 -0.787338  1.508188  1.863678 -1.010931\n",
              "1997 -1.499477  1.074699  13.294821 -0.790540  1.219667  1.588495 -0.322287\n",
              "1998 -1.196473 -0.599511  21.105407 -0.475224 -1.377026  1.313312 -0.041810\n",
              "1999  1.682068  0.955113  14.697316 -0.126418  0.931145  0.212579  0.407301\n",
              "\n",
              "[2000 rows x 7 columns]"
            ],
            "text/html": [
              "\n",
              "  <div id=\"df-f895016e-ed20-491b-8c8e-2c8e8677772c\" class=\"colab-df-container\">\n",
              "    <div>\n",
              "<style scoped>\n",
              "    .dataframe tbody tr th:only-of-type {\n",
              "        vertical-align: middle;\n",
              "    }\n",
              "\n",
              "    .dataframe tbody tr th {\n",
              "        vertical-align: top;\n",
              "    }\n",
              "\n",
              "    .dataframe thead th {\n",
              "        text-align: right;\n",
              "    }\n",
              "</style>\n",
              "<table border=\"1\" class=\"dataframe\">\n",
              "  <thead>\n",
              "    <tr style=\"text-align: right;\">\n",
              "      <th></th>\n",
              "      <th>0</th>\n",
              "      <th>1</th>\n",
              "      <th>2</th>\n",
              "      <th>3</th>\n",
              "      <th>4</th>\n",
              "      <th>5</th>\n",
              "      <th>6</th>\n",
              "    </tr>\n",
              "  </thead>\n",
              "  <tbody>\n",
              "    <tr>\n",
              "      <th>0</th>\n",
              "      <td>-0.287460</td>\n",
              "      <td>0.357181</td>\n",
              "      <td>15.733048</td>\n",
              "      <td>-0.708374</td>\n",
              "      <td>0.354102</td>\n",
              "      <td>1.038128</td>\n",
              "      <td>0.897074</td>\n",
              "    </tr>\n",
              "    <tr>\n",
              "      <th>1</th>\n",
              "      <td>0.470051</td>\n",
              "      <td>0.237594</td>\n",
              "      <td>13.884052</td>\n",
              "      <td>-0.753365</td>\n",
              "      <td>-1.521287</td>\n",
              "      <td>-1.988886</td>\n",
              "      <td>-0.614831</td>\n",
              "    </tr>\n",
              "    <tr>\n",
              "      <th>2</th>\n",
              "      <td>-1.044971</td>\n",
              "      <td>-0.479924</td>\n",
              "      <td>14.225555</td>\n",
              "      <td>-0.497869</td>\n",
              "      <td>-0.222941</td>\n",
              "      <td>2.138861</td>\n",
              "      <td>1.393854</td>\n",
              "    </tr>\n",
              "    <tr>\n",
              "      <th>3</th>\n",
              "      <td>-1.347975</td>\n",
              "      <td>0.955113</td>\n",
              "      <td>19.504501</td>\n",
              "      <td>-0.146588</td>\n",
              "      <td>-1.521287</td>\n",
              "      <td>-0.062604</td>\n",
              "      <td>1.287897</td>\n",
              "    </tr>\n",
              "    <tr>\n",
              "      <th>4</th>\n",
              "      <td>-1.347975</td>\n",
              "      <td>0.715940</td>\n",
              "      <td>18.613273</td>\n",
              "      <td>0.287060</td>\n",
              "      <td>-0.367201</td>\n",
              "      <td>1.313312</td>\n",
              "      <td>0.673894</td>\n",
              "    </tr>\n",
              "    <tr>\n",
              "      <th>...</th>\n",
              "      <td>...</td>\n",
              "      <td>...</td>\n",
              "      <td>...</td>\n",
              "      <td>...</td>\n",
              "      <td>...</td>\n",
              "      <td>...</td>\n",
              "      <td>...</td>\n",
              "    </tr>\n",
              "    <tr>\n",
              "      <th>1995</th>\n",
              "      <td>-0.590465</td>\n",
              "      <td>-0.001579</td>\n",
              "      <td>16.641179</td>\n",
              "      <td>-0.802494</td>\n",
              "      <td>-1.088505</td>\n",
              "      <td>-1.438520</td>\n",
              "      <td>-1.675391</td>\n",
              "    </tr>\n",
              "    <tr>\n",
              "      <th>1996</th>\n",
              "      <td>-1.347975</td>\n",
              "      <td>1.553045</td>\n",
              "      <td>14.658474</td>\n",
              "      <td>-0.787338</td>\n",
              "      <td>1.508188</td>\n",
              "      <td>1.863678</td>\n",
              "      <td>-1.010931</td>\n",
              "    </tr>\n",
              "    <tr>\n",
              "      <th>1997</th>\n",
              "      <td>-1.499477</td>\n",
              "      <td>1.074699</td>\n",
              "      <td>13.294821</td>\n",
              "      <td>-0.790540</td>\n",
              "      <td>1.219667</td>\n",
              "      <td>1.588495</td>\n",
              "      <td>-0.322287</td>\n",
              "    </tr>\n",
              "    <tr>\n",
              "      <th>1998</th>\n",
              "      <td>-1.196473</td>\n",
              "      <td>-0.599511</td>\n",
              "      <td>21.105407</td>\n",
              "      <td>-0.475224</td>\n",
              "      <td>-1.377026</td>\n",
              "      <td>1.313312</td>\n",
              "      <td>-0.041810</td>\n",
              "    </tr>\n",
              "    <tr>\n",
              "      <th>1999</th>\n",
              "      <td>1.682068</td>\n",
              "      <td>0.955113</td>\n",
              "      <td>14.697316</td>\n",
              "      <td>-0.126418</td>\n",
              "      <td>0.931145</td>\n",
              "      <td>0.212579</td>\n",
              "      <td>0.407301</td>\n",
              "    </tr>\n",
              "  </tbody>\n",
              "</table>\n",
              "<p>2000 rows × 7 columns</p>\n",
              "</div>\n",
              "    <div class=\"colab-df-buttons\">\n",
              "\n",
              "  <div class=\"colab-df-container\">\n",
              "    <button class=\"colab-df-convert\" onclick=\"convertToInteractive('df-f895016e-ed20-491b-8c8e-2c8e8677772c')\"\n",
              "            title=\"Convert this dataframe to an interactive table.\"\n",
              "            style=\"display:none;\">\n",
              "\n",
              "  <svg xmlns=\"http://www.w3.org/2000/svg\" height=\"24px\" viewBox=\"0 -960 960 960\">\n",
              "    <path d=\"M120-120v-720h720v720H120Zm60-500h600v-160H180v160Zm220 220h160v-160H400v160Zm0 220h160v-160H400v160ZM180-400h160v-160H180v160Zm440 0h160v-160H620v160ZM180-180h160v-160H180v160Zm440 0h160v-160H620v160Z\"/>\n",
              "  </svg>\n",
              "    </button>\n",
              "\n",
              "  <style>\n",
              "    .colab-df-container {\n",
              "      display:flex;\n",
              "      gap: 12px;\n",
              "    }\n",
              "\n",
              "    .colab-df-convert {\n",
              "      background-color: #E8F0FE;\n",
              "      border: none;\n",
              "      border-radius: 50%;\n",
              "      cursor: pointer;\n",
              "      display: none;\n",
              "      fill: #1967D2;\n",
              "      height: 32px;\n",
              "      padding: 0 0 0 0;\n",
              "      width: 32px;\n",
              "    }\n",
              "\n",
              "    .colab-df-convert:hover {\n",
              "      background-color: #E2EBFA;\n",
              "      box-shadow: 0px 1px 2px rgba(60, 64, 67, 0.3), 0px 1px 3px 1px rgba(60, 64, 67, 0.15);\n",
              "      fill: #174EA6;\n",
              "    }\n",
              "\n",
              "    .colab-df-buttons div {\n",
              "      margin-bottom: 4px;\n",
              "    }\n",
              "\n",
              "    [theme=dark] .colab-df-convert {\n",
              "      background-color: #3B4455;\n",
              "      fill: #D2E3FC;\n",
              "    }\n",
              "\n",
              "    [theme=dark] .colab-df-convert:hover {\n",
              "      background-color: #434B5C;\n",
              "      box-shadow: 0px 1px 3px 1px rgba(0, 0, 0, 0.15);\n",
              "      filter: drop-shadow(0px 1px 2px rgba(0, 0, 0, 0.3));\n",
              "      fill: #FFFFFF;\n",
              "    }\n",
              "  </style>\n",
              "\n",
              "    <script>\n",
              "      const buttonEl =\n",
              "        document.querySelector('#df-f895016e-ed20-491b-8c8e-2c8e8677772c button.colab-df-convert');\n",
              "      buttonEl.style.display =\n",
              "        google.colab.kernel.accessAllowed ? 'block' : 'none';\n",
              "\n",
              "      async function convertToInteractive(key) {\n",
              "        const element = document.querySelector('#df-f895016e-ed20-491b-8c8e-2c8e8677772c');\n",
              "        const dataTable =\n",
              "          await google.colab.kernel.invokeFunction('convertToInteractive',\n",
              "                                                    [key], {});\n",
              "        if (!dataTable) return;\n",
              "\n",
              "        const docLinkHtml = 'Like what you see? Visit the ' +\n",
              "          '<a target=\"_blank\" href=https://colab.research.google.com/notebooks/data_table.ipynb>data table notebook</a>'\n",
              "          + ' to learn more about interactive tables.';\n",
              "        element.innerHTML = '';\n",
              "        dataTable['output_type'] = 'display_data';\n",
              "        await google.colab.output.renderOutput(dataTable, element);\n",
              "        const docLink = document.createElement('div');\n",
              "        docLink.innerHTML = docLinkHtml;\n",
              "        element.appendChild(docLink);\n",
              "      }\n",
              "    </script>\n",
              "  </div>\n",
              "\n",
              "\n",
              "<div id=\"df-91d784c2-d587-4d04-899b-0250fa8c0185\">\n",
              "  <button class=\"colab-df-quickchart\" onclick=\"quickchart('df-91d784c2-d587-4d04-899b-0250fa8c0185')\"\n",
              "            title=\"Suggest charts\"\n",
              "            style=\"display:none;\">\n",
              "\n",
              "<svg xmlns=\"http://www.w3.org/2000/svg\" height=\"24px\"viewBox=\"0 0 24 24\"\n",
              "     width=\"24px\">\n",
              "    <g>\n",
              "        <path d=\"M19 3H5c-1.1 0-2 .9-2 2v14c0 1.1.9 2 2 2h14c1.1 0 2-.9 2-2V5c0-1.1-.9-2-2-2zM9 17H7v-7h2v7zm4 0h-2V7h2v10zm4 0h-2v-4h2v4z\"/>\n",
              "    </g>\n",
              "</svg>\n",
              "  </button>\n",
              "\n",
              "<style>\n",
              "  .colab-df-quickchart {\n",
              "      --bg-color: #E8F0FE;\n",
              "      --fill-color: #1967D2;\n",
              "      --hover-bg-color: #E2EBFA;\n",
              "      --hover-fill-color: #174EA6;\n",
              "      --disabled-fill-color: #AAA;\n",
              "      --disabled-bg-color: #DDD;\n",
              "  }\n",
              "\n",
              "  [theme=dark] .colab-df-quickchart {\n",
              "      --bg-color: #3B4455;\n",
              "      --fill-color: #D2E3FC;\n",
              "      --hover-bg-color: #434B5C;\n",
              "      --hover-fill-color: #FFFFFF;\n",
              "      --disabled-bg-color: #3B4455;\n",
              "      --disabled-fill-color: #666;\n",
              "  }\n",
              "\n",
              "  .colab-df-quickchart {\n",
              "    background-color: var(--bg-color);\n",
              "    border: none;\n",
              "    border-radius: 50%;\n",
              "    cursor: pointer;\n",
              "    display: none;\n",
              "    fill: var(--fill-color);\n",
              "    height: 32px;\n",
              "    padding: 0;\n",
              "    width: 32px;\n",
              "  }\n",
              "\n",
              "  .colab-df-quickchart:hover {\n",
              "    background-color: var(--hover-bg-color);\n",
              "    box-shadow: 0 1px 2px rgba(60, 64, 67, 0.3), 0 1px 3px 1px rgba(60, 64, 67, 0.15);\n",
              "    fill: var(--button-hover-fill-color);\n",
              "  }\n",
              "\n",
              "  .colab-df-quickchart-complete:disabled,\n",
              "  .colab-df-quickchart-complete:disabled:hover {\n",
              "    background-color: var(--disabled-bg-color);\n",
              "    fill: var(--disabled-fill-color);\n",
              "    box-shadow: none;\n",
              "  }\n",
              "\n",
              "  .colab-df-spinner {\n",
              "    border: 2px solid var(--fill-color);\n",
              "    border-color: transparent;\n",
              "    border-bottom-color: var(--fill-color);\n",
              "    animation:\n",
              "      spin 1s steps(1) infinite;\n",
              "  }\n",
              "\n",
              "  @keyframes spin {\n",
              "    0% {\n",
              "      border-color: transparent;\n",
              "      border-bottom-color: var(--fill-color);\n",
              "      border-left-color: var(--fill-color);\n",
              "    }\n",
              "    20% {\n",
              "      border-color: transparent;\n",
              "      border-left-color: var(--fill-color);\n",
              "      border-top-color: var(--fill-color);\n",
              "    }\n",
              "    30% {\n",
              "      border-color: transparent;\n",
              "      border-left-color: var(--fill-color);\n",
              "      border-top-color: var(--fill-color);\n",
              "      border-right-color: var(--fill-color);\n",
              "    }\n",
              "    40% {\n",
              "      border-color: transparent;\n",
              "      border-right-color: var(--fill-color);\n",
              "      border-top-color: var(--fill-color);\n",
              "    }\n",
              "    60% {\n",
              "      border-color: transparent;\n",
              "      border-right-color: var(--fill-color);\n",
              "    }\n",
              "    80% {\n",
              "      border-color: transparent;\n",
              "      border-right-color: var(--fill-color);\n",
              "      border-bottom-color: var(--fill-color);\n",
              "    }\n",
              "    90% {\n",
              "      border-color: transparent;\n",
              "      border-bottom-color: var(--fill-color);\n",
              "    }\n",
              "  }\n",
              "</style>\n",
              "\n",
              "  <script>\n",
              "    async function quickchart(key) {\n",
              "      const quickchartButtonEl =\n",
              "        document.querySelector('#' + key + ' button');\n",
              "      quickchartButtonEl.disabled = true;  // To prevent multiple clicks.\n",
              "      quickchartButtonEl.classList.add('colab-df-spinner');\n",
              "      try {\n",
              "        const charts = await google.colab.kernel.invokeFunction(\n",
              "            'suggestCharts', [key], {});\n",
              "      } catch (error) {\n",
              "        console.error('Error during call to suggestCharts:', error);\n",
              "      }\n",
              "      quickchartButtonEl.classList.remove('colab-df-spinner');\n",
              "      quickchartButtonEl.classList.add('colab-df-quickchart-complete');\n",
              "    }\n",
              "    (() => {\n",
              "      let quickchartButtonEl =\n",
              "        document.querySelector('#df-91d784c2-d587-4d04-899b-0250fa8c0185 button');\n",
              "      quickchartButtonEl.style.display =\n",
              "        google.colab.kernel.accessAllowed ? 'block' : 'none';\n",
              "    })();\n",
              "  </script>\n",
              "</div>\n",
              "    </div>\n",
              "  </div>\n"
            ]
          },
          "metadata": {},
          "execution_count": 68
        }
      ]
    },
    {
      "cell_type": "code",
      "source": [
        "pd.DataFrame(y_train)['target'].value_counts()"
      ],
      "metadata": {
        "colab": {
          "base_uri": "https://localhost:8080/"
        },
        "id": "7ha0feP7aOoW",
        "outputId": "1742b5cc-9669-4d3f-9453-ddaa2cdef738"
      },
      "execution_count": 55,
      "outputs": [
        {
          "output_type": "execute_result",
          "data": {
            "text/plain": [
              "1    4957\n",
              "0    3043\n",
              "Name: target, dtype: int64"
            ]
          },
          "metadata": {},
          "execution_count": 55
        }
      ]
    },
    {
      "cell_type": "code",
      "source": [
        "pd.DataFrame(y_test)['target'].value_counts()"
      ],
      "metadata": {
        "colab": {
          "base_uri": "https://localhost:8080/"
        },
        "id": "jvIhVOixaXKg",
        "outputId": "ccc346a7-a31f-4f6a-98d6-a9602302cd76"
      },
      "execution_count": 56,
      "outputs": [
        {
          "output_type": "execute_result",
          "data": {
            "text/plain": [
              "1    1242\n",
              "0     758\n",
              "Name: target, dtype: int64"
            ]
          },
          "metadata": {},
          "execution_count": 56
        }
      ]
    },
    {
      "cell_type": "markdown",
      "source": [
        "## knn"
      ],
      "metadata": {
        "id": "0UvAtTqoTb-8"
      }
    },
    {
      "cell_type": "code",
      "source": [
        "# 목적 함수 정의\n",
        "\n",
        "# 랜덤 시드 고정\n",
        "np.random.seed(42)\n",
        "optuna.logging.set_verbosity(optuna.logging.WARNING)\n",
        "\n",
        "def obj_knn(trial,x,y):\n",
        "    n_neighbors = trial.suggest_int('n_neighbors', 1, 30)\n",
        "    metric = trial.suggest_categorical('metric', ['euclidean', 'manhattan', 'minkowski'])\n",
        "    weights = trial.suggest_categorical('weights', ['uniform', 'distance'])\n",
        "\n",
        "    model = KNeighborsClassifier(n_neighbors=n_neighbors, metric=metric, weights=weights)\n",
        "    score = cross_val_score(model, x, y, n_jobs=-1, cv=10, scoring='f1_macro')\n",
        "    f1_macro = np.mean(score)\n",
        "\n",
        "    return f1_macro\n",
        "\n",
        "# Optuna 최적화 실행\n",
        "study = optuna.create_study(direction='maximize', sampler=optuna.samplers.TPESampler(seed=42))\n",
        "# lambda 함수를 사용하여 x와 y를 objective 함수에 전달\n",
        "study.optimize(lambda trial: obj_knn(trial, x_train, y_train), n_trials = 100)\n",
        "\n",
        "\n",
        "# 최적 파라미터 출력\n",
        "print(\"Best trial:\")\n",
        "trial = study.best_trial\n",
        "print(\"  Value: {}\".format(trial.value))\n",
        "print(\"  Params: \")\n",
        "for key, value in trial.params.items():\n",
        "    print(\"    {}: {}\".format(key, value))\n",
        "\n",
        "# 최적 파라미터로 모델 학습\n",
        "best_params = study.best_trial.params\n",
        "knn_model = KNeighborsClassifier(**best_params)"
      ],
      "metadata": {
        "colab": {
          "base_uri": "https://localhost:8080/"
        },
        "id": "LN2xi9ipTWh4",
        "outputId": "baaaeabe-aa1b-4cc9-b645-b0e42fa979e7"
      },
      "execution_count": 42,
      "outputs": [
        {
          "output_type": "stream",
          "name": "stdout",
          "text": [
            "Best trial:\n",
            "  Value: 0.52075703729583\n",
            "  Params: \n",
            "    n_neighbors: 11\n",
            "    metric: manhattan\n",
            "    weights: distance\n"
          ]
        }
      ]
    },
    {
      "cell_type": "code",
      "source": [
        "knn_model.fit(x_train, y_train)\n",
        "y_test_pred = knn_model.predict(x_test)\n",
        "f1_score(y_test, y_test_pred, average = 'macro')"
      ],
      "metadata": {
        "colab": {
          "base_uri": "https://localhost:8080/"
        },
        "id": "j6KetnM-UKjA",
        "outputId": "e6772052-74ce-48d1-a884-bc1e3cf5a2a6"
      },
      "execution_count": 43,
      "outputs": [
        {
          "output_type": "execute_result",
          "data": {
            "text/plain": [
              "0.5120618261321008"
            ]
          },
          "metadata": {},
          "execution_count": 43
        }
      ]
    },
    {
      "cell_type": "code",
      "source": [
        "# 혼동행렬\n",
        "\n",
        "\n",
        "\n",
        "from sklearn.metrics import confusion_matrix\n",
        "# 혼동 행렬 계산\n",
        "cm = confusion_matrix(y_test, y_test_pred)\n",
        "\n",
        "# 혼동 행렬 시각화\n",
        "plt.figure(figsize=(10, 7))\n",
        "sns.heatmap(cm, annot=True, fmt='g')\n",
        "plt.xlabel('Predicted')\n",
        "plt.ylabel('True')\n",
        "plt.show()"
      ],
      "metadata": {
        "colab": {
          "base_uri": "https://localhost:8080/",
          "height": 1000
        },
        "id": "_ftaonNAUoqp",
        "outputId": "587bdff1-9820-4da6-b49d-dc3083f2699a"
      },
      "execution_count": 44,
      "outputs": [
        {
          "output_type": "stream",
          "name": "stderr",
          "text": [
            "WARNING:matplotlib.font_manager:findfont: Font family 'AppleGothic' not found.\n",
            "WARNING:matplotlib.font_manager:findfont: Font family 'AppleGothic' not found.\n",
            "WARNING:matplotlib.font_manager:findfont: Font family 'AppleGothic' not found.\n",
            "WARNING:matplotlib.font_manager:findfont: Font family 'AppleGothic' not found.\n",
            "WARNING:matplotlib.font_manager:findfont: Font family 'AppleGothic' not found.\n",
            "WARNING:matplotlib.font_manager:findfont: Font family 'AppleGothic' not found.\n",
            "WARNING:matplotlib.font_manager:findfont: Font family 'AppleGothic' not found.\n",
            "WARNING:matplotlib.font_manager:findfont: Font family 'AppleGothic' not found.\n",
            "WARNING:matplotlib.font_manager:findfont: Font family 'AppleGothic' not found.\n",
            "WARNING:matplotlib.font_manager:findfont: Font family 'AppleGothic' not found.\n",
            "WARNING:matplotlib.font_manager:findfont: Font family 'AppleGothic' not found.\n",
            "WARNING:matplotlib.font_manager:findfont: Font family 'AppleGothic' not found.\n",
            "WARNING:matplotlib.font_manager:findfont: Font family 'AppleGothic' not found.\n",
            "WARNING:matplotlib.font_manager:findfont: Font family 'AppleGothic' not found.\n",
            "WARNING:matplotlib.font_manager:findfont: Font family 'AppleGothic' not found.\n",
            "WARNING:matplotlib.font_manager:findfont: Font family 'AppleGothic' not found.\n",
            "WARNING:matplotlib.font_manager:findfont: Font family 'AppleGothic' not found.\n",
            "WARNING:matplotlib.font_manager:findfont: Font family 'AppleGothic' not found.\n",
            "WARNING:matplotlib.font_manager:findfont: Font family 'AppleGothic' not found.\n",
            "WARNING:matplotlib.font_manager:findfont: Font family 'AppleGothic' not found.\n",
            "WARNING:matplotlib.font_manager:findfont: Font family 'AppleGothic' not found.\n",
            "WARNING:matplotlib.font_manager:findfont: Font family 'AppleGothic' not found.\n",
            "WARNING:matplotlib.font_manager:findfont: Font family 'AppleGothic' not found.\n",
            "WARNING:matplotlib.font_manager:findfont: Font family 'AppleGothic' not found.\n",
            "WARNING:matplotlib.font_manager:findfont: Font family 'AppleGothic' not found.\n",
            "WARNING:matplotlib.font_manager:findfont: Font family 'AppleGothic' not found.\n",
            "WARNING:matplotlib.font_manager:findfont: Font family 'AppleGothic' not found.\n",
            "WARNING:matplotlib.font_manager:findfont: Font family 'AppleGothic' not found.\n",
            "WARNING:matplotlib.font_manager:findfont: Font family 'AppleGothic' not found.\n",
            "WARNING:matplotlib.font_manager:findfont: Font family 'AppleGothic' not found.\n",
            "WARNING:matplotlib.font_manager:findfont: Font family 'AppleGothic' not found.\n",
            "WARNING:matplotlib.font_manager:findfont: Font family 'AppleGothic' not found.\n",
            "WARNING:matplotlib.font_manager:findfont: Font family 'AppleGothic' not found.\n",
            "WARNING:matplotlib.font_manager:findfont: Font family 'AppleGothic' not found.\n",
            "WARNING:matplotlib.font_manager:findfont: Font family 'AppleGothic' not found.\n",
            "WARNING:matplotlib.font_manager:findfont: Font family 'AppleGothic' not found.\n",
            "WARNING:matplotlib.font_manager:findfont: Font family 'AppleGothic' not found.\n",
            "WARNING:matplotlib.font_manager:findfont: Font family 'AppleGothic' not found.\n",
            "WARNING:matplotlib.font_manager:findfont: Font family 'AppleGothic' not found.\n",
            "WARNING:matplotlib.font_manager:findfont: Font family 'AppleGothic' not found.\n",
            "WARNING:matplotlib.font_manager:findfont: Font family 'AppleGothic' not found.\n",
            "WARNING:matplotlib.font_manager:findfont: Font family 'AppleGothic' not found.\n",
            "WARNING:matplotlib.font_manager:findfont: Font family 'AppleGothic' not found.\n",
            "WARNING:matplotlib.font_manager:findfont: Font family 'AppleGothic' not found.\n",
            "WARNING:matplotlib.font_manager:findfont: Font family 'AppleGothic' not found.\n",
            "WARNING:matplotlib.font_manager:findfont: Font family 'AppleGothic' not found.\n",
            "WARNING:matplotlib.font_manager:findfont: Font family 'AppleGothic' not found.\n",
            "WARNING:matplotlib.font_manager:findfont: Font family 'AppleGothic' not found.\n",
            "WARNING:matplotlib.font_manager:findfont: Font family 'AppleGothic' not found.\n",
            "WARNING:matplotlib.font_manager:findfont: Font family 'AppleGothic' not found.\n",
            "WARNING:matplotlib.font_manager:findfont: Font family 'AppleGothic' not found.\n",
            "WARNING:matplotlib.font_manager:findfont: Font family 'AppleGothic' not found.\n",
            "WARNING:matplotlib.font_manager:findfont: Font family 'AppleGothic' not found.\n",
            "WARNING:matplotlib.font_manager:findfont: Font family 'AppleGothic' not found.\n",
            "WARNING:matplotlib.font_manager:findfont: Font family 'AppleGothic' not found.\n",
            "WARNING:matplotlib.font_manager:findfont: Font family 'AppleGothic' not found.\n"
          ]
        },
        {
          "output_type": "display_data",
          "data": {
            "text/plain": [
              "<Figure size 1000x700 with 2 Axes>"
            ],
            "image/png": "[encoded data removed]"
          },
          "metadata": {}
        }
      ]
    },
    {
      "cell_type": "code",
      "source": [
        "from sklearn.metrics import classification_report\n",
        "\n",
        "# 클래스별 성능 지표 출력\n",
        "print(classification_report(y_test, y_test_pred))"
      ],
      "metadata": {
        "colab": {
          "base_uri": "https://localhost:8080/"
        },
        "id": "IS_yicWOUsvA",
        "outputId": "e2273f30-8844-4262-ff8b-4198cd775552"
      },
      "execution_count": 45,
      "outputs": [
        {
          "output_type": "stream",
          "name": "stdout",
          "text": [
            "              precision    recall  f1-score   support\n",
            "\n",
            "           0       0.40      0.33      0.36       758\n",
            "           1       0.63      0.70      0.66      1242\n",
            "\n",
            "    accuracy                           0.56      2000\n",
            "   macro avg       0.52      0.51      0.51      2000\n",
            "weighted avg       0.54      0.56      0.55      2000\n",
            "\n"
          ]
        }
      ]
    },
    {
      "cell_type": "markdown",
      "source": [
        "# 최종 예측"
      ],
      "metadata": {
        "id": "qa9MsgS-Yeto"
      }
    },
    {
      "cell_type": "code",
      "source": [
        "y_pred = knn_model.predict(new_x)\n",
        "pd.DataFrame(y_pred)[0].value_counts()"
      ],
      "metadata": {
        "colab": {
          "base_uri": "https://localhost:8080/"
        },
        "id": "ROTObitaYgq_",
        "outputId": "f78fe076-9e9b-497a-fe66-d972e3264560"
      },
      "execution_count": 47,
      "outputs": [
        {
          "output_type": "execute_result",
          "data": {
            "text/plain": [
              "1    6914\n",
              "0    3086\n",
              "Name: 0, dtype: int64"
            ]
          },
          "metadata": {},
          "execution_count": 47
        }
      ]
    },
    {
      "cell_type": "code",
      "source": [
        "df_sub['target'] = y_pred\n",
        "df_sub.set_index('user_id').to_csv('knn_lda_label.csv',encoding = 'cp949')"
      ],
      "metadata": {
        "id": "Z6j7_DsSYuiS"
      },
      "execution_count": 37,
      "outputs": []
    }
  ]
}