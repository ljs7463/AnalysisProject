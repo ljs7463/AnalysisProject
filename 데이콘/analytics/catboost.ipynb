{
  "nbformat": 4,
  "nbformat_minor": 0,
  "metadata": {
    "colab": {
      "provenance": [],
      "toc_visible": true,
      "authorship_tag": "ABX9TyOgiT43XR+Idy2zbx0aeiav",
      "include_colab_link": true
    },
    "kernelspec": {
      "name": "python3",
      "display_name": "Python 3"
    },
    "language_info": {
      "name": "python"
    }
  },
  "cells": [
    {
      "cell_type": "markdown",
      "metadata": {
        "id": "view-in-github",
        "colab_type": "text"
      },
      "source": [
        "<a href=\"https://colab.research.google.com/github/ljs7463/AnalysisProject/blob/master/%EB%8D%B0%EC%9D%B4%EC%BD%98/analytics/catboost.ipynb\" target=\"_parent\"><img src=\"https://colab.research.google.com/assets/colab-badge.svg\" alt=\"Open In Colab\"/></a>"
      ]
    },
    {
      "cell_type": "code",
      "execution_count": 1,
      "metadata": {
        "id": "hAFe3UEEr_ss"
      },
      "outputs": [],
      "source": [
        "import pandas as pd\n",
        "import numpy as np\n",
        "\n",
        "import matplotlib.pyplot as plt\n",
        "import seaborn as sns\n",
        "import warnings\n",
        "import os\n",
        "\n",
        "# 시각화 폰트 설정\n",
        "if os.name =='posix':\n",
        "    plt.rc(\"font\", family = \"AppleGothic\")\n",
        "\n",
        "else:\n",
        "    plt.rc(\"font\", family = \"Malgun Gothic\")\n",
        "\n",
        "# 경고문자 무시\n",
        "warnings.filterwarnings(action='ignore')"
      ]
    },
    {
      "cell_type": "code",
      "source": [
        "# 코랩 실행시\n",
        "df_train = pd.read_csv('train.csv')\n",
        "df_test = pd.read_csv('test.csv')\n",
        "df_sub = pd.read_csv('sample_submission.csv')\n",
        "df_info = pd.read_csv('data_info.csv')"
      ],
      "metadata": {
        "id": "_-RuODccsAZT"
      },
      "execution_count": 2,
      "outputs": []
    },
    {
      "cell_type": "code",
      "source": [
        "## Label Encoding\n",
        "\n",
        "## train데이터\n",
        "df_train['preferred_difficulty_level'] = pd.factorize(df_train['preferred_difficulty_level'])[0]\n",
        "df_train['subscription_type'] = pd.factorize(df_train['subscription_type'])[0]\n",
        "\n",
        "## test데이터\n",
        "df_test['preferred_difficulty_level'] = pd.factorize(df_test['preferred_difficulty_level'])[0]\n",
        "df_test['subscription_type'] = pd.factorize(df_test['subscription_type'])[0]"
      ],
      "metadata": {
        "id": "sN6IQcC5sECY"
      },
      "execution_count": 3,
      "outputs": []
    },
    {
      "cell_type": "code",
      "source": [
        "from sklearn.preprocessing import StandardScaler\n",
        "scaler = StandardScaler()\n",
        "for i in [['subscription_duration','recent_login_time','average_time_per_learning_session','monthly_active_learning_days','total_completed_courses','recent_learning_achievement','abandoned_learning_sessions','community_engagement_level','customer_inquiry_history','payment_pattern']]:\n",
        "  df_train[i] = scaler.fit_transform(df_train[i])\n",
        "for i in [['subscription_duration','recent_login_time','average_time_per_learning_session','monthly_active_learning_days','total_completed_courses','recent_learning_achievement','abandoned_learning_sessions','community_engagement_level','customer_inquiry_history','payment_pattern']]:\n",
        "  df_test[i] = scaler.fit_transform(df_test[i])"
      ],
      "metadata": {
        "id": "HHiuXRvCsE68"
      },
      "execution_count": 4,
      "outputs": []
    },
    {
      "cell_type": "code",
      "source": [
        "# Delete user_id\n",
        "df_train = df_train.drop(columns = 'user_id')\n",
        "\n",
        "# split target\n",
        "x = df_train[list(df_train.columns[:-1])]\n",
        "y = df_train['target']"
      ],
      "metadata": {
        "id": "Ypy1FqPQsHl0"
      },
      "execution_count": 5,
      "outputs": []
    },
    {
      "cell_type": "code",
      "source": [
        "# Delete user_id\n",
        "df_test = df_test.drop(columns = 'user_id')\n",
        "\n",
        "# split target\n",
        "new_x = df_test\n"
      ],
      "metadata": {
        "id": "uTz4DxU0sIfI"
      },
      "execution_count": 6,
      "outputs": []
    },
    {
      "cell_type": "markdown",
      "source": [
        "# catboost(kfold5) + optuna"
      ],
      "metadata": {
        "id": "QK0sN5vd6GU2"
      }
    },
    {
      "cell_type": "code",
      "source": [
        "!pip install optuna"
      ],
      "metadata": {
        "id": "FQg0CsFmocOf",
        "outputId": "439f9058-5b33-4151-989a-f289bb10e891",
        "colab": {
          "base_uri": "https://localhost:8080/"
        }
      },
      "execution_count": 8,
      "outputs": [
        {
          "output_type": "stream",
          "name": "stdout",
          "text": [
            "Collecting optuna\n",
            "  Downloading optuna-3.4.0-py3-none-any.whl (409 kB)\n",
            "\u001b[2K     \u001b[90m━━━━━━━━━━━━━━━━━━━━━━━━━━━━━━━━━━━━━━━━\u001b[0m \u001b[32m409.6/409.6 kB\u001b[0m \u001b[31m4.7 MB/s\u001b[0m eta \u001b[36m0:00:00\u001b[0m\n",
            "\u001b[?25hCollecting alembic>=1.5.0 (from optuna)\n",
            "  Downloading alembic-1.13.0-py3-none-any.whl (230 kB)\n",
            "\u001b[2K     \u001b[90m━━━━━━━━━━━━━━━━━━━━━━━━━━━━━━━━━━━━━━━━\u001b[0m \u001b[32m230.6/230.6 kB\u001b[0m \u001b[31m20.1 MB/s\u001b[0m eta \u001b[36m0:00:00\u001b[0m\n",
            "\u001b[?25hCollecting colorlog (from optuna)\n",
            "  Downloading colorlog-6.8.0-py3-none-any.whl (11 kB)\n",
            "Requirement already satisfied: numpy in /usr/local/lib/python3.10/dist-packages (from optuna) (1.23.5)\n",
            "Requirement already satisfied: packaging>=20.0 in /usr/local/lib/python3.10/dist-packages (from optuna) (23.2)\n",
            "Requirement already satisfied: sqlalchemy>=1.3.0 in /usr/local/lib/python3.10/dist-packages (from optuna) (2.0.23)\n",
            "Requirement already satisfied: tqdm in /usr/local/lib/python3.10/dist-packages (from optuna) (4.66.1)\n",
            "Requirement already satisfied: PyYAML in /usr/local/lib/python3.10/dist-packages (from optuna) (6.0.1)\n",
            "Collecting Mako (from alembic>=1.5.0->optuna)\n",
            "  Downloading Mako-1.3.0-py3-none-any.whl (78 kB)\n",
            "\u001b[2K     \u001b[90m━━━━━━━━━━━━━━━━━━━━━━━━━━━━━━━━━━━━━━━━\u001b[0m \u001b[32m78.6/78.6 kB\u001b[0m \u001b[31m9.6 MB/s\u001b[0m eta \u001b[36m0:00:00\u001b[0m\n",
            "\u001b[?25hRequirement already satisfied: typing-extensions>=4 in /usr/local/lib/python3.10/dist-packages (from alembic>=1.5.0->optuna) (4.5.0)\n",
            "Requirement already satisfied: greenlet!=0.4.17 in /usr/local/lib/python3.10/dist-packages (from sqlalchemy>=1.3.0->optuna) (3.0.1)\n",
            "Requirement already satisfied: MarkupSafe>=0.9.2 in /usr/local/lib/python3.10/dist-packages (from Mako->alembic>=1.5.0->optuna) (2.1.3)\n",
            "Installing collected packages: Mako, colorlog, alembic, optuna\n",
            "Successfully installed Mako-1.3.0 alembic-1.13.0 colorlog-6.8.0 optuna-3.4.0\n"
          ]
        }
      ]
    },
    {
      "cell_type": "code",
      "source": [
        "!pip install catboost"
      ],
      "metadata": {
        "id": "sq7XEXJ-oiyW",
        "outputId": "d5fade52-5073-4728-c963-5b7fbc27b173",
        "colab": {
          "base_uri": "https://localhost:8080/"
        }
      },
      "execution_count": 10,
      "outputs": [
        {
          "output_type": "stream",
          "name": "stdout",
          "text": [
            "Collecting catboost\n",
            "  Downloading catboost-1.2.2-cp310-cp310-manylinux2014_x86_64.whl (98.7 MB)\n",
            "\u001b[2K     \u001b[90m━━━━━━━━━━━━━━━━━━━━━━━━━━━━━━━━━━━━━━━━\u001b[0m \u001b[32m98.7/98.7 MB\u001b[0m \u001b[31m6.6 MB/s\u001b[0m eta \u001b[36m0:00:00\u001b[0m\n",
            "\u001b[?25hRequirement already satisfied: graphviz in /usr/local/lib/python3.10/dist-packages (from catboost) (0.20.1)\n",
            "Requirement already satisfied: matplotlib in /usr/local/lib/python3.10/dist-packages (from catboost) (3.7.1)\n",
            "Requirement already satisfied: numpy>=1.16.0 in /usr/local/lib/python3.10/dist-packages (from catboost) (1.23.5)\n",
            "Requirement already satisfied: pandas>=0.24 in /usr/local/lib/python3.10/dist-packages (from catboost) (1.5.3)\n",
            "Requirement already satisfied: scipy in /usr/local/lib/python3.10/dist-packages (from catboost) (1.11.4)\n",
            "Requirement already satisfied: plotly in /usr/local/lib/python3.10/dist-packages (from catboost) (5.15.0)\n",
            "Requirement already satisfied: six in /usr/local/lib/python3.10/dist-packages (from catboost) (1.16.0)\n",
            "Requirement already satisfied: python-dateutil>=2.8.1 in /usr/local/lib/python3.10/dist-packages (from pandas>=0.24->catboost) (2.8.2)\n",
            "Requirement already satisfied: pytz>=2020.1 in /usr/local/lib/python3.10/dist-packages (from pandas>=0.24->catboost) (2023.3.post1)\n",
            "Requirement already satisfied: contourpy>=1.0.1 in /usr/local/lib/python3.10/dist-packages (from matplotlib->catboost) (1.2.0)\n",
            "Requirement already satisfied: cycler>=0.10 in /usr/local/lib/python3.10/dist-packages (from matplotlib->catboost) (0.12.1)\n",
            "Requirement already satisfied: fonttools>=4.22.0 in /usr/local/lib/python3.10/dist-packages (from matplotlib->catboost) (4.45.1)\n",
            "Requirement already satisfied: kiwisolver>=1.0.1 in /usr/local/lib/python3.10/dist-packages (from matplotlib->catboost) (1.4.5)\n",
            "Requirement already satisfied: packaging>=20.0 in /usr/local/lib/python3.10/dist-packages (from matplotlib->catboost) (23.2)\n",
            "Requirement already satisfied: pillow>=6.2.0 in /usr/local/lib/python3.10/dist-packages (from matplotlib->catboost) (9.4.0)\n",
            "Requirement already satisfied: pyparsing>=2.3.1 in /usr/local/lib/python3.10/dist-packages (from matplotlib->catboost) (3.1.1)\n",
            "Requirement already satisfied: tenacity>=6.2.0 in /usr/local/lib/python3.10/dist-packages (from plotly->catboost) (8.2.3)\n",
            "Installing collected packages: catboost\n",
            "Successfully installed catboost-1.2.2\n"
          ]
        }
      ]
    },
    {
      "cell_type": "code",
      "source": [
        "import optuna\n",
        "import numpy as np\n",
        "from catboost import CatBoostClassifier\n",
        "from sklearn.model_selection import KFold\n",
        "from sklearn.metrics import f1_score\n",
        "\n",
        "def objective(trial,x,y):\n",
        "    # Optuna가 탐색할 하이퍼파라미터의 범위 설정\n",
        "    param = {\n",
        "        'iterations': trial.suggest_int('iterations', 100, 1000),\n",
        "        'depth': trial.suggest_int('depth', 4, 10),\n",
        "        'learning_rate': trial.suggest_float('learning_rate', 0.01, 0.5),\n",
        "        'random_strength': trial.suggest_int('random_strength', 0, 100),\n",
        "        'bagging_temperature': trial.suggest_float('bagging_temperature', 0.0, 1.0),\n",
        "        'od_type': trial.suggest_categorical('od_type', ['IncToDec', 'Iter'])\n",
        "    }\n",
        "\n",
        "    # k-겹 교차 검증 설정\n",
        "    kf = KFold(n_splits=10, shuffle=True, random_state=42)\n",
        "    f1_scores = []\n",
        "\n",
        "    for train_index, test_index in kf.split(x):\n",
        "        x_train, x_test = x.iloc[train_index], x.iloc[test_index]\n",
        "        y_train, y_test = y.iloc[train_index], y.iloc[test_index]\n",
        "\n",
        "        # CatBoost 모델 생성 및 훈련\n",
        "        model = CatBoostClassifier(**param, verbose=0)\n",
        "        model.fit(x_train, y_train, eval_set=[(x_test, y_test)], early_stopping_rounds=100)\n",
        "\n",
        "        # 예측 및 F1 점수 계산\n",
        "        preds = model.predict(x_test)\n",
        "        f1 = f1_score(y_test, preds, average='macro')\n",
        "        f1_scores.append(f1)\n",
        "\n",
        "    # 평균 F1 점수 반환\n",
        "    return np.mean(f1_scores)\n",
        "\n",
        "# Optuna 스터디 생성 및 최적화 실행\n",
        "study = optuna.create_study(direction='maximize')\n",
        "# lambda 함수를 사용하여 X와 y를 objective 함수에 전달\n",
        "study.optimize(lambda trial: objective(trial, x, y), n_trials=80)\n",
        "\n",
        "# 최적 하이퍼파라미터 출력\n",
        "print('Best trial:', study.best_trial.params)"
      ],
      "metadata": {
        "colab": {
          "base_uri": "https://localhost:8080/"
        },
        "id": "dPoofDVAvsPS",
        "outputId": "92e908b6-242e-4ea6-8287-b8d6eef7e497"
      },
      "execution_count": null,
      "outputs": [
        {
          "output_type": "stream",
          "name": "stderr",
          "text": [
            "[I 2023-12-10 12:10:31,061] A new study created in memory with name: no-name-ceed2192-05ee-4ca8-9017-297967661de4\n",
            "[I 2023-12-10 12:10:57,106] Trial 0 finished with value: 0.4177375559277568 and parameters: {'iterations': 822, 'depth': 9, 'learning_rate': 0.21451699939481908, 'random_strength': 48, 'bagging_temperature': 0.4440816530409837, 'od_type': 'IncToDec'}. Best is trial 0 with value: 0.4177375559277568.\n",
            "[I 2023-12-10 12:11:21,707] Trial 1 finished with value: 0.4094256158580244 and parameters: {'iterations': 769, 'depth': 7, 'learning_rate': 0.16024201648438816, 'random_strength': 14, 'bagging_temperature': 0.005583632912911862, 'od_type': 'Iter'}. Best is trial 0 with value: 0.4177375559277568.\n",
            "[I 2023-12-10 12:11:29,215] Trial 2 finished with value: 0.390192861003879 and parameters: {'iterations': 659, 'depth': 5, 'learning_rate': 0.2600760649235853, 'random_strength': 1, 'bagging_temperature': 0.014875726990073557, 'od_type': 'Iter'}. Best is trial 0 with value: 0.4177375559277568.\n",
            "[I 2023-12-10 12:11:41,352] Trial 3 finished with value: 0.4067705923129739 and parameters: {'iterations': 905, 'depth': 5, 'learning_rate': 0.42275951831962966, 'random_strength': 71, 'bagging_temperature': 0.386720800650561, 'od_type': 'Iter'}. Best is trial 0 with value: 0.4177375559277568.\n",
            "[I 2023-12-10 12:12:15,278] Trial 4 finished with value: 0.41795830490344865 and parameters: {'iterations': 663, 'depth': 9, 'learning_rate': 0.3397920125244483, 'random_strength': 72, 'bagging_temperature': 0.568626213067293, 'od_type': 'IncToDec'}. Best is trial 4 with value: 0.41795830490344865.\n",
            "[I 2023-12-10 12:12:25,696] Trial 5 finished with value: 0.4048582265066748 and parameters: {'iterations': 542, 'depth': 7, 'learning_rate': 0.238878296565094, 'random_strength': 13, 'bagging_temperature': 0.3251206089511923, 'od_type': 'IncToDec'}. Best is trial 4 with value: 0.41795830490344865.\n",
            "[I 2023-12-10 12:12:43,620] Trial 6 finished with value: 0.40259229899796434 and parameters: {'iterations': 603, 'depth': 10, 'learning_rate': 0.3903204655256662, 'random_strength': 80, 'bagging_temperature': 0.16705955077653456, 'od_type': 'IncToDec'}. Best is trial 4 with value: 0.41795830490344865.\n",
            "[I 2023-12-10 12:13:12,363] Trial 7 finished with value: 0.4168945667249506 and parameters: {'iterations': 662, 'depth': 10, 'learning_rate': 0.19740241147621207, 'random_strength': 27, 'bagging_temperature': 0.10826698737178342, 'od_type': 'Iter'}. Best is trial 4 with value: 0.41795830490344865.\n",
            "[I 2023-12-10 12:13:19,326] Trial 8 finished with value: 0.4061388465456665 and parameters: {'iterations': 318, 'depth': 5, 'learning_rate': 0.3916153925843248, 'random_strength': 36, 'bagging_temperature': 0.7523987436488097, 'od_type': 'IncToDec'}. Best is trial 4 with value: 0.41795830490344865.\n",
            "[I 2023-12-10 12:13:25,900] Trial 9 finished with value: 0.4177023159090528 and parameters: {'iterations': 990, 'depth': 7, 'learning_rate': 0.31086501852518333, 'random_strength': 21, 'bagging_temperature': 0.7211101671363724, 'od_type': 'Iter'}. Best is trial 4 with value: 0.41795830490344865.\n",
            "[I 2023-12-10 12:13:36,981] Trial 10 finished with value: 0.3829406625242043 and parameters: {'iterations': 125, 'depth': 9, 'learning_rate': 0.05075206224949749, 'random_strength': 95, 'bagging_temperature': 0.8977844128631749, 'od_type': 'IncToDec'}. Best is trial 4 with value: 0.41795830490344865.\n",
            "[I 2023-12-10 12:13:49,985] Trial 11 finished with value: 0.39903278746091997 and parameters: {'iterations': 816, 'depth': 9, 'learning_rate': 0.4987940349104474, 'random_strength': 56, 'bagging_temperature': 0.5335591747885843, 'od_type': 'IncToDec'}. Best is trial 4 with value: 0.41795830490344865.\n",
            "[I 2023-12-10 12:13:57,180] Trial 12 finished with value: 0.3972279835335154 and parameters: {'iterations': 450, 'depth': 8, 'learning_rate': 0.31348927102148116, 'random_strength': 52, 'bagging_temperature': 0.5551710204428298, 'od_type': 'IncToDec'}. Best is trial 4 with value: 0.41795830490344865.\n",
            "[I 2023-12-10 12:14:14,232] Trial 13 finished with value: 0.4126614830509684 and parameters: {'iterations': 772, 'depth': 9, 'learning_rate': 0.1325092106560794, 'random_strength': 67, 'bagging_temperature': 0.4063170949461371, 'od_type': 'IncToDec'}. Best is trial 4 with value: 0.41795830490344865.\n",
            "[I 2023-12-10 12:14:22,150] Trial 14 finished with value: 0.3954286387408019 and parameters: {'iterations': 431, 'depth': 8, 'learning_rate': 0.30211081307796805, 'random_strength': 40, 'bagging_temperature': 0.6166900569032491, 'od_type': 'IncToDec'}. Best is trial 4 with value: 0.41795830490344865.\n",
            "[I 2023-12-10 12:14:37,228] Trial 15 finished with value: 0.4069695071662883 and parameters: {'iterations': 876, 'depth': 8, 'learning_rate': 0.09205914264789042, 'random_strength': 90, 'bagging_temperature': 0.27097024667732694, 'od_type': 'IncToDec'}. Best is trial 4 with value: 0.41795830490344865.\n",
            "[I 2023-12-10 12:14:57,439] Trial 16 finished with value: 0.4026688714914706 and parameters: {'iterations': 704, 'depth': 10, 'learning_rate': 0.2026949752558073, 'random_strength': 63, 'bagging_temperature': 0.47794976734931577, 'od_type': 'IncToDec'}. Best is trial 4 with value: 0.41795830490344865.\n",
            "[I 2023-12-10 12:15:16,665] Trial 17 finished with value: 0.3862959822146244 and parameters: {'iterations': 977, 'depth': 6, 'learning_rate': 0.03882879745696291, 'random_strength': 79, 'bagging_temperature': 0.6420106486454306, 'od_type': 'IncToDec'}. Best is trial 4 with value: 0.41795830490344865.\n",
            "[I 2023-12-10 12:15:24,441] Trial 18 finished with value: 0.38336184543970064 and parameters: {'iterations': 531, 'depth': 4, 'learning_rate': 0.12911480995400892, 'random_strength': 42, 'bagging_temperature': 0.45101809437649976, 'od_type': 'IncToDec'}. Best is trial 4 with value: 0.41795830490344865.\n",
            "[I 2023-12-10 12:15:38,146] Trial 19 finished with value: 0.41826210717459134 and parameters: {'iterations': 285, 'depth': 9, 'learning_rate': 0.24656945208480663, 'random_strength': 56, 'bagging_temperature': 0.9857152155190859, 'od_type': 'IncToDec'}. Best is trial 19 with value: 0.41826210717459134.\n",
            "[I 2023-12-10 12:15:46,684] Trial 20 finished with value: 0.3953816891779902 and parameters: {'iterations': 209, 'depth': 8, 'learning_rate': 0.28110039916793955, 'random_strength': 82, 'bagging_temperature': 0.9832408179180354, 'od_type': 'IncToDec'}. Best is trial 19 with value: 0.41826210717459134.\n",
            "[I 2023-12-10 12:15:59,756] Trial 21 finished with value: 0.40711261331649695 and parameters: {'iterations': 318, 'depth': 9, 'learning_rate': 0.2155156657637424, 'random_strength': 58, 'bagging_temperature': 0.8079090243099195, 'od_type': 'IncToDec'}. Best is trial 19 with value: 0.41826210717459134.\n",
            "[I 2023-12-10 12:16:12,625] Trial 22 finished with value: 0.4125993994326243 and parameters: {'iterations': 412, 'depth': 9, 'learning_rate': 0.2662198766243857, 'random_strength': 45, 'bagging_temperature': 0.85367017407766, 'od_type': 'IncToDec'}. Best is trial 19 with value: 0.41826210717459134.\n",
            "[I 2023-12-10 12:16:31,044] Trial 23 finished with value: 0.40054246166533203 and parameters: {'iterations': 244, 'depth': 10, 'learning_rate': 0.34253470311419265, 'random_strength': 70, 'bagging_temperature': 0.9709417368205536, 'od_type': 'IncToDec'}. Best is trial 19 with value: 0.41826210717459134.\n",
            "[I 2023-12-10 12:16:38,737] Trial 24 finished with value: 0.4241344242597558 and parameters: {'iterations': 105, 'depth': 8, 'learning_rate': 0.23438844646501122, 'random_strength': 50, 'bagging_temperature': 0.6228536300288718, 'od_type': 'IncToDec'}. Best is trial 24 with value: 0.4241344242597558.\n",
            "[I 2023-12-10 12:16:46,893] Trial 25 finished with value: 0.4284634106501157 and parameters: {'iterations': 182, 'depth': 8, 'learning_rate': 0.26614879650117285, 'random_strength': 60, 'bagging_temperature': 0.6968340933203355, 'od_type': 'IncToDec'}. Best is trial 25 with value: 0.4284634106501157.\n",
            "[I 2023-12-10 12:16:55,222] Trial 26 finished with value: 0.42522869554703135 and parameters: {'iterations': 117, 'depth': 8, 'learning_rate': 0.2399566375481693, 'random_strength': 29, 'bagging_temperature': 0.7283068686210761, 'od_type': 'Iter'}. Best is trial 25 with value: 0.4284634106501157.\n",
            "[I 2023-12-10 12:16:59,167] Trial 27 finished with value: 0.3911848275059409 and parameters: {'iterations': 123, 'depth': 6, 'learning_rate': 0.1851433633617795, 'random_strength': 31, 'bagging_temperature': 0.7098879913913113, 'od_type': 'Iter'}. Best is trial 25 with value: 0.4284634106501157.\n",
            "[I 2023-12-10 12:17:09,679] Trial 28 finished with value: 0.4228070062265335 and parameters: {'iterations': 191, 'depth': 8, 'learning_rate': 0.2351343192475562, 'random_strength': 34, 'bagging_temperature': 0.6505704640156049, 'od_type': 'Iter'}. Best is trial 25 with value: 0.4284634106501157.\n",
            "[I 2023-12-10 12:17:13,018] Trial 29 finished with value: 0.40053575263296537 and parameters: {'iterations': 105, 'depth': 6, 'learning_rate': 0.21776079583739433, 'random_strength': 48, 'bagging_temperature': 0.7865213495947098, 'od_type': 'Iter'}. Best is trial 25 with value: 0.4284634106501157.\n",
            "[I 2023-12-10 12:17:22,209] Trial 30 finished with value: 0.4052994953268552 and parameters: {'iterations': 167, 'depth': 7, 'learning_rate': 0.17366261034164793, 'random_strength': 23, 'bagging_temperature': 0.6871118332876978, 'od_type': 'Iter'}. Best is trial 25 with value: 0.4284634106501157.\n",
            "[I 2023-12-10 12:17:30,426] Trial 31 finished with value: 0.41875079991719605 and parameters: {'iterations': 195, 'depth': 8, 'learning_rate': 0.23781904355601707, 'random_strength': 35, 'bagging_temperature': 0.6410442753133221, 'od_type': 'Iter'}. Best is trial 25 with value: 0.4284634106501157.\n",
            "[I 2023-12-10 12:17:39,906] Trial 32 finished with value: 0.3961757166635868 and parameters: {'iterations': 260, 'depth': 8, 'learning_rate': 0.2760676612325273, 'random_strength': 11, 'bagging_temperature': 0.6856305501036776, 'od_type': 'Iter'}. Best is trial 25 with value: 0.4284634106501157.\n",
            "[I 2023-12-10 12:17:47,954] Trial 33 finished with value: 0.4173343669742729 and parameters: {'iterations': 169, 'depth': 7, 'learning_rate': 0.23090960427276438, 'random_strength': 50, 'bagging_temperature': 0.578501315957064, 'od_type': 'Iter'}. Best is trial 25 with value: 0.4284634106501157.\n",
            "[I 2023-12-10 12:17:56,766] Trial 34 finished with value: 0.39657978823001516 and parameters: {'iterations': 366, 'depth': 8, 'learning_rate': 0.163986276512788, 'random_strength': 19, 'bagging_temperature': 0.7653089956475182, 'od_type': 'Iter'}. Best is trial 25 with value: 0.4284634106501157.\n",
            "[I 2023-12-10 12:18:06,335] Trial 35 finished with value: 0.40539170984543704 and parameters: {'iterations': 219, 'depth': 8, 'learning_rate': 0.25126682015926355, 'random_strength': 0, 'bagging_temperature': 0.5045163087583406, 'od_type': 'Iter'}. Best is trial 25 with value: 0.4284634106501157.\n",
            "[I 2023-12-10 12:18:12,529] Trial 36 finished with value: 0.4119046294778516 and parameters: {'iterations': 159, 'depth': 7, 'learning_rate': 0.20706962289204034, 'random_strength': 30, 'bagging_temperature': 0.6143614555626175, 'od_type': 'Iter'}. Best is trial 25 with value: 0.4284634106501157.\n",
            "[I 2023-12-10 12:18:19,281] Trial 37 finished with value: 0.41503082785231166 and parameters: {'iterations': 112, 'depth': 7, 'learning_rate': 0.25773880662321025, 'random_strength': 36, 'bagging_temperature': 0.6780580481525919, 'od_type': 'Iter'}. Best is trial 25 with value: 0.4284634106501157.\n",
            "[I 2023-12-10 12:18:27,017] Trial 38 finished with value: 0.38808048304236553 and parameters: {'iterations': 350, 'depth': 8, 'learning_rate': 0.18247069094514243, 'random_strength': 8, 'bagging_temperature': 0.5765307178743071, 'od_type': 'Iter'}. Best is trial 25 with value: 0.4284634106501157.\n",
            "[I 2023-12-10 12:18:36,397] Trial 39 finished with value: 0.43481790022645084 and parameters: {'iterations': 488, 'depth': 7, 'learning_rate': 0.2870592202871365, 'random_strength': 62, 'bagging_temperature': 0.7353039707135439, 'od_type': 'Iter'}. Best is trial 39 with value: 0.43481790022645084.\n",
            "[I 2023-12-10 12:18:45,149] Trial 40 finished with value: 0.43274134211792603 and parameters: {'iterations': 507, 'depth': 7, 'learning_rate': 0.2947887207146214, 'random_strength': 61, 'bagging_temperature': 0.7360517481474578, 'od_type': 'Iter'}. Best is trial 39 with value: 0.43481790022645084.\n",
            "[I 2023-12-10 12:18:50,820] Trial 41 finished with value: 0.39692349069341676 and parameters: {'iterations': 473, 'depth': 6, 'learning_rate': 0.2912784566631543, 'random_strength': 63, 'bagging_temperature': 0.7507520350989366, 'od_type': 'Iter'}. Best is trial 39 with value: 0.43481790022645084.\n",
            "[I 2023-12-10 12:18:59,139] Trial 42 finished with value: 0.4293679772207284 and parameters: {'iterations': 595, 'depth': 7, 'learning_rate': 0.33047204598407504, 'random_strength': 75, 'bagging_temperature': 0.8116180407872291, 'od_type': 'Iter'}. Best is trial 39 with value: 0.43481790022645084.\n",
            "[I 2023-12-10 12:19:04,775] Trial 43 finished with value: 0.3894892251201756 and parameters: {'iterations': 617, 'depth': 6, 'learning_rate': 0.3316255402817788, 'random_strength': 75, 'bagging_temperature': 0.8253024355593649, 'od_type': 'Iter'}. Best is trial 39 with value: 0.43481790022645084.\n",
            "[I 2023-12-10 12:19:13,670] Trial 44 finished with value: 0.4336227053707569 and parameters: {'iterations': 517, 'depth': 7, 'learning_rate': 0.28675722650820634, 'random_strength': 61, 'bagging_temperature': 0.8551927578588636, 'od_type': 'Iter'}. Best is trial 39 with value: 0.43481790022645084.\n",
            "[I 2023-12-10 12:19:20,597] Trial 45 finished with value: 0.4217629173597158 and parameters: {'iterations': 501, 'depth': 7, 'learning_rate': 0.35496736065108275, 'random_strength': 62, 'bagging_temperature': 0.8694730160580674, 'od_type': 'Iter'}. Best is trial 39 with value: 0.43481790022645084.\n",
            "[I 2023-12-10 12:19:29,658] Trial 46 finished with value: 0.4298715000378756 and parameters: {'iterations': 585, 'depth': 7, 'learning_rate': 0.2994954622510639, 'random_strength': 86, 'bagging_temperature': 0.790243917435957, 'od_type': 'Iter'}. Best is trial 39 with value: 0.43481790022645084.\n",
            "[I 2023-12-10 12:19:35,142] Trial 47 finished with value: 0.4046158053996236 and parameters: {'iterations': 584, 'depth': 6, 'learning_rate': 0.3112262795516788, 'random_strength': 87, 'bagging_temperature': 0.9074486866841219, 'od_type': 'Iter'}. Best is trial 39 with value: 0.43481790022645084.\n",
            "[I 2023-12-10 12:19:44,577] Trial 48 finished with value: 0.4330917662052176 and parameters: {'iterations': 550, 'depth': 7, 'learning_rate': 0.2926116610925904, 'random_strength': 98, 'bagging_temperature': 0.8201943551064467, 'od_type': 'Iter'}. Best is trial 39 with value: 0.43481790022645084.\n",
            "[I 2023-12-10 12:19:51,757] Trial 49 finished with value: 0.42664269961982876 and parameters: {'iterations': 553, 'depth': 7, 'learning_rate': 0.2908641498887467, 'random_strength': 99, 'bagging_temperature': 0.7701966712333874, 'od_type': 'Iter'}. Best is trial 39 with value: 0.43481790022645084.\n",
            "[I 2023-12-10 12:19:58,872] Trial 50 finished with value: 0.4022243063066365 and parameters: {'iterations': 639, 'depth': 5, 'learning_rate': 0.35860875477627685, 'random_strength': 100, 'bagging_temperature': 0.919837370619744, 'od_type': 'Iter'}. Best is trial 39 with value: 0.43481790022645084.\n",
            "[I 2023-12-10 12:20:05,827] Trial 51 finished with value: 0.4325673418288389 and parameters: {'iterations': 560, 'depth': 7, 'learning_rate': 0.3211235297699867, 'random_strength': 87, 'bagging_temperature': 0.8296136659717246, 'od_type': 'Iter'}. Best is trial 39 with value: 0.43481790022645084.\n",
            "[I 2023-12-10 12:20:15,303] Trial 52 finished with value: 0.43995125755619646 and parameters: {'iterations': 715, 'depth': 7, 'learning_rate': 0.30042289988237286, 'random_strength': 92, 'bagging_temperature': 0.8601860664996854, 'od_type': 'Iter'}. Best is trial 52 with value: 0.43995125755619646.\n",
            "[I 2023-12-10 12:20:22,489] Trial 53 finished with value: 0.4329484725863663 and parameters: {'iterations': 504, 'depth': 7, 'learning_rate': 0.3148884165287015, 'random_strength': 90, 'bagging_temperature': 0.8435757070488753, 'od_type': 'Iter'}. Best is trial 52 with value: 0.43995125755619646.\n",
            "[I 2023-12-10 12:20:29,865] Trial 54 finished with value: 0.39846950542488546 and parameters: {'iterations': 701, 'depth': 6, 'learning_rate': 0.30285978061744645, 'random_strength': 93, 'bagging_temperature': 0.8565854361811193, 'od_type': 'Iter'}. Best is trial 52 with value: 0.43995125755619646.\n",
            "[I 2023-12-10 12:20:38,368] Trial 55 finished with value: 0.4408159114943511 and parameters: {'iterations': 513, 'depth': 7, 'learning_rate': 0.2774535753553049, 'random_strength': 94, 'bagging_temperature': 0.8817062763584127, 'od_type': 'Iter'}. Best is trial 55 with value: 0.4408159114943511.\n",
            "[I 2023-12-10 12:20:47,267] Trial 56 finished with value: 0.4382989501311494 and parameters: {'iterations': 456, 'depth': 7, 'learning_rate': 0.2756414680597133, 'random_strength': 95, 'bagging_temperature': 0.9364177817436993, 'od_type': 'Iter'}. Best is trial 55 with value: 0.4408159114943511.\n",
            "[I 2023-12-10 12:20:54,238] Trial 57 finished with value: 0.39495763708877524 and parameters: {'iterations': 393, 'depth': 6, 'learning_rate': 0.2759152385612686, 'random_strength': 97, 'bagging_temperature': 0.9359437894800265, 'od_type': 'Iter'}. Best is trial 55 with value: 0.4408159114943511.\n",
            "[I 2023-12-10 12:21:02,405] Trial 58 finished with value: 0.43906011717963295 and parameters: {'iterations': 468, 'depth': 7, 'learning_rate': 0.26754193729638276, 'random_strength': 92, 'bagging_temperature': 0.8844419431830758, 'od_type': 'Iter'}. Best is trial 55 with value: 0.4408159114943511.\n",
            "[I 2023-12-10 12:21:10,293] Trial 59 finished with value: 0.401037233012861 and parameters: {'iterations': 444, 'depth': 5, 'learning_rate': 0.2596443620103571, 'random_strength': 82, 'bagging_temperature': 0.8897328971693275, 'od_type': 'Iter'}. Best is trial 55 with value: 0.4408159114943511.\n",
            "[I 2023-12-10 12:21:17,805] Trial 60 finished with value: 0.43193555266898287 and parameters: {'iterations': 466, 'depth': 7, 'learning_rate': 0.2850781745962068, 'random_strength': 93, 'bagging_temperature': 0.9458538432788575, 'od_type': 'Iter'}. Best is trial 55 with value: 0.4408159114943511.\n",
            "[I 2023-12-10 12:21:28,311] Trial 61 finished with value: 0.4375185208907536 and parameters: {'iterations': 529, 'depth': 7, 'learning_rate': 0.2653236670784315, 'random_strength': 95, 'bagging_temperature': 0.8785890420285852, 'od_type': 'Iter'}. Best is trial 55 with value: 0.4408159114943511.\n",
            "[I 2023-12-10 12:21:33,772] Trial 62 finished with value: 0.39945556181965386 and parameters: {'iterations': 413, 'depth': 6, 'learning_rate': 0.2691664939911743, 'random_strength': 94, 'bagging_temperature': 0.8840715050617761, 'od_type': 'Iter'}. Best is trial 55 with value: 0.4408159114943511.\n"
          ]
        }
      ]
    },
    {
      "cell_type": "code",
      "source": [
        "# Optuna 스터디에서 최적의 하이퍼파라미터 가져오기\n",
        "best_params = study.best_trial.params\n",
        "\n",
        "# 최적의 하이퍼파라미터를 사용하여 CatBoost 모델 초기화\n",
        "final_model = CatBoostClassifier(**best_params, verbose=0)\n",
        "x_train, x_test, y_train, y_test = train_test_split(x, y, test_size = 0.2, random_state = 42)\n",
        "# 전체 훈련 데이터셋을 사용하여 최종 모델 훈련\n",
        "final_model.fit(x_train, y_train)\n",
        "\n",
        "# 테스트 데이터셋에 대한 예측 수행\n",
        "y_test_pred = final_model.predict(x_test)\n",
        "\n"
      ],
      "metadata": {
        "id": "JR_tzScHwCJ_"
      },
      "execution_count": null,
      "outputs": []
    },
    {
      "cell_type": "code",
      "source": [
        "# 혼동행렬\n",
        "from sklearn.metrics import confusion_matrix\n",
        "# 혼동 행렬 계산\n",
        "cm = confusion_matrix(y_test, y_test_pred)\n",
        "\n",
        "# 혼동 행렬 시각화\n",
        "plt.figure(figsize=(10, 7))\n",
        "sns.heatmap(cm, annot=True, fmt='g')\n",
        "plt.xlabel('Predicted')\n",
        "plt.ylabel('True')\n",
        "plt.show()\n",
        "\n",
        "# 클래스별 성능 지표 출력\n",
        "from sklearn.metrics import classification_report\n",
        "print(classification_report(y_test, y_test_pred))"
      ],
      "metadata": {
        "id": "2pHbHUGPo73H"
      },
      "execution_count": null,
      "outputs": []
    },
    {
      "cell_type": "code",
      "source": [
        "\n",
        "predictions = final_model.predict(new_x)\n",
        "# 예측값 저장\n",
        "df_sub['target'] = predictions\n",
        "df_sub.set_index('user_id').to_csv('csv.csv', encoding=\"cp949\")"
      ],
      "metadata": {
        "id": "JrLmL93x1gaz"
      },
      "execution_count": null,
      "outputs": []
    },
    {
      "cell_type": "markdown",
      "source": [
        "# catboost(층화추출 fold 10,) + optuna(TPE (Tree-structured Parzen Estimator) 알고리즘)"
      ],
      "metadata": {
        "id": "knSpuuho6PD8"
      }
    },
    {
      "cell_type": "code",
      "source": [
        "#################### 층화추출 ###################\n",
        "\n",
        "\n",
        "import optuna\n",
        "import numpy as np\n",
        "from catboost import CatBoostClassifier\n",
        "from sklearn.model_selection import StratifiedKFold\n",
        "from sklearn.metrics import f1_score\n",
        "\n",
        "def objective(trial,x,y):\n",
        "    # Optuna가 탐색할 하이퍼파라미터의 범위 설정\n",
        "    param = {\n",
        "        'iterations': trial.suggest_int('iterations', 100, 1000),\n",
        "        'depth': trial.suggest_int('depth', 4, 10),\n",
        "        'learning_rate': trial.suggest_float('learning_rate', 0.01, 0.5),\n",
        "        'random_strength': trial.suggest_int('random_strength', 0, 100),\n",
        "        'bagging_temperature': trial.suggest_float('bagging_temperature', 0.0, 1.0),\n",
        "        'od_type': trial.suggest_categorical('od_type', ['IncToDec', 'Iter'])\n",
        "    }\n",
        "\n",
        "    # k-겹 교차 검증 설정\n",
        "    kf = StratifiedKFold(n_splits=10, shuffle=True, random_state=42)\n",
        "    f1_scores = []\n",
        "\n",
        "    for train_index, test_index in kf.split(x, y):\n",
        "        x_train, x_test = x.iloc[train_index], x.iloc[test_index]\n",
        "        y_train, y_test = y.iloc[train_index], y.iloc[test_index]\n",
        "\n",
        "        # CatBoost 모델 생성 및 훈련\n",
        "        model = CatBoostClassifier(**param, verbose=0)\n",
        "        model.fit(x_train, y_train, eval_set=[(x_test, y_test)], early_stopping_rounds=100)\n",
        "\n",
        "        # 예측 및 F1 점수 계산\n",
        "        preds = model.predict(x_test)\n",
        "        f1 = f1_score(y_test, preds, average='macro')\n",
        "        f1_scores.append(f1)\n",
        "\n",
        "    # 평균 F1 점수 반환\n",
        "    return np.mean(f1_scores)\n",
        "\n",
        "# Optuna 스터디 생성 및 최적화 실행\n",
        "study = optuna.create_study(direction='maximize')\n",
        "# lambda 함수를 사용하여 X와 y를 objective 함수에 전달\n",
        "study.optimize(lambda trial: objective(trial, x, y), n_trials=100)\n",
        "\n",
        "# 최적 하이퍼파라미터 출력\n",
        "print('Best trial:', study.best_trial.params)"
      ],
      "metadata": {
        "colab": {
          "base_uri": "https://localhost:8080/"
        },
        "id": "R_FlSTlN3WEm",
        "outputId": "305ecd8f-8556-43bc-c6f7-43071e8201a9"
      },
      "execution_count": null,
      "outputs": [
        {
          "output_type": "stream",
          "name": "stderr",
          "text": [
            "[I 2023-12-02 14:14:23,840] A new study created in memory with name: no-name-6c178284-4ce9-467d-bd13-d093661c2bc7\n",
            "[I 2023-12-02 14:14:31,588] Trial 0 finished with value: 0.4005931304346049 and parameters: {'iterations': 215, 'depth': 8, 'learning_rate': 0.3487332129584561, 'random_strength': 44, 'bagging_temperature': 0.36347184396557497, 'od_type': 'IncToDec'}. Best is trial 0 with value: 0.4005931304346049.\n",
            "[I 2023-12-02 14:14:39,510] Trial 1 finished with value: 0.4360993733763482 and parameters: {'iterations': 123, 'depth': 7, 'learning_rate': 0.48305654563930106, 'random_strength': 53, 'bagging_temperature': 0.6769223532929799, 'od_type': 'Iter'}. Best is trial 1 with value: 0.4360993733763482.\n",
            "[I 2023-12-02 14:14:48,385] Trial 2 finished with value: 0.38806786990905134 and parameters: {'iterations': 238, 'depth': 5, 'learning_rate': 0.0890594390678084, 'random_strength': 21, 'bagging_temperature': 0.788444755421977, 'od_type': 'Iter'}. Best is trial 1 with value: 0.4360993733763482.\n",
            "[I 2023-12-02 14:14:59,005] Trial 3 finished with value: 0.40217523071425976 and parameters: {'iterations': 599, 'depth': 8, 'learning_rate': 0.4050404487516247, 'random_strength': 19, 'bagging_temperature': 0.8429376688958663, 'od_type': 'IncToDec'}. Best is trial 1 with value: 0.4360993733763482.\n",
            "[I 2023-12-02 14:15:13,087] Trial 4 finished with value: 0.4234563260640975 and parameters: {'iterations': 622, 'depth': 9, 'learning_rate': 0.3671648307597216, 'random_strength': 64, 'bagging_temperature': 0.8736133456278191, 'od_type': 'Iter'}. Best is trial 1 with value: 0.4360993733763482.\n",
            "[I 2023-12-02 14:15:24,368] Trial 5 finished with value: 0.4231184858324462 and parameters: {'iterations': 940, 'depth': 8, 'learning_rate': 0.18954472839905695, 'random_strength': 96, 'bagging_temperature': 0.034466486569991184, 'od_type': 'Iter'}. Best is trial 1 with value: 0.4360993733763482.\n",
            "[I 2023-12-02 14:15:30,850] Trial 6 finished with value: 0.4070271581107402 and parameters: {'iterations': 625, 'depth': 5, 'learning_rate': 0.43325110318652166, 'random_strength': 13, 'bagging_temperature': 0.08196508292391957, 'od_type': 'IncToDec'}. Best is trial 1 with value: 0.4360993733763482.\n",
            "[I 2023-12-02 14:15:54,160] Trial 7 finished with value: 0.38553469187422784 and parameters: {'iterations': 439, 'depth': 7, 'learning_rate': 0.023716557424103342, 'random_strength': 56, 'bagging_temperature': 0.934290939408553, 'od_type': 'Iter'}. Best is trial 1 with value: 0.4360993733763482.\n",
            "[I 2023-12-02 14:16:02,161] Trial 8 finished with value: 0.40133366235666035 and parameters: {'iterations': 416, 'depth': 5, 'learning_rate': 0.3606746167302965, 'random_strength': 54, 'bagging_temperature': 0.42642659037352715, 'od_type': 'IncToDec'}. Best is trial 1 with value: 0.4360993733763482.\n",
            "[I 2023-12-02 14:16:20,001] Trial 9 finished with value: 0.4105258167718798 and parameters: {'iterations': 268, 'depth': 8, 'learning_rate': 0.07706869479902115, 'random_strength': 86, 'bagging_temperature': 0.3813281040742377, 'od_type': 'IncToDec'}. Best is trial 1 with value: 0.4360993733763482.\n",
            "[I 2023-12-02 14:16:38,627] Trial 10 finished with value: 0.4265335615896298 and parameters: {'iterations': 113, 'depth': 10, 'learning_rate': 0.4947149593359695, 'random_strength': 36, 'bagging_temperature': 0.6369684235891081, 'od_type': 'Iter'}. Best is trial 1 with value: 0.4360993733763482.\n",
            "[I 2023-12-02 14:16:57,438] Trial 11 finished with value: 0.4306017055501778 and parameters: {'iterations': 116, 'depth': 10, 'learning_rate': 0.4949849123210159, 'random_strength': 38, 'bagging_temperature': 0.6266688800796739, 'od_type': 'Iter'}. Best is trial 1 with value: 0.4360993733763482.\n",
            "[I 2023-12-02 14:17:18,797] Trial 12 finished with value: 0.4255346209212784 and parameters: {'iterations': 120, 'depth': 10, 'learning_rate': 0.4993434613008035, 'random_strength': 71, 'bagging_temperature': 0.6285003342259978, 'od_type': 'Iter'}. Best is trial 1 with value: 0.4360993733763482.\n",
            "[I 2023-12-02 14:17:23,850] Trial 13 finished with value: 0.40075635298764184 and parameters: {'iterations': 374, 'depth': 6, 'learning_rate': 0.2973472985954917, 'random_strength': 0, 'bagging_temperature': 0.6679296839912848, 'od_type': 'Iter'}. Best is trial 1 with value: 0.4360993733763482.\n",
            "[I 2023-12-02 14:17:31,818] Trial 14 finished with value: 0.4323962671523688 and parameters: {'iterations': 792, 'depth': 7, 'learning_rate': 0.4618116118364183, 'random_strength': 34, 'bagging_temperature': 0.5737332187891447, 'od_type': 'Iter'}. Best is trial 1 with value: 0.4360993733763482.\n",
            "[I 2023-12-02 14:17:38,339] Trial 15 finished with value: 0.3929898752303547 and parameters: {'iterations': 794, 'depth': 6, 'learning_rate': 0.43771082474197553, 'random_strength': 31, 'bagging_temperature': 0.5245794791658447, 'od_type': 'Iter'}. Best is trial 1 with value: 0.4360993733763482.\n",
            "[I 2023-12-02 14:17:46,793] Trial 16 finished with value: 0.42283166908555786 and parameters: {'iterations': 756, 'depth': 7, 'learning_rate': 0.2681550170255527, 'random_strength': 72, 'bagging_temperature': 0.994929500836789, 'od_type': 'Iter'}. Best is trial 1 with value: 0.4360993733763482.\n",
            "[I 2023-12-02 14:17:53,629] Trial 17 finished with value: 0.39018390884563026 and parameters: {'iterations': 944, 'depth': 6, 'learning_rate': 0.43459061655744335, 'random_strength': 49, 'bagging_temperature': 0.7402283903009927, 'od_type': 'Iter'}. Best is trial 1 with value: 0.4360993733763482.\n",
            "[I 2023-12-02 14:17:59,018] Trial 18 finished with value: 0.3981664953297041 and parameters: {'iterations': 753, 'depth': 4, 'learning_rate': 0.31213064273896, 'random_strength': 26, 'bagging_temperature': 0.496795054241897, 'od_type': 'Iter'}. Best is trial 1 with value: 0.4360993733763482.\n",
            "[I 2023-12-02 14:18:08,538] Trial 19 finished with value: 0.3985144033207726 and parameters: {'iterations': 508, 'depth': 7, 'learning_rate': 0.20365779799487366, 'random_strength': 2, 'bagging_temperature': 0.7359495821997496, 'od_type': 'Iter'}. Best is trial 1 with value: 0.4360993733763482.\n",
            "[I 2023-12-02 14:18:21,981] Trial 20 finished with value: 0.4113709209435295 and parameters: {'iterations': 833, 'depth': 9, 'learning_rate': 0.3926332916389844, 'random_strength': 62, 'bagging_temperature': 0.5361463359081556, 'od_type': 'Iter'}. Best is trial 1 with value: 0.4360993733763482.\n",
            "[I 2023-12-02 14:18:33,335] Trial 21 finished with value: 0.40016746921800694 and parameters: {'iterations': 280, 'depth': 9, 'learning_rate': 0.4652987193416763, 'random_strength': 39, 'bagging_temperature': 0.6075483916536151, 'od_type': 'Iter'}. Best is trial 1 with value: 0.4360993733763482.\n",
            "[I 2023-12-02 14:18:40,156] Trial 22 finished with value: 0.42859858688282426 and parameters: {'iterations': 175, 'depth': 6, 'learning_rate': 0.4740271331840221, 'random_strength': 40, 'bagging_temperature': 0.765625972836278, 'od_type': 'Iter'}. Best is trial 1 with value: 0.4360993733763482.\n",
            "[I 2023-12-02 14:18:46,265] Trial 23 finished with value: 0.4159241112711582 and parameters: {'iterations': 325, 'depth': 7, 'learning_rate': 0.4983073997550634, 'random_strength': 49, 'bagging_temperature': 0.7057051646478001, 'od_type': 'Iter'}. Best is trial 1 with value: 0.4360993733763482.\n",
            "[I 2023-12-02 14:18:56,575] Trial 24 finished with value: 0.39523543882281803 and parameters: {'iterations': 690, 'depth': 8, 'learning_rate': 0.4518269036511226, 'random_strength': 36, 'bagging_temperature': 0.5770620871570874, 'od_type': 'Iter'}. Best is trial 1 with value: 0.4360993733763482.\n",
            "[I 2023-12-02 14:19:02,533] Trial 25 finished with value: 0.399435512466369 and parameters: {'iterations': 518, 'depth': 7, 'learning_rate': 0.41526159234319643, 'random_strength': 10, 'bagging_temperature': 0.6624431753490077, 'od_type': 'Iter'}. Best is trial 1 with value: 0.4360993733763482.\n",
            "[I 2023-12-02 14:19:15,363] Trial 26 finished with value: 0.3969579919202029 and parameters: {'iterations': 862, 'depth': 9, 'learning_rate': 0.46099577005368403, 'random_strength': 33, 'bagging_temperature': 0.4806642239179548, 'od_type': 'IncToDec'}. Best is trial 1 with value: 0.4360993733763482.\n",
            "[I 2023-12-02 14:19:36,674] Trial 27 finished with value: 0.41538143286277707 and parameters: {'iterations': 145, 'depth': 10, 'learning_rate': 0.3958323981752187, 'random_strength': 26, 'bagging_temperature': 0.8116266372309858, 'od_type': 'Iter'}. Best is trial 1 with value: 0.4360993733763482.\n",
            "[I 2023-12-02 14:19:42,525] Trial 28 finished with value: 0.4381119466611724 and parameters: {'iterations': 199, 'depth': 7, 'learning_rate': 0.462911352753162, 'random_strength': 44, 'bagging_temperature': 0.5682047633742475, 'od_type': 'Iter'}. Best is trial 28 with value: 0.4381119466611724.\n",
            "[I 2023-12-02 14:19:50,779] Trial 29 finished with value: 0.4286807328307581 and parameters: {'iterations': 215, 'depth': 7, 'learning_rate': 0.34198945772751244, 'random_strength': 46, 'bagging_temperature': 0.300053286011533, 'od_type': 'IncToDec'}. Best is trial 28 with value: 0.4381119466611724.\n",
            "[I 2023-12-02 14:19:55,794] Trial 30 finished with value: 0.3969156076846663 and parameters: {'iterations': 327, 'depth': 6, 'learning_rate': 0.429238025667012, 'random_strength': 59, 'bagging_temperature': 0.5629636185046711, 'od_type': 'Iter'}. Best is trial 28 with value: 0.4381119466611724.\n",
            "[I 2023-12-02 14:20:01,764] Trial 31 finished with value: 0.4419913236858101 and parameters: {'iterations': 173, 'depth': 7, 'learning_rate': 0.4683590475294869, 'random_strength': 45, 'bagging_temperature': 0.5820352254230292, 'od_type': 'Iter'}. Best is trial 31 with value: 0.4419913236858101.\n",
            "[I 2023-12-02 14:20:09,151] Trial 32 finished with value: 0.4309374904628579 and parameters: {'iterations': 200, 'depth': 7, 'learning_rate': 0.4556643866039396, 'random_strength': 45, 'bagging_temperature': 0.5670496812687957, 'od_type': 'Iter'}. Best is trial 31 with value: 0.4419913236858101.\n",
            "[I 2023-12-02 14:20:17,855] Trial 33 finished with value: 0.39384194323163346 and parameters: {'iterations': 249, 'depth': 8, 'learning_rate': 0.3894860300106369, 'random_strength': 71, 'bagging_temperature': 0.7011119864467885, 'od_type': 'Iter'}. Best is trial 31 with value: 0.4419913236858101.\n",
            "[I 2023-12-02 14:20:22,807] Trial 34 finished with value: 0.394615571548995 and parameters: {'iterations': 991, 'depth': 6, 'learning_rate': 0.4145586757444945, 'random_strength': 25, 'bagging_temperature': 0.7780204482504786, 'od_type': 'Iter'}. Best is trial 31 with value: 0.4419913236858101.\n",
            "[I 2023-12-02 14:20:31,261] Trial 35 finished with value: 0.44930791422881766 and parameters: {'iterations': 175, 'depth': 8, 'learning_rate': 0.4682356736360952, 'random_strength': 52, 'bagging_temperature': 0.44476065767315814, 'od_type': 'Iter'}. Best is trial 35 with value: 0.44930791422881766.\n",
            "[I 2023-12-02 14:20:38,571] Trial 36 finished with value: 0.4275701850996537 and parameters: {'iterations': 173, 'depth': 8, 'learning_rate': 0.38041965153316637, 'random_strength': 52, 'bagging_temperature': 0.45366392887944024, 'od_type': 'IncToDec'}. Best is trial 35 with value: 0.44930791422881766.\n",
            "[I 2023-12-02 14:20:47,348] Trial 37 finished with value: 0.39402185480543217 and parameters: {'iterations': 310, 'depth': 8, 'learning_rate': 0.4053921764195877, 'random_strength': 66, 'bagging_temperature': 0.4068959205139895, 'od_type': 'Iter'}. Best is trial 35 with value: 0.44930791422881766.\n",
            "[I 2023-12-02 14:20:56,536] Trial 38 finished with value: 0.4074527510037118 and parameters: {'iterations': 223, 'depth': 8, 'learning_rate': 0.34969702852829454, 'random_strength': 80, 'bagging_temperature': 0.350713735335089, 'od_type': 'Iter'}. Best is trial 35 with value: 0.44930791422881766.\n",
            "[I 2023-12-02 14:21:01,612] Trial 39 finished with value: 0.41715505617551757 and parameters: {'iterations': 364, 'depth': 5, 'learning_rate': 0.4765635488938978, 'random_strength': 55, 'bagging_temperature': 0.4944252527631122, 'od_type': 'IncToDec'}. Best is trial 35 with value: 0.44930791422881766.\n",
            "[I 2023-12-02 14:21:09,904] Trial 40 finished with value: 0.4310871952734054 and parameters: {'iterations': 158, 'depth': 8, 'learning_rate': 0.4402337951069257, 'random_strength': 43, 'bagging_temperature': 0.847746128988706, 'od_type': 'Iter'}. Best is trial 35 with value: 0.44930791422881766.\n",
            "[I 2023-12-02 14:21:16,082] Trial 41 finished with value: 0.4135508310161084 and parameters: {'iterations': 672, 'depth': 7, 'learning_rate': 0.4708810929026345, 'random_strength': 58, 'bagging_temperature': 0.5962071455264091, 'od_type': 'Iter'}. Best is trial 35 with value: 0.44930791422881766.\n",
            "[I 2023-12-02 14:21:21,784] Trial 42 finished with value: 0.4273478343893717 and parameters: {'iterations': 101, 'depth': 7, 'learning_rate': 0.4185451590548388, 'random_strength': 20, 'bagging_temperature': 0.4485559490696772, 'od_type': 'Iter'}. Best is trial 35 with value: 0.44930791422881766.\n",
            "[I 2023-12-02 14:21:28,303] Trial 43 finished with value: 0.4290526778121041 and parameters: {'iterations': 588, 'depth': 7, 'learning_rate': 0.44785152600327227, 'random_strength': 50, 'bagging_temperature': 0.679071425376959, 'od_type': 'Iter'}. Best is trial 35 with value: 0.44930791422881766.\n",
            "[I 2023-12-02 14:21:40,350] Trial 44 finished with value: 0.3982792993049594 and parameters: {'iterations': 446, 'depth': 9, 'learning_rate': 0.48515635000318946, 'random_strength': 43, 'bagging_temperature': 0.5451111882120215, 'od_type': 'Iter'}. Best is trial 35 with value: 0.44930791422881766.\n",
            "[I 2023-12-02 14:21:46,488] Trial 45 finished with value: 0.39478204340690537 and parameters: {'iterations': 280, 'depth': 6, 'learning_rate': 0.473892829419771, 'random_strength': 32, 'bagging_temperature': 0.6292270319028673, 'od_type': 'Iter'}. Best is trial 35 with value: 0.44930791422881766.\n",
            "[I 2023-12-02 14:21:53,517] Trial 46 finished with value: 0.4366453726961962 and parameters: {'iterations': 195, 'depth': 8, 'learning_rate': 0.4994141412061935, 'random_strength': 64, 'bagging_temperature': 0.5315003555677814, 'od_type': 'Iter'}. Best is trial 35 with value: 0.44930791422881766.\n",
            "[I 2023-12-02 14:22:01,887] Trial 47 finished with value: 0.43766985387843826 and parameters: {'iterations': 191, 'depth': 8, 'learning_rate': 0.49513048836376256, 'random_strength': 64, 'bagging_temperature': 0.5184478083308276, 'od_type': 'IncToDec'}. Best is trial 35 with value: 0.44930791422881766.\n",
            "[I 2023-12-02 14:22:14,054] Trial 48 finished with value: 0.4056712011304424 and parameters: {'iterations': 213, 'depth': 9, 'learning_rate': 0.49986646966315734, 'random_strength': 90, 'bagging_temperature': 0.470520827629845, 'od_type': 'IncToDec'}. Best is trial 35 with value: 0.44930791422881766.\n",
            "[I 2023-12-02 14:22:21,454] Trial 49 finished with value: 0.39497834755311334 and parameters: {'iterations': 256, 'depth': 8, 'learning_rate': 0.42980506258923623, 'random_strength': 66, 'bagging_temperature': 0.5084240012443044, 'od_type': 'IncToDec'}. Best is trial 35 with value: 0.44930791422881766.\n",
            "[I 2023-12-02 14:22:29,916] Trial 50 finished with value: 0.4470340921868384 and parameters: {'iterations': 181, 'depth': 8, 'learning_rate': 0.4803203594298239, 'random_strength': 78, 'bagging_temperature': 0.4210332985788685, 'od_type': 'IncToDec'}. Best is trial 35 with value: 0.44930791422881766.\n",
            "[I 2023-12-02 14:22:38,379] Trial 51 finished with value: 0.44208042889040594 and parameters: {'iterations': 148, 'depth': 8, 'learning_rate': 0.4758734281565494, 'random_strength': 77, 'bagging_temperature': 0.41590675950426936, 'od_type': 'IncToDec'}. Best is trial 35 with value: 0.44930791422881766.\n",
            "[I 2023-12-02 14:22:45,376] Trial 52 finished with value: 0.4298259132364725 and parameters: {'iterations': 154, 'depth': 8, 'learning_rate': 0.4495004519402612, 'random_strength': 81, 'bagging_temperature': 0.42396083575492344, 'od_type': 'IncToDec'}. Best is trial 35 with value: 0.44930791422881766.\n",
            "[I 2023-12-02 14:22:53,898] Trial 53 finished with value: 0.44307009874688863 and parameters: {'iterations': 133, 'depth': 8, 'learning_rate': 0.47992446967629365, 'random_strength': 78, 'bagging_temperature': 0.35204807790776027, 'od_type': 'IncToDec'}. Best is trial 35 with value: 0.44930791422881766.\n",
            "[I 2023-12-02 14:23:05,098] Trial 54 finished with value: 0.4226761313069759 and parameters: {'iterations': 136, 'depth': 9, 'learning_rate': 0.4719435178754998, 'random_strength': 100, 'bagging_temperature': 0.3527480117779216, 'od_type': 'IncToDec'}. Best is trial 35 with value: 0.44930791422881766.\n",
            "[I 2023-12-02 14:23:10,890] Trial 55 finished with value: 0.44326522633620496 and parameters: {'iterations': 103, 'depth': 8, 'learning_rate': 0.4470960562122667, 'random_strength': 76, 'bagging_temperature': 0.29849641140698113, 'od_type': 'IncToDec'}. Best is trial 35 with value: 0.44930791422881766.\n",
            "[I 2023-12-02 14:23:17,758] Trial 56 finished with value: 0.43283168562829155 and parameters: {'iterations': 100, 'depth': 8, 'learning_rate': 0.4286968717080324, 'random_strength': 78, 'bagging_temperature': 0.29578440721865124, 'od_type': 'IncToDec'}. Best is trial 35 with value: 0.44930791422881766.\n",
            "[I 2023-12-02 14:23:28,733] Trial 57 finished with value: 0.43045321904886286 and parameters: {'iterations': 139, 'depth': 9, 'learning_rate': 0.4840783222457863, 'random_strength': 90, 'bagging_temperature': 0.40076863938701723, 'od_type': 'IncToDec'}. Best is trial 35 with value: 0.44930791422881766.\n",
            "[I 2023-12-02 14:23:36,512] Trial 58 finished with value: 0.3953921048355423 and parameters: {'iterations': 235, 'depth': 8, 'learning_rate': 0.44582891457929363, 'random_strength': 75, 'bagging_temperature': 0.3061639360195431, 'od_type': 'IncToDec'}. Best is trial 35 with value: 0.44930791422881766.\n",
            "[I 2023-12-02 14:23:48,742] Trial 59 finished with value: 0.40948946191504987 and parameters: {'iterations': 300, 'depth': 9, 'learning_rate': 0.4108761738553315, 'random_strength': 85, 'bagging_temperature': 0.25495934915129675, 'od_type': 'IncToDec'}. Best is trial 35 with value: 0.44930791422881766.\n",
            "[I 2023-12-02 14:23:57,011] Trial 60 finished with value: 0.4328288403692511 and parameters: {'iterations': 129, 'depth': 8, 'learning_rate': 0.37475156723281866, 'random_strength': 84, 'bagging_temperature': 0.3730196631446549, 'od_type': 'IncToDec'}. Best is trial 35 with value: 0.44930791422881766.\n",
            "[I 2023-12-02 14:24:02,439] Trial 61 finished with value: 0.43713478208202544 and parameters: {'iterations': 179, 'depth': 7, 'learning_rate': 0.45708748412666445, 'random_strength': 75, 'bagging_temperature': 0.43338495955056766, 'od_type': 'IncToDec'}. Best is trial 35 with value: 0.44930791422881766.\n",
            "[I 2023-12-02 14:24:09,281] Trial 62 finished with value: 0.4409037614622739 and parameters: {'iterations': 157, 'depth': 7, 'learning_rate': 0.4809976278147461, 'random_strength': 90, 'bagging_temperature': 0.4726715741916929, 'od_type': 'IncToDec'}. Best is trial 35 with value: 0.44930791422881766.\n",
            "[I 2023-12-02 14:24:14,649] Trial 63 finished with value: 0.43546801164622206 and parameters: {'iterations': 164, 'depth': 7, 'learning_rate': 0.48402659485031924, 'random_strength': 95, 'bagging_temperature': 0.39100317408691143, 'od_type': 'IncToDec'}. Best is trial 35 with value: 0.44930791422881766.\n",
            "[I 2023-12-02 14:24:22,741] Trial 64 finished with value: 0.4238012961757174 and parameters: {'iterations': 127, 'depth': 8, 'learning_rate': 0.4414880442151178, 'random_strength': 90, 'bagging_temperature': 0.465038243855814, 'od_type': 'IncToDec'}. Best is trial 35 with value: 0.44930791422881766.\n",
            "[I 2023-12-02 14:24:29,243] Trial 65 finished with value: 0.43454371877555004 and parameters: {'iterations': 235, 'depth': 7, 'learning_rate': 0.4647799049801775, 'random_strength': 69, 'bagging_temperature': 0.4381110709659837, 'od_type': 'IncToDec'}. Best is trial 35 with value: 0.44930791422881766.\n",
            "[I 2023-12-02 14:24:36,701] Trial 66 finished with value: 0.4444610501928376 and parameters: {'iterations': 108, 'depth': 8, 'learning_rate': 0.4824742261649558, 'random_strength': 76, 'bagging_temperature': 0.22382009248427526, 'od_type': 'IncToDec'}. Best is trial 35 with value: 0.44930791422881766.\n",
            "[I 2023-12-02 14:24:46,688] Trial 67 finished with value: 0.43169257086543267 and parameters: {'iterations': 101, 'depth': 9, 'learning_rate': 0.42112822315034226, 'random_strength': 76, 'bagging_temperature': 0.2276116065989609, 'od_type': 'IncToDec'}. Best is trial 35 with value: 0.44930791422881766.\n",
            "[I 2023-12-02 14:24:54,179] Trial 68 finished with value: 0.3962342658627636 and parameters: {'iterations': 255, 'depth': 8, 'learning_rate': 0.45518346458971126, 'random_strength': 70, 'bagging_temperature': 0.19296536445132656, 'od_type': 'IncToDec'}. Best is trial 35 with value: 0.44930791422881766.\n",
            "[I 2023-12-02 14:25:02,408] Trial 69 finished with value: 0.42454670770230474 and parameters: {'iterations': 134, 'depth': 8, 'learning_rate': 0.43647038891948564, 'random_strength': 81, 'bagging_temperature': 0.3393359454347172, 'od_type': 'IncToDec'}. Best is trial 35 with value: 0.44930791422881766.\n",
            "[I 2023-12-02 14:25:14,589] Trial 70 finished with value: 0.408011025110319 and parameters: {'iterations': 368, 'depth': 9, 'learning_rate': 0.4881323420017035, 'random_strength': 87, 'bagging_temperature': 0.3858020116506812, 'od_type': 'IncToDec'}. Best is trial 35 with value: 0.44930791422881766.\n",
            "[I 2023-12-02 14:25:21,640] Trial 71 finished with value: 0.44359826295990956 and parameters: {'iterations': 163, 'depth': 8, 'learning_rate': 0.47756733953197006, 'random_strength': 96, 'bagging_temperature': 0.46614845050295395, 'od_type': 'IncToDec'}. Best is trial 35 with value: 0.44930791422881766.\n",
            "[I 2023-12-02 14:25:30,071] Trial 72 finished with value: 0.4378258578728117 and parameters: {'iterations': 189, 'depth': 8, 'learning_rate': 0.47448209903234695, 'random_strength': 96, 'bagging_temperature': 0.4149575412767622, 'od_type': 'IncToDec'}. Best is trial 35 with value: 0.44930791422881766.\n",
            "[I 2023-12-02 14:25:38,453] Trial 73 finished with value: 0.43698053754451777 and parameters: {'iterations': 170, 'depth': 8, 'learning_rate': 0.46178173773373304, 'random_strength': 74, 'bagging_temperature': 0.4943532959001064, 'od_type': 'IncToDec'}. Best is trial 35 with value: 0.44930791422881766.\n",
            "[I 2023-12-02 14:25:45,807] Trial 74 finished with value: 0.3962633556070733 and parameters: {'iterations': 218, 'depth': 8, 'learning_rate': 0.47993147380578316, 'random_strength': 60, 'bagging_temperature': 0.3698941307207998, 'od_type': 'IncToDec'}. Best is trial 35 with value: 0.44930791422881766.\n",
            "[I 2023-12-02 14:25:53,729] Trial 75 finished with value: 0.4253536800666079 and parameters: {'iterations': 120, 'depth': 8, 'learning_rate': 0.40084445007381897, 'random_strength': 79, 'bagging_temperature': 0.32420294258282034, 'od_type': 'IncToDec'}. Best is trial 35 with value: 0.44930791422881766.\n",
            "[I 2023-12-02 14:25:56,776] Trial 76 finished with value: 0.39268686207780384 and parameters: {'iterations': 154, 'depth': 4, 'learning_rate': 0.44856600688593096, 'random_strength': 82, 'bagging_temperature': 0.42188445943953734, 'od_type': 'IncToDec'}. Best is trial 35 with value: 0.44930791422881766.\n",
            "[I 2023-12-02 14:26:05,512] Trial 77 finished with value: 0.3962706479483572 and parameters: {'iterations': 277, 'depth': 8, 'learning_rate': 0.4653024542955371, 'random_strength': 100, 'bagging_temperature': 0.3818105775945569, 'od_type': 'IncToDec'}. Best is trial 35 with value: 0.44930791422881766.\n",
            "[I 2023-12-02 14:26:17,767] Trial 78 finished with value: 0.4108751405864887 and parameters: {'iterations': 208, 'depth': 9, 'learning_rate': 0.4905008714685823, 'random_strength': 87, 'bagging_temperature': 0.4555842580585211, 'od_type': 'IncToDec'}. Best is trial 35 with value: 0.44930791422881766.\n",
            "[I 2023-12-02 14:26:24,489] Trial 79 finished with value: 0.43403561282749087 and parameters: {'iterations': 123, 'depth': 8, 'learning_rate': 0.42523629390040213, 'random_strength': 93, 'bagging_temperature': 0.33420937963346065, 'od_type': 'IncToDec'}. Best is trial 35 with value: 0.44930791422881766.\n",
            "[I 2023-12-02 14:26:31,425] Trial 80 finished with value: 0.4379955871760656 and parameters: {'iterations': 182, 'depth': 7, 'learning_rate': 0.4405842696666893, 'random_strength': 68, 'bagging_temperature': 0.5016088606363557, 'od_type': 'IncToDec'}. Best is trial 35 with value: 0.44930791422881766.\n",
            "[I 2023-12-02 14:26:36,919] Trial 81 finished with value: 0.4454429471567183 and parameters: {'iterations': 152, 'depth': 7, 'learning_rate': 0.4750704791888571, 'random_strength': 77, 'bagging_temperature': 0.4522424387890886, 'od_type': 'IncToDec'}. Best is trial 35 with value: 0.44930791422881766.\n",
            "[I 2023-12-02 14:26:43,753] Trial 82 finished with value: 0.43920023131901526 and parameters: {'iterations': 148, 'depth': 7, 'learning_rate': 0.4663545280474691, 'random_strength': 72, 'bagging_temperature': 0.40473337341591953, 'od_type': 'IncToDec'}. Best is trial 35 with value: 0.44930791422881766.\n",
            "[I 2023-12-02 14:26:50,068] Trial 83 finished with value: 0.44237113240878695 and parameters: {'iterations': 114, 'depth': 8, 'learning_rate': 0.4885480179696811, 'random_strength': 78, 'bagging_temperature': 0.4422241473851959, 'od_type': 'IncToDec'}. Best is trial 35 with value: 0.44930791422881766.\n",
            "[I 2023-12-02 14:26:57,192] Trial 84 finished with value: 0.44126786639938276 and parameters: {'iterations': 103, 'depth': 8, 'learning_rate': 0.4880359826293487, 'random_strength': 78, 'bagging_temperature': 0.4480615481036403, 'od_type': 'IncToDec'}. Best is trial 35 with value: 0.44930791422881766.\n",
            "[I 2023-12-02 14:27:03,568] Trial 85 finished with value: 0.44129368272446357 and parameters: {'iterations': 116, 'depth': 8, 'learning_rate': 0.49968857409618606, 'random_strength': 83, 'bagging_temperature': 0.3632982487174521, 'od_type': 'IncToDec'}. Best is trial 35 with value: 0.44930791422881766.\n",
            "[I 2023-12-02 14:27:12,521] Trial 86 finished with value: 0.4030606391579411 and parameters: {'iterations': 234, 'depth': 8, 'learning_rate': 0.45500245830419367, 'random_strength': 73, 'bagging_temperature': 0.4810685944167883, 'od_type': 'IncToDec'}. Best is trial 35 with value: 0.44930791422881766.\n",
            "[I 2023-12-02 14:27:20,080] Trial 87 finished with value: 0.44208042889040594 and parameters: {'iterations': 140, 'depth': 8, 'learning_rate': 0.47587141561611296, 'random_strength': 77, 'bagging_temperature': 0.43352368070792835, 'od_type': 'IncToDec'}. Best is trial 35 with value: 0.44930791422881766.\n",
            "[I 2023-12-02 14:27:31,738] Trial 88 finished with value: 0.4075162500155029 and parameters: {'iterations': 201, 'depth': 9, 'learning_rate': 0.49009418990530573, 'random_strength': 67, 'bagging_temperature': 0.3920296616170629, 'od_type': 'IncToDec'}. Best is trial 35 with value: 0.44930791422881766.\n",
            "[I 2023-12-02 14:27:40,189] Trial 89 finished with value: 0.43673540499317465 and parameters: {'iterations': 169, 'depth': 8, 'learning_rate': 0.4344795849039735, 'random_strength': 62, 'bagging_temperature': 0.5411712439901533, 'od_type': 'IncToDec'}. Best is trial 35 with value: 0.44930791422881766.\n",
            "[I 2023-12-02 14:27:51,219] Trial 90 finished with value: 0.41625530850904824 and parameters: {'iterations': 141, 'depth': 9, 'learning_rate': 0.45718000543065235, 'random_strength': 87, 'bagging_temperature': 0.4141994584358176, 'od_type': 'IncToDec'}. Best is trial 35 with value: 0.44930791422881766.\n",
            "[I 2023-12-02 14:27:58,498] Trial 91 finished with value: 0.4411233684830157 and parameters: {'iterations': 143, 'depth': 8, 'learning_rate': 0.4771794783760455, 'random_strength': 77, 'bagging_temperature': 0.4249975810688295, 'od_type': 'IncToDec'}. Best is trial 35 with value: 0.44930791422881766.\n",
            "[I 2023-12-02 14:28:06,243] Trial 92 finished with value: 0.4475284451063568 and parameters: {'iterations': 123, 'depth': 8, 'learning_rate': 0.4757701580024949, 'random_strength': 80, 'bagging_temperature': 0.44698664362710677, 'od_type': 'IncToDec'}. Best is trial 35 with value: 0.44930791422881766.\n",
            "[I 2023-12-02 14:28:13,958] Trial 93 finished with value: 0.43643212733346337 and parameters: {'iterations': 116, 'depth': 8, 'learning_rate': 0.48624321371446616, 'random_strength': 80, 'bagging_temperature': 0.4627432943395541, 'od_type': 'IncToDec'}. Best is trial 35 with value: 0.44930791422881766.\n",
            "[I 2023-12-02 14:28:21,055] Trial 94 finished with value: 0.43871714664371736 and parameters: {'iterations': 189, 'depth': 8, 'learning_rate': 0.4681226949589501, 'random_strength': 73, 'bagging_temperature': 0.513844556282569, 'od_type': 'IncToDec'}. Best is trial 35 with value: 0.44930791422881766.\n",
            "[I 2023-12-02 14:28:29,507] Trial 95 finished with value: 0.4362800052380257 and parameters: {'iterations': 173, 'depth': 8, 'learning_rate': 0.45104803225217904, 'random_strength': 14, 'bagging_temperature': 0.36008091852870605, 'od_type': 'IncToDec'}. Best is trial 35 with value: 0.44930791422881766.\n",
            "[I 2023-12-02 14:28:34,516] Trial 96 finished with value: 0.4396399386958228 and parameters: {'iterations': 121, 'depth': 7, 'learning_rate': 0.4937627778885871, 'random_strength': 83, 'bagging_temperature': 0.4854823738020897, 'od_type': 'IncToDec'}. Best is trial 35 with value: 0.44930791422881766.\n",
            "[I 2023-12-02 14:28:43,182] Trial 97 finished with value: 0.3973166488923978 and parameters: {'iterations': 429, 'depth': 8, 'learning_rate': 0.47663285273208766, 'random_strength': 75, 'bagging_temperature': 0.3976925613235737, 'od_type': 'IncToDec'}. Best is trial 35 with value: 0.44930791422881766.\n",
            "[I 2023-12-02 14:28:51,238] Trial 98 finished with value: 0.3952278983593113 and parameters: {'iterations': 219, 'depth': 8, 'learning_rate': 0.44221603081150873, 'random_strength': 71, 'bagging_temperature': 0.4507668062446696, 'od_type': 'IncToDec'}. Best is trial 35 with value: 0.44930791422881766.\n",
            "[I 2023-12-02 14:28:56,324] Trial 99 finished with value: 0.42672217635942156 and parameters: {'iterations': 103, 'depth': 7, 'learning_rate': 0.4253568825493545, 'random_strength': 84, 'bagging_temperature': 0.48133414405209507, 'od_type': 'IncToDec'}. Best is trial 35 with value: 0.44930791422881766.\n"
          ]
        },
        {
          "output_type": "stream",
          "name": "stdout",
          "text": [
            "Best trial: {'iterations': 175, 'depth': 8, 'learning_rate': 0.4682356736360952, 'random_strength': 52, 'bagging_temperature': 0.44476065767315814, 'od_type': 'Iter'}\n"
          ]
        }
      ]
    },
    {
      "cell_type": "code",
      "source": [
        "# Optuna 스터디에서 최적의 하이퍼파라미터 가져오기\n",
        "best_params = study.best_trial.params\n",
        "\n",
        "# 최적의 하이퍼파라미터를 사용하여 CatBoost 모델 초기화\n",
        "final_model = CatBoostClassifier(**best_params, verbose=0)\n",
        "\n",
        "# 전체 훈련 데이터셋을 사용하여 최종 모델 훈련\n",
        "final_model.fit(x, y)\n",
        "\n",
        "# 테스트 데이터셋에 대한 예측 수행\n",
        "predictions = final_model.predict(new_x)\n",
        "\n",
        "# 여기서 X_train, y_train, X_test는 실제 데이터셋을 가리킵니다.\n",
        "# X_train, y_train은 모델 훈련에 사용되는 전체 훈련 데이터셋이고,\n",
        "# X_test는 최종 예측을 수행할 테스트 데이터셋입니다."
      ],
      "metadata": {
        "id": "yeKS73ZU6qz4"
      },
      "execution_count": null,
      "outputs": []
    },
    {
      "cell_type": "code",
      "source": [
        "# 예측값 저장\n",
        "df_sub['target'] = predictions\n",
        "df_sub.set_index('user_id').to_csv('stratified_optuna(basic).csv', encoding=\"cp949\")"
      ],
      "metadata": {
        "id": "2_VWgaFA6rea"
      },
      "execution_count": null,
      "outputs": []
    },
    {
      "cell_type": "markdown",
      "source": [
        "# catboost(층화추출10fold)+ optuna(CMA-ES 샘플러)"
      ],
      "metadata": {
        "id": "lnHh2CVq6dCO"
      }
    },
    {
      "cell_type": "code",
      "source": [
        "pip install cmaes"
      ],
      "metadata": {
        "colab": {
          "base_uri": "https://localhost:8080/"
        },
        "id": "Uyi_lj3E8tbt",
        "outputId": "8bb9a348-173d-4b3f-cc00-e36d95f3f578"
      },
      "execution_count": null,
      "outputs": [
        {
          "output_type": "stream",
          "name": "stdout",
          "text": [
            "Collecting cmaes\n",
            "  Downloading cmaes-0.10.0-py3-none-any.whl (29 kB)\n",
            "Requirement already satisfied: numpy in /usr/local/lib/python3.10/dist-packages (from cmaes) (1.23.5)\n",
            "Installing collected packages: cmaes\n",
            "Successfully installed cmaes-0.10.0\n"
          ]
        }
      ]
    },
    {
      "cell_type": "code",
      "source": [
        "#################### 층화추출 ###################\n",
        "\n",
        "\n",
        "import optuna\n",
        "import numpy as np\n",
        "from catboost import CatBoostClassifier\n",
        "from sklearn.model_selection import KFold\n",
        "from sklearn.metrics import f1_score\n",
        "\n",
        "def objective(trial,x,y):\n",
        "    # Optuna가 탐색할 하이퍼파라미터의 범위 설정\n",
        "    param = {\n",
        "        'iterations': trial.suggest_int('iterations', 100, 1000),\n",
        "        'depth': trial.suggest_int('depth', 4, 10),\n",
        "        'learning_rate': trial.suggest_float('learning_rate', 0.01, 0.5),\n",
        "        'random_strength': trial.suggest_int('random_strength', 0, 100),\n",
        "        'bagging_temperature': trial.suggest_float('bagging_temperature', 0.0, 1.0),\n",
        "        'od_type': trial.suggest_categorical('od_type', ['IncToDec', 'Iter'])\n",
        "    }\n",
        "\n",
        "    # k-겹 교차 검증 설정\n",
        "    kf = KFold(n_splits=5, shuffle=True, random_state=42)\n",
        "    f1_scores = []\n",
        "\n",
        "    for train_index, test_index in kf.split(x):\n",
        "        x_train, x_test = x.iloc[train_index], x.iloc[test_index]\n",
        "        y_train, y_test = y.iloc[train_index], y.iloc[test_index]\n",
        "\n",
        "        # CatBoost 모델 생성 및 훈련\n",
        "        model = CatBoostClassifier(**param, verbose=0)\n",
        "        model.fit(x_train, y_train, eval_set=[(x_test, y_test)], early_stopping_rounds=100)\n",
        "\n",
        "        # 예측 및 F1 점수 계산\n",
        "        preds = model.predict(x_test)\n",
        "        f1 = f1_score(y_test, preds, average='macro')\n",
        "        f1_scores.append(f1)\n",
        "\n",
        "    # 평균 F1 점수 반환\n",
        "    return np.mean(f1_scores)\n",
        "# CMA-ES 샘플러 사용\n",
        "cmaes_sampler = optuna.samplers.CmaEsSampler(seed=42)\n",
        "\n",
        "# Optuna 스터디 생성 및 최적화 실행\n",
        "study = optuna.create_study(sampler=cmaes_sampler, direction='maximize')\n",
        "# lambda 함수를 사용하여 X와 y를 objective 함수에 전달\n",
        "study.optimize(lambda trial: objective(trial, x, y), n_trials=100)\n",
        "\n",
        "# 최적 하이퍼파라미터 출력\n",
        "print('Best trial:', study.best_trial.params)"
      ],
      "metadata": {
        "colab": {
          "base_uri": "https://localhost:8080/"
        },
        "id": "vLcHfWUv38lu",
        "outputId": "cb42e2e9-7bef-4cde-a8cf-296a2caa60db"
      },
      "execution_count": null,
      "outputs": [
        {
          "output_type": "stream",
          "name": "stderr",
          "text": [
            "[I 2023-12-02 14:33:36,786] A new study created in memory with name: no-name-bf97c83c-1f07-4a04-a1e6-61aa6fa49670\n",
            "[I 2023-12-02 14:33:52,869] Trial 0 finished with value: 0.39800216880261363 and parameters: {'iterations': 437, 'depth': 10, 'learning_rate': 0.3686770314875885, 'random_strength': 60, 'bagging_temperature': 0.15601864044243652, 'od_type': 'IncToDec'}. Best is trial 0 with value: 0.39800216880261363.\n",
            "[W 2023-12-02 14:33:52,918] The parameter 'od_type' in trial#1 is sampled independently by using `RandomSampler` instead of `CmaEsSampler` (optimization performance may be degraded). `CmaEsSampler` does not support dynamic search space or `CategoricalDistribution`. You can suppress this warning by setting `warn_independent_sampling` to `False` in the constructor of `CmaEsSampler`, if this independent sampling is intended behavior.\n",
            "[I 2023-12-02 14:34:02,649] Trial 1 finished with value: 0.3967084362960036 and parameters: {'iterations': 334, 'depth': 6, 'learning_rate': 0.19211251088953868, 'random_strength': 52, 'bagging_temperature': 0.4687109142192646, 'od_type': 'IncToDec'}. Best is trial 0 with value: 0.39800216880261363.\n",
            "[W 2023-12-02 14:34:02,660] The parameter 'od_type' in trial#2 is sampled independently by using `RandomSampler` instead of `CmaEsSampler` (optimization performance may be degraded). `CmaEsSampler` does not support dynamic search space or `CategoricalDistribution`. You can suppress this warning by setting `warn_independent_sampling` to `False` in the constructor of `CmaEsSampler`, if this independent sampling is intended behavior.\n",
            "[I 2023-12-02 14:34:07,793] Trial 2 finished with value: 0.38748765397549945 and parameters: {'iterations': 349, 'depth': 6, 'learning_rate': 0.3450976760287955, 'random_strength': 55, 'bagging_temperature': 0.489521949523845, 'od_type': 'IncToDec'}. Best is trial 0 with value: 0.39800216880261363.\n",
            "[W 2023-12-02 14:34:07,798] The parameter 'od_type' in trial#3 is sampled independently by using `RandomSampler` instead of `CmaEsSampler` (optimization performance may be degraded). `CmaEsSampler` does not support dynamic search space or `CategoricalDistribution`. You can suppress this warning by setting `warn_independent_sampling` to `False` in the constructor of `CmaEsSampler`, if this independent sampling is intended behavior.\n",
            "[I 2023-12-02 14:34:13,218] Trial 3 finished with value: 0.414201470153983 and parameters: {'iterations': 534, 'depth': 7, 'learning_rate': 0.20412681192741838, 'random_strength': 24, 'bagging_temperature': 0.7117520282376515, 'od_type': 'IncToDec'}. Best is trial 3 with value: 0.414201470153983.\n",
            "[W 2023-12-02 14:34:13,228] The parameter 'od_type' in trial#4 is sampled independently by using `RandomSampler` instead of `CmaEsSampler` (optimization performance may be degraded). `CmaEsSampler` does not support dynamic search space or `CategoricalDistribution`. You can suppress this warning by setting `warn_independent_sampling` to `False` in the constructor of `CmaEsSampler`, if this independent sampling is intended behavior.\n",
            "[I 2023-12-02 14:34:16,873] Trial 4 finished with value: 0.41329400706004193 and parameters: {'iterations': 469, 'depth': 7, 'learning_rate': 0.23387462729612424, 'random_strength': 16, 'bagging_temperature': 0.014744516803373908, 'od_type': 'IncToDec'}. Best is trial 3 with value: 0.414201470153983.\n",
            "[W 2023-12-02 14:34:16,879] The parameter 'od_type' in trial#5 is sampled independently by using `RandomSampler` instead of `CmaEsSampler` (optimization performance may be degraded). `CmaEsSampler` does not support dynamic search space or `CategoricalDistribution`. You can suppress this warning by setting `warn_independent_sampling` to `False` in the constructor of `CmaEsSampler`, if this independent sampling is intended behavior.\n",
            "[I 2023-12-02 14:34:19,190] Trial 5 finished with value: 0.3906561453963599 and parameters: {'iterations': 753, 'depth': 6, 'learning_rate': 0.3841398280582594, 'random_strength': 59, 'bagging_temperature': 0.6468706227536232, 'od_type': 'Iter'}. Best is trial 3 with value: 0.414201470153983.\n",
            "[W 2023-12-02 14:34:19,197] The parameter 'od_type' in trial#6 is sampled independently by using `RandomSampler` instead of `CmaEsSampler` (optimization performance may be degraded). `CmaEsSampler` does not support dynamic search space or `CategoricalDistribution`. You can suppress this warning by setting `warn_independent_sampling` to `False` in the constructor of `CmaEsSampler`, if this independent sampling is intended behavior.\n",
            "[I 2023-12-02 14:34:28,069] Trial 6 finished with value: 0.40036057743327796 and parameters: {'iterations': 515, 'depth': 6, 'learning_rate': 0.1149886658098969, 'random_strength': 42, 'bagging_temperature': 0.6846505597605081, 'od_type': 'IncToDec'}. Best is trial 3 with value: 0.414201470153983.\n",
            "[W 2023-12-02 14:34:28,083] The parameter 'od_type' in trial#7 is sampled independently by using `RandomSampler` instead of `CmaEsSampler` (optimization performance may be degraded). `CmaEsSampler` does not support dynamic search space or `CategoricalDistribution`. You can suppress this warning by setting `warn_independent_sampling` to `False` in the constructor of `CmaEsSampler`, if this independent sampling is intended behavior.\n",
            "[I 2023-12-02 14:34:36,790] Trial 7 finished with value: 0.3965577509305994 and parameters: {'iterations': 426, 'depth': 6, 'learning_rate': 0.1658137221812367, 'random_strength': 28, 'bagging_temperature': 0.6460897358144179, 'od_type': 'Iter'}. Best is trial 3 with value: 0.414201470153983.\n",
            "[W 2023-12-02 14:34:36,802] The parameter 'od_type' in trial#8 is sampled independently by using `RandomSampler` instead of `CmaEsSampler` (optimization performance may be degraded). `CmaEsSampler` does not support dynamic search space or `CategoricalDistribution`. You can suppress this warning by setting `warn_independent_sampling` to `False` in the constructor of `CmaEsSampler`, if this independent sampling is intended behavior.\n",
            "[I 2023-12-02 14:34:46,502] Trial 8 finished with value: 0.40061842458349295 and parameters: {'iterations': 340, 'depth': 8, 'learning_rate': 0.28422022424540466, 'random_strength': 22, 'bagging_temperature': 0.724907918913696, 'od_type': 'Iter'}. Best is trial 3 with value: 0.414201470153983.\n",
            "[W 2023-12-02 14:34:46,520] The parameter 'od_type' in trial#9 is sampled independently by using `RandomSampler` instead of `CmaEsSampler` (optimization performance may be degraded). `CmaEsSampler` does not support dynamic search space or `CategoricalDistribution`. You can suppress this warning by setting `warn_independent_sampling` to `False` in the constructor of `CmaEsSampler`, if this independent sampling is intended behavior.\n",
            "[I 2023-12-02 14:34:49,663] Trial 9 finished with value: 0.40716244601234247 and parameters: {'iterations': 452, 'depth': 7, 'learning_rate': 0.2556786136628304, 'random_strength': 7, 'bagging_temperature': 0.47862552672577297, 'od_type': 'Iter'}. Best is trial 3 with value: 0.414201470153983.\n",
            "[W 2023-12-02 14:34:49,669] The parameter 'od_type' in trial#10 is sampled independently by using `RandomSampler` instead of `CmaEsSampler` (optimization performance may be degraded). `CmaEsSampler` does not support dynamic search space or `CategoricalDistribution`. You can suppress this warning by setting `warn_independent_sampling` to `False` in the constructor of `CmaEsSampler`, if this independent sampling is intended behavior.\n",
            "[I 2023-12-02 14:34:52,864] Trial 10 finished with value: 0.42121585513759296 and parameters: {'iterations': 646, 'depth': 7, 'learning_rate': 0.31668871784260116, 'random_strength': 34, 'bagging_temperature': 0.39691478449493905, 'od_type': 'IncToDec'}. Best is trial 10 with value: 0.42121585513759296.\n",
            "[W 2023-12-02 14:34:52,872] The parameter 'od_type' in trial#11 is sampled independently by using `RandomSampler` instead of `CmaEsSampler` (optimization performance may be degraded). `CmaEsSampler` does not support dynamic search space or `CategoricalDistribution`. You can suppress this warning by setting `warn_independent_sampling` to `False` in the constructor of `CmaEsSampler`, if this independent sampling is intended behavior.\n",
            "[I 2023-12-02 14:34:56,661] Trial 11 finished with value: 0.3907130018690996 and parameters: {'iterations': 521, 'depth': 4, 'learning_rate': 0.32052509562394166, 'random_strength': 56, 'bagging_temperature': 0.5962507428913975, 'od_type': 'Iter'}. Best is trial 10 with value: 0.42121585513759296.\n",
            "[W 2023-12-02 14:34:56,667] The parameter 'od_type' in trial#12 is sampled independently by using `RandomSampler` instead of `CmaEsSampler` (optimization performance may be degraded). `CmaEsSampler` does not support dynamic search space or `CategoricalDistribution`. You can suppress this warning by setting `warn_independent_sampling` to `False` in the constructor of `CmaEsSampler`, if this independent sampling is intended behavior.\n",
            "[I 2023-12-02 14:34:59,868] Trial 12 finished with value: 0.38826373028492395 and parameters: {'iterations': 718, 'depth': 6, 'learning_rate': 0.2352031113330331, 'random_strength': 4, 'bagging_temperature': 0.5265625649166578, 'od_type': 'Iter'}. Best is trial 10 with value: 0.42121585513759296.\n",
            "[W 2023-12-02 14:34:59,872] The parameter 'od_type' in trial#13 is sampled independently by using `RandomSampler` instead of `CmaEsSampler` (optimization performance may be degraded). `CmaEsSampler` does not support dynamic search space or `CategoricalDistribution`. You can suppress this warning by setting `warn_independent_sampling` to `False` in the constructor of `CmaEsSampler`, if this independent sampling is intended behavior.\n",
            "[I 2023-12-02 14:35:02,392] Trial 13 finished with value: 0.3988813129249552 and parameters: {'iterations': 439, 'depth': 6, 'learning_rate': 0.3221163051546825, 'random_strength': 27, 'bagging_temperature': 0.04234863153703933, 'od_type': 'IncToDec'}. Best is trial 10 with value: 0.42121585513759296.\n",
            "[W 2023-12-02 14:35:02,398] The parameter 'od_type' in trial#14 is sampled independently by using `RandomSampler` instead of `CmaEsSampler` (optimization performance may be degraded). `CmaEsSampler` does not support dynamic search space or `CategoricalDistribution`. You can suppress this warning by setting `warn_independent_sampling` to `False` in the constructor of `CmaEsSampler`, if this independent sampling is intended behavior.\n",
            "[I 2023-12-02 14:35:05,171] Trial 14 finished with value: 0.39686167463666167 and parameters: {'iterations': 444, 'depth': 6, 'learning_rate': 0.21404854691106245, 'random_strength': 15, 'bagging_temperature': 0.6388480644248442, 'od_type': 'Iter'}. Best is trial 10 with value: 0.42121585513759296.\n",
            "[W 2023-12-02 14:35:05,176] The parameter 'od_type' in trial#15 is sampled independently by using `RandomSampler` instead of `CmaEsSampler` (optimization performance may be degraded). `CmaEsSampler` does not support dynamic search space or `CategoricalDistribution`. You can suppress this warning by setting `warn_independent_sampling` to `False` in the constructor of `CmaEsSampler`, if this independent sampling is intended behavior.\n",
            "[I 2023-12-02 14:35:08,841] Trial 15 finished with value: 0.43067116817167667 and parameters: {'iterations': 689, 'depth': 7, 'learning_rate': 0.3089467479677399, 'random_strength': 48, 'bagging_temperature': 0.5184303678417249, 'od_type': 'IncToDec'}. Best is trial 15 with value: 0.43067116817167667.\n",
            "[W 2023-12-02 14:35:08,846] The parameter 'od_type' in trial#16 is sampled independently by using `RandomSampler` instead of `CmaEsSampler` (optimization performance may be degraded). `CmaEsSampler` does not support dynamic search space or `CategoricalDistribution`. You can suppress this warning by setting `warn_independent_sampling` to `False` in the constructor of `CmaEsSampler`, if this independent sampling is intended behavior.\n",
            "[I 2023-12-02 14:35:14,748] Trial 16 finished with value: 0.4035954153553741 and parameters: {'iterations': 238, 'depth': 8, 'learning_rate': 0.190879127485257, 'random_strength': 29, 'bagging_temperature': 0.45380922972364146, 'od_type': 'Iter'}. Best is trial 15 with value: 0.43067116817167667.\n",
            "[W 2023-12-02 14:35:14,754] The parameter 'od_type' in trial#17 is sampled independently by using `RandomSampler` instead of `CmaEsSampler` (optimization performance may be degraded). `CmaEsSampler` does not support dynamic search space or `CategoricalDistribution`. You can suppress this warning by setting `warn_independent_sampling` to `False` in the constructor of `CmaEsSampler`, if this independent sampling is intended behavior.\n",
            "[I 2023-12-02 14:35:18,272] Trial 17 finished with value: 0.39196068160685005 and parameters: {'iterations': 532, 'depth': 8, 'learning_rate': 0.4111644093184503, 'random_strength': 27, 'bagging_temperature': 0.3003907461527511, 'od_type': 'IncToDec'}. Best is trial 15 with value: 0.43067116817167667.\n",
            "[W 2023-12-02 14:35:18,277] The parameter 'od_type' in trial#18 is sampled independently by using `RandomSampler` instead of `CmaEsSampler` (optimization performance may be degraded). `CmaEsSampler` does not support dynamic search space or `CategoricalDistribution`. You can suppress this warning by setting `warn_independent_sampling` to `False` in the constructor of `CmaEsSampler`, if this independent sampling is intended behavior.\n",
            "[I 2023-12-02 14:35:21,814] Trial 18 finished with value: 0.39445985137922246 and parameters: {'iterations': 670, 'depth': 8, 'learning_rate': 0.33207490766346104, 'random_strength': 39, 'bagging_temperature': 0.6080219177847845, 'od_type': 'IncToDec'}. Best is trial 15 with value: 0.43067116817167667.\n",
            "[W 2023-12-02 14:35:21,820] The parameter 'od_type' in trial#19 is sampled independently by using `RandomSampler` instead of `CmaEsSampler` (optimization performance may be degraded). `CmaEsSampler` does not support dynamic search space or `CategoricalDistribution`. You can suppress this warning by setting `warn_independent_sampling` to `False` in the constructor of `CmaEsSampler`, if this independent sampling is intended behavior.\n",
            "[I 2023-12-02 14:35:27,361] Trial 19 finished with value: 0.4380155426221459 and parameters: {'iterations': 825, 'depth': 7, 'learning_rate': 0.3076073760791622, 'random_strength': 54, 'bagging_temperature': 0.46724714776763115, 'od_type': 'IncToDec'}. Best is trial 19 with value: 0.4380155426221459.\n",
            "[W 2023-12-02 14:35:27,370] The parameter 'od_type' in trial#20 is sampled independently by using `RandomSampler` instead of `CmaEsSampler` (optimization performance may be degraded). `CmaEsSampler` does not support dynamic search space or `CategoricalDistribution`. You can suppress this warning by setting `warn_independent_sampling` to `False` in the constructor of `CmaEsSampler`, if this independent sampling is intended behavior.\n",
            "[I 2023-12-02 14:35:30,827] Trial 20 finished with value: 0.4418844435890186 and parameters: {'iterations': 545, 'depth': 7, 'learning_rate': 0.3273452257138519, 'random_strength': 67, 'bagging_temperature': 0.2886151227813323, 'od_type': 'IncToDec'}. Best is trial 20 with value: 0.4418844435890186.\n",
            "[W 2023-12-02 14:35:30,834] The parameter 'od_type' in trial#21 is sampled independently by using `RandomSampler` instead of `CmaEsSampler` (optimization performance may be degraded). `CmaEsSampler` does not support dynamic search space or `CategoricalDistribution`. You can suppress this warning by setting `warn_independent_sampling` to `False` in the constructor of `CmaEsSampler`, if this independent sampling is intended behavior.\n",
            "[I 2023-12-02 14:35:34,033] Trial 21 finished with value: 0.43128315911560333 and parameters: {'iterations': 737, 'depth': 7, 'learning_rate': 0.3610852488022079, 'random_strength': 52, 'bagging_temperature': 0.38818623387375967, 'od_type': 'Iter'}. Best is trial 20 with value: 0.4418844435890186.\n",
            "[W 2023-12-02 14:35:34,041] The parameter 'od_type' in trial#22 is sampled independently by using `RandomSampler` instead of `CmaEsSampler` (optimization performance may be degraded). `CmaEsSampler` does not support dynamic search space or `CategoricalDistribution`. You can suppress this warning by setting `warn_independent_sampling` to `False` in the constructor of `CmaEsSampler`, if this independent sampling is intended behavior.\n",
            "[I 2023-12-02 14:35:38,338] Trial 22 finished with value: 0.3933973069768817 and parameters: {'iterations': 448, 'depth': 8, 'learning_rate': 0.33555364550887706, 'random_strength': 28, 'bagging_temperature': 0.4015041855942763, 'od_type': 'Iter'}. Best is trial 20 with value: 0.4418844435890186.\n",
            "[W 2023-12-02 14:35:38,345] The parameter 'od_type' in trial#23 is sampled independently by using `RandomSampler` instead of `CmaEsSampler` (optimization performance may be degraded). `CmaEsSampler` does not support dynamic search space or `CategoricalDistribution`. You can suppress this warning by setting `warn_independent_sampling` to `False` in the constructor of `CmaEsSampler`, if this independent sampling is intended behavior.\n",
            "[I 2023-12-02 14:35:43,676] Trial 23 finished with value: 0.3964137134116872 and parameters: {'iterations': 703, 'depth': 8, 'learning_rate': 0.26540179680103443, 'random_strength': 34, 'bagging_temperature': 0.8154119782293656, 'od_type': 'Iter'}. Best is trial 20 with value: 0.4418844435890186.\n",
            "[W 2023-12-02 14:35:43,682] The parameter 'od_type' in trial#24 is sampled independently by using `RandomSampler` instead of `CmaEsSampler` (optimization performance may be degraded). `CmaEsSampler` does not support dynamic search space or `CategoricalDistribution`. You can suppress this warning by setting `warn_independent_sampling` to `False` in the constructor of `CmaEsSampler`, if this independent sampling is intended behavior.\n",
            "[I 2023-12-02 14:35:47,185] Trial 24 finished with value: 0.39294769775265037 and parameters: {'iterations': 460, 'depth': 8, 'learning_rate': 0.3975094116477712, 'random_strength': 41, 'bagging_temperature': 0.23427291793271612, 'od_type': 'IncToDec'}. Best is trial 20 with value: 0.4418844435890186.\n",
            "[W 2023-12-02 14:35:47,194] The parameter 'od_type' in trial#25 is sampled independently by using `RandomSampler` instead of `CmaEsSampler` (optimization performance may be degraded). `CmaEsSampler` does not support dynamic search space or `CategoricalDistribution`. You can suppress this warning by setting `warn_independent_sampling` to `False` in the constructor of `CmaEsSampler`, if this independent sampling is intended behavior.\n",
            "[I 2023-12-02 14:35:49,565] Trial 25 finished with value: 0.39015485809551215 and parameters: {'iterations': 604, 'depth': 6, 'learning_rate': 0.3849325478070697, 'random_strength': 32, 'bagging_temperature': 0.33143669412732724, 'od_type': 'IncToDec'}. Best is trial 20 with value: 0.4418844435890186.\n",
            "[W 2023-12-02 14:35:49,569] The parameter 'od_type' in trial#26 is sampled independently by using `RandomSampler` instead of `CmaEsSampler` (optimization performance may be degraded). `CmaEsSampler` does not support dynamic search space or `CategoricalDistribution`. You can suppress this warning by setting `warn_independent_sampling` to `False` in the constructor of `CmaEsSampler`, if this independent sampling is intended behavior.\n",
            "[I 2023-12-02 14:35:54,407] Trial 26 finished with value: 0.39204630997286827 and parameters: {'iterations': 754, 'depth': 8, 'learning_rate': 0.43087507741282643, 'random_strength': 65, 'bagging_temperature': 0.7421721307530309, 'od_type': 'IncToDec'}. Best is trial 20 with value: 0.4418844435890186.\n",
            "[W 2023-12-02 14:35:54,414] The parameter 'od_type' in trial#27 is sampled independently by using `RandomSampler` instead of `CmaEsSampler` (optimization performance may be degraded). `CmaEsSampler` does not support dynamic search space or `CategoricalDistribution`. You can suppress this warning by setting `warn_independent_sampling` to `False` in the constructor of `CmaEsSampler`, if this independent sampling is intended behavior.\n",
            "[I 2023-12-02 14:35:58,813] Trial 27 finished with value: 0.39596812950597976 and parameters: {'iterations': 802, 'depth': 8, 'learning_rate': 0.29839983512909024, 'random_strength': 51, 'bagging_temperature': 0.4686194765187599, 'od_type': 'Iter'}. Best is trial 20 with value: 0.4418844435890186.\n",
            "[W 2023-12-02 14:35:58,819] The parameter 'od_type' in trial#28 is sampled independently by using `RandomSampler` instead of `CmaEsSampler` (optimization performance may be degraded). `CmaEsSampler` does not support dynamic search space or `CategoricalDistribution`. You can suppress this warning by setting `warn_independent_sampling` to `False` in the constructor of `CmaEsSampler`, if this independent sampling is intended behavior.\n",
            "[I 2023-12-02 14:36:01,457] Trial 28 finished with value: 0.3982565148374445 and parameters: {'iterations': 651, 'depth': 6, 'learning_rate': 0.3012601518380653, 'random_strength': 64, 'bagging_temperature': 0.4416232332975564, 'od_type': 'Iter'}. Best is trial 20 with value: 0.4418844435890186.\n",
            "[W 2023-12-02 14:36:01,462] The parameter 'od_type' in trial#29 is sampled independently by using `RandomSampler` instead of `CmaEsSampler` (optimization performance may be degraded). `CmaEsSampler` does not support dynamic search space or `CategoricalDistribution`. You can suppress this warning by setting `warn_independent_sampling` to `False` in the constructor of `CmaEsSampler`, if this independent sampling is intended behavior.\n",
            "[I 2023-12-02 14:36:04,323] Trial 29 finished with value: 0.3963692451526103 and parameters: {'iterations': 876, 'depth': 6, 'learning_rate': 0.23388843182954488, 'random_strength': 72, 'bagging_temperature': 0.16369937249618602, 'od_type': 'IncToDec'}. Best is trial 20 with value: 0.4418844435890186.\n",
            "[W 2023-12-02 14:36:04,332] The parameter 'od_type' in trial#30 is sampled independently by using `RandomSampler` instead of `CmaEsSampler` (optimization performance may be degraded). `CmaEsSampler` does not support dynamic search space or `CategoricalDistribution`. You can suppress this warning by setting `warn_independent_sampling` to `False` in the constructor of `CmaEsSampler`, if this independent sampling is intended behavior.\n",
            "[I 2023-12-02 14:36:09,263] Trial 30 finished with value: 0.39467420300604517 and parameters: {'iterations': 720, 'depth': 8, 'learning_rate': 0.3119259475376257, 'random_strength': 60, 'bagging_temperature': 0.3859343218629343, 'od_type': 'IncToDec'}. Best is trial 20 with value: 0.4418844435890186.\n",
            "[W 2023-12-02 14:36:09,267] The parameter 'od_type' in trial#31 is sampled independently by using `RandomSampler` instead of `CmaEsSampler` (optimization performance may be degraded). `CmaEsSampler` does not support dynamic search space or `CategoricalDistribution`. You can suppress this warning by setting `warn_independent_sampling` to `False` in the constructor of `CmaEsSampler`, if this independent sampling is intended behavior.\n",
            "[I 2023-12-02 14:36:13,537] Trial 31 finished with value: 0.442913366494465 and parameters: {'iterations': 459, 'depth': 7, 'learning_rate': 0.30172810435989195, 'random_strength': 60, 'bagging_temperature': 0.4419889338882575, 'od_type': 'IncToDec'}. Best is trial 31 with value: 0.442913366494465.\n",
            "[W 2023-12-02 14:36:13,545] The parameter 'od_type' in trial#32 is sampled independently by using `RandomSampler` instead of `CmaEsSampler` (optimization performance may be degraded). `CmaEsSampler` does not support dynamic search space or `CategoricalDistribution`. You can suppress this warning by setting `warn_independent_sampling` to `False` in the constructor of `CmaEsSampler`, if this independent sampling is intended behavior.\n",
            "[I 2023-12-02 14:36:18,034] Trial 32 finished with value: 0.40665211467446244 and parameters: {'iterations': 824, 'depth': 8, 'learning_rate': 0.2730705194977086, 'random_strength': 58, 'bagging_temperature': 0.24855203053557237, 'od_type': 'IncToDec'}. Best is trial 31 with value: 0.442913366494465.\n",
            "[W 2023-12-02 14:36:18,042] The parameter 'od_type' in trial#33 is sampled independently by using `RandomSampler` instead of `CmaEsSampler` (optimization performance may be degraded). `CmaEsSampler` does not support dynamic search space or `CategoricalDistribution`. You can suppress this warning by setting `warn_independent_sampling` to `False` in the constructor of `CmaEsSampler`, if this independent sampling is intended behavior.\n",
            "[I 2023-12-02 14:36:22,624] Trial 33 finished with value: 0.3975740083759046 and parameters: {'iterations': 441, 'depth': 8, 'learning_rate': 0.266594661108276, 'random_strength': 33, 'bagging_temperature': 0.3770777151212078, 'od_type': 'IncToDec'}. Best is trial 31 with value: 0.442913366494465.\n",
            "[W 2023-12-02 14:36:22,630] The parameter 'od_type' in trial#34 is sampled independently by using `RandomSampler` instead of `CmaEsSampler` (optimization performance may be degraded). `CmaEsSampler` does not support dynamic search space or `CategoricalDistribution`. You can suppress this warning by setting `warn_independent_sampling` to `False` in the constructor of `CmaEsSampler`, if this independent sampling is intended behavior.\n",
            "[I 2023-12-02 14:36:28,177] Trial 34 finished with value: 0.4248693753504815 and parameters: {'iterations': 547, 'depth': 7, 'learning_rate': 0.19268145892712965, 'random_strength': 69, 'bagging_temperature': 0.29358069667827835, 'od_type': 'IncToDec'}. Best is trial 31 with value: 0.442913366494465.\n",
            "[W 2023-12-02 14:36:28,181] The parameter 'od_type' in trial#35 is sampled independently by using `RandomSampler` instead of `CmaEsSampler` (optimization performance may be degraded). `CmaEsSampler` does not support dynamic search space or `CategoricalDistribution`. You can suppress this warning by setting `warn_independent_sampling` to `False` in the constructor of `CmaEsSampler`, if this independent sampling is intended behavior.\n",
            "[I 2023-12-02 14:36:31,364] Trial 35 finished with value: 0.43586120094255687 and parameters: {'iterations': 571, 'depth': 7, 'learning_rate': 0.4287978001609114, 'random_strength': 68, 'bagging_temperature': 0.3292121843816313, 'od_type': 'Iter'}. Best is trial 31 with value: 0.442913366494465.\n",
            "[W 2023-12-02 14:36:31,371] The parameter 'od_type' in trial#36 is sampled independently by using `RandomSampler` instead of `CmaEsSampler` (optimization performance may be degraded). `CmaEsSampler` does not support dynamic search space or `CategoricalDistribution`. You can suppress this warning by setting `warn_independent_sampling` to `False` in the constructor of `CmaEsSampler`, if this independent sampling is intended behavior.\n",
            "[I 2023-12-02 14:36:35,536] Trial 36 finished with value: 0.43501811865704365 and parameters: {'iterations': 627, 'depth': 7, 'learning_rate': 0.22324554967705026, 'random_strength': 62, 'bagging_temperature': 0.3808769041402139, 'od_type': 'Iter'}. Best is trial 31 with value: 0.442913366494465.\n",
            "[W 2023-12-02 14:36:35,547] The parameter 'od_type' in trial#37 is sampled independently by using `RandomSampler` instead of `CmaEsSampler` (optimization performance may be degraded). `CmaEsSampler` does not support dynamic search space or `CategoricalDistribution`. You can suppress this warning by setting `warn_independent_sampling` to `False` in the constructor of `CmaEsSampler`, if this independent sampling is intended behavior.\n",
            "[I 2023-12-02 14:36:41,839] Trial 37 finished with value: 0.4323038743467533 and parameters: {'iterations': 780, 'depth': 7, 'learning_rate': 0.18902434407193774, 'random_strength': 56, 'bagging_temperature': 0.05264878511714749, 'od_type': 'Iter'}. Best is trial 31 with value: 0.442913366494465.\n",
            "[W 2023-12-02 14:36:41,844] The parameter 'od_type' in trial#38 is sampled independently by using `RandomSampler` instead of `CmaEsSampler` (optimization performance may be degraded). `CmaEsSampler` does not support dynamic search space or `CategoricalDistribution`. You can suppress this warning by setting `warn_independent_sampling` to `False` in the constructor of `CmaEsSampler`, if this independent sampling is intended behavior.\n",
            "[I 2023-12-02 14:36:45,365] Trial 38 finished with value: 0.39183731214014905 and parameters: {'iterations': 583, 'depth': 8, 'learning_rate': 0.36922214836050365, 'random_strength': 76, 'bagging_temperature': 0.5606403604152869, 'od_type': 'IncToDec'}. Best is trial 31 with value: 0.442913366494465.\n",
            "[W 2023-12-02 14:36:45,369] The parameter 'od_type' in trial#39 is sampled independently by using `RandomSampler` instead of `CmaEsSampler` (optimization performance may be degraded). `CmaEsSampler` does not support dynamic search space or `CategoricalDistribution`. You can suppress this warning by setting `warn_independent_sampling` to `False` in the constructor of `CmaEsSampler`, if this independent sampling is intended behavior.\n",
            "[I 2023-12-02 14:36:47,904] Trial 39 finished with value: 0.39515823040816356 and parameters: {'iterations': 609, 'depth': 6, 'learning_rate': 0.29979429157694437, 'random_strength': 55, 'bagging_temperature': 0.15252943908871772, 'od_type': 'Iter'}. Best is trial 31 with value: 0.442913366494465.\n",
            "[W 2023-12-02 14:36:47,912] The parameter 'od_type' in trial#40 is sampled independently by using `RandomSampler` instead of `CmaEsSampler` (optimization performance may be degraded). `CmaEsSampler` does not support dynamic search space or `CategoricalDistribution`. You can suppress this warning by setting `warn_independent_sampling` to `False` in the constructor of `CmaEsSampler`, if this independent sampling is intended behavior.\n",
            "[I 2023-12-02 14:36:53,491] Trial 40 finished with value: 0.40034831193723086 and parameters: {'iterations': 589, 'depth': 8, 'learning_rate': 0.32319069569692566, 'random_strength': 70, 'bagging_temperature': 0.49522935007271773, 'od_type': 'Iter'}. Best is trial 31 with value: 0.442913366494465.\n",
            "[W 2023-12-02 14:36:53,498] The parameter 'od_type' in trial#41 is sampled independently by using `RandomSampler` instead of `CmaEsSampler` (optimization performance may be degraded). `CmaEsSampler` does not support dynamic search space or `CategoricalDistribution`. You can suppress this warning by setting `warn_independent_sampling` to `False` in the constructor of `CmaEsSampler`, if this independent sampling is intended behavior.\n",
            "[I 2023-12-02 14:36:57,272] Trial 41 finished with value: 0.39990064396950004 and parameters: {'iterations': 617, 'depth': 8, 'learning_rate': 0.3514048488288751, 'random_strength': 94, 'bagging_temperature': 0.21068938298478038, 'od_type': 'Iter'}. Best is trial 31 with value: 0.442913366494465.\n",
            "[W 2023-12-02 14:36:57,277] The parameter 'od_type' in trial#42 is sampled independently by using `RandomSampler` instead of `CmaEsSampler` (optimization performance may be degraded). `CmaEsSampler` does not support dynamic search space or `CategoricalDistribution`. You can suppress this warning by setting `warn_independent_sampling` to `False` in the constructor of `CmaEsSampler`, if this independent sampling is intended behavior.\n",
            "[I 2023-12-02 14:37:00,963] Trial 42 finished with value: 0.42580071333811126 and parameters: {'iterations': 536, 'depth': 7, 'learning_rate': 0.2462060847525236, 'random_strength': 51, 'bagging_temperature': 0.4066920426330993, 'od_type': 'IncToDec'}. Best is trial 31 with value: 0.442913366494465.\n",
            "[W 2023-12-02 14:37:00,971] The parameter 'od_type' in trial#43 is sampled independently by using `RandomSampler` instead of `CmaEsSampler` (optimization performance may be degraded). `CmaEsSampler` does not support dynamic search space or `CategoricalDistribution`. You can suppress this warning by setting `warn_independent_sampling` to `False` in the constructor of `CmaEsSampler`, if this independent sampling is intended behavior.\n",
            "[I 2023-12-02 14:37:04,474] Trial 43 finished with value: 0.42927085491199646 and parameters: {'iterations': 446, 'depth': 7, 'learning_rate': 0.3719752751730016, 'random_strength': 51, 'bagging_temperature': 0.47423640508598164, 'od_type': 'Iter'}. Best is trial 31 with value: 0.442913366494465.\n",
            "[W 2023-12-02 14:37:04,485] The parameter 'od_type' in trial#44 is sampled independently by using `RandomSampler` instead of `CmaEsSampler` (optimization performance may be degraded). `CmaEsSampler` does not support dynamic search space or `CategoricalDistribution`. You can suppress this warning by setting `warn_independent_sampling` to `False` in the constructor of `CmaEsSampler`, if this independent sampling is intended behavior.\n",
            "[I 2023-12-02 14:37:08,625] Trial 44 finished with value: 0.4102838392350928 and parameters: {'iterations': 635, 'depth': 5, 'learning_rate': 0.40499072978434564, 'random_strength': 66, 'bagging_temperature': 0.15048282390616033, 'od_type': 'Iter'}. Best is trial 31 with value: 0.442913366494465.\n",
            "[W 2023-12-02 14:37:08,630] The parameter 'od_type' in trial#45 is sampled independently by using `RandomSampler` instead of `CmaEsSampler` (optimization performance may be degraded). `CmaEsSampler` does not support dynamic search space or `CategoricalDistribution`. You can suppress this warning by setting `warn_independent_sampling` to `False` in the constructor of `CmaEsSampler`, if this independent sampling is intended behavior.\n",
            "[I 2023-12-02 14:37:11,769] Trial 45 finished with value: 0.43835944669378274 and parameters: {'iterations': 631, 'depth': 7, 'learning_rate': 0.3822169139767789, 'random_strength': 52, 'bagging_temperature': 0.17245332777552874, 'od_type': 'Iter'}. Best is trial 31 with value: 0.442913366494465.\n",
            "[W 2023-12-02 14:37:11,776] The parameter 'od_type' in trial#46 is sampled independently by using `RandomSampler` instead of `CmaEsSampler` (optimization performance may be degraded). `CmaEsSampler` does not support dynamic search space or `CategoricalDistribution`. You can suppress this warning by setting `warn_independent_sampling` to `False` in the constructor of `CmaEsSampler`, if this independent sampling is intended behavior.\n",
            "[I 2023-12-02 14:37:15,155] Trial 46 finished with value: 0.4355400449976782 and parameters: {'iterations': 560, 'depth': 7, 'learning_rate': 0.3053551248049721, 'random_strength': 65, 'bagging_temperature': 0.4903763397236447, 'od_type': 'IncToDec'}. Best is trial 31 with value: 0.442913366494465.\n",
            "[W 2023-12-02 14:37:15,164] The parameter 'od_type' in trial#47 is sampled independently by using `RandomSampler` instead of `CmaEsSampler` (optimization performance may be degraded). `CmaEsSampler` does not support dynamic search space or `CategoricalDistribution`. You can suppress this warning by setting `warn_independent_sampling` to `False` in the constructor of `CmaEsSampler`, if this independent sampling is intended behavior.\n",
            "[I 2023-12-02 14:37:18,228] Trial 47 finished with value: 0.417764946795926 and parameters: {'iterations': 581, 'depth': 7, 'learning_rate': 0.34643116881099123, 'random_strength': 57, 'bagging_temperature': 0.3440370036673227, 'od_type': 'IncToDec'}. Best is trial 31 with value: 0.442913366494465.\n",
            "[W 2023-12-02 14:37:18,233] The parameter 'od_type' in trial#48 is sampled independently by using `RandomSampler` instead of `CmaEsSampler` (optimization performance may be degraded). `CmaEsSampler` does not support dynamic search space or `CategoricalDistribution`. You can suppress this warning by setting `warn_independent_sampling` to `False` in the constructor of `CmaEsSampler`, if this independent sampling is intended behavior.\n",
            "[I 2023-12-02 14:37:24,176] Trial 48 finished with value: 0.44184602588013566 and parameters: {'iterations': 788, 'depth': 7, 'learning_rate': 0.33583803867932244, 'random_strength': 82, 'bagging_temperature': 0.09504456977724493, 'od_type': 'IncToDec'}. Best is trial 31 with value: 0.442913366494465.\n",
            "[W 2023-12-02 14:37:24,185] The parameter 'od_type' in trial#49 is sampled independently by using `RandomSampler` instead of `CmaEsSampler` (optimization performance may be degraded). `CmaEsSampler` does not support dynamic search space or `CategoricalDistribution`. You can suppress this warning by setting `warn_independent_sampling` to `False` in the constructor of `CmaEsSampler`, if this independent sampling is intended behavior.\n",
            "[I 2023-12-02 14:37:27,887] Trial 49 finished with value: 0.446006441939521 and parameters: {'iterations': 818, 'depth': 7, 'learning_rate': 0.31567933816400695, 'random_strength': 64, 'bagging_temperature': 0.038522149276501466, 'od_type': 'Iter'}. Best is trial 49 with value: 0.446006441939521.\n",
            "[W 2023-12-02 14:37:27,894] The parameter 'od_type' in trial#50 is sampled independently by using `RandomSampler` instead of `CmaEsSampler` (optimization performance may be degraded). `CmaEsSampler` does not support dynamic search space or `CategoricalDistribution`. You can suppress this warning by setting `warn_independent_sampling` to `False` in the constructor of `CmaEsSampler`, if this independent sampling is intended behavior.\n",
            "[I 2023-12-02 14:37:31,006] Trial 50 finished with value: 0.42651607241008377 and parameters: {'iterations': 739, 'depth': 7, 'learning_rate': 0.3778261513982204, 'random_strength': 70, 'bagging_temperature': 0.03784793706560785, 'od_type': 'Iter'}. Best is trial 49 with value: 0.446006441939521.\n",
            "[W 2023-12-02 14:37:31,012] The parameter 'od_type' in trial#51 is sampled independently by using `RandomSampler` instead of `CmaEsSampler` (optimization performance may be degraded). `CmaEsSampler` does not support dynamic search space or `CategoricalDistribution`. You can suppress this warning by setting `warn_independent_sampling` to `False` in the constructor of `CmaEsSampler`, if this independent sampling is intended behavior.\n",
            "[I 2023-12-02 14:37:35,935] Trial 51 finished with value: 0.4371578353474141 and parameters: {'iterations': 685, 'depth': 7, 'learning_rate': 0.34052184952995435, 'random_strength': 69, 'bagging_temperature': 0.1830182361105549, 'od_type': 'IncToDec'}. Best is trial 49 with value: 0.446006441939521.\n",
            "[W 2023-12-02 14:37:35,947] The parameter 'od_type' in trial#52 is sampled independently by using `RandomSampler` instead of `CmaEsSampler` (optimization performance may be degraded). `CmaEsSampler` does not support dynamic search space or `CategoricalDistribution`. You can suppress this warning by setting `warn_independent_sampling` to `False` in the constructor of `CmaEsSampler`, if this independent sampling is intended behavior.\n",
            "[I 2023-12-02 14:37:38,818] Trial 52 finished with value: 0.3862503623797687 and parameters: {'iterations': 629, 'depth': 6, 'learning_rate': 0.29892877127027206, 'random_strength': 73, 'bagging_temperature': 0.3025591822012899, 'od_type': 'Iter'}. Best is trial 49 with value: 0.446006441939521.\n",
            "[W 2023-12-02 14:37:38,823] The parameter 'od_type' in trial#53 is sampled independently by using `RandomSampler` instead of `CmaEsSampler` (optimization performance may be degraded). `CmaEsSampler` does not support dynamic search space or `CategoricalDistribution`. You can suppress this warning by setting `warn_independent_sampling` to `False` in the constructor of `CmaEsSampler`, if this independent sampling is intended behavior.\n",
            "[I 2023-12-02 14:37:42,442] Trial 53 finished with value: 0.4389785940212261 and parameters: {'iterations': 668, 'depth': 7, 'learning_rate': 0.2853554353866527, 'random_strength': 88, 'bagging_temperature': 0.0403238584609428, 'od_type': 'Iter'}. Best is trial 49 with value: 0.446006441939521.\n",
            "[W 2023-12-02 14:37:42,447] The parameter 'od_type' in trial#54 is sampled independently by using `RandomSampler` instead of `CmaEsSampler` (optimization performance may be degraded). `CmaEsSampler` does not support dynamic search space or `CategoricalDistribution`. You can suppress this warning by setting `warn_independent_sampling` to `False` in the constructor of `CmaEsSampler`, if this independent sampling is intended behavior.\n",
            "[I 2023-12-02 14:37:45,976] Trial 54 finished with value: 0.3907893328052277 and parameters: {'iterations': 680, 'depth': 8, 'learning_rate': 0.3716134737731162, 'random_strength': 53, 'bagging_temperature': 0.1981518860949908, 'od_type': 'IncToDec'}. Best is trial 49 with value: 0.446006441939521.\n",
            "[W 2023-12-02 14:37:45,986] The parameter 'od_type' in trial#55 is sampled independently by using `RandomSampler` instead of `CmaEsSampler` (optimization performance may be degraded). `CmaEsSampler` does not support dynamic search space or `CategoricalDistribution`. You can suppress this warning by setting `warn_independent_sampling` to `False` in the constructor of `CmaEsSampler`, if this independent sampling is intended behavior.\n",
            "[I 2023-12-02 14:37:51,383] Trial 55 finished with value: 0.4518574593313116 and parameters: {'iterations': 787, 'depth': 7, 'learning_rate': 0.34112328083059146, 'random_strength': 76, 'bagging_temperature': 0.22086343477848788, 'od_type': 'IncToDec'}. Best is trial 55 with value: 0.4518574593313116.\n",
            "[W 2023-12-02 14:37:51,389] The parameter 'od_type' in trial#56 is sampled independently by using `RandomSampler` instead of `CmaEsSampler` (optimization performance may be degraded). `CmaEsSampler` does not support dynamic search space or `CategoricalDistribution`. You can suppress this warning by setting `warn_independent_sampling` to `False` in the constructor of `CmaEsSampler`, if this independent sampling is intended behavior.\n",
            "[I 2023-12-02 14:37:55,066] Trial 56 finished with value: 0.45297863733238586 and parameters: {'iterations': 656, 'depth': 7, 'learning_rate': 0.330775987420799, 'random_strength': 65, 'bagging_temperature': 0.24175116865830754, 'od_type': 'Iter'}. Best is trial 56 with value: 0.45297863733238586.\n",
            "[W 2023-12-02 14:37:55,075] The parameter 'od_type' in trial#57 is sampled independently by using `RandomSampler` instead of `CmaEsSampler` (optimization performance may be degraded). `CmaEsSampler` does not support dynamic search space or `CategoricalDistribution`. You can suppress this warning by setting `warn_independent_sampling` to `False` in the constructor of `CmaEsSampler`, if this independent sampling is intended behavior.\n",
            "[I 2023-12-02 14:37:58,573] Trial 57 finished with value: 0.4274305945171591 and parameters: {'iterations': 615, 'depth': 7, 'learning_rate': 0.27730496038362235, 'random_strength': 76, 'bagging_temperature': 0.14977139583613808, 'od_type': 'Iter'}. Best is trial 56 with value: 0.45297863733238586.\n",
            "[W 2023-12-02 14:37:58,582] The parameter 'od_type' in trial#58 is sampled independently by using `RandomSampler` instead of `CmaEsSampler` (optimization performance may be degraded). `CmaEsSampler` does not support dynamic search space or `CategoricalDistribution`. You can suppress this warning by setting `warn_independent_sampling` to `False` in the constructor of `CmaEsSampler`, if this independent sampling is intended behavior.\n",
            "[I 2023-12-02 14:38:00,979] Trial 58 finished with value: 0.3934539901600722 and parameters: {'iterations': 811, 'depth': 6, 'learning_rate': 0.38464627929465744, 'random_strength': 77, 'bagging_temperature': 0.33274453423986317, 'od_type': 'IncToDec'}. Best is trial 56 with value: 0.45297863733238586.\n",
            "[W 2023-12-02 14:38:00,985] The parameter 'od_type' in trial#59 is sampled independently by using `RandomSampler` instead of `CmaEsSampler` (optimization performance may be degraded). `CmaEsSampler` does not support dynamic search space or `CategoricalDistribution`. You can suppress this warning by setting `warn_independent_sampling` to `False` in the constructor of `CmaEsSampler`, if this independent sampling is intended behavior.\n",
            "[I 2023-12-02 14:38:04,558] Trial 59 finished with value: 0.3878899861791519 and parameters: {'iterations': 715, 'depth': 6, 'learning_rate': 0.37630601177291867, 'random_strength': 77, 'bagging_temperature': 0.10791987482239081, 'od_type': 'Iter'}. Best is trial 56 with value: 0.45297863733238586.\n",
            "[W 2023-12-02 14:38:04,568] The parameter 'od_type' in trial#60 is sampled independently by using `RandomSampler` instead of `CmaEsSampler` (optimization performance may be degraded). `CmaEsSampler` does not support dynamic search space or `CategoricalDistribution`. You can suppress this warning by setting `warn_independent_sampling` to `False` in the constructor of `CmaEsSampler`, if this independent sampling is intended behavior.\n",
            "[I 2023-12-02 14:38:08,961] Trial 60 finished with value: 0.4318326612816824 and parameters: {'iterations': 620, 'depth': 7, 'learning_rate': 0.2812744597616821, 'random_strength': 62, 'bagging_temperature': 0.11034134456461155, 'od_type': 'Iter'}. Best is trial 56 with value: 0.45297863733238586.\n",
            "[W 2023-12-02 14:38:08,972] The parameter 'od_type' in trial#61 is sampled independently by using `RandomSampler` instead of `CmaEsSampler` (optimization performance may be degraded). `CmaEsSampler` does not support dynamic search space or `CategoricalDistribution`. You can suppress this warning by setting `warn_independent_sampling` to `False` in the constructor of `CmaEsSampler`, if this independent sampling is intended behavior.\n",
            "[I 2023-12-02 14:38:12,140] Trial 61 finished with value: 0.4248618905609905 and parameters: {'iterations': 640, 'depth': 7, 'learning_rate': 0.31932167546276885, 'random_strength': 63, 'bagging_temperature': 0.11992691276286026, 'od_type': 'IncToDec'}. Best is trial 56 with value: 0.45297863733238586.\n",
            "[W 2023-12-02 14:38:12,147] The parameter 'od_type' in trial#62 is sampled independently by using `RandomSampler` instead of `CmaEsSampler` (optimization performance may be degraded). `CmaEsSampler` does not support dynamic search space or `CategoricalDistribution`. You can suppress this warning by setting `warn_independent_sampling` to `False` in the constructor of `CmaEsSampler`, if this independent sampling is intended behavior.\n",
            "[I 2023-12-02 14:38:15,323] Trial 62 finished with value: 0.42700286360540984 and parameters: {'iterations': 817, 'depth': 7, 'learning_rate': 0.3593289455452957, 'random_strength': 62, 'bagging_temperature': 0.2561589592683016, 'od_type': 'IncToDec'}. Best is trial 56 with value: 0.45297863733238586.\n",
            "[W 2023-12-02 14:38:15,332] The parameter 'od_type' in trial#63 is sampled independently by using `RandomSampler` instead of `CmaEsSampler` (optimization performance may be degraded). `CmaEsSampler` does not support dynamic search space or `CategoricalDistribution`. You can suppress this warning by setting `warn_independent_sampling` to `False` in the constructor of `CmaEsSampler`, if this independent sampling is intended behavior.\n",
            "[I 2023-12-02 14:38:20,633] Trial 63 finished with value: 0.4229248056978937 and parameters: {'iterations': 524, 'depth': 7, 'learning_rate': 0.33456055264282647, 'random_strength': 70, 'bagging_temperature': 0.30709140182528855, 'od_type': 'IncToDec'}. Best is trial 56 with value: 0.45297863733238586.\n",
            "[W 2023-12-02 14:38:20,638] The parameter 'od_type' in trial#64 is sampled independently by using `RandomSampler` instead of `CmaEsSampler` (optimization performance may be degraded). `CmaEsSampler` does not support dynamic search space or `CategoricalDistribution`. You can suppress this warning by setting `warn_independent_sampling` to `False` in the constructor of `CmaEsSampler`, if this independent sampling is intended behavior.\n",
            "[I 2023-12-02 14:38:23,906] Trial 64 finished with value: 0.4337108486646818 and parameters: {'iterations': 712, 'depth': 7, 'learning_rate': 0.37540988607129616, 'random_strength': 63, 'bagging_temperature': 0.13186244786130968, 'od_type': 'Iter'}. Best is trial 56 with value: 0.45297863733238586.\n",
            "[W 2023-12-02 14:38:23,913] The parameter 'od_type' in trial#65 is sampled independently by using `RandomSampler` instead of `CmaEsSampler` (optimization performance may be degraded). `CmaEsSampler` does not support dynamic search space or `CategoricalDistribution`. You can suppress this warning by setting `warn_independent_sampling` to `False` in the constructor of `CmaEsSampler`, if this independent sampling is intended behavior.\n",
            "[I 2023-12-02 14:38:26,903] Trial 65 finished with value: 0.42404911624466146 and parameters: {'iterations': 656, 'depth': 7, 'learning_rate': 0.43324698438373377, 'random_strength': 74, 'bagging_temperature': 0.2251141411402004, 'od_type': 'Iter'}. Best is trial 56 with value: 0.45297863733238586.\n",
            "[W 2023-12-02 14:38:26,909] The parameter 'od_type' in trial#66 is sampled independently by using `RandomSampler` instead of `CmaEsSampler` (optimization performance may be degraded). `CmaEsSampler` does not support dynamic search space or `CategoricalDistribution`. You can suppress this warning by setting `warn_independent_sampling` to `False` in the constructor of `CmaEsSampler`, if this independent sampling is intended behavior.\n",
            "[I 2023-12-02 14:38:29,768] Trial 66 finished with value: 0.4062805383413884 and parameters: {'iterations': 821, 'depth': 6, 'learning_rate': 0.2556948360856726, 'random_strength': 70, 'bagging_temperature': 0.23438976569438771, 'od_type': 'IncToDec'}. Best is trial 56 with value: 0.45297863733238586.\n",
            "[W 2023-12-02 14:38:29,777] The parameter 'od_type' in trial#67 is sampled independently by using `RandomSampler` instead of `CmaEsSampler` (optimization performance may be degraded). `CmaEsSampler` does not support dynamic search space or `CategoricalDistribution`. You can suppress this warning by setting `warn_independent_sampling` to `False` in the constructor of `CmaEsSampler`, if this independent sampling is intended behavior.\n",
            "[I 2023-12-02 14:38:35,149] Trial 67 finished with value: 0.4390294098931876 and parameters: {'iterations': 776, 'depth': 7, 'learning_rate': 0.4268248988333306, 'random_strength': 69, 'bagging_temperature': 0.2531349848778173, 'od_type': 'IncToDec'}. Best is trial 56 with value: 0.45297863733238586.\n",
            "[W 2023-12-02 14:38:35,155] The parameter 'od_type' in trial#68 is sampled independently by using `RandomSampler` instead of `CmaEsSampler` (optimization performance may be degraded). `CmaEsSampler` does not support dynamic search space or `CategoricalDistribution`. You can suppress this warning by setting `warn_independent_sampling` to `False` in the constructor of `CmaEsSampler`, if this independent sampling is intended behavior.\n",
            "[I 2023-12-02 14:38:38,318] Trial 68 finished with value: 0.43773041537773605 and parameters: {'iterations': 688, 'depth': 7, 'learning_rate': 0.41286121009714527, 'random_strength': 42, 'bagging_temperature': 0.18127421075704628, 'od_type': 'Iter'}. Best is trial 56 with value: 0.45297863733238586.\n",
            "[W 2023-12-02 14:38:38,326] The parameter 'od_type' in trial#69 is sampled independently by using `RandomSampler` instead of `CmaEsSampler` (optimization performance may be degraded). `CmaEsSampler` does not support dynamic search space or `CategoricalDistribution`. You can suppress this warning by setting `warn_independent_sampling` to `False` in the constructor of `CmaEsSampler`, if this independent sampling is intended behavior.\n",
            "[I 2023-12-02 14:38:41,749] Trial 69 finished with value: 0.44796752656481936 and parameters: {'iterations': 593, 'depth': 7, 'learning_rate': 0.348273621259192, 'random_strength': 69, 'bagging_temperature': 0.14516227642270507, 'od_type': 'IncToDec'}. Best is trial 56 with value: 0.45297863733238586.\n",
            "[W 2023-12-02 14:38:41,755] The parameter 'od_type' in trial#70 is sampled independently by using `RandomSampler` instead of `CmaEsSampler` (optimization performance may be degraded). `CmaEsSampler` does not support dynamic search space or `CategoricalDistribution`. You can suppress this warning by setting `warn_independent_sampling` to `False` in the constructor of `CmaEsSampler`, if this independent sampling is intended behavior.\n",
            "[I 2023-12-02 14:38:45,324] Trial 70 finished with value: 0.43036274697594995 and parameters: {'iterations': 564, 'depth': 7, 'learning_rate': 0.2696370739595482, 'random_strength': 46, 'bagging_temperature': 0.34952167082616026, 'od_type': 'Iter'}. Best is trial 56 with value: 0.45297863733238586.\n",
            "[W 2023-12-02 14:38:45,329] The parameter 'od_type' in trial#71 is sampled independently by using `RandomSampler` instead of `CmaEsSampler` (optimization performance may be degraded). `CmaEsSampler` does not support dynamic search space or `CategoricalDistribution`. You can suppress this warning by setting `warn_independent_sampling` to `False` in the constructor of `CmaEsSampler`, if this independent sampling is intended behavior.\n",
            "[I 2023-12-02 14:38:50,850] Trial 71 finished with value: 0.4276650424472379 and parameters: {'iterations': 517, 'depth': 7, 'learning_rate': 0.27780556254351574, 'random_strength': 40, 'bagging_temperature': 0.2697491746815006, 'od_type': 'IncToDec'}. Best is trial 56 with value: 0.45297863733238586.\n",
            "[W 2023-12-02 14:38:50,855] The parameter 'od_type' in trial#72 is sampled independently by using `RandomSampler` instead of `CmaEsSampler` (optimization performance may be degraded). `CmaEsSampler` does not support dynamic search space or `CategoricalDistribution`. You can suppress this warning by setting `warn_independent_sampling` to `False` in the constructor of `CmaEsSampler`, if this independent sampling is intended behavior.\n",
            "[I 2023-12-02 14:38:54,613] Trial 72 finished with value: 0.4324946144699573 and parameters: {'iterations': 676, 'depth': 7, 'learning_rate': 0.2543366521373648, 'random_strength': 59, 'bagging_temperature': 0.1584410263012267, 'od_type': 'Iter'}. Best is trial 56 with value: 0.45297863733238586.\n",
            "[W 2023-12-02 14:38:54,621] The parameter 'od_type' in trial#73 is sampled independently by using `RandomSampler` instead of `CmaEsSampler` (optimization performance may be degraded). `CmaEsSampler` does not support dynamic search space or `CategoricalDistribution`. You can suppress this warning by setting `warn_independent_sampling` to `False` in the constructor of `CmaEsSampler`, if this independent sampling is intended behavior.\n",
            "[I 2023-12-02 14:38:58,029] Trial 73 finished with value: 0.43962392956006335 and parameters: {'iterations': 710, 'depth': 7, 'learning_rate': 0.35135316279770024, 'random_strength': 64, 'bagging_temperature': 0.255522922894279, 'od_type': 'IncToDec'}. Best is trial 56 with value: 0.45297863733238586.\n",
            "[W 2023-12-02 14:38:58,042] The parameter 'od_type' in trial#74 is sampled independently by using `RandomSampler` instead of `CmaEsSampler` (optimization performance may be degraded). `CmaEsSampler` does not support dynamic search space or `CategoricalDistribution`. You can suppress this warning by setting `warn_independent_sampling` to `False` in the constructor of `CmaEsSampler`, if this independent sampling is intended behavior.\n",
            "[I 2023-12-02 14:39:02,768] Trial 74 finished with value: 0.44301310313181635 and parameters: {'iterations': 678, 'depth': 7, 'learning_rate': 0.49541299884244155, 'random_strength': 64, 'bagging_temperature': 0.23267982290406453, 'od_type': 'Iter'}. Best is trial 56 with value: 0.45297863733238586.\n",
            "[W 2023-12-02 14:39:02,773] The parameter 'od_type' in trial#75 is sampled independently by using `RandomSampler` instead of `CmaEsSampler` (optimization performance may be degraded). `CmaEsSampler` does not support dynamic search space or `CategoricalDistribution`. You can suppress this warning by setting `warn_independent_sampling` to `False` in the constructor of `CmaEsSampler`, if this independent sampling is intended behavior.\n",
            "[I 2023-12-02 14:39:06,468] Trial 75 finished with value: 0.42433735089622526 and parameters: {'iterations': 686, 'depth': 7, 'learning_rate': 0.4189085057351548, 'random_strength': 64, 'bagging_temperature': 0.11620256439087023, 'od_type': 'Iter'}. Best is trial 56 with value: 0.45297863733238586.\n",
            "[W 2023-12-02 14:39:06,474] The parameter 'od_type' in trial#76 is sampled independently by using `RandomSampler` instead of `CmaEsSampler` (optimization performance may be degraded). `CmaEsSampler` does not support dynamic search space or `CategoricalDistribution`. You can suppress this warning by setting `warn_independent_sampling` to `False` in the constructor of `CmaEsSampler`, if this independent sampling is intended behavior.\n",
            "[I 2023-12-02 14:39:09,988] Trial 76 finished with value: 0.4356436552538653 and parameters: {'iterations': 616, 'depth': 7, 'learning_rate': 0.35839106650964137, 'random_strength': 41, 'bagging_temperature': 0.26338571088542556, 'od_type': 'IncToDec'}. Best is trial 56 with value: 0.45297863733238586.\n",
            "[W 2023-12-02 14:39:10,008] The parameter 'od_type' in trial#77 is sampled independently by using `RandomSampler` instead of `CmaEsSampler` (optimization performance may be degraded). `CmaEsSampler` does not support dynamic search space or `CategoricalDistribution`. You can suppress this warning by setting `warn_independent_sampling` to `False` in the constructor of `CmaEsSampler`, if this independent sampling is intended behavior.\n",
            "[I 2023-12-02 14:39:13,138] Trial 77 finished with value: 0.4246989422997525 and parameters: {'iterations': 684, 'depth': 7, 'learning_rate': 0.369450235696899, 'random_strength': 67, 'bagging_temperature': 0.1318255454735626, 'od_type': 'IncToDec'}. Best is trial 56 with value: 0.45297863733238586.\n",
            "[W 2023-12-02 14:39:13,144] The parameter 'od_type' in trial#78 is sampled independently by using `RandomSampler` instead of `CmaEsSampler` (optimization performance may be degraded). `CmaEsSampler` does not support dynamic search space or `CategoricalDistribution`. You can suppress this warning by setting `warn_independent_sampling` to `False` in the constructor of `CmaEsSampler`, if this independent sampling is intended behavior.\n",
            "[I 2023-12-02 14:39:16,888] Trial 78 finished with value: 0.3872121545527974 and parameters: {'iterations': 663, 'depth': 6, 'learning_rate': 0.3903775023807133, 'random_strength': 64, 'bagging_temperature': 0.11689748179753419, 'od_type': 'Iter'}. Best is trial 56 with value: 0.45297863733238586.\n",
            "[W 2023-12-02 14:39:16,895] The parameter 'od_type' in trial#79 is sampled independently by using `RandomSampler` instead of `CmaEsSampler` (optimization performance may be degraded). `CmaEsSampler` does not support dynamic search space or `CategoricalDistribution`. You can suppress this warning by setting `warn_independent_sampling` to `False` in the constructor of `CmaEsSampler`, if this independent sampling is intended behavior.\n",
            "[I 2023-12-02 14:39:20,708] Trial 79 finished with value: 0.43492340876723273 and parameters: {'iterations': 566, 'depth': 7, 'learning_rate': 0.36527445597365243, 'random_strength': 61, 'bagging_temperature': 0.2381595516272774, 'od_type': 'IncToDec'}. Best is trial 56 with value: 0.45297863733238586.\n",
            "[W 2023-12-02 14:39:20,713] The parameter 'od_type' in trial#80 is sampled independently by using `RandomSampler` instead of `CmaEsSampler` (optimization performance may be degraded). `CmaEsSampler` does not support dynamic search space or `CategoricalDistribution`. You can suppress this warning by setting `warn_independent_sampling` to `False` in the constructor of `CmaEsSampler`, if this independent sampling is intended behavior.\n",
            "[I 2023-12-02 14:39:24,043] Trial 80 finished with value: 0.43754512831611325 and parameters: {'iterations': 466, 'depth': 7, 'learning_rate': 0.3237743814100575, 'random_strength': 50, 'bagging_temperature': 0.4560711208254957, 'od_type': 'IncToDec'}. Best is trial 56 with value: 0.45297863733238586.\n",
            "[W 2023-12-02 14:39:24,049] The parameter 'od_type' in trial#81 is sampled independently by using `RandomSampler` instead of `CmaEsSampler` (optimization performance may be degraded). `CmaEsSampler` does not support dynamic search space or `CategoricalDistribution`. You can suppress this warning by setting `warn_independent_sampling` to `False` in the constructor of `CmaEsSampler`, if this independent sampling is intended behavior.\n",
            "[I 2023-12-02 14:39:27,557] Trial 81 finished with value: 0.3923286855546477 and parameters: {'iterations': 674, 'depth': 8, 'learning_rate': 0.4349602705294655, 'random_strength': 61, 'bagging_temperature': 0.30167481368565896, 'od_type': 'IncToDec'}. Best is trial 56 with value: 0.45297863733238586.\n",
            "[W 2023-12-02 14:39:27,562] The parameter 'od_type' in trial#82 is sampled independently by using `RandomSampler` instead of `CmaEsSampler` (optimization performance may be degraded). `CmaEsSampler` does not support dynamic search space or `CategoricalDistribution`. You can suppress this warning by setting `warn_independent_sampling` to `False` in the constructor of `CmaEsSampler`, if this independent sampling is intended behavior.\n",
            "[I 2023-12-02 14:39:33,005] Trial 82 finished with value: 0.4442664488326697 and parameters: {'iterations': 634, 'depth': 7, 'learning_rate': 0.407544585871418, 'random_strength': 51, 'bagging_temperature': 0.4361759608600291, 'od_type': 'Iter'}. Best is trial 56 with value: 0.45297863733238586.\n",
            "[W 2023-12-02 14:39:33,011] The parameter 'od_type' in trial#83 is sampled independently by using `RandomSampler` instead of `CmaEsSampler` (optimization performance may be degraded). `CmaEsSampler` does not support dynamic search space or `CategoricalDistribution`. You can suppress this warning by setting `warn_independent_sampling` to `False` in the constructor of `CmaEsSampler`, if this independent sampling is intended behavior.\n",
            "[I 2023-12-02 14:39:36,161] Trial 83 finished with value: 0.43522577597597734 and parameters: {'iterations': 709, 'depth': 7, 'learning_rate': 0.41395224303528494, 'random_strength': 78, 'bagging_temperature': 0.33937461529425417, 'od_type': 'Iter'}. Best is trial 56 with value: 0.45297863733238586.\n",
            "[W 2023-12-02 14:39:36,166] The parameter 'od_type' in trial#84 is sampled independently by using `RandomSampler` instead of `CmaEsSampler` (optimization performance may be degraded). `CmaEsSampler` does not support dynamic search space or `CategoricalDistribution`. You can suppress this warning by setting `warn_independent_sampling` to `False` in the constructor of `CmaEsSampler`, if this independent sampling is intended behavior.\n",
            "[I 2023-12-02 14:39:39,231] Trial 84 finished with value: 0.42449407430153274 and parameters: {'iterations': 636, 'depth': 7, 'learning_rate': 0.3855135162562549, 'random_strength': 64, 'bagging_temperature': 0.4217526441595983, 'od_type': 'Iter'}. Best is trial 56 with value: 0.45297863733238586.\n",
            "[W 2023-12-02 14:39:39,236] The parameter 'od_type' in trial#85 is sampled independently by using `RandomSampler` instead of `CmaEsSampler` (optimization performance may be degraded). `CmaEsSampler` does not support dynamic search space or `CategoricalDistribution`. You can suppress this warning by setting `warn_independent_sampling` to `False` in the constructor of `CmaEsSampler`, if this independent sampling is intended behavior.\n",
            "[I 2023-12-02 14:39:42,272] Trial 85 finished with value: 0.4235970751452368 and parameters: {'iterations': 658, 'depth': 7, 'learning_rate': 0.39712648919206894, 'random_strength': 67, 'bagging_temperature': 0.25451777708191037, 'od_type': 'Iter'}. Best is trial 56 with value: 0.45297863733238586.\n",
            "[W 2023-12-02 14:39:42,281] The parameter 'od_type' in trial#86 is sampled independently by using `RandomSampler` instead of `CmaEsSampler` (optimization performance may be degraded). `CmaEsSampler` does not support dynamic search space or `CategoricalDistribution`. You can suppress this warning by setting `warn_independent_sampling` to `False` in the constructor of `CmaEsSampler`, if this independent sampling is intended behavior.\n",
            "[I 2023-12-02 14:39:47,737] Trial 86 finished with value: 0.44185452402163994 and parameters: {'iterations': 649, 'depth': 7, 'learning_rate': 0.44089539220374246, 'random_strength': 62, 'bagging_temperature': 0.22828519343894998, 'od_type': 'Iter'}. Best is trial 56 with value: 0.45297863733238586.\n",
            "[W 2023-12-02 14:39:47,744] The parameter 'od_type' in trial#87 is sampled independently by using `RandomSampler` instead of `CmaEsSampler` (optimization performance may be degraded). `CmaEsSampler` does not support dynamic search space or `CategoricalDistribution`. You can suppress this warning by setting `warn_independent_sampling` to `False` in the constructor of `CmaEsSampler`, if this independent sampling is intended behavior.\n",
            "[I 2023-12-02 14:39:51,200] Trial 87 finished with value: 0.4434930353165898 and parameters: {'iterations': 772, 'depth': 7, 'learning_rate': 0.32565629969506393, 'random_strength': 60, 'bagging_temperature': 0.1475007026449574, 'od_type': 'Iter'}. Best is trial 56 with value: 0.45297863733238586.\n",
            "[W 2023-12-02 14:39:51,207] The parameter 'od_type' in trial#88 is sampled independently by using `RandomSampler` instead of `CmaEsSampler` (optimization performance may be degraded). `CmaEsSampler` does not support dynamic search space or `CategoricalDistribution`. You can suppress this warning by setting `warn_independent_sampling` to `False` in the constructor of `CmaEsSampler`, if this independent sampling is intended behavior.\n",
            "[I 2023-12-02 14:39:54,155] Trial 88 finished with value: 0.4169179949760135 and parameters: {'iterations': 651, 'depth': 7, 'learning_rate': 0.3911983109818079, 'random_strength': 31, 'bagging_temperature': 0.3644061986408041, 'od_type': 'Iter'}. Best is trial 56 with value: 0.45297863733238586.\n",
            "[W 2023-12-02 14:39:54,163] The parameter 'od_type' in trial#89 is sampled independently by using `RandomSampler` instead of `CmaEsSampler` (optimization performance may be degraded). `CmaEsSampler` does not support dynamic search space or `CategoricalDistribution`. You can suppress this warning by setting `warn_independent_sampling` to `False` in the constructor of `CmaEsSampler`, if this independent sampling is intended behavior.\n",
            "[I 2023-12-02 14:39:57,205] Trial 89 finished with value: 0.42252720338451166 and parameters: {'iterations': 829, 'depth': 7, 'learning_rate': 0.37409386939113853, 'random_strength': 69, 'bagging_temperature': 0.21234907470060713, 'od_type': 'IncToDec'}. Best is trial 56 with value: 0.45297863733238586.\n",
            "[W 2023-12-02 14:39:57,214] The parameter 'od_type' in trial#90 is sampled independently by using `RandomSampler` instead of `CmaEsSampler` (optimization performance may be degraded). `CmaEsSampler` does not support dynamic search space or `CategoricalDistribution`. You can suppress this warning by setting `warn_independent_sampling` to `False` in the constructor of `CmaEsSampler`, if this independent sampling is intended behavior.\n",
            "[I 2023-12-02 14:40:02,525] Trial 90 finished with value: 0.4248346265302299 and parameters: {'iterations': 699, 'depth': 7, 'learning_rate': 0.3873486258643237, 'random_strength': 40, 'bagging_temperature': 0.28212923007429996, 'od_type': 'Iter'}. Best is trial 56 with value: 0.45297863733238586.\n",
            "[W 2023-12-02 14:40:02,530] The parameter 'od_type' in trial#91 is sampled independently by using `RandomSampler` instead of `CmaEsSampler` (optimization performance may be degraded). `CmaEsSampler` does not support dynamic search space or `CategoricalDistribution`. You can suppress this warning by setting `warn_independent_sampling` to `False` in the constructor of `CmaEsSampler`, if this independent sampling is intended behavior.\n",
            "[I 2023-12-02 14:40:06,024] Trial 91 finished with value: 0.44715369641179115 and parameters: {'iterations': 722, 'depth': 7, 'learning_rate': 0.31450981368632563, 'random_strength': 53, 'bagging_temperature': 0.26931651656785155, 'od_type': 'IncToDec'}. Best is trial 56 with value: 0.45297863733238586.\n",
            "[W 2023-12-02 14:40:06,030] The parameter 'od_type' in trial#92 is sampled independently by using `RandomSampler` instead of `CmaEsSampler` (optimization performance may be degraded). `CmaEsSampler` does not support dynamic search space or `CategoricalDistribution`. You can suppress this warning by setting `warn_independent_sampling` to `False` in the constructor of `CmaEsSampler`, if this independent sampling is intended behavior.\n",
            "[I 2023-12-02 14:40:09,348] Trial 92 finished with value: 0.441669103241135 and parameters: {'iterations': 652, 'depth': 7, 'learning_rate': 0.37201684869311413, 'random_strength': 49, 'bagging_temperature': 0.3755815197656533, 'od_type': 'IncToDec'}. Best is trial 56 with value: 0.45297863733238586.\n",
            "[W 2023-12-02 14:40:09,354] The parameter 'od_type' in trial#93 is sampled independently by using `RandomSampler` instead of `CmaEsSampler` (optimization performance may be degraded). `CmaEsSampler` does not support dynamic search space or `CategoricalDistribution`. You can suppress this warning by setting `warn_independent_sampling` to `False` in the constructor of `CmaEsSampler`, if this independent sampling is intended behavior.\n",
            "[I 2023-12-02 14:40:13,583] Trial 93 finished with value: 0.4294260113575247 and parameters: {'iterations': 665, 'depth': 7, 'learning_rate': 0.365544758477036, 'random_strength': 52, 'bagging_temperature': 0.33087903161740967, 'od_type': 'Iter'}. Best is trial 56 with value: 0.45297863733238586.\n",
            "[W 2023-12-02 14:40:13,589] The parameter 'od_type' in trial#94 is sampled independently by using `RandomSampler` instead of `CmaEsSampler` (optimization performance may be degraded). `CmaEsSampler` does not support dynamic search space or `CategoricalDistribution`. You can suppress this warning by setting `warn_independent_sampling` to `False` in the constructor of `CmaEsSampler`, if this independent sampling is intended behavior.\n",
            "[I 2023-12-02 14:40:17,982] Trial 94 finished with value: 0.43244570651823383 and parameters: {'iterations': 691, 'depth': 7, 'learning_rate': 0.4064265079351449, 'random_strength': 65, 'bagging_temperature': 0.26329694954411875, 'od_type': 'IncToDec'}. Best is trial 56 with value: 0.45297863733238586.\n",
            "[W 2023-12-02 14:40:17,988] The parameter 'od_type' in trial#95 is sampled independently by using `RandomSampler` instead of `CmaEsSampler` (optimization performance may be degraded). `CmaEsSampler` does not support dynamic search space or `CategoricalDistribution`. You can suppress this warning by setting `warn_independent_sampling` to `False` in the constructor of `CmaEsSampler`, if this independent sampling is intended behavior.\n",
            "[I 2023-12-02 14:40:20,978] Trial 95 finished with value: 0.4316755956138277 and parameters: {'iterations': 844, 'depth': 7, 'learning_rate': 0.4792211631985004, 'random_strength': 61, 'bagging_temperature': 0.30670937396801634, 'od_type': 'Iter'}. Best is trial 56 with value: 0.45297863733238586.\n",
            "[W 2023-12-02 14:40:20,986] The parameter 'od_type' in trial#96 is sampled independently by using `RandomSampler` instead of `CmaEsSampler` (optimization performance may be degraded). `CmaEsSampler` does not support dynamic search space or `CategoricalDistribution`. You can suppress this warning by setting `warn_independent_sampling` to `False` in the constructor of `CmaEsSampler`, if this independent sampling is intended behavior.\n",
            "[I 2023-12-02 14:40:24,224] Trial 96 finished with value: 0.4393531867490584 and parameters: {'iterations': 606, 'depth': 7, 'learning_rate': 0.4137812862222975, 'random_strength': 66, 'bagging_temperature': 0.40871219677232823, 'od_type': 'IncToDec'}. Best is trial 56 with value: 0.45297863733238586.\n",
            "[W 2023-12-02 14:40:24,232] The parameter 'od_type' in trial#97 is sampled independently by using `RandomSampler` instead of `CmaEsSampler` (optimization performance may be degraded). `CmaEsSampler` does not support dynamic search space or `CategoricalDistribution`. You can suppress this warning by setting `warn_independent_sampling` to `False` in the constructor of `CmaEsSampler`, if this independent sampling is intended behavior.\n",
            "[I 2023-12-02 14:40:28,927] Trial 97 finished with value: 0.4300481703131561 and parameters: {'iterations': 605, 'depth': 7, 'learning_rate': 0.3505080891122753, 'random_strength': 59, 'bagging_temperature': 0.4337143967299468, 'od_type': 'IncToDec'}. Best is trial 56 with value: 0.45297863733238586.\n",
            "[W 2023-12-02 14:40:28,937] The parameter 'od_type' in trial#98 is sampled independently by using `RandomSampler` instead of `CmaEsSampler` (optimization performance may be degraded). `CmaEsSampler` does not support dynamic search space or `CategoricalDistribution`. You can suppress this warning by setting `warn_independent_sampling` to `False` in the constructor of `CmaEsSampler`, if this independent sampling is intended behavior.\n",
            "[I 2023-12-02 14:40:32,910] Trial 98 finished with value: 0.4606253841577265 and parameters: {'iterations': 765, 'depth': 7, 'learning_rate': 0.4215442884400564, 'random_strength': 53, 'bagging_temperature': 0.3908827467071071, 'od_type': 'Iter'}. Best is trial 98 with value: 0.4606253841577265.\n",
            "[W 2023-12-02 14:40:32,915] The parameter 'od_type' in trial#99 is sampled independently by using `RandomSampler` instead of `CmaEsSampler` (optimization performance may be degraded). `CmaEsSampler` does not support dynamic search space or `CategoricalDistribution`. You can suppress this warning by setting `warn_independent_sampling` to `False` in the constructor of `CmaEsSampler`, if this independent sampling is intended behavior.\n",
            "[I 2023-12-02 14:40:36,270] Trial 99 finished with value: 0.44480980759388816 and parameters: {'iterations': 618, 'depth': 7, 'learning_rate': 0.36445042053821736, 'random_strength': 69, 'bagging_temperature': 0.2759376312900727, 'od_type': 'IncToDec'}. Best is trial 98 with value: 0.4606253841577265.\n"
          ]
        },
        {
          "output_type": "stream",
          "name": "stdout",
          "text": [
            "Best trial: {'iterations': 765, 'depth': 7, 'learning_rate': 0.4215442884400564, 'random_strength': 53, 'bagging_temperature': 0.3908827467071071, 'od_type': 'Iter'}\n"
          ]
        }
      ]
    },
    {
      "cell_type": "code",
      "source": [
        "# Optuna 스터디에서 최적의 하이퍼파라미터 가져오기\n",
        "best_params = study.best_trial.params\n",
        "\n",
        "# 최적의 하이퍼파라미터를 사용하여 CatBoost 모델 초기화\n",
        "final_model = CatBoostClassifier(**best_params, verbose=0)\n",
        "\n",
        "# 전체 훈련 데이터셋을 사용하여 최종 모델 훈련\n",
        "final_model.fit(x, y)\n",
        "\n",
        "# 테스트 데이터셋에 대한 예측 수행\n",
        "predictions = final_model.predict(new_x)\n",
        "\n",
        "# 여기서 X_train, y_train, X_test는 실제 데이터셋을 가리킵니다.\n",
        "# X_train, y_train은 모델 훈련에 사용되는 전체 훈련 데이터셋이고,\n",
        "# X_test는 최종 예측을 수행할 테스트 데이터셋입니다."
      ],
      "metadata": {
        "id": "ZA__-1gK8Oph"
      },
      "execution_count": null,
      "outputs": []
    },
    {
      "cell_type": "code",
      "source": [
        "# 예측값 저장\n",
        "df_sub['target'] = predictions\n",
        "df_sub.set_index('user_id').to_csv('stratified_optuna(cmaes).csv', encoding=\"cp949\")"
      ],
      "metadata": {
        "id": "SdoS-kiP87Bc"
      },
      "execution_count": null,
      "outputs": []
    },
    {
      "cell_type": "code",
      "source": [],
      "metadata": {
        "id": "wzrDsBie_d6A"
      },
      "execution_count": null,
      "outputs": []
    }
  ]
}