{
  "nbformat": 4,
  "nbformat_minor": 0,
  "metadata": {
    "colab": {
      "provenance": [],
      "authorship_tag": "ABX9TyOzP+xi7p9hVnjPw4pLi1d9",
      "include_colab_link": true
    },
    "kernelspec": {
      "name": "python3",
      "display_name": "Python 3"
    },
    "language_info": {
      "name": "python"
    }
  },
  "cells": [
    {
      "cell_type": "markdown",
      "metadata": {
        "id": "view-in-github",
        "colab_type": "text"
      },
      "source": [
        "<a href=\"https://colab.research.google.com/github/ljs7463/AnalysisProject/blob/master/%EB%8D%B0%EC%9D%B4%EC%BD%98/analytics/RandomForest.ipynb\" target=\"_parent\"><img src=\"https://colab.research.google.com/assets/colab-badge.svg\" alt=\"Open In Colab\"/></a>"
      ]
    },
    {
      "cell_type": "code",
      "execution_count": 1,
      "metadata": {
        "id": "wot1dv1k56jx"
      },
      "outputs": [],
      "source": [
        "import pandas as pd\n",
        "import numpy as np\n",
        "\n",
        "import matplotlib.pyplot as plt\n",
        "import seaborn as sns\n",
        "import warnings\n",
        "import os\n",
        "\n",
        "# 시각화 폰트 설정\n",
        "if os.name =='posix':\n",
        "    plt.rc(\"font\", family = \"AppleGothic\")\n",
        "\n",
        "else:\n",
        "    plt.rc(\"font\", family = \"Malgun Gothic\")\n",
        "\n",
        "# 경고문자 무시\n",
        "warnings.filterwarnings(action='ignore')"
      ]
    },
    {
      "cell_type": "code",
      "source": [
        "# 쥬피터 실행시\n",
        "# train_path = '../data/open/train.csv'\n",
        "# test_path = '../data/open/test.csv'\n",
        "# info_path = '../data/open/data_info.csv'\n",
        "# sub_path = '../data/open/sample_submission.csv'\n",
        "# df_train = pd.read_csv(train_path)\n",
        "# df_test = pd.read_csv(test_path)\n",
        "# df_info = pd.read_csv(info_path)\n",
        "# df_sub = pd.read_csv(sub_path)\n",
        "\n",
        "# 코랩 실행시\n",
        "df_train = pd.read_csv('train.csv')\n",
        "df_test = pd.read_csv('test.csv')\n",
        "df_sub = pd.read_csv('sample_submission.csv')\n",
        "df_info = pd.read_csv('data_info.csv')"
      ],
      "metadata": {
        "id": "6us3eCTq6Nj8"
      },
      "execution_count": 2,
      "outputs": []
    },
    {
      "cell_type": "code",
      "source": [
        "## Label Encoding\n",
        "\n",
        "## train데이터\n",
        "df_train['preferred_difficulty_level'] = pd.factorize(df_train['preferred_difficulty_level'])[0]\n",
        "df_train['subscription_type'] = pd.factorize(df_train['subscription_type'])[0]\n",
        "\n",
        "## test데이터\n",
        "df_test['preferred_difficulty_level'] = pd.factorize(df_test['preferred_difficulty_level'])[0]\n",
        "df_test['subscription_type'] = pd.factorize(df_test['subscription_type'])[0]"
      ],
      "metadata": {
        "id": "pbHZJBx-6Tbb"
      },
      "execution_count": 3,
      "outputs": []
    },
    {
      "cell_type": "code",
      "source": [
        "from sklearn.preprocessing import StandardScaler\n",
        "scaler = StandardScaler()\n",
        "for i in [['subscription_duration','recent_login_time','average_time_per_learning_session','monthly_active_learning_days','total_completed_courses','recent_learning_achievement','abandoned_learning_sessions','community_engagement_level','customer_inquiry_history','payment_pattern']]:\n",
        "  df_train[i] = scaler.fit_transform(df_train[i])\n",
        "for i in [['subscription_duration','recent_login_time','average_time_per_learning_session','monthly_active_learning_days','total_completed_courses','recent_learning_achievement','abandoned_learning_sessions','community_engagement_level','customer_inquiry_history','payment_pattern']]:\n",
        "  df_test[i] = scaler.transform(df_test[i])"
      ],
      "metadata": {
        "id": "Jhtz0xIm6UdF"
      },
      "execution_count": 4,
      "outputs": []
    },
    {
      "cell_type": "code",
      "source": [
        "# Delete user_id\n",
        "df_train = df_train.drop(columns = 'user_id')\n",
        "\n",
        "# split target\n",
        "x = df_train[list(df_train.columns[:-1])]\n",
        "y = df_train['target']"
      ],
      "metadata": {
        "id": "JTIhDbNF6VZg"
      },
      "execution_count": 5,
      "outputs": []
    },
    {
      "cell_type": "code",
      "source": [
        "# Delete user_id\n",
        "df_test = df_test.drop(columns = 'user_id')\n",
        "\n",
        "# split target\n",
        "new_x = df_test\n"
      ],
      "metadata": {
        "id": "MT-yxqTK6W6X"
      },
      "execution_count": 6,
      "outputs": []
    },
    {
      "cell_type": "code",
      "source": [
        "from sklearn.ensemble import RandomForestClassifier\n",
        "from sklearn.metrics import make_scorer, f1_score\n",
        "from sklearn.model_selection import GridSearchCV, train_test_split\n",
        "import pandas as pd\n",
        "\n",
        "# 데이터 분할\n",
        "x_train, x_test, y_train, y_test = train_test_split(x, y, test_size=0.2, random_state=42)\n",
        "\n",
        "# GridsearchCV\n",
        "params = {\n",
        "    'n_estimators' : [100, 200, 300, 400],\n",
        "    'max_depth':[6,8,10,12],\n",
        "    'min_samples_leaf' :[8, 12, 18],\n",
        "    'min_samples_split':[8,16,20]\n",
        "}\n",
        "\n",
        "\n",
        "# 랜덤포레스트 모델 생성\n",
        "rf_clf = RandomForestClassifier(random_state = 0, n_jobs = -1)\n",
        "grid_cv = GridSearchCV(rf_clf, param_grid = params, cv = 5,scoring='f1_macro', n_jobs = -1)\n",
        "grid_cv.fit(x_train, y_train)\n",
        "\n",
        "print(f'최적 하이퍼 파라미터 : {grid_cv.best_params_}')\n",
        "print(f'최고 예측 정확도 : {grid_cv.best_score_0}')\n",
        "\n",
        "#최적 하이퍼 파라미터 : {'max_depth': 12, 'min_samples_leaf': 18, 'min_samples_split': 8, 'n_estimators': 100}\n",
        "#최고 예측 정확도 : 0.6198750000000001"
      ],
      "metadata": {
        "colab": {
          "base_uri": "https://localhost:8080/"
        },
        "id": "hFPzRu_p6Xie",
        "outputId": "5eec9ef2-3636-4e66-fa4f-6a9ca89b6dfd"
      },
      "execution_count": 9,
      "outputs": [
        {
          "output_type": "stream",
          "name": "stdout",
          "text": [
            "최적 하이퍼 파라미터 : {'max_depth': 12, 'min_samples_leaf': 8, 'min_samples_split': 8, 'n_estimators': 100}\n",
            "최고 예측 정확도 : 0.38606798199211834\n"
          ]
        }
      ]
    },
    {
      "cell_type": "code",
      "source": [
        "rf_clf1 = RandomForestClassifier(\n",
        "            n_estimators = 100,\n",
        "            max_depth = 12,\n",
        "            min_samples_leaf = 18,\n",
        "            min_sampels_split = 8\n",
        "            )\n",
        "rf_clf1.fit(x_train, y_train)\n",
        "pred = rf_clf"
      ],
      "metadata": {
        "id": "umuttKysApXf"
      },
      "execution_count": null,
      "outputs": []
    }
  ]
}