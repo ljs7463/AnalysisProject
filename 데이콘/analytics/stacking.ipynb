{
  "nbformat": 4,
  "nbformat_minor": 0,
  "metadata": {
    "colab": {
      "provenance": [],
      "authorship_tag": "ABX9TyPne+Qb7CK9V+D6Tt7t0tRC",
      "include_colab_link": true
    },
    "kernelspec": {
      "name": "python3",
      "display_name": "Python 3"
    },
    "language_info": {
      "name": "python"
    }
  },
  "cells": [
    {
      "cell_type": "markdown",
      "metadata": {
        "id": "view-in-github",
        "colab_type": "text"
      },
      "source": [
        "<a href=\"https://colab.research.google.com/github/ljs7463/AnalysisProject/blob/main/%EB%8D%B0%EC%9D%B4%EC%BD%98/analytics/stacking.ipynb\" target=\"_parent\"><img src=\"https://colab.research.google.com/assets/colab-badge.svg\" alt=\"Open In Colab\"/></a>"
      ]
    },
    {
      "cell_type": "markdown",
      "source": [
        "# Import lib & load dataset"
      ],
      "metadata": {
        "id": "cFNmJ8dqOhUi"
      }
    },
    {
      "cell_type": "code",
      "execution_count": 1,
      "metadata": {
        "id": "yRZsR_aOMS7G"
      },
      "outputs": [],
      "source": [
        "import pandas as pd\n",
        "import numpy as np\n",
        "\n",
        "import matplotlib.pyplot as plt\n",
        "import seaborn as sns\n",
        "import warnings\n",
        "import os\n",
        "\n",
        "# 시각화 폰트 설정\n",
        "if os.name =='posix':\n",
        "    plt.rc(\"font\", family = \"AppleGothic\")\n",
        "\n",
        "else:\n",
        "    plt.rc(\"font\", family = \"Malgun Gothic\")\n",
        "\n",
        "# 경고문자 무시\n",
        "warnings.filterwarnings(action='ignore')\n",
        "\n",
        "\n",
        "# 데이터 로드\n",
        "df_train = pd.read_csv('train.csv')\n",
        "df_test = pd.read_csv('test.csv')\n",
        "df_sub = pd.read_csv('sample_submission.csv')\n",
        "df_info = pd.read_csv('data_info.csv')"
      ]
    },
    {
      "cell_type": "markdown",
      "source": [
        "# preprocessing & split dataset"
      ],
      "metadata": {
        "id": "nmaa1fv3OpbT"
      }
    },
    {
      "cell_type": "code",
      "source": [
        "## Label Encoding\n",
        "\n",
        "## train데이터\n",
        "df_train['preferred_difficulty_level'] = pd.factorize(df_train['preferred_difficulty_level'])[0]\n",
        "df_train['subscription_type'] = pd.factorize(df_train['subscription_type'])[0]\n",
        "\n",
        "## test데이터\n",
        "df_test['preferred_difficulty_level'] = pd.factorize(df_test['preferred_difficulty_level'])[0]\n",
        "df_test['subscription_type'] = pd.factorize(df_test['subscription_type'])[0]\n",
        "\n",
        "# scaler\n",
        "from sklearn.preprocessing import StandardScaler\n",
        "scaler = StandardScaler()\n",
        "for i in [['subscription_duration','recent_login_time','average_time_per_learning_session','monthly_active_learning_days','total_completed_courses','recent_learning_achievement','abandoned_learning_sessions','community_engagement_level','customer_inquiry_history','payment_pattern']]:\n",
        "  df_train[i] = scaler.fit_transform(df_train[i])\n",
        "for i in [['subscription_duration','recent_login_time','average_time_per_learning_session','monthly_active_learning_days','total_completed_courses','recent_learning_achievement','abandoned_learning_sessions','community_engagement_level','customer_inquiry_history','payment_pattern']]:\n",
        "  df_test[i] = scaler.transform(df_test[i])\n",
        "\n",
        "# Delete user_id\n",
        "df_train = df_train.drop(columns = 'user_id')\n",
        "\n",
        "# split target\n",
        "x = df_train[list(df_train.columns[:-1])]\n",
        "y = df_train['target']\n",
        "\n",
        "# Delete user_id\n",
        "df_test = df_test.drop(columns = 'user_id')\n",
        "# split target\n",
        "new_x = df_test\n"
      ],
      "metadata": {
        "id": "ehFU5RcTMgh9"
      },
      "execution_count": 3,
      "outputs": []
    },
    {
      "cell_type": "markdown",
      "source": [
        "# import lib for modeling"
      ],
      "metadata": {
        "id": "IiBu7vLjOs6s"
      }
    },
    {
      "cell_type": "code",
      "source": [
        "import optuna\n",
        "from lightgbm import LGBMClassifier,early_stopping\n",
        "from catboost import CatBoostClassifier\n",
        "from sklearn.model_selection import KFold\n",
        "from sklearn.model_selection import GridSearchCV, train_test_split\n",
        "from sklearn.metrics import make_scorer, f1_score"
      ],
      "metadata": {
        "id": "apF8LLeNNuUZ"
      },
      "execution_count": null,
      "outputs": []
    },
    {
      "cell_type": "code",
      "source": [
        "import optuna\n",
        "import numpy as np\n",
        "from catboost import CatBoostClassifier\n",
        "from sklearn.model_selection import KFold\n",
        "from sklearn.metrics import f1_score\n",
        "\n",
        "# 사용할 모델 선정\n",
        "# 1. lightgbm\n",
        "# 2. catboost\n",
        "# 3. logistic\n",
        "# 4. SVM\n",
        "# 5. KNN\n",
        "# 6. 나이브베이즈\n",
        "\n",
        "\n",
        "\n",
        "# catboost 하이퍼파라미터\n",
        "cat_params= {\n",
        "    'iterations': trial.suggest_int('iterations', 800, 1000),\n",
        "    'depth': trial.suggest_int('depth', 4, 10),\n",
        "    'learning_rate': trial.suggest_float('learning_rate', 0.01, 0.5),\n",
        "    'random_strength': trial.suggest_int('random_strength', 0, 100),\n",
        "    'bagging_temperature': trial.suggest_float('bagging_temperature', 0.0, 1.0),\n",
        "    'od_type': trial.suggest_categorical('od_type', ['IncToDec', 'Iter'])\n",
        "}\n",
        "\n",
        "\n",
        "# LightGbm 하이퍼파라미터\n",
        "params = {\n",
        "      'objective': 'binary',\n",
        "      'num_leaves': trial.suggest_int('num_leaves', 100, 500, step=1, log=True),\n",
        "      'max_depth': trial.suggest_int('max_depth', 1, 10, step=1, log=False),\n",
        "      'learning_rate': trial.suggest_float('learning_rate', 0.01, 0.1, log=True),\n",
        "      'n_estimators': trial.suggest_int('n_estimators', 900, 1000, step=1, log=True),\n",
        "      'class_weight': trial.suggest_categorical('class_weight', ['balanced', None]),\n",
        "      'min_child_samples': trial.suggest_int('min_child_samples', 10, 50, step=10, log=False),\n",
        "      'subsample': trial.suggest_uniform('subsample', 0.7, 1.0),\n",
        "      'colsample_bytree': trial.suggest_uniform('colsample_bytree', 0.7, 1.0),\n",
        "      'reg_alpha': trial.suggest_uniform('reg_alpha', 0.0, 1.0),\n",
        "      'reg_lambda': trial.suggest_uniform('reg_lambda', 0.0, 10.0),\n",
        "      'random_state': 0\n",
        "}\n",
        "\n",
        "# xgboost 하이퍼파라미터\n",
        "params = {\n",
        "      \"objective\":'binary:logistic',\n",
        "      'max_depth': trial.suggest_int('max_depth', 3, 9),\n",
        "      'learning_rate': trial.suggest_loguniform('learning_rate', 0.01, 0.1),\n",
        "      'n_estimators': trial.suggest_int('n_estimators',1000,1001),\n",
        "      'min_child_weight': trial.suggest_int('min_child_weight', 1, 10),\n",
        "      'gamma': trial.suggest_loguniform('gamma', 1e-8, 1.0),\n",
        "      'subsample': trial.suggest_loguniform('subsample', 0.01, 1.0),\n",
        "      'colsample_bytree': trial.suggest_loguniform('colsample_bytree', 0.01, 1.0),\n",
        "      'reg_alpha': trial.suggest_loguniform('reg_alpha', 1e-8, 1.0),\n",
        "      'reg_lambda': trial.suggest_loguniform('reg_lambda', 1e-8, 1.0),\n",
        "      'eval_metric': 'logloss',\n",
        "      'use_label_encoder': False\n",
        "  }\n"
      ],
      "metadata": {
        "id": "OY1tjc_ENqRX"
      },
      "execution_count": null,
      "outputs": []
    }
  ]
}