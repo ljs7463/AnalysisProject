{
  "nbformat": 4,
  "nbformat_minor": 0,
  "metadata": {
    "colab": {
      "provenance": []
    },
    "kernelspec": {
      "name": "python3",
      "display_name": "Python 3"
    },
    "language_info": {
      "name": "python"
    }
  },
  "cells": [
    {
      "cell_type": "code",
      "source": [
        "!pip install optuna"
      ],
      "metadata": {
        "colab": {
          "base_uri": "https://localhost:8080/"
        },
        "id": "-PvVkigjk2A4",
        "outputId": "8ca469b3-8b13-48d3-fc7c-a55f590abb4a"
      },
      "execution_count": 1,
      "outputs": [
        {
          "output_type": "stream",
          "name": "stdout",
          "text": [
            "Collecting optuna\n",
            "  Downloading optuna-3.5.0-py3-none-any.whl (413 kB)\n",
            "\u001b[2K     \u001b[90m━━━━━━━━━━━━━━━━━━━━━━━━━━━━━━━━━━━━━━━━\u001b[0m \u001b[32m413.4/413.4 kB\u001b[0m \u001b[31m4.8 MB/s\u001b[0m eta \u001b[36m0:00:00\u001b[0m\n",
            "\u001b[?25hCollecting alembic>=1.5.0 (from optuna)\n",
            "  Downloading alembic-1.13.0-py3-none-any.whl (230 kB)\n",
            "\u001b[2K     \u001b[90m━━━━━━━━━━━━━━━━━━━━━━━━━━━━━━━━━━━━━━━━\u001b[0m \u001b[32m230.6/230.6 kB\u001b[0m \u001b[31m7.3 MB/s\u001b[0m eta \u001b[36m0:00:00\u001b[0m\n",
            "\u001b[?25hCollecting colorlog (from optuna)\n",
            "  Downloading colorlog-6.8.0-py3-none-any.whl (11 kB)\n",
            "Requirement already satisfied: numpy in /usr/local/lib/python3.10/dist-packages (from optuna) (1.23.5)\n",
            "Requirement already satisfied: packaging>=20.0 in /usr/local/lib/python3.10/dist-packages (from optuna) (23.2)\n",
            "Requirement already satisfied: sqlalchemy>=1.3.0 in /usr/local/lib/python3.10/dist-packages (from optuna) (2.0.23)\n",
            "Requirement already satisfied: tqdm in /usr/local/lib/python3.10/dist-packages (from optuna) (4.66.1)\n",
            "Requirement already satisfied: PyYAML in /usr/local/lib/python3.10/dist-packages (from optuna) (6.0.1)\n",
            "Collecting Mako (from alembic>=1.5.0->optuna)\n",
            "  Downloading Mako-1.3.0-py3-none-any.whl (78 kB)\n",
            "\u001b[2K     \u001b[90m━━━━━━━━━━━━━━━━━━━━━━━━━━━━━━━━━━━━━━━━\u001b[0m \u001b[32m78.6/78.6 kB\u001b[0m \u001b[31m10.0 MB/s\u001b[0m eta \u001b[36m0:00:00\u001b[0m\n",
            "\u001b[?25hRequirement already satisfied: typing-extensions>=4 in /usr/local/lib/python3.10/dist-packages (from alembic>=1.5.0->optuna) (4.5.0)\n",
            "Requirement already satisfied: greenlet!=0.4.17 in /usr/local/lib/python3.10/dist-packages (from sqlalchemy>=1.3.0->optuna) (3.0.1)\n",
            "Requirement already satisfied: MarkupSafe>=0.9.2 in /usr/local/lib/python3.10/dist-packages (from Mako->alembic>=1.5.0->optuna) (2.1.3)\n",
            "Installing collected packages: Mako, colorlog, alembic, optuna\n",
            "Successfully installed Mako-1.3.0 alembic-1.13.0 colorlog-6.8.0 optuna-3.5.0\n"
          ]
        }
      ]
    },
    {
      "cell_type": "markdown",
      "source": [
        "# Import lib & load dataset"
      ],
      "metadata": {
        "id": "OJYvKDiBkZn1"
      }
    },
    {
      "cell_type": "code",
      "execution_count": 2,
      "metadata": {
        "id": "VmnMEdihkSPh"
      },
      "outputs": [],
      "source": [
        "import pandas as pd\n",
        "import numpy as np\n",
        "\n",
        "import matplotlib.pyplot as plt\n",
        "import seaborn as sns\n",
        "import warnings\n",
        "import os\n",
        "\n",
        "# 시각화 폰트 설정\n",
        "if os.name =='posix':\n",
        "    plt.rc(\"font\", family = \"AppleGothic\")\n",
        "\n",
        "else:\n",
        "    plt.rc(\"font\", family = \"Malgun Gothic\")\n",
        "\n",
        "# 경고문자 무시\n",
        "warnings.filterwarnings(action='ignore')\n",
        "\n",
        "\n",
        "# 데이터 로드\n",
        "df_train = pd.read_csv('train.csv')\n",
        "df_test = pd.read_csv('test.csv')\n",
        "df_sub = pd.read_csv('sample_submission.csv')\n",
        "df_info = pd.read_csv('data_info.csv')"
      ]
    },
    {
      "cell_type": "markdown",
      "source": [
        "# preprocessing & split dataset"
      ],
      "metadata": {
        "id": "UGouMf_5keEu"
      }
    },
    {
      "cell_type": "code",
      "source": [
        "## Label Encoding\n",
        "\n",
        "## train데이터\n",
        "df_train['preferred_difficulty_level'] = pd.factorize(df_train['preferred_difficulty_level'])[0]\n",
        "df_train['subscription_type'] = pd.factorize(df_train['subscription_type'])[0]\n",
        "\n",
        "## test데이터\n",
        "df_test['preferred_difficulty_level'] = pd.factorize(df_test['preferred_difficulty_level'])[0]\n",
        "df_test['subscription_type'] = pd.factorize(df_test['subscription_type'])[0]\n",
        "\n",
        "# scaler\n",
        "from sklearn.preprocessing import StandardScaler\n",
        "scaler = StandardScaler()\n",
        "for i in [['subscription_duration','recent_login_time','average_time_per_learning_session','monthly_active_learning_days','total_completed_courses','recent_learning_achievement','abandoned_learning_sessions','community_engagement_level','customer_inquiry_history','payment_pattern']]:\n",
        "  df_train[i] = scaler.fit_transform(df_train[i])\n",
        "for i in [['subscription_duration','recent_login_time','average_time_per_learning_session','monthly_active_learning_days','total_completed_courses','recent_learning_achievement','abandoned_learning_sessions','community_engagement_level','customer_inquiry_history','payment_pattern']]:\n",
        "  df_test[i] = scaler.transform(df_test[i])\n",
        "\n",
        "# Delete user_id\n",
        "df_train = df_train.drop(columns = 'user_id')\n",
        "\n",
        "# split target\n",
        "x = df_train[list(df_train.columns[:-1])]\n",
        "y = df_train['target']\n",
        "\n",
        "# Delete user_id\n",
        "df_test = df_test.drop(columns = 'user_id')\n",
        "# split target\n",
        "new_x = df_test\n"
      ],
      "metadata": {
        "id": "72UbpESukd26"
      },
      "execution_count": 3,
      "outputs": []
    },
    {
      "cell_type": "markdown",
      "source": [
        "# Make model"
      ],
      "metadata": {
        "id": "lgD-PM9Uk9C_"
      }
    },
    {
      "cell_type": "code",
      "source": [
        "import optuna\n",
        "from sklearn.model_selection import KFold\n",
        "from sklearn.model_selection import GridSearchCV, train_test_split\n",
        "from sklearn.metrics import make_scorer, f1_score\n",
        "import numpy as np\n",
        "from sklearn.metrics import f1_score\n",
        "from sklearn.model_selection import cross_val_score\n",
        "from sklearn.neighbors import KNeighborsClassifier\n",
        "\n",
        "# split data(train & val)\n",
        "x_train, x_val, y_train, y_val = train_test_split(x, y, test_size = 0.2,random_state = 42)\n",
        "\n",
        "print(x_train.shape)\n",
        "print(x_val.shape)\n",
        "print(y_train.shape)\n",
        "print(y_val.shape)\n",
        "print(new_x.shape)"
      ],
      "metadata": {
        "colab": {
          "base_uri": "https://localhost:8080/"
        },
        "id": "bNLm8QXCkZBX",
        "outputId": "43d95117-dfc2-4c80-844a-3248b95f9a8d"
      },
      "execution_count": 5,
      "outputs": [
        {
          "output_type": "stream",
          "name": "stdout",
          "text": [
            "(8000, 13)\n",
            "(2000, 13)\n",
            "(8000,)\n",
            "(2000,)\n",
            "(10000, 13)\n"
          ]
        }
      ]
    },
    {
      "cell_type": "code",
      "source": [
        "# 목적 함수 정의\n",
        "# 랜덤 시드 고정\n",
        "np.random.seed(42)\n",
        "optuna.logging.set_verbosity(optuna.logging.WARNING)\n",
        "\n",
        "def obj_knn(trial,x,y):\n",
        "    n_neighbors = trial.suggest_int('n_neighbors', 1, 30)\n",
        "    metric = trial.suggest_categorical('metric', ['euclidean', 'manhattan', 'minkowski'])\n",
        "    weights = trial.suggest_categorical('weights', ['uniform', 'distance'])\n",
        "\n",
        "    model = KNeighborsClassifier(n_neighbors=n_neighbors, metric=metric, weights=weights)\n",
        "    score = cross_val_score(model, x, y, n_jobs=-1, cv=10, scoring='f1_macro')\n",
        "    f1_macro = np.mean(score)\n",
        "\n",
        "    return f1_macro\n",
        "\n",
        "# Optuna 최적화 실행\n",
        "study = optuna.create_study(direction='maximize', sampler=optuna.samplers.TPESampler(seed=42))\n",
        "# lambda 함수를 사용하여 x와 y를 objective 함수에 전달\n",
        "study.optimize(lambda trial: obj_knn(trial, x_train, y_train), n_trials = 80)\n",
        "\n",
        "\n",
        "# 최적 파라미터 출력\n",
        "print(\"Best trial:\")\n",
        "trial = study.best_trial\n",
        "print(\"  Value: {}\".format(trial.value))\n",
        "print(\"  Params: \")\n",
        "for key, value in trial.params.items():\n",
        "    print(\"    {}: {}\".format(key, value))\n",
        "\n",
        "# 최적 파라미터로 모델 학습\n",
        "best_params = study.best_trial.params\n",
        "knn_model = KNeighborsClassifier(**best_params)"
      ],
      "metadata": {
        "colab": {
          "base_uri": "https://localhost:8080/"
        },
        "id": "JC7AFR7wk_Bz",
        "outputId": "0a23e742-de2a-4b00-e270-b03a70da8689"
      },
      "execution_count": 6,
      "outputs": [
        {
          "output_type": "stream",
          "name": "stdout",
          "text": [
            "Best trial:\n",
            "  Value: 0.5098032215581101\n",
            "  Params: \n",
            "    n_neighbors: 10\n",
            "    metric: euclidean\n",
            "    weights: uniform\n"
          ]
        }
      ]
    },
    {
      "cell_type": "code",
      "source": [
        "# bset parmeter training\n",
        "knn_model.fit(x_train,y_train)\n",
        "y_val_pred = knn_model.predict(x_val)\n",
        "f1_score(y_val, y_val_pred, average = 'macro')"
      ],
      "metadata": {
        "colab": {
          "base_uri": "https://localhost:8080/"
        },
        "id": "pgfwj3e5lCeA",
        "outputId": "191d49b6-e6e0-4d79-c0e4-68ce1f064cb7"
      },
      "execution_count": 8,
      "outputs": [
        {
          "output_type": "execute_result",
          "data": {
            "text/plain": [
              "0.5032003512854291"
            ]
          },
          "metadata": {},
          "execution_count": 8
        }
      ]
    },
    {
      "cell_type": "markdown",
      "source": [
        "# Evaluate"
      ],
      "metadata": {
        "id": "Y9pzPXgSlI7B"
      }
    },
    {
      "cell_type": "code",
      "source": [
        "# 혼동행렬\n",
        "\n",
        "\n",
        "\n",
        "from sklearn.metrics import confusion_matrix\n",
        "# 혼동 행렬 계산\n",
        "cm = confusion_matrix(y_val, y_val_pred)\n",
        "\n",
        "# 혼동 행렬 시각화\n",
        "plt.figure(figsize=(10, 7))\n",
        "sns.heatmap(cm, annot=True, fmt='g')\n",
        "plt.xlabel('Predicted')\n",
        "plt.ylabel('True')\n",
        "plt.show()"
      ],
      "metadata": {
        "colab": {
          "base_uri": "https://localhost:8080/",
          "height": 1000
        },
        "id": "w44uR4D4lHxF",
        "outputId": "9578e4a0-eacf-414f-c60e-12936674227b"
      },
      "execution_count": 9,
      "outputs": [
        {
          "output_type": "stream",
          "name": "stderr",
          "text": [
            "WARNING:matplotlib.font_manager:findfont: Font family 'AppleGothic' not found.\n",
            "WARNING:matplotlib.font_manager:findfont: Font family 'AppleGothic' not found.\n",
            "WARNING:matplotlib.font_manager:findfont: Font family 'AppleGothic' not found.\n",
            "WARNING:matplotlib.font_manager:findfont: Font family 'AppleGothic' not found.\n",
            "WARNING:matplotlib.font_manager:findfont: Font family 'AppleGothic' not found.\n",
            "WARNING:matplotlib.font_manager:findfont: Font family 'AppleGothic' not found.\n",
            "WARNING:matplotlib.font_manager:findfont: Font family 'AppleGothic' not found.\n",
            "WARNING:matplotlib.font_manager:findfont: Font family 'AppleGothic' not found.\n",
            "WARNING:matplotlib.font_manager:findfont: Font family 'AppleGothic' not found.\n",
            "WARNING:matplotlib.font_manager:findfont: Font family 'AppleGothic' not found.\n",
            "WARNING:matplotlib.font_manager:findfont: Font family 'AppleGothic' not found.\n",
            "WARNING:matplotlib.font_manager:findfont: Font family 'AppleGothic' not found.\n",
            "WARNING:matplotlib.font_manager:findfont: Font family 'AppleGothic' not found.\n",
            "WARNING:matplotlib.font_manager:findfont: Font family 'AppleGothic' not found.\n",
            "WARNING:matplotlib.font_manager:findfont: Font family 'AppleGothic' not found.\n",
            "WARNING:matplotlib.font_manager:findfont: Font family 'AppleGothic' not found.\n",
            "WARNING:matplotlib.font_manager:findfont: Font family 'AppleGothic' not found.\n",
            "WARNING:matplotlib.font_manager:findfont: Font family 'AppleGothic' not found.\n",
            "WARNING:matplotlib.font_manager:findfont: Font family 'AppleGothic' not found.\n",
            "WARNING:matplotlib.font_manager:findfont: Font family 'AppleGothic' not found.\n",
            "WARNING:matplotlib.font_manager:findfont: Font family 'AppleGothic' not found.\n",
            "WARNING:matplotlib.font_manager:findfont: Font family 'AppleGothic' not found.\n",
            "WARNING:matplotlib.font_manager:findfont: Font family 'AppleGothic' not found.\n",
            "WARNING:matplotlib.font_manager:findfont: Font family 'AppleGothic' not found.\n",
            "WARNING:matplotlib.font_manager:findfont: Font family 'AppleGothic' not found.\n",
            "WARNING:matplotlib.font_manager:findfont: Font family 'AppleGothic' not found.\n",
            "WARNING:matplotlib.font_manager:findfont: Font family 'AppleGothic' not found.\n",
            "WARNING:matplotlib.font_manager:findfont: Font family 'AppleGothic' not found.\n",
            "WARNING:matplotlib.font_manager:findfont: Font family 'AppleGothic' not found.\n",
            "WARNING:matplotlib.font_manager:findfont: Font family 'AppleGothic' not found.\n",
            "WARNING:matplotlib.font_manager:findfont: Font family 'AppleGothic' not found.\n",
            "WARNING:matplotlib.font_manager:findfont: Font family 'AppleGothic' not found.\n",
            "WARNING:matplotlib.font_manager:findfont: Font family 'AppleGothic' not found.\n",
            "WARNING:matplotlib.font_manager:findfont: Font family 'AppleGothic' not found.\n",
            "WARNING:matplotlib.font_manager:findfont: Font family 'AppleGothic' not found.\n",
            "WARNING:matplotlib.font_manager:findfont: Font family 'AppleGothic' not found.\n",
            "WARNING:matplotlib.font_manager:findfont: Font family 'AppleGothic' not found.\n",
            "WARNING:matplotlib.font_manager:findfont: Font family 'AppleGothic' not found.\n",
            "WARNING:matplotlib.font_manager:findfont: Font family 'AppleGothic' not found.\n",
            "WARNING:matplotlib.font_manager:findfont: Font family 'AppleGothic' not found.\n",
            "WARNING:matplotlib.font_manager:findfont: Font family 'AppleGothic' not found.\n",
            "WARNING:matplotlib.font_manager:findfont: Font family 'AppleGothic' not found.\n",
            "WARNING:matplotlib.font_manager:findfont: Font family 'AppleGothic' not found.\n",
            "WARNING:matplotlib.font_manager:findfont: Font family 'AppleGothic' not found.\n",
            "WARNING:matplotlib.font_manager:findfont: Font family 'AppleGothic' not found.\n",
            "WARNING:matplotlib.font_manager:findfont: Font family 'AppleGothic' not found.\n",
            "WARNING:matplotlib.font_manager:findfont: Font family 'AppleGothic' not found.\n",
            "WARNING:matplotlib.font_manager:findfont: Font family 'AppleGothic' not found.\n",
            "WARNING:matplotlib.font_manager:findfont: Font family 'AppleGothic' not found.\n",
            "WARNING:matplotlib.font_manager:findfont: Font family 'AppleGothic' not found.\n",
            "WARNING:matplotlib.font_manager:findfont: Font family 'AppleGothic' not found.\n",
            "WARNING:matplotlib.font_manager:findfont: Font family 'AppleGothic' not found.\n"
          ]
        },
        {
          "output_type": "display_data",
          "data": {
            "text/plain": [
              "<Figure size 1000x700 with 2 Axes>"
            ],
            "image/png": "[encoded data removed]"
          },
          "metadata": {}
        }
      ]
    },
    {
      "cell_type": "code",
      "source": [
        "from sklearn.metrics import classification_report\n",
        "\n",
        "# 클래스별 성능 지표 출력\n",
        "print(classification_report(y_val, y_val_pred))"
      ],
      "metadata": {
        "colab": {
          "base_uri": "https://localhost:8080/"
        },
        "id": "6WsDhCbTlNTh",
        "outputId": "42837e3f-faaf-4092-bbc8-6ad61da50961"
      },
      "execution_count": 10,
      "outputs": [
        {
          "output_type": "stream",
          "name": "stdout",
          "text": [
            "              precision    recall  f1-score   support\n",
            "\n",
            "           0       0.38      0.37      0.38       758\n",
            "           1       0.62      0.63      0.63      1242\n",
            "\n",
            "    accuracy                           0.54      2000\n",
            "   macro avg       0.50      0.50      0.50      2000\n",
            "weighted avg       0.53      0.54      0.53      2000\n",
            "\n"
          ]
        }
      ]
    },
    {
      "cell_type": "code",
      "source": [
        "y_pred = knn_model.predict(new_x)\n",
        "pd.DataFrame(y_pred)[0].value_counts()"
      ],
      "metadata": {
        "colab": {
          "base_uri": "https://localhost:8080/"
        },
        "id": "dDPNCtH1lO0q",
        "outputId": "ee7e4174-1cd6-4d1f-a5c0-9a1fcd919bd6"
      },
      "execution_count": 11,
      "outputs": [
        {
          "output_type": "execute_result",
          "data": {
            "text/plain": [
              "1    6588\n",
              "0    3412\n",
              "Name: 0, dtype: int64"
            ]
          },
          "metadata": {},
          "execution_count": 11
        }
      ]
    },
    {
      "cell_type": "code",
      "source": [
        "df_sub['target'] = y_pred\n",
        "df_sub.set_index('user_id').to_csv('knn_optuna.csv', encoding=\"cp949\")"
      ],
      "metadata": {
        "id": "8lg5HKf0IOAJ"
      },
      "execution_count": 13,
      "outputs": []
    }
  ]
}