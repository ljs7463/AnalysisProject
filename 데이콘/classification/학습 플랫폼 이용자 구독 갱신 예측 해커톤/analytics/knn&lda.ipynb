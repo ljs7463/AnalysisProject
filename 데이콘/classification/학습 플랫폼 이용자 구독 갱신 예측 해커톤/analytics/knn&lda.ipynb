{
  "nbformat": 4,
  "nbformat_minor": 0,
  "metadata": {
    "colab": {
      "provenance": [],
      "authorship_tag": "ABX9TyODLJffCnNnUETLkLwNq4IS",
      "include_colab_link": true
    },
    "kernelspec": {
      "name": "python3",
      "display_name": "Python 3"
    },
    "language_info": {
      "name": "python"
    }
  },
  "cells": [
    {
      "cell_type": "markdown",
      "metadata": {
        "id": "view-in-github",
        "colab_type": "text"
      },
      "source": [
        "<a href=\"https://colab.research.google.com/github/ljs7463/AnalysisProject/blob/master/%EB%8D%B0%EC%9D%B4%EC%BD%98/analytics/knn%26lda.ipynb\" target=\"_parent\"><img src=\"https://colab.research.google.com/assets/colab-badge.svg\" alt=\"Open In Colab\"/></a>"
      ]
    },
    {
      "cell_type": "markdown",
      "source": [
        "# Import lib & load dataset"
      ],
      "metadata": {
        "id": "cFNmJ8dqOhUi"
      }
    },
    {
      "cell_type": "markdown",
      "source": [
        "user_id:\t사용자의 고유 식별자\n",
        "\n",
        "subscription_duration:\t사용자가 서비스에 가입한 기간 (월)\n",
        "\n",
        "recent_login_time:\t사용자가 마지막으로 로그인한 시간 (일)\n",
        "\n",
        "average_login_time: \t사용자의 일반적인 로그인 시간\n",
        "\n",
        "average_time_per_learning_session:\t각 학습 세션에 소요된\n",
        "평균 시간 (분)\n",
        "\n",
        "monthly_active_learning_days:\t월간 활동적인 학습 일수\n",
        "\n",
        "total_completed_courses:\t완료한 총 코스 수\n",
        "\n",
        "recent_learning_achievement: \t최근 학습 성취도\n",
        "\n",
        "abandoned_learning_sessions:\t중단된 학습 세션 수\n",
        "\n",
        "community_engagement_level:\t커뮤니티 참여도\n",
        "\n",
        "preferred_difficulty_level:\t선호하는 난이도\n",
        "\n",
        "subscription_type:\t구독 유형\n",
        "\n",
        "customer_inquiry_history:\t고객 문의 이력\n",
        "\n",
        "payment_pattern\n",
        "\n",
        "  사용자의 지난 3개월 간의 결제 패턴을 10진수로 표현한 값.\n",
        "  - 7: 3개월 모두 결제함\n",
        "  - 6: 첫 2개월은 결제했으나 마지막 달에는 결제하지 않음\n",
        "  - 5: 첫 달과 마지막 달에 결제함\n",
        "  - 4: 첫 달에만 결제함\n",
        "  - 3: 마지막 2개월에 결제함\n",
        "  - 2: 가운데 달에만 결제함\n",
        "  - 1: 마지막 달에만 결제함\n",
        "  - 0: 3개월 동안 결제하지 않음\n",
        "target:\t사용자가 다음 달에도 구독을 계속할지 (1) 또는 취소할지 (0)를 나타냄"
      ],
      "metadata": {
        "id": "VMAetuINSk2I"
      }
    },
    {
      "cell_type": "code",
      "execution_count": 2,
      "metadata": {
        "id": "yRZsR_aOMS7G"
      },
      "outputs": [],
      "source": [
        "import pandas as pd\n",
        "import numpy as np\n",
        "\n",
        "import matplotlib.pyplot as plt\n",
        "import seaborn as sns\n",
        "import warnings\n",
        "import os\n",
        "\n",
        "# 시각화 폰트 설정\n",
        "if os.name =='posix':\n",
        "    plt.rc(\"font\", family = \"AppleGothic\")\n",
        "\n",
        "else:\n",
        "    plt.rc(\"font\", family = \"Malgun Gothic\")\n",
        "\n",
        "# 경고문자 무시\n",
        "warnings.filterwarnings(action='ignore')\n",
        "\n",
        "\n",
        "# 데이터 로드\n",
        "df_train = pd.read_csv('train.csv')\n",
        "df_test = pd.read_csv('test.csv')\n",
        "df_sub = pd.read_csv('sample_submission.csv')\n",
        "df_info = pd.read_csv('data_info.csv')"
      ]
    },
    {
      "cell_type": "markdown",
      "source": [
        "# preprocessing & split dataset & only label encoding"
      ],
      "metadata": {
        "id": "GVjDw5tjZhJ5"
      }
    },
    {
      "cell_type": "code",
      "source": [
        "## Label Encoding\n",
        "\n",
        "## train데이터\n",
        "df_train['preferred_difficulty_level'] = pd.factorize(df_train['preferred_difficulty_level'])[0]\n",
        "df_train['subscription_type'] = pd.factorize(df_train['subscription_type'])[0]\n",
        "\n",
        "## test데이터\n",
        "df_test['preferred_difficulty_level'] = pd.factorize(df_test['preferred_difficulty_level'])[0]\n",
        "df_test['subscription_type'] = pd.factorize(df_test['subscription_type'])[0]\n",
        "\n",
        "# scaler\n",
        "from sklearn.preprocessing import StandardScaler\n",
        "scaler = StandardScaler()\n",
        "for i in [['subscription_duration','recent_login_time','average_time_per_learning_session','monthly_active_learning_days','total_completed_courses','recent_learning_achievement','abandoned_learning_sessions','community_engagement_level','customer_inquiry_history','payment_pattern']]:\n",
        "  df_train[i] = scaler.fit_transform(df_train[i])\n",
        "for i in [['subscription_duration','recent_login_time','average_time_per_learning_session','monthly_active_learning_days','total_completed_courses','recent_learning_achievement','abandoned_learning_sessions','community_engagement_level','customer_inquiry_history','payment_pattern']]:\n",
        "  df_test[i] = scaler.transform(df_test[i])\n",
        "\n",
        "# Delete user_id\n",
        "df_train = df_train.drop(columns = 'user_id')\n",
        "\n",
        "# split target\n",
        "x = df_train[list(df_train.columns[:-1])]\n",
        "y = df_train['target']\n",
        "\n",
        "# Delete user_id\n",
        "df_test = df_test.drop(columns = 'user_id')\n",
        "# split target\n",
        "new_x = df_test\n"
      ],
      "metadata": {
        "id": "IFEBN-rDZg1W"
      },
      "execution_count": 20,
      "outputs": []
    },
    {
      "cell_type": "markdown",
      "source": [
        "# preprocessing & split dataset(new) & onehotencoding & robustscaler"
      ],
      "metadata": {
        "id": "nmaa1fv3OpbT"
      }
    },
    {
      "cell_type": "code",
      "source": [
        "x_train = df_train.iloc[:,:-1]\n",
        "y_train = df_train.iloc[:,-1]\n",
        "y_train = pd.DataFrame(y_train)\n",
        "x_test = df_test"
      ],
      "metadata": {
        "id": "QMnokthY7q1Y"
      },
      "execution_count": 3,
      "outputs": []
    },
    {
      "cell_type": "code",
      "source": [
        "# one-hot encoding\n",
        "from sklearn.preprocessing import OneHotEncoder\n",
        "from sklearn.compose import ColumnTransformer\n",
        "column_transformer = ColumnTransformer(\n",
        "    [\n",
        "        ('encoder', OneHotEncoder(), ['preferred_difficulty_level', 'subscription_type']),\n",
        "    ],\n",
        "    remainder='passthrough'  # 나머지 컬럼은 그대로 유지\n",
        ")\n",
        "transformed_data  = column_transformer.fit_transform(x_train)\n",
        "# 결과를 DataFrame으로 변환 (새로운 컬럼 이름 포함)\n",
        "new_column_names = column_transformer.get_feature_names_out()\n",
        "x_train = pd.DataFrame(transformed_data, columns=new_column_names)\n",
        "\n",
        "transformed_data = column_transformer.transform(x_test)\n",
        "# 결과를 DataFrame으로 변환 (새로운 컬럼 이름 포함)\n",
        "new_column_names = column_transformer.get_feature_names_out()\n",
        "x_test = pd.DataFrame(transformed_data, columns=new_column_names)"
      ],
      "metadata": {
        "id": "mjCUwY_045dU"
      },
      "execution_count": 44,
      "outputs": []
    },
    {
      "cell_type": "code",
      "source": [
        "# scaler\n",
        "from sklearn.preprocessing import RobustScaler\n",
        "rbs = RobustScaler()\n",
        "x_train[['remainder__subscription_duration',\n",
        "      'remainder__recent_login_time',\n",
        "      'remainder__average_time_per_learning_session',\n",
        "      'remainder__monthly_active_learning_days',\n",
        "      'remainder__total_completed_courses',\n",
        "      'remainder__recent_learning_achievement',\n",
        "      'remainder__abandoned_learning_sessions',\n",
        "      'remainder__community_engagement_level',\n",
        "      'remainder__customer_inquiry_history',\n",
        "      'remainder__payment_pattern']] = rbs.fit_transform(x_train[['remainder__subscription_duration',\n",
        "      'remainder__recent_login_time',\n",
        "      'remainder__average_time_per_learning_session',\n",
        "      'remainder__monthly_active_learning_days',\n",
        "      'remainder__total_completed_courses',\n",
        "      'remainder__recent_learning_achievement',\n",
        "      'remainder__abandoned_learning_sessions',\n",
        "      'remainder__community_engagement_level',\n",
        "      'remainder__customer_inquiry_history',\n",
        "      'remainder__payment_pattern']]\n",
        ")\n",
        "\n",
        "x_test[['remainder__subscription_duration',\n",
        "      'remainder__recent_login_time',\n",
        "      'remainder__average_time_per_learning_session',\n",
        "      'remainder__monthly_active_learning_days',\n",
        "      'remainder__total_completed_courses',\n",
        "      'remainder__recent_learning_achievement',\n",
        "      'remainder__abandoned_learning_sessions',\n",
        "      'remainder__community_engagement_level',\n",
        "      'remainder__customer_inquiry_history',\n",
        "      'remainder__payment_pattern']] = rbs.transform(x_test[['remainder__subscription_duration',\n",
        "      'remainder__recent_login_time',\n",
        "      'remainder__average_time_per_learning_session',\n",
        "      'remainder__monthly_active_learning_days',\n",
        "      'remainder__total_completed_courses',\n",
        "      'remainder__recent_learning_achievement',\n",
        "      'remainder__abandoned_learning_sessions',\n",
        "      'remainder__community_engagement_level',\n",
        "      'remainder__customer_inquiry_history',\n",
        "      'remainder__payment_pattern']]\n",
        ")\n"
      ],
      "metadata": {
        "id": "JSxcajBQUIVC"
      },
      "execution_count": 46,
      "outputs": []
    },
    {
      "cell_type": "code",
      "source": [
        "x_train = x_train.drop(columns = 'remainder__user_id')\n",
        "x_test = x_test.drop(columns = 'remainder__user_id')"
      ],
      "metadata": {
        "id": "Q9bo82LDYFOl"
      },
      "execution_count": 47,
      "outputs": []
    },
    {
      "cell_type": "code",
      "source": [
        "print(x_train.shape)\n",
        "print(y_train.shape)\n",
        "print(x_test.shape)"
      ],
      "metadata": {
        "colab": {
          "base_uri": "https://localhost:8080/"
        },
        "id": "UW-v2rlTYSoD",
        "outputId": "d593face-1dc5-4bf9-9231-20021ab93dc7"
      },
      "execution_count": 48,
      "outputs": [
        {
          "output_type": "stream",
          "name": "stdout",
          "text": [
            "(10000, 16)\n",
            "(10000, 1)\n",
            "(10000, 16)\n"
          ]
        }
      ]
    },
    {
      "cell_type": "markdown",
      "source": [
        "# preprocessing & split & onehotencoding & robustscaler & 차원축소"
      ],
      "metadata": {
        "id": "Ly9Y-0finReq"
      }
    },
    {
      "cell_type": "code",
      "source": [
        "x_train = df_train.iloc[:,:-1]\n",
        "y_train = df_train.iloc[:,-1]\n",
        "y_train = pd.DataFrame(y_train)\n",
        "x_test = df_test"
      ],
      "metadata": {
        "id": "nErPq6Ukn0xg"
      },
      "execution_count": 4,
      "outputs": []
    },
    {
      "cell_type": "code",
      "source": [
        "# one-hot encoding\n",
        "from sklearn.preprocessing import OneHotEncoder\n",
        "from sklearn.compose import ColumnTransformer\n",
        "column_transformer = ColumnTransformer(\n",
        "    [\n",
        "        ('encoder', OneHotEncoder(), ['preferred_difficulty_level', 'subscription_type']),\n",
        "    ],\n",
        "    remainder='passthrough'  # 나머지 컬럼은 그대로 유지\n",
        ")\n",
        "transformed_data  = column_transformer.fit_transform(x_train)\n",
        "# 결과를 DataFrame으로 변환 (새로운 컬럼 이름 포함)\n",
        "new_column_names = column_transformer.get_feature_names_out()\n",
        "x_train = pd.DataFrame(transformed_data, columns=new_column_names)\n",
        "\n",
        "transformed_data = column_transformer.transform(x_test)\n",
        "# 결과를 DataFrame으로 변환 (새로운 컬럼 이름 포함)\n",
        "new_column_names = column_transformer.get_feature_names_out()\n",
        "x_test = pd.DataFrame(transformed_data, columns=new_column_names)"
      ],
      "metadata": {
        "id": "tA6TaJC_n0vD"
      },
      "execution_count": 5,
      "outputs": []
    },
    {
      "cell_type": "code",
      "source": [
        "# scaler\n",
        "from sklearn.preprocessing import RobustScaler\n",
        "rbs = RobustScaler()\n",
        "x_train[['remainder__subscription_duration',\n",
        "      'remainder__recent_login_time',\n",
        "      'remainder__average_time_per_learning_session',\n",
        "      'remainder__monthly_active_learning_days',\n",
        "      'remainder__total_completed_courses',\n",
        "      'remainder__recent_learning_achievement',\n",
        "      'remainder__abandoned_learning_sessions',\n",
        "      'remainder__community_engagement_level',\n",
        "      'remainder__customer_inquiry_history',\n",
        "      'remainder__payment_pattern']] = rbs.fit_transform(x_train[['remainder__subscription_duration',\n",
        "      'remainder__recent_login_time',\n",
        "      'remainder__average_time_per_learning_session',\n",
        "      'remainder__monthly_active_learning_days',\n",
        "      'remainder__total_completed_courses',\n",
        "      'remainder__recent_learning_achievement',\n",
        "      'remainder__abandoned_learning_sessions',\n",
        "      'remainder__community_engagement_level',\n",
        "      'remainder__customer_inquiry_history',\n",
        "      'remainder__payment_pattern']]\n",
        ")\n",
        "\n",
        "x_test[['remainder__subscription_duration',\n",
        "      'remainder__recent_login_time',\n",
        "      'remainder__average_time_per_learning_session',\n",
        "      'remainder__monthly_active_learning_days',\n",
        "      'remainder__total_completed_courses',\n",
        "      'remainder__recent_learning_achievement',\n",
        "      'remainder__abandoned_learning_sessions',\n",
        "      'remainder__community_engagement_level',\n",
        "      'remainder__customer_inquiry_history',\n",
        "      'remainder__payment_pattern']] = rbs.transform(x_test[['remainder__subscription_duration',\n",
        "      'remainder__recent_login_time',\n",
        "      'remainder__average_time_per_learning_session',\n",
        "      'remainder__monthly_active_learning_days',\n",
        "      'remainder__total_completed_courses',\n",
        "      'remainder__recent_learning_achievement',\n",
        "      'remainder__abandoned_learning_sessions',\n",
        "      'remainder__community_engagement_level',\n",
        "      'remainder__customer_inquiry_history',\n",
        "      'remainder__payment_pattern']]\n",
        ")\n"
      ],
      "metadata": {
        "id": "VaGICd2rn0k-"
      },
      "execution_count": 6,
      "outputs": []
    },
    {
      "cell_type": "code",
      "source": [
        "x_train = x_train.drop(columns = 'remainder__user_id')\n",
        "x_test = x_test.drop(columns = 'remainder__user_id')"
      ],
      "metadata": {
        "id": "FgE50Q8Aol1v"
      },
      "execution_count": 7,
      "outputs": []
    },
    {
      "cell_type": "code",
      "source": [
        "from sklearn.discriminant_analysis import LinearDiscriminantAnalysis\n",
        "# LDA를 사용한 차원 축소\n",
        "lda = LinearDiscriminantAnalysis()\n",
        "x_train_lda = lda.fit_transform(x_train, y_train)\n",
        "x_test_lda = lda.transform(x_test)"
      ],
      "metadata": {
        "id": "G6B_llHKoxNH"
      },
      "execution_count": 11,
      "outputs": []
    },
    {
      "cell_type": "code",
      "source": [
        "!pip install catboost\n",
        "!pip install optuna"
      ],
      "metadata": {
        "id": "Zbv_kfGMq6NW"
      },
      "execution_count": null,
      "outputs": []
    },
    {
      "cell_type": "code",
      "source": [
        "import optuna\n",
        "from lightgbm import LGBMClassifier,early_stopping\n",
        "from catboost import CatBoostClassifier\n",
        "from sklearn.model_selection import KFold\n",
        "from sklearn.model_selection import GridSearchCV, train_test_split\n",
        "from sklearn.metrics import make_scorer, f1_score\n",
        "from sklearn.linear_model import LogisticRegression\n",
        "import optuna\n",
        "import numpy as np\n",
        "from catboost import CatBoostClassifier\n",
        "from sklearn.model_selection import KFold\n",
        "from sklearn.metrics import f1_score\n",
        "from xgboost import XGBClassifier\n",
        "from sklearn.linear_model import LogisticRegression\n",
        "from sklearn.model_selection import cross_val_score\n",
        "from sklearn.neighbors import KNeighborsClassifier\n",
        "from sklearn.svm import SVC\n",
        "\n",
        "# new로직\n",
        "x_train, x_val, y_train, y_val = train_test_split(x_train_lda, y_train, test_size = 0.2, random_state =42)"
      ],
      "metadata": {
        "id": "Jgi5dHLmq0nK"
      },
      "execution_count": 18,
      "outputs": []
    },
    {
      "cell_type": "code",
      "source": [
        "# 목적 함수 정의\n",
        "\n",
        "\n",
        "\n",
        "\n",
        "# 랜덤 시드 고정\n",
        "np.random.seed(42)\n",
        "optuna.logging.set_verbosity(optuna.logging.WARNING)\n",
        "\n",
        "def obj_knn(trial,x,y):\n",
        "    n_neighbors = trial.suggest_int('n_neighbors', 1, 30)\n",
        "    metric = trial.suggest_categorical('metric', ['euclidean', 'manhattan', 'minkowski'])\n",
        "    weights = trial.suggest_categorical('weights', ['uniform', 'distance'])\n",
        "\n",
        "    model = KNeighborsClassifier(n_neighbors=n_neighbors, metric=metric, weights=weights)\n",
        "    score = cross_val_score(model, x, y, n_jobs=-1, cv=10, scoring='f1_macro')\n",
        "    f1_macro = np.mean(score)\n",
        "\n",
        "    return f1_macro\n",
        "\n",
        "# Optuna 최적화 실행\n",
        "study = optuna.create_study(direction='maximize', sampler=optuna.samplers.TPESampler(seed=42))\n",
        "# lambda 함수를 사용하여 x와 y를 objective 함수에 전달\n",
        "study.optimize(lambda trial: obj_knn(trial, x_train, y_train), n_trials = 80)\n",
        "\n",
        "\n",
        "# 최적 파라미터 출력\n",
        "print(\"Best trial:\")\n",
        "trial = study.best_trial\n",
        "print(\"  Value: {}\".format(trial.value))\n",
        "print(\"  Params: \")\n",
        "for key, value in trial.params.items():\n",
        "    print(\"    {}: {}\".format(key, value))\n",
        "\n",
        "# 최적 파라미터로 모델 학습\n",
        "best_params = study.best_trial.params\n",
        "knn_model = KNeighborsClassifier(**best_params)"
      ],
      "metadata": {
        "id": "XKt2YQaYrp-H",
        "outputId": "2fc46717-87ee-4467-ee19-d1d0aa77536a",
        "colab": {
          "base_uri": "https://localhost:8080/"
        }
      },
      "execution_count": 20,
      "outputs": [
        {
          "output_type": "stream",
          "name": "stdout",
          "text": [
            "Best trial:\n",
            "  Value: 0.5178930327662549\n",
            "  Params: \n",
            "    n_neighbors: 2\n",
            "    metric: euclidean\n",
            "    weights: distance\n"
          ]
        }
      ]
    },
    {
      "cell_type": "code",
      "source": [
        "knn_model.fit(x_train,y_train)\n",
        "y_val_pred = knn_model.predict(x_val)\n",
        "f1_score(y_val, y_val_pred, average = 'macro')"
      ],
      "metadata": {
        "id": "Zkk2KCCps0LJ",
        "outputId": "0cd77bde-a531-455a-e9b5-89b822782ea6",
        "colab": {
          "base_uri": "https://localhost:8080/"
        }
      },
      "execution_count": 21,
      "outputs": [
        {
          "output_type": "execute_result",
          "data": {
            "text/plain": [
              "0.5079446219835039"
            ]
          },
          "metadata": {},
          "execution_count": 21
        }
      ]
    },
    {
      "cell_type": "code",
      "source": [
        "# 혼동행렬\n",
        "\n",
        "\n",
        "\n",
        "from sklearn.metrics import confusion_matrix\n",
        "# 혼동 행렬 계산\n",
        "cm = confusion_matrix(y_val, y_val_pred)\n",
        "\n",
        "# 혼동 행렬 시각화\n",
        "plt.figure(figsize=(10, 7))\n",
        "sns.heatmap(cm, annot=True, fmt='g')\n",
        "plt.xlabel('Predicted')\n",
        "plt.ylabel('True')\n",
        "plt.show()"
      ],
      "metadata": {
        "id": "HrrjaVb-uI70",
        "outputId": "361884e1-ba67-48ee-f282-8bd83df7511e",
        "colab": {
          "base_uri": "https://localhost:8080/",
          "height": 1000
        }
      },
      "execution_count": 26,
      "outputs": [
        {
          "output_type": "stream",
          "name": "stderr",
          "text": [
            "WARNING:matplotlib.font_manager:findfont: Font family 'AppleGothic' not found.\n",
            "WARNING:matplotlib.font_manager:findfont: Font family 'AppleGothic' not found.\n",
            "WARNING:matplotlib.font_manager:findfont: Font family 'AppleGothic' not found.\n",
            "WARNING:matplotlib.font_manager:findfont: Font family 'AppleGothic' not found.\n",
            "WARNING:matplotlib.font_manager:findfont: Font family 'AppleGothic' not found.\n",
            "WARNING:matplotlib.font_manager:findfont: Font family 'AppleGothic' not found.\n",
            "WARNING:matplotlib.font_manager:findfont: Font family 'AppleGothic' not found.\n",
            "WARNING:matplotlib.font_manager:findfont: Font family 'AppleGothic' not found.\n",
            "WARNING:matplotlib.font_manager:findfont: Font family 'AppleGothic' not found.\n",
            "WARNING:matplotlib.font_manager:findfont: Font family 'AppleGothic' not found.\n",
            "WARNING:matplotlib.font_manager:findfont: Font family 'AppleGothic' not found.\n",
            "WARNING:matplotlib.font_manager:findfont: Font family 'AppleGothic' not found.\n",
            "WARNING:matplotlib.font_manager:findfont: Font family 'AppleGothic' not found.\n",
            "WARNING:matplotlib.font_manager:findfont: Font family 'AppleGothic' not found.\n",
            "WARNING:matplotlib.font_manager:findfont: Font family 'AppleGothic' not found.\n",
            "WARNING:matplotlib.font_manager:findfont: Font family 'AppleGothic' not found.\n",
            "WARNING:matplotlib.font_manager:findfont: Font family 'AppleGothic' not found.\n",
            "WARNING:matplotlib.font_manager:findfont: Font family 'AppleGothic' not found.\n",
            "WARNING:matplotlib.font_manager:findfont: Font family 'AppleGothic' not found.\n",
            "WARNING:matplotlib.font_manager:findfont: Font family 'AppleGothic' not found.\n",
            "WARNING:matplotlib.font_manager:findfont: Font family 'AppleGothic' not found.\n",
            "WARNING:matplotlib.font_manager:findfont: Font family 'AppleGothic' not found.\n",
            "WARNING:matplotlib.font_manager:findfont: Font family 'AppleGothic' not found.\n",
            "WARNING:matplotlib.font_manager:findfont: Font family 'AppleGothic' not found.\n",
            "WARNING:matplotlib.font_manager:findfont: Font family 'AppleGothic' not found.\n",
            "WARNING:matplotlib.font_manager:findfont: Font family 'AppleGothic' not found.\n",
            "WARNING:matplotlib.font_manager:findfont: Font family 'AppleGothic' not found.\n",
            "WARNING:matplotlib.font_manager:findfont: Font family 'AppleGothic' not found.\n",
            "WARNING:matplotlib.font_manager:findfont: Font family 'AppleGothic' not found.\n",
            "WARNING:matplotlib.font_manager:findfont: Font family 'AppleGothic' not found.\n",
            "WARNING:matplotlib.font_manager:findfont: Font family 'AppleGothic' not found.\n",
            "WARNING:matplotlib.font_manager:findfont: Font family 'AppleGothic' not found.\n",
            "WARNING:matplotlib.font_manager:findfont: Font family 'AppleGothic' not found.\n",
            "WARNING:matplotlib.font_manager:findfont: Font family 'AppleGothic' not found.\n",
            "WARNING:matplotlib.font_manager:findfont: Font family 'AppleGothic' not found.\n",
            "WARNING:matplotlib.font_manager:findfont: Font family 'AppleGothic' not found.\n",
            "WARNING:matplotlib.font_manager:findfont: Font family 'AppleGothic' not found.\n",
            "WARNING:matplotlib.font_manager:findfont: Font family 'AppleGothic' not found.\n",
            "WARNING:matplotlib.font_manager:findfont: Font family 'AppleGothic' not found.\n",
            "WARNING:matplotlib.font_manager:findfont: Font family 'AppleGothic' not found.\n",
            "WARNING:matplotlib.font_manager:findfont: Font family 'AppleGothic' not found.\n",
            "WARNING:matplotlib.font_manager:findfont: Font family 'AppleGothic' not found.\n",
            "WARNING:matplotlib.font_manager:findfont: Font family 'AppleGothic' not found.\n",
            "WARNING:matplotlib.font_manager:findfont: Font family 'AppleGothic' not found.\n",
            "WARNING:matplotlib.font_manager:findfont: Font family 'AppleGothic' not found.\n",
            "WARNING:matplotlib.font_manager:findfont: Font family 'AppleGothic' not found.\n",
            "WARNING:matplotlib.font_manager:findfont: Font family 'AppleGothic' not found.\n",
            "WARNING:matplotlib.font_manager:findfont: Font family 'AppleGothic' not found.\n",
            "WARNING:matplotlib.font_manager:findfont: Font family 'AppleGothic' not found.\n",
            "WARNING:matplotlib.font_manager:findfont: Font family 'AppleGothic' not found.\n",
            "WARNING:matplotlib.font_manager:findfont: Font family 'AppleGothic' not found.\n",
            "WARNING:matplotlib.font_manager:findfont: Font family 'AppleGothic' not found.\n"
          ]
        },
        {
          "output_type": "display_data",
          "data": {
            "text/plain": [
              "<Figure size 1000x700 with 2 Axes>"
            ],
            "image/png": "[encoded data removed]"
          },
          "metadata": {}
        }
      ]
    },
    {
      "cell_type": "code",
      "source": [
        "from sklearn.metrics import classification_report\n",
        "\n",
        "# 클래스별 성능 지표 출력\n",
        "print(classification_report(y_val, y_val_pred))"
      ],
      "metadata": {
        "id": "PbL0WD0GuI0t",
        "outputId": "d5c78618-10c3-47b2-9b60-37a501ceb1ad",
        "colab": {
          "base_uri": "https://localhost:8080/"
        }
      },
      "execution_count": 27,
      "outputs": [
        {
          "output_type": "stream",
          "name": "stdout",
          "text": [
            "              precision    recall  f1-score   support\n",
            "\n",
            "           0       0.39      0.39      0.39       758\n",
            "           1       0.63      0.63      0.63      1242\n",
            "\n",
            "    accuracy                           0.54      2000\n",
            "   macro avg       0.51      0.51      0.51      2000\n",
            "weighted avg       0.54      0.54      0.54      2000\n",
            "\n"
          ]
        }
      ]
    },
    {
      "cell_type": "code",
      "source": [
        "y_test_pred = knn_model.predict(x_test_lda)\n",
        "y_test_pred"
      ],
      "metadata": {
        "id": "qje4T4kHsz4T",
        "outputId": "f7119f80-273c-4251-e2e7-678b5a5f6fab",
        "colab": {
          "base_uri": "https://localhost:8080/"
        }
      },
      "execution_count": 23,
      "outputs": [
        {
          "output_type": "execute_result",
          "data": {
            "text/plain": [
              "array([1, 0, 0, ..., 0, 1, 0])"
            ]
          },
          "metadata": {},
          "execution_count": 23
        }
      ]
    },
    {
      "cell_type": "code",
      "source": [
        "# 예측값 저장\n",
        "df_sub['target'] = y_test_pred\n",
        "df_sub.set_index('user_id').to_csv('knn_lda_onehot_robust.csv', encoding=\"cp949\")"
      ],
      "metadata": {
        "id": "kgcj9Sx0uAdq"
      },
      "execution_count": 28,
      "outputs": []
    },
    {
      "cell_type": "markdown",
      "source": [
        "# import lib for modeling"
      ],
      "metadata": {
        "id": "IiBu7vLjOs6s"
      }
    },
    {
      "cell_type": "code",
      "source": [
        "!pip install catboost\n",
        "!pip install optuna"
      ],
      "metadata": {
        "colab": {
          "base_uri": "https://localhost:8080/"
        },
        "id": "GrLpNIclz58b",
        "outputId": "47b839a6-2495-482e-a5ce-db3a57a89fa0"
      },
      "execution_count": 16,
      "outputs": [
        {
          "output_type": "stream",
          "name": "stdout",
          "text": [
            "Collecting catboost\n",
            "  Downloading catboost-1.2.2-cp310-cp310-manylinux2014_x86_64.whl (98.7 MB)\n",
            "\u001b[2K     \u001b[90m━━━━━━━━━━━━━━━━━━━━━━━━━━━━━━━━━━━━━━━━\u001b[0m \u001b[32m98.7/98.7 MB\u001b[0m \u001b[31m8.1 MB/s\u001b[0m eta \u001b[36m0:00:00\u001b[0m\n",
            "\u001b[?25hRequirement already satisfied: graphviz in /usr/local/lib/python3.10/dist-packages (from catboost) (0.20.1)\n",
            "Requirement already satisfied: matplotlib in /usr/local/lib/python3.10/dist-packages (from catboost) (3.7.1)\n",
            "Requirement already satisfied: numpy>=1.16.0 in /usr/local/lib/python3.10/dist-packages (from catboost) (1.23.5)\n",
            "Requirement already satisfied: pandas>=0.24 in /usr/local/lib/python3.10/dist-packages (from catboost) (1.5.3)\n",
            "Requirement already satisfied: scipy in /usr/local/lib/python3.10/dist-packages (from catboost) (1.11.4)\n",
            "Requirement already satisfied: plotly in /usr/local/lib/python3.10/dist-packages (from catboost) (5.15.0)\n",
            "Requirement already satisfied: six in /usr/local/lib/python3.10/dist-packages (from catboost) (1.16.0)\n",
            "Requirement already satisfied: python-dateutil>=2.8.1 in /usr/local/lib/python3.10/dist-packages (from pandas>=0.24->catboost) (2.8.2)\n",
            "Requirement already satisfied: pytz>=2020.1 in /usr/local/lib/python3.10/dist-packages (from pandas>=0.24->catboost) (2023.3.post1)\n",
            "Requirement already satisfied: contourpy>=1.0.1 in /usr/local/lib/python3.10/dist-packages (from matplotlib->catboost) (1.2.0)\n",
            "Requirement already satisfied: cycler>=0.10 in /usr/local/lib/python3.10/dist-packages (from matplotlib->catboost) (0.12.1)\n",
            "Requirement already satisfied: fonttools>=4.22.0 in /usr/local/lib/python3.10/dist-packages (from matplotlib->catboost) (4.45.1)\n",
            "Requirement already satisfied: kiwisolver>=1.0.1 in /usr/local/lib/python3.10/dist-packages (from matplotlib->catboost) (1.4.5)\n",
            "Requirement already satisfied: packaging>=20.0 in /usr/local/lib/python3.10/dist-packages (from matplotlib->catboost) (23.2)\n",
            "Requirement already satisfied: pillow>=6.2.0 in /usr/local/lib/python3.10/dist-packages (from matplotlib->catboost) (9.4.0)\n",
            "Requirement already satisfied: pyparsing>=2.3.1 in /usr/local/lib/python3.10/dist-packages (from matplotlib->catboost) (3.1.1)\n",
            "Requirement already satisfied: tenacity>=6.2.0 in /usr/local/lib/python3.10/dist-packages (from plotly->catboost) (8.2.3)\n",
            "Installing collected packages: catboost\n",
            "Successfully installed catboost-1.2.2\n",
            "Collecting optuna\n",
            "  Downloading optuna-3.4.0-py3-none-any.whl (409 kB)\n",
            "\u001b[2K     \u001b[90m━━━━━━━━━━━━━━━━━━━━━━━━━━━━━━━━━━━━━━━━\u001b[0m \u001b[32m409.6/409.6 kB\u001b[0m \u001b[31m6.3 MB/s\u001b[0m eta \u001b[36m0:00:00\u001b[0m\n",
            "\u001b[?25hCollecting alembic>=1.5.0 (from optuna)\n",
            "  Downloading alembic-1.13.0-py3-none-any.whl (230 kB)\n",
            "\u001b[2K     \u001b[90m━━━━━━━━━━━━━━━━━━━━━━━━━━━━━━━━━━━━━━━━\u001b[0m \u001b[32m230.6/230.6 kB\u001b[0m \u001b[31m31.8 MB/s\u001b[0m eta \u001b[36m0:00:00\u001b[0m\n",
            "\u001b[?25hCollecting colorlog (from optuna)\n",
            "  Downloading colorlog-6.8.0-py3-none-any.whl (11 kB)\n",
            "Requirement already satisfied: numpy in /usr/local/lib/python3.10/dist-packages (from optuna) (1.23.5)\n",
            "Requirement already satisfied: packaging>=20.0 in /usr/local/lib/python3.10/dist-packages (from optuna) (23.2)\n",
            "Requirement already satisfied: sqlalchemy>=1.3.0 in /usr/local/lib/python3.10/dist-packages (from optuna) (2.0.23)\n",
            "Requirement already satisfied: tqdm in /usr/local/lib/python3.10/dist-packages (from optuna) (4.66.1)\n",
            "Requirement already satisfied: PyYAML in /usr/local/lib/python3.10/dist-packages (from optuna) (6.0.1)\n",
            "Collecting Mako (from alembic>=1.5.0->optuna)\n",
            "  Downloading Mako-1.3.0-py3-none-any.whl (78 kB)\n",
            "\u001b[2K     \u001b[90m━━━━━━━━━━━━━━━━━━━━━━━━━━━━━━━━━━━━━━━━\u001b[0m \u001b[32m78.6/78.6 kB\u001b[0m \u001b[31m9.2 MB/s\u001b[0m eta \u001b[36m0:00:00\u001b[0m\n",
            "\u001b[?25hRequirement already satisfied: typing-extensions>=4 in /usr/local/lib/python3.10/dist-packages (from alembic>=1.5.0->optuna) (4.5.0)\n",
            "Requirement already satisfied: greenlet!=0.4.17 in /usr/local/lib/python3.10/dist-packages (from sqlalchemy>=1.3.0->optuna) (3.0.1)\n",
            "Requirement already satisfied: MarkupSafe>=0.9.2 in /usr/local/lib/python3.10/dist-packages (from Mako->alembic>=1.5.0->optuna) (2.1.3)\n",
            "Installing collected packages: Mako, colorlog, alembic, optuna\n",
            "Successfully installed Mako-1.3.0 alembic-1.13.0 colorlog-6.8.0 optuna-3.4.0\n"
          ]
        }
      ]
    },
    {
      "cell_type": "code",
      "source": [
        "import optuna\n",
        "from lightgbm import LGBMClassifier,early_stopping\n",
        "from catboost import CatBoostClassifier\n",
        "from sklearn.model_selection import KFold\n",
        "from sklearn.model_selection import GridSearchCV, train_test_split\n",
        "from sklearn.metrics import make_scorer, f1_score\n",
        "from sklearn.linear_model import LogisticRegression\n",
        "import optuna\n",
        "import numpy as np\n",
        "from catboost import CatBoostClassifier\n",
        "from sklearn.model_selection import KFold\n",
        "from sklearn.metrics import f1_score\n",
        "from xgboost import XGBClassifier\n",
        "from sklearn.linear_model import LogisticRegression\n",
        "from sklearn.model_selection import cross_val_score\n",
        "from sklearn.neighbors import KNeighborsClassifier\n",
        "from sklearn.svm import SVC\n",
        "\n"
      ],
      "metadata": {
        "id": "apF8LLeNNuUZ"
      },
      "execution_count": 4,
      "outputs": []
    },
    {
      "cell_type": "code",
      "source": [
        "# old 로직\n",
        "# x_train, x_val, y_train, y_val = train_test_split(x, y, test_size = 0.2,random_state = 42)\n",
        "\n",
        "# new로직\n",
        "x_train, x_val, y_train, y_val = train_test_split(x_train, y_train, test_size = 0.2, random_state =42)"
      ],
      "metadata": {
        "id": "GOdssIbqapjQ"
      },
      "execution_count": 49,
      "outputs": []
    },
    {
      "cell_type": "code",
      "source": [
        "print(x_train.shape)\n",
        "print(x_val.shape)\n",
        "print(y_train.shape)\n",
        "print(y_val.shape)\n",
        "print(x_test.shape)"
      ],
      "metadata": {
        "colab": {
          "base_uri": "https://localhost:8080/"
        },
        "id": "cw9q-mkNbD9z",
        "outputId": "09b8d70e-ef88-4799-904e-11a93d33fd42"
      },
      "execution_count": 50,
      "outputs": [
        {
          "output_type": "stream",
          "name": "stdout",
          "text": [
            "(8000, 16)\n",
            "(2000, 16)\n",
            "(8000, 1)\n",
            "(2000, 1)\n",
            "(10000, 16)\n"
          ]
        }
      ]
    },
    {
      "cell_type": "code",
      "source": [
        "# 목적 함수 정의\n",
        "\n",
        "\n",
        "\n",
        "\n",
        "# 랜덤 시드 고정\n",
        "np.random.seed(42)\n",
        "optuna.logging.set_verbosity(optuna.logging.WARNING)\n",
        "\n",
        "def obj_knn(trial,x,y):\n",
        "    n_neighbors = trial.suggest_int('n_neighbors', 1, 30)\n",
        "    metric = trial.suggest_categorical('metric', ['euclidean', 'manhattan', 'minkowski'])\n",
        "    weights = trial.suggest_categorical('weights', ['uniform', 'distance'])\n",
        "\n",
        "    model = KNeighborsClassifier(n_neighbors=n_neighbors, metric=metric, weights=weights)\n",
        "    score = cross_val_score(model, x, y, n_jobs=-1, cv=10, scoring='f1_macro')\n",
        "    f1_macro = np.mean(score)\n",
        "\n",
        "    return f1_macro\n",
        "\n",
        "# Optuna 최적화 실행\n",
        "study = optuna.create_study(direction='maximize', sampler=optuna.samplers.TPESampler(seed=42))\n",
        "# lambda 함수를 사용하여 x와 y를 objective 함수에 전달\n",
        "study.optimize(lambda trial: obj_knn(trial, x_train, y_train), n_trials = 80)\n",
        "\n",
        "\n",
        "# 최적 파라미터 출력\n",
        "print(\"Best trial:\")\n",
        "trial = study.best_trial\n",
        "print(\"  Value: {}\".format(trial.value))\n",
        "print(\"  Params: \")\n",
        "for key, value in trial.params.items():\n",
        "    print(\"    {}: {}\".format(key, value))\n",
        "\n",
        "# 최적 파라미터로 모델 학습\n",
        "best_params = study.best_trial.params\n",
        "knn_model = KNeighborsClassifier(**best_params)"
      ],
      "metadata": {
        "id": "ORUfUmjv4y6i",
        "colab": {
          "base_uri": "https://localhost:8080/"
        },
        "outputId": "4f365398-149d-453e-89e3-e030010e5f0c"
      },
      "execution_count": 51,
      "outputs": [
        {
          "output_type": "stream",
          "name": "stdout",
          "text": [
            "Best trial:\n",
            "  Value: 0.5204370779509351\n",
            "  Params: \n",
            "    n_neighbors: 2\n",
            "    metric: euclidean\n",
            "    weights: distance\n"
          ]
        }
      ]
    },
    {
      "cell_type": "code",
      "source": [
        "knn_model.fit(x_train,y_train)\n",
        "y_val_pred = knn_model.predict(x_val)\n",
        "f1_score(y_val, y_val_pred, average = 'macro')"
      ],
      "metadata": {
        "id": "urjfTXe7bSxp"
      },
      "execution_count": 52,
      "outputs": []
    },
    {
      "cell_type": "code",
      "source": [
        "f1_score(y_val, y_val_pred, average = 'macro')"
      ],
      "metadata": {
        "colab": {
          "base_uri": "https://localhost:8080/"
        },
        "id": "SC4RucGOc09l",
        "outputId": "b9543d02-0161-4e38-8448-bbba7958792e"
      },
      "execution_count": 54,
      "outputs": [
        {
          "output_type": "execute_result",
          "data": {
            "text/plain": [
              "0.4997898276586801"
            ]
          },
          "metadata": {},
          "execution_count": 54
        }
      ]
    },
    {
      "cell_type": "markdown",
      "source": [
        "# 평가 및 검증"
      ],
      "metadata": {
        "id": "YsIsxFNvf6qf"
      }
    },
    {
      "cell_type": "code",
      "source": [
        "# 혼동행렬\n",
        "\n",
        "\n",
        "\n",
        "from sklearn.metrics import confusion_matrix\n",
        "# 혼동 행렬 계산\n",
        "cm = confusion_matrix(y_val, y_val_pred)\n",
        "\n",
        "# 혼동 행렬 시각화\n",
        "plt.figure(figsize=(10, 7))\n",
        "sns.heatmap(cm, annot=True, fmt='g')\n",
        "plt.xlabel('Predicted')\n",
        "plt.ylabel('True')\n",
        "plt.show()"
      ],
      "metadata": {
        "colab": {
          "base_uri": "https://localhost:8080/",
          "height": 1000
        },
        "id": "KaJV3gbpemcI",
        "outputId": "7dae2ce3-32d3-4ebf-b07c-d6b11a0df877"
      },
      "execution_count": 55,
      "outputs": [
        {
          "output_type": "stream",
          "name": "stderr",
          "text": [
            "WARNING:matplotlib.font_manager:findfont: Font family 'AppleGothic' not found.\n",
            "WARNING:matplotlib.font_manager:findfont: Font family 'AppleGothic' not found.\n",
            "WARNING:matplotlib.font_manager:findfont: Font family 'AppleGothic' not found.\n",
            "WARNING:matplotlib.font_manager:findfont: Font family 'AppleGothic' not found.\n",
            "WARNING:matplotlib.font_manager:findfont: Font family 'AppleGothic' not found.\n",
            "WARNING:matplotlib.font_manager:findfont: Font family 'AppleGothic' not found.\n",
            "WARNING:matplotlib.font_manager:findfont: Font family 'AppleGothic' not found.\n",
            "WARNING:matplotlib.font_manager:findfont: Font family 'AppleGothic' not found.\n",
            "WARNING:matplotlib.font_manager:findfont: Font family 'AppleGothic' not found.\n",
            "WARNING:matplotlib.font_manager:findfont: Font family 'AppleGothic' not found.\n",
            "WARNING:matplotlib.font_manager:findfont: Font family 'AppleGothic' not found.\n",
            "WARNING:matplotlib.font_manager:findfont: Font family 'AppleGothic' not found.\n",
            "WARNING:matplotlib.font_manager:findfont: Font family 'AppleGothic' not found.\n",
            "WARNING:matplotlib.font_manager:findfont: Font family 'AppleGothic' not found.\n",
            "WARNING:matplotlib.font_manager:findfont: Font family 'AppleGothic' not found.\n",
            "WARNING:matplotlib.font_manager:findfont: Font family 'AppleGothic' not found.\n",
            "WARNING:matplotlib.font_manager:findfont: Font family 'AppleGothic' not found.\n",
            "WARNING:matplotlib.font_manager:findfont: Font family 'AppleGothic' not found.\n",
            "WARNING:matplotlib.font_manager:findfont: Font family 'AppleGothic' not found.\n",
            "WARNING:matplotlib.font_manager:findfont: Font family 'AppleGothic' not found.\n",
            "WARNING:matplotlib.font_manager:findfont: Font family 'AppleGothic' not found.\n",
            "WARNING:matplotlib.font_manager:findfont: Font family 'AppleGothic' not found.\n",
            "WARNING:matplotlib.font_manager:findfont: Font family 'AppleGothic' not found.\n",
            "WARNING:matplotlib.font_manager:findfont: Font family 'AppleGothic' not found.\n",
            "WARNING:matplotlib.font_manager:findfont: Font family 'AppleGothic' not found.\n",
            "WARNING:matplotlib.font_manager:findfont: Font family 'AppleGothic' not found.\n",
            "WARNING:matplotlib.font_manager:findfont: Font family 'AppleGothic' not found.\n",
            "WARNING:matplotlib.font_manager:findfont: Font family 'AppleGothic' not found.\n",
            "WARNING:matplotlib.font_manager:findfont: Font family 'AppleGothic' not found.\n",
            "WARNING:matplotlib.font_manager:findfont: Font family 'AppleGothic' not found.\n",
            "WARNING:matplotlib.font_manager:findfont: Font family 'AppleGothic' not found.\n",
            "WARNING:matplotlib.font_manager:findfont: Font family 'AppleGothic' not found.\n",
            "WARNING:matplotlib.font_manager:findfont: Font family 'AppleGothic' not found.\n",
            "WARNING:matplotlib.font_manager:findfont: Font family 'AppleGothic' not found.\n",
            "WARNING:matplotlib.font_manager:findfont: Font family 'AppleGothic' not found.\n",
            "WARNING:matplotlib.font_manager:findfont: Font family 'AppleGothic' not found.\n",
            "WARNING:matplotlib.font_manager:findfont: Font family 'AppleGothic' not found.\n",
            "WARNING:matplotlib.font_manager:findfont: Font family 'AppleGothic' not found.\n",
            "WARNING:matplotlib.font_manager:findfont: Font family 'AppleGothic' not found.\n",
            "WARNING:matplotlib.font_manager:findfont: Font family 'AppleGothic' not found.\n",
            "WARNING:matplotlib.font_manager:findfont: Font family 'AppleGothic' not found.\n",
            "WARNING:matplotlib.font_manager:findfont: Font family 'AppleGothic' not found.\n",
            "WARNING:matplotlib.font_manager:findfont: Font family 'AppleGothic' not found.\n",
            "WARNING:matplotlib.font_manager:findfont: Font family 'AppleGothic' not found.\n",
            "WARNING:matplotlib.font_manager:findfont: Font family 'AppleGothic' not found.\n",
            "WARNING:matplotlib.font_manager:findfont: Font family 'AppleGothic' not found.\n",
            "WARNING:matplotlib.font_manager:findfont: Font family 'AppleGothic' not found.\n",
            "WARNING:matplotlib.font_manager:findfont: Font family 'AppleGothic' not found.\n",
            "WARNING:matplotlib.font_manager:findfont: Font family 'AppleGothic' not found.\n",
            "WARNING:matplotlib.font_manager:findfont: Font family 'AppleGothic' not found.\n",
            "WARNING:matplotlib.font_manager:findfont: Font family 'AppleGothic' not found.\n",
            "WARNING:matplotlib.font_manager:findfont: Font family 'AppleGothic' not found.\n",
            "WARNING:matplotlib.font_manager:findfont: Font family 'AppleGothic' not found.\n",
            "WARNING:matplotlib.font_manager:findfont: Font family 'AppleGothic' not found.\n",
            "WARNING:matplotlib.font_manager:findfont: Font family 'AppleGothic' not found.\n",
            "WARNING:matplotlib.font_manager:findfont: Font family 'AppleGothic' not found.\n",
            "WARNING:matplotlib.font_manager:findfont: Font family 'AppleGothic' not found.\n",
            "WARNING:matplotlib.font_manager:findfont: Font family 'AppleGothic' not found.\n",
            "WARNING:matplotlib.font_manager:findfont: Font family 'AppleGothic' not found.\n",
            "WARNING:matplotlib.font_manager:findfont: Font family 'AppleGothic' not found.\n",
            "WARNING:matplotlib.font_manager:findfont: Font family 'AppleGothic' not found.\n",
            "WARNING:matplotlib.font_manager:findfont: Font family 'AppleGothic' not found.\n",
            "WARNING:matplotlib.font_manager:findfont: Font family 'AppleGothic' not found.\n",
            "WARNING:matplotlib.font_manager:findfont: Font family 'AppleGothic' not found.\n"
          ]
        },
        {
          "output_type": "display_data",
          "data": {
            "text/plain": [
              "<Figure size 1000x700 with 2 Axes>"
            ],
            "image/png": "[encoded data removed]"
          },
          "metadata": {}
        }
      ]
    },
    {
      "cell_type": "code",
      "source": [
        "from sklearn.metrics import classification_report\n",
        "\n",
        "# 클래스별 성능 지표 출력\n",
        "print(classification_report(y_val, y_val_pred))"
      ],
      "metadata": {
        "colab": {
          "base_uri": "https://localhost:8080/"
        },
        "id": "6WWm3a30f43q",
        "outputId": "6beacf85-7db7-4326-a56a-8adfe055c801"
      },
      "execution_count": 56,
      "outputs": [
        {
          "output_type": "stream",
          "name": "stdout",
          "text": [
            "              precision    recall  f1-score   support\n",
            "\n",
            "           0       0.38      0.40      0.39       758\n",
            "           1       0.62      0.60      0.61      1242\n",
            "\n",
            "    accuracy                           0.52      2000\n",
            "   macro avg       0.50      0.50      0.50      2000\n",
            "weighted avg       0.53      0.52      0.53      2000\n",
            "\n"
          ]
        }
      ]
    },
    {
      "cell_type": "code",
      "source": [],
      "metadata": {
        "id": "Fjc6jUHMgBdi"
      },
      "execution_count": null,
      "outputs": []
    }
  ]
}